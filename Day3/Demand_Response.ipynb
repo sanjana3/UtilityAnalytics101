{
  "nbformat": 4,
  "nbformat_minor": 0,
  "metadata": {
    "colab": {
      "provenance": [],
      "authorship_tag": "ABX9TyMJkj4xH4uz6tFzTlXTWPM/",
      "include_colab_link": true
    },
    "kernelspec": {
      "name": "python3",
      "display_name": "Python 3"
    },
    "language_info": {
      "name": "python"
    }
  },
  "cells": [
    {
      "cell_type": "markdown",
      "metadata": {
        "id": "view-in-github",
        "colab_type": "text"
      },
      "source": [
        "<a href=\"https://colab.research.google.com/github/blcrow/ua101/blob/main/Demand_Response.ipynb\" target=\"_parent\"><img src=\"https://colab.research.google.com/assets/colab-badge.svg\" alt=\"Open In Colab\"/></a>"
      ]
    },
    {
      "cell_type": "markdown",
      "source": [
        "# Selecting Optimal Customers for Demand Response Programs\n",
        "\n",
        "## Introduction\n",
        "\n",
        "The smart grid uses new technologies such as intelligent controllers, advanced software for data management, and two-way communications between power utilities and consumers to improve the efficiency, reliability and safety of the system [1]. This technology is providing new opportunities to advance the energy industry. Demand response (DR) programs are an example. \n",
        "\n",
        "The California PUC defines DR as \"reductions, increases, or shifts in electricity consumption by customers in response to their economic signals or reliability signals\" [[2]](https://www.cpuc.ca.gov/industries-and-topics/electrical-energy/electric-costs/demand-response-dr). Signals are typically either economic in nature (financial incentives, electricity prices) or related to electricity reliability (alerts that the grid is under stress). Recent DR trends involve encouraging customers to shift electricity consumption from hours of high demand relative to energy supply to hours where energy supply is plentiful relative to demand, known as _Time of Use_ (ToU). Customers who join DR programs effectively reduce their peak-hour consumption and increase their off-peak demand. Benefits to the utility include peak load shifting, improving generation capacity, and elimination of expensive spot market energy purchases. \n",
        "\n",
        "DR program designers need to create a customer recruitment strategy to maximize the success of the programs [1, p.50]. The growing availability of smart meter data provides utilities with the ability to segment customers based on energy usage patterns. Based on those identified segments, DR program designers can identify customers who are most likely to benefit from and opt into DR programs. This allows utilities to engage in targeted marketing, which is likely to increase positive customer response, increase customer satisfaction, and decrease utility marketing costs. "
      ],
      "metadata": {
        "id": "6QJ1XNVTOr74"
      }
    },
    {
      "cell_type": "markdown",
      "source": [
        "#### Load required libraries"
      ],
      "metadata": {
        "id": "3jFxKH5cOrkm"
      }
    },
    {
      "cell_type": "code",
      "execution_count": 1,
      "metadata": {
        "id": "ygZS66r-LNrt"
      },
      "outputs": [],
      "source": [
        "import pandas as pd\n",
        "import numpy as np\n",
        "import matplotlib.pyplot as plt\n",
        "import seaborn as sns\n",
        "\n",
        "height = 12\n",
        "width = height * 1.6\n",
        "sns.set(rc={'figure.figsize':(width, height)}, style='whitegrid', font_scale=2)"
      ]
    },
    {
      "cell_type": "markdown",
      "source": [
        "Load interval data"
      ],
      "metadata": {
        "id": "yt9WoL96QHcz"
      }
    },
    {
      "cell_type": "code",
      "source": [
        "interval = pd.read_csv('https://raw.githubusercontent.com/blcrow/ua101/main/cer_sample.csv')"
      ],
      "metadata": {
        "id": "OZIbihZjPAM7"
      },
      "execution_count": 2,
      "outputs": []
    },
    {
      "cell_type": "markdown",
      "source": [
        "View the dimensions with the `shape` attribute and the first few rows of the data with the `head()` function."
      ],
      "metadata": {
        "id": "w4tlUmhrS7cr"
      }
    },
    {
      "cell_type": "code",
      "source": [
        "# View the shape of the data (rows, cols)\n",
        "print(interval.shape)\n",
        "\n",
        "# View the first five rows of the dataset\n",
        "interval.head()"
      ],
      "metadata": {
        "colab": {
          "base_uri": "https://localhost:8080/",
          "height": 224
        },
        "id": "l-ux5UClO_Xk",
        "outputId": "f3d5c9d3-1c22-4bb2-ddab-76ace11b2d76"
      },
      "execution_count": 3,
      "outputs": [
        {
          "output_type": "stream",
          "name": "stdout",
          "text": [
            "(600384, 3)\n"
          ]
        },
        {
          "output_type": "execute_result",
          "data": {
            "text/plain": [
              "   meterId  fdCode  consumed\n",
              "0     1392   19503     0.140\n",
              "1     1392   19504     0.138\n",
              "2     1392   19505     0.140\n",
              "3     1392   19506     0.145\n",
              "4     1392   19507     0.145"
            ],
            "text/html": [
              "\n",
              "  <div id=\"df-6958d7b5-24a4-4168-8584-356ae37edc17\">\n",
              "    <div class=\"colab-df-container\">\n",
              "      <div>\n",
              "<style scoped>\n",
              "    .dataframe tbody tr th:only-of-type {\n",
              "        vertical-align: middle;\n",
              "    }\n",
              "\n",
              "    .dataframe tbody tr th {\n",
              "        vertical-align: top;\n",
              "    }\n",
              "\n",
              "    .dataframe thead th {\n",
              "        text-align: right;\n",
              "    }\n",
              "</style>\n",
              "<table border=\"1\" class=\"dataframe\">\n",
              "  <thead>\n",
              "    <tr style=\"text-align: right;\">\n",
              "      <th></th>\n",
              "      <th>meterId</th>\n",
              "      <th>fdCode</th>\n",
              "      <th>consumed</th>\n",
              "    </tr>\n",
              "  </thead>\n",
              "  <tbody>\n",
              "    <tr>\n",
              "      <th>0</th>\n",
              "      <td>1392</td>\n",
              "      <td>19503</td>\n",
              "      <td>0.140</td>\n",
              "    </tr>\n",
              "    <tr>\n",
              "      <th>1</th>\n",
              "      <td>1392</td>\n",
              "      <td>19504</td>\n",
              "      <td>0.138</td>\n",
              "    </tr>\n",
              "    <tr>\n",
              "      <th>2</th>\n",
              "      <td>1392</td>\n",
              "      <td>19505</td>\n",
              "      <td>0.140</td>\n",
              "    </tr>\n",
              "    <tr>\n",
              "      <th>3</th>\n",
              "      <td>1392</td>\n",
              "      <td>19506</td>\n",
              "      <td>0.145</td>\n",
              "    </tr>\n",
              "    <tr>\n",
              "      <th>4</th>\n",
              "      <td>1392</td>\n",
              "      <td>19507</td>\n",
              "      <td>0.145</td>\n",
              "    </tr>\n",
              "  </tbody>\n",
              "</table>\n",
              "</div>\n",
              "      <button class=\"colab-df-convert\" onclick=\"convertToInteractive('df-6958d7b5-24a4-4168-8584-356ae37edc17')\"\n",
              "              title=\"Convert this dataframe to an interactive table.\"\n",
              "              style=\"display:none;\">\n",
              "        \n",
              "  <svg xmlns=\"http://www.w3.org/2000/svg\" height=\"24px\"viewBox=\"0 0 24 24\"\n",
              "       width=\"24px\">\n",
              "    <path d=\"M0 0h24v24H0V0z\" fill=\"none\"/>\n",
              "    <path d=\"M18.56 5.44l.94 2.06.94-2.06 2.06-.94-2.06-.94-.94-2.06-.94 2.06-2.06.94zm-11 1L8.5 8.5l.94-2.06 2.06-.94-2.06-.94L8.5 2.5l-.94 2.06-2.06.94zm10 10l.94 2.06.94-2.06 2.06-.94-2.06-.94-.94-2.06-.94 2.06-2.06.94z\"/><path d=\"M17.41 7.96l-1.37-1.37c-.4-.4-.92-.59-1.43-.59-.52 0-1.04.2-1.43.59L10.3 9.45l-7.72 7.72c-.78.78-.78 2.05 0 2.83L4 21.41c.39.39.9.59 1.41.59.51 0 1.02-.2 1.41-.59l7.78-7.78 2.81-2.81c.8-.78.8-2.07 0-2.86zM5.41 20L4 18.59l7.72-7.72 1.47 1.35L5.41 20z\"/>\n",
              "  </svg>\n",
              "      </button>\n",
              "      \n",
              "  <style>\n",
              "    .colab-df-container {\n",
              "      display:flex;\n",
              "      flex-wrap:wrap;\n",
              "      gap: 12px;\n",
              "    }\n",
              "\n",
              "    .colab-df-convert {\n",
              "      background-color: #E8F0FE;\n",
              "      border: none;\n",
              "      border-radius: 50%;\n",
              "      cursor: pointer;\n",
              "      display: none;\n",
              "      fill: #1967D2;\n",
              "      height: 32px;\n",
              "      padding: 0 0 0 0;\n",
              "      width: 32px;\n",
              "    }\n",
              "\n",
              "    .colab-df-convert:hover {\n",
              "      background-color: #E2EBFA;\n",
              "      box-shadow: 0px 1px 2px rgba(60, 64, 67, 0.3), 0px 1px 3px 1px rgba(60, 64, 67, 0.15);\n",
              "      fill: #174EA6;\n",
              "    }\n",
              "\n",
              "    [theme=dark] .colab-df-convert {\n",
              "      background-color: #3B4455;\n",
              "      fill: #D2E3FC;\n",
              "    }\n",
              "\n",
              "    [theme=dark] .colab-df-convert:hover {\n",
              "      background-color: #434B5C;\n",
              "      box-shadow: 0px 1px 3px 1px rgba(0, 0, 0, 0.15);\n",
              "      filter: drop-shadow(0px 1px 2px rgba(0, 0, 0, 0.3));\n",
              "      fill: #FFFFFF;\n",
              "    }\n",
              "  </style>\n",
              "\n",
              "      <script>\n",
              "        const buttonEl =\n",
              "          document.querySelector('#df-6958d7b5-24a4-4168-8584-356ae37edc17 button.colab-df-convert');\n",
              "        buttonEl.style.display =\n",
              "          google.colab.kernel.accessAllowed ? 'block' : 'none';\n",
              "\n",
              "        async function convertToInteractive(key) {\n",
              "          const element = document.querySelector('#df-6958d7b5-24a4-4168-8584-356ae37edc17');\n",
              "          const dataTable =\n",
              "            await google.colab.kernel.invokeFunction('convertToInteractive',\n",
              "                                                     [key], {});\n",
              "          if (!dataTable) return;\n",
              "\n",
              "          const docLinkHtml = 'Like what you see? Visit the ' +\n",
              "            '<a target=\"_blank\" href=https://colab.research.google.com/notebooks/data_table.ipynb>data table notebook</a>'\n",
              "            + ' to learn more about interactive tables.';\n",
              "          element.innerHTML = '';\n",
              "          dataTable['output_type'] = 'display_data';\n",
              "          await google.colab.output.renderOutput(dataTable, element);\n",
              "          const docLink = document.createElement('div');\n",
              "          docLink.innerHTML = docLinkHtml;\n",
              "          element.appendChild(docLink);\n",
              "        }\n",
              "      </script>\n",
              "    </div>\n",
              "  </div>\n",
              "  "
            ]
          },
          "metadata": {},
          "execution_count": 3
        }
      ]
    },
    {
      "cell_type": "markdown",
      "source": [
        "View the number of unique meter IDs"
      ],
      "metadata": {
        "id": "qI5av6A8Tztv"
      }
    },
    {
      "cell_type": "code",
      "source": [
        "interval.meterId.nunique()"
      ],
      "metadata": {
        "colab": {
          "base_uri": "https://localhost:8080/"
        },
        "id": "x0AOMvIGTNyw",
        "outputId": "150e22be-615a-43d3-e5e0-1de89657a2fc"
      },
      "execution_count": 4,
      "outputs": [
        {
          "output_type": "execute_result",
          "data": {
            "text/plain": [
              "25"
            ]
          },
          "metadata": {},
          "execution_count": 4
        }
      ]
    },
    {
      "cell_type": "markdown",
      "source": [
        "**Note** the format of the data: \n",
        "* 600,384 rows by three columns\n",
        "* 25 unique meters included\n",
        "* Electricity consumed during 30-minute interval (in kWh)\n",
        "* Date/time given by the following code:\n",
        "    - Day code: digits 1-3 (day 1 = 1st January 2009)\n",
        "    - Time code: digits 4-5 (1-48 for each 30 minutes with 1 = 00:00:00 - 00:29:59)"
      ],
      "metadata": {
        "id": "oedg010QUe2Q"
      }
    },
    {
      "cell_type": "markdown",
      "source": [
        "### Preprocessing\n",
        "\n",
        "The time code value is difficult to work with. Extract `dayCode`, `timeCode` to facilitate analysis."
      ],
      "metadata": {
        "id": "TN1LEHJIUjti"
      }
    },
    {
      "cell_type": "code",
      "source": [
        "# Get the first three digits of fdCode as 'dayCode'\n",
        "interval['dayCode'] = interval.fdCode // 100 # the first three digits represents the day, beginning Jan. 1, 2009"
      ],
      "metadata": {
        "id": "b3mVhhQeTNwJ"
      },
      "execution_count": 5,
      "outputs": []
    },
    {
      "cell_type": "code",
      "source": [
        "# Get the last two digits in fdCode as 'timeCode'\n",
        "interval['timeCode'] = abs(interval.fdCode) % 100# returns the interval (1-48)"
      ],
      "metadata": {
        "id": "Kf8gLknwTNuD"
      },
      "execution_count": 6,
      "outputs": []
    },
    {
      "cell_type": "code",
      "source": [
        "# The three lines that follow create a new timestamp object for each record\n",
        "interval['date'] = pd.to_datetime(interval.dayCode, unit='D', origin=pd.Timestamp('01-01-2009')) # creates a date object corresponding to dayCode values\n",
        "interval['intervalEnding'] = interval['timeCode'] * pd.Timedelta(30, unit='min') # creates a timedelta object corresponding to timeCode values\n",
        "interval['timestamp'] = interval['date'] + interval['intervalEnding'] # combines `date` and `intervalEnding` columns to create a timestamp value"
      ],
      "metadata": {
        "id": "1QAGpz23TNme"
      },
      "execution_count": 7,
      "outputs": []
    },
    {
      "cell_type": "code",
      "source": [
        "# timeCode, date, and interval_ending are not required for future analysis\n",
        "interval.drop(['date', 'intervalEnding'], axis=1, inplace=True)"
      ],
      "metadata": {
        "id": "zN1mqmQFVe07"
      },
      "execution_count": 8,
      "outputs": []
    },
    {
      "cell_type": "code",
      "source": [
        "interval.head()"
      ],
      "metadata": {
        "colab": {
          "base_uri": "https://localhost:8080/",
          "height": 206
        },
        "id": "_fRGobTOVjW9",
        "outputId": "9ab5fe4c-e704-45ea-ccb7-c977064fc725"
      },
      "execution_count": 9,
      "outputs": [
        {
          "output_type": "execute_result",
          "data": {
            "text/plain": [
              "   meterId  fdCode  consumed  dayCode  timeCode           timestamp\n",
              "0     1392   19503     0.140      195         3 2009-07-15 01:30:00\n",
              "1     1392   19504     0.138      195         4 2009-07-15 02:00:00\n",
              "2     1392   19505     0.140      195         5 2009-07-15 02:30:00\n",
              "3     1392   19506     0.145      195         6 2009-07-15 03:00:00\n",
              "4     1392   19507     0.145      195         7 2009-07-15 03:30:00"
            ],
            "text/html": [
              "\n",
              "  <div id=\"df-6f73bf27-82bd-4d53-a9b4-89b372cc4b74\">\n",
              "    <div class=\"colab-df-container\">\n",
              "      <div>\n",
              "<style scoped>\n",
              "    .dataframe tbody tr th:only-of-type {\n",
              "        vertical-align: middle;\n",
              "    }\n",
              "\n",
              "    .dataframe tbody tr th {\n",
              "        vertical-align: top;\n",
              "    }\n",
              "\n",
              "    .dataframe thead th {\n",
              "        text-align: right;\n",
              "    }\n",
              "</style>\n",
              "<table border=\"1\" class=\"dataframe\">\n",
              "  <thead>\n",
              "    <tr style=\"text-align: right;\">\n",
              "      <th></th>\n",
              "      <th>meterId</th>\n",
              "      <th>fdCode</th>\n",
              "      <th>consumed</th>\n",
              "      <th>dayCode</th>\n",
              "      <th>timeCode</th>\n",
              "      <th>timestamp</th>\n",
              "    </tr>\n",
              "  </thead>\n",
              "  <tbody>\n",
              "    <tr>\n",
              "      <th>0</th>\n",
              "      <td>1392</td>\n",
              "      <td>19503</td>\n",
              "      <td>0.140</td>\n",
              "      <td>195</td>\n",
              "      <td>3</td>\n",
              "      <td>2009-07-15 01:30:00</td>\n",
              "    </tr>\n",
              "    <tr>\n",
              "      <th>1</th>\n",
              "      <td>1392</td>\n",
              "      <td>19504</td>\n",
              "      <td>0.138</td>\n",
              "      <td>195</td>\n",
              "      <td>4</td>\n",
              "      <td>2009-07-15 02:00:00</td>\n",
              "    </tr>\n",
              "    <tr>\n",
              "      <th>2</th>\n",
              "      <td>1392</td>\n",
              "      <td>19505</td>\n",
              "      <td>0.140</td>\n",
              "      <td>195</td>\n",
              "      <td>5</td>\n",
              "      <td>2009-07-15 02:30:00</td>\n",
              "    </tr>\n",
              "    <tr>\n",
              "      <th>3</th>\n",
              "      <td>1392</td>\n",
              "      <td>19506</td>\n",
              "      <td>0.145</td>\n",
              "      <td>195</td>\n",
              "      <td>6</td>\n",
              "      <td>2009-07-15 03:00:00</td>\n",
              "    </tr>\n",
              "    <tr>\n",
              "      <th>4</th>\n",
              "      <td>1392</td>\n",
              "      <td>19507</td>\n",
              "      <td>0.145</td>\n",
              "      <td>195</td>\n",
              "      <td>7</td>\n",
              "      <td>2009-07-15 03:30:00</td>\n",
              "    </tr>\n",
              "  </tbody>\n",
              "</table>\n",
              "</div>\n",
              "      <button class=\"colab-df-convert\" onclick=\"convertToInteractive('df-6f73bf27-82bd-4d53-a9b4-89b372cc4b74')\"\n",
              "              title=\"Convert this dataframe to an interactive table.\"\n",
              "              style=\"display:none;\">\n",
              "        \n",
              "  <svg xmlns=\"http://www.w3.org/2000/svg\" height=\"24px\"viewBox=\"0 0 24 24\"\n",
              "       width=\"24px\">\n",
              "    <path d=\"M0 0h24v24H0V0z\" fill=\"none\"/>\n",
              "    <path d=\"M18.56 5.44l.94 2.06.94-2.06 2.06-.94-2.06-.94-.94-2.06-.94 2.06-2.06.94zm-11 1L8.5 8.5l.94-2.06 2.06-.94-2.06-.94L8.5 2.5l-.94 2.06-2.06.94zm10 10l.94 2.06.94-2.06 2.06-.94-2.06-.94-.94-2.06-.94 2.06-2.06.94z\"/><path d=\"M17.41 7.96l-1.37-1.37c-.4-.4-.92-.59-1.43-.59-.52 0-1.04.2-1.43.59L10.3 9.45l-7.72 7.72c-.78.78-.78 2.05 0 2.83L4 21.41c.39.39.9.59 1.41.59.51 0 1.02-.2 1.41-.59l7.78-7.78 2.81-2.81c.8-.78.8-2.07 0-2.86zM5.41 20L4 18.59l7.72-7.72 1.47 1.35L5.41 20z\"/>\n",
              "  </svg>\n",
              "      </button>\n",
              "      \n",
              "  <style>\n",
              "    .colab-df-container {\n",
              "      display:flex;\n",
              "      flex-wrap:wrap;\n",
              "      gap: 12px;\n",
              "    }\n",
              "\n",
              "    .colab-df-convert {\n",
              "      background-color: #E8F0FE;\n",
              "      border: none;\n",
              "      border-radius: 50%;\n",
              "      cursor: pointer;\n",
              "      display: none;\n",
              "      fill: #1967D2;\n",
              "      height: 32px;\n",
              "      padding: 0 0 0 0;\n",
              "      width: 32px;\n",
              "    }\n",
              "\n",
              "    .colab-df-convert:hover {\n",
              "      background-color: #E2EBFA;\n",
              "      box-shadow: 0px 1px 2px rgba(60, 64, 67, 0.3), 0px 1px 3px 1px rgba(60, 64, 67, 0.15);\n",
              "      fill: #174EA6;\n",
              "    }\n",
              "\n",
              "    [theme=dark] .colab-df-convert {\n",
              "      background-color: #3B4455;\n",
              "      fill: #D2E3FC;\n",
              "    }\n",
              "\n",
              "    [theme=dark] .colab-df-convert:hover {\n",
              "      background-color: #434B5C;\n",
              "      box-shadow: 0px 1px 3px 1px rgba(0, 0, 0, 0.15);\n",
              "      filter: drop-shadow(0px 1px 2px rgba(0, 0, 0, 0.3));\n",
              "      fill: #FFFFFF;\n",
              "    }\n",
              "  </style>\n",
              "\n",
              "      <script>\n",
              "        const buttonEl =\n",
              "          document.querySelector('#df-6f73bf27-82bd-4d53-a9b4-89b372cc4b74 button.colab-df-convert');\n",
              "        buttonEl.style.display =\n",
              "          google.colab.kernel.accessAllowed ? 'block' : 'none';\n",
              "\n",
              "        async function convertToInteractive(key) {\n",
              "          const element = document.querySelector('#df-6f73bf27-82bd-4d53-a9b4-89b372cc4b74');\n",
              "          const dataTable =\n",
              "            await google.colab.kernel.invokeFunction('convertToInteractive',\n",
              "                                                     [key], {});\n",
              "          if (!dataTable) return;\n",
              "\n",
              "          const docLinkHtml = 'Like what you see? Visit the ' +\n",
              "            '<a target=\"_blank\" href=https://colab.research.google.com/notebooks/data_table.ipynb>data table notebook</a>'\n",
              "            + ' to learn more about interactive tables.';\n",
              "          element.innerHTML = '';\n",
              "          dataTable['output_type'] = 'display_data';\n",
              "          await google.colab.output.renderOutput(dataTable, element);\n",
              "          const docLink = document.createElement('div');\n",
              "          docLink.innerHTML = docLinkHtml;\n",
              "          element.appendChild(docLink);\n",
              "        }\n",
              "      </script>\n",
              "    </div>\n",
              "  </div>\n",
              "  "
            ]
          },
          "metadata": {},
          "execution_count": 9
        }
      ]
    },
    {
      "cell_type": "markdown",
      "source": [
        "The `pandas.info()` function provides some information about the dataset:\n",
        "\n",
        "* The number of rows and columns, as discussed above\n",
        "* Data types for each column (used for data validation)\n",
        "* No values flagged as missing (`NaN`)\n",
        "* Total memory used: 32.1 MB"
      ],
      "metadata": {
        "id": "lsEtbORaWJfC"
      }
    },
    {
      "cell_type": "code",
      "source": [
        "interval.info()"
      ],
      "metadata": {
        "colab": {
          "base_uri": "https://localhost:8080/"
        },
        "id": "mzdOzSgkWKqa",
        "outputId": "a336b7d8-ff7b-4aba-c4a9-fd759c1f7d86"
      },
      "execution_count": 10,
      "outputs": [
        {
          "output_type": "stream",
          "name": "stdout",
          "text": [
            "<class 'pandas.core.frame.DataFrame'>\n",
            "RangeIndex: 600384 entries, 0 to 600383\n",
            "Data columns (total 6 columns):\n",
            " #   Column     Non-Null Count   Dtype         \n",
            "---  ------     --------------   -----         \n",
            " 0   meterId    600384 non-null  int64         \n",
            " 1   fdCode     600384 non-null  int64         \n",
            " 2   consumed   600384 non-null  float64       \n",
            " 3   dayCode    600384 non-null  int64         \n",
            " 4   timeCode   600384 non-null  int64         \n",
            " 5   timestamp  600384 non-null  datetime64[ns]\n",
            "dtypes: datetime64[ns](1), float64(1), int64(4)\n",
            "memory usage: 27.5 MB\n"
          ]
        }
      ]
    },
    {
      "cell_type": "markdown",
      "source": [
        "First, recall the EDA process generally...\n",
        "\n",
        "\n",
        "\n",
        "### Exploratory Data Analysis\n",
        "**Purpose**: EDA is an important part of any data analysis in that it allows further data understanding.\n",
        " - Do the data meet your expectations?\n",
        " - Data cleaning\n",
        " \n",
        "**Process**: \n",
        "1. Generate questions about the data\n",
        "2. Search for answers by visualizing and transforming the data\n",
        "3. Through your findings, continue to refine your questions and generate new ones\n",
        "\n",
        "**Look for**:\n",
        " - Variation within variables\n",
        " - Covariation between variables\n",
        " \n",
        "#### Quesions\n",
        "What kind of features do we have?\n",
        " - Scale, type, domain...\n",
        "\n",
        "How is the data quality\n",
        " - Relevant, trustworthy?\n",
        " - Missing values, outliers, cardinality?"
      ],
      "metadata": {
        "id": "DUWjBVAbO75Y"
      }
    },
    {
      "cell_type": "markdown",
      "source": [
        "#### View the descriptive statistics for quantitative variables with `describe()`"
      ],
      "metadata": {
        "id": "GbAx_ZzVWq12"
      }
    },
    {
      "cell_type": "code",
      "source": [
        "interval.describe()"
      ],
      "metadata": {
        "colab": {
          "base_uri": "https://localhost:8080/",
          "height": 300
        },
        "id": "J9vk0Dh5PJC_",
        "outputId": "0d53b606-cc6f-4f25-849b-b1ed137a57c0"
      },
      "execution_count": 11,
      "outputs": [
        {
          "output_type": "execute_result",
          "data": {
            "text/plain": [
              "             meterId         fdCode       consumed        dayCode  \\\n",
              "count  600384.000000  600384.000000  600384.000000  600384.000000   \n",
              "mean     1553.660937   45820.212014       0.523003     457.957064   \n",
              "std       291.323693   15550.516624       0.776142     155.505100   \n",
              "min      1042.000000   19501.000000       0.000000     195.000000   \n",
              "25%      1334.000000   32138.750000       0.120000     321.000000   \n",
              "50%      1529.000000   45711.000000       0.224000     457.000000   \n",
              "75%      1804.000000   59317.000000       0.555000     593.000000   \n",
              "max      1984.000000   73048.000000      10.478000     730.000000   \n",
              "\n",
              "           timeCode  \n",
              "count  600384.00000  \n",
              "mean       24.50560  \n",
              "std        13.85505  \n",
              "min         1.00000  \n",
              "25%        13.00000  \n",
              "50%        25.00000  \n",
              "75%        37.00000  \n",
              "max        50.00000  "
            ],
            "text/html": [
              "\n",
              "  <div id=\"df-6268fdfe-e857-426c-84a9-b9654c4e7174\">\n",
              "    <div class=\"colab-df-container\">\n",
              "      <div>\n",
              "<style scoped>\n",
              "    .dataframe tbody tr th:only-of-type {\n",
              "        vertical-align: middle;\n",
              "    }\n",
              "\n",
              "    .dataframe tbody tr th {\n",
              "        vertical-align: top;\n",
              "    }\n",
              "\n",
              "    .dataframe thead th {\n",
              "        text-align: right;\n",
              "    }\n",
              "</style>\n",
              "<table border=\"1\" class=\"dataframe\">\n",
              "  <thead>\n",
              "    <tr style=\"text-align: right;\">\n",
              "      <th></th>\n",
              "      <th>meterId</th>\n",
              "      <th>fdCode</th>\n",
              "      <th>consumed</th>\n",
              "      <th>dayCode</th>\n",
              "      <th>timeCode</th>\n",
              "    </tr>\n",
              "  </thead>\n",
              "  <tbody>\n",
              "    <tr>\n",
              "      <th>count</th>\n",
              "      <td>600384.000000</td>\n",
              "      <td>600384.000000</td>\n",
              "      <td>600384.000000</td>\n",
              "      <td>600384.000000</td>\n",
              "      <td>600384.00000</td>\n",
              "    </tr>\n",
              "    <tr>\n",
              "      <th>mean</th>\n",
              "      <td>1553.660937</td>\n",
              "      <td>45820.212014</td>\n",
              "      <td>0.523003</td>\n",
              "      <td>457.957064</td>\n",
              "      <td>24.50560</td>\n",
              "    </tr>\n",
              "    <tr>\n",
              "      <th>std</th>\n",
              "      <td>291.323693</td>\n",
              "      <td>15550.516624</td>\n",
              "      <td>0.776142</td>\n",
              "      <td>155.505100</td>\n",
              "      <td>13.85505</td>\n",
              "    </tr>\n",
              "    <tr>\n",
              "      <th>min</th>\n",
              "      <td>1042.000000</td>\n",
              "      <td>19501.000000</td>\n",
              "      <td>0.000000</td>\n",
              "      <td>195.000000</td>\n",
              "      <td>1.00000</td>\n",
              "    </tr>\n",
              "    <tr>\n",
              "      <th>25%</th>\n",
              "      <td>1334.000000</td>\n",
              "      <td>32138.750000</td>\n",
              "      <td>0.120000</td>\n",
              "      <td>321.000000</td>\n",
              "      <td>13.00000</td>\n",
              "    </tr>\n",
              "    <tr>\n",
              "      <th>50%</th>\n",
              "      <td>1529.000000</td>\n",
              "      <td>45711.000000</td>\n",
              "      <td>0.224000</td>\n",
              "      <td>457.000000</td>\n",
              "      <td>25.00000</td>\n",
              "    </tr>\n",
              "    <tr>\n",
              "      <th>75%</th>\n",
              "      <td>1804.000000</td>\n",
              "      <td>59317.000000</td>\n",
              "      <td>0.555000</td>\n",
              "      <td>593.000000</td>\n",
              "      <td>37.00000</td>\n",
              "    </tr>\n",
              "    <tr>\n",
              "      <th>max</th>\n",
              "      <td>1984.000000</td>\n",
              "      <td>73048.000000</td>\n",
              "      <td>10.478000</td>\n",
              "      <td>730.000000</td>\n",
              "      <td>50.00000</td>\n",
              "    </tr>\n",
              "  </tbody>\n",
              "</table>\n",
              "</div>\n",
              "      <button class=\"colab-df-convert\" onclick=\"convertToInteractive('df-6268fdfe-e857-426c-84a9-b9654c4e7174')\"\n",
              "              title=\"Convert this dataframe to an interactive table.\"\n",
              "              style=\"display:none;\">\n",
              "        \n",
              "  <svg xmlns=\"http://www.w3.org/2000/svg\" height=\"24px\"viewBox=\"0 0 24 24\"\n",
              "       width=\"24px\">\n",
              "    <path d=\"M0 0h24v24H0V0z\" fill=\"none\"/>\n",
              "    <path d=\"M18.56 5.44l.94 2.06.94-2.06 2.06-.94-2.06-.94-.94-2.06-.94 2.06-2.06.94zm-11 1L8.5 8.5l.94-2.06 2.06-.94-2.06-.94L8.5 2.5l-.94 2.06-2.06.94zm10 10l.94 2.06.94-2.06 2.06-.94-2.06-.94-.94-2.06-.94 2.06-2.06.94z\"/><path d=\"M17.41 7.96l-1.37-1.37c-.4-.4-.92-.59-1.43-.59-.52 0-1.04.2-1.43.59L10.3 9.45l-7.72 7.72c-.78.78-.78 2.05 0 2.83L4 21.41c.39.39.9.59 1.41.59.51 0 1.02-.2 1.41-.59l7.78-7.78 2.81-2.81c.8-.78.8-2.07 0-2.86zM5.41 20L4 18.59l7.72-7.72 1.47 1.35L5.41 20z\"/>\n",
              "  </svg>\n",
              "      </button>\n",
              "      \n",
              "  <style>\n",
              "    .colab-df-container {\n",
              "      display:flex;\n",
              "      flex-wrap:wrap;\n",
              "      gap: 12px;\n",
              "    }\n",
              "\n",
              "    .colab-df-convert {\n",
              "      background-color: #E8F0FE;\n",
              "      border: none;\n",
              "      border-radius: 50%;\n",
              "      cursor: pointer;\n",
              "      display: none;\n",
              "      fill: #1967D2;\n",
              "      height: 32px;\n",
              "      padding: 0 0 0 0;\n",
              "      width: 32px;\n",
              "    }\n",
              "\n",
              "    .colab-df-convert:hover {\n",
              "      background-color: #E2EBFA;\n",
              "      box-shadow: 0px 1px 2px rgba(60, 64, 67, 0.3), 0px 1px 3px 1px rgba(60, 64, 67, 0.15);\n",
              "      fill: #174EA6;\n",
              "    }\n",
              "\n",
              "    [theme=dark] .colab-df-convert {\n",
              "      background-color: #3B4455;\n",
              "      fill: #D2E3FC;\n",
              "    }\n",
              "\n",
              "    [theme=dark] .colab-df-convert:hover {\n",
              "      background-color: #434B5C;\n",
              "      box-shadow: 0px 1px 3px 1px rgba(0, 0, 0, 0.15);\n",
              "      filter: drop-shadow(0px 1px 2px rgba(0, 0, 0, 0.3));\n",
              "      fill: #FFFFFF;\n",
              "    }\n",
              "  </style>\n",
              "\n",
              "      <script>\n",
              "        const buttonEl =\n",
              "          document.querySelector('#df-6268fdfe-e857-426c-84a9-b9654c4e7174 button.colab-df-convert');\n",
              "        buttonEl.style.display =\n",
              "          google.colab.kernel.accessAllowed ? 'block' : 'none';\n",
              "\n",
              "        async function convertToInteractive(key) {\n",
              "          const element = document.querySelector('#df-6268fdfe-e857-426c-84a9-b9654c4e7174');\n",
              "          const dataTable =\n",
              "            await google.colab.kernel.invokeFunction('convertToInteractive',\n",
              "                                                     [key], {});\n",
              "          if (!dataTable) return;\n",
              "\n",
              "          const docLinkHtml = 'Like what you see? Visit the ' +\n",
              "            '<a target=\"_blank\" href=https://colab.research.google.com/notebooks/data_table.ipynb>data table notebook</a>'\n",
              "            + ' to learn more about interactive tables.';\n",
              "          element.innerHTML = '';\n",
              "          dataTable['output_type'] = 'display_data';\n",
              "          await google.colab.output.renderOutput(dataTable, element);\n",
              "          const docLink = document.createElement('div');\n",
              "          docLink.innerHTML = docLinkHtml;\n",
              "          element.appendChild(docLink);\n",
              "        }\n",
              "      </script>\n",
              "    </div>\n",
              "  </div>\n",
              "  "
            ]
          },
          "metadata": {},
          "execution_count": 11
        }
      ]
    },
    {
      "cell_type": "code",
      "source": [
        "interval = interval[interval.timeCode<=48] # ISSDA unsure how values greater than 48 occurred; removed\n",
        "# https://www.ucd.ie/issda/data/commissionforenergyregulationcer/frequentlyaskedquestions/"
      ],
      "metadata": {
        "id": "qIDfCPcMrxwa"
      },
      "execution_count": 12,
      "outputs": []
    },
    {
      "cell_type": "markdown",
      "source": [
        "Note the following from the descriptive statistics about the main dataset:\n",
        "\n",
        "* Mean usage of 0.7057 kWh and median usage of 0.2760 kWh. The usage data is likely skewed by larger values. \n",
        "* Minimum usage value of 0 kWh; were there periods of no usage from some individuals? Do we have bad data? Perhaps something to explore further.\n",
        "* Maximum usage value of 66.8150 kWh, substantially larger than the average values (which are less than one kWh). \n",
        "* Interval values greater than 48 are included in this dataset."
      ],
      "metadata": {
        "id": "ac8J27X6W1Cq"
      }
    },
    {
      "cell_type": "markdown",
      "source": [
        "#### View the distribution of consumption with histogram and boxplot"
      ],
      "metadata": {
        "id": "4j50K6__XGOm"
      }
    },
    {
      "cell_type": "code",
      "source": [
        "%%time\n",
        "sns.histplot(data=interval, x='consumed')\n",
        "plt.show()"
      ],
      "metadata": {
        "colab": {
          "base_uri": "https://localhost:8080/",
          "height": 776
        },
        "id": "lxdtiFq-PI3Y",
        "outputId": "a3fd8a1d-ce18-48f1-e411-a94eb53a280a"
      },
      "execution_count": 13,
      "outputs": [
        {
          "output_type": "display_data",
          "data": {
            "text/plain": [
              "<Figure size 1382.4x864 with 1 Axes>"
            ],
            "image/png": "[encoded data removed]"
          },
          "metadata": {}
        },
        {
          "output_type": "stream",
          "name": "stdout",
          "text": [
            "CPU times: user 3.26 s, sys: 64.3 ms, total: 3.32 s\n",
            "Wall time: 4.68 s\n"
          ]
        }
      ]
    },
    {
      "cell_type": "markdown",
      "source": [
        "Histogram indicates that nearly all values are at or near zero, but at least a small number of usage values exist greater than four kWh. The main dataset has some consumption values greater than 60."
      ],
      "metadata": {
        "id": "ojUaawGQXgtv"
      }
    },
    {
      "cell_type": "code",
      "source": [
        "%%time\n",
        "sns.boxplot(data=interval, x='consumed')"
      ],
      "metadata": {
        "colab": {
          "base_uri": "https://localhost:8080/",
          "height": 793
        },
        "id": "qPovCh0_Xc6c",
        "outputId": "d4edd597-cc1c-4847-c701-d1b0c8038578"
      },
      "execution_count": 14,
      "outputs": [
        {
          "output_type": "stream",
          "name": "stdout",
          "text": [
            "CPU times: user 234 ms, sys: 6.19 ms, total: 240 ms\n",
            "Wall time: 286 ms\n"
          ]
        },
        {
          "output_type": "execute_result",
          "data": {
            "text/plain": [
              "<matplotlib.axes._subplots.AxesSubplot at 0x7f6aac531d50>"
            ]
          },
          "metadata": {},
          "execution_count": 14
        },
        {
          "output_type": "display_data",
          "data": {
            "text/plain": [
              "<Figure size 1382.4x864 with 1 Axes>"
            ],
            "image/png": "[encoded data removed]"
          },
          "metadata": {}
        }
      ]
    },
    {
      "cell_type": "markdown",
      "source": [
        "We know that the data set includes both residential and commercial customers. Let's view the distribution with the outliers removed. Outliers here defined as records with `usage` > 1.5 * the interquartile range."
      ],
      "metadata": {
        "id": "JPI2SG1wX4_1"
      }
    },
    {
      "cell_type": "code",
      "source": [
        "%%time\n",
        "\n",
        "quantiles = interval['consumed'].quantile([0.25, 0.75])\n",
        "q1 = quantiles.values[0]\n",
        "q3 = quantiles.values[1]\n",
        "iqr = q3 - q1\n",
        "\n",
        "sns.histplot(data=interval[interval.consumed <= (q3 + 1.5*iqr)], x='consumed', bins=50, stat='frequency')\n",
        "plt.show()"
      ],
      "metadata": {
        "colab": {
          "base_uri": "https://localhost:8080/",
          "height": 795
        },
        "id": "1vk4a90DX4Ka",
        "outputId": "d4576cb6-4854-44a4-d1bc-b9d1e445925d"
      },
      "execution_count": 15,
      "outputs": [
        {
          "output_type": "display_data",
          "data": {
            "text/plain": [
              "<Figure size 1382.4x864 with 1 Axes>"
            ],
            "image/png": "[encoded data removed]"
          },
          "metadata": {}
        },
        {
          "output_type": "stream",
          "name": "stdout",
          "text": [
            "CPU times: user 828 ms, sys: 27 ms, total: 855 ms\n",
            "Wall time: 1.26 s\n"
          ]
        }
      ]
    },
    {
      "cell_type": "markdown",
      "source": [
        "How many observations contain `consumed == 0`?"
      ],
      "metadata": {
        "id": "1guTaTb9YI5h"
      }
    },
    {
      "cell_type": "code",
      "source": [
        "interval[interval.consumed==0]"
      ],
      "metadata": {
        "colab": {
          "base_uri": "https://localhost:8080/",
          "height": 424
        },
        "id": "uYao9dMtYRJZ",
        "outputId": "19955098-b45a-41f1-82c4-b1a07ebfb21e"
      },
      "execution_count": 16,
      "outputs": [
        {
          "output_type": "execute_result",
          "data": {
            "text/plain": [
              "        meterId  fdCode  consumed  dayCode  timeCode           timestamp\n",
              "6064       1524   19535       0.0      195        35 2009-07-15 17:30:00\n",
              "6075       1524   19546       0.0      195        46 2009-07-15 23:00:00\n",
              "6083       1524   19606       0.0      196         6 2009-07-16 03:00:00\n",
              "6088       1524   19611       0.0      196        11 2009-07-16 05:30:00\n",
              "6093       1524   19616       0.0      196        16 2009-07-16 08:00:00\n",
              "...         ...     ...       ...      ...       ...                 ...\n",
              "599227     1524   73044       0.0      730        44 2011-01-01 22:00:00\n",
              "599228     1524   73045       0.0      730        45 2011-01-01 22:30:00\n",
              "599229     1524   73046       0.0      730        46 2011-01-01 23:00:00\n",
              "599230     1524   73047       0.0      730        47 2011-01-01 23:30:00\n",
              "599231     1524   73048       0.0      730        48 2011-01-02 00:00:00\n",
              "\n",
              "[6427 rows x 6 columns]"
            ],
            "text/html": [
              "\n",
              "  <div id=\"df-5723d895-32cc-4750-aeab-9ad100a8aa79\">\n",
              "    <div class=\"colab-df-container\">\n",
              "      <div>\n",
              "<style scoped>\n",
              "    .dataframe tbody tr th:only-of-type {\n",
              "        vertical-align: middle;\n",
              "    }\n",
              "\n",
              "    .dataframe tbody tr th {\n",
              "        vertical-align: top;\n",
              "    }\n",
              "\n",
              "    .dataframe thead th {\n",
              "        text-align: right;\n",
              "    }\n",
              "</style>\n",
              "<table border=\"1\" class=\"dataframe\">\n",
              "  <thead>\n",
              "    <tr style=\"text-align: right;\">\n",
              "      <th></th>\n",
              "      <th>meterId</th>\n",
              "      <th>fdCode</th>\n",
              "      <th>consumed</th>\n",
              "      <th>dayCode</th>\n",
              "      <th>timeCode</th>\n",
              "      <th>timestamp</th>\n",
              "    </tr>\n",
              "  </thead>\n",
              "  <tbody>\n",
              "    <tr>\n",
              "      <th>6064</th>\n",
              "      <td>1524</td>\n",
              "      <td>19535</td>\n",
              "      <td>0.0</td>\n",
              "      <td>195</td>\n",
              "      <td>35</td>\n",
              "      <td>2009-07-15 17:30:00</td>\n",
              "    </tr>\n",
              "    <tr>\n",
              "      <th>6075</th>\n",
              "      <td>1524</td>\n",
              "      <td>19546</td>\n",
              "      <td>0.0</td>\n",
              "      <td>195</td>\n",
              "      <td>46</td>\n",
              "      <td>2009-07-15 23:00:00</td>\n",
              "    </tr>\n",
              "    <tr>\n",
              "      <th>6083</th>\n",
              "      <td>1524</td>\n",
              "      <td>19606</td>\n",
              "      <td>0.0</td>\n",
              "      <td>196</td>\n",
              "      <td>6</td>\n",
              "      <td>2009-07-16 03:00:00</td>\n",
              "    </tr>\n",
              "    <tr>\n",
              "      <th>6088</th>\n",
              "      <td>1524</td>\n",
              "      <td>19611</td>\n",
              "      <td>0.0</td>\n",
              "      <td>196</td>\n",
              "      <td>11</td>\n",
              "      <td>2009-07-16 05:30:00</td>\n",
              "    </tr>\n",
              "    <tr>\n",
              "      <th>6093</th>\n",
              "      <td>1524</td>\n",
              "      <td>19616</td>\n",
              "      <td>0.0</td>\n",
              "      <td>196</td>\n",
              "      <td>16</td>\n",
              "      <td>2009-07-16 08:00:00</td>\n",
              "    </tr>\n",
              "    <tr>\n",
              "      <th>...</th>\n",
              "      <td>...</td>\n",
              "      <td>...</td>\n",
              "      <td>...</td>\n",
              "      <td>...</td>\n",
              "      <td>...</td>\n",
              "      <td>...</td>\n",
              "    </tr>\n",
              "    <tr>\n",
              "      <th>599227</th>\n",
              "      <td>1524</td>\n",
              "      <td>73044</td>\n",
              "      <td>0.0</td>\n",
              "      <td>730</td>\n",
              "      <td>44</td>\n",
              "      <td>2011-01-01 22:00:00</td>\n",
              "    </tr>\n",
              "    <tr>\n",
              "      <th>599228</th>\n",
              "      <td>1524</td>\n",
              "      <td>73045</td>\n",
              "      <td>0.0</td>\n",
              "      <td>730</td>\n",
              "      <td>45</td>\n",
              "      <td>2011-01-01 22:30:00</td>\n",
              "    </tr>\n",
              "    <tr>\n",
              "      <th>599229</th>\n",
              "      <td>1524</td>\n",
              "      <td>73046</td>\n",
              "      <td>0.0</td>\n",
              "      <td>730</td>\n",
              "      <td>46</td>\n",
              "      <td>2011-01-01 23:00:00</td>\n",
              "    </tr>\n",
              "    <tr>\n",
              "      <th>599230</th>\n",
              "      <td>1524</td>\n",
              "      <td>73047</td>\n",
              "      <td>0.0</td>\n",
              "      <td>730</td>\n",
              "      <td>47</td>\n",
              "      <td>2011-01-01 23:30:00</td>\n",
              "    </tr>\n",
              "    <tr>\n",
              "      <th>599231</th>\n",
              "      <td>1524</td>\n",
              "      <td>73048</td>\n",
              "      <td>0.0</td>\n",
              "      <td>730</td>\n",
              "      <td>48</td>\n",
              "      <td>2011-01-02 00:00:00</td>\n",
              "    </tr>\n",
              "  </tbody>\n",
              "</table>\n",
              "<p>6427 rows × 6 columns</p>\n",
              "</div>\n",
              "      <button class=\"colab-df-convert\" onclick=\"convertToInteractive('df-5723d895-32cc-4750-aeab-9ad100a8aa79')\"\n",
              "              title=\"Convert this dataframe to an interactive table.\"\n",
              "              style=\"display:none;\">\n",
              "        \n",
              "  <svg xmlns=\"http://www.w3.org/2000/svg\" height=\"24px\"viewBox=\"0 0 24 24\"\n",
              "       width=\"24px\">\n",
              "    <path d=\"M0 0h24v24H0V0z\" fill=\"none\"/>\n",
              "    <path d=\"M18.56 5.44l.94 2.06.94-2.06 2.06-.94-2.06-.94-.94-2.06-.94 2.06-2.06.94zm-11 1L8.5 8.5l.94-2.06 2.06-.94-2.06-.94L8.5 2.5l-.94 2.06-2.06.94zm10 10l.94 2.06.94-2.06 2.06-.94-2.06-.94-.94-2.06-.94 2.06-2.06.94z\"/><path d=\"M17.41 7.96l-1.37-1.37c-.4-.4-.92-.59-1.43-.59-.52 0-1.04.2-1.43.59L10.3 9.45l-7.72 7.72c-.78.78-.78 2.05 0 2.83L4 21.41c.39.39.9.59 1.41.59.51 0 1.02-.2 1.41-.59l7.78-7.78 2.81-2.81c.8-.78.8-2.07 0-2.86zM5.41 20L4 18.59l7.72-7.72 1.47 1.35L5.41 20z\"/>\n",
              "  </svg>\n",
              "      </button>\n",
              "      \n",
              "  <style>\n",
              "    .colab-df-container {\n",
              "      display:flex;\n",
              "      flex-wrap:wrap;\n",
              "      gap: 12px;\n",
              "    }\n",
              "\n",
              "    .colab-df-convert {\n",
              "      background-color: #E8F0FE;\n",
              "      border: none;\n",
              "      border-radius: 50%;\n",
              "      cursor: pointer;\n",
              "      display: none;\n",
              "      fill: #1967D2;\n",
              "      height: 32px;\n",
              "      padding: 0 0 0 0;\n",
              "      width: 32px;\n",
              "    }\n",
              "\n",
              "    .colab-df-convert:hover {\n",
              "      background-color: #E2EBFA;\n",
              "      box-shadow: 0px 1px 2px rgba(60, 64, 67, 0.3), 0px 1px 3px 1px rgba(60, 64, 67, 0.15);\n",
              "      fill: #174EA6;\n",
              "    }\n",
              "\n",
              "    [theme=dark] .colab-df-convert {\n",
              "      background-color: #3B4455;\n",
              "      fill: #D2E3FC;\n",
              "    }\n",
              "\n",
              "    [theme=dark] .colab-df-convert:hover {\n",
              "      background-color: #434B5C;\n",
              "      box-shadow: 0px 1px 3px 1px rgba(0, 0, 0, 0.15);\n",
              "      filter: drop-shadow(0px 1px 2px rgba(0, 0, 0, 0.3));\n",
              "      fill: #FFFFFF;\n",
              "    }\n",
              "  </style>\n",
              "\n",
              "      <script>\n",
              "        const buttonEl =\n",
              "          document.querySelector('#df-5723d895-32cc-4750-aeab-9ad100a8aa79 button.colab-df-convert');\n",
              "        buttonEl.style.display =\n",
              "          google.colab.kernel.accessAllowed ? 'block' : 'none';\n",
              "\n",
              "        async function convertToInteractive(key) {\n",
              "          const element = document.querySelector('#df-5723d895-32cc-4750-aeab-9ad100a8aa79');\n",
              "          const dataTable =\n",
              "            await google.colab.kernel.invokeFunction('convertToInteractive',\n",
              "                                                     [key], {});\n",
              "          if (!dataTable) return;\n",
              "\n",
              "          const docLinkHtml = 'Like what you see? Visit the ' +\n",
              "            '<a target=\"_blank\" href=https://colab.research.google.com/notebooks/data_table.ipynb>data table notebook</a>'\n",
              "            + ' to learn more about interactive tables.';\n",
              "          element.innerHTML = '';\n",
              "          dataTable['output_type'] = 'display_data';\n",
              "          await google.colab.output.renderOutput(dataTable, element);\n",
              "          const docLink = document.createElement('div');\n",
              "          docLink.innerHTML = docLinkHtml;\n",
              "          element.appendChild(docLink);\n",
              "        }\n",
              "      </script>\n",
              "    </div>\n",
              "  </div>\n",
              "  "
            ]
          },
          "metadata": {},
          "execution_count": 16
        }
      ]
    },
    {
      "cell_type": "code",
      "source": [
        "%%time\n",
        "sns.boxplot(data=interval[interval.consumed <= (q3 + 1.5*iqr)], x='consumed')"
      ],
      "metadata": {
        "colab": {
          "base_uri": "https://localhost:8080/",
          "height": 793
        },
        "id": "U1cDpFE9YfOZ",
        "outputId": "8c4f2cd5-490c-4226-e87d-93578984fcec"
      },
      "execution_count": 17,
      "outputs": [
        {
          "output_type": "stream",
          "name": "stdout",
          "text": [
            "CPU times: user 91.2 ms, sys: 2.89 ms, total: 94.1 ms\n",
            "Wall time: 151 ms\n"
          ]
        },
        {
          "output_type": "execute_result",
          "data": {
            "text/plain": [
              "<matplotlib.axes._subplots.AxesSubplot at 0x7f6aac4ed2d0>"
            ]
          },
          "metadata": {},
          "execution_count": 17
        },
        {
          "output_type": "display_data",
          "data": {
            "text/plain": [
              "<Figure size 1382.4x864 with 1 Axes>"
            ],
            "image/png": "[encoded data removed]"
          },
          "metadata": {}
        }
      ]
    },
    {
      "cell_type": "markdown",
      "source": [
        "The histogram and boxplot shows that the vast majority of observations have a usage value between 0 and 1, with a large number of positive outliers."
      ],
      "metadata": {
        "id": "RvX0_HUuYu_h"
      }
    },
    {
      "cell_type": "markdown",
      "source": [
        "#### Missing values\n",
        "\n",
        "Verify that there are not records with missing or empty values.\n",
        "\n",
        "Note: were I able to confer with the data owner, I would ask if `consumed` values equal to 0 indicate `0.0 kWh` or nothing recorded."
      ],
      "metadata": {
        "id": "NFm0zu7SY0ye"
      }
    },
    {
      "cell_type": "code",
      "source": [
        "%%time\n",
        "interval.isna().sum()"
      ],
      "metadata": {
        "colab": {
          "base_uri": "https://localhost:8080/"
        },
        "id": "lxDl55lTYrOJ",
        "outputId": "8075d97a-16bd-4239-a05e-73334dfd7f08"
      },
      "execution_count": 18,
      "outputs": [
        {
          "output_type": "stream",
          "name": "stdout",
          "text": [
            "CPU times: user 9.53 ms, sys: 0 ns, total: 9.53 ms\n",
            "Wall time: 10.6 ms\n"
          ]
        },
        {
          "output_type": "execute_result",
          "data": {
            "text/plain": [
              "meterId      0\n",
              "fdCode       0\n",
              "consumed     0\n",
              "dayCode      0\n",
              "timeCode     0\n",
              "timestamp    0\n",
              "dtype: int64"
            ]
          },
          "metadata": {},
          "execution_count": 18
        }
      ]
    },
    {
      "cell_type": "markdown",
      "source": [
        "#### Duplicate records\n",
        "This process uses the `pandas.duplicated()` function to ensure records are not duplicated across the multiple available files. In the case of duplicate records, the first recorded consumption values are retained."
      ],
      "metadata": {
        "id": "0hJ1xYWkZUD0"
      }
    },
    {
      "cell_type": "code",
      "source": [
        "%%time\n",
        "interval = interval[~interval.duplicated(subset=['meterId','timestamp'])]"
      ],
      "metadata": {
        "colab": {
          "base_uri": "https://localhost:8080/"
        },
        "id": "da4p8U78ZQJF",
        "outputId": "bb5ef7d8-e195-4f8d-dae7-b44e641aa516"
      },
      "execution_count": 19,
      "outputs": [
        {
          "output_type": "stream",
          "name": "stdout",
          "text": [
            "CPU times: user 78.1 ms, sys: 3.08 ms, total: 81.2 ms\n",
            "Wall time: 111 ms\n"
          ]
        }
      ]
    },
    {
      "cell_type": "markdown",
      "source": [
        "#### Filter out weekends\n",
        "The analysis focuses on weekdays, which allows for a focus on stable electricity usage patterns from customers. "
      ],
      "metadata": {
        "id": "3GVuR2A0ZsLa"
      }
    },
    {
      "cell_type": "code",
      "source": [
        "%%time\n",
        "interval = interval[interval.timestamp.dt.dayofweek<5]"
      ],
      "metadata": {
        "colab": {
          "base_uri": "https://localhost:8080/"
        },
        "id": "zxlMpVa_ZPEe",
        "outputId": "f69b832d-9c4b-4d47-8d8d-dc69c99d0183"
      },
      "execution_count": 20,
      "outputs": [
        {
          "output_type": "stream",
          "name": "stdout",
          "text": [
            "CPU times: user 109 ms, sys: 1.97 ms, total: 111 ms\n",
            "Wall time: 149 ms\n"
          ]
        }
      ]
    },
    {
      "cell_type": "markdown",
      "source": [
        "#### Calculate the mean for every 30 minute period\n",
        "Aggregate by customer ID, then calculate the mean usage for every 30-minute interval. The result is a new DataFrame: one row per customer, 48 columns with values equal to the per customer mean usage. This allows us to create a half-hourly load profile."
      ],
      "metadata": {
        "id": "B86RaA5AZ3WE"
      }
    },
    {
      "cell_type": "code",
      "source": [
        "%%time\n",
        "\n",
        "# Get the mean consumption across readings (30-min intervals) by meterId\n",
        "interval_avg = interval.groupby(['meterId',  'timeCode'])['consumed'].mean()\n",
        "\n",
        "# Unstack: the 2nd index becomes the header\n",
        "interval_avg = interval_avg.unstack(level=-1)\n",
        "\n",
        "# prepend \"interval_\" to each interval in the timeCode column (index)\n",
        "# interval_avg = interval_avg.add_prefix(\"interval_\")\n",
        "\n",
        "print(interval_avg.shape)\n",
        "interval_avg.head()"
      ],
      "metadata": {
        "colab": {
          "base_uri": "https://localhost:8080/",
          "height": 319
        },
        "id": "tB2z6hFkZ4OO",
        "outputId": "fb2c3d4a-4940-46e6-dbc2-0713ee82118f"
      },
      "execution_count": 21,
      "outputs": [
        {
          "output_type": "stream",
          "name": "stdout",
          "text": [
            "(25, 48)\n",
            "CPU times: user 42.1 ms, sys: 2.02 ms, total: 44.1 ms\n",
            "Wall time: 74.6 ms\n"
          ]
        },
        {
          "output_type": "execute_result",
          "data": {
            "text/plain": [
              "timeCode        1         2         3         4         5         6   \\\n",
              "meterId                                                                \n",
              "1042      0.447363  0.344340  0.262262  0.210987  0.150768  0.130010   \n",
              "1048      0.287790  0.234520  0.190430  0.180170  0.158000  0.159820   \n",
              "1078      0.159929  0.125168  0.124323  0.112668  0.113058  0.105825   \n",
              "1083      0.531138  0.450984  0.337589  0.266303  0.222392  0.196405   \n",
              "1194      0.505655  0.442847  0.363414  0.313915  0.282667  0.252068   \n",
              "\n",
              "timeCode        7         8         9         10  ...        39        40  \\\n",
              "meterId                                           ...                       \n",
              "1042      0.113927  0.111420  0.097337  0.109527  ...  1.304405  1.230371   \n",
              "1048      0.152510  0.140010  0.145390  0.148580  ...  1.023140  1.099840   \n",
              "1078      0.107406  0.104461  0.107806  0.105853  ...  0.308330  0.318801   \n",
              "1083      0.185060  0.170577  0.158945  0.160112  ...  0.817360  0.874710   \n",
              "1194      0.234353  0.217890  0.207246  0.271113  ...  1.621339  1.686424   \n",
              "\n",
              "timeCode        41        42        43        44        45        46  \\\n",
              "meterId                                                                \n",
              "1042      1.017063  0.904217  0.819337  0.761488  0.706992  0.697162   \n",
              "1048      1.101120  1.195620  1.270680  1.114950  1.013300  0.779060   \n",
              "1078      0.361453  0.407262  0.448715  0.444162  0.452751  0.414079   \n",
              "1083      0.898838  1.001642  1.060966  0.988956  0.881778  0.783809   \n",
              "1194      1.623138  1.740698  1.623178  1.496887  1.316203  1.057325   \n",
              "\n",
              "timeCode        47        48  \n",
              "meterId                       \n",
              "1042      0.696439  0.555932  \n",
              "1048      0.515240  0.382810  \n",
              "1078      0.305814  0.213115  \n",
              "1083      0.702175  0.602356  \n",
              "1194      0.814921  0.670528  \n",
              "\n",
              "[5 rows x 48 columns]"
            ],
            "text/html": [
              "\n",
              "  <div id=\"df-9a8c2ef0-6907-4bda-89d8-a70c7e63ddff\">\n",
              "    <div class=\"colab-df-container\">\n",
              "      <div>\n",
              "<style scoped>\n",
              "    .dataframe tbody tr th:only-of-type {\n",
              "        vertical-align: middle;\n",
              "    }\n",
              "\n",
              "    .dataframe tbody tr th {\n",
              "        vertical-align: top;\n",
              "    }\n",
              "\n",
              "    .dataframe thead th {\n",
              "        text-align: right;\n",
              "    }\n",
              "</style>\n",
              "<table border=\"1\" class=\"dataframe\">\n",
              "  <thead>\n",
              "    <tr style=\"text-align: right;\">\n",
              "      <th>timeCode</th>\n",
              "      <th>1</th>\n",
              "      <th>2</th>\n",
              "      <th>3</th>\n",
              "      <th>4</th>\n",
              "      <th>5</th>\n",
              "      <th>6</th>\n",
              "      <th>7</th>\n",
              "      <th>8</th>\n",
              "      <th>9</th>\n",
              "      <th>10</th>\n",
              "      <th>...</th>\n",
              "      <th>39</th>\n",
              "      <th>40</th>\n",
              "      <th>41</th>\n",
              "      <th>42</th>\n",
              "      <th>43</th>\n",
              "      <th>44</th>\n",
              "      <th>45</th>\n",
              "      <th>46</th>\n",
              "      <th>47</th>\n",
              "      <th>48</th>\n",
              "    </tr>\n",
              "    <tr>\n",
              "      <th>meterId</th>\n",
              "      <th></th>\n",
              "      <th></th>\n",
              "      <th></th>\n",
              "      <th></th>\n",
              "      <th></th>\n",
              "      <th></th>\n",
              "      <th></th>\n",
              "      <th></th>\n",
              "      <th></th>\n",
              "      <th></th>\n",
              "      <th></th>\n",
              "      <th></th>\n",
              "      <th></th>\n",
              "      <th></th>\n",
              "      <th></th>\n",
              "      <th></th>\n",
              "      <th></th>\n",
              "      <th></th>\n",
              "      <th></th>\n",
              "      <th></th>\n",
              "      <th></th>\n",
              "    </tr>\n",
              "  </thead>\n",
              "  <tbody>\n",
              "    <tr>\n",
              "      <th>1042</th>\n",
              "      <td>0.447363</td>\n",
              "      <td>0.344340</td>\n",
              "      <td>0.262262</td>\n",
              "      <td>0.210987</td>\n",
              "      <td>0.150768</td>\n",
              "      <td>0.130010</td>\n",
              "      <td>0.113927</td>\n",
              "      <td>0.111420</td>\n",
              "      <td>0.097337</td>\n",
              "      <td>0.109527</td>\n",
              "      <td>...</td>\n",
              "      <td>1.304405</td>\n",
              "      <td>1.230371</td>\n",
              "      <td>1.017063</td>\n",
              "      <td>0.904217</td>\n",
              "      <td>0.819337</td>\n",
              "      <td>0.761488</td>\n",
              "      <td>0.706992</td>\n",
              "      <td>0.697162</td>\n",
              "      <td>0.696439</td>\n",
              "      <td>0.555932</td>\n",
              "    </tr>\n",
              "    <tr>\n",
              "      <th>1048</th>\n",
              "      <td>0.287790</td>\n",
              "      <td>0.234520</td>\n",
              "      <td>0.190430</td>\n",
              "      <td>0.180170</td>\n",
              "      <td>0.158000</td>\n",
              "      <td>0.159820</td>\n",
              "      <td>0.152510</td>\n",
              "      <td>0.140010</td>\n",
              "      <td>0.145390</td>\n",
              "      <td>0.148580</td>\n",
              "      <td>...</td>\n",
              "      <td>1.023140</td>\n",
              "      <td>1.099840</td>\n",
              "      <td>1.101120</td>\n",
              "      <td>1.195620</td>\n",
              "      <td>1.270680</td>\n",
              "      <td>1.114950</td>\n",
              "      <td>1.013300</td>\n",
              "      <td>0.779060</td>\n",
              "      <td>0.515240</td>\n",
              "      <td>0.382810</td>\n",
              "    </tr>\n",
              "    <tr>\n",
              "      <th>1078</th>\n",
              "      <td>0.159929</td>\n",
              "      <td>0.125168</td>\n",
              "      <td>0.124323</td>\n",
              "      <td>0.112668</td>\n",
              "      <td>0.113058</td>\n",
              "      <td>0.105825</td>\n",
              "      <td>0.107406</td>\n",
              "      <td>0.104461</td>\n",
              "      <td>0.107806</td>\n",
              "      <td>0.105853</td>\n",
              "      <td>...</td>\n",
              "      <td>0.308330</td>\n",
              "      <td>0.318801</td>\n",
              "      <td>0.361453</td>\n",
              "      <td>0.407262</td>\n",
              "      <td>0.448715</td>\n",
              "      <td>0.444162</td>\n",
              "      <td>0.452751</td>\n",
              "      <td>0.414079</td>\n",
              "      <td>0.305814</td>\n",
              "      <td>0.213115</td>\n",
              "    </tr>\n",
              "    <tr>\n",
              "      <th>1083</th>\n",
              "      <td>0.531138</td>\n",
              "      <td>0.450984</td>\n",
              "      <td>0.337589</td>\n",
              "      <td>0.266303</td>\n",
              "      <td>0.222392</td>\n",
              "      <td>0.196405</td>\n",
              "      <td>0.185060</td>\n",
              "      <td>0.170577</td>\n",
              "      <td>0.158945</td>\n",
              "      <td>0.160112</td>\n",
              "      <td>...</td>\n",
              "      <td>0.817360</td>\n",
              "      <td>0.874710</td>\n",
              "      <td>0.898838</td>\n",
              "      <td>1.001642</td>\n",
              "      <td>1.060966</td>\n",
              "      <td>0.988956</td>\n",
              "      <td>0.881778</td>\n",
              "      <td>0.783809</td>\n",
              "      <td>0.702175</td>\n",
              "      <td>0.602356</td>\n",
              "    </tr>\n",
              "    <tr>\n",
              "      <th>1194</th>\n",
              "      <td>0.505655</td>\n",
              "      <td>0.442847</td>\n",
              "      <td>0.363414</td>\n",
              "      <td>0.313915</td>\n",
              "      <td>0.282667</td>\n",
              "      <td>0.252068</td>\n",
              "      <td>0.234353</td>\n",
              "      <td>0.217890</td>\n",
              "      <td>0.207246</td>\n",
              "      <td>0.271113</td>\n",
              "      <td>...</td>\n",
              "      <td>1.621339</td>\n",
              "      <td>1.686424</td>\n",
              "      <td>1.623138</td>\n",
              "      <td>1.740698</td>\n",
              "      <td>1.623178</td>\n",
              "      <td>1.496887</td>\n",
              "      <td>1.316203</td>\n",
              "      <td>1.057325</td>\n",
              "      <td>0.814921</td>\n",
              "      <td>0.670528</td>\n",
              "    </tr>\n",
              "  </tbody>\n",
              "</table>\n",
              "<p>5 rows × 48 columns</p>\n",
              "</div>\n",
              "      <button class=\"colab-df-convert\" onclick=\"convertToInteractive('df-9a8c2ef0-6907-4bda-89d8-a70c7e63ddff')\"\n",
              "              title=\"Convert this dataframe to an interactive table.\"\n",
              "              style=\"display:none;\">\n",
              "        \n",
              "  <svg xmlns=\"http://www.w3.org/2000/svg\" height=\"24px\"viewBox=\"0 0 24 24\"\n",
              "       width=\"24px\">\n",
              "    <path d=\"M0 0h24v24H0V0z\" fill=\"none\"/>\n",
              "    <path d=\"M18.56 5.44l.94 2.06.94-2.06 2.06-.94-2.06-.94-.94-2.06-.94 2.06-2.06.94zm-11 1L8.5 8.5l.94-2.06 2.06-.94-2.06-.94L8.5 2.5l-.94 2.06-2.06.94zm10 10l.94 2.06.94-2.06 2.06-.94-2.06-.94-.94-2.06-.94 2.06-2.06.94z\"/><path d=\"M17.41 7.96l-1.37-1.37c-.4-.4-.92-.59-1.43-.59-.52 0-1.04.2-1.43.59L10.3 9.45l-7.72 7.72c-.78.78-.78 2.05 0 2.83L4 21.41c.39.39.9.59 1.41.59.51 0 1.02-.2 1.41-.59l7.78-7.78 2.81-2.81c.8-.78.8-2.07 0-2.86zM5.41 20L4 18.59l7.72-7.72 1.47 1.35L5.41 20z\"/>\n",
              "  </svg>\n",
              "      </button>\n",
              "      \n",
              "  <style>\n",
              "    .colab-df-container {\n",
              "      display:flex;\n",
              "      flex-wrap:wrap;\n",
              "      gap: 12px;\n",
              "    }\n",
              "\n",
              "    .colab-df-convert {\n",
              "      background-color: #E8F0FE;\n",
              "      border: none;\n",
              "      border-radius: 50%;\n",
              "      cursor: pointer;\n",
              "      display: none;\n",
              "      fill: #1967D2;\n",
              "      height: 32px;\n",
              "      padding: 0 0 0 0;\n",
              "      width: 32px;\n",
              "    }\n",
              "\n",
              "    .colab-df-convert:hover {\n",
              "      background-color: #E2EBFA;\n",
              "      box-shadow: 0px 1px 2px rgba(60, 64, 67, 0.3), 0px 1px 3px 1px rgba(60, 64, 67, 0.15);\n",
              "      fill: #174EA6;\n",
              "    }\n",
              "\n",
              "    [theme=dark] .colab-df-convert {\n",
              "      background-color: #3B4455;\n",
              "      fill: #D2E3FC;\n",
              "    }\n",
              "\n",
              "    [theme=dark] .colab-df-convert:hover {\n",
              "      background-color: #434B5C;\n",
              "      box-shadow: 0px 1px 3px 1px rgba(0, 0, 0, 0.15);\n",
              "      filter: drop-shadow(0px 1px 2px rgba(0, 0, 0, 0.3));\n",
              "      fill: #FFFFFF;\n",
              "    }\n",
              "  </style>\n",
              "\n",
              "      <script>\n",
              "        const buttonEl =\n",
              "          document.querySelector('#df-9a8c2ef0-6907-4bda-89d8-a70c7e63ddff button.colab-df-convert');\n",
              "        buttonEl.style.display =\n",
              "          google.colab.kernel.accessAllowed ? 'block' : 'none';\n",
              "\n",
              "        async function convertToInteractive(key) {\n",
              "          const element = document.querySelector('#df-9a8c2ef0-6907-4bda-89d8-a70c7e63ddff');\n",
              "          const dataTable =\n",
              "            await google.colab.kernel.invokeFunction('convertToInteractive',\n",
              "                                                     [key], {});\n",
              "          if (!dataTable) return;\n",
              "\n",
              "          const docLinkHtml = 'Like what you see? Visit the ' +\n",
              "            '<a target=\"_blank\" href=https://colab.research.google.com/notebooks/data_table.ipynb>data table notebook</a>'\n",
              "            + ' to learn more about interactive tables.';\n",
              "          element.innerHTML = '';\n",
              "          dataTable['output_type'] = 'display_data';\n",
              "          await google.colab.output.renderOutput(dataTable, element);\n",
              "          const docLink = document.createElement('div');\n",
              "          docLink.innerHTML = docLinkHtml;\n",
              "          element.appendChild(docLink);\n",
              "        }\n",
              "      </script>\n",
              "    </div>\n",
              "  </div>\n",
              "  "
            ]
          },
          "metadata": {},
          "execution_count": 21
        }
      ]
    },
    {
      "cell_type": "markdown",
      "source": [
        "#### Load additional data"
      ],
      "metadata": {
        "id": "CpV8u9a8aTfz"
      }
    },
    {
      "cell_type": "code",
      "source": [
        "interval_avg = pd.read_csv('https://raw.githubusercontent.com/blcrow/ua101/main/cer_pivot.csv')\n",
        "print('Shape:', interval_avg.shape)\n",
        "interval_avg.head()"
      ],
      "metadata": {
        "colab": {
          "base_uri": "https://localhost:8080/",
          "height": 317
        },
        "id": "hgAfcN76ab2m",
        "outputId": "ee3905b0-8937-4010-d2f2-57b5ce14dfa9"
      },
      "execution_count": 22,
      "outputs": [
        {
          "output_type": "stream",
          "name": "stdout",
          "text": [
            "Shape: (6020, 49)\n"
          ]
        },
        {
          "output_type": "execute_result",
          "data": {
            "text/plain": [
              "   meter_id  interval_1  interval_2  interval_3  interval_4  interval_5  \\\n",
              "0      1000    0.100097    0.067534    0.055955    0.058815    0.053645   \n",
              "1      1001    0.200057    0.202846    0.198139    0.194760    0.197371   \n",
              "2      1002    0.188436    0.130110    0.096804    0.083909    0.075149   \n",
              "3      1003    0.567961    0.536076    0.499257    0.447995    0.428689   \n",
              "4      1004    1.001149    0.878026    0.765110    0.673648    0.611713   \n",
              "\n",
              "   interval_6  interval_7  interval_8  interval_9  ...  interval_39  \\\n",
              "0    0.053076    0.052778    0.052909    0.054107  ...     0.503107   \n",
              "1    0.194232    0.190773    0.193705    0.199922  ...     0.195752   \n",
              "2    0.072559    0.071473    0.072005    0.068862  ...     0.274227   \n",
              "3    0.404285    0.382198    0.365094    0.384029  ...     1.056833   \n",
              "4    0.556530    0.501992    0.449695    0.417781  ...     2.195723   \n",
              "\n",
              "   interval_40  interval_41  interval_42  interval_43  interval_44  \\\n",
              "0     0.454961     0.433512     0.432728     0.363193     0.347029   \n",
              "1     0.194196     0.203371     0.198708     0.198410     0.202843   \n",
              "2     0.294762     0.319778     0.336935     0.364621     0.363253   \n",
              "3     0.960867     0.888554     0.864486     0.856710     0.829423   \n",
              "4     2.160961     1.937637     1.919269     1.848953     1.849410   \n",
              "\n",
              "   interval_45  interval_46  interval_47  interval_48  \n",
              "0     0.333530     0.284107     0.222013     0.166257  \n",
              "1     0.201877     0.201170     0.195689     0.188851  \n",
              "2     0.367240     0.363762     0.348097     0.281751  \n",
              "3     0.818402     0.742366     0.678543     0.615783  \n",
              "4     1.706154     1.550078     1.278820     1.135233  \n",
              "\n",
              "[5 rows x 49 columns]"
            ],
            "text/html": [
              "\n",
              "  <div id=\"df-5e49c48c-f647-4224-a264-f5d541cdcc3c\">\n",
              "    <div class=\"colab-df-container\">\n",
              "      <div>\n",
              "<style scoped>\n",
              "    .dataframe tbody tr th:only-of-type {\n",
              "        vertical-align: middle;\n",
              "    }\n",
              "\n",
              "    .dataframe tbody tr th {\n",
              "        vertical-align: top;\n",
              "    }\n",
              "\n",
              "    .dataframe thead th {\n",
              "        text-align: right;\n",
              "    }\n",
              "</style>\n",
              "<table border=\"1\" class=\"dataframe\">\n",
              "  <thead>\n",
              "    <tr style=\"text-align: right;\">\n",
              "      <th></th>\n",
              "      <th>meter_id</th>\n",
              "      <th>interval_1</th>\n",
              "      <th>interval_2</th>\n",
              "      <th>interval_3</th>\n",
              "      <th>interval_4</th>\n",
              "      <th>interval_5</th>\n",
              "      <th>interval_6</th>\n",
              "      <th>interval_7</th>\n",
              "      <th>interval_8</th>\n",
              "      <th>interval_9</th>\n",
              "      <th>...</th>\n",
              "      <th>interval_39</th>\n",
              "      <th>interval_40</th>\n",
              "      <th>interval_41</th>\n",
              "      <th>interval_42</th>\n",
              "      <th>interval_43</th>\n",
              "      <th>interval_44</th>\n",
              "      <th>interval_45</th>\n",
              "      <th>interval_46</th>\n",
              "      <th>interval_47</th>\n",
              "      <th>interval_48</th>\n",
              "    </tr>\n",
              "  </thead>\n",
              "  <tbody>\n",
              "    <tr>\n",
              "      <th>0</th>\n",
              "      <td>1000</td>\n",
              "      <td>0.100097</td>\n",
              "      <td>0.067534</td>\n",
              "      <td>0.055955</td>\n",
              "      <td>0.058815</td>\n",
              "      <td>0.053645</td>\n",
              "      <td>0.053076</td>\n",
              "      <td>0.052778</td>\n",
              "      <td>0.052909</td>\n",
              "      <td>0.054107</td>\n",
              "      <td>...</td>\n",
              "      <td>0.503107</td>\n",
              "      <td>0.454961</td>\n",
              "      <td>0.433512</td>\n",
              "      <td>0.432728</td>\n",
              "      <td>0.363193</td>\n",
              "      <td>0.347029</td>\n",
              "      <td>0.333530</td>\n",
              "      <td>0.284107</td>\n",
              "      <td>0.222013</td>\n",
              "      <td>0.166257</td>\n",
              "    </tr>\n",
              "    <tr>\n",
              "      <th>1</th>\n",
              "      <td>1001</td>\n",
              "      <td>0.200057</td>\n",
              "      <td>0.202846</td>\n",
              "      <td>0.198139</td>\n",
              "      <td>0.194760</td>\n",
              "      <td>0.197371</td>\n",
              "      <td>0.194232</td>\n",
              "      <td>0.190773</td>\n",
              "      <td>0.193705</td>\n",
              "      <td>0.199922</td>\n",
              "      <td>...</td>\n",
              "      <td>0.195752</td>\n",
              "      <td>0.194196</td>\n",
              "      <td>0.203371</td>\n",
              "      <td>0.198708</td>\n",
              "      <td>0.198410</td>\n",
              "      <td>0.202843</td>\n",
              "      <td>0.201877</td>\n",
              "      <td>0.201170</td>\n",
              "      <td>0.195689</td>\n",
              "      <td>0.188851</td>\n",
              "    </tr>\n",
              "    <tr>\n",
              "      <th>2</th>\n",
              "      <td>1002</td>\n",
              "      <td>0.188436</td>\n",
              "      <td>0.130110</td>\n",
              "      <td>0.096804</td>\n",
              "      <td>0.083909</td>\n",
              "      <td>0.075149</td>\n",
              "      <td>0.072559</td>\n",
              "      <td>0.071473</td>\n",
              "      <td>0.072005</td>\n",
              "      <td>0.068862</td>\n",
              "      <td>...</td>\n",
              "      <td>0.274227</td>\n",
              "      <td>0.294762</td>\n",
              "      <td>0.319778</td>\n",
              "      <td>0.336935</td>\n",
              "      <td>0.364621</td>\n",
              "      <td>0.363253</td>\n",
              "      <td>0.367240</td>\n",
              "      <td>0.363762</td>\n",
              "      <td>0.348097</td>\n",
              "      <td>0.281751</td>\n",
              "    </tr>\n",
              "    <tr>\n",
              "      <th>3</th>\n",
              "      <td>1003</td>\n",
              "      <td>0.567961</td>\n",
              "      <td>0.536076</td>\n",
              "      <td>0.499257</td>\n",
              "      <td>0.447995</td>\n",
              "      <td>0.428689</td>\n",
              "      <td>0.404285</td>\n",
              "      <td>0.382198</td>\n",
              "      <td>0.365094</td>\n",
              "      <td>0.384029</td>\n",
              "      <td>...</td>\n",
              "      <td>1.056833</td>\n",
              "      <td>0.960867</td>\n",
              "      <td>0.888554</td>\n",
              "      <td>0.864486</td>\n",
              "      <td>0.856710</td>\n",
              "      <td>0.829423</td>\n",
              "      <td>0.818402</td>\n",
              "      <td>0.742366</td>\n",
              "      <td>0.678543</td>\n",
              "      <td>0.615783</td>\n",
              "    </tr>\n",
              "    <tr>\n",
              "      <th>4</th>\n",
              "      <td>1004</td>\n",
              "      <td>1.001149</td>\n",
              "      <td>0.878026</td>\n",
              "      <td>0.765110</td>\n",
              "      <td>0.673648</td>\n",
              "      <td>0.611713</td>\n",
              "      <td>0.556530</td>\n",
              "      <td>0.501992</td>\n",
              "      <td>0.449695</td>\n",
              "      <td>0.417781</td>\n",
              "      <td>...</td>\n",
              "      <td>2.195723</td>\n",
              "      <td>2.160961</td>\n",
              "      <td>1.937637</td>\n",
              "      <td>1.919269</td>\n",
              "      <td>1.848953</td>\n",
              "      <td>1.849410</td>\n",
              "      <td>1.706154</td>\n",
              "      <td>1.550078</td>\n",
              "      <td>1.278820</td>\n",
              "      <td>1.135233</td>\n",
              "    </tr>\n",
              "  </tbody>\n",
              "</table>\n",
              "<p>5 rows × 49 columns</p>\n",
              "</div>\n",
              "      <button class=\"colab-df-convert\" onclick=\"convertToInteractive('df-5e49c48c-f647-4224-a264-f5d541cdcc3c')\"\n",
              "              title=\"Convert this dataframe to an interactive table.\"\n",
              "              style=\"display:none;\">\n",
              "        \n",
              "  <svg xmlns=\"http://www.w3.org/2000/svg\" height=\"24px\"viewBox=\"0 0 24 24\"\n",
              "       width=\"24px\">\n",
              "    <path d=\"M0 0h24v24H0V0z\" fill=\"none\"/>\n",
              "    <path d=\"M18.56 5.44l.94 2.06.94-2.06 2.06-.94-2.06-.94-.94-2.06-.94 2.06-2.06.94zm-11 1L8.5 8.5l.94-2.06 2.06-.94-2.06-.94L8.5 2.5l-.94 2.06-2.06.94zm10 10l.94 2.06.94-2.06 2.06-.94-2.06-.94-.94-2.06-.94 2.06-2.06.94z\"/><path d=\"M17.41 7.96l-1.37-1.37c-.4-.4-.92-.59-1.43-.59-.52 0-1.04.2-1.43.59L10.3 9.45l-7.72 7.72c-.78.78-.78 2.05 0 2.83L4 21.41c.39.39.9.59 1.41.59.51 0 1.02-.2 1.41-.59l7.78-7.78 2.81-2.81c.8-.78.8-2.07 0-2.86zM5.41 20L4 18.59l7.72-7.72 1.47 1.35L5.41 20z\"/>\n",
              "  </svg>\n",
              "      </button>\n",
              "      \n",
              "  <style>\n",
              "    .colab-df-container {\n",
              "      display:flex;\n",
              "      flex-wrap:wrap;\n",
              "      gap: 12px;\n",
              "    }\n",
              "\n",
              "    .colab-df-convert {\n",
              "      background-color: #E8F0FE;\n",
              "      border: none;\n",
              "      border-radius: 50%;\n",
              "      cursor: pointer;\n",
              "      display: none;\n",
              "      fill: #1967D2;\n",
              "      height: 32px;\n",
              "      padding: 0 0 0 0;\n",
              "      width: 32px;\n",
              "    }\n",
              "\n",
              "    .colab-df-convert:hover {\n",
              "      background-color: #E2EBFA;\n",
              "      box-shadow: 0px 1px 2px rgba(60, 64, 67, 0.3), 0px 1px 3px 1px rgba(60, 64, 67, 0.15);\n",
              "      fill: #174EA6;\n",
              "    }\n",
              "\n",
              "    [theme=dark] .colab-df-convert {\n",
              "      background-color: #3B4455;\n",
              "      fill: #D2E3FC;\n",
              "    }\n",
              "\n",
              "    [theme=dark] .colab-df-convert:hover {\n",
              "      background-color: #434B5C;\n",
              "      box-shadow: 0px 1px 3px 1px rgba(0, 0, 0, 0.15);\n",
              "      filter: drop-shadow(0px 1px 2px rgba(0, 0, 0, 0.3));\n",
              "      fill: #FFFFFF;\n",
              "    }\n",
              "  </style>\n",
              "\n",
              "      <script>\n",
              "        const buttonEl =\n",
              "          document.querySelector('#df-5e49c48c-f647-4224-a264-f5d541cdcc3c button.colab-df-convert');\n",
              "        buttonEl.style.display =\n",
              "          google.colab.kernel.accessAllowed ? 'block' : 'none';\n",
              "\n",
              "        async function convertToInteractive(key) {\n",
              "          const element = document.querySelector('#df-5e49c48c-f647-4224-a264-f5d541cdcc3c');\n",
              "          const dataTable =\n",
              "            await google.colab.kernel.invokeFunction('convertToInteractive',\n",
              "                                                     [key], {});\n",
              "          if (!dataTable) return;\n",
              "\n",
              "          const docLinkHtml = 'Like what you see? Visit the ' +\n",
              "            '<a target=\"_blank\" href=https://colab.research.google.com/notebooks/data_table.ipynb>data table notebook</a>'\n",
              "            + ' to learn more about interactive tables.';\n",
              "          element.innerHTML = '';\n",
              "          dataTable['output_type'] = 'display_data';\n",
              "          await google.colab.output.renderOutput(dataTable, element);\n",
              "          const docLink = document.createElement('div');\n",
              "          docLink.innerHTML = docLinkHtml;\n",
              "          element.appendChild(docLink);\n",
              "        }\n",
              "      </script>\n",
              "    </div>\n",
              "  </div>\n",
              "  "
            ]
          },
          "metadata": {},
          "execution_count": 22
        }
      ]
    },
    {
      "cell_type": "markdown",
      "source": [
        "#### Plot the consumption curve for individual customers"
      ],
      "metadata": {
        "id": "iiTU9BcMbJYh"
      }
    },
    {
      "cell_type": "code",
      "source": [
        "interval_avg.set_index('meter_id', inplace=True)"
      ],
      "metadata": {
        "id": "mQWqQ6iLccP7"
      },
      "execution_count": 23,
      "outputs": []
    },
    {
      "cell_type": "code",
      "source": [
        "interval_avg_melt = pd.melt(interval_avg.reset_index(), id_vars=['meter_id'], value_name='avg_usage') # wide to long\n",
        "interval_avg_melt['interval'] = pd.melt(interval_avg.reset_index(), id_vars=['meter_id'], value_name='avg_usage').variable.str.rpartition('_')[2] # get the interval number (split)\n",
        "interval_avg_melt.head()"
      ],
      "metadata": {
        "colab": {
          "base_uri": "https://localhost:8080/",
          "height": 206
        },
        "id": "CxvC_jQMeCnR",
        "outputId": "81a85f7e-6345-4c22-9fbf-e92d574cab38"
      },
      "execution_count": 24,
      "outputs": [
        {
          "output_type": "execute_result",
          "data": {
            "text/plain": [
              "   meter_id    variable  avg_usage interval\n",
              "0      1000  interval_1   0.100097        1\n",
              "1      1001  interval_1   0.200057        1\n",
              "2      1002  interval_1   0.188436        1\n",
              "3      1003  interval_1   0.567961        1\n",
              "4      1004  interval_1   1.001149        1"
            ],
            "text/html": [
              "\n",
              "  <div id=\"df-4e649e84-3233-4c7c-9cd3-288fc1c244b2\">\n",
              "    <div class=\"colab-df-container\">\n",
              "      <div>\n",
              "<style scoped>\n",
              "    .dataframe tbody tr th:only-of-type {\n",
              "        vertical-align: middle;\n",
              "    }\n",
              "\n",
              "    .dataframe tbody tr th {\n",
              "        vertical-align: top;\n",
              "    }\n",
              "\n",
              "    .dataframe thead th {\n",
              "        text-align: right;\n",
              "    }\n",
              "</style>\n",
              "<table border=\"1\" class=\"dataframe\">\n",
              "  <thead>\n",
              "    <tr style=\"text-align: right;\">\n",
              "      <th></th>\n",
              "      <th>meter_id</th>\n",
              "      <th>variable</th>\n",
              "      <th>avg_usage</th>\n",
              "      <th>interval</th>\n",
              "    </tr>\n",
              "  </thead>\n",
              "  <tbody>\n",
              "    <tr>\n",
              "      <th>0</th>\n",
              "      <td>1000</td>\n",
              "      <td>interval_1</td>\n",
              "      <td>0.100097</td>\n",
              "      <td>1</td>\n",
              "    </tr>\n",
              "    <tr>\n",
              "      <th>1</th>\n",
              "      <td>1001</td>\n",
              "      <td>interval_1</td>\n",
              "      <td>0.200057</td>\n",
              "      <td>1</td>\n",
              "    </tr>\n",
              "    <tr>\n",
              "      <th>2</th>\n",
              "      <td>1002</td>\n",
              "      <td>interval_1</td>\n",
              "      <td>0.188436</td>\n",
              "      <td>1</td>\n",
              "    </tr>\n",
              "    <tr>\n",
              "      <th>3</th>\n",
              "      <td>1003</td>\n",
              "      <td>interval_1</td>\n",
              "      <td>0.567961</td>\n",
              "      <td>1</td>\n",
              "    </tr>\n",
              "    <tr>\n",
              "      <th>4</th>\n",
              "      <td>1004</td>\n",
              "      <td>interval_1</td>\n",
              "      <td>1.001149</td>\n",
              "      <td>1</td>\n",
              "    </tr>\n",
              "  </tbody>\n",
              "</table>\n",
              "</div>\n",
              "      <button class=\"colab-df-convert\" onclick=\"convertToInteractive('df-4e649e84-3233-4c7c-9cd3-288fc1c244b2')\"\n",
              "              title=\"Convert this dataframe to an interactive table.\"\n",
              "              style=\"display:none;\">\n",
              "        \n",
              "  <svg xmlns=\"http://www.w3.org/2000/svg\" height=\"24px\"viewBox=\"0 0 24 24\"\n",
              "       width=\"24px\">\n",
              "    <path d=\"M0 0h24v24H0V0z\" fill=\"none\"/>\n",
              "    <path d=\"M18.56 5.44l.94 2.06.94-2.06 2.06-.94-2.06-.94-.94-2.06-.94 2.06-2.06.94zm-11 1L8.5 8.5l.94-2.06 2.06-.94-2.06-.94L8.5 2.5l-.94 2.06-2.06.94zm10 10l.94 2.06.94-2.06 2.06-.94-2.06-.94-.94-2.06-.94 2.06-2.06.94z\"/><path d=\"M17.41 7.96l-1.37-1.37c-.4-.4-.92-.59-1.43-.59-.52 0-1.04.2-1.43.59L10.3 9.45l-7.72 7.72c-.78.78-.78 2.05 0 2.83L4 21.41c.39.39.9.59 1.41.59.51 0 1.02-.2 1.41-.59l7.78-7.78 2.81-2.81c.8-.78.8-2.07 0-2.86zM5.41 20L4 18.59l7.72-7.72 1.47 1.35L5.41 20z\"/>\n",
              "  </svg>\n",
              "      </button>\n",
              "      \n",
              "  <style>\n",
              "    .colab-df-container {\n",
              "      display:flex;\n",
              "      flex-wrap:wrap;\n",
              "      gap: 12px;\n",
              "    }\n",
              "\n",
              "    .colab-df-convert {\n",
              "      background-color: #E8F0FE;\n",
              "      border: none;\n",
              "      border-radius: 50%;\n",
              "      cursor: pointer;\n",
              "      display: none;\n",
              "      fill: #1967D2;\n",
              "      height: 32px;\n",
              "      padding: 0 0 0 0;\n",
              "      width: 32px;\n",
              "    }\n",
              "\n",
              "    .colab-df-convert:hover {\n",
              "      background-color: #E2EBFA;\n",
              "      box-shadow: 0px 1px 2px rgba(60, 64, 67, 0.3), 0px 1px 3px 1px rgba(60, 64, 67, 0.15);\n",
              "      fill: #174EA6;\n",
              "    }\n",
              "\n",
              "    [theme=dark] .colab-df-convert {\n",
              "      background-color: #3B4455;\n",
              "      fill: #D2E3FC;\n",
              "    }\n",
              "\n",
              "    [theme=dark] .colab-df-convert:hover {\n",
              "      background-color: #434B5C;\n",
              "      box-shadow: 0px 1px 3px 1px rgba(0, 0, 0, 0.15);\n",
              "      filter: drop-shadow(0px 1px 2px rgba(0, 0, 0, 0.3));\n",
              "      fill: #FFFFFF;\n",
              "    }\n",
              "  </style>\n",
              "\n",
              "      <script>\n",
              "        const buttonEl =\n",
              "          document.querySelector('#df-4e649e84-3233-4c7c-9cd3-288fc1c244b2 button.colab-df-convert');\n",
              "        buttonEl.style.display =\n",
              "          google.colab.kernel.accessAllowed ? 'block' : 'none';\n",
              "\n",
              "        async function convertToInteractive(key) {\n",
              "          const element = document.querySelector('#df-4e649e84-3233-4c7c-9cd3-288fc1c244b2');\n",
              "          const dataTable =\n",
              "            await google.colab.kernel.invokeFunction('convertToInteractive',\n",
              "                                                     [key], {});\n",
              "          if (!dataTable) return;\n",
              "\n",
              "          const docLinkHtml = 'Like what you see? Visit the ' +\n",
              "            '<a target=\"_blank\" href=https://colab.research.google.com/notebooks/data_table.ipynb>data table notebook</a>'\n",
              "            + ' to learn more about interactive tables.';\n",
              "          element.innerHTML = '';\n",
              "          dataTable['output_type'] = 'display_data';\n",
              "          await google.colab.output.renderOutput(dataTable, element);\n",
              "          const docLink = document.createElement('div');\n",
              "          docLink.innerHTML = docLinkHtml;\n",
              "          element.appendChild(docLink);\n",
              "        }\n",
              "      </script>\n",
              "    </div>\n",
              "  </div>\n",
              "  "
            ]
          },
          "metadata": {},
          "execution_count": 24
        }
      ]
    },
    {
      "cell_type": "code",
      "source": [
        "def plot_avg_usage(data, meter):\n",
        "    title = 'Percentage Load Curve for Meter ' + str(meter)\n",
        "    # tmp = pd.melt(data.reset_index(), id_vars=['meter_id'], value_name='avg_usage')\n",
        "    ax = sns.lineplot(data=data[data.meter_id==meter], x='interval', y='avg_usage')\n",
        "    ax.set(xlabel='Interval', ylabel='Usage', title=title)\n",
        "    plt.xticks([-1, 4, 9, 14, 19, 24, 29, 34, 39, 44, 49])\n",
        "    plt.show()"
      ],
      "metadata": {
        "id": "_Qj4nB4TbOyK"
      },
      "execution_count": 25,
      "outputs": []
    },
    {
      "cell_type": "code",
      "source": [
        "plot_avg_usage(interval_avg_melt, 2022)"
      ],
      "metadata": {
        "colab": {
          "base_uri": "https://localhost:8080/",
          "height": 766
        },
        "id": "LH44B3UgbSER",
        "outputId": "b7153304-d714-4784-cdd8-3866b83c20ed"
      },
      "execution_count": 26,
      "outputs": [
        {
          "output_type": "display_data",
          "data": {
            "text/plain": [
              "<Figure size 1382.4x864 with 1 Axes>"
            ],
            "image/png": "[encoded data removed]"
          },
          "metadata": {}
        }
      ]
    },
    {
      "cell_type": "markdown",
      "source": [
        "#### Load customer segment data"
      ],
      "metadata": {
        "id": "Glj6O4rcsJpw"
      }
    },
    {
      "cell_type": "code",
      "source": [
        "segment = pd.read_csv('https://raw.githubusercontent.com/blcrow/ua101/main/customer_cluster.csv')\n",
        "segment.head()"
      ],
      "metadata": {
        "colab": {
          "base_uri": "https://localhost:8080/",
          "height": 206
        },
        "id": "mHSiFfuVsJSD",
        "outputId": "dffadeae-4604-4042-e9ee-005f4590ce94"
      },
      "execution_count": 27,
      "outputs": [
        {
          "output_type": "execute_result",
          "data": {
            "text/plain": [
              "   meterId  cluster\n",
              "0     1000        0\n",
              "1     1001        1\n",
              "2     1002        1\n",
              "3     1003        1\n",
              "4     1004        1"
            ],
            "text/html": [
              "\n",
              "  <div id=\"df-7b254f1f-534d-414e-bc31-4b9230f56f0d\">\n",
              "    <div class=\"colab-df-container\">\n",
              "      <div>\n",
              "<style scoped>\n",
              "    .dataframe tbody tr th:only-of-type {\n",
              "        vertical-align: middle;\n",
              "    }\n",
              "\n",
              "    .dataframe tbody tr th {\n",
              "        vertical-align: top;\n",
              "    }\n",
              "\n",
              "    .dataframe thead th {\n",
              "        text-align: right;\n",
              "    }\n",
              "</style>\n",
              "<table border=\"1\" class=\"dataframe\">\n",
              "  <thead>\n",
              "    <tr style=\"text-align: right;\">\n",
              "      <th></th>\n",
              "      <th>meterId</th>\n",
              "      <th>cluster</th>\n",
              "    </tr>\n",
              "  </thead>\n",
              "  <tbody>\n",
              "    <tr>\n",
              "      <th>0</th>\n",
              "      <td>1000</td>\n",
              "      <td>0</td>\n",
              "    </tr>\n",
              "    <tr>\n",
              "      <th>1</th>\n",
              "      <td>1001</td>\n",
              "      <td>1</td>\n",
              "    </tr>\n",
              "    <tr>\n",
              "      <th>2</th>\n",
              "      <td>1002</td>\n",
              "      <td>1</td>\n",
              "    </tr>\n",
              "    <tr>\n",
              "      <th>3</th>\n",
              "      <td>1003</td>\n",
              "      <td>1</td>\n",
              "    </tr>\n",
              "    <tr>\n",
              "      <th>4</th>\n",
              "      <td>1004</td>\n",
              "      <td>1</td>\n",
              "    </tr>\n",
              "  </tbody>\n",
              "</table>\n",
              "</div>\n",
              "      <button class=\"colab-df-convert\" onclick=\"convertToInteractive('df-7b254f1f-534d-414e-bc31-4b9230f56f0d')\"\n",
              "              title=\"Convert this dataframe to an interactive table.\"\n",
              "              style=\"display:none;\">\n",
              "        \n",
              "  <svg xmlns=\"http://www.w3.org/2000/svg\" height=\"24px\"viewBox=\"0 0 24 24\"\n",
              "       width=\"24px\">\n",
              "    <path d=\"M0 0h24v24H0V0z\" fill=\"none\"/>\n",
              "    <path d=\"M18.56 5.44l.94 2.06.94-2.06 2.06-.94-2.06-.94-.94-2.06-.94 2.06-2.06.94zm-11 1L8.5 8.5l.94-2.06 2.06-.94-2.06-.94L8.5 2.5l-.94 2.06-2.06.94zm10 10l.94 2.06.94-2.06 2.06-.94-2.06-.94-.94-2.06-.94 2.06-2.06.94z\"/><path d=\"M17.41 7.96l-1.37-1.37c-.4-.4-.92-.59-1.43-.59-.52 0-1.04.2-1.43.59L10.3 9.45l-7.72 7.72c-.78.78-.78 2.05 0 2.83L4 21.41c.39.39.9.59 1.41.59.51 0 1.02-.2 1.41-.59l7.78-7.78 2.81-2.81c.8-.78.8-2.07 0-2.86zM5.41 20L4 18.59l7.72-7.72 1.47 1.35L5.41 20z\"/>\n",
              "  </svg>\n",
              "      </button>\n",
              "      \n",
              "  <style>\n",
              "    .colab-df-container {\n",
              "      display:flex;\n",
              "      flex-wrap:wrap;\n",
              "      gap: 12px;\n",
              "    }\n",
              "\n",
              "    .colab-df-convert {\n",
              "      background-color: #E8F0FE;\n",
              "      border: none;\n",
              "      border-radius: 50%;\n",
              "      cursor: pointer;\n",
              "      display: none;\n",
              "      fill: #1967D2;\n",
              "      height: 32px;\n",
              "      padding: 0 0 0 0;\n",
              "      width: 32px;\n",
              "    }\n",
              "\n",
              "    .colab-df-convert:hover {\n",
              "      background-color: #E2EBFA;\n",
              "      box-shadow: 0px 1px 2px rgba(60, 64, 67, 0.3), 0px 1px 3px 1px rgba(60, 64, 67, 0.15);\n",
              "      fill: #174EA6;\n",
              "    }\n",
              "\n",
              "    [theme=dark] .colab-df-convert {\n",
              "      background-color: #3B4455;\n",
              "      fill: #D2E3FC;\n",
              "    }\n",
              "\n",
              "    [theme=dark] .colab-df-convert:hover {\n",
              "      background-color: #434B5C;\n",
              "      box-shadow: 0px 1px 3px 1px rgba(0, 0, 0, 0.15);\n",
              "      filter: drop-shadow(0px 1px 2px rgba(0, 0, 0, 0.3));\n",
              "      fill: #FFFFFF;\n",
              "    }\n",
              "  </style>\n",
              "\n",
              "      <script>\n",
              "        const buttonEl =\n",
              "          document.querySelector('#df-7b254f1f-534d-414e-bc31-4b9230f56f0d button.colab-df-convert');\n",
              "        buttonEl.style.display =\n",
              "          google.colab.kernel.accessAllowed ? 'block' : 'none';\n",
              "\n",
              "        async function convertToInteractive(key) {\n",
              "          const element = document.querySelector('#df-7b254f1f-534d-414e-bc31-4b9230f56f0d');\n",
              "          const dataTable =\n",
              "            await google.colab.kernel.invokeFunction('convertToInteractive',\n",
              "                                                     [key], {});\n",
              "          if (!dataTable) return;\n",
              "\n",
              "          const docLinkHtml = 'Like what you see? Visit the ' +\n",
              "            '<a target=\"_blank\" href=https://colab.research.google.com/notebooks/data_table.ipynb>data table notebook</a>'\n",
              "            + ' to learn more about interactive tables.';\n",
              "          element.innerHTML = '';\n",
              "          dataTable['output_type'] = 'display_data';\n",
              "          await google.colab.output.renderOutput(dataTable, element);\n",
              "          const docLink = document.createElement('div');\n",
              "          docLink.innerHTML = docLinkHtml;\n",
              "          element.appendChild(docLink);\n",
              "        }\n",
              "      </script>\n",
              "    </div>\n",
              "  </div>\n",
              "  "
            ]
          },
          "metadata": {},
          "execution_count": 27
        }
      ]
    },
    {
      "cell_type": "code",
      "source": [
        "segment.set_index('meterId', inplace=True)"
      ],
      "metadata": {
        "id": "PISXYjwEtVUX"
      },
      "execution_count": 28,
      "outputs": []
    },
    {
      "cell_type": "code",
      "source": [
        "segment.info()"
      ],
      "metadata": {
        "colab": {
          "base_uri": "https://localhost:8080/"
        },
        "id": "aDntT8m8sYzK",
        "outputId": "46163731-908e-4c90-d960-c0ee224e345b"
      },
      "execution_count": 29,
      "outputs": [
        {
          "output_type": "stream",
          "name": "stdout",
          "text": [
            "<class 'pandas.core.frame.DataFrame'>\n",
            "Int64Index: 6433 entries, 1000 to 7444\n",
            "Data columns (total 1 columns):\n",
            " #   Column   Non-Null Count  Dtype\n",
            "---  ------   --------------  -----\n",
            " 0   cluster  6433 non-null   int64\n",
            "dtypes: int64(1)\n",
            "memory usage: 100.5 KB\n"
          ]
        }
      ]
    },
    {
      "cell_type": "markdown",
      "source": [
        "#### Join the profile and segment datasets"
      ],
      "metadata": {
        "id": "BcMSrm8ascz5"
      }
    },
    {
      "cell_type": "code",
      "source": [
        "cust_avg_usage_with_cluster = interval_avg.merge(segment, left_index=True, right_index=True)"
      ],
      "metadata": {
        "id": "Up5oxmjwsklZ"
      },
      "execution_count": 30,
      "outputs": []
    },
    {
      "cell_type": "code",
      "source": [
        "cust_avg_usage_with_cluster.head()"
      ],
      "metadata": {
        "colab": {
          "base_uri": "https://localhost:8080/",
          "height": 300
        },
        "id": "hyyI52UStes-",
        "outputId": "a2b9c5f3-096b-4acb-9f79-0715fc0d2fd4"
      },
      "execution_count": 31,
      "outputs": [
        {
          "output_type": "execute_result",
          "data": {
            "text/plain": [
              "      interval_1  interval_2  interval_3  interval_4  interval_5  interval_6  \\\n",
              "1000    0.100097    0.067534    0.055955    0.058815    0.053645    0.053076   \n",
              "1001    0.200057    0.202846    0.198139    0.194760    0.197371    0.194232   \n",
              "1002    0.188436    0.130110    0.096804    0.083909    0.075149    0.072559   \n",
              "1003    0.567961    0.536076    0.499257    0.447995    0.428689    0.404285   \n",
              "1004    1.001149    0.878026    0.765110    0.673648    0.611713    0.556530   \n",
              "\n",
              "      interval_7  interval_8  interval_9  interval_10  ...  interval_40  \\\n",
              "1000    0.052778    0.052909    0.054107     0.050240  ...     0.454961   \n",
              "1001    0.190773    0.193705    0.199922     0.191619  ...     0.194196   \n",
              "1002    0.071473    0.072005    0.068862     0.072449  ...     0.294762   \n",
              "1003    0.382198    0.365094    0.384029     0.484266  ...     0.960867   \n",
              "1004    0.501992    0.449695    0.417781     0.385804  ...     2.160961   \n",
              "\n",
              "      interval_41  interval_42  interval_43  interval_44  interval_45  \\\n",
              "1000     0.433512     0.432728     0.363193     0.347029     0.333530   \n",
              "1001     0.203371     0.198708     0.198410     0.202843     0.201877   \n",
              "1002     0.319778     0.336935     0.364621     0.363253     0.367240   \n",
              "1003     0.888554     0.864486     0.856710     0.829423     0.818402   \n",
              "1004     1.937637     1.919269     1.848953     1.849410     1.706154   \n",
              "\n",
              "      interval_46  interval_47  interval_48  cluster  \n",
              "1000     0.284107     0.222013     0.166257        0  \n",
              "1001     0.201170     0.195689     0.188851        1  \n",
              "1002     0.363762     0.348097     0.281751        1  \n",
              "1003     0.742366     0.678543     0.615783        1  \n",
              "1004     1.550078     1.278820     1.135233        1  \n",
              "\n",
              "[5 rows x 49 columns]"
            ],
            "text/html": [
              "\n",
              "  <div id=\"df-7b67afd7-4e50-4eda-a26d-c5358eaa3645\">\n",
              "    <div class=\"colab-df-container\">\n",
              "      <div>\n",
              "<style scoped>\n",
              "    .dataframe tbody tr th:only-of-type {\n",
              "        vertical-align: middle;\n",
              "    }\n",
              "\n",
              "    .dataframe tbody tr th {\n",
              "        vertical-align: top;\n",
              "    }\n",
              "\n",
              "    .dataframe thead th {\n",
              "        text-align: right;\n",
              "    }\n",
              "</style>\n",
              "<table border=\"1\" class=\"dataframe\">\n",
              "  <thead>\n",
              "    <tr style=\"text-align: right;\">\n",
              "      <th></th>\n",
              "      <th>interval_1</th>\n",
              "      <th>interval_2</th>\n",
              "      <th>interval_3</th>\n",
              "      <th>interval_4</th>\n",
              "      <th>interval_5</th>\n",
              "      <th>interval_6</th>\n",
              "      <th>interval_7</th>\n",
              "      <th>interval_8</th>\n",
              "      <th>interval_9</th>\n",
              "      <th>interval_10</th>\n",
              "      <th>...</th>\n",
              "      <th>interval_40</th>\n",
              "      <th>interval_41</th>\n",
              "      <th>interval_42</th>\n",
              "      <th>interval_43</th>\n",
              "      <th>interval_44</th>\n",
              "      <th>interval_45</th>\n",
              "      <th>interval_46</th>\n",
              "      <th>interval_47</th>\n",
              "      <th>interval_48</th>\n",
              "      <th>cluster</th>\n",
              "    </tr>\n",
              "  </thead>\n",
              "  <tbody>\n",
              "    <tr>\n",
              "      <th>1000</th>\n",
              "      <td>0.100097</td>\n",
              "      <td>0.067534</td>\n",
              "      <td>0.055955</td>\n",
              "      <td>0.058815</td>\n",
              "      <td>0.053645</td>\n",
              "      <td>0.053076</td>\n",
              "      <td>0.052778</td>\n",
              "      <td>0.052909</td>\n",
              "      <td>0.054107</td>\n",
              "      <td>0.050240</td>\n",
              "      <td>...</td>\n",
              "      <td>0.454961</td>\n",
              "      <td>0.433512</td>\n",
              "      <td>0.432728</td>\n",
              "      <td>0.363193</td>\n",
              "      <td>0.347029</td>\n",
              "      <td>0.333530</td>\n",
              "      <td>0.284107</td>\n",
              "      <td>0.222013</td>\n",
              "      <td>0.166257</td>\n",
              "      <td>0</td>\n",
              "    </tr>\n",
              "    <tr>\n",
              "      <th>1001</th>\n",
              "      <td>0.200057</td>\n",
              "      <td>0.202846</td>\n",
              "      <td>0.198139</td>\n",
              "      <td>0.194760</td>\n",
              "      <td>0.197371</td>\n",
              "      <td>0.194232</td>\n",
              "      <td>0.190773</td>\n",
              "      <td>0.193705</td>\n",
              "      <td>0.199922</td>\n",
              "      <td>0.191619</td>\n",
              "      <td>...</td>\n",
              "      <td>0.194196</td>\n",
              "      <td>0.203371</td>\n",
              "      <td>0.198708</td>\n",
              "      <td>0.198410</td>\n",
              "      <td>0.202843</td>\n",
              "      <td>0.201877</td>\n",
              "      <td>0.201170</td>\n",
              "      <td>0.195689</td>\n",
              "      <td>0.188851</td>\n",
              "      <td>1</td>\n",
              "    </tr>\n",
              "    <tr>\n",
              "      <th>1002</th>\n",
              "      <td>0.188436</td>\n",
              "      <td>0.130110</td>\n",
              "      <td>0.096804</td>\n",
              "      <td>0.083909</td>\n",
              "      <td>0.075149</td>\n",
              "      <td>0.072559</td>\n",
              "      <td>0.071473</td>\n",
              "      <td>0.072005</td>\n",
              "      <td>0.068862</td>\n",
              "      <td>0.072449</td>\n",
              "      <td>...</td>\n",
              "      <td>0.294762</td>\n",
              "      <td>0.319778</td>\n",
              "      <td>0.336935</td>\n",
              "      <td>0.364621</td>\n",
              "      <td>0.363253</td>\n",
              "      <td>0.367240</td>\n",
              "      <td>0.363762</td>\n",
              "      <td>0.348097</td>\n",
              "      <td>0.281751</td>\n",
              "      <td>1</td>\n",
              "    </tr>\n",
              "    <tr>\n",
              "      <th>1003</th>\n",
              "      <td>0.567961</td>\n",
              "      <td>0.536076</td>\n",
              "      <td>0.499257</td>\n",
              "      <td>0.447995</td>\n",
              "      <td>0.428689</td>\n",
              "      <td>0.404285</td>\n",
              "      <td>0.382198</td>\n",
              "      <td>0.365094</td>\n",
              "      <td>0.384029</td>\n",
              "      <td>0.484266</td>\n",
              "      <td>...</td>\n",
              "      <td>0.960867</td>\n",
              "      <td>0.888554</td>\n",
              "      <td>0.864486</td>\n",
              "      <td>0.856710</td>\n",
              "      <td>0.829423</td>\n",
              "      <td>0.818402</td>\n",
              "      <td>0.742366</td>\n",
              "      <td>0.678543</td>\n",
              "      <td>0.615783</td>\n",
              "      <td>1</td>\n",
              "    </tr>\n",
              "    <tr>\n",
              "      <th>1004</th>\n",
              "      <td>1.001149</td>\n",
              "      <td>0.878026</td>\n",
              "      <td>0.765110</td>\n",
              "      <td>0.673648</td>\n",
              "      <td>0.611713</td>\n",
              "      <td>0.556530</td>\n",
              "      <td>0.501992</td>\n",
              "      <td>0.449695</td>\n",
              "      <td>0.417781</td>\n",
              "      <td>0.385804</td>\n",
              "      <td>...</td>\n",
              "      <td>2.160961</td>\n",
              "      <td>1.937637</td>\n",
              "      <td>1.919269</td>\n",
              "      <td>1.848953</td>\n",
              "      <td>1.849410</td>\n",
              "      <td>1.706154</td>\n",
              "      <td>1.550078</td>\n",
              "      <td>1.278820</td>\n",
              "      <td>1.135233</td>\n",
              "      <td>1</td>\n",
              "    </tr>\n",
              "  </tbody>\n",
              "</table>\n",
              "<p>5 rows × 49 columns</p>\n",
              "</div>\n",
              "      <button class=\"colab-df-convert\" onclick=\"convertToInteractive('df-7b67afd7-4e50-4eda-a26d-c5358eaa3645')\"\n",
              "              title=\"Convert this dataframe to an interactive table.\"\n",
              "              style=\"display:none;\">\n",
              "        \n",
              "  <svg xmlns=\"http://www.w3.org/2000/svg\" height=\"24px\"viewBox=\"0 0 24 24\"\n",
              "       width=\"24px\">\n",
              "    <path d=\"M0 0h24v24H0V0z\" fill=\"none\"/>\n",
              "    <path d=\"M18.56 5.44l.94 2.06.94-2.06 2.06-.94-2.06-.94-.94-2.06-.94 2.06-2.06.94zm-11 1L8.5 8.5l.94-2.06 2.06-.94-2.06-.94L8.5 2.5l-.94 2.06-2.06.94zm10 10l.94 2.06.94-2.06 2.06-.94-2.06-.94-.94-2.06-.94 2.06-2.06.94z\"/><path d=\"M17.41 7.96l-1.37-1.37c-.4-.4-.92-.59-1.43-.59-.52 0-1.04.2-1.43.59L10.3 9.45l-7.72 7.72c-.78.78-.78 2.05 0 2.83L4 21.41c.39.39.9.59 1.41.59.51 0 1.02-.2 1.41-.59l7.78-7.78 2.81-2.81c.8-.78.8-2.07 0-2.86zM5.41 20L4 18.59l7.72-7.72 1.47 1.35L5.41 20z\"/>\n",
              "  </svg>\n",
              "      </button>\n",
              "      \n",
              "  <style>\n",
              "    .colab-df-container {\n",
              "      display:flex;\n",
              "      flex-wrap:wrap;\n",
              "      gap: 12px;\n",
              "    }\n",
              "\n",
              "    .colab-df-convert {\n",
              "      background-color: #E8F0FE;\n",
              "      border: none;\n",
              "      border-radius: 50%;\n",
              "      cursor: pointer;\n",
              "      display: none;\n",
              "      fill: #1967D2;\n",
              "      height: 32px;\n",
              "      padding: 0 0 0 0;\n",
              "      width: 32px;\n",
              "    }\n",
              "\n",
              "    .colab-df-convert:hover {\n",
              "      background-color: #E2EBFA;\n",
              "      box-shadow: 0px 1px 2px rgba(60, 64, 67, 0.3), 0px 1px 3px 1px rgba(60, 64, 67, 0.15);\n",
              "      fill: #174EA6;\n",
              "    }\n",
              "\n",
              "    [theme=dark] .colab-df-convert {\n",
              "      background-color: #3B4455;\n",
              "      fill: #D2E3FC;\n",
              "    }\n",
              "\n",
              "    [theme=dark] .colab-df-convert:hover {\n",
              "      background-color: #434B5C;\n",
              "      box-shadow: 0px 1px 3px 1px rgba(0, 0, 0, 0.15);\n",
              "      filter: drop-shadow(0px 1px 2px rgba(0, 0, 0, 0.3));\n",
              "      fill: #FFFFFF;\n",
              "    }\n",
              "  </style>\n",
              "\n",
              "      <script>\n",
              "        const buttonEl =\n",
              "          document.querySelector('#df-7b67afd7-4e50-4eda-a26d-c5358eaa3645 button.colab-df-convert');\n",
              "        buttonEl.style.display =\n",
              "          google.colab.kernel.accessAllowed ? 'block' : 'none';\n",
              "\n",
              "        async function convertToInteractive(key) {\n",
              "          const element = document.querySelector('#df-7b67afd7-4e50-4eda-a26d-c5358eaa3645');\n",
              "          const dataTable =\n",
              "            await google.colab.kernel.invokeFunction('convertToInteractive',\n",
              "                                                     [key], {});\n",
              "          if (!dataTable) return;\n",
              "\n",
              "          const docLinkHtml = 'Like what you see? Visit the ' +\n",
              "            '<a target=\"_blank\" href=https://colab.research.google.com/notebooks/data_table.ipynb>data table notebook</a>'\n",
              "            + ' to learn more about interactive tables.';\n",
              "          element.innerHTML = '';\n",
              "          dataTable['output_type'] = 'display_data';\n",
              "          await google.colab.output.renderOutput(dataTable, element);\n",
              "          const docLink = document.createElement('div');\n",
              "          docLink.innerHTML = docLinkHtml;\n",
              "          element.appendChild(docLink);\n",
              "        }\n",
              "      </script>\n",
              "    </div>\n",
              "  </div>\n",
              "  "
            ]
          },
          "metadata": {},
          "execution_count": 31
        }
      ]
    },
    {
      "cell_type": "markdown",
      "source": [
        "#### Plot consumption curve for each cluster"
      ],
      "metadata": {
        "id": "qyaUjhQutm47"
      }
    },
    {
      "cell_type": "markdown",
      "source": [
        "Reset the index and rename `'index'` to `'meterId'`."
      ],
      "metadata": {
        "id": "k_p0_M4hy-2M"
      }
    },
    {
      "cell_type": "code",
      "source": [
        "cust_avg_usage_with_cluster.reset_index(inplace=True)\n",
        "cust_avg_usage_with_cluster.rename(columns={'index':'meterId'}, inplace=True)\n",
        "cust_avg_usage_with_cluster.head()"
      ],
      "metadata": {
        "colab": {
          "base_uri": "https://localhost:8080/",
          "height": 300
        },
        "id": "OXJYDUQAwfNs",
        "outputId": "82478056-3029-4524-8957-fb2880f8292c"
      },
      "execution_count": 32,
      "outputs": [
        {
          "output_type": "execute_result",
          "data": {
            "text/plain": [
              "   meterId  interval_1  interval_2  interval_3  interval_4  interval_5  \\\n",
              "0     1000    0.100097    0.067534    0.055955    0.058815    0.053645   \n",
              "1     1001    0.200057    0.202846    0.198139    0.194760    0.197371   \n",
              "2     1002    0.188436    0.130110    0.096804    0.083909    0.075149   \n",
              "3     1003    0.567961    0.536076    0.499257    0.447995    0.428689   \n",
              "4     1004    1.001149    0.878026    0.765110    0.673648    0.611713   \n",
              "\n",
              "   interval_6  interval_7  interval_8  interval_9  ...  interval_40  \\\n",
              "0    0.053076    0.052778    0.052909    0.054107  ...     0.454961   \n",
              "1    0.194232    0.190773    0.193705    0.199922  ...     0.194196   \n",
              "2    0.072559    0.071473    0.072005    0.068862  ...     0.294762   \n",
              "3    0.404285    0.382198    0.365094    0.384029  ...     0.960867   \n",
              "4    0.556530    0.501992    0.449695    0.417781  ...     2.160961   \n",
              "\n",
              "   interval_41  interval_42  interval_43  interval_44  interval_45  \\\n",
              "0     0.433512     0.432728     0.363193     0.347029     0.333530   \n",
              "1     0.203371     0.198708     0.198410     0.202843     0.201877   \n",
              "2     0.319778     0.336935     0.364621     0.363253     0.367240   \n",
              "3     0.888554     0.864486     0.856710     0.829423     0.818402   \n",
              "4     1.937637     1.919269     1.848953     1.849410     1.706154   \n",
              "\n",
              "   interval_46  interval_47  interval_48  cluster  \n",
              "0     0.284107     0.222013     0.166257        0  \n",
              "1     0.201170     0.195689     0.188851        1  \n",
              "2     0.363762     0.348097     0.281751        1  \n",
              "3     0.742366     0.678543     0.615783        1  \n",
              "4     1.550078     1.278820     1.135233        1  \n",
              "\n",
              "[5 rows x 50 columns]"
            ],
            "text/html": [
              "\n",
              "  <div id=\"df-e4283aa5-9363-4bb8-897f-659b5a243793\">\n",
              "    <div class=\"colab-df-container\">\n",
              "      <div>\n",
              "<style scoped>\n",
              "    .dataframe tbody tr th:only-of-type {\n",
              "        vertical-align: middle;\n",
              "    }\n",
              "\n",
              "    .dataframe tbody tr th {\n",
              "        vertical-align: top;\n",
              "    }\n",
              "\n",
              "    .dataframe thead th {\n",
              "        text-align: right;\n",
              "    }\n",
              "</style>\n",
              "<table border=\"1\" class=\"dataframe\">\n",
              "  <thead>\n",
              "    <tr style=\"text-align: right;\">\n",
              "      <th></th>\n",
              "      <th>meterId</th>\n",
              "      <th>interval_1</th>\n",
              "      <th>interval_2</th>\n",
              "      <th>interval_3</th>\n",
              "      <th>interval_4</th>\n",
              "      <th>interval_5</th>\n",
              "      <th>interval_6</th>\n",
              "      <th>interval_7</th>\n",
              "      <th>interval_8</th>\n",
              "      <th>interval_9</th>\n",
              "      <th>...</th>\n",
              "      <th>interval_40</th>\n",
              "      <th>interval_41</th>\n",
              "      <th>interval_42</th>\n",
              "      <th>interval_43</th>\n",
              "      <th>interval_44</th>\n",
              "      <th>interval_45</th>\n",
              "      <th>interval_46</th>\n",
              "      <th>interval_47</th>\n",
              "      <th>interval_48</th>\n",
              "      <th>cluster</th>\n",
              "    </tr>\n",
              "  </thead>\n",
              "  <tbody>\n",
              "    <tr>\n",
              "      <th>0</th>\n",
              "      <td>1000</td>\n",
              "      <td>0.100097</td>\n",
              "      <td>0.067534</td>\n",
              "      <td>0.055955</td>\n",
              "      <td>0.058815</td>\n",
              "      <td>0.053645</td>\n",
              "      <td>0.053076</td>\n",
              "      <td>0.052778</td>\n",
              "      <td>0.052909</td>\n",
              "      <td>0.054107</td>\n",
              "      <td>...</td>\n",
              "      <td>0.454961</td>\n",
              "      <td>0.433512</td>\n",
              "      <td>0.432728</td>\n",
              "      <td>0.363193</td>\n",
              "      <td>0.347029</td>\n",
              "      <td>0.333530</td>\n",
              "      <td>0.284107</td>\n",
              "      <td>0.222013</td>\n",
              "      <td>0.166257</td>\n",
              "      <td>0</td>\n",
              "    </tr>\n",
              "    <tr>\n",
              "      <th>1</th>\n",
              "      <td>1001</td>\n",
              "      <td>0.200057</td>\n",
              "      <td>0.202846</td>\n",
              "      <td>0.198139</td>\n",
              "      <td>0.194760</td>\n",
              "      <td>0.197371</td>\n",
              "      <td>0.194232</td>\n",
              "      <td>0.190773</td>\n",
              "      <td>0.193705</td>\n",
              "      <td>0.199922</td>\n",
              "      <td>...</td>\n",
              "      <td>0.194196</td>\n",
              "      <td>0.203371</td>\n",
              "      <td>0.198708</td>\n",
              "      <td>0.198410</td>\n",
              "      <td>0.202843</td>\n",
              "      <td>0.201877</td>\n",
              "      <td>0.201170</td>\n",
              "      <td>0.195689</td>\n",
              "      <td>0.188851</td>\n",
              "      <td>1</td>\n",
              "    </tr>\n",
              "    <tr>\n",
              "      <th>2</th>\n",
              "      <td>1002</td>\n",
              "      <td>0.188436</td>\n",
              "      <td>0.130110</td>\n",
              "      <td>0.096804</td>\n",
              "      <td>0.083909</td>\n",
              "      <td>0.075149</td>\n",
              "      <td>0.072559</td>\n",
              "      <td>0.071473</td>\n",
              "      <td>0.072005</td>\n",
              "      <td>0.068862</td>\n",
              "      <td>...</td>\n",
              "      <td>0.294762</td>\n",
              "      <td>0.319778</td>\n",
              "      <td>0.336935</td>\n",
              "      <td>0.364621</td>\n",
              "      <td>0.363253</td>\n",
              "      <td>0.367240</td>\n",
              "      <td>0.363762</td>\n",
              "      <td>0.348097</td>\n",
              "      <td>0.281751</td>\n",
              "      <td>1</td>\n",
              "    </tr>\n",
              "    <tr>\n",
              "      <th>3</th>\n",
              "      <td>1003</td>\n",
              "      <td>0.567961</td>\n",
              "      <td>0.536076</td>\n",
              "      <td>0.499257</td>\n",
              "      <td>0.447995</td>\n",
              "      <td>0.428689</td>\n",
              "      <td>0.404285</td>\n",
              "      <td>0.382198</td>\n",
              "      <td>0.365094</td>\n",
              "      <td>0.384029</td>\n",
              "      <td>...</td>\n",
              "      <td>0.960867</td>\n",
              "      <td>0.888554</td>\n",
              "      <td>0.864486</td>\n",
              "      <td>0.856710</td>\n",
              "      <td>0.829423</td>\n",
              "      <td>0.818402</td>\n",
              "      <td>0.742366</td>\n",
              "      <td>0.678543</td>\n",
              "      <td>0.615783</td>\n",
              "      <td>1</td>\n",
              "    </tr>\n",
              "    <tr>\n",
              "      <th>4</th>\n",
              "      <td>1004</td>\n",
              "      <td>1.001149</td>\n",
              "      <td>0.878026</td>\n",
              "      <td>0.765110</td>\n",
              "      <td>0.673648</td>\n",
              "      <td>0.611713</td>\n",
              "      <td>0.556530</td>\n",
              "      <td>0.501992</td>\n",
              "      <td>0.449695</td>\n",
              "      <td>0.417781</td>\n",
              "      <td>...</td>\n",
              "      <td>2.160961</td>\n",
              "      <td>1.937637</td>\n",
              "      <td>1.919269</td>\n",
              "      <td>1.848953</td>\n",
              "      <td>1.849410</td>\n",
              "      <td>1.706154</td>\n",
              "      <td>1.550078</td>\n",
              "      <td>1.278820</td>\n",
              "      <td>1.135233</td>\n",
              "      <td>1</td>\n",
              "    </tr>\n",
              "  </tbody>\n",
              "</table>\n",
              "<p>5 rows × 50 columns</p>\n",
              "</div>\n",
              "      <button class=\"colab-df-convert\" onclick=\"convertToInteractive('df-e4283aa5-9363-4bb8-897f-659b5a243793')\"\n",
              "              title=\"Convert this dataframe to an interactive table.\"\n",
              "              style=\"display:none;\">\n",
              "        \n",
              "  <svg xmlns=\"http://www.w3.org/2000/svg\" height=\"24px\"viewBox=\"0 0 24 24\"\n",
              "       width=\"24px\">\n",
              "    <path d=\"M0 0h24v24H0V0z\" fill=\"none\"/>\n",
              "    <path d=\"M18.56 5.44l.94 2.06.94-2.06 2.06-.94-2.06-.94-.94-2.06-.94 2.06-2.06.94zm-11 1L8.5 8.5l.94-2.06 2.06-.94-2.06-.94L8.5 2.5l-.94 2.06-2.06.94zm10 10l.94 2.06.94-2.06 2.06-.94-2.06-.94-.94-2.06-.94 2.06-2.06.94z\"/><path d=\"M17.41 7.96l-1.37-1.37c-.4-.4-.92-.59-1.43-.59-.52 0-1.04.2-1.43.59L10.3 9.45l-7.72 7.72c-.78.78-.78 2.05 0 2.83L4 21.41c.39.39.9.59 1.41.59.51 0 1.02-.2 1.41-.59l7.78-7.78 2.81-2.81c.8-.78.8-2.07 0-2.86zM5.41 20L4 18.59l7.72-7.72 1.47 1.35L5.41 20z\"/>\n",
              "  </svg>\n",
              "      </button>\n",
              "      \n",
              "  <style>\n",
              "    .colab-df-container {\n",
              "      display:flex;\n",
              "      flex-wrap:wrap;\n",
              "      gap: 12px;\n",
              "    }\n",
              "\n",
              "    .colab-df-convert {\n",
              "      background-color: #E8F0FE;\n",
              "      border: none;\n",
              "      border-radius: 50%;\n",
              "      cursor: pointer;\n",
              "      display: none;\n",
              "      fill: #1967D2;\n",
              "      height: 32px;\n",
              "      padding: 0 0 0 0;\n",
              "      width: 32px;\n",
              "    }\n",
              "\n",
              "    .colab-df-convert:hover {\n",
              "      background-color: #E2EBFA;\n",
              "      box-shadow: 0px 1px 2px rgba(60, 64, 67, 0.3), 0px 1px 3px 1px rgba(60, 64, 67, 0.15);\n",
              "      fill: #174EA6;\n",
              "    }\n",
              "\n",
              "    [theme=dark] .colab-df-convert {\n",
              "      background-color: #3B4455;\n",
              "      fill: #D2E3FC;\n",
              "    }\n",
              "\n",
              "    [theme=dark] .colab-df-convert:hover {\n",
              "      background-color: #434B5C;\n",
              "      box-shadow: 0px 1px 3px 1px rgba(0, 0, 0, 0.15);\n",
              "      filter: drop-shadow(0px 1px 2px rgba(0, 0, 0, 0.3));\n",
              "      fill: #FFFFFF;\n",
              "    }\n",
              "  </style>\n",
              "\n",
              "      <script>\n",
              "        const buttonEl =\n",
              "          document.querySelector('#df-e4283aa5-9363-4bb8-897f-659b5a243793 button.colab-df-convert');\n",
              "        buttonEl.style.display =\n",
              "          google.colab.kernel.accessAllowed ? 'block' : 'none';\n",
              "\n",
              "        async function convertToInteractive(key) {\n",
              "          const element = document.querySelector('#df-e4283aa5-9363-4bb8-897f-659b5a243793');\n",
              "          const dataTable =\n",
              "            await google.colab.kernel.invokeFunction('convertToInteractive',\n",
              "                                                     [key], {});\n",
              "          if (!dataTable) return;\n",
              "\n",
              "          const docLinkHtml = 'Like what you see? Visit the ' +\n",
              "            '<a target=\"_blank\" href=https://colab.research.google.com/notebooks/data_table.ipynb>data table notebook</a>'\n",
              "            + ' to learn more about interactive tables.';\n",
              "          element.innerHTML = '';\n",
              "          dataTable['output_type'] = 'display_data';\n",
              "          await google.colab.output.renderOutput(dataTable, element);\n",
              "          const docLink = document.createElement('div');\n",
              "          docLink.innerHTML = docLinkHtml;\n",
              "          element.appendChild(docLink);\n",
              "        }\n",
              "      </script>\n",
              "    </div>\n",
              "  </div>\n",
              "  "
            ]
          },
          "metadata": {},
          "execution_count": 32
        }
      ]
    },
    {
      "cell_type": "markdown",
      "source": [
        "Convert wide data to long form."
      ],
      "metadata": {
        "id": "876Z3lJxzJfH"
      }
    },
    {
      "cell_type": "code",
      "source": [
        "melt = pd.melt(cust_avg_usage_with_cluster, id_vars=['meterId', 'cluster'], value_name='avg_usage') # wide to long\n",
        "melt.head()"
      ],
      "metadata": {
        "colab": {
          "base_uri": "https://localhost:8080/",
          "height": 206
        },
        "id": "rX7DyM4ZuPXH",
        "outputId": "123ff4b0-188b-4ce9-df8e-71d2fd596eaa"
      },
      "execution_count": 33,
      "outputs": [
        {
          "output_type": "execute_result",
          "data": {
            "text/plain": [
              "   meterId  cluster    variable  avg_usage\n",
              "0     1000        0  interval_1   0.100097\n",
              "1     1001        1  interval_1   0.200057\n",
              "2     1002        1  interval_1   0.188436\n",
              "3     1003        1  interval_1   0.567961\n",
              "4     1004        1  interval_1   1.001149"
            ],
            "text/html": [
              "\n",
              "  <div id=\"df-cc9fe952-1b2d-4852-8556-de322540b452\">\n",
              "    <div class=\"colab-df-container\">\n",
              "      <div>\n",
              "<style scoped>\n",
              "    .dataframe tbody tr th:only-of-type {\n",
              "        vertical-align: middle;\n",
              "    }\n",
              "\n",
              "    .dataframe tbody tr th {\n",
              "        vertical-align: top;\n",
              "    }\n",
              "\n",
              "    .dataframe thead th {\n",
              "        text-align: right;\n",
              "    }\n",
              "</style>\n",
              "<table border=\"1\" class=\"dataframe\">\n",
              "  <thead>\n",
              "    <tr style=\"text-align: right;\">\n",
              "      <th></th>\n",
              "      <th>meterId</th>\n",
              "      <th>cluster</th>\n",
              "      <th>variable</th>\n",
              "      <th>avg_usage</th>\n",
              "    </tr>\n",
              "  </thead>\n",
              "  <tbody>\n",
              "    <tr>\n",
              "      <th>0</th>\n",
              "      <td>1000</td>\n",
              "      <td>0</td>\n",
              "      <td>interval_1</td>\n",
              "      <td>0.100097</td>\n",
              "    </tr>\n",
              "    <tr>\n",
              "      <th>1</th>\n",
              "      <td>1001</td>\n",
              "      <td>1</td>\n",
              "      <td>interval_1</td>\n",
              "      <td>0.200057</td>\n",
              "    </tr>\n",
              "    <tr>\n",
              "      <th>2</th>\n",
              "      <td>1002</td>\n",
              "      <td>1</td>\n",
              "      <td>interval_1</td>\n",
              "      <td>0.188436</td>\n",
              "    </tr>\n",
              "    <tr>\n",
              "      <th>3</th>\n",
              "      <td>1003</td>\n",
              "      <td>1</td>\n",
              "      <td>interval_1</td>\n",
              "      <td>0.567961</td>\n",
              "    </tr>\n",
              "    <tr>\n",
              "      <th>4</th>\n",
              "      <td>1004</td>\n",
              "      <td>1</td>\n",
              "      <td>interval_1</td>\n",
              "      <td>1.001149</td>\n",
              "    </tr>\n",
              "  </tbody>\n",
              "</table>\n",
              "</div>\n",
              "      <button class=\"colab-df-convert\" onclick=\"convertToInteractive('df-cc9fe952-1b2d-4852-8556-de322540b452')\"\n",
              "              title=\"Convert this dataframe to an interactive table.\"\n",
              "              style=\"display:none;\">\n",
              "        \n",
              "  <svg xmlns=\"http://www.w3.org/2000/svg\" height=\"24px\"viewBox=\"0 0 24 24\"\n",
              "       width=\"24px\">\n",
              "    <path d=\"M0 0h24v24H0V0z\" fill=\"none\"/>\n",
              "    <path d=\"M18.56 5.44l.94 2.06.94-2.06 2.06-.94-2.06-.94-.94-2.06-.94 2.06-2.06.94zm-11 1L8.5 8.5l.94-2.06 2.06-.94-2.06-.94L8.5 2.5l-.94 2.06-2.06.94zm10 10l.94 2.06.94-2.06 2.06-.94-2.06-.94-.94-2.06-.94 2.06-2.06.94z\"/><path d=\"M17.41 7.96l-1.37-1.37c-.4-.4-.92-.59-1.43-.59-.52 0-1.04.2-1.43.59L10.3 9.45l-7.72 7.72c-.78.78-.78 2.05 0 2.83L4 21.41c.39.39.9.59 1.41.59.51 0 1.02-.2 1.41-.59l7.78-7.78 2.81-2.81c.8-.78.8-2.07 0-2.86zM5.41 20L4 18.59l7.72-7.72 1.47 1.35L5.41 20z\"/>\n",
              "  </svg>\n",
              "      </button>\n",
              "      \n",
              "  <style>\n",
              "    .colab-df-container {\n",
              "      display:flex;\n",
              "      flex-wrap:wrap;\n",
              "      gap: 12px;\n",
              "    }\n",
              "\n",
              "    .colab-df-convert {\n",
              "      background-color: #E8F0FE;\n",
              "      border: none;\n",
              "      border-radius: 50%;\n",
              "      cursor: pointer;\n",
              "      display: none;\n",
              "      fill: #1967D2;\n",
              "      height: 32px;\n",
              "      padding: 0 0 0 0;\n",
              "      width: 32px;\n",
              "    }\n",
              "\n",
              "    .colab-df-convert:hover {\n",
              "      background-color: #E2EBFA;\n",
              "      box-shadow: 0px 1px 2px rgba(60, 64, 67, 0.3), 0px 1px 3px 1px rgba(60, 64, 67, 0.15);\n",
              "      fill: #174EA6;\n",
              "    }\n",
              "\n",
              "    [theme=dark] .colab-df-convert {\n",
              "      background-color: #3B4455;\n",
              "      fill: #D2E3FC;\n",
              "    }\n",
              "\n",
              "    [theme=dark] .colab-df-convert:hover {\n",
              "      background-color: #434B5C;\n",
              "      box-shadow: 0px 1px 3px 1px rgba(0, 0, 0, 0.15);\n",
              "      filter: drop-shadow(0px 1px 2px rgba(0, 0, 0, 0.3));\n",
              "      fill: #FFFFFF;\n",
              "    }\n",
              "  </style>\n",
              "\n",
              "      <script>\n",
              "        const buttonEl =\n",
              "          document.querySelector('#df-cc9fe952-1b2d-4852-8556-de322540b452 button.colab-df-convert');\n",
              "        buttonEl.style.display =\n",
              "          google.colab.kernel.accessAllowed ? 'block' : 'none';\n",
              "\n",
              "        async function convertToInteractive(key) {\n",
              "          const element = document.querySelector('#df-cc9fe952-1b2d-4852-8556-de322540b452');\n",
              "          const dataTable =\n",
              "            await google.colab.kernel.invokeFunction('convertToInteractive',\n",
              "                                                     [key], {});\n",
              "          if (!dataTable) return;\n",
              "\n",
              "          const docLinkHtml = 'Like what you see? Visit the ' +\n",
              "            '<a target=\"_blank\" href=https://colab.research.google.com/notebooks/data_table.ipynb>data table notebook</a>'\n",
              "            + ' to learn more about interactive tables.';\n",
              "          element.innerHTML = '';\n",
              "          dataTable['output_type'] = 'display_data';\n",
              "          await google.colab.output.renderOutput(dataTable, element);\n",
              "          const docLink = document.createElement('div');\n",
              "          docLink.innerHTML = docLinkHtml;\n",
              "          element.appendChild(docLink);\n",
              "        }\n",
              "      </script>\n",
              "    </div>\n",
              "  </div>\n",
              "  "
            ]
          },
          "metadata": {},
          "execution_count": 33
        }
      ]
    },
    {
      "cell_type": "markdown",
      "source": [
        "Split `'variable'` to get the integer interval."
      ],
      "metadata": {
        "id": "omnW2YT7zTKB"
      }
    },
    {
      "cell_type": "code",
      "source": [
        "melt['interval'] = melt.variable.str.rpartition('_')[2] # get the interval number (split)"
      ],
      "metadata": {
        "id": "qr_RX8zgxqQu"
      },
      "execution_count": 34,
      "outputs": []
    },
    {
      "cell_type": "markdown",
      "source": [
        "Plot the clusters with `seaborn.relplot()`."
      ],
      "metadata": {
        "id": "Uf8pWJ7VzZ_-"
      }
    },
    {
      "cell_type": "code",
      "source": [
        "%time \n",
        "ax = sns.relplot(data=melt, x='interval', y='avg_usage', col='cluster', kind='line')\n",
        "ax.set(xlabel='Interval', ylabel='Usage')\n",
        "plt.xticks([-1, 19, 39])\n",
        "plt.show()"
      ],
      "metadata": {
        "colab": {
          "base_uri": "https://localhost:8080/",
          "height": 374
        },
        "id": "KKt3QfE4thWZ",
        "outputId": "1ab6cf30-8872-45d2-8875-f7f4edd35e29"
      },
      "execution_count": 35,
      "outputs": [
        {
          "output_type": "stream",
          "name": "stdout",
          "text": [
            "CPU times: user 4 µs, sys: 0 ns, total: 4 µs\n",
            "Wall time: 8.11 µs\n"
          ]
        },
        {
          "output_type": "display_data",
          "data": {
            "text/plain": [
              "<Figure size 1800x360 with 5 Axes>"
            ],
            "image/png": "[encoded data removed]"
          },
          "metadata": {}
        }
      ]
    },
    {
      "cell_type": "markdown",
      "source": [
        "Plot the clusters together in a single plot."
      ],
      "metadata": {
        "id": "xU7AIFxszknh"
      }
    },
    {
      "cell_type": "code",
      "source": [
        "ax = sns.lineplot(data=melt, x='interval', y='avg_usage', hue='cluster', palette=\"Paired\", legend=True, ci=None)\n",
        "ax.set(xlabel='Interval', ylabel='Consumption', title=\"Average Consumption by Cluster\")\n",
        "plt.xticks([-1, 4, 9, 14, 19, 24, 29, 34, 39, 44, 49])\n",
        "\n",
        "# ax.text(38.5, 0.01, \"Cluster 4\", size=17)\n",
        "# ax.text(38.5, 0.026, \"Cluster 3\", size=17)\n",
        "# ax.text(38.5, 0.0305, \"Cluster 1\", size=17)\n",
        "# ax.text(38.5, 0.0346, \"Cluster 0\", size=17)\n",
        "# ax.text(38.5, 0.0395, \"Cluster 2\", size=17)\n",
        "\n",
        "plt.show()"
      ],
      "metadata": {
        "colab": {
          "base_uri": "https://localhost:8080/",
          "height": 766
        },
        "id": "pNLwZe7wu-88",
        "outputId": "b82dc751-1db1-4e6e-93f1-0bd382b4a5e6"
      },
      "execution_count": 36,
      "outputs": [
        {
          "output_type": "display_data",
          "data": {
            "text/plain": [
              "<Figure size 1382.4x864 with 1 Axes>"
            ],
            "image/png": "[encoded data removed]"
          },
          "metadata": {}
        }
      ]
    },
    {
      "cell_type": "markdown",
      "source": [
        "#### Peak Time\n",
        "\n",
        "**Peak time** hours fluxuate based on region, season, weather, and other factors. (For example, OGE currently defines peak hours as Monday-Friday, 2:00 - 7:00PM from June 1st to September 30th.) For the purpose of demonstrating this concept, we might define peak time arbitrarily as when the average electricity usage is at least 25% higher than it should be in the case of an evenly distributed usage (regardless of season, weather, etc). "
      ],
      "metadata": {
        "id": "bXsMlkSWgCeJ"
      }
    },
    {
      "cell_type": "code",
      "source": [
        "interval_avg_melt['interval'] = interval_avg_melt['interval'].astype('int')\n",
        "sum_by_int = interval_avg_melt.groupby('interval')['avg_usage'].sum()\n",
        "sum_by_int.head()"
      ],
      "metadata": {
        "colab": {
          "base_uri": "https://localhost:8080/"
        },
        "id": "5t7URtOHhFQK",
        "outputId": "07643ba9-cc88-4a4e-f9d8-44baad7fd8bf"
      },
      "execution_count": 48,
      "outputs": [
        {
          "output_type": "execute_result",
          "data": {
            "text/plain": [
              "interval\n",
              "1    2390.306957\n",
              "2    2005.113067\n",
              "3    1735.189247\n",
              "4    1549.540069\n",
              "5    1425.643530\n",
              "Name: avg_usage, dtype: float64"
            ]
          },
          "metadata": {},
          "execution_count": 48
        }
      ]
    },
    {
      "cell_type": "code",
      "source": [
        "ax = sns.barplot(x=sum_by_int.index, y=sum_by_int.values, color='steelblue')\n",
        "\n",
        "ax.set(xlabel='Interval', ylabel='Half-hourly Usage (kWh)', title=\"Identifying Peak Consumption\")\n",
        "ax.axhline(sum_by_int.sum() / 48 * 1.25, color=\"red\")\n",
        "\n",
        "ax.text(3, 4000, \"Peak Threshold\", size=17)\n",
        "\n",
        "ax.set_xticks([0, 4, 9, 14, 19, 24, 29, 34, 39, 44, 48])\n",
        "ax.set_xticklabels(['', '5', '10', '15', '20', '25', '30', '35', '40', '45'])\n",
        "\n",
        "plt.show()"
      ],
      "metadata": {
        "colab": {
          "base_uri": "https://localhost:8080/",
          "height": 766
        },
        "id": "-6X7fDIcg4Xz",
        "outputId": "2617a4a1-aca1-46d0-aeca-b17fec8d81f4"
      },
      "execution_count": 60,
      "outputs": [
        {
          "output_type": "display_data",
          "data": {
            "text/plain": [
              "<Figure size 1382.4x864 with 1 Axes>"
            ],
            "image/png": "[encoded data removed]"
          },
          "metadata": {}
        }
      ]
    },
    {
      "cell_type": "markdown",
      "source": [
        "Calculate the proportion of usage per interval. Good candidates are those who use more electricity \"off-peak\" than they should in the case of an evenly distributed usage. Peak time accounts for 25% of the day (12/48 intervals). Those who use less than 25% of their electricity during peak hours are good candidates for DR. \n",
        "\n",
        "In this case only cluster 4 qualifies as optimal candidates for DR. Cluster 3 might also be considered due to the relatively low peak usage."
      ],
      "metadata": {
        "id": "NXQz9NBUkQO_"
      }
    },
    {
      "cell_type": "code",
      "source": [
        "peak = ['interval_34', 'interval_35', 'interval_36', 'interval_37', 'interval_38', \n",
        "        'interval_39', 'interval_40', 'interval_41', 'interval_42', 'interval_43', \n",
        "        'interval_44', 'interval_45']\n",
        "\n",
        "tbl = (pd.DataFrame(cust_avg_usage_with_cluster.groupby('cluster')[peak].sum().sum(axis=1) / \n",
        "                    cust_avg_usage_with_cluster.iloc[:, 1:].groupby('cluster').sum().sum(axis=1), columns=['Peak Usage %']) * 100).round(2)\n",
        "\n",
        "tbl"
      ],
      "metadata": {
        "colab": {
          "base_uri": "https://localhost:8080/",
          "height": 238
        },
        "id": "Bi5wwKvVkraS",
        "outputId": "80d9ec9e-bd88-41c9-9b93-2cdd7628ae6e"
      },
      "execution_count": 84,
      "outputs": [
        {
          "output_type": "execute_result",
          "data": {
            "text/plain": [
              "         Peak Usage %\n",
              "cluster              \n",
              "0               38.55\n",
              "1               38.18\n",
              "2               41.65\n",
              "3               33.82\n",
              "4               19.91"
            ],
            "text/html": [
              "\n",
              "  <div id=\"df-7f8fca92-134f-46d5-9f59-4813ae573f62\">\n",
              "    <div class=\"colab-df-container\">\n",
              "      <div>\n",
              "<style scoped>\n",
              "    .dataframe tbody tr th:only-of-type {\n",
              "        vertical-align: middle;\n",
              "    }\n",
              "\n",
              "    .dataframe tbody tr th {\n",
              "        vertical-align: top;\n",
              "    }\n",
              "\n",
              "    .dataframe thead th {\n",
              "        text-align: right;\n",
              "    }\n",
              "</style>\n",
              "<table border=\"1\" class=\"dataframe\">\n",
              "  <thead>\n",
              "    <tr style=\"text-align: right;\">\n",
              "      <th></th>\n",
              "      <th>Peak Usage %</th>\n",
              "    </tr>\n",
              "    <tr>\n",
              "      <th>cluster</th>\n",
              "      <th></th>\n",
              "    </tr>\n",
              "  </thead>\n",
              "  <tbody>\n",
              "    <tr>\n",
              "      <th>0</th>\n",
              "      <td>38.55</td>\n",
              "    </tr>\n",
              "    <tr>\n",
              "      <th>1</th>\n",
              "      <td>38.18</td>\n",
              "    </tr>\n",
              "    <tr>\n",
              "      <th>2</th>\n",
              "      <td>41.65</td>\n",
              "    </tr>\n",
              "    <tr>\n",
              "      <th>3</th>\n",
              "      <td>33.82</td>\n",
              "    </tr>\n",
              "    <tr>\n",
              "      <th>4</th>\n",
              "      <td>19.91</td>\n",
              "    </tr>\n",
              "  </tbody>\n",
              "</table>\n",
              "</div>\n",
              "      <button class=\"colab-df-convert\" onclick=\"convertToInteractive('df-7f8fca92-134f-46d5-9f59-4813ae573f62')\"\n",
              "              title=\"Convert this dataframe to an interactive table.\"\n",
              "              style=\"display:none;\">\n",
              "        \n",
              "  <svg xmlns=\"http://www.w3.org/2000/svg\" height=\"24px\"viewBox=\"0 0 24 24\"\n",
              "       width=\"24px\">\n",
              "    <path d=\"M0 0h24v24H0V0z\" fill=\"none\"/>\n",
              "    <path d=\"M18.56 5.44l.94 2.06.94-2.06 2.06-.94-2.06-.94-.94-2.06-.94 2.06-2.06.94zm-11 1L8.5 8.5l.94-2.06 2.06-.94-2.06-.94L8.5 2.5l-.94 2.06-2.06.94zm10 10l.94 2.06.94-2.06 2.06-.94-2.06-.94-.94-2.06-.94 2.06-2.06.94z\"/><path d=\"M17.41 7.96l-1.37-1.37c-.4-.4-.92-.59-1.43-.59-.52 0-1.04.2-1.43.59L10.3 9.45l-7.72 7.72c-.78.78-.78 2.05 0 2.83L4 21.41c.39.39.9.59 1.41.59.51 0 1.02-.2 1.41-.59l7.78-7.78 2.81-2.81c.8-.78.8-2.07 0-2.86zM5.41 20L4 18.59l7.72-7.72 1.47 1.35L5.41 20z\"/>\n",
              "  </svg>\n",
              "      </button>\n",
              "      \n",
              "  <style>\n",
              "    .colab-df-container {\n",
              "      display:flex;\n",
              "      flex-wrap:wrap;\n",
              "      gap: 12px;\n",
              "    }\n",
              "\n",
              "    .colab-df-convert {\n",
              "      background-color: #E8F0FE;\n",
              "      border: none;\n",
              "      border-radius: 50%;\n",
              "      cursor: pointer;\n",
              "      display: none;\n",
              "      fill: #1967D2;\n",
              "      height: 32px;\n",
              "      padding: 0 0 0 0;\n",
              "      width: 32px;\n",
              "    }\n",
              "\n",
              "    .colab-df-convert:hover {\n",
              "      background-color: #E2EBFA;\n",
              "      box-shadow: 0px 1px 2px rgba(60, 64, 67, 0.3), 0px 1px 3px 1px rgba(60, 64, 67, 0.15);\n",
              "      fill: #174EA6;\n",
              "    }\n",
              "\n",
              "    [theme=dark] .colab-df-convert {\n",
              "      background-color: #3B4455;\n",
              "      fill: #D2E3FC;\n",
              "    }\n",
              "\n",
              "    [theme=dark] .colab-df-convert:hover {\n",
              "      background-color: #434B5C;\n",
              "      box-shadow: 0px 1px 3px 1px rgba(0, 0, 0, 0.15);\n",
              "      filter: drop-shadow(0px 1px 2px rgba(0, 0, 0, 0.3));\n",
              "      fill: #FFFFFF;\n",
              "    }\n",
              "  </style>\n",
              "\n",
              "      <script>\n",
              "        const buttonEl =\n",
              "          document.querySelector('#df-7f8fca92-134f-46d5-9f59-4813ae573f62 button.colab-df-convert');\n",
              "        buttonEl.style.display =\n",
              "          google.colab.kernel.accessAllowed ? 'block' : 'none';\n",
              "\n",
              "        async function convertToInteractive(key) {\n",
              "          const element = document.querySelector('#df-7f8fca92-134f-46d5-9f59-4813ae573f62');\n",
              "          const dataTable =\n",
              "            await google.colab.kernel.invokeFunction('convertToInteractive',\n",
              "                                                     [key], {});\n",
              "          if (!dataTable) return;\n",
              "\n",
              "          const docLinkHtml = 'Like what you see? Visit the ' +\n",
              "            '<a target=\"_blank\" href=https://colab.research.google.com/notebooks/data_table.ipynb>data table notebook</a>'\n",
              "            + ' to learn more about interactive tables.';\n",
              "          element.innerHTML = '';\n",
              "          dataTable['output_type'] = 'display_data';\n",
              "          await google.colab.output.renderOutput(dataTable, element);\n",
              "          const docLink = document.createElement('div');\n",
              "          docLink.innerHTML = docLinkHtml;\n",
              "          element.appendChild(docLink);\n",
              "        }\n",
              "      </script>\n",
              "    </div>\n",
              "  </div>\n",
              "  "
            ]
          },
          "metadata": {},
          "execution_count": 84
        }
      ]
    },
    {
      "cell_type": "code",
      "source": [
        "ax = sns.barplot(x=tbl.index, y=tbl['Peak Usage %'], color='steelblue')\n",
        "ax.set(title='Cluster 4 Customers Good Candidates for DR Programs')\n",
        "ax.axhline(25, color=\"red\")\n",
        "plt.show()"
      ],
      "metadata": {
        "colab": {
          "base_uri": "https://localhost:8080/",
          "height": 766
        },
        "id": "kKBHWv3EoK0m",
        "outputId": "4fa5ec59-c687-423e-e9c7-715b8c3f5f7c"
      },
      "execution_count": 85,
      "outputs": [
        {
          "output_type": "display_data",
          "data": {
            "text/plain": [
              "<Figure size 1382.4x864 with 1 Axes>"
            ],
            "image/png": "[encoded data removed]"
          },
          "metadata": {}
        }
      ]
    },
    {
      "cell_type": "markdown",
      "source": [
        "This project was inspired by Martinez-Pabon, M., Eveleigh, T and Tanju, B. (2016). Smart meter data analytics for optimal customer selection in demand response programs. _Energy Procedia_(107) 49 – 59. \n",
        "\n",
        "References\n",
        "\n",
        "1. Martinez-Pabon, M., Eveleigh, T and Tanju, B. (2016). Smart meter data analytics for optimal customer selection in demand response programs. _Energy Procedia_(107) 49 – 59. \n",
        "2. https://www.cpuc.ca.gov/industries-and-topics/electrical-energy/electric-costs/demand-response-dr\n",
        "3. Commission for Energy Regulation (CER). (2012). CER Smart Metering Project - Electricity Customer Behaviour Trial, 2009-2010 [dataset]. 1st Edition. Irish Social Science Data Archive. SN: 0012-00. https://www.ucd.ie/issda/data/commissionforenergyregulationcer/.\n",
        "4. VanderPlas, J. (2016). _Python Data Science Handbook_. O'Reilly Media, Inc. https://jakevdp.github.io/PythonDataScienceHandbook/. "
      ],
      "metadata": {
        "id": "L2PDMje-PJRL"
      }
    }
  ]
}