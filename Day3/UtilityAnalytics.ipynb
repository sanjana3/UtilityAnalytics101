{
  "nbformat": 4,
  "nbformat_minor": 0,
  "metadata": {
    "colab": {
      "provenance": [],
      "authorship_tag": "ABX9TyOMLN/0/jbCG5VEVfzJe1wt",
      "include_colab_link": true
    },
    "kernelspec": {
      "name": "python3",
      "display_name": "Python 3"
    },
    "language_info": {
      "name": "python"
    }
  },
  "cells": [
    {
      "cell_type": "markdown",
      "metadata": {
        "id": "view-in-github",
        "colab_type": "text"
      },
      "source": [
        "<a href=\"https://colab.research.google.com/github/blcrow/ua101/blob/main/UtilityAnalytics.ipynb\" target=\"_parent\"><img src=\"https://colab.research.google.com/assets/colab-badge.svg\" alt=\"Open In Colab\"/></a>"
      ]
    },
    {
      "cell_type": "markdown",
      "metadata": {
        "id": "yVTeCmRwi3Jv"
      },
      "source": [
        "# Jupyter Notebook\n",
        " **What**: Browser-based tool for interactive computing that allows the user to capture the whole computation process - developing, documenting, and executing code, as well as communicating the results.\n",
        "\n",
        "#### Syntax and Features\n",
        "1. There are two primary cell types -- Code and Markdown.\n",
        "2. Enter your command in the input cell, then press __shift + enter__ to execute the command.\n",
        "3. Note the locations of the menu bar and the tool bar.\n",
        "    - Save and Checkpoint\n",
        "    - References in `Help`\n",
        "4. Magic commands\n",
        "    - Line magics\n",
        "    - Cell magics"
      ]
    },
    {
      "cell_type": "markdown",
      "metadata": {
        "id": "NPVRmgu_jkVn"
      },
      "source": [
        "## Headers and Formatting"
      ]
    },
    {
      "cell_type": "markdown",
      "source": [
        "\n",
        "### H3\n",
        "#### H4\n",
        "\n",
        "**Bold**\n",
        "\n",
        "_Italics_\n",
        "\n",
        "~Strikethough~\n",
        "\n",
        "> Indent\n",
        "\n",
        "`Code`\n",
        "\n",
        "Lists\n",
        "* Item 1\n",
        "* Item 2\n",
        "\n",
        "Ordered Lists\n",
        "1. Item 1\n",
        "2. Item 2"
      ],
      "metadata": {
        "id": "BgPT1oc2hzw_"
      }
    },
    {
      "cell_type": "markdown",
      "source": [
        "### Cell and Line Magic"
      ],
      "metadata": {
        "id": "pgPSslX8iJix"
      }
    },
    {
      "cell_type": "code",
      "metadata": {
        "colab": {
          "base_uri": "https://localhost:8080/",
          "height": 161
        },
        "id": "wntyLGT4kWI_",
        "outputId": "a20e9863-e085-474a-dfd2-4d730caf2737"
      },
      "source": [
        "%lsmagic"
      ],
      "execution_count": null,
      "outputs": [
        {
          "output_type": "execute_result",
          "data": {
            "text/plain": [
              "Available line magics:\n",
              "%alias  %alias_magic  %autocall  %automagic  %autosave  %bookmark  %cat  %cd  %clear  %colors  %config  %connect_info  %cp  %debug  %dhist  %dirs  %doctest_mode  %ed  %edit  %env  %gui  %hist  %history  %killbgscripts  %ldir  %less  %lf  %lk  %ll  %load  %load_ext  %loadpy  %logoff  %logon  %logstart  %logstate  %logstop  %ls  %lsmagic  %lx  %macro  %magic  %man  %matplotlib  %mkdir  %more  %mv  %notebook  %page  %pastebin  %pdb  %pdef  %pdoc  %pfile  %pinfo  %pinfo2  %pip  %popd  %pprint  %precision  %profile  %prun  %psearch  %psource  %pushd  %pwd  %pycat  %pylab  %qtconsole  %quickref  %recall  %rehashx  %reload_ext  %rep  %rerun  %reset  %reset_selective  %rm  %rmdir  %run  %save  %sc  %set_env  %shell  %store  %sx  %system  %tb  %tensorflow_version  %time  %timeit  %unalias  %unload_ext  %who  %who_ls  %whos  %xdel  %xmode\n",
              "\n",
              "Available cell magics:\n",
              "%%!  %%HTML  %%SVG  %%bash  %%bigquery  %%capture  %%debug  %%file  %%html  %%javascript  %%js  %%latex  %%perl  %%prun  %%pypy  %%python  %%python2  %%python3  %%ruby  %%script  %%sh  %%shell  %%svg  %%sx  %%system  %%time  %%timeit  %%writefile\n",
              "\n",
              "Automagic is ON, % prefix IS NOT needed for line magics."
            ],
            "application/json": {
              "line": {
                "automagic": "AutoMagics",
                "autocall": "AutoMagics",
                "alias_magic": "BasicMagics",
                "lsmagic": "BasicMagics",
                "magic": "BasicMagics",
                "page": "BasicMagics",
                "profile": "BasicMagics",
                "pprint": "BasicMagics",
                "colors": "BasicMagics",
                "xmode": "BasicMagics",
                "quickref": "BasicMagics",
                "doctest_mode": "BasicMagics",
                "gui": "BasicMagics",
                "precision": "BasicMagics",
                "notebook": "BasicMagics",
                "save": "CodeMagics",
                "pastebin": "CodeMagics",
                "loadpy": "CodeMagics",
                "load": "CodeMagics",
                "edit": "KernelMagics",
                "config": "ConfigMagics",
                "prun": "ExecutionMagics",
                "pdb": "ExecutionMagics",
                "debug": "ExecutionMagics",
                "tb": "ExecutionMagics",
                "run": "ExecutionMagics",
                "timeit": "ExecutionMagics",
                "time": "ExecutionMagics",
                "macro": "ExecutionMagics",
                "load_ext": "ExtensionMagics",
                "unload_ext": "ExtensionMagics",
                "reload_ext": "ExtensionMagics",
                "history": "HistoryMagics",
                "recall": "HistoryMagics",
                "rerun": "HistoryMagics",
                "logstart": "LoggingMagics",
                "logstop": "LoggingMagics",
                "logoff": "LoggingMagics",
                "logon": "LoggingMagics",
                "logstate": "LoggingMagics",
                "pinfo": "NamespaceMagics",
                "pinfo2": "NamespaceMagics",
                "pdef": "NamespaceMagics",
                "pdoc": "NamespaceMagics",
                "psource": "NamespaceMagics",
                "pfile": "NamespaceMagics",
                "psearch": "NamespaceMagics",
                "who_ls": "NamespaceMagics",
                "who": "NamespaceMagics",
                "whos": "NamespaceMagics",
                "reset": "NamespaceMagics",
                "reset_selective": "NamespaceMagics",
                "xdel": "NamespaceMagics",
                "alias": "OSMagics",
                "unalias": "OSMagics",
                "rehashx": "OSMagics",
                "pwd": "OSMagics",
                "cd": "OSMagics",
                "env": "OSMagics",
                "set_env": "OSMagics",
                "pushd": "OSMagics",
                "popd": "OSMagics",
                "dirs": "OSMagics",
                "dhist": "OSMagics",
                "sc": "OSMagics",
                "sx": "OSMagics",
                "system": "OSMagics",
                "bookmark": "OSMagics",
                "pycat": "OSMagics",
                "matplotlib": "PylabMagics",
                "pylab": "PylabMagics",
                "killbgscripts": "ScriptMagics",
                "ed": "Other",
                "hist": "Other",
                "rep": "Other",
                "clear": "KernelMagics",
                "less": "KernelMagics",
                "more": "KernelMagics",
                "man": "KernelMagics",
                "connect_info": "KernelMagics",
                "qtconsole": "KernelMagics",
                "autosave": "KernelMagics",
                "mkdir": "Other",
                "rmdir": "Other",
                "mv": "Other",
                "rm": "Other",
                "cp": "Other",
                "cat": "Other",
                "ls": "Other",
                "ll": "Other",
                "lf": "Other",
                "lk": "Other",
                "ldir": "Other",
                "lx": "Other",
                "store": "StoreMagics",
                "shell": "Other",
                "pip": "Other",
                "tensorflow_version": "Other"
              },
              "cell": {
                "js": "DisplayMagics",
                "javascript": "DisplayMagics",
                "latex": "DisplayMagics",
                "svg": "DisplayMagics",
                "html": "DisplayMagics",
                "prun": "ExecutionMagics",
                "debug": "ExecutionMagics",
                "timeit": "ExecutionMagics",
                "time": "ExecutionMagics",
                "capture": "ExecutionMagics",
                "sx": "OSMagics",
                "system": "OSMagics",
                "!": "OSMagics",
                "writefile": "OSMagics",
                "script": "ScriptMagics",
                "sh": "Other",
                "bash": "Other",
                "perl": "Other",
                "ruby": "Other",
                "python": "Other",
                "python2": "Other",
                "python3": "Other",
                "pypy": "Other",
                "SVG": "Other",
                "HTML": "Other",
                "file": "Other",
                "bigquery": "Other",
                "shell": "Other"
              }
            }
          },
          "metadata": {},
          "execution_count": 121
        }
      ]
    },
    {
      "cell_type": "code",
      "metadata": {
        "colab": {
          "base_uri": "https://localhost:8080/"
        },
        "id": "uJBbzEywknX6",
        "outputId": "e759d6e4-70e6-440d-e079-bbc6f3621f65"
      },
      "source": [
        "# Get the mean + standard deviation of many runs of the command\n",
        "import numpy as np\n",
        "%timeit np.random.normal(size=100)"
      ],
      "execution_count": null,
      "outputs": [
        {
          "output_type": "stream",
          "name": "stdout",
          "text": [
            "The slowest run took 180.97 times longer than the fastest. This could mean that an intermediate result is being cached.\n",
            "100000 loops, best of 5: 8.84 µs per loop\n"
          ]
        }
      ]
    },
    {
      "cell_type": "markdown",
      "metadata": {
        "id": "CndWtAcFl0eN"
      },
      "source": [
        "Use LaTeX for formulas\n",
        "\n",
        "\\begin{equation}\n",
        " \\Pr(A | B)=\\frac{\\Pr(B|A)\\Pr(A)}{\\Pr(B)}\n",
        "\\end{equation}"
      ]
    },
    {
      "cell_type": "code",
      "metadata": {
        "colab": {
          "base_uri": "https://localhost:8080/",
          "height": 671
        },
        "id": "TyPBCeHmlKsd",
        "outputId": "9930643d-0d0a-416f-cf26-64196e958a4c"
      },
      "source": [
        "# Import external media with an iframe\n",
        "from IPython.display import IFrame\n",
        "IFrame('https://www.ou.edu/coe/dsai', width=950, height=650)"
      ],
      "execution_count": null,
      "outputs": [
        {
          "output_type": "execute_result",
          "data": {
            "text/plain": [
              "<IPython.lib.display.IFrame at 0x7ff689c25910>"
            ],
            "text/html": [
              "\n",
              "        <iframe\n",
              "            width=\"950\"\n",
              "            height=\"650\"\n",
              "            src=\"https://www.ou.edu/coe/dsai\"\n",
              "            frameborder=\"0\"\n",
              "            allowfullscreen\n",
              "        ></iframe>\n",
              "        "
            ]
          },
          "metadata": {},
          "execution_count": 123
        }
      ]
    },
    {
      "cell_type": "markdown",
      "source": [
        "## Python Notes\n",
        "\n",
        "Python is one of the more popular languages both generally and for data analysis purposes. With support from libraries like pandas, NumPy, Matplotlib, and others, it is a strong alternative to R, Matlab, SAS, and other widely used tools. \n",
        "\n",
        "This notebook is not intended to provide an exhaustive introduction to programming in Python. Rather, it is meant to give a brief overview of language features often used in data analysis tasks.\n",
        "***"
      ],
      "metadata": {
        "id": "H_c0f8NbxzeQ"
      }
    },
    {
      "cell_type": "markdown",
      "source": [
        "### Comments\n",
        "are human readable text that the Python interpreter will not read. To create a comment, lead off the line with the `#` sign. \n",
        "\n",
        "Comments that span multiple lines are surrounded with triple quotes."
      ],
      "metadata": {
        "id": "RKQ4Usopx_Ti"
      }
    },
    {
      "cell_type": "code",
      "source": [
        "# This is a comment\n",
        "\"\"\"\n",
        "This is a \n",
        "multi-line comment.\n",
        "\"\"\""
      ],
      "metadata": {
        "colab": {
          "base_uri": "https://localhost:8080/",
          "height": 36
        },
        "id": "v2f2IoW9yDs4",
        "outputId": "bd00a353-ad34-4264-ead4-2279bd882d02"
      },
      "execution_count": null,
      "outputs": [
        {
          "output_type": "execute_result",
          "data": {
            "text/plain": [
              "'\\nThis is a \\nmulti-line comment.\\n'"
            ],
            "application/vnd.google.colaboratory.intrinsic+json": {
              "type": "string"
            }
          },
          "metadata": {},
          "execution_count": 124
        }
      ]
    },
    {
      "cell_type": "markdown",
      "source": [
        "### Working in Python"
      ],
      "metadata": {
        "id": "kXdRgsZND5sz"
      }
    },
    {
      "cell_type": "code",
      "source": [
        "x = 6 * 7 + 12\n",
        "print(x)"
      ],
      "metadata": {
        "colab": {
          "base_uri": "https://localhost:8080/"
        },
        "id": "H2fEX2JuD8iE",
        "outputId": "ef32740a-e5c3-4201-dbed-2baf1373eaea"
      },
      "execution_count": null,
      "outputs": [
        {
          "output_type": "stream",
          "name": "stdout",
          "text": [
            "54\n"
          ]
        }
      ]
    },
    {
      "cell_type": "markdown",
      "source": [
        "#### Variables and Assignments"
      ],
      "metadata": {
        "id": "7zlZsxMYECgK"
      }
    },
    {
      "cell_type": "code",
      "source": [
        "age = 34\n",
        "first_name = \"Brandon\"\n",
        "last_name = \"Crow\""
      ],
      "metadata": {
        "id": "sNnQcxmZEBhg"
      },
      "execution_count": null,
      "outputs": []
    },
    {
      "cell_type": "code",
      "source": [
        "print(first_name, 'is', age, 'years old.')"
      ],
      "metadata": {
        "colab": {
          "base_uri": "https://localhost:8080/"
        },
        "id": "JPTb1L8YEITd",
        "outputId": "1ff3b935-b35a-46d1-fa2d-8d07b2efbe63"
      },
      "execution_count": null,
      "outputs": [
        {
          "output_type": "stream",
          "name": "stdout",
          "text": [
            "Brandon is 34 years old.\n"
          ]
        }
      ]
    },
    {
      "cell_type": "markdown",
      "source": [
        "The last assignment is the one that matters."
      ],
      "metadata": {
        "id": "J0JG5pNjEOyl"
      }
    },
    {
      "cell_type": "code",
      "source": [
        "first_name = \"Sally\"\n",
        "print(first_name)"
      ],
      "metadata": {
        "id": "Ic2A8z0bEOJl"
      },
      "execution_count": null,
      "outputs": []
    },
    {
      "cell_type": "code",
      "source": [
        "age = age + 3\n",
        "print('Age in three years:', age)"
      ],
      "metadata": {
        "colab": {
          "base_uri": "https://localhost:8080/"
        },
        "id": "LFxEGt-SETu3",
        "outputId": "aa95fcbf-73b6-4444-ab94-a79d2e26f3b3"
      },
      "execution_count": null,
      "outputs": [
        {
          "output_type": "stream",
          "name": "stdout",
          "text": [
            "Age in three years: 37\n"
          ]
        }
      ]
    },
    {
      "cell_type": "markdown",
      "source": [
        "Python is a 0-indexed language...it starts counting at 0."
      ],
      "metadata": {
        "id": "j7elJnj7EXVE"
      }
    },
    {
      "cell_type": "code",
      "source": [
        "atom_name = 'helium'"
      ],
      "metadata": {
        "id": "JaduI4G4EWlz"
      },
      "execution_count": null,
      "outputs": []
    },
    {
      "cell_type": "code",
      "source": [
        "print(atom_name[0])"
      ],
      "metadata": {
        "colab": {
          "base_uri": "https://localhost:8080/"
        },
        "id": "wogJssemEgfJ",
        "outputId": "d0773960-657d-4f6e-a763-b1c15813979c"
      },
      "execution_count": null,
      "outputs": [
        {
          "output_type": "stream",
          "name": "stdout",
          "text": [
            "h\n"
          ]
        }
      ]
    },
    {
      "cell_type": "code",
      "source": [
        "print(atom_name[4])"
      ],
      "metadata": {
        "colab": {
          "base_uri": "https://localhost:8080/"
        },
        "id": "TDhiVImREjy2",
        "outputId": "42e3ddd8-0070-45a5-8c80-ac179399d696"
      },
      "execution_count": null,
      "outputs": [
        {
          "output_type": "stream",
          "name": "stdout",
          "text": [
            "u\n"
          ]
        }
      ]
    },
    {
      "cell_type": "code",
      "source": [
        "print(atom_name[11])"
      ],
      "metadata": {
        "colab": {
          "base_uri": "https://localhost:8080/",
          "height": 168
        },
        "id": "kquP7uTGEkuw",
        "outputId": "74a24a1b-6990-4727-aab2-516d8dbe3283"
      },
      "execution_count": null,
      "outputs": [
        {
          "output_type": "error",
          "ename": "IndexError",
          "evalue": "ignored",
          "traceback": [
            "\u001b[0;31m---------------------------------------------------------------------------\u001b[0m",
            "\u001b[0;31mIndexError\u001b[0m                                Traceback (most recent call last)",
            "\u001b[0;32m<ipython-input-193-59d67890ca64>\u001b[0m in \u001b[0;36m<module>\u001b[0;34m()\u001b[0m\n\u001b[0;32m----> 1\u001b[0;31m \u001b[0mprint\u001b[0m\u001b[0;34m(\u001b[0m\u001b[0matom_name\u001b[0m\u001b[0;34m[\u001b[0m\u001b[0;36m11\u001b[0m\u001b[0;34m]\u001b[0m\u001b[0;34m)\u001b[0m\u001b[0;34m\u001b[0m\u001b[0;34m\u001b[0m\u001b[0m\n\u001b[0m",
            "\u001b[0;31mIndexError\u001b[0m: string index out of range"
          ]
        }
      ]
    },
    {
      "cell_type": "code",
      "source": [
        "print(atom_name[-2])"
      ],
      "metadata": {
        "id": "RK7yRSLOEpo8"
      },
      "execution_count": null,
      "outputs": []
    },
    {
      "cell_type": "code",
      "source": [
        "print(atom_name[0:3])"
      ],
      "metadata": {
        "id": "g3MPYNssEqTG"
      },
      "execution_count": null,
      "outputs": []
    },
    {
      "cell_type": "markdown",
      "source": [
        "### Lists\n",
        "- Ordered collection of _elements_ (values or variables), each identified by an index.\n",
        "- Can be written as comma-separated values between square brackets `[...]`\n",
        "- Mutable\n",
        "- Usually the items in a list are of the same type\n",
        "- Use square brackets `[]` to access elements"
      ],
      "metadata": {
        "id": "F0lZwo2KyONW"
      }
    },
    {
      "cell_type": "code",
      "source": [
        "colors = ['red', 'blue', 'green']"
      ],
      "metadata": {
        "id": "WuOkrK56yROJ"
      },
      "execution_count": null,
      "outputs": []
    },
    {
      "cell_type": "markdown",
      "source": [
        "![image.png](data:image/png;base64,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)"
      ],
      "metadata": {
        "id": "1FC4ydVMySW9"
      }
    },
    {
      "cell_type": "code",
      "source": [
        "print(colors)"
      ],
      "metadata": {
        "colab": {
          "base_uri": "https://localhost:8080/"
        },
        "id": "zYA2qpFIyZOw",
        "outputId": "e959c198-a67e-4f6d-c59d-fa91d341c161"
      },
      "execution_count": null,
      "outputs": [
        {
          "output_type": "stream",
          "name": "stdout",
          "text": [
            "['red', 'blue', 'green']\n"
          ]
        }
      ]
    },
    {
      "cell_type": "code",
      "source": [
        "colors[0]"
      ],
      "metadata": {
        "colab": {
          "base_uri": "https://localhost:8080/",
          "height": 36
        },
        "id": "iHNwKXpVyglA",
        "outputId": "3f14a7dd-45d6-4ed4-cee6-ed14f64df320"
      },
      "execution_count": null,
      "outputs": [
        {
          "output_type": "execute_result",
          "data": {
            "text/plain": [
              "'red'"
            ],
            "application/vnd.google.colaboratory.intrinsic+json": {
              "type": "string"
            }
          },
          "metadata": {},
          "execution_count": 127
        }
      ]
    },
    {
      "cell_type": "markdown",
      "source": [
        "Use **slice** syntax to access part of a list -> `list[start:end:step]`"
      ],
      "metadata": {
        "id": "q_KX-qC7ykFa"
      }
    },
    {
      "cell_type": "code",
      "source": [
        "colors[:2]"
      ],
      "metadata": {
        "colab": {
          "base_uri": "https://localhost:8080/"
        },
        "id": "4QdDYwSfynBS",
        "outputId": "0fa13daa-0669-4c22-80c5-67b1ce57e752"
      },
      "execution_count": null,
      "outputs": [
        {
          "output_type": "execute_result",
          "data": {
            "text/plain": [
              "['red', 'blue']"
            ]
          },
          "metadata": {},
          "execution_count": 128
        }
      ]
    },
    {
      "cell_type": "markdown",
      "source": [
        "Negative indexing"
      ],
      "metadata": {
        "id": "4klCn7seyroy"
      }
    },
    {
      "cell_type": "code",
      "source": [
        "colors[-2]"
      ],
      "metadata": {
        "colab": {
          "base_uri": "https://localhost:8080/",
          "height": 36
        },
        "id": "PzhrXsNRyqWN",
        "outputId": "738284a7-08a6-45b1-e0d9-257089bb9c10"
      },
      "execution_count": null,
      "outputs": [
        {
          "output_type": "execute_result",
          "data": {
            "text/plain": [
              "'blue'"
            ],
            "application/vnd.google.colaboratory.intrinsic+json": {
              "type": "string"
            }
          },
          "metadata": {},
          "execution_count": 129
        }
      ]
    },
    {
      "cell_type": "markdown",
      "source": [
        "Count the number of elements in the list."
      ],
      "metadata": {
        "id": "C8S04_0uy46f"
      }
    },
    {
      "cell_type": "code",
      "source": [
        "len(colors)"
      ],
      "metadata": {
        "colab": {
          "base_uri": "https://localhost:8080/"
        },
        "id": "ELKG8_VCy63T",
        "outputId": "acb8e8ad-d68a-42d7-9571-08c52985282f"
      },
      "execution_count": null,
      "outputs": [
        {
          "output_type": "execute_result",
          "data": {
            "text/plain": [
              "3"
            ]
          },
          "metadata": {},
          "execution_count": 130
        }
      ]
    },
    {
      "cell_type": "markdown",
      "source": [
        "### Dictionaries\n",
        "- Unordered collections of objects\n",
        "- Composed of keys and values\n",
        "- Created with curly brackets `{...}`"
      ],
      "metadata": {
        "id": "zvHyXDSJy-SS"
      }
    },
    {
      "cell_type": "code",
      "source": [
        "example_dict = {'name':'Jaime', 'age':30, 'occupation':'speech pathologist'}\n",
        "example_dict"
      ],
      "metadata": {
        "colab": {
          "base_uri": "https://localhost:8080/"
        },
        "id": "4pg3TcQHzMzG",
        "outputId": "f21d9ce2-d328-461c-8a18-43651bd53d23"
      },
      "execution_count": null,
      "outputs": [
        {
          "output_type": "execute_result",
          "data": {
            "text/plain": [
              "{'age': 30, 'name': 'Jaime', 'occupation': 'speech pathologist'}"
            ]
          },
          "metadata": {},
          "execution_count": 131
        }
      ]
    },
    {
      "cell_type": "markdown",
      "source": [
        "Look up values by key with `[...]` syntax or `.get()` method."
      ],
      "metadata": {
        "id": "fVHkr8P-zpF4"
      }
    },
    {
      "cell_type": "code",
      "source": [
        "example_dict['age']\n",
        "# example_dict.get('age')"
      ],
      "metadata": {
        "colab": {
          "base_uri": "https://localhost:8080/"
        },
        "id": "XWb4BupizsaL",
        "outputId": "80e97838-cc3c-423b-d08c-e98c3a13514f"
      },
      "execution_count": null,
      "outputs": [
        {
          "output_type": "execute_result",
          "data": {
            "text/plain": [
              "30"
            ]
          },
          "metadata": {},
          "execution_count": 132
        }
      ]
    },
    {
      "cell_type": "markdown",
      "source": [
        "### Function and object method calls\n",
        "Functions are called using parenthesis and passing zero or more arguments. Optionally, you can assign the returned value to a variable. \n",
        "\n",
        "`result = f(x, y, z)`\n",
        "\n",
        "`g()`"
      ],
      "metadata": {
        "id": "ZWw1iLFHzzAW"
      }
    },
    {
      "cell_type": "code",
      "source": [
        "len(example_dict)"
      ],
      "metadata": {
        "colab": {
          "base_uri": "https://localhost:8080/"
        },
        "id": "JUX9eFBM0jop",
        "outputId": "02f26547-30c5-44ad-993c-c27fbbd839d2"
      },
      "execution_count": null,
      "outputs": [
        {
          "output_type": "execute_result",
          "data": {
            "text/plain": [
              "3"
            ]
          },
          "metadata": {},
          "execution_count": 133
        }
      ]
    },
    {
      "cell_type": "code",
      "source": [
        "print(\"this is a function\")"
      ],
      "metadata": {
        "colab": {
          "base_uri": "https://localhost:8080/"
        },
        "id": "ljuC6asU0rpM",
        "outputId": "0d642a11-402f-4e15-f66a-7bb761c288ef"
      },
      "execution_count": null,
      "outputs": [
        {
          "output_type": "stream",
          "name": "stdout",
          "text": [
            "this is a function\n"
          ]
        }
      ]
    },
    {
      "cell_type": "code",
      "source": [
        "help(help)"
      ],
      "metadata": {
        "id": "wafksltR0uJp"
      },
      "execution_count": null,
      "outputs": []
    },
    {
      "cell_type": "markdown",
      "source": [
        "Functions can take _positional_ and _keyword_ arguments.\n",
        "\n",
        "`f(a, b, c, d=5, e='foo')`"
      ],
      "metadata": {
        "id": "pcUdu9uH0B4g"
      }
    },
    {
      "cell_type": "markdown",
      "source": [
        "Many Python objects have attached functions, or _methods_ to access internal contents. Call them with _dot syntax_.\n",
        "\n",
        "`obj.myMethod(x, y)`"
      ],
      "metadata": {
        "id": "oKAVjlFX0JLq"
      }
    },
    {
      "cell_type": "code",
      "source": [
        "example_dict.keys()"
      ],
      "metadata": {
        "colab": {
          "base_uri": "https://localhost:8080/"
        },
        "id": "GsVE_q8e0gP_",
        "outputId": "b1e7a32f-515d-43d5-ac94-aa428a0f8fff"
      },
      "execution_count": null,
      "outputs": [
        {
          "output_type": "execute_result",
          "data": {
            "text/plain": [
              "dict_keys(['name', 'age', 'occupation'])"
            ]
          },
          "metadata": {},
          "execution_count": 136
        }
      ]
    },
    {
      "cell_type": "markdown",
      "source": [
        "### Modules\n",
        "\n",
        "A **module** is a _.py_ file containing a set of functions that can be imported and included in your application. There are several ways to use modules:\n",
        "* Import the entire module: _`import module`_\n",
        "* Import only specific functions with **`from`**: _**`from`** `module import function1, function2, ...`_\n",
        "* Rename a module by using the **`as`** keyword: _`import module` **`as`** `alias`_"
      ],
      "metadata": {
        "id": "JaUPNNdW0bOb"
      }
    },
    {
      "cell_type": "code",
      "source": [
        "# Import the entire module\n",
        "import statistics"
      ],
      "metadata": {
        "id": "0RGlplm117dn"
      },
      "execution_count": null,
      "outputs": []
    },
    {
      "cell_type": "code",
      "source": [
        "help(statistics)"
      ],
      "metadata": {
        "colab": {
          "base_uri": "https://localhost:8080/"
        },
        "id": "yX1naCAH2ea4",
        "outputId": "21cb991d-9a93-4421-ad8c-0d062f672e9b"
      },
      "execution_count": null,
      "outputs": [
        {
          "output_type": "stream",
          "name": "stdout",
          "text": [
            "Help on module statistics:\n",
            "\n",
            "NAME\n",
            "    statistics - Basic statistics module.\n",
            "\n",
            "MODULE REFERENCE\n",
            "    https://docs.python.org/3.7/library/statistics\n",
            "    \n",
            "    The following documentation is automatically generated from the Python\n",
            "    source files.  It may be incomplete, incorrect or include features that\n",
            "    are considered implementation detail and may vary between Python\n",
            "    implementations.  When in doubt, consult the module reference at the\n",
            "    location listed above.\n",
            "\n",
            "DESCRIPTION\n",
            "    This module provides functions for calculating statistics of data, including\n",
            "    averages, variance, and standard deviation.\n",
            "    \n",
            "    Calculating averages\n",
            "    --------------------\n",
            "    \n",
            "    ==================  =============================================\n",
            "    Function            Description\n",
            "    ==================  =============================================\n",
            "    mean                Arithmetic mean (average) of data.\n",
            "    harmonic_mean       Harmonic mean of data.\n",
            "    median              Median (middle value) of data.\n",
            "    median_low          Low median of data.\n",
            "    median_high         High median of data.\n",
            "    median_grouped      Median, or 50th percentile, of grouped data.\n",
            "    mode                Mode (most common value) of data.\n",
            "    ==================  =============================================\n",
            "    \n",
            "    Calculate the arithmetic mean (\"the average\") of data:\n",
            "    \n",
            "    >>> mean([-1.0, 2.5, 3.25, 5.75])\n",
            "    2.625\n",
            "    \n",
            "    \n",
            "    Calculate the standard median of discrete data:\n",
            "    \n",
            "    >>> median([2, 3, 4, 5])\n",
            "    3.5\n",
            "    \n",
            "    \n",
            "    Calculate the median, or 50th percentile, of data grouped into class intervals\n",
            "    centred on the data values provided. E.g. if your data points are rounded to\n",
            "    the nearest whole number:\n",
            "    \n",
            "    >>> median_grouped([2, 2, 3, 3, 3, 4])  #doctest: +ELLIPSIS\n",
            "    2.8333333333...\n",
            "    \n",
            "    This should be interpreted in this way: you have two data points in the class\n",
            "    interval 1.5-2.5, three data points in the class interval 2.5-3.5, and one in\n",
            "    the class interval 3.5-4.5. The median of these data points is 2.8333...\n",
            "    \n",
            "    \n",
            "    Calculating variability or spread\n",
            "    ---------------------------------\n",
            "    \n",
            "    ==================  =============================================\n",
            "    Function            Description\n",
            "    ==================  =============================================\n",
            "    pvariance           Population variance of data.\n",
            "    variance            Sample variance of data.\n",
            "    pstdev              Population standard deviation of data.\n",
            "    stdev               Sample standard deviation of data.\n",
            "    ==================  =============================================\n",
            "    \n",
            "    Calculate the standard deviation of sample data:\n",
            "    \n",
            "    >>> stdev([2.5, 3.25, 5.5, 11.25, 11.75])  #doctest: +ELLIPSIS\n",
            "    4.38961843444...\n",
            "    \n",
            "    If you have previously calculated the mean, you can pass it as the optional\n",
            "    second argument to the four \"spread\" functions to avoid recalculating it:\n",
            "    \n",
            "    >>> data = [1, 2, 2, 4, 4, 4, 5, 6]\n",
            "    >>> mu = mean(data)\n",
            "    >>> pvariance(data, mu)\n",
            "    2.5\n",
            "    \n",
            "    \n",
            "    Exceptions\n",
            "    ----------\n",
            "    \n",
            "    A single exception is defined: StatisticsError is a subclass of ValueError.\n",
            "\n",
            "CLASSES\n",
            "    builtins.ValueError(builtins.Exception)\n",
            "        StatisticsError\n",
            "    \n",
            "    class StatisticsError(builtins.ValueError)\n",
            "     |  Inappropriate argument value (of correct type).\n",
            "     |  \n",
            "     |  Method resolution order:\n",
            "     |      StatisticsError\n",
            "     |      builtins.ValueError\n",
            "     |      builtins.Exception\n",
            "     |      builtins.BaseException\n",
            "     |      builtins.object\n",
            "     |  \n",
            "     |  Data descriptors defined here:\n",
            "     |  \n",
            "     |  __weakref__\n",
            "     |      list of weak references to the object (if defined)\n",
            "     |  \n",
            "     |  ----------------------------------------------------------------------\n",
            "     |  Methods inherited from builtins.ValueError:\n",
            "     |  \n",
            "     |  __init__(self, /, *args, **kwargs)\n",
            "     |      Initialize self.  See help(type(self)) for accurate signature.\n",
            "     |  \n",
            "     |  ----------------------------------------------------------------------\n",
            "     |  Static methods inherited from builtins.ValueError:\n",
            "     |  \n",
            "     |  __new__(*args, **kwargs) from builtins.type\n",
            "     |      Create and return a new object.  See help(type) for accurate signature.\n",
            "     |  \n",
            "     |  ----------------------------------------------------------------------\n",
            "     |  Methods inherited from builtins.BaseException:\n",
            "     |  \n",
            "     |  __delattr__(self, name, /)\n",
            "     |      Implement delattr(self, name).\n",
            "     |  \n",
            "     |  __getattribute__(self, name, /)\n",
            "     |      Return getattr(self, name).\n",
            "     |  \n",
            "     |  __reduce__(...)\n",
            "     |      Helper for pickle.\n",
            "     |  \n",
            "     |  __repr__(self, /)\n",
            "     |      Return repr(self).\n",
            "     |  \n",
            "     |  __setattr__(self, name, value, /)\n",
            "     |      Implement setattr(self, name, value).\n",
            "     |  \n",
            "     |  __setstate__(...)\n",
            "     |  \n",
            "     |  __str__(self, /)\n",
            "     |      Return str(self).\n",
            "     |  \n",
            "     |  with_traceback(...)\n",
            "     |      Exception.with_traceback(tb) --\n",
            "     |      set self.__traceback__ to tb and return self.\n",
            "     |  \n",
            "     |  ----------------------------------------------------------------------\n",
            "     |  Data descriptors inherited from builtins.BaseException:\n",
            "     |  \n",
            "     |  __cause__\n",
            "     |      exception cause\n",
            "     |  \n",
            "     |  __context__\n",
            "     |      exception context\n",
            "     |  \n",
            "     |  __dict__\n",
            "     |  \n",
            "     |  __suppress_context__\n",
            "     |  \n",
            "     |  __traceback__\n",
            "     |  \n",
            "     |  args\n",
            "\n",
            "FUNCTIONS\n",
            "    harmonic_mean(data)\n",
            "        Return the harmonic mean of data.\n",
            "        \n",
            "        The harmonic mean, sometimes called the subcontrary mean, is the\n",
            "        reciprocal of the arithmetic mean of the reciprocals of the data,\n",
            "        and is often appropriate when averaging quantities which are rates\n",
            "        or ratios, for example speeds. Example:\n",
            "        \n",
            "        Suppose an investor purchases an equal value of shares in each of\n",
            "        three companies, with P/E (price/earning) ratios of 2.5, 3 and 10.\n",
            "        What is the average P/E ratio for the investor's portfolio?\n",
            "        \n",
            "        >>> harmonic_mean([2.5, 3, 10])  # For an equal investment portfolio.\n",
            "        3.6\n",
            "        \n",
            "        Using the arithmetic mean would give an average of about 5.167, which\n",
            "        is too high.\n",
            "        \n",
            "        If ``data`` is empty, or any element is less than zero,\n",
            "        ``harmonic_mean`` will raise ``StatisticsError``.\n",
            "    \n",
            "    mean(data)\n",
            "        Return the sample arithmetic mean of data.\n",
            "        \n",
            "        >>> mean([1, 2, 3, 4, 4])\n",
            "        2.8\n",
            "        \n",
            "        >>> from fractions import Fraction as F\n",
            "        >>> mean([F(3, 7), F(1, 21), F(5, 3), F(1, 3)])\n",
            "        Fraction(13, 21)\n",
            "        \n",
            "        >>> from decimal import Decimal as D\n",
            "        >>> mean([D(\"0.5\"), D(\"0.75\"), D(\"0.625\"), D(\"0.375\")])\n",
            "        Decimal('0.5625')\n",
            "        \n",
            "        If ``data`` is empty, StatisticsError will be raised.\n",
            "    \n",
            "    median(data)\n",
            "        Return the median (middle value) of numeric data.\n",
            "        \n",
            "        When the number of data points is odd, return the middle data point.\n",
            "        When the number of data points is even, the median is interpolated by\n",
            "        taking the average of the two middle values:\n",
            "        \n",
            "        >>> median([1, 3, 5])\n",
            "        3\n",
            "        >>> median([1, 3, 5, 7])\n",
            "        4.0\n",
            "    \n",
            "    median_grouped(data, interval=1)\n",
            "        Return the 50th percentile (median) of grouped continuous data.\n",
            "        \n",
            "        >>> median_grouped([1, 2, 2, 3, 4, 4, 4, 4, 4, 5])\n",
            "        3.7\n",
            "        >>> median_grouped([52, 52, 53, 54])\n",
            "        52.5\n",
            "        \n",
            "        This calculates the median as the 50th percentile, and should be\n",
            "        used when your data is continuous and grouped. In the above example,\n",
            "        the values 1, 2, 3, etc. actually represent the midpoint of classes\n",
            "        0.5-1.5, 1.5-2.5, 2.5-3.5, etc. The middle value falls somewhere in\n",
            "        class 3.5-4.5, and interpolation is used to estimate it.\n",
            "        \n",
            "        Optional argument ``interval`` represents the class interval, and\n",
            "        defaults to 1. Changing the class interval naturally will change the\n",
            "        interpolated 50th percentile value:\n",
            "        \n",
            "        >>> median_grouped([1, 3, 3, 5, 7], interval=1)\n",
            "        3.25\n",
            "        >>> median_grouped([1, 3, 3, 5, 7], interval=2)\n",
            "        3.5\n",
            "        \n",
            "        This function does not check whether the data points are at least\n",
            "        ``interval`` apart.\n",
            "    \n",
            "    median_high(data)\n",
            "        Return the high median of data.\n",
            "        \n",
            "        When the number of data points is odd, the middle value is returned.\n",
            "        When it is even, the larger of the two middle values is returned.\n",
            "        \n",
            "        >>> median_high([1, 3, 5])\n",
            "        3\n",
            "        >>> median_high([1, 3, 5, 7])\n",
            "        5\n",
            "    \n",
            "    median_low(data)\n",
            "        Return the low median of numeric data.\n",
            "        \n",
            "        When the number of data points is odd, the middle value is returned.\n",
            "        When it is even, the smaller of the two middle values is returned.\n",
            "        \n",
            "        >>> median_low([1, 3, 5])\n",
            "        3\n",
            "        >>> median_low([1, 3, 5, 7])\n",
            "        3\n",
            "    \n",
            "    mode(data)\n",
            "        Return the most common data point from discrete or nominal data.\n",
            "        \n",
            "        ``mode`` assumes discrete data, and returns a single value. This is the\n",
            "        standard treatment of the mode as commonly taught in schools:\n",
            "        \n",
            "        >>> mode([1, 1, 2, 3, 3, 3, 3, 4])\n",
            "        3\n",
            "        \n",
            "        This also works with nominal (non-numeric) data:\n",
            "        \n",
            "        >>> mode([\"red\", \"blue\", \"blue\", \"red\", \"green\", \"red\", \"red\"])\n",
            "        'red'\n",
            "        \n",
            "        If there is not exactly one most common value, ``mode`` will raise\n",
            "        StatisticsError.\n",
            "    \n",
            "    pstdev(data, mu=None)\n",
            "        Return the square root of the population variance.\n",
            "        \n",
            "        See ``pvariance`` for arguments and other details.\n",
            "        \n",
            "        >>> pstdev([1.5, 2.5, 2.5, 2.75, 3.25, 4.75])\n",
            "        0.986893273527251\n",
            "    \n",
            "    pvariance(data, mu=None)\n",
            "        Return the population variance of ``data``.\n",
            "        \n",
            "        data should be an iterable of Real-valued numbers, with at least one\n",
            "        value. The optional argument mu, if given, should be the mean of\n",
            "        the data. If it is missing or None, the mean is automatically calculated.\n",
            "        \n",
            "        Use this function to calculate the variance from the entire population.\n",
            "        To estimate the variance from a sample, the ``variance`` function is\n",
            "        usually a better choice.\n",
            "        \n",
            "        Examples:\n",
            "        \n",
            "        >>> data = [0.0, 0.25, 0.25, 1.25, 1.5, 1.75, 2.75, 3.25]\n",
            "        >>> pvariance(data)\n",
            "        1.25\n",
            "        \n",
            "        If you have already calculated the mean of the data, you can pass it as\n",
            "        the optional second argument to avoid recalculating it:\n",
            "        \n",
            "        >>> mu = mean(data)\n",
            "        >>> pvariance(data, mu)\n",
            "        1.25\n",
            "        \n",
            "        This function does not check that ``mu`` is actually the mean of ``data``.\n",
            "        Giving arbitrary values for ``mu`` may lead to invalid or impossible\n",
            "        results.\n",
            "        \n",
            "        Decimals and Fractions are supported:\n",
            "        \n",
            "        >>> from decimal import Decimal as D\n",
            "        >>> pvariance([D(\"27.5\"), D(\"30.25\"), D(\"30.25\"), D(\"34.5\"), D(\"41.75\")])\n",
            "        Decimal('24.815')\n",
            "        \n",
            "        >>> from fractions import Fraction as F\n",
            "        >>> pvariance([F(1, 4), F(5, 4), F(1, 2)])\n",
            "        Fraction(13, 72)\n",
            "    \n",
            "    stdev(data, xbar=None)\n",
            "        Return the square root of the sample variance.\n",
            "        \n",
            "        See ``variance`` for arguments and other details.\n",
            "        \n",
            "        >>> stdev([1.5, 2.5, 2.5, 2.75, 3.25, 4.75])\n",
            "        1.0810874155219827\n",
            "    \n",
            "    variance(data, xbar=None)\n",
            "        Return the sample variance of data.\n",
            "        \n",
            "        data should be an iterable of Real-valued numbers, with at least two\n",
            "        values. The optional argument xbar, if given, should be the mean of\n",
            "        the data. If it is missing or None, the mean is automatically calculated.\n",
            "        \n",
            "        Use this function when your data is a sample from a population. To\n",
            "        calculate the variance from the entire population, see ``pvariance``.\n",
            "        \n",
            "        Examples:\n",
            "        \n",
            "        >>> data = [2.75, 1.75, 1.25, 0.25, 0.5, 1.25, 3.5]\n",
            "        >>> variance(data)\n",
            "        1.3720238095238095\n",
            "        \n",
            "        If you have already calculated the mean of your data, you can pass it as\n",
            "        the optional second argument ``xbar`` to avoid recalculating it:\n",
            "        \n",
            "        >>> m = mean(data)\n",
            "        >>> variance(data, m)\n",
            "        1.3720238095238095\n",
            "        \n",
            "        This function does not check that ``xbar`` is actually the mean of\n",
            "        ``data``. Giving arbitrary values for ``xbar`` may lead to invalid or\n",
            "        impossible results.\n",
            "        \n",
            "        Decimals and Fractions are supported:\n",
            "        \n",
            "        >>> from decimal import Decimal as D\n",
            "        >>> variance([D(\"27.5\"), D(\"30.25\"), D(\"30.25\"), D(\"34.5\"), D(\"41.75\")])\n",
            "        Decimal('31.01875')\n",
            "        \n",
            "        >>> from fractions import Fraction as F\n",
            "        >>> variance([F(1, 6), F(1, 2), F(5, 3)])\n",
            "        Fraction(67, 108)\n",
            "\n",
            "DATA\n",
            "    __all__ = ['StatisticsError', 'pstdev', 'pvariance', 'stdev', 'varianc...\n",
            "\n",
            "FILE\n",
            "    /usr/lib/python3.7/statistics.py\n",
            "\n",
            "\n"
          ]
        }
      ]
    },
    {
      "cell_type": "markdown",
      "source": [
        "Import specific functions from a module as:\n",
        "\n",
        "`from <module> import <function>`"
      ],
      "metadata": {
        "id": "7Ojvz3Bv2nWL"
      }
    },
    {
      "cell_type": "code",
      "source": [
        "# Import specific functions\n",
        "from math import ceil, floor, sqrt\n",
        "ceil(2.1)\n",
        "# sqrt(4)\n",
        "\n",
        "# import a submodule from a package: from pandas import Series"
      ],
      "metadata": {
        "colab": {
          "base_uri": "https://localhost:8080/"
        },
        "id": "pIBLwfSv2-L3",
        "outputId": "faf89641-73ed-44b0-f8a9-106d32d90c25"
      },
      "execution_count": null,
      "outputs": [
        {
          "output_type": "execute_result",
          "data": {
            "text/plain": [
              "3"
            ]
          },
          "metadata": {},
          "execution_count": 139
        }
      ]
    },
    {
      "cell_type": "markdown",
      "source": [
        "Rename a module with an alias:\n",
        "\n",
        "`import <module> as <alias>`"
      ],
      "metadata": {
        "id": "xz5DfH9Z36-I"
      }
    },
    {
      "cell_type": "code",
      "source": [
        "import pandas as pd"
      ],
      "metadata": {
        "id": "l-lKm9k54ICT"
      },
      "execution_count": null,
      "outputs": []
    },
    {
      "cell_type": "markdown",
      "source": [
        "\n",
        "\n",
        "---\n",
        "\n",
        "\n",
        "\n",
        "---\n",
        "\n"
      ],
      "metadata": {
        "id": "K1Bb-ANj15xy"
      }
    },
    {
      "cell_type": "markdown",
      "source": [
        "# AMI and Wholesale Price Data"
      ],
      "metadata": {
        "id": "oGrdZptv3EA5"
      }
    },
    {
      "cell_type": "markdown",
      "metadata": {
        "id": "u4Cu09hiKCjv"
      },
      "source": [
        "#### Load required libraries"
      ]
    },
    {
      "cell_type": "code",
      "metadata": {
        "id": "qLG3Al_lzp3k"
      },
      "source": [
        "import pandas as pd\n",
        "import numpy as np\n",
        "import matplotlib.pyplot as plt\n",
        "import seaborn as sns"
      ],
      "execution_count": null,
      "outputs": []
    },
    {
      "cell_type": "markdown",
      "metadata": {
        "id": "NsTZEavDJydX"
      },
      "source": [
        "#### Load the data\n",
        "Since the data is stored in csv format, we can use the `pandas.read_csv` function to load the data as a `pandas` DataFrame object. The `head()` function prints the first five rows of the DataFrame."
      ]
    },
    {
      "cell_type": "code",
      "metadata": {
        "id": "MGmMtG6_0We0"
      },
      "source": [
        "df1 = pd.read_csv('https://raw.githubusercontent.com/blcrow/ua101/main/srpMeterData1.txt')\n",
        "df2 = pd.read_csv('https://raw.githubusercontent.com/blcrow/ua101/main/srpMeterData2.txt', header=None)\n",
        "df_price = pd.read_csv('https://raw.githubusercontent.com/blcrow/ua101/main/price.csv')"
      ],
      "execution_count": null,
      "outputs": []
    },
    {
      "cell_type": "markdown",
      "metadata": {
        "id": "DnSkxNU3KOvz"
      },
      "source": [
        "Get an overview of the DataFrames with the `shape` attribute and the `head()` function."
      ]
    },
    {
      "cell_type": "code",
      "metadata": {
        "colab": {
          "base_uri": "https://localhost:8080/"
        },
        "id": "fba0jn47KQRI",
        "outputId": "fc9d9d01-9ddf-4bd3-a5dc-adc73530656e"
      },
      "source": [
        "print(\"df1 shape: \", df1.shape)\n",
        "print(\"df2 shape: \", df2.shape)\n",
        "print(\"df_price shape: \", df_price.shape)"
      ],
      "execution_count": null,
      "outputs": [
        {
          "output_type": "stream",
          "name": "stdout",
          "text": [
            "df1 shape:  (560665, 3)\n",
            "df2 shape:  (560690, 3)\n",
            "df_price shape:  (35040, 8)\n"
          ]
        }
      ]
    },
    {
      "cell_type": "code",
      "metadata": {
        "colab": {
          "base_uri": "https://localhost:8080/",
          "height": 206
        },
        "id": "KxbBtJH02yKV",
        "outputId": "a40091d8-5ef8-4f51-89bd-8bb053facb10"
      },
      "source": [
        "df1.head()"
      ],
      "execution_count": null,
      "outputs": [
        {
          "output_type": "execute_result",
          "data": {
            "text/plain": [
              "   meter                 time    kwh\n",
              "0      1  2018-01-01 00:15:00  0.404\n",
              "1      1  2018-01-01 00:30:00  0.343\n",
              "2      1  2018-01-01 00:45:00  0.259\n",
              "3      1  2018-01-01 01:00:00  0.193\n",
              "4      1  2018-01-01 01:15:00  0.183"
            ],
            "text/html": [
              "\n",
              "  <div id=\"df-4692dba9-0988-4eb0-b9ab-c8a879a36896\">\n",
              "    <div class=\"colab-df-container\">\n",
              "      <div>\n",
              "<style scoped>\n",
              "    .dataframe tbody tr th:only-of-type {\n",
              "        vertical-align: middle;\n",
              "    }\n",
              "\n",
              "    .dataframe tbody tr th {\n",
              "        vertical-align: top;\n",
              "    }\n",
              "\n",
              "    .dataframe thead th {\n",
              "        text-align: right;\n",
              "    }\n",
              "</style>\n",
              "<table border=\"1\" class=\"dataframe\">\n",
              "  <thead>\n",
              "    <tr style=\"text-align: right;\">\n",
              "      <th></th>\n",
              "      <th>meter</th>\n",
              "      <th>time</th>\n",
              "      <th>kwh</th>\n",
              "    </tr>\n",
              "  </thead>\n",
              "  <tbody>\n",
              "    <tr>\n",
              "      <th>0</th>\n",
              "      <td>1</td>\n",
              "      <td>2018-01-01 00:15:00</td>\n",
              "      <td>0.404</td>\n",
              "    </tr>\n",
              "    <tr>\n",
              "      <th>1</th>\n",
              "      <td>1</td>\n",
              "      <td>2018-01-01 00:30:00</td>\n",
              "      <td>0.343</td>\n",
              "    </tr>\n",
              "    <tr>\n",
              "      <th>2</th>\n",
              "      <td>1</td>\n",
              "      <td>2018-01-01 00:45:00</td>\n",
              "      <td>0.259</td>\n",
              "    </tr>\n",
              "    <tr>\n",
              "      <th>3</th>\n",
              "      <td>1</td>\n",
              "      <td>2018-01-01 01:00:00</td>\n",
              "      <td>0.193</td>\n",
              "    </tr>\n",
              "    <tr>\n",
              "      <th>4</th>\n",
              "      <td>1</td>\n",
              "      <td>2018-01-01 01:15:00</td>\n",
              "      <td>0.183</td>\n",
              "    </tr>\n",
              "  </tbody>\n",
              "</table>\n",
              "</div>\n",
              "      <button class=\"colab-df-convert\" onclick=\"convertToInteractive('df-4692dba9-0988-4eb0-b9ab-c8a879a36896')\"\n",
              "              title=\"Convert this dataframe to an interactive table.\"\n",
              "              style=\"display:none;\">\n",
              "        \n",
              "  <svg xmlns=\"http://www.w3.org/2000/svg\" height=\"24px\"viewBox=\"0 0 24 24\"\n",
              "       width=\"24px\">\n",
              "    <path d=\"M0 0h24v24H0V0z\" fill=\"none\"/>\n",
              "    <path d=\"M18.56 5.44l.94 2.06.94-2.06 2.06-.94-2.06-.94-.94-2.06-.94 2.06-2.06.94zm-11 1L8.5 8.5l.94-2.06 2.06-.94-2.06-.94L8.5 2.5l-.94 2.06-2.06.94zm10 10l.94 2.06.94-2.06 2.06-.94-2.06-.94-.94-2.06-.94 2.06-2.06.94z\"/><path d=\"M17.41 7.96l-1.37-1.37c-.4-.4-.92-.59-1.43-.59-.52 0-1.04.2-1.43.59L10.3 9.45l-7.72 7.72c-.78.78-.78 2.05 0 2.83L4 21.41c.39.39.9.59 1.41.59.51 0 1.02-.2 1.41-.59l7.78-7.78 2.81-2.81c.8-.78.8-2.07 0-2.86zM5.41 20L4 18.59l7.72-7.72 1.47 1.35L5.41 20z\"/>\n",
              "  </svg>\n",
              "      </button>\n",
              "      \n",
              "  <style>\n",
              "    .colab-df-container {\n",
              "      display:flex;\n",
              "      flex-wrap:wrap;\n",
              "      gap: 12px;\n",
              "    }\n",
              "\n",
              "    .colab-df-convert {\n",
              "      background-color: #E8F0FE;\n",
              "      border: none;\n",
              "      border-radius: 50%;\n",
              "      cursor: pointer;\n",
              "      display: none;\n",
              "      fill: #1967D2;\n",
              "      height: 32px;\n",
              "      padding: 0 0 0 0;\n",
              "      width: 32px;\n",
              "    }\n",
              "\n",
              "    .colab-df-convert:hover {\n",
              "      background-color: #E2EBFA;\n",
              "      box-shadow: 0px 1px 2px rgba(60, 64, 67, 0.3), 0px 1px 3px 1px rgba(60, 64, 67, 0.15);\n",
              "      fill: #174EA6;\n",
              "    }\n",
              "\n",
              "    [theme=dark] .colab-df-convert {\n",
              "      background-color: #3B4455;\n",
              "      fill: #D2E3FC;\n",
              "    }\n",
              "\n",
              "    [theme=dark] .colab-df-convert:hover {\n",
              "      background-color: #434B5C;\n",
              "      box-shadow: 0px 1px 3px 1px rgba(0, 0, 0, 0.15);\n",
              "      filter: drop-shadow(0px 1px 2px rgba(0, 0, 0, 0.3));\n",
              "      fill: #FFFFFF;\n",
              "    }\n",
              "  </style>\n",
              "\n",
              "      <script>\n",
              "        const buttonEl =\n",
              "          document.querySelector('#df-4692dba9-0988-4eb0-b9ab-c8a879a36896 button.colab-df-convert');\n",
              "        buttonEl.style.display =\n",
              "          google.colab.kernel.accessAllowed ? 'block' : 'none';\n",
              "\n",
              "        async function convertToInteractive(key) {\n",
              "          const element = document.querySelector('#df-4692dba9-0988-4eb0-b9ab-c8a879a36896');\n",
              "          const dataTable =\n",
              "            await google.colab.kernel.invokeFunction('convertToInteractive',\n",
              "                                                     [key], {});\n",
              "          if (!dataTable) return;\n",
              "\n",
              "          const docLinkHtml = 'Like what you see? Visit the ' +\n",
              "            '<a target=\"_blank\" href=https://colab.research.google.com/notebooks/data_table.ipynb>data table notebook</a>'\n",
              "            + ' to learn more about interactive tables.';\n",
              "          element.innerHTML = '';\n",
              "          dataTable['output_type'] = 'display_data';\n",
              "          await google.colab.output.renderOutput(dataTable, element);\n",
              "          const docLink = document.createElement('div');\n",
              "          docLink.innerHTML = docLinkHtml;\n",
              "          element.appendChild(docLink);\n",
              "        }\n",
              "      </script>\n",
              "    </div>\n",
              "  </div>\n",
              "  "
            ]
          },
          "metadata": {},
          "execution_count": 144
        }
      ]
    },
    {
      "cell_type": "code",
      "metadata": {
        "colab": {
          "base_uri": "https://localhost:8080/",
          "height": 206
        },
        "id": "h2T-GJS43Ypk",
        "outputId": "0691710f-fc3d-4011-91c4-3c58c36c26bd"
      },
      "source": [
        "df2.head()"
      ],
      "execution_count": null,
      "outputs": [
        {
          "output_type": "execute_result",
          "data": {
            "text/plain": [
              "    0                    1      2\n",
              "0  17  2018-01-01 00:15:00  0.364\n",
              "1  17  2018-01-01 00:30:00  0.532\n",
              "2  17  2018-01-01 00:45:00  0.446\n",
              "3  17  2018-01-01 01:00:00  0.410\n",
              "4  17  2018-01-01 01:15:00  0.429"
            ],
            "text/html": [
              "\n",
              "  <div id=\"df-4d3d383c-a185-4ece-8842-739542724558\">\n",
              "    <div class=\"colab-df-container\">\n",
              "      <div>\n",
              "<style scoped>\n",
              "    .dataframe tbody tr th:only-of-type {\n",
              "        vertical-align: middle;\n",
              "    }\n",
              "\n",
              "    .dataframe tbody tr th {\n",
              "        vertical-align: top;\n",
              "    }\n",
              "\n",
              "    .dataframe thead th {\n",
              "        text-align: right;\n",
              "    }\n",
              "</style>\n",
              "<table border=\"1\" class=\"dataframe\">\n",
              "  <thead>\n",
              "    <tr style=\"text-align: right;\">\n",
              "      <th></th>\n",
              "      <th>0</th>\n",
              "      <th>1</th>\n",
              "      <th>2</th>\n",
              "    </tr>\n",
              "  </thead>\n",
              "  <tbody>\n",
              "    <tr>\n",
              "      <th>0</th>\n",
              "      <td>17</td>\n",
              "      <td>2018-01-01 00:15:00</td>\n",
              "      <td>0.364</td>\n",
              "    </tr>\n",
              "    <tr>\n",
              "      <th>1</th>\n",
              "      <td>17</td>\n",
              "      <td>2018-01-01 00:30:00</td>\n",
              "      <td>0.532</td>\n",
              "    </tr>\n",
              "    <tr>\n",
              "      <th>2</th>\n",
              "      <td>17</td>\n",
              "      <td>2018-01-01 00:45:00</td>\n",
              "      <td>0.446</td>\n",
              "    </tr>\n",
              "    <tr>\n",
              "      <th>3</th>\n",
              "      <td>17</td>\n",
              "      <td>2018-01-01 01:00:00</td>\n",
              "      <td>0.410</td>\n",
              "    </tr>\n",
              "    <tr>\n",
              "      <th>4</th>\n",
              "      <td>17</td>\n",
              "      <td>2018-01-01 01:15:00</td>\n",
              "      <td>0.429</td>\n",
              "    </tr>\n",
              "  </tbody>\n",
              "</table>\n",
              "</div>\n",
              "      <button class=\"colab-df-convert\" onclick=\"convertToInteractive('df-4d3d383c-a185-4ece-8842-739542724558')\"\n",
              "              title=\"Convert this dataframe to an interactive table.\"\n",
              "              style=\"display:none;\">\n",
              "        \n",
              "  <svg xmlns=\"http://www.w3.org/2000/svg\" height=\"24px\"viewBox=\"0 0 24 24\"\n",
              "       width=\"24px\">\n",
              "    <path d=\"M0 0h24v24H0V0z\" fill=\"none\"/>\n",
              "    <path d=\"M18.56 5.44l.94 2.06.94-2.06 2.06-.94-2.06-.94-.94-2.06-.94 2.06-2.06.94zm-11 1L8.5 8.5l.94-2.06 2.06-.94-2.06-.94L8.5 2.5l-.94 2.06-2.06.94zm10 10l.94 2.06.94-2.06 2.06-.94-2.06-.94-.94-2.06-.94 2.06-2.06.94z\"/><path d=\"M17.41 7.96l-1.37-1.37c-.4-.4-.92-.59-1.43-.59-.52 0-1.04.2-1.43.59L10.3 9.45l-7.72 7.72c-.78.78-.78 2.05 0 2.83L4 21.41c.39.39.9.59 1.41.59.51 0 1.02-.2 1.41-.59l7.78-7.78 2.81-2.81c.8-.78.8-2.07 0-2.86zM5.41 20L4 18.59l7.72-7.72 1.47 1.35L5.41 20z\"/>\n",
              "  </svg>\n",
              "      </button>\n",
              "      \n",
              "  <style>\n",
              "    .colab-df-container {\n",
              "      display:flex;\n",
              "      flex-wrap:wrap;\n",
              "      gap: 12px;\n",
              "    }\n",
              "\n",
              "    .colab-df-convert {\n",
              "      background-color: #E8F0FE;\n",
              "      border: none;\n",
              "      border-radius: 50%;\n",
              "      cursor: pointer;\n",
              "      display: none;\n",
              "      fill: #1967D2;\n",
              "      height: 32px;\n",
              "      padding: 0 0 0 0;\n",
              "      width: 32px;\n",
              "    }\n",
              "\n",
              "    .colab-df-convert:hover {\n",
              "      background-color: #E2EBFA;\n",
              "      box-shadow: 0px 1px 2px rgba(60, 64, 67, 0.3), 0px 1px 3px 1px rgba(60, 64, 67, 0.15);\n",
              "      fill: #174EA6;\n",
              "    }\n",
              "\n",
              "    [theme=dark] .colab-df-convert {\n",
              "      background-color: #3B4455;\n",
              "      fill: #D2E3FC;\n",
              "    }\n",
              "\n",
              "    [theme=dark] .colab-df-convert:hover {\n",
              "      background-color: #434B5C;\n",
              "      box-shadow: 0px 1px 3px 1px rgba(0, 0, 0, 0.15);\n",
              "      filter: drop-shadow(0px 1px 2px rgba(0, 0, 0, 0.3));\n",
              "      fill: #FFFFFF;\n",
              "    }\n",
              "  </style>\n",
              "\n",
              "      <script>\n",
              "        const buttonEl =\n",
              "          document.querySelector('#df-4d3d383c-a185-4ece-8842-739542724558 button.colab-df-convert');\n",
              "        buttonEl.style.display =\n",
              "          google.colab.kernel.accessAllowed ? 'block' : 'none';\n",
              "\n",
              "        async function convertToInteractive(key) {\n",
              "          const element = document.querySelector('#df-4d3d383c-a185-4ece-8842-739542724558');\n",
              "          const dataTable =\n",
              "            await google.colab.kernel.invokeFunction('convertToInteractive',\n",
              "                                                     [key], {});\n",
              "          if (!dataTable) return;\n",
              "\n",
              "          const docLinkHtml = 'Like what you see? Visit the ' +\n",
              "            '<a target=\"_blank\" href=https://colab.research.google.com/notebooks/data_table.ipynb>data table notebook</a>'\n",
              "            + ' to learn more about interactive tables.';\n",
              "          element.innerHTML = '';\n",
              "          dataTable['output_type'] = 'display_data';\n",
              "          await google.colab.output.renderOutput(dataTable, element);\n",
              "          const docLink = document.createElement('div');\n",
              "          docLink.innerHTML = docLinkHtml;\n",
              "          element.appendChild(docLink);\n",
              "        }\n",
              "      </script>\n",
              "    </div>\n",
              "  </div>\n",
              "  "
            ]
          },
          "metadata": {},
          "execution_count": 145
        }
      ]
    },
    {
      "cell_type": "code",
      "metadata": {
        "colab": {
          "base_uri": "https://localhost:8080/",
          "height": 206
        },
        "id": "kyKue6jmK2vG",
        "outputId": "614bf33a-a92a-4087-9fca-1333af382530"
      },
      "source": [
        "df_price.head()"
      ],
      "execution_count": null,
      "outputs": [
        {
          "output_type": "execute_result",
          "data": {
            "text/plain": [
              "   Unnamed: 0 OPERATION_DATE HOUR_ENDING INTERVAL_ENDING   TOUTYPE     MARKET  \\\n",
              "0           0     2018-01-01         100              15  OFF-PEAK  Real Time   \n",
              "1           1     2018-01-01         100              30  OFF-PEAK  Real Time   \n",
              "2           2     2018-01-01         100              45  OFF-PEAK  Real Time   \n",
              "3           3     2018-01-01         100             100  OFF-PEAK  Real Time   \n",
              "4           4     2018-01-01         200             115  OFF-PEAK  Real Time   \n",
              "\n",
              "            ZONE  PRICE  \n",
              "0  Load Zone CPS  24.10  \n",
              "1  Load Zone CPS  23.76  \n",
              "2  Load Zone CPS  22.87  \n",
              "3  Load Zone CPS  22.70  \n",
              "4  Load Zone CPS  22.07  "
            ],
            "text/html": [
              "\n",
              "  <div id=\"df-e24ab242-12f6-4207-bdc1-76c27d180092\">\n",
              "    <div class=\"colab-df-container\">\n",
              "      <div>\n",
              "<style scoped>\n",
              "    .dataframe tbody tr th:only-of-type {\n",
              "        vertical-align: middle;\n",
              "    }\n",
              "\n",
              "    .dataframe tbody tr th {\n",
              "        vertical-align: top;\n",
              "    }\n",
              "\n",
              "    .dataframe thead th {\n",
              "        text-align: right;\n",
              "    }\n",
              "</style>\n",
              "<table border=\"1\" class=\"dataframe\">\n",
              "  <thead>\n",
              "    <tr style=\"text-align: right;\">\n",
              "      <th></th>\n",
              "      <th>Unnamed: 0</th>\n",
              "      <th>OPERATION_DATE</th>\n",
              "      <th>HOUR_ENDING</th>\n",
              "      <th>INTERVAL_ENDING</th>\n",
              "      <th>TOUTYPE</th>\n",
              "      <th>MARKET</th>\n",
              "      <th>ZONE</th>\n",
              "      <th>PRICE</th>\n",
              "    </tr>\n",
              "  </thead>\n",
              "  <tbody>\n",
              "    <tr>\n",
              "      <th>0</th>\n",
              "      <td>0</td>\n",
              "      <td>2018-01-01</td>\n",
              "      <td>100</td>\n",
              "      <td>15</td>\n",
              "      <td>OFF-PEAK</td>\n",
              "      <td>Real Time</td>\n",
              "      <td>Load Zone CPS</td>\n",
              "      <td>24.10</td>\n",
              "    </tr>\n",
              "    <tr>\n",
              "      <th>1</th>\n",
              "      <td>1</td>\n",
              "      <td>2018-01-01</td>\n",
              "      <td>100</td>\n",
              "      <td>30</td>\n",
              "      <td>OFF-PEAK</td>\n",
              "      <td>Real Time</td>\n",
              "      <td>Load Zone CPS</td>\n",
              "      <td>23.76</td>\n",
              "    </tr>\n",
              "    <tr>\n",
              "      <th>2</th>\n",
              "      <td>2</td>\n",
              "      <td>2018-01-01</td>\n",
              "      <td>100</td>\n",
              "      <td>45</td>\n",
              "      <td>OFF-PEAK</td>\n",
              "      <td>Real Time</td>\n",
              "      <td>Load Zone CPS</td>\n",
              "      <td>22.87</td>\n",
              "    </tr>\n",
              "    <tr>\n",
              "      <th>3</th>\n",
              "      <td>3</td>\n",
              "      <td>2018-01-01</td>\n",
              "      <td>100</td>\n",
              "      <td>100</td>\n",
              "      <td>OFF-PEAK</td>\n",
              "      <td>Real Time</td>\n",
              "      <td>Load Zone CPS</td>\n",
              "      <td>22.70</td>\n",
              "    </tr>\n",
              "    <tr>\n",
              "      <th>4</th>\n",
              "      <td>4</td>\n",
              "      <td>2018-01-01</td>\n",
              "      <td>200</td>\n",
              "      <td>115</td>\n",
              "      <td>OFF-PEAK</td>\n",
              "      <td>Real Time</td>\n",
              "      <td>Load Zone CPS</td>\n",
              "      <td>22.07</td>\n",
              "    </tr>\n",
              "  </tbody>\n",
              "</table>\n",
              "</div>\n",
              "      <button class=\"colab-df-convert\" onclick=\"convertToInteractive('df-e24ab242-12f6-4207-bdc1-76c27d180092')\"\n",
              "              title=\"Convert this dataframe to an interactive table.\"\n",
              "              style=\"display:none;\">\n",
              "        \n",
              "  <svg xmlns=\"http://www.w3.org/2000/svg\" height=\"24px\"viewBox=\"0 0 24 24\"\n",
              "       width=\"24px\">\n",
              "    <path d=\"M0 0h24v24H0V0z\" fill=\"none\"/>\n",
              "    <path d=\"M18.56 5.44l.94 2.06.94-2.06 2.06-.94-2.06-.94-.94-2.06-.94 2.06-2.06.94zm-11 1L8.5 8.5l.94-2.06 2.06-.94-2.06-.94L8.5 2.5l-.94 2.06-2.06.94zm10 10l.94 2.06.94-2.06 2.06-.94-2.06-.94-.94-2.06-.94 2.06-2.06.94z\"/><path d=\"M17.41 7.96l-1.37-1.37c-.4-.4-.92-.59-1.43-.59-.52 0-1.04.2-1.43.59L10.3 9.45l-7.72 7.72c-.78.78-.78 2.05 0 2.83L4 21.41c.39.39.9.59 1.41.59.51 0 1.02-.2 1.41-.59l7.78-7.78 2.81-2.81c.8-.78.8-2.07 0-2.86zM5.41 20L4 18.59l7.72-7.72 1.47 1.35L5.41 20z\"/>\n",
              "  </svg>\n",
              "      </button>\n",
              "      \n",
              "  <style>\n",
              "    .colab-df-container {\n",
              "      display:flex;\n",
              "      flex-wrap:wrap;\n",
              "      gap: 12px;\n",
              "    }\n",
              "\n",
              "    .colab-df-convert {\n",
              "      background-color: #E8F0FE;\n",
              "      border: none;\n",
              "      border-radius: 50%;\n",
              "      cursor: pointer;\n",
              "      display: none;\n",
              "      fill: #1967D2;\n",
              "      height: 32px;\n",
              "      padding: 0 0 0 0;\n",
              "      width: 32px;\n",
              "    }\n",
              "\n",
              "    .colab-df-convert:hover {\n",
              "      background-color: #E2EBFA;\n",
              "      box-shadow: 0px 1px 2px rgba(60, 64, 67, 0.3), 0px 1px 3px 1px rgba(60, 64, 67, 0.15);\n",
              "      fill: #174EA6;\n",
              "    }\n",
              "\n",
              "    [theme=dark] .colab-df-convert {\n",
              "      background-color: #3B4455;\n",
              "      fill: #D2E3FC;\n",
              "    }\n",
              "\n",
              "    [theme=dark] .colab-df-convert:hover {\n",
              "      background-color: #434B5C;\n",
              "      box-shadow: 0px 1px 3px 1px rgba(0, 0, 0, 0.15);\n",
              "      filter: drop-shadow(0px 1px 2px rgba(0, 0, 0, 0.3));\n",
              "      fill: #FFFFFF;\n",
              "    }\n",
              "  </style>\n",
              "\n",
              "      <script>\n",
              "        const buttonEl =\n",
              "          document.querySelector('#df-e24ab242-12f6-4207-bdc1-76c27d180092 button.colab-df-convert');\n",
              "        buttonEl.style.display =\n",
              "          google.colab.kernel.accessAllowed ? 'block' : 'none';\n",
              "\n",
              "        async function convertToInteractive(key) {\n",
              "          const element = document.querySelector('#df-e24ab242-12f6-4207-bdc1-76c27d180092');\n",
              "          const dataTable =\n",
              "            await google.colab.kernel.invokeFunction('convertToInteractive',\n",
              "                                                     [key], {});\n",
              "          if (!dataTable) return;\n",
              "\n",
              "          const docLinkHtml = 'Like what you see? Visit the ' +\n",
              "            '<a target=\"_blank\" href=https://colab.research.google.com/notebooks/data_table.ipynb>data table notebook</a>'\n",
              "            + ' to learn more about interactive tables.';\n",
              "          element.innerHTML = '';\n",
              "          dataTable['output_type'] = 'display_data';\n",
              "          await google.colab.output.renderOutput(dataTable, element);\n",
              "          const docLink = document.createElement('div');\n",
              "          docLink.innerHTML = docLinkHtml;\n",
              "          element.appendChild(docLink);\n",
              "        }\n",
              "      </script>\n",
              "    </div>\n",
              "  </div>\n",
              "  "
            ]
          },
          "metadata": {},
          "execution_count": 146
        }
      ]
    },
    {
      "cell_type": "markdown",
      "metadata": {
        "id": "cIUloVhqM_wC"
      },
      "source": [
        "#### Useful operations: indexing and slicing\n",
        "\n",
        "View a single attribute (column) with bracket notation (`[]`) or with dot notation (`.`).\n",
        "\n",
        "If using dot notation, beware of non-standard column names and attributes/methods."
      ]
    },
    {
      "cell_type": "code",
      "metadata": {
        "colab": {
          "base_uri": "https://localhost:8080/"
        },
        "id": "SBhBP2l8NHt4",
        "outputId": "ae98217c-9264-46d8-a374-b2d3a640426f"
      },
      "source": [
        "df_price['PRICE']\n",
        "# df_price.PRICE"
      ],
      "execution_count": null,
      "outputs": [
        {
          "output_type": "execute_result",
          "data": {
            "text/plain": [
              "0        24.10\n",
              "1        23.76\n",
              "2        22.87\n",
              "3        22.70\n",
              "4        22.07\n",
              "         ...  \n",
              "35035    23.66\n",
              "35036    22.95\n",
              "35037    22.81\n",
              "35038    22.84\n",
              "35039    22.68\n",
              "Name: PRICE, Length: 35040, dtype: float64"
            ]
          },
          "metadata": {},
          "execution_count": 147
        }
      ]
    },
    {
      "cell_type": "markdown",
      "metadata": {
        "id": "fH8YoIEdNTxK"
      },
      "source": [
        "And return data at multiple indexes by slicing (`[start:end:step]`).\n",
        "\n",
        "See a subset of rows using the slice operator (`:`)."
      ]
    },
    {
      "cell_type": "code",
      "metadata": {
        "colab": {
          "base_uri": "https://localhost:8080/",
          "height": 363
        },
        "id": "5F_f_rlqNWPK",
        "outputId": "a2029524-b8e8-4cc1-b92d-ff27ed657506"
      },
      "source": [
        "df_price[2:12]"
      ],
      "execution_count": null,
      "outputs": [
        {
          "output_type": "execute_result",
          "data": {
            "text/plain": [
              "    Unnamed: 0 OPERATION_DATE HOUR_ENDING INTERVAL_ENDING   TOUTYPE  \\\n",
              "2            2     2018-01-01         100              45  OFF-PEAK   \n",
              "3            3     2018-01-01         100             100  OFF-PEAK   \n",
              "4            4     2018-01-01         200             115  OFF-PEAK   \n",
              "5            5     2018-01-01         200             130  OFF-PEAK   \n",
              "6            6     2018-01-01         200             145  OFF-PEAK   \n",
              "7            7     2018-01-01         200             200  OFF-PEAK   \n",
              "8            8     2018-01-01         300             215  OFF-PEAK   \n",
              "9            9     2018-01-01         300             230  OFF-PEAK   \n",
              "10          10     2018-01-01         300             245  OFF-PEAK   \n",
              "11          11     2018-01-01         300             300  OFF-PEAK   \n",
              "\n",
              "       MARKET           ZONE  PRICE  \n",
              "2   Real Time  Load Zone CPS  22.87  \n",
              "3   Real Time  Load Zone CPS  22.70  \n",
              "4   Real Time  Load Zone CPS  22.07  \n",
              "5   Real Time  Load Zone CPS  21.87  \n",
              "6   Real Time  Load Zone CPS  20.92  \n",
              "7   Real Time  Load Zone CPS  21.00  \n",
              "8   Real Time  Load Zone CPS  21.11  \n",
              "9   Real Time  Load Zone CPS  20.94  \n",
              "10  Real Time  Load Zone CPS  20.60  \n",
              "11  Real Time  Load Zone CPS  20.29  "
            ],
            "text/html": [
              "\n",
              "  <div id=\"df-8d882345-62d3-425e-aa96-74045d740aa9\">\n",
              "    <div class=\"colab-df-container\">\n",
              "      <div>\n",
              "<style scoped>\n",
              "    .dataframe tbody tr th:only-of-type {\n",
              "        vertical-align: middle;\n",
              "    }\n",
              "\n",
              "    .dataframe tbody tr th {\n",
              "        vertical-align: top;\n",
              "    }\n",
              "\n",
              "    .dataframe thead th {\n",
              "        text-align: right;\n",
              "    }\n",
              "</style>\n",
              "<table border=\"1\" class=\"dataframe\">\n",
              "  <thead>\n",
              "    <tr style=\"text-align: right;\">\n",
              "      <th></th>\n",
              "      <th>Unnamed: 0</th>\n",
              "      <th>OPERATION_DATE</th>\n",
              "      <th>HOUR_ENDING</th>\n",
              "      <th>INTERVAL_ENDING</th>\n",
              "      <th>TOUTYPE</th>\n",
              "      <th>MARKET</th>\n",
              "      <th>ZONE</th>\n",
              "      <th>PRICE</th>\n",
              "    </tr>\n",
              "  </thead>\n",
              "  <tbody>\n",
              "    <tr>\n",
              "      <th>2</th>\n",
              "      <td>2</td>\n",
              "      <td>2018-01-01</td>\n",
              "      <td>100</td>\n",
              "      <td>45</td>\n",
              "      <td>OFF-PEAK</td>\n",
              "      <td>Real Time</td>\n",
              "      <td>Load Zone CPS</td>\n",
              "      <td>22.87</td>\n",
              "    </tr>\n",
              "    <tr>\n",
              "      <th>3</th>\n",
              "      <td>3</td>\n",
              "      <td>2018-01-01</td>\n",
              "      <td>100</td>\n",
              "      <td>100</td>\n",
              "      <td>OFF-PEAK</td>\n",
              "      <td>Real Time</td>\n",
              "      <td>Load Zone CPS</td>\n",
              "      <td>22.70</td>\n",
              "    </tr>\n",
              "    <tr>\n",
              "      <th>4</th>\n",
              "      <td>4</td>\n",
              "      <td>2018-01-01</td>\n",
              "      <td>200</td>\n",
              "      <td>115</td>\n",
              "      <td>OFF-PEAK</td>\n",
              "      <td>Real Time</td>\n",
              "      <td>Load Zone CPS</td>\n",
              "      <td>22.07</td>\n",
              "    </tr>\n",
              "    <tr>\n",
              "      <th>5</th>\n",
              "      <td>5</td>\n",
              "      <td>2018-01-01</td>\n",
              "      <td>200</td>\n",
              "      <td>130</td>\n",
              "      <td>OFF-PEAK</td>\n",
              "      <td>Real Time</td>\n",
              "      <td>Load Zone CPS</td>\n",
              "      <td>21.87</td>\n",
              "    </tr>\n",
              "    <tr>\n",
              "      <th>6</th>\n",
              "      <td>6</td>\n",
              "      <td>2018-01-01</td>\n",
              "      <td>200</td>\n",
              "      <td>145</td>\n",
              "      <td>OFF-PEAK</td>\n",
              "      <td>Real Time</td>\n",
              "      <td>Load Zone CPS</td>\n",
              "      <td>20.92</td>\n",
              "    </tr>\n",
              "    <tr>\n",
              "      <th>7</th>\n",
              "      <td>7</td>\n",
              "      <td>2018-01-01</td>\n",
              "      <td>200</td>\n",
              "      <td>200</td>\n",
              "      <td>OFF-PEAK</td>\n",
              "      <td>Real Time</td>\n",
              "      <td>Load Zone CPS</td>\n",
              "      <td>21.00</td>\n",
              "    </tr>\n",
              "    <tr>\n",
              "      <th>8</th>\n",
              "      <td>8</td>\n",
              "      <td>2018-01-01</td>\n",
              "      <td>300</td>\n",
              "      <td>215</td>\n",
              "      <td>OFF-PEAK</td>\n",
              "      <td>Real Time</td>\n",
              "      <td>Load Zone CPS</td>\n",
              "      <td>21.11</td>\n",
              "    </tr>\n",
              "    <tr>\n",
              "      <th>9</th>\n",
              "      <td>9</td>\n",
              "      <td>2018-01-01</td>\n",
              "      <td>300</td>\n",
              "      <td>230</td>\n",
              "      <td>OFF-PEAK</td>\n",
              "      <td>Real Time</td>\n",
              "      <td>Load Zone CPS</td>\n",
              "      <td>20.94</td>\n",
              "    </tr>\n",
              "    <tr>\n",
              "      <th>10</th>\n",
              "      <td>10</td>\n",
              "      <td>2018-01-01</td>\n",
              "      <td>300</td>\n",
              "      <td>245</td>\n",
              "      <td>OFF-PEAK</td>\n",
              "      <td>Real Time</td>\n",
              "      <td>Load Zone CPS</td>\n",
              "      <td>20.60</td>\n",
              "    </tr>\n",
              "    <tr>\n",
              "      <th>11</th>\n",
              "      <td>11</td>\n",
              "      <td>2018-01-01</td>\n",
              "      <td>300</td>\n",
              "      <td>300</td>\n",
              "      <td>OFF-PEAK</td>\n",
              "      <td>Real Time</td>\n",
              "      <td>Load Zone CPS</td>\n",
              "      <td>20.29</td>\n",
              "    </tr>\n",
              "  </tbody>\n",
              "</table>\n",
              "</div>\n",
              "      <button class=\"colab-df-convert\" onclick=\"convertToInteractive('df-8d882345-62d3-425e-aa96-74045d740aa9')\"\n",
              "              title=\"Convert this dataframe to an interactive table.\"\n",
              "              style=\"display:none;\">\n",
              "        \n",
              "  <svg xmlns=\"http://www.w3.org/2000/svg\" height=\"24px\"viewBox=\"0 0 24 24\"\n",
              "       width=\"24px\">\n",
              "    <path d=\"M0 0h24v24H0V0z\" fill=\"none\"/>\n",
              "    <path d=\"M18.56 5.44l.94 2.06.94-2.06 2.06-.94-2.06-.94-.94-2.06-.94 2.06-2.06.94zm-11 1L8.5 8.5l.94-2.06 2.06-.94-2.06-.94L8.5 2.5l-.94 2.06-2.06.94zm10 10l.94 2.06.94-2.06 2.06-.94-2.06-.94-.94-2.06-.94 2.06-2.06.94z\"/><path d=\"M17.41 7.96l-1.37-1.37c-.4-.4-.92-.59-1.43-.59-.52 0-1.04.2-1.43.59L10.3 9.45l-7.72 7.72c-.78.78-.78 2.05 0 2.83L4 21.41c.39.39.9.59 1.41.59.51 0 1.02-.2 1.41-.59l7.78-7.78 2.81-2.81c.8-.78.8-2.07 0-2.86zM5.41 20L4 18.59l7.72-7.72 1.47 1.35L5.41 20z\"/>\n",
              "  </svg>\n",
              "      </button>\n",
              "      \n",
              "  <style>\n",
              "    .colab-df-container {\n",
              "      display:flex;\n",
              "      flex-wrap:wrap;\n",
              "      gap: 12px;\n",
              "    }\n",
              "\n",
              "    .colab-df-convert {\n",
              "      background-color: #E8F0FE;\n",
              "      border: none;\n",
              "      border-radius: 50%;\n",
              "      cursor: pointer;\n",
              "      display: none;\n",
              "      fill: #1967D2;\n",
              "      height: 32px;\n",
              "      padding: 0 0 0 0;\n",
              "      width: 32px;\n",
              "    }\n",
              "\n",
              "    .colab-df-convert:hover {\n",
              "      background-color: #E2EBFA;\n",
              "      box-shadow: 0px 1px 2px rgba(60, 64, 67, 0.3), 0px 1px 3px 1px rgba(60, 64, 67, 0.15);\n",
              "      fill: #174EA6;\n",
              "    }\n",
              "\n",
              "    [theme=dark] .colab-df-convert {\n",
              "      background-color: #3B4455;\n",
              "      fill: #D2E3FC;\n",
              "    }\n",
              "\n",
              "    [theme=dark] .colab-df-convert:hover {\n",
              "      background-color: #434B5C;\n",
              "      box-shadow: 0px 1px 3px 1px rgba(0, 0, 0, 0.15);\n",
              "      filter: drop-shadow(0px 1px 2px rgba(0, 0, 0, 0.3));\n",
              "      fill: #FFFFFF;\n",
              "    }\n",
              "  </style>\n",
              "\n",
              "      <script>\n",
              "        const buttonEl =\n",
              "          document.querySelector('#df-8d882345-62d3-425e-aa96-74045d740aa9 button.colab-df-convert');\n",
              "        buttonEl.style.display =\n",
              "          google.colab.kernel.accessAllowed ? 'block' : 'none';\n",
              "\n",
              "        async function convertToInteractive(key) {\n",
              "          const element = document.querySelector('#df-8d882345-62d3-425e-aa96-74045d740aa9');\n",
              "          const dataTable =\n",
              "            await google.colab.kernel.invokeFunction('convertToInteractive',\n",
              "                                                     [key], {});\n",
              "          if (!dataTable) return;\n",
              "\n",
              "          const docLinkHtml = 'Like what you see? Visit the ' +\n",
              "            '<a target=\"_blank\" href=https://colab.research.google.com/notebooks/data_table.ipynb>data table notebook</a>'\n",
              "            + ' to learn more about interactive tables.';\n",
              "          element.innerHTML = '';\n",
              "          dataTable['output_type'] = 'display_data';\n",
              "          await google.colab.output.renderOutput(dataTable, element);\n",
              "          const docLink = document.createElement('div');\n",
              "          docLink.innerHTML = docLinkHtml;\n",
              "          element.appendChild(docLink);\n",
              "        }\n",
              "      </script>\n",
              "    </div>\n",
              "  </div>\n",
              "  "
            ]
          },
          "metadata": {},
          "execution_count": 148
        }
      ]
    },
    {
      "cell_type": "markdown",
      "metadata": {
        "id": "GqlDnNvnNcZU"
      },
      "source": [
        "Using `loc` and `iloc`."
      ]
    },
    {
      "cell_type": "code",
      "metadata": {
        "colab": {
          "base_uri": "https://localhost:8080/"
        },
        "id": "k7GSP43SNdxz",
        "outputId": "62e6f158-542e-45cb-9698-a507cc9fc6f7"
      },
      "source": [
        "df_price.iloc[0:5, -1]"
      ],
      "execution_count": null,
      "outputs": [
        {
          "output_type": "execute_result",
          "data": {
            "text/plain": [
              "0    24.10\n",
              "1    23.76\n",
              "2    22.87\n",
              "3    22.70\n",
              "4    22.07\n",
              "Name: PRICE, dtype: float64"
            ]
          },
          "metadata": {},
          "execution_count": 149
        }
      ]
    },
    {
      "cell_type": "markdown",
      "metadata": {
        "id": "jlxStdUWNkrY"
      },
      "source": [
        "#### Filtering\n",
        "Suppose we only want data that was captured _after_ Nov-2018.\n",
        "\n",
        "We can create a Boolean filter by using a Boolean array as the index to the DataFrame."
      ]
    },
    {
      "cell_type": "code",
      "metadata": {
        "colab": {
          "base_uri": "https://localhost:8080/"
        },
        "id": "gwoZ0wbrNncN",
        "outputId": "deab8adf-3a8c-44cb-f489-3d07068e327e"
      },
      "source": [
        "df_price['OPERATION_DATE'] > '2018-11-30'"
      ],
      "execution_count": null,
      "outputs": [
        {
          "output_type": "execute_result",
          "data": {
            "text/plain": [
              "0        False\n",
              "1        False\n",
              "2        False\n",
              "3        False\n",
              "4        False\n",
              "         ...  \n",
              "35035     True\n",
              "35036     True\n",
              "35037     True\n",
              "35038     True\n",
              "35039     True\n",
              "Name: OPERATION_DATE, Length: 35040, dtype: bool"
            ]
          },
          "metadata": {},
          "execution_count": 150
        }
      ]
    },
    {
      "cell_type": "code",
      "metadata": {
        "colab": {
          "base_uri": "https://localhost:8080/",
          "height": 424
        },
        "id": "2kA39S9kN-Mk",
        "outputId": "ac6d72b9-6d2b-4b91-ea98-1b4796ca21c6"
      },
      "source": [
        "df_price[df_price['OPERATION_DATE'] > '2018-11-30']"
      ],
      "execution_count": null,
      "outputs": [
        {
          "output_type": "execute_result",
          "data": {
            "text/plain": [
              "       Unnamed: 0 OPERATION_DATE HOUR_ENDING INTERVAL_ENDING   TOUTYPE  \\\n",
              "32064       32064     2018-12-01         100              15  OFF-PEAK   \n",
              "32065       32065     2018-12-01         100              30  OFF-PEAK   \n",
              "32066       32066     2018-12-01         100              45  OFF-PEAK   \n",
              "32067       32067     2018-12-01         100             100  OFF-PEAK   \n",
              "32068       32068     2018-12-01         200             115  OFF-PEAK   \n",
              "...           ...            ...         ...             ...       ...   \n",
              "35035       35035     2018-12-31        2300            2300  OFF-PEAK   \n",
              "35036       35036     2018-12-31        2400            2315  OFF-PEAK   \n",
              "35037       35037     2018-12-31        2400            2330  OFF-PEAK   \n",
              "35038       35038     2018-12-31        2400            2345  OFF-PEAK   \n",
              "35039       35039     2018-12-31        2400            2400  OFF-PEAK   \n",
              "\n",
              "          MARKET           ZONE  PRICE  \n",
              "32064  Real Time  Load Zone CPS  18.69  \n",
              "32065  Real Time  Load Zone CPS  18.69  \n",
              "32066  Real Time  Load Zone CPS  18.67  \n",
              "32067  Real Time  Load Zone CPS  18.47  \n",
              "32068  Real Time  Load Zone CPS  18.40  \n",
              "...          ...            ...    ...  \n",
              "35035  Real Time  Load Zone CPS  23.66  \n",
              "35036  Real Time  Load Zone CPS  22.95  \n",
              "35037  Real Time  Load Zone CPS  22.81  \n",
              "35038  Real Time  Load Zone CPS  22.84  \n",
              "35039  Real Time  Load Zone CPS  22.68  \n",
              "\n",
              "[2976 rows x 8 columns]"
            ],
            "text/html": [
              "\n",
              "  <div id=\"df-368fd341-3789-4105-91ac-821ea17b02d6\">\n",
              "    <div class=\"colab-df-container\">\n",
              "      <div>\n",
              "<style scoped>\n",
              "    .dataframe tbody tr th:only-of-type {\n",
              "        vertical-align: middle;\n",
              "    }\n",
              "\n",
              "    .dataframe tbody tr th {\n",
              "        vertical-align: top;\n",
              "    }\n",
              "\n",
              "    .dataframe thead th {\n",
              "        text-align: right;\n",
              "    }\n",
              "</style>\n",
              "<table border=\"1\" class=\"dataframe\">\n",
              "  <thead>\n",
              "    <tr style=\"text-align: right;\">\n",
              "      <th></th>\n",
              "      <th>Unnamed: 0</th>\n",
              "      <th>OPERATION_DATE</th>\n",
              "      <th>HOUR_ENDING</th>\n",
              "      <th>INTERVAL_ENDING</th>\n",
              "      <th>TOUTYPE</th>\n",
              "      <th>MARKET</th>\n",
              "      <th>ZONE</th>\n",
              "      <th>PRICE</th>\n",
              "    </tr>\n",
              "  </thead>\n",
              "  <tbody>\n",
              "    <tr>\n",
              "      <th>32064</th>\n",
              "      <td>32064</td>\n",
              "      <td>2018-12-01</td>\n",
              "      <td>100</td>\n",
              "      <td>15</td>\n",
              "      <td>OFF-PEAK</td>\n",
              "      <td>Real Time</td>\n",
              "      <td>Load Zone CPS</td>\n",
              "      <td>18.69</td>\n",
              "    </tr>\n",
              "    <tr>\n",
              "      <th>32065</th>\n",
              "      <td>32065</td>\n",
              "      <td>2018-12-01</td>\n",
              "      <td>100</td>\n",
              "      <td>30</td>\n",
              "      <td>OFF-PEAK</td>\n",
              "      <td>Real Time</td>\n",
              "      <td>Load Zone CPS</td>\n",
              "      <td>18.69</td>\n",
              "    </tr>\n",
              "    <tr>\n",
              "      <th>32066</th>\n",
              "      <td>32066</td>\n",
              "      <td>2018-12-01</td>\n",
              "      <td>100</td>\n",
              "      <td>45</td>\n",
              "      <td>OFF-PEAK</td>\n",
              "      <td>Real Time</td>\n",
              "      <td>Load Zone CPS</td>\n",
              "      <td>18.67</td>\n",
              "    </tr>\n",
              "    <tr>\n",
              "      <th>32067</th>\n",
              "      <td>32067</td>\n",
              "      <td>2018-12-01</td>\n",
              "      <td>100</td>\n",
              "      <td>100</td>\n",
              "      <td>OFF-PEAK</td>\n",
              "      <td>Real Time</td>\n",
              "      <td>Load Zone CPS</td>\n",
              "      <td>18.47</td>\n",
              "    </tr>\n",
              "    <tr>\n",
              "      <th>32068</th>\n",
              "      <td>32068</td>\n",
              "      <td>2018-12-01</td>\n",
              "      <td>200</td>\n",
              "      <td>115</td>\n",
              "      <td>OFF-PEAK</td>\n",
              "      <td>Real Time</td>\n",
              "      <td>Load Zone CPS</td>\n",
              "      <td>18.40</td>\n",
              "    </tr>\n",
              "    <tr>\n",
              "      <th>...</th>\n",
              "      <td>...</td>\n",
              "      <td>...</td>\n",
              "      <td>...</td>\n",
              "      <td>...</td>\n",
              "      <td>...</td>\n",
              "      <td>...</td>\n",
              "      <td>...</td>\n",
              "      <td>...</td>\n",
              "    </tr>\n",
              "    <tr>\n",
              "      <th>35035</th>\n",
              "      <td>35035</td>\n",
              "      <td>2018-12-31</td>\n",
              "      <td>2300</td>\n",
              "      <td>2300</td>\n",
              "      <td>OFF-PEAK</td>\n",
              "      <td>Real Time</td>\n",
              "      <td>Load Zone CPS</td>\n",
              "      <td>23.66</td>\n",
              "    </tr>\n",
              "    <tr>\n",
              "      <th>35036</th>\n",
              "      <td>35036</td>\n",
              "      <td>2018-12-31</td>\n",
              "      <td>2400</td>\n",
              "      <td>2315</td>\n",
              "      <td>OFF-PEAK</td>\n",
              "      <td>Real Time</td>\n",
              "      <td>Load Zone CPS</td>\n",
              "      <td>22.95</td>\n",
              "    </tr>\n",
              "    <tr>\n",
              "      <th>35037</th>\n",
              "      <td>35037</td>\n",
              "      <td>2018-12-31</td>\n",
              "      <td>2400</td>\n",
              "      <td>2330</td>\n",
              "      <td>OFF-PEAK</td>\n",
              "      <td>Real Time</td>\n",
              "      <td>Load Zone CPS</td>\n",
              "      <td>22.81</td>\n",
              "    </tr>\n",
              "    <tr>\n",
              "      <th>35038</th>\n",
              "      <td>35038</td>\n",
              "      <td>2018-12-31</td>\n",
              "      <td>2400</td>\n",
              "      <td>2345</td>\n",
              "      <td>OFF-PEAK</td>\n",
              "      <td>Real Time</td>\n",
              "      <td>Load Zone CPS</td>\n",
              "      <td>22.84</td>\n",
              "    </tr>\n",
              "    <tr>\n",
              "      <th>35039</th>\n",
              "      <td>35039</td>\n",
              "      <td>2018-12-31</td>\n",
              "      <td>2400</td>\n",
              "      <td>2400</td>\n",
              "      <td>OFF-PEAK</td>\n",
              "      <td>Real Time</td>\n",
              "      <td>Load Zone CPS</td>\n",
              "      <td>22.68</td>\n",
              "    </tr>\n",
              "  </tbody>\n",
              "</table>\n",
              "<p>2976 rows × 8 columns</p>\n",
              "</div>\n",
              "      <button class=\"colab-df-convert\" onclick=\"convertToInteractive('df-368fd341-3789-4105-91ac-821ea17b02d6')\"\n",
              "              title=\"Convert this dataframe to an interactive table.\"\n",
              "              style=\"display:none;\">\n",
              "        \n",
              "  <svg xmlns=\"http://www.w3.org/2000/svg\" height=\"24px\"viewBox=\"0 0 24 24\"\n",
              "       width=\"24px\">\n",
              "    <path d=\"M0 0h24v24H0V0z\" fill=\"none\"/>\n",
              "    <path d=\"M18.56 5.44l.94 2.06.94-2.06 2.06-.94-2.06-.94-.94-2.06-.94 2.06-2.06.94zm-11 1L8.5 8.5l.94-2.06 2.06-.94-2.06-.94L8.5 2.5l-.94 2.06-2.06.94zm10 10l.94 2.06.94-2.06 2.06-.94-2.06-.94-.94-2.06-.94 2.06-2.06.94z\"/><path d=\"M17.41 7.96l-1.37-1.37c-.4-.4-.92-.59-1.43-.59-.52 0-1.04.2-1.43.59L10.3 9.45l-7.72 7.72c-.78.78-.78 2.05 0 2.83L4 21.41c.39.39.9.59 1.41.59.51 0 1.02-.2 1.41-.59l7.78-7.78 2.81-2.81c.8-.78.8-2.07 0-2.86zM5.41 20L4 18.59l7.72-7.72 1.47 1.35L5.41 20z\"/>\n",
              "  </svg>\n",
              "      </button>\n",
              "      \n",
              "  <style>\n",
              "    .colab-df-container {\n",
              "      display:flex;\n",
              "      flex-wrap:wrap;\n",
              "      gap: 12px;\n",
              "    }\n",
              "\n",
              "    .colab-df-convert {\n",
              "      background-color: #E8F0FE;\n",
              "      border: none;\n",
              "      border-radius: 50%;\n",
              "      cursor: pointer;\n",
              "      display: none;\n",
              "      fill: #1967D2;\n",
              "      height: 32px;\n",
              "      padding: 0 0 0 0;\n",
              "      width: 32px;\n",
              "    }\n",
              "\n",
              "    .colab-df-convert:hover {\n",
              "      background-color: #E2EBFA;\n",
              "      box-shadow: 0px 1px 2px rgba(60, 64, 67, 0.3), 0px 1px 3px 1px rgba(60, 64, 67, 0.15);\n",
              "      fill: #174EA6;\n",
              "    }\n",
              "\n",
              "    [theme=dark] .colab-df-convert {\n",
              "      background-color: #3B4455;\n",
              "      fill: #D2E3FC;\n",
              "    }\n",
              "\n",
              "    [theme=dark] .colab-df-convert:hover {\n",
              "      background-color: #434B5C;\n",
              "      box-shadow: 0px 1px 3px 1px rgba(0, 0, 0, 0.15);\n",
              "      filter: drop-shadow(0px 1px 2px rgba(0, 0, 0, 0.3));\n",
              "      fill: #FFFFFF;\n",
              "    }\n",
              "  </style>\n",
              "\n",
              "      <script>\n",
              "        const buttonEl =\n",
              "          document.querySelector('#df-368fd341-3789-4105-91ac-821ea17b02d6 button.colab-df-convert');\n",
              "        buttonEl.style.display =\n",
              "          google.colab.kernel.accessAllowed ? 'block' : 'none';\n",
              "\n",
              "        async function convertToInteractive(key) {\n",
              "          const element = document.querySelector('#df-368fd341-3789-4105-91ac-821ea17b02d6');\n",
              "          const dataTable =\n",
              "            await google.colab.kernel.invokeFunction('convertToInteractive',\n",
              "                                                     [key], {});\n",
              "          if (!dataTable) return;\n",
              "\n",
              "          const docLinkHtml = 'Like what you see? Visit the ' +\n",
              "            '<a target=\"_blank\" href=https://colab.research.google.com/notebooks/data_table.ipynb>data table notebook</a>'\n",
              "            + ' to learn more about interactive tables.';\n",
              "          element.innerHTML = '';\n",
              "          dataTable['output_type'] = 'display_data';\n",
              "          await google.colab.output.renderOutput(dataTable, element);\n",
              "          const docLink = document.createElement('div');\n",
              "          docLink.innerHTML = docLinkHtml;\n",
              "          element.appendChild(docLink);\n",
              "        }\n",
              "      </script>\n",
              "    </div>\n",
              "  </div>\n",
              "  "
            ]
          },
          "metadata": {},
          "execution_count": 151
        }
      ]
    },
    {
      "cell_type": "markdown",
      "metadata": {
        "id": "8ScjPpynOpmw"
      },
      "source": [
        "View the feature type with the `dtype` attribute."
      ]
    },
    {
      "cell_type": "code",
      "metadata": {
        "colab": {
          "base_uri": "https://localhost:8080/"
        },
        "id": "TyMTCaF4OsSd",
        "outputId": "bc75b986-d895-4aae-ea02-493d5d05837f"
      },
      "source": [
        "df_price.OPERATION_DATE.dtype"
      ],
      "execution_count": null,
      "outputs": [
        {
          "output_type": "execute_result",
          "data": {
            "text/plain": [
              "dtype('O')"
            ]
          },
          "metadata": {},
          "execution_count": 152
        }
      ]
    },
    {
      "cell_type": "markdown",
      "metadata": {
        "id": "hkto-inIOwqL"
      },
      "source": [
        "See general information about the DataFrame with `info()`.\n",
        "\n"
      ]
    },
    {
      "cell_type": "code",
      "metadata": {
        "colab": {
          "base_uri": "https://localhost:8080/"
        },
        "id": "QK0zjQk0Ow4P",
        "outputId": "eb5b3eed-9ad1-436c-a768-9bc7536e7c08"
      },
      "source": [
        "df_price.info()"
      ],
      "execution_count": null,
      "outputs": [
        {
          "output_type": "stream",
          "name": "stdout",
          "text": [
            "<class 'pandas.core.frame.DataFrame'>\n",
            "RangeIndex: 35040 entries, 0 to 35039\n",
            "Data columns (total 8 columns):\n",
            " #   Column           Non-Null Count  Dtype  \n",
            "---  ------           --------------  -----  \n",
            " 0   Unnamed: 0       35040 non-null  int64  \n",
            " 1   OPERATION_DATE   35040 non-null  object \n",
            " 2   HOUR_ENDING      35040 non-null  object \n",
            " 3   INTERVAL_ENDING  35040 non-null  object \n",
            " 4   TOUTYPE          35040 non-null  object \n",
            " 5   MARKET           35040 non-null  object \n",
            " 6   ZONE             35040 non-null  object \n",
            " 7   PRICE            35040 non-null  float64\n",
            "dtypes: float64(1), int64(1), object(6)\n",
            "memory usage: 2.1+ MB\n"
          ]
        }
      ]
    },
    {
      "cell_type": "markdown",
      "metadata": {
        "id": "TaBLJh49LhmL"
      },
      "source": [
        "Clean up issues with headers and columns. "
      ]
    },
    {
      "cell_type": "code",
      "metadata": {
        "colab": {
          "base_uri": "https://localhost:8080/",
          "height": 206
        },
        "id": "roymw58dm8ww",
        "outputId": "2cbdfc3b-8e4e-4538-f2d9-9faafc62ebf9"
      },
      "source": [
        "df2.columns = ['meter', 'time', 'kwh']\n",
        "df2.tail()"
      ],
      "execution_count": null,
      "outputs": [
        {
          "output_type": "execute_result",
          "data": {
            "text/plain": [
              "        meter                 time  kwh\n",
              "560685     32  2018-12-31 23:00:00  0.0\n",
              "560686     32  2018-12-31 23:15:00  0.0\n",
              "560687     32  2018-12-31 23:30:00  0.0\n",
              "560688     32  2018-12-31 23:45:00  0.0\n",
              "560689     32  2019-01-01 00:00:00  0.0"
            ],
            "text/html": [
              "\n",
              "  <div id=\"df-a734ff1b-89b7-47db-8cf0-4b53681ae01d\">\n",
              "    <div class=\"colab-df-container\">\n",
              "      <div>\n",
              "<style scoped>\n",
              "    .dataframe tbody tr th:only-of-type {\n",
              "        vertical-align: middle;\n",
              "    }\n",
              "\n",
              "    .dataframe tbody tr th {\n",
              "        vertical-align: top;\n",
              "    }\n",
              "\n",
              "    .dataframe thead th {\n",
              "        text-align: right;\n",
              "    }\n",
              "</style>\n",
              "<table border=\"1\" class=\"dataframe\">\n",
              "  <thead>\n",
              "    <tr style=\"text-align: right;\">\n",
              "      <th></th>\n",
              "      <th>meter</th>\n",
              "      <th>time</th>\n",
              "      <th>kwh</th>\n",
              "    </tr>\n",
              "  </thead>\n",
              "  <tbody>\n",
              "    <tr>\n",
              "      <th>560685</th>\n",
              "      <td>32</td>\n",
              "      <td>2018-12-31 23:00:00</td>\n",
              "      <td>0.0</td>\n",
              "    </tr>\n",
              "    <tr>\n",
              "      <th>560686</th>\n",
              "      <td>32</td>\n",
              "      <td>2018-12-31 23:15:00</td>\n",
              "      <td>0.0</td>\n",
              "    </tr>\n",
              "    <tr>\n",
              "      <th>560687</th>\n",
              "      <td>32</td>\n",
              "      <td>2018-12-31 23:30:00</td>\n",
              "      <td>0.0</td>\n",
              "    </tr>\n",
              "    <tr>\n",
              "      <th>560688</th>\n",
              "      <td>32</td>\n",
              "      <td>2018-12-31 23:45:00</td>\n",
              "      <td>0.0</td>\n",
              "    </tr>\n",
              "    <tr>\n",
              "      <th>560689</th>\n",
              "      <td>32</td>\n",
              "      <td>2019-01-01 00:00:00</td>\n",
              "      <td>0.0</td>\n",
              "    </tr>\n",
              "  </tbody>\n",
              "</table>\n",
              "</div>\n",
              "      <button class=\"colab-df-convert\" onclick=\"convertToInteractive('df-a734ff1b-89b7-47db-8cf0-4b53681ae01d')\"\n",
              "              title=\"Convert this dataframe to an interactive table.\"\n",
              "              style=\"display:none;\">\n",
              "        \n",
              "  <svg xmlns=\"http://www.w3.org/2000/svg\" height=\"24px\"viewBox=\"0 0 24 24\"\n",
              "       width=\"24px\">\n",
              "    <path d=\"M0 0h24v24H0V0z\" fill=\"none\"/>\n",
              "    <path d=\"M18.56 5.44l.94 2.06.94-2.06 2.06-.94-2.06-.94-.94-2.06-.94 2.06-2.06.94zm-11 1L8.5 8.5l.94-2.06 2.06-.94-2.06-.94L8.5 2.5l-.94 2.06-2.06.94zm10 10l.94 2.06.94-2.06 2.06-.94-2.06-.94-.94-2.06-.94 2.06-2.06.94z\"/><path d=\"M17.41 7.96l-1.37-1.37c-.4-.4-.92-.59-1.43-.59-.52 0-1.04.2-1.43.59L10.3 9.45l-7.72 7.72c-.78.78-.78 2.05 0 2.83L4 21.41c.39.39.9.59 1.41.59.51 0 1.02-.2 1.41-.59l7.78-7.78 2.81-2.81c.8-.78.8-2.07 0-2.86zM5.41 20L4 18.59l7.72-7.72 1.47 1.35L5.41 20z\"/>\n",
              "  </svg>\n",
              "      </button>\n",
              "      \n",
              "  <style>\n",
              "    .colab-df-container {\n",
              "      display:flex;\n",
              "      flex-wrap:wrap;\n",
              "      gap: 12px;\n",
              "    }\n",
              "\n",
              "    .colab-df-convert {\n",
              "      background-color: #E8F0FE;\n",
              "      border: none;\n",
              "      border-radius: 50%;\n",
              "      cursor: pointer;\n",
              "      display: none;\n",
              "      fill: #1967D2;\n",
              "      height: 32px;\n",
              "      padding: 0 0 0 0;\n",
              "      width: 32px;\n",
              "    }\n",
              "\n",
              "    .colab-df-convert:hover {\n",
              "      background-color: #E2EBFA;\n",
              "      box-shadow: 0px 1px 2px rgba(60, 64, 67, 0.3), 0px 1px 3px 1px rgba(60, 64, 67, 0.15);\n",
              "      fill: #174EA6;\n",
              "    }\n",
              "\n",
              "    [theme=dark] .colab-df-convert {\n",
              "      background-color: #3B4455;\n",
              "      fill: #D2E3FC;\n",
              "    }\n",
              "\n",
              "    [theme=dark] .colab-df-convert:hover {\n",
              "      background-color: #434B5C;\n",
              "      box-shadow: 0px 1px 3px 1px rgba(0, 0, 0, 0.15);\n",
              "      filter: drop-shadow(0px 1px 2px rgba(0, 0, 0, 0.3));\n",
              "      fill: #FFFFFF;\n",
              "    }\n",
              "  </style>\n",
              "\n",
              "      <script>\n",
              "        const buttonEl =\n",
              "          document.querySelector('#df-a734ff1b-89b7-47db-8cf0-4b53681ae01d button.colab-df-convert');\n",
              "        buttonEl.style.display =\n",
              "          google.colab.kernel.accessAllowed ? 'block' : 'none';\n",
              "\n",
              "        async function convertToInteractive(key) {\n",
              "          const element = document.querySelector('#df-a734ff1b-89b7-47db-8cf0-4b53681ae01d');\n",
              "          const dataTable =\n",
              "            await google.colab.kernel.invokeFunction('convertToInteractive',\n",
              "                                                     [key], {});\n",
              "          if (!dataTable) return;\n",
              "\n",
              "          const docLinkHtml = 'Like what you see? Visit the ' +\n",
              "            '<a target=\"_blank\" href=https://colab.research.google.com/notebooks/data_table.ipynb>data table notebook</a>'\n",
              "            + ' to learn more about interactive tables.';\n",
              "          element.innerHTML = '';\n",
              "          dataTable['output_type'] = 'display_data';\n",
              "          await google.colab.output.renderOutput(dataTable, element);\n",
              "          const docLink = document.createElement('div');\n",
              "          docLink.innerHTML = docLinkHtml;\n",
              "          element.appendChild(docLink);\n",
              "        }\n",
              "      </script>\n",
              "    </div>\n",
              "  </div>\n",
              "  "
            ]
          },
          "metadata": {},
          "execution_count": 154
        }
      ]
    },
    {
      "cell_type": "code",
      "metadata": {
        "colab": {
          "base_uri": "https://localhost:8080/",
          "height": 206
        },
        "id": "e0WPDgmVvbki",
        "outputId": "0ffe2a1e-d979-4e76-e03d-c06641dbd0f3"
      },
      "source": [
        "df_price.drop(df_price.columns[0], axis=1, inplace=True)\n",
        "df_price.tail()"
      ],
      "execution_count": null,
      "outputs": [
        {
          "output_type": "execute_result",
          "data": {
            "text/plain": [
              "      OPERATION_DATE HOUR_ENDING INTERVAL_ENDING   TOUTYPE     MARKET  \\\n",
              "35035     2018-12-31        2300            2300  OFF-PEAK  Real Time   \n",
              "35036     2018-12-31        2400            2315  OFF-PEAK  Real Time   \n",
              "35037     2018-12-31        2400            2330  OFF-PEAK  Real Time   \n",
              "35038     2018-12-31        2400            2345  OFF-PEAK  Real Time   \n",
              "35039     2018-12-31        2400            2400  OFF-PEAK  Real Time   \n",
              "\n",
              "                ZONE  PRICE  \n",
              "35035  Load Zone CPS  23.66  \n",
              "35036  Load Zone CPS  22.95  \n",
              "35037  Load Zone CPS  22.81  \n",
              "35038  Load Zone CPS  22.84  \n",
              "35039  Load Zone CPS  22.68  "
            ],
            "text/html": [
              "\n",
              "  <div id=\"df-6b10647e-0e51-4dc0-9409-afc88564e977\">\n",
              "    <div class=\"colab-df-container\">\n",
              "      <div>\n",
              "<style scoped>\n",
              "    .dataframe tbody tr th:only-of-type {\n",
              "        vertical-align: middle;\n",
              "    }\n",
              "\n",
              "    .dataframe tbody tr th {\n",
              "        vertical-align: top;\n",
              "    }\n",
              "\n",
              "    .dataframe thead th {\n",
              "        text-align: right;\n",
              "    }\n",
              "</style>\n",
              "<table border=\"1\" class=\"dataframe\">\n",
              "  <thead>\n",
              "    <tr style=\"text-align: right;\">\n",
              "      <th></th>\n",
              "      <th>OPERATION_DATE</th>\n",
              "      <th>HOUR_ENDING</th>\n",
              "      <th>INTERVAL_ENDING</th>\n",
              "      <th>TOUTYPE</th>\n",
              "      <th>MARKET</th>\n",
              "      <th>ZONE</th>\n",
              "      <th>PRICE</th>\n",
              "    </tr>\n",
              "  </thead>\n",
              "  <tbody>\n",
              "    <tr>\n",
              "      <th>35035</th>\n",
              "      <td>2018-12-31</td>\n",
              "      <td>2300</td>\n",
              "      <td>2300</td>\n",
              "      <td>OFF-PEAK</td>\n",
              "      <td>Real Time</td>\n",
              "      <td>Load Zone CPS</td>\n",
              "      <td>23.66</td>\n",
              "    </tr>\n",
              "    <tr>\n",
              "      <th>35036</th>\n",
              "      <td>2018-12-31</td>\n",
              "      <td>2400</td>\n",
              "      <td>2315</td>\n",
              "      <td>OFF-PEAK</td>\n",
              "      <td>Real Time</td>\n",
              "      <td>Load Zone CPS</td>\n",
              "      <td>22.95</td>\n",
              "    </tr>\n",
              "    <tr>\n",
              "      <th>35037</th>\n",
              "      <td>2018-12-31</td>\n",
              "      <td>2400</td>\n",
              "      <td>2330</td>\n",
              "      <td>OFF-PEAK</td>\n",
              "      <td>Real Time</td>\n",
              "      <td>Load Zone CPS</td>\n",
              "      <td>22.81</td>\n",
              "    </tr>\n",
              "    <tr>\n",
              "      <th>35038</th>\n",
              "      <td>2018-12-31</td>\n",
              "      <td>2400</td>\n",
              "      <td>2345</td>\n",
              "      <td>OFF-PEAK</td>\n",
              "      <td>Real Time</td>\n",
              "      <td>Load Zone CPS</td>\n",
              "      <td>22.84</td>\n",
              "    </tr>\n",
              "    <tr>\n",
              "      <th>35039</th>\n",
              "      <td>2018-12-31</td>\n",
              "      <td>2400</td>\n",
              "      <td>2400</td>\n",
              "      <td>OFF-PEAK</td>\n",
              "      <td>Real Time</td>\n",
              "      <td>Load Zone CPS</td>\n",
              "      <td>22.68</td>\n",
              "    </tr>\n",
              "  </tbody>\n",
              "</table>\n",
              "</div>\n",
              "      <button class=\"colab-df-convert\" onclick=\"convertToInteractive('df-6b10647e-0e51-4dc0-9409-afc88564e977')\"\n",
              "              title=\"Convert this dataframe to an interactive table.\"\n",
              "              style=\"display:none;\">\n",
              "        \n",
              "  <svg xmlns=\"http://www.w3.org/2000/svg\" height=\"24px\"viewBox=\"0 0 24 24\"\n",
              "       width=\"24px\">\n",
              "    <path d=\"M0 0h24v24H0V0z\" fill=\"none\"/>\n",
              "    <path d=\"M18.56 5.44l.94 2.06.94-2.06 2.06-.94-2.06-.94-.94-2.06-.94 2.06-2.06.94zm-11 1L8.5 8.5l.94-2.06 2.06-.94-2.06-.94L8.5 2.5l-.94 2.06-2.06.94zm10 10l.94 2.06.94-2.06 2.06-.94-2.06-.94-.94-2.06-.94 2.06-2.06.94z\"/><path d=\"M17.41 7.96l-1.37-1.37c-.4-.4-.92-.59-1.43-.59-.52 0-1.04.2-1.43.59L10.3 9.45l-7.72 7.72c-.78.78-.78 2.05 0 2.83L4 21.41c.39.39.9.59 1.41.59.51 0 1.02-.2 1.41-.59l7.78-7.78 2.81-2.81c.8-.78.8-2.07 0-2.86zM5.41 20L4 18.59l7.72-7.72 1.47 1.35L5.41 20z\"/>\n",
              "  </svg>\n",
              "      </button>\n",
              "      \n",
              "  <style>\n",
              "    .colab-df-container {\n",
              "      display:flex;\n",
              "      flex-wrap:wrap;\n",
              "      gap: 12px;\n",
              "    }\n",
              "\n",
              "    .colab-df-convert {\n",
              "      background-color: #E8F0FE;\n",
              "      border: none;\n",
              "      border-radius: 50%;\n",
              "      cursor: pointer;\n",
              "      display: none;\n",
              "      fill: #1967D2;\n",
              "      height: 32px;\n",
              "      padding: 0 0 0 0;\n",
              "      width: 32px;\n",
              "    }\n",
              "\n",
              "    .colab-df-convert:hover {\n",
              "      background-color: #E2EBFA;\n",
              "      box-shadow: 0px 1px 2px rgba(60, 64, 67, 0.3), 0px 1px 3px 1px rgba(60, 64, 67, 0.15);\n",
              "      fill: #174EA6;\n",
              "    }\n",
              "\n",
              "    [theme=dark] .colab-df-convert {\n",
              "      background-color: #3B4455;\n",
              "      fill: #D2E3FC;\n",
              "    }\n",
              "\n",
              "    [theme=dark] .colab-df-convert:hover {\n",
              "      background-color: #434B5C;\n",
              "      box-shadow: 0px 1px 3px 1px rgba(0, 0, 0, 0.15);\n",
              "      filter: drop-shadow(0px 1px 2px rgba(0, 0, 0, 0.3));\n",
              "      fill: #FFFFFF;\n",
              "    }\n",
              "  </style>\n",
              "\n",
              "      <script>\n",
              "        const buttonEl =\n",
              "          document.querySelector('#df-6b10647e-0e51-4dc0-9409-afc88564e977 button.colab-df-convert');\n",
              "        buttonEl.style.display =\n",
              "          google.colab.kernel.accessAllowed ? 'block' : 'none';\n",
              "\n",
              "        async function convertToInteractive(key) {\n",
              "          const element = document.querySelector('#df-6b10647e-0e51-4dc0-9409-afc88564e977');\n",
              "          const dataTable =\n",
              "            await google.colab.kernel.invokeFunction('convertToInteractive',\n",
              "                                                     [key], {});\n",
              "          if (!dataTable) return;\n",
              "\n",
              "          const docLinkHtml = 'Like what you see? Visit the ' +\n",
              "            '<a target=\"_blank\" href=https://colab.research.google.com/notebooks/data_table.ipynb>data table notebook</a>'\n",
              "            + ' to learn more about interactive tables.';\n",
              "          element.innerHTML = '';\n",
              "          dataTable['output_type'] = 'display_data';\n",
              "          await google.colab.output.renderOutput(dataTable, element);\n",
              "          const docLink = document.createElement('div');\n",
              "          docLink.innerHTML = docLinkHtml;\n",
              "          element.appendChild(docLink);\n",
              "        }\n",
              "      </script>\n",
              "    </div>\n",
              "  </div>\n",
              "  "
            ]
          },
          "metadata": {},
          "execution_count": 155
        }
      ]
    },
    {
      "cell_type": "markdown",
      "metadata": {
        "id": "2QWWM9OSL4Ld"
      },
      "source": [
        "#### Merge these DataFrames to facilitate EDA. "
      ]
    },
    {
      "cell_type": "code",
      "metadata": {
        "colab": {
          "base_uri": "https://localhost:8080/"
        },
        "id": "ykNIWQnXMVkp",
        "outputId": "82cd9e9d-f566-414c-e9e6-3eb997e4692e"
      },
      "source": [
        "df = pd.concat([df1, df2])\n",
        "df.info()"
      ],
      "execution_count": null,
      "outputs": [
        {
          "output_type": "stream",
          "name": "stdout",
          "text": [
            "<class 'pandas.core.frame.DataFrame'>\n",
            "Int64Index: 1121355 entries, 0 to 560689\n",
            "Data columns (total 3 columns):\n",
            " #   Column  Non-Null Count    Dtype  \n",
            "---  ------  --------------    -----  \n",
            " 0   meter   1121355 non-null  int64  \n",
            " 1   time    1121355 non-null  object \n",
            " 2   kwh     1121355 non-null  float64\n",
            "dtypes: float64(1), int64(1), object(1)\n",
            "memory usage: 34.2+ MB\n"
          ]
        }
      ]
    },
    {
      "cell_type": "code",
      "metadata": {
        "colab": {
          "base_uri": "https://localhost:8080/",
          "height": 206
        },
        "id": "vdsDTiaDPiuq",
        "outputId": "80fc359c-52aa-4590-cbb8-d5b00535aae9"
      },
      "source": [
        "df_price.head()"
      ],
      "execution_count": null,
      "outputs": [
        {
          "output_type": "execute_result",
          "data": {
            "text/plain": [
              "  OPERATION_DATE HOUR_ENDING INTERVAL_ENDING   TOUTYPE     MARKET  \\\n",
              "0     2018-01-01         100              15  OFF-PEAK  Real Time   \n",
              "1     2018-01-01         100              30  OFF-PEAK  Real Time   \n",
              "2     2018-01-01         100              45  OFF-PEAK  Real Time   \n",
              "3     2018-01-01         100             100  OFF-PEAK  Real Time   \n",
              "4     2018-01-01         200             115  OFF-PEAK  Real Time   \n",
              "\n",
              "            ZONE  PRICE  \n",
              "0  Load Zone CPS  24.10  \n",
              "1  Load Zone CPS  23.76  \n",
              "2  Load Zone CPS  22.87  \n",
              "3  Load Zone CPS  22.70  \n",
              "4  Load Zone CPS  22.07  "
            ],
            "text/html": [
              "\n",
              "  <div id=\"df-2b9b0b11-2cf8-4c08-bdba-30604e6e0003\">\n",
              "    <div class=\"colab-df-container\">\n",
              "      <div>\n",
              "<style scoped>\n",
              "    .dataframe tbody tr th:only-of-type {\n",
              "        vertical-align: middle;\n",
              "    }\n",
              "\n",
              "    .dataframe tbody tr th {\n",
              "        vertical-align: top;\n",
              "    }\n",
              "\n",
              "    .dataframe thead th {\n",
              "        text-align: right;\n",
              "    }\n",
              "</style>\n",
              "<table border=\"1\" class=\"dataframe\">\n",
              "  <thead>\n",
              "    <tr style=\"text-align: right;\">\n",
              "      <th></th>\n",
              "      <th>OPERATION_DATE</th>\n",
              "      <th>HOUR_ENDING</th>\n",
              "      <th>INTERVAL_ENDING</th>\n",
              "      <th>TOUTYPE</th>\n",
              "      <th>MARKET</th>\n",
              "      <th>ZONE</th>\n",
              "      <th>PRICE</th>\n",
              "    </tr>\n",
              "  </thead>\n",
              "  <tbody>\n",
              "    <tr>\n",
              "      <th>0</th>\n",
              "      <td>2018-01-01</td>\n",
              "      <td>100</td>\n",
              "      <td>15</td>\n",
              "      <td>OFF-PEAK</td>\n",
              "      <td>Real Time</td>\n",
              "      <td>Load Zone CPS</td>\n",
              "      <td>24.10</td>\n",
              "    </tr>\n",
              "    <tr>\n",
              "      <th>1</th>\n",
              "      <td>2018-01-01</td>\n",
              "      <td>100</td>\n",
              "      <td>30</td>\n",
              "      <td>OFF-PEAK</td>\n",
              "      <td>Real Time</td>\n",
              "      <td>Load Zone CPS</td>\n",
              "      <td>23.76</td>\n",
              "    </tr>\n",
              "    <tr>\n",
              "      <th>2</th>\n",
              "      <td>2018-01-01</td>\n",
              "      <td>100</td>\n",
              "      <td>45</td>\n",
              "      <td>OFF-PEAK</td>\n",
              "      <td>Real Time</td>\n",
              "      <td>Load Zone CPS</td>\n",
              "      <td>22.87</td>\n",
              "    </tr>\n",
              "    <tr>\n",
              "      <th>3</th>\n",
              "      <td>2018-01-01</td>\n",
              "      <td>100</td>\n",
              "      <td>100</td>\n",
              "      <td>OFF-PEAK</td>\n",
              "      <td>Real Time</td>\n",
              "      <td>Load Zone CPS</td>\n",
              "      <td>22.70</td>\n",
              "    </tr>\n",
              "    <tr>\n",
              "      <th>4</th>\n",
              "      <td>2018-01-01</td>\n",
              "      <td>200</td>\n",
              "      <td>115</td>\n",
              "      <td>OFF-PEAK</td>\n",
              "      <td>Real Time</td>\n",
              "      <td>Load Zone CPS</td>\n",
              "      <td>22.07</td>\n",
              "    </tr>\n",
              "  </tbody>\n",
              "</table>\n",
              "</div>\n",
              "      <button class=\"colab-df-convert\" onclick=\"convertToInteractive('df-2b9b0b11-2cf8-4c08-bdba-30604e6e0003')\"\n",
              "              title=\"Convert this dataframe to an interactive table.\"\n",
              "              style=\"display:none;\">\n",
              "        \n",
              "  <svg xmlns=\"http://www.w3.org/2000/svg\" height=\"24px\"viewBox=\"0 0 24 24\"\n",
              "       width=\"24px\">\n",
              "    <path d=\"M0 0h24v24H0V0z\" fill=\"none\"/>\n",
              "    <path d=\"M18.56 5.44l.94 2.06.94-2.06 2.06-.94-2.06-.94-.94-2.06-.94 2.06-2.06.94zm-11 1L8.5 8.5l.94-2.06 2.06-.94-2.06-.94L8.5 2.5l-.94 2.06-2.06.94zm10 10l.94 2.06.94-2.06 2.06-.94-2.06-.94-.94-2.06-.94 2.06-2.06.94z\"/><path d=\"M17.41 7.96l-1.37-1.37c-.4-.4-.92-.59-1.43-.59-.52 0-1.04.2-1.43.59L10.3 9.45l-7.72 7.72c-.78.78-.78 2.05 0 2.83L4 21.41c.39.39.9.59 1.41.59.51 0 1.02-.2 1.41-.59l7.78-7.78 2.81-2.81c.8-.78.8-2.07 0-2.86zM5.41 20L4 18.59l7.72-7.72 1.47 1.35L5.41 20z\"/>\n",
              "  </svg>\n",
              "      </button>\n",
              "      \n",
              "  <style>\n",
              "    .colab-df-container {\n",
              "      display:flex;\n",
              "      flex-wrap:wrap;\n",
              "      gap: 12px;\n",
              "    }\n",
              "\n",
              "    .colab-df-convert {\n",
              "      background-color: #E8F0FE;\n",
              "      border: none;\n",
              "      border-radius: 50%;\n",
              "      cursor: pointer;\n",
              "      display: none;\n",
              "      fill: #1967D2;\n",
              "      height: 32px;\n",
              "      padding: 0 0 0 0;\n",
              "      width: 32px;\n",
              "    }\n",
              "\n",
              "    .colab-df-convert:hover {\n",
              "      background-color: #E2EBFA;\n",
              "      box-shadow: 0px 1px 2px rgba(60, 64, 67, 0.3), 0px 1px 3px 1px rgba(60, 64, 67, 0.15);\n",
              "      fill: #174EA6;\n",
              "    }\n",
              "\n",
              "    [theme=dark] .colab-df-convert {\n",
              "      background-color: #3B4455;\n",
              "      fill: #D2E3FC;\n",
              "    }\n",
              "\n",
              "    [theme=dark] .colab-df-convert:hover {\n",
              "      background-color: #434B5C;\n",
              "      box-shadow: 0px 1px 3px 1px rgba(0, 0, 0, 0.15);\n",
              "      filter: drop-shadow(0px 1px 2px rgba(0, 0, 0, 0.3));\n",
              "      fill: #FFFFFF;\n",
              "    }\n",
              "  </style>\n",
              "\n",
              "      <script>\n",
              "        const buttonEl =\n",
              "          document.querySelector('#df-2b9b0b11-2cf8-4c08-bdba-30604e6e0003 button.colab-df-convert');\n",
              "        buttonEl.style.display =\n",
              "          google.colab.kernel.accessAllowed ? 'block' : 'none';\n",
              "\n",
              "        async function convertToInteractive(key) {\n",
              "          const element = document.querySelector('#df-2b9b0b11-2cf8-4c08-bdba-30604e6e0003');\n",
              "          const dataTable =\n",
              "            await google.colab.kernel.invokeFunction('convertToInteractive',\n",
              "                                                     [key], {});\n",
              "          if (!dataTable) return;\n",
              "\n",
              "          const docLinkHtml = 'Like what you see? Visit the ' +\n",
              "            '<a target=\"_blank\" href=https://colab.research.google.com/notebooks/data_table.ipynb>data table notebook</a>'\n",
              "            + ' to learn more about interactive tables.';\n",
              "          element.innerHTML = '';\n",
              "          dataTable['output_type'] = 'display_data';\n",
              "          await google.colab.output.renderOutput(dataTable, element);\n",
              "          const docLink = document.createElement('div');\n",
              "          docLink.innerHTML = docLinkHtml;\n",
              "          element.appendChild(docLink);\n",
              "        }\n",
              "      </script>\n",
              "    </div>\n",
              "  </div>\n",
              "  "
            ]
          },
          "metadata": {},
          "execution_count": 157
        }
      ]
    },
    {
      "cell_type": "markdown",
      "metadata": {
        "id": "FnSWEohLPwIE"
      },
      "source": [
        "We will merge these DataFrames on Date/Time. Before we can do that, we need to work to reformat the date/time columns in `df_price`. First, recall the EDA process generally...\n",
        "\n",
        "\n",
        "\n",
        "### Exploratory Data Analysis\n",
        "**Purpose**: EDA is an important part of any data analysis in that it allows further data understanding.\n",
        " - Do the data meet your expectations?\n",
        " - Data cleaning\n",
        " \n",
        "**Process**: \n",
        "1. Generate questions about the data\n",
        "2. Search for answers by visualizing and transforming the data\n",
        "3. Through your findings, continue to refine your questions and generate new ones\n",
        "\n",
        "**Look for**:\n",
        " - Variation within variables\n",
        " - Covariation between variables\n",
        " \n",
        "#### Quesions\n",
        "What kind of features do we have?\n",
        " - Scale, type, domain...\n",
        "\n",
        "How is the data quality\n",
        " - Relevant, trustworthy?\n",
        " - Missing values, outliers, cardinality?\n",
        " \n",
        "Use the `info()` function to see some basic information about the object."
      ]
    },
    {
      "cell_type": "code",
      "metadata": {
        "colab": {
          "base_uri": "https://localhost:8080/"
        },
        "id": "ZK9_euOEQJ-I",
        "outputId": "9007b35a-9165-41b3-823a-c11bd1e690ed"
      },
      "source": [
        "df_price.info()"
      ],
      "execution_count": null,
      "outputs": [
        {
          "output_type": "stream",
          "name": "stdout",
          "text": [
            "<class 'pandas.core.frame.DataFrame'>\n",
            "RangeIndex: 35040 entries, 0 to 35039\n",
            "Data columns (total 7 columns):\n",
            " #   Column           Non-Null Count  Dtype  \n",
            "---  ------           --------------  -----  \n",
            " 0   OPERATION_DATE   35040 non-null  object \n",
            " 1   HOUR_ENDING      35040 non-null  object \n",
            " 2   INTERVAL_ENDING  35040 non-null  object \n",
            " 3   TOUTYPE          35040 non-null  object \n",
            " 4   MARKET           35040 non-null  object \n",
            " 5   ZONE             35040 non-null  object \n",
            " 6   PRICE            35040 non-null  float64\n",
            "dtypes: float64(1), object(6)\n",
            "memory usage: 1.9+ MB\n"
          ]
        }
      ]
    },
    {
      "cell_type": "markdown",
      "metadata": {
        "id": "H8ORYGZuQRm5"
      },
      "source": [
        "Summary statistics summarize large amounts of data by describing key characteristics such as the average, distribution, and potential correlation. They can provide an idea of the distribution and the spread of values. This may help with decisions like whether or not to scale the data later on in the data preparation phase. \n",
        "\n",
        "Create a data quality report using descriptive statistics, cardinality, and percent of each feature missing.\n",
        " - Use `pandas.describe()` to view several descriptive statistics.\n",
        " - View the data cardinality with `pandas.nunique()`.\n",
        " - Use `pandas.isna()` to see missing values by feature. "
      ]
    },
    {
      "cell_type": "code",
      "metadata": {
        "colab": {
          "base_uri": "https://localhost:8080/",
          "height": 300
        },
        "id": "CGLnvvisQX5N",
        "outputId": "0a706c43-9726-4c77-e7a2-45aa266b035a"
      },
      "source": [
        "df_price.describe()"
      ],
      "execution_count": null,
      "outputs": [
        {
          "output_type": "execute_result",
          "data": {
            "text/plain": [
              "              PRICE\n",
              "count  35040.000000\n",
              "mean      26.258769\n",
              "std       54.756189\n",
              "min      -26.160000\n",
              "25%       18.440000\n",
              "50%       20.435000\n",
              "75%       24.300000\n",
              "max     2672.960000"
            ],
            "text/html": [
              "\n",
              "  <div id=\"df-c9d4e69a-26db-45f8-8cc8-6fbb2f4d3dfc\">\n",
              "    <div class=\"colab-df-container\">\n",
              "      <div>\n",
              "<style scoped>\n",
              "    .dataframe tbody tr th:only-of-type {\n",
              "        vertical-align: middle;\n",
              "    }\n",
              "\n",
              "    .dataframe tbody tr th {\n",
              "        vertical-align: top;\n",
              "    }\n",
              "\n",
              "    .dataframe thead th {\n",
              "        text-align: right;\n",
              "    }\n",
              "</style>\n",
              "<table border=\"1\" class=\"dataframe\">\n",
              "  <thead>\n",
              "    <tr style=\"text-align: right;\">\n",
              "      <th></th>\n",
              "      <th>PRICE</th>\n",
              "    </tr>\n",
              "  </thead>\n",
              "  <tbody>\n",
              "    <tr>\n",
              "      <th>count</th>\n",
              "      <td>35040.000000</td>\n",
              "    </tr>\n",
              "    <tr>\n",
              "      <th>mean</th>\n",
              "      <td>26.258769</td>\n",
              "    </tr>\n",
              "    <tr>\n",
              "      <th>std</th>\n",
              "      <td>54.756189</td>\n",
              "    </tr>\n",
              "    <tr>\n",
              "      <th>min</th>\n",
              "      <td>-26.160000</td>\n",
              "    </tr>\n",
              "    <tr>\n",
              "      <th>25%</th>\n",
              "      <td>18.440000</td>\n",
              "    </tr>\n",
              "    <tr>\n",
              "      <th>50%</th>\n",
              "      <td>20.435000</td>\n",
              "    </tr>\n",
              "    <tr>\n",
              "      <th>75%</th>\n",
              "      <td>24.300000</td>\n",
              "    </tr>\n",
              "    <tr>\n",
              "      <th>max</th>\n",
              "      <td>2672.960000</td>\n",
              "    </tr>\n",
              "  </tbody>\n",
              "</table>\n",
              "</div>\n",
              "      <button class=\"colab-df-convert\" onclick=\"convertToInteractive('df-c9d4e69a-26db-45f8-8cc8-6fbb2f4d3dfc')\"\n",
              "              title=\"Convert this dataframe to an interactive table.\"\n",
              "              style=\"display:none;\">\n",
              "        \n",
              "  <svg xmlns=\"http://www.w3.org/2000/svg\" height=\"24px\"viewBox=\"0 0 24 24\"\n",
              "       width=\"24px\">\n",
              "    <path d=\"M0 0h24v24H0V0z\" fill=\"none\"/>\n",
              "    <path d=\"M18.56 5.44l.94 2.06.94-2.06 2.06-.94-2.06-.94-.94-2.06-.94 2.06-2.06.94zm-11 1L8.5 8.5l.94-2.06 2.06-.94-2.06-.94L8.5 2.5l-.94 2.06-2.06.94zm10 10l.94 2.06.94-2.06 2.06-.94-2.06-.94-.94-2.06-.94 2.06-2.06.94z\"/><path d=\"M17.41 7.96l-1.37-1.37c-.4-.4-.92-.59-1.43-.59-.52 0-1.04.2-1.43.59L10.3 9.45l-7.72 7.72c-.78.78-.78 2.05 0 2.83L4 21.41c.39.39.9.59 1.41.59.51 0 1.02-.2 1.41-.59l7.78-7.78 2.81-2.81c.8-.78.8-2.07 0-2.86zM5.41 20L4 18.59l7.72-7.72 1.47 1.35L5.41 20z\"/>\n",
              "  </svg>\n",
              "      </button>\n",
              "      \n",
              "  <style>\n",
              "    .colab-df-container {\n",
              "      display:flex;\n",
              "      flex-wrap:wrap;\n",
              "      gap: 12px;\n",
              "    }\n",
              "\n",
              "    .colab-df-convert {\n",
              "      background-color: #E8F0FE;\n",
              "      border: none;\n",
              "      border-radius: 50%;\n",
              "      cursor: pointer;\n",
              "      display: none;\n",
              "      fill: #1967D2;\n",
              "      height: 32px;\n",
              "      padding: 0 0 0 0;\n",
              "      width: 32px;\n",
              "    }\n",
              "\n",
              "    .colab-df-convert:hover {\n",
              "      background-color: #E2EBFA;\n",
              "      box-shadow: 0px 1px 2px rgba(60, 64, 67, 0.3), 0px 1px 3px 1px rgba(60, 64, 67, 0.15);\n",
              "      fill: #174EA6;\n",
              "    }\n",
              "\n",
              "    [theme=dark] .colab-df-convert {\n",
              "      background-color: #3B4455;\n",
              "      fill: #D2E3FC;\n",
              "    }\n",
              "\n",
              "    [theme=dark] .colab-df-convert:hover {\n",
              "      background-color: #434B5C;\n",
              "      box-shadow: 0px 1px 3px 1px rgba(0, 0, 0, 0.15);\n",
              "      filter: drop-shadow(0px 1px 2px rgba(0, 0, 0, 0.3));\n",
              "      fill: #FFFFFF;\n",
              "    }\n",
              "  </style>\n",
              "\n",
              "      <script>\n",
              "        const buttonEl =\n",
              "          document.querySelector('#df-c9d4e69a-26db-45f8-8cc8-6fbb2f4d3dfc button.colab-df-convert');\n",
              "        buttonEl.style.display =\n",
              "          google.colab.kernel.accessAllowed ? 'block' : 'none';\n",
              "\n",
              "        async function convertToInteractive(key) {\n",
              "          const element = document.querySelector('#df-c9d4e69a-26db-45f8-8cc8-6fbb2f4d3dfc');\n",
              "          const dataTable =\n",
              "            await google.colab.kernel.invokeFunction('convertToInteractive',\n",
              "                                                     [key], {});\n",
              "          if (!dataTable) return;\n",
              "\n",
              "          const docLinkHtml = 'Like what you see? Visit the ' +\n",
              "            '<a target=\"_blank\" href=https://colab.research.google.com/notebooks/data_table.ipynb>data table notebook</a>'\n",
              "            + ' to learn more about interactive tables.';\n",
              "          element.innerHTML = '';\n",
              "          dataTable['output_type'] = 'display_data';\n",
              "          await google.colab.output.renderOutput(dataTable, element);\n",
              "          const docLink = document.createElement('div');\n",
              "          docLink.innerHTML = docLinkHtml;\n",
              "          element.appendChild(docLink);\n",
              "        }\n",
              "      </script>\n",
              "    </div>\n",
              "  </div>\n",
              "  "
            ]
          },
          "metadata": {},
          "execution_count": 159
        }
      ]
    },
    {
      "cell_type": "markdown",
      "metadata": {
        "id": "Sj6N3JKRQjPj"
      },
      "source": [
        "Cast categorical data as type `category` and use `describe()`."
      ]
    },
    {
      "cell_type": "code",
      "metadata": {
        "colab": {
          "base_uri": "https://localhost:8080/",
          "height": 175
        },
        "id": "pxOa9nMHQszZ",
        "outputId": "71e1d0f0-fa9c-4f71-b9b7-614922baa785"
      },
      "source": [
        "df_price[['TOUTYPE', 'MARKET', 'ZONE']] = df_price[['TOUTYPE', 'MARKET', 'ZONE']].astype('category')\n",
        "df_price[['TOUTYPE', 'MARKET', 'ZONE']].describe()"
      ],
      "execution_count": null,
      "outputs": [
        {
          "output_type": "execute_result",
          "data": {
            "text/plain": [
              "       TOUTYPE     MARKET           ZONE\n",
              "count    35040      35040          35040\n",
              "unique       3          1              1\n",
              "top     PEAKWD  Real Time  Load Zone CPS\n",
              "freq     16320      35040          35040"
            ],
            "text/html": [
              "\n",
              "  <div id=\"df-9197d212-64aa-4a49-8abb-1ff7e3efe201\">\n",
              "    <div class=\"colab-df-container\">\n",
              "      <div>\n",
              "<style scoped>\n",
              "    .dataframe tbody tr th:only-of-type {\n",
              "        vertical-align: middle;\n",
              "    }\n",
              "\n",
              "    .dataframe tbody tr th {\n",
              "        vertical-align: top;\n",
              "    }\n",
              "\n",
              "    .dataframe thead th {\n",
              "        text-align: right;\n",
              "    }\n",
              "</style>\n",
              "<table border=\"1\" class=\"dataframe\">\n",
              "  <thead>\n",
              "    <tr style=\"text-align: right;\">\n",
              "      <th></th>\n",
              "      <th>TOUTYPE</th>\n",
              "      <th>MARKET</th>\n",
              "      <th>ZONE</th>\n",
              "    </tr>\n",
              "  </thead>\n",
              "  <tbody>\n",
              "    <tr>\n",
              "      <th>count</th>\n",
              "      <td>35040</td>\n",
              "      <td>35040</td>\n",
              "      <td>35040</td>\n",
              "    </tr>\n",
              "    <tr>\n",
              "      <th>unique</th>\n",
              "      <td>3</td>\n",
              "      <td>1</td>\n",
              "      <td>1</td>\n",
              "    </tr>\n",
              "    <tr>\n",
              "      <th>top</th>\n",
              "      <td>PEAKWD</td>\n",
              "      <td>Real Time</td>\n",
              "      <td>Load Zone CPS</td>\n",
              "    </tr>\n",
              "    <tr>\n",
              "      <th>freq</th>\n",
              "      <td>16320</td>\n",
              "      <td>35040</td>\n",
              "      <td>35040</td>\n",
              "    </tr>\n",
              "  </tbody>\n",
              "</table>\n",
              "</div>\n",
              "      <button class=\"colab-df-convert\" onclick=\"convertToInteractive('df-9197d212-64aa-4a49-8abb-1ff7e3efe201')\"\n",
              "              title=\"Convert this dataframe to an interactive table.\"\n",
              "              style=\"display:none;\">\n",
              "        \n",
              "  <svg xmlns=\"http://www.w3.org/2000/svg\" height=\"24px\"viewBox=\"0 0 24 24\"\n",
              "       width=\"24px\">\n",
              "    <path d=\"M0 0h24v24H0V0z\" fill=\"none\"/>\n",
              "    <path d=\"M18.56 5.44l.94 2.06.94-2.06 2.06-.94-2.06-.94-.94-2.06-.94 2.06-2.06.94zm-11 1L8.5 8.5l.94-2.06 2.06-.94-2.06-.94L8.5 2.5l-.94 2.06-2.06.94zm10 10l.94 2.06.94-2.06 2.06-.94-2.06-.94-.94-2.06-.94 2.06-2.06.94z\"/><path d=\"M17.41 7.96l-1.37-1.37c-.4-.4-.92-.59-1.43-.59-.52 0-1.04.2-1.43.59L10.3 9.45l-7.72 7.72c-.78.78-.78 2.05 0 2.83L4 21.41c.39.39.9.59 1.41.59.51 0 1.02-.2 1.41-.59l7.78-7.78 2.81-2.81c.8-.78.8-2.07 0-2.86zM5.41 20L4 18.59l7.72-7.72 1.47 1.35L5.41 20z\"/>\n",
              "  </svg>\n",
              "      </button>\n",
              "      \n",
              "  <style>\n",
              "    .colab-df-container {\n",
              "      display:flex;\n",
              "      flex-wrap:wrap;\n",
              "      gap: 12px;\n",
              "    }\n",
              "\n",
              "    .colab-df-convert {\n",
              "      background-color: #E8F0FE;\n",
              "      border: none;\n",
              "      border-radius: 50%;\n",
              "      cursor: pointer;\n",
              "      display: none;\n",
              "      fill: #1967D2;\n",
              "      height: 32px;\n",
              "      padding: 0 0 0 0;\n",
              "      width: 32px;\n",
              "    }\n",
              "\n",
              "    .colab-df-convert:hover {\n",
              "      background-color: #E2EBFA;\n",
              "      box-shadow: 0px 1px 2px rgba(60, 64, 67, 0.3), 0px 1px 3px 1px rgba(60, 64, 67, 0.15);\n",
              "      fill: #174EA6;\n",
              "    }\n",
              "\n",
              "    [theme=dark] .colab-df-convert {\n",
              "      background-color: #3B4455;\n",
              "      fill: #D2E3FC;\n",
              "    }\n",
              "\n",
              "    [theme=dark] .colab-df-convert:hover {\n",
              "      background-color: #434B5C;\n",
              "      box-shadow: 0px 1px 3px 1px rgba(0, 0, 0, 0.15);\n",
              "      filter: drop-shadow(0px 1px 2px rgba(0, 0, 0, 0.3));\n",
              "      fill: #FFFFFF;\n",
              "    }\n",
              "  </style>\n",
              "\n",
              "      <script>\n",
              "        const buttonEl =\n",
              "          document.querySelector('#df-9197d212-64aa-4a49-8abb-1ff7e3efe201 button.colab-df-convert');\n",
              "        buttonEl.style.display =\n",
              "          google.colab.kernel.accessAllowed ? 'block' : 'none';\n",
              "\n",
              "        async function convertToInteractive(key) {\n",
              "          const element = document.querySelector('#df-9197d212-64aa-4a49-8abb-1ff7e3efe201');\n",
              "          const dataTable =\n",
              "            await google.colab.kernel.invokeFunction('convertToInteractive',\n",
              "                                                     [key], {});\n",
              "          if (!dataTable) return;\n",
              "\n",
              "          const docLinkHtml = 'Like what you see? Visit the ' +\n",
              "            '<a target=\"_blank\" href=https://colab.research.google.com/notebooks/data_table.ipynb>data table notebook</a>'\n",
              "            + ' to learn more about interactive tables.';\n",
              "          element.innerHTML = '';\n",
              "          dataTable['output_type'] = 'display_data';\n",
              "          await google.colab.output.renderOutput(dataTable, element);\n",
              "          const docLink = document.createElement('div');\n",
              "          docLink.innerHTML = docLinkHtml;\n",
              "          element.appendChild(docLink);\n",
              "        }\n",
              "      </script>\n",
              "    </div>\n",
              "  </div>\n",
              "  "
            ]
          },
          "metadata": {},
          "execution_count": 160
        }
      ]
    },
    {
      "cell_type": "code",
      "metadata": {
        "colab": {
          "base_uri": "https://localhost:8080/"
        },
        "id": "RfU4lpi9Q5mn",
        "outputId": "e996dee5-7ebe-402d-805f-cc422a10846f"
      },
      "source": [
        "df_price.nunique()"
      ],
      "execution_count": null,
      "outputs": [
        {
          "output_type": "execute_result",
          "data": {
            "text/plain": [
              "OPERATION_DATE      365\n",
              "HOUR_ENDING          25\n",
              "INTERVAL_ENDING     100\n",
              "TOUTYPE               3\n",
              "MARKET                1\n",
              "ZONE                  1\n",
              "PRICE              4814\n",
              "dtype: int64"
            ]
          },
          "metadata": {},
          "execution_count": 161
        }
      ]
    },
    {
      "cell_type": "code",
      "metadata": {
        "colab": {
          "base_uri": "https://localhost:8080/"
        },
        "id": "CmKfQ4dqQ9Oi",
        "outputId": "a74ea990-0bab-418c-c6cb-802266e30c43"
      },
      "source": [
        "df_price.isna().sum()"
      ],
      "execution_count": null,
      "outputs": [
        {
          "output_type": "execute_result",
          "data": {
            "text/plain": [
              "OPERATION_DATE     0\n",
              "HOUR_ENDING        0\n",
              "INTERVAL_ENDING    0\n",
              "TOUTYPE            0\n",
              "MARKET             0\n",
              "ZONE               0\n",
              "PRICE              0\n",
              "dtype: int64"
            ]
          },
          "metadata": {},
          "execution_count": 162
        }
      ]
    },
    {
      "cell_type": "code",
      "metadata": {
        "colab": {
          "base_uri": "https://localhost:8080/",
          "height": 143
        },
        "id": "0X-ttl3MRGKI",
        "outputId": "770cd9f0-c80a-43c3-a6a0-c85b0d7f2614"
      },
      "source": [
        "qual = df_price[['TOUTYPE', 'MARKET', 'ZONE']].describe().T\n",
        "qual['card'] = df_price[['TOUTYPE', 'MARKET', 'ZONE']].nunique()\n",
        "qual['missing'] = df_price[['TOUTYPE', 'MARKET', 'ZONE']].isna().sum()\n",
        "qual"
      ],
      "execution_count": null,
      "outputs": [
        {
          "output_type": "execute_result",
          "data": {
            "text/plain": [
              "         count unique            top   freq  card  missing\n",
              "TOUTYPE  35040      3         PEAKWD  16320     3        0\n",
              "MARKET   35040      1      Real Time  35040     1        0\n",
              "ZONE     35040      1  Load Zone CPS  35040     1        0"
            ],
            "text/html": [
              "\n",
              "  <div id=\"df-76f5a55b-3d60-4bea-9d76-9e9076905fb6\">\n",
              "    <div class=\"colab-df-container\">\n",
              "      <div>\n",
              "<style scoped>\n",
              "    .dataframe tbody tr th:only-of-type {\n",
              "        vertical-align: middle;\n",
              "    }\n",
              "\n",
              "    .dataframe tbody tr th {\n",
              "        vertical-align: top;\n",
              "    }\n",
              "\n",
              "    .dataframe thead th {\n",
              "        text-align: right;\n",
              "    }\n",
              "</style>\n",
              "<table border=\"1\" class=\"dataframe\">\n",
              "  <thead>\n",
              "    <tr style=\"text-align: right;\">\n",
              "      <th></th>\n",
              "      <th>count</th>\n",
              "      <th>unique</th>\n",
              "      <th>top</th>\n",
              "      <th>freq</th>\n",
              "      <th>card</th>\n",
              "      <th>missing</th>\n",
              "    </tr>\n",
              "  </thead>\n",
              "  <tbody>\n",
              "    <tr>\n",
              "      <th>TOUTYPE</th>\n",
              "      <td>35040</td>\n",
              "      <td>3</td>\n",
              "      <td>PEAKWD</td>\n",
              "      <td>16320</td>\n",
              "      <td>3</td>\n",
              "      <td>0</td>\n",
              "    </tr>\n",
              "    <tr>\n",
              "      <th>MARKET</th>\n",
              "      <td>35040</td>\n",
              "      <td>1</td>\n",
              "      <td>Real Time</td>\n",
              "      <td>35040</td>\n",
              "      <td>1</td>\n",
              "      <td>0</td>\n",
              "    </tr>\n",
              "    <tr>\n",
              "      <th>ZONE</th>\n",
              "      <td>35040</td>\n",
              "      <td>1</td>\n",
              "      <td>Load Zone CPS</td>\n",
              "      <td>35040</td>\n",
              "      <td>1</td>\n",
              "      <td>0</td>\n",
              "    </tr>\n",
              "  </tbody>\n",
              "</table>\n",
              "</div>\n",
              "      <button class=\"colab-df-convert\" onclick=\"convertToInteractive('df-76f5a55b-3d60-4bea-9d76-9e9076905fb6')\"\n",
              "              title=\"Convert this dataframe to an interactive table.\"\n",
              "              style=\"display:none;\">\n",
              "        \n",
              "  <svg xmlns=\"http://www.w3.org/2000/svg\" height=\"24px\"viewBox=\"0 0 24 24\"\n",
              "       width=\"24px\">\n",
              "    <path d=\"M0 0h24v24H0V0z\" fill=\"none\"/>\n",
              "    <path d=\"M18.56 5.44l.94 2.06.94-2.06 2.06-.94-2.06-.94-.94-2.06-.94 2.06-2.06.94zm-11 1L8.5 8.5l.94-2.06 2.06-.94-2.06-.94L8.5 2.5l-.94 2.06-2.06.94zm10 10l.94 2.06.94-2.06 2.06-.94-2.06-.94-.94-2.06-.94 2.06-2.06.94z\"/><path d=\"M17.41 7.96l-1.37-1.37c-.4-.4-.92-.59-1.43-.59-.52 0-1.04.2-1.43.59L10.3 9.45l-7.72 7.72c-.78.78-.78 2.05 0 2.83L4 21.41c.39.39.9.59 1.41.59.51 0 1.02-.2 1.41-.59l7.78-7.78 2.81-2.81c.8-.78.8-2.07 0-2.86zM5.41 20L4 18.59l7.72-7.72 1.47 1.35L5.41 20z\"/>\n",
              "  </svg>\n",
              "      </button>\n",
              "      \n",
              "  <style>\n",
              "    .colab-df-container {\n",
              "      display:flex;\n",
              "      flex-wrap:wrap;\n",
              "      gap: 12px;\n",
              "    }\n",
              "\n",
              "    .colab-df-convert {\n",
              "      background-color: #E8F0FE;\n",
              "      border: none;\n",
              "      border-radius: 50%;\n",
              "      cursor: pointer;\n",
              "      display: none;\n",
              "      fill: #1967D2;\n",
              "      height: 32px;\n",
              "      padding: 0 0 0 0;\n",
              "      width: 32px;\n",
              "    }\n",
              "\n",
              "    .colab-df-convert:hover {\n",
              "      background-color: #E2EBFA;\n",
              "      box-shadow: 0px 1px 2px rgba(60, 64, 67, 0.3), 0px 1px 3px 1px rgba(60, 64, 67, 0.15);\n",
              "      fill: #174EA6;\n",
              "    }\n",
              "\n",
              "    [theme=dark] .colab-df-convert {\n",
              "      background-color: #3B4455;\n",
              "      fill: #D2E3FC;\n",
              "    }\n",
              "\n",
              "    [theme=dark] .colab-df-convert:hover {\n",
              "      background-color: #434B5C;\n",
              "      box-shadow: 0px 1px 3px 1px rgba(0, 0, 0, 0.15);\n",
              "      filter: drop-shadow(0px 1px 2px rgba(0, 0, 0, 0.3));\n",
              "      fill: #FFFFFF;\n",
              "    }\n",
              "  </style>\n",
              "\n",
              "      <script>\n",
              "        const buttonEl =\n",
              "          document.querySelector('#df-76f5a55b-3d60-4bea-9d76-9e9076905fb6 button.colab-df-convert');\n",
              "        buttonEl.style.display =\n",
              "          google.colab.kernel.accessAllowed ? 'block' : 'none';\n",
              "\n",
              "        async function convertToInteractive(key) {\n",
              "          const element = document.querySelector('#df-76f5a55b-3d60-4bea-9d76-9e9076905fb6');\n",
              "          const dataTable =\n",
              "            await google.colab.kernel.invokeFunction('convertToInteractive',\n",
              "                                                     [key], {});\n",
              "          if (!dataTable) return;\n",
              "\n",
              "          const docLinkHtml = 'Like what you see? Visit the ' +\n",
              "            '<a target=\"_blank\" href=https://colab.research.google.com/notebooks/data_table.ipynb>data table notebook</a>'\n",
              "            + ' to learn more about interactive tables.';\n",
              "          element.innerHTML = '';\n",
              "          dataTable['output_type'] = 'display_data';\n",
              "          await google.colab.output.renderOutput(dataTable, element);\n",
              "          const docLink = document.createElement('div');\n",
              "          docLink.innerHTML = docLinkHtml;\n",
              "          element.appendChild(docLink);\n",
              "        }\n",
              "      </script>\n",
              "    </div>\n",
              "  </div>\n",
              "  "
            ]
          },
          "metadata": {},
          "execution_count": 163
        }
      ]
    },
    {
      "cell_type": "markdown",
      "metadata": {
        "id": "3NTO46s-RbG9"
      },
      "source": [
        "**Question**: why are there 25 unique values in `HOUR_ENDING`?"
      ]
    },
    {
      "cell_type": "code",
      "metadata": {
        "colab": {
          "base_uri": "https://localhost:8080/"
        },
        "id": "4WC8YfTNRd8t",
        "outputId": "85e831e7-9848-40c4-f808-b019dd1f850c"
      },
      "source": [
        "df_price.HOUR_ENDING.unique()"
      ],
      "execution_count": null,
      "outputs": [
        {
          "output_type": "execute_result",
          "data": {
            "text/plain": [
              "array(['100', '200', '300', '400', '500', '600', '700', '800', '900',\n",
              "       '1000', '1100', '1200', '1300', '1400', '1500', '1600', '1700',\n",
              "       '1800', '1900', '2000', '2100', '2200', '2300', '2400', '0200D'],\n",
              "      dtype=object)"
            ]
          },
          "metadata": {},
          "execution_count": 164
        }
      ]
    },
    {
      "cell_type": "code",
      "metadata": {
        "colab": {
          "base_uri": "https://localhost:8080/"
        },
        "id": "5g2B_4n3RjfO",
        "outputId": "442b2edf-cd7b-47ec-af1a-1317c5761989"
      },
      "source": [
        "df_price['HOUR_ENDING'].value_counts()"
      ],
      "execution_count": null,
      "outputs": [
        {
          "output_type": "execute_result",
          "data": {
            "text/plain": [
              "100      1460\n",
              "1400     1460\n",
              "2400     1460\n",
              "2300     1460\n",
              "2200     1460\n",
              "2100     1460\n",
              "2000     1460\n",
              "1900     1460\n",
              "1800     1460\n",
              "1700     1460\n",
              "1600     1460\n",
              "1500     1460\n",
              "1300     1460\n",
              "1200     1460\n",
              "1100     1460\n",
              "1000     1460\n",
              "900      1460\n",
              "800      1460\n",
              "700      1460\n",
              "600      1460\n",
              "500      1460\n",
              "400      1460\n",
              "300      1460\n",
              "200      1456\n",
              "0200D       4\n",
              "Name: HOUR_ENDING, dtype: int64"
            ]
          },
          "metadata": {},
          "execution_count": 165
        }
      ]
    },
    {
      "cell_type": "markdown",
      "metadata": {
        "id": "QgpL_c1BRp0I"
      },
      "source": [
        "Change the value '0200D' to 200 to make our data consistent."
      ]
    },
    {
      "cell_type": "code",
      "metadata": {
        "colab": {
          "base_uri": "https://localhost:8080/"
        },
        "id": "GgyyICiZRr-n",
        "outputId": "b330ad7d-9899-4498-9ef8-b6f96c00509f"
      },
      "source": [
        "df_price['HOUR_ENDING'] = df_price['HOUR_ENDING'].replace({'0200D':'200'})\n",
        "df_price['HOUR_ENDING'].value_counts()"
      ],
      "execution_count": null,
      "outputs": [
        {
          "output_type": "execute_result",
          "data": {
            "text/plain": [
              "100     1460\n",
              "200     1460\n",
              "2300    1460\n",
              "2200    1460\n",
              "2100    1460\n",
              "2000    1460\n",
              "1900    1460\n",
              "1800    1460\n",
              "1700    1460\n",
              "1600    1460\n",
              "1500    1460\n",
              "1400    1460\n",
              "1300    1460\n",
              "1200    1460\n",
              "1100    1460\n",
              "1000    1460\n",
              "900     1460\n",
              "800     1460\n",
              "700     1460\n",
              "600     1460\n",
              "500     1460\n",
              "400     1460\n",
              "300     1460\n",
              "2400    1460\n",
              "Name: HOUR_ENDING, dtype: int64"
            ]
          },
          "metadata": {},
          "execution_count": 166
        }
      ]
    },
    {
      "cell_type": "markdown",
      "metadata": {
        "id": "WGHUQSKESI6U"
      },
      "source": [
        "The meter data includes the timestamp starting at hour `0`. Let's adjust our price dataset so the timestamp is consistent with that of the meter data."
      ]
    },
    {
      "cell_type": "code",
      "metadata": {
        "colab": {
          "base_uri": "https://localhost:8080/",
          "height": 206
        },
        "id": "b1WoPAWFSKRU",
        "outputId": "54ab8af7-fe3f-4cfd-f498-b2efd4aed301"
      },
      "source": [
        "df.head()"
      ],
      "execution_count": null,
      "outputs": [
        {
          "output_type": "execute_result",
          "data": {
            "text/plain": [
              "   meter                 time    kwh\n",
              "0      1  2018-01-01 00:15:00  0.404\n",
              "1      1  2018-01-01 00:30:00  0.343\n",
              "2      1  2018-01-01 00:45:00  0.259\n",
              "3      1  2018-01-01 01:00:00  0.193\n",
              "4      1  2018-01-01 01:15:00  0.183"
            ],
            "text/html": [
              "\n",
              "  <div id=\"df-fb9c7ec7-f558-4805-bdf6-38c74d8eaa4d\">\n",
              "    <div class=\"colab-df-container\">\n",
              "      <div>\n",
              "<style scoped>\n",
              "    .dataframe tbody tr th:only-of-type {\n",
              "        vertical-align: middle;\n",
              "    }\n",
              "\n",
              "    .dataframe tbody tr th {\n",
              "        vertical-align: top;\n",
              "    }\n",
              "\n",
              "    .dataframe thead th {\n",
              "        text-align: right;\n",
              "    }\n",
              "</style>\n",
              "<table border=\"1\" class=\"dataframe\">\n",
              "  <thead>\n",
              "    <tr style=\"text-align: right;\">\n",
              "      <th></th>\n",
              "      <th>meter</th>\n",
              "      <th>time</th>\n",
              "      <th>kwh</th>\n",
              "    </tr>\n",
              "  </thead>\n",
              "  <tbody>\n",
              "    <tr>\n",
              "      <th>0</th>\n",
              "      <td>1</td>\n",
              "      <td>2018-01-01 00:15:00</td>\n",
              "      <td>0.404</td>\n",
              "    </tr>\n",
              "    <tr>\n",
              "      <th>1</th>\n",
              "      <td>1</td>\n",
              "      <td>2018-01-01 00:30:00</td>\n",
              "      <td>0.343</td>\n",
              "    </tr>\n",
              "    <tr>\n",
              "      <th>2</th>\n",
              "      <td>1</td>\n",
              "      <td>2018-01-01 00:45:00</td>\n",
              "      <td>0.259</td>\n",
              "    </tr>\n",
              "    <tr>\n",
              "      <th>3</th>\n",
              "      <td>1</td>\n",
              "      <td>2018-01-01 01:00:00</td>\n",
              "      <td>0.193</td>\n",
              "    </tr>\n",
              "    <tr>\n",
              "      <th>4</th>\n",
              "      <td>1</td>\n",
              "      <td>2018-01-01 01:15:00</td>\n",
              "      <td>0.183</td>\n",
              "    </tr>\n",
              "  </tbody>\n",
              "</table>\n",
              "</div>\n",
              "      <button class=\"colab-df-convert\" onclick=\"convertToInteractive('df-fb9c7ec7-f558-4805-bdf6-38c74d8eaa4d')\"\n",
              "              title=\"Convert this dataframe to an interactive table.\"\n",
              "              style=\"display:none;\">\n",
              "        \n",
              "  <svg xmlns=\"http://www.w3.org/2000/svg\" height=\"24px\"viewBox=\"0 0 24 24\"\n",
              "       width=\"24px\">\n",
              "    <path d=\"M0 0h24v24H0V0z\" fill=\"none\"/>\n",
              "    <path d=\"M18.56 5.44l.94 2.06.94-2.06 2.06-.94-2.06-.94-.94-2.06-.94 2.06-2.06.94zm-11 1L8.5 8.5l.94-2.06 2.06-.94-2.06-.94L8.5 2.5l-.94 2.06-2.06.94zm10 10l.94 2.06.94-2.06 2.06-.94-2.06-.94-.94-2.06-.94 2.06-2.06.94z\"/><path d=\"M17.41 7.96l-1.37-1.37c-.4-.4-.92-.59-1.43-.59-.52 0-1.04.2-1.43.59L10.3 9.45l-7.72 7.72c-.78.78-.78 2.05 0 2.83L4 21.41c.39.39.9.59 1.41.59.51 0 1.02-.2 1.41-.59l7.78-7.78 2.81-2.81c.8-.78.8-2.07 0-2.86zM5.41 20L4 18.59l7.72-7.72 1.47 1.35L5.41 20z\"/>\n",
              "  </svg>\n",
              "      </button>\n",
              "      \n",
              "  <style>\n",
              "    .colab-df-container {\n",
              "      display:flex;\n",
              "      flex-wrap:wrap;\n",
              "      gap: 12px;\n",
              "    }\n",
              "\n",
              "    .colab-df-convert {\n",
              "      background-color: #E8F0FE;\n",
              "      border: none;\n",
              "      border-radius: 50%;\n",
              "      cursor: pointer;\n",
              "      display: none;\n",
              "      fill: #1967D2;\n",
              "      height: 32px;\n",
              "      padding: 0 0 0 0;\n",
              "      width: 32px;\n",
              "    }\n",
              "\n",
              "    .colab-df-convert:hover {\n",
              "      background-color: #E2EBFA;\n",
              "      box-shadow: 0px 1px 2px rgba(60, 64, 67, 0.3), 0px 1px 3px 1px rgba(60, 64, 67, 0.15);\n",
              "      fill: #174EA6;\n",
              "    }\n",
              "\n",
              "    [theme=dark] .colab-df-convert {\n",
              "      background-color: #3B4455;\n",
              "      fill: #D2E3FC;\n",
              "    }\n",
              "\n",
              "    [theme=dark] .colab-df-convert:hover {\n",
              "      background-color: #434B5C;\n",
              "      box-shadow: 0px 1px 3px 1px rgba(0, 0, 0, 0.15);\n",
              "      filter: drop-shadow(0px 1px 2px rgba(0, 0, 0, 0.3));\n",
              "      fill: #FFFFFF;\n",
              "    }\n",
              "  </style>\n",
              "\n",
              "      <script>\n",
              "        const buttonEl =\n",
              "          document.querySelector('#df-fb9c7ec7-f558-4805-bdf6-38c74d8eaa4d button.colab-df-convert');\n",
              "        buttonEl.style.display =\n",
              "          google.colab.kernel.accessAllowed ? 'block' : 'none';\n",
              "\n",
              "        async function convertToInteractive(key) {\n",
              "          const element = document.querySelector('#df-fb9c7ec7-f558-4805-bdf6-38c74d8eaa4d');\n",
              "          const dataTable =\n",
              "            await google.colab.kernel.invokeFunction('convertToInteractive',\n",
              "                                                     [key], {});\n",
              "          if (!dataTable) return;\n",
              "\n",
              "          const docLinkHtml = 'Like what you see? Visit the ' +\n",
              "            '<a target=\"_blank\" href=https://colab.research.google.com/notebooks/data_table.ipynb>data table notebook</a>'\n",
              "            + ' to learn more about interactive tables.';\n",
              "          element.innerHTML = '';\n",
              "          dataTable['output_type'] = 'display_data';\n",
              "          await google.colab.output.renderOutput(dataTable, element);\n",
              "          const docLink = document.createElement('div');\n",
              "          docLink.innerHTML = docLinkHtml;\n",
              "          element.appendChild(docLink);\n",
              "        }\n",
              "      </script>\n",
              "    </div>\n",
              "  </div>\n",
              "  "
            ]
          },
          "metadata": {},
          "execution_count": 167
        }
      ]
    },
    {
      "cell_type": "code",
      "source": [
        "df_price.head()"
      ],
      "metadata": {
        "colab": {
          "base_uri": "https://localhost:8080/",
          "height": 206
        },
        "id": "OWRz-KAw7mrQ",
        "outputId": "75ae6532-5d09-4112-b8e5-883845fa4de5"
      },
      "execution_count": null,
      "outputs": [
        {
          "output_type": "execute_result",
          "data": {
            "text/plain": [
              "  OPERATION_DATE HOUR_ENDING INTERVAL_ENDING   TOUTYPE     MARKET  \\\n",
              "0     2018-01-01         100              15  OFF-PEAK  Real Time   \n",
              "1     2018-01-01         100              30  OFF-PEAK  Real Time   \n",
              "2     2018-01-01         100              45  OFF-PEAK  Real Time   \n",
              "3     2018-01-01         100             100  OFF-PEAK  Real Time   \n",
              "4     2018-01-01         200             115  OFF-PEAK  Real Time   \n",
              "\n",
              "            ZONE  PRICE  \n",
              "0  Load Zone CPS  24.10  \n",
              "1  Load Zone CPS  23.76  \n",
              "2  Load Zone CPS  22.87  \n",
              "3  Load Zone CPS  22.70  \n",
              "4  Load Zone CPS  22.07  "
            ],
            "text/html": [
              "\n",
              "  <div id=\"df-3591d24d-7180-4512-a79e-060719f45da1\">\n",
              "    <div class=\"colab-df-container\">\n",
              "      <div>\n",
              "<style scoped>\n",
              "    .dataframe tbody tr th:only-of-type {\n",
              "        vertical-align: middle;\n",
              "    }\n",
              "\n",
              "    .dataframe tbody tr th {\n",
              "        vertical-align: top;\n",
              "    }\n",
              "\n",
              "    .dataframe thead th {\n",
              "        text-align: right;\n",
              "    }\n",
              "</style>\n",
              "<table border=\"1\" class=\"dataframe\">\n",
              "  <thead>\n",
              "    <tr style=\"text-align: right;\">\n",
              "      <th></th>\n",
              "      <th>OPERATION_DATE</th>\n",
              "      <th>HOUR_ENDING</th>\n",
              "      <th>INTERVAL_ENDING</th>\n",
              "      <th>TOUTYPE</th>\n",
              "      <th>MARKET</th>\n",
              "      <th>ZONE</th>\n",
              "      <th>PRICE</th>\n",
              "    </tr>\n",
              "  </thead>\n",
              "  <tbody>\n",
              "    <tr>\n",
              "      <th>0</th>\n",
              "      <td>2018-01-01</td>\n",
              "      <td>100</td>\n",
              "      <td>15</td>\n",
              "      <td>OFF-PEAK</td>\n",
              "      <td>Real Time</td>\n",
              "      <td>Load Zone CPS</td>\n",
              "      <td>24.10</td>\n",
              "    </tr>\n",
              "    <tr>\n",
              "      <th>1</th>\n",
              "      <td>2018-01-01</td>\n",
              "      <td>100</td>\n",
              "      <td>30</td>\n",
              "      <td>OFF-PEAK</td>\n",
              "      <td>Real Time</td>\n",
              "      <td>Load Zone CPS</td>\n",
              "      <td>23.76</td>\n",
              "    </tr>\n",
              "    <tr>\n",
              "      <th>2</th>\n",
              "      <td>2018-01-01</td>\n",
              "      <td>100</td>\n",
              "      <td>45</td>\n",
              "      <td>OFF-PEAK</td>\n",
              "      <td>Real Time</td>\n",
              "      <td>Load Zone CPS</td>\n",
              "      <td>22.87</td>\n",
              "    </tr>\n",
              "    <tr>\n",
              "      <th>3</th>\n",
              "      <td>2018-01-01</td>\n",
              "      <td>100</td>\n",
              "      <td>100</td>\n",
              "      <td>OFF-PEAK</td>\n",
              "      <td>Real Time</td>\n",
              "      <td>Load Zone CPS</td>\n",
              "      <td>22.70</td>\n",
              "    </tr>\n",
              "    <tr>\n",
              "      <th>4</th>\n",
              "      <td>2018-01-01</td>\n",
              "      <td>200</td>\n",
              "      <td>115</td>\n",
              "      <td>OFF-PEAK</td>\n",
              "      <td>Real Time</td>\n",
              "      <td>Load Zone CPS</td>\n",
              "      <td>22.07</td>\n",
              "    </tr>\n",
              "  </tbody>\n",
              "</table>\n",
              "</div>\n",
              "      <button class=\"colab-df-convert\" onclick=\"convertToInteractive('df-3591d24d-7180-4512-a79e-060719f45da1')\"\n",
              "              title=\"Convert this dataframe to an interactive table.\"\n",
              "              style=\"display:none;\">\n",
              "        \n",
              "  <svg xmlns=\"http://www.w3.org/2000/svg\" height=\"24px\"viewBox=\"0 0 24 24\"\n",
              "       width=\"24px\">\n",
              "    <path d=\"M0 0h24v24H0V0z\" fill=\"none\"/>\n",
              "    <path d=\"M18.56 5.44l.94 2.06.94-2.06 2.06-.94-2.06-.94-.94-2.06-.94 2.06-2.06.94zm-11 1L8.5 8.5l.94-2.06 2.06-.94-2.06-.94L8.5 2.5l-.94 2.06-2.06.94zm10 10l.94 2.06.94-2.06 2.06-.94-2.06-.94-.94-2.06-.94 2.06-2.06.94z\"/><path d=\"M17.41 7.96l-1.37-1.37c-.4-.4-.92-.59-1.43-.59-.52 0-1.04.2-1.43.59L10.3 9.45l-7.72 7.72c-.78.78-.78 2.05 0 2.83L4 21.41c.39.39.9.59 1.41.59.51 0 1.02-.2 1.41-.59l7.78-7.78 2.81-2.81c.8-.78.8-2.07 0-2.86zM5.41 20L4 18.59l7.72-7.72 1.47 1.35L5.41 20z\"/>\n",
              "  </svg>\n",
              "      </button>\n",
              "      \n",
              "  <style>\n",
              "    .colab-df-container {\n",
              "      display:flex;\n",
              "      flex-wrap:wrap;\n",
              "      gap: 12px;\n",
              "    }\n",
              "\n",
              "    .colab-df-convert {\n",
              "      background-color: #E8F0FE;\n",
              "      border: none;\n",
              "      border-radius: 50%;\n",
              "      cursor: pointer;\n",
              "      display: none;\n",
              "      fill: #1967D2;\n",
              "      height: 32px;\n",
              "      padding: 0 0 0 0;\n",
              "      width: 32px;\n",
              "    }\n",
              "\n",
              "    .colab-df-convert:hover {\n",
              "      background-color: #E2EBFA;\n",
              "      box-shadow: 0px 1px 2px rgba(60, 64, 67, 0.3), 0px 1px 3px 1px rgba(60, 64, 67, 0.15);\n",
              "      fill: #174EA6;\n",
              "    }\n",
              "\n",
              "    [theme=dark] .colab-df-convert {\n",
              "      background-color: #3B4455;\n",
              "      fill: #D2E3FC;\n",
              "    }\n",
              "\n",
              "    [theme=dark] .colab-df-convert:hover {\n",
              "      background-color: #434B5C;\n",
              "      box-shadow: 0px 1px 3px 1px rgba(0, 0, 0, 0.15);\n",
              "      filter: drop-shadow(0px 1px 2px rgba(0, 0, 0, 0.3));\n",
              "      fill: #FFFFFF;\n",
              "    }\n",
              "  </style>\n",
              "\n",
              "      <script>\n",
              "        const buttonEl =\n",
              "          document.querySelector('#df-3591d24d-7180-4512-a79e-060719f45da1 button.colab-df-convert');\n",
              "        buttonEl.style.display =\n",
              "          google.colab.kernel.accessAllowed ? 'block' : 'none';\n",
              "\n",
              "        async function convertToInteractive(key) {\n",
              "          const element = document.querySelector('#df-3591d24d-7180-4512-a79e-060719f45da1');\n",
              "          const dataTable =\n",
              "            await google.colab.kernel.invokeFunction('convertToInteractive',\n",
              "                                                     [key], {});\n",
              "          if (!dataTable) return;\n",
              "\n",
              "          const docLinkHtml = 'Like what you see? Visit the ' +\n",
              "            '<a target=\"_blank\" href=https://colab.research.google.com/notebooks/data_table.ipynb>data table notebook</a>'\n",
              "            + ' to learn more about interactive tables.';\n",
              "          element.innerHTML = '';\n",
              "          dataTable['output_type'] = 'display_data';\n",
              "          await google.colab.output.renderOutput(dataTable, element);\n",
              "          const docLink = document.createElement('div');\n",
              "          docLink.innerHTML = docLinkHtml;\n",
              "          element.appendChild(docLink);\n",
              "        }\n",
              "      </script>\n",
              "    </div>\n",
              "  </div>\n",
              "  "
            ]
          },
          "metadata": {},
          "execution_count": 168
        }
      ]
    },
    {
      "cell_type": "code",
      "metadata": {
        "colab": {
          "base_uri": "https://localhost:8080/",
          "height": 206
        },
        "id": "0YSnOYNcScjD",
        "outputId": "5fbb3e5e-e7eb-4f4a-8d13-fe6091d89f51"
      },
      "source": [
        "df_price['HOUR'] = ((df_price['HOUR_ENDING'].astype('int') - 100)/100)\n",
        "df_price.head()"
      ],
      "execution_count": null,
      "outputs": [
        {
          "output_type": "execute_result",
          "data": {
            "text/plain": [
              "  OPERATION_DATE HOUR_ENDING INTERVAL_ENDING   TOUTYPE     MARKET  \\\n",
              "0     2018-01-01         100              15  OFF-PEAK  Real Time   \n",
              "1     2018-01-01         100              30  OFF-PEAK  Real Time   \n",
              "2     2018-01-01         100              45  OFF-PEAK  Real Time   \n",
              "3     2018-01-01         100             100  OFF-PEAK  Real Time   \n",
              "4     2018-01-01         200             115  OFF-PEAK  Real Time   \n",
              "\n",
              "            ZONE  PRICE  HOUR  \n",
              "0  Load Zone CPS  24.10   0.0  \n",
              "1  Load Zone CPS  23.76   0.0  \n",
              "2  Load Zone CPS  22.87   0.0  \n",
              "3  Load Zone CPS  22.70   0.0  \n",
              "4  Load Zone CPS  22.07   1.0  "
            ],
            "text/html": [
              "\n",
              "  <div id=\"df-92e60048-6c77-4a8c-adcb-18ed1d52af6c\">\n",
              "    <div class=\"colab-df-container\">\n",
              "      <div>\n",
              "<style scoped>\n",
              "    .dataframe tbody tr th:only-of-type {\n",
              "        vertical-align: middle;\n",
              "    }\n",
              "\n",
              "    .dataframe tbody tr th {\n",
              "        vertical-align: top;\n",
              "    }\n",
              "\n",
              "    .dataframe thead th {\n",
              "        text-align: right;\n",
              "    }\n",
              "</style>\n",
              "<table border=\"1\" class=\"dataframe\">\n",
              "  <thead>\n",
              "    <tr style=\"text-align: right;\">\n",
              "      <th></th>\n",
              "      <th>OPERATION_DATE</th>\n",
              "      <th>HOUR_ENDING</th>\n",
              "      <th>INTERVAL_ENDING</th>\n",
              "      <th>TOUTYPE</th>\n",
              "      <th>MARKET</th>\n",
              "      <th>ZONE</th>\n",
              "      <th>PRICE</th>\n",
              "      <th>HOUR</th>\n",
              "    </tr>\n",
              "  </thead>\n",
              "  <tbody>\n",
              "    <tr>\n",
              "      <th>0</th>\n",
              "      <td>2018-01-01</td>\n",
              "      <td>100</td>\n",
              "      <td>15</td>\n",
              "      <td>OFF-PEAK</td>\n",
              "      <td>Real Time</td>\n",
              "      <td>Load Zone CPS</td>\n",
              "      <td>24.10</td>\n",
              "      <td>0.0</td>\n",
              "    </tr>\n",
              "    <tr>\n",
              "      <th>1</th>\n",
              "      <td>2018-01-01</td>\n",
              "      <td>100</td>\n",
              "      <td>30</td>\n",
              "      <td>OFF-PEAK</td>\n",
              "      <td>Real Time</td>\n",
              "      <td>Load Zone CPS</td>\n",
              "      <td>23.76</td>\n",
              "      <td>0.0</td>\n",
              "    </tr>\n",
              "    <tr>\n",
              "      <th>2</th>\n",
              "      <td>2018-01-01</td>\n",
              "      <td>100</td>\n",
              "      <td>45</td>\n",
              "      <td>OFF-PEAK</td>\n",
              "      <td>Real Time</td>\n",
              "      <td>Load Zone CPS</td>\n",
              "      <td>22.87</td>\n",
              "      <td>0.0</td>\n",
              "    </tr>\n",
              "    <tr>\n",
              "      <th>3</th>\n",
              "      <td>2018-01-01</td>\n",
              "      <td>100</td>\n",
              "      <td>100</td>\n",
              "      <td>OFF-PEAK</td>\n",
              "      <td>Real Time</td>\n",
              "      <td>Load Zone CPS</td>\n",
              "      <td>22.70</td>\n",
              "      <td>0.0</td>\n",
              "    </tr>\n",
              "    <tr>\n",
              "      <th>4</th>\n",
              "      <td>2018-01-01</td>\n",
              "      <td>200</td>\n",
              "      <td>115</td>\n",
              "      <td>OFF-PEAK</td>\n",
              "      <td>Real Time</td>\n",
              "      <td>Load Zone CPS</td>\n",
              "      <td>22.07</td>\n",
              "      <td>1.0</td>\n",
              "    </tr>\n",
              "  </tbody>\n",
              "</table>\n",
              "</div>\n",
              "      <button class=\"colab-df-convert\" onclick=\"convertToInteractive('df-92e60048-6c77-4a8c-adcb-18ed1d52af6c')\"\n",
              "              title=\"Convert this dataframe to an interactive table.\"\n",
              "              style=\"display:none;\">\n",
              "        \n",
              "  <svg xmlns=\"http://www.w3.org/2000/svg\" height=\"24px\"viewBox=\"0 0 24 24\"\n",
              "       width=\"24px\">\n",
              "    <path d=\"M0 0h24v24H0V0z\" fill=\"none\"/>\n",
              "    <path d=\"M18.56 5.44l.94 2.06.94-2.06 2.06-.94-2.06-.94-.94-2.06-.94 2.06-2.06.94zm-11 1L8.5 8.5l.94-2.06 2.06-.94-2.06-.94L8.5 2.5l-.94 2.06-2.06.94zm10 10l.94 2.06.94-2.06 2.06-.94-2.06-.94-.94-2.06-.94 2.06-2.06.94z\"/><path d=\"M17.41 7.96l-1.37-1.37c-.4-.4-.92-.59-1.43-.59-.52 0-1.04.2-1.43.59L10.3 9.45l-7.72 7.72c-.78.78-.78 2.05 0 2.83L4 21.41c.39.39.9.59 1.41.59.51 0 1.02-.2 1.41-.59l7.78-7.78 2.81-2.81c.8-.78.8-2.07 0-2.86zM5.41 20L4 18.59l7.72-7.72 1.47 1.35L5.41 20z\"/>\n",
              "  </svg>\n",
              "      </button>\n",
              "      \n",
              "  <style>\n",
              "    .colab-df-container {\n",
              "      display:flex;\n",
              "      flex-wrap:wrap;\n",
              "      gap: 12px;\n",
              "    }\n",
              "\n",
              "    .colab-df-convert {\n",
              "      background-color: #E8F0FE;\n",
              "      border: none;\n",
              "      border-radius: 50%;\n",
              "      cursor: pointer;\n",
              "      display: none;\n",
              "      fill: #1967D2;\n",
              "      height: 32px;\n",
              "      padding: 0 0 0 0;\n",
              "      width: 32px;\n",
              "    }\n",
              "\n",
              "    .colab-df-convert:hover {\n",
              "      background-color: #E2EBFA;\n",
              "      box-shadow: 0px 1px 2px rgba(60, 64, 67, 0.3), 0px 1px 3px 1px rgba(60, 64, 67, 0.15);\n",
              "      fill: #174EA6;\n",
              "    }\n",
              "\n",
              "    [theme=dark] .colab-df-convert {\n",
              "      background-color: #3B4455;\n",
              "      fill: #D2E3FC;\n",
              "    }\n",
              "\n",
              "    [theme=dark] .colab-df-convert:hover {\n",
              "      background-color: #434B5C;\n",
              "      box-shadow: 0px 1px 3px 1px rgba(0, 0, 0, 0.15);\n",
              "      filter: drop-shadow(0px 1px 2px rgba(0, 0, 0, 0.3));\n",
              "      fill: #FFFFFF;\n",
              "    }\n",
              "  </style>\n",
              "\n",
              "      <script>\n",
              "        const buttonEl =\n",
              "          document.querySelector('#df-92e60048-6c77-4a8c-adcb-18ed1d52af6c button.colab-df-convert');\n",
              "        buttonEl.style.display =\n",
              "          google.colab.kernel.accessAllowed ? 'block' : 'none';\n",
              "\n",
              "        async function convertToInteractive(key) {\n",
              "          const element = document.querySelector('#df-92e60048-6c77-4a8c-adcb-18ed1d52af6c');\n",
              "          const dataTable =\n",
              "            await google.colab.kernel.invokeFunction('convertToInteractive',\n",
              "                                                     [key], {});\n",
              "          if (!dataTable) return;\n",
              "\n",
              "          const docLinkHtml = 'Like what you see? Visit the ' +\n",
              "            '<a target=\"_blank\" href=https://colab.research.google.com/notebooks/data_table.ipynb>data table notebook</a>'\n",
              "            + ' to learn more about interactive tables.';\n",
              "          element.innerHTML = '';\n",
              "          dataTable['output_type'] = 'display_data';\n",
              "          await google.colab.output.renderOutput(dataTable, element);\n",
              "          const docLink = document.createElement('div');\n",
              "          docLink.innerHTML = docLinkHtml;\n",
              "          element.appendChild(docLink);\n",
              "        }\n",
              "      </script>\n",
              "    </div>\n",
              "  </div>\n",
              "  "
            ]
          },
          "metadata": {},
          "execution_count": 169
        }
      ]
    },
    {
      "cell_type": "markdown",
      "metadata": {
        "id": "pRP2SJeSSyLo"
      },
      "source": [
        "We can drop `HOUR_ENDING` now if desired."
      ]
    },
    {
      "cell_type": "code",
      "metadata": {
        "id": "8y2jg3r2S3X5"
      },
      "source": [
        "df_price.drop('HOUR_ENDING', axis=1, inplace=True)"
      ],
      "execution_count": null,
      "outputs": []
    },
    {
      "cell_type": "markdown",
      "metadata": {
        "id": "Z4vrmxheS9th"
      },
      "source": [
        "**Question**: why does `INTERVAL_ENDING` have 100 values?"
      ]
    },
    {
      "cell_type": "code",
      "metadata": {
        "colab": {
          "base_uri": "https://localhost:8080/"
        },
        "id": "9X4h6ekeTUzt",
        "outputId": "39e2d9ef-a224-4703-eb05-3d005890c54a"
      },
      "source": [
        "df_price['INTERVAL_ENDING'].unique()"
      ],
      "execution_count": null,
      "outputs": [
        {
          "output_type": "execute_result",
          "data": {
            "text/plain": [
              "array(['15', '30', '45', '100', '115', '130', '145', '200', '215', '230',\n",
              "       '245', '300', '315', '330', '345', '400', '415', '430', '445',\n",
              "       '500', '515', '530', '545', '600', '615', '630', '645', '700',\n",
              "       '715', '730', '745', '800', '815', '830', '845', '900', '915',\n",
              "       '930', '945', '1000', '1015', '1030', '1045', '1100', '1115',\n",
              "       '1130', '1145', '1200', '1215', '1230', '1245', '1300', '1315',\n",
              "       '1330', '1345', '1400', '1415', '1430', '1445', '1500', '1515',\n",
              "       '1530', '1545', '1600', '1615', '1630', '1645', '1700', '1715',\n",
              "       '1730', '1745', '1800', '1815', '1830', '1845', '1900', '1915',\n",
              "       '1930', '1945', '2000', '2015', '2030', '2045', '2100', '2115',\n",
              "       '2130', '2145', '2200', '2215', '2230', '2245', '2300', '2315',\n",
              "       '2330', '2345', '2400', '0115D', '0130D', '0145D', '0200D'],\n",
              "      dtype=object)"
            ]
          },
          "metadata": {},
          "execution_count": 170
        }
      ]
    },
    {
      "cell_type": "markdown",
      "metadata": {
        "id": "oFOq6eaITatW"
      },
      "source": [
        "\n",
        "`INTERVAL_ENDING` has values that are similar to those in `HOUR_ENDING`..."
      ]
    },
    {
      "cell_type": "code",
      "metadata": {
        "id": "jmWhaf2xTimL"
      },
      "source": [
        "# Replace the values\n",
        "df_price['INTERVAL_ENDING'] = df_price['INTERVAL_ENDING'].replace({'0200D':'200', \n",
        "                                  '0115D':'215',\n",
        "                                  '0130D':'230',\n",
        "                                  '0145D':'245'})"
      ],
      "execution_count": null,
      "outputs": []
    },
    {
      "cell_type": "code",
      "metadata": {
        "id": "Ih-EkjSUwMn2"
      },
      "source": [
        "# We only need the last two characters for our timestamp...get them with str.strip()\n",
        "df_price['INTERVAL'] = df_price['INTERVAL_ENDING'].str.strip().str[-2:]"
      ],
      "execution_count": null,
      "outputs": []
    },
    {
      "cell_type": "code",
      "metadata": {
        "id": "cKlMo-qaT0eY"
      },
      "source": [
        "# Cast INTERVAL to type INT and drop INTERVAL_ENDING if desired\n",
        "df_price['INTERVAL'] = df_price['INTERVAL'].astype('int')\n",
        "df_price.drop('INTERVAL_ENDING', axis=1, inplace=True)"
      ],
      "execution_count": null,
      "outputs": []
    },
    {
      "cell_type": "code",
      "metadata": {
        "colab": {
          "base_uri": "https://localhost:8080/"
        },
        "id": "sF4_3K61UH2C",
        "outputId": "68bec051-b0df-4d96-b8f2-afdfcee2c4fd"
      },
      "source": [
        "df_price.HOUR.dtype"
      ],
      "execution_count": null,
      "outputs": [
        {
          "output_type": "execute_result",
          "data": {
            "text/plain": [
              "dtype('float64')"
            ]
          },
          "metadata": {},
          "execution_count": 83
        }
      ]
    },
    {
      "cell_type": "markdown",
      "metadata": {
        "id": "58RgjLSaUZho"
      },
      "source": [
        "Cast `HOUR` to type `INT`."
      ]
    },
    {
      "cell_type": "code",
      "metadata": {
        "id": "BwFcbeJdUeLJ"
      },
      "source": [
        "df_price['HOUR'] = df_price['HOUR'].astype('int')"
      ],
      "execution_count": null,
      "outputs": []
    },
    {
      "cell_type": "code",
      "metadata": {
        "colab": {
          "base_uri": "https://localhost:8080/",
          "height": 206
        },
        "id": "pf5WT47WUgME",
        "outputId": "1fa2a78b-41c1-4c6c-b0c5-cf9089d217a1"
      },
      "source": [
        "df_price.head()"
      ],
      "execution_count": null,
      "outputs": [
        {
          "output_type": "execute_result",
          "data": {
            "text/plain": [
              "  OPERATION_DATE   TOUTYPE     MARKET           ZONE  PRICE  HOUR  INTERVAL\n",
              "0     2018-01-01  OFF-PEAK  Real Time  Load Zone CPS  24.10     0        15\n",
              "1     2018-01-01  OFF-PEAK  Real Time  Load Zone CPS  23.76     0        30\n",
              "2     2018-01-01  OFF-PEAK  Real Time  Load Zone CPS  22.87     0        45\n",
              "3     2018-01-01  OFF-PEAK  Real Time  Load Zone CPS  22.70     0         0\n",
              "4     2018-01-01  OFF-PEAK  Real Time  Load Zone CPS  22.07     1        15"
            ],
            "text/html": [
              "\n",
              "  <div id=\"df-bc2616a2-ddae-4c32-aba5-a6e711c835b3\">\n",
              "    <div class=\"colab-df-container\">\n",
              "      <div>\n",
              "<style scoped>\n",
              "    .dataframe tbody tr th:only-of-type {\n",
              "        vertical-align: middle;\n",
              "    }\n",
              "\n",
              "    .dataframe tbody tr th {\n",
              "        vertical-align: top;\n",
              "    }\n",
              "\n",
              "    .dataframe thead th {\n",
              "        text-align: right;\n",
              "    }\n",
              "</style>\n",
              "<table border=\"1\" class=\"dataframe\">\n",
              "  <thead>\n",
              "    <tr style=\"text-align: right;\">\n",
              "      <th></th>\n",
              "      <th>OPERATION_DATE</th>\n",
              "      <th>TOUTYPE</th>\n",
              "      <th>MARKET</th>\n",
              "      <th>ZONE</th>\n",
              "      <th>PRICE</th>\n",
              "      <th>HOUR</th>\n",
              "      <th>INTERVAL</th>\n",
              "    </tr>\n",
              "  </thead>\n",
              "  <tbody>\n",
              "    <tr>\n",
              "      <th>0</th>\n",
              "      <td>2018-01-01</td>\n",
              "      <td>OFF-PEAK</td>\n",
              "      <td>Real Time</td>\n",
              "      <td>Load Zone CPS</td>\n",
              "      <td>24.10</td>\n",
              "      <td>0</td>\n",
              "      <td>15</td>\n",
              "    </tr>\n",
              "    <tr>\n",
              "      <th>1</th>\n",
              "      <td>2018-01-01</td>\n",
              "      <td>OFF-PEAK</td>\n",
              "      <td>Real Time</td>\n",
              "      <td>Load Zone CPS</td>\n",
              "      <td>23.76</td>\n",
              "      <td>0</td>\n",
              "      <td>30</td>\n",
              "    </tr>\n",
              "    <tr>\n",
              "      <th>2</th>\n",
              "      <td>2018-01-01</td>\n",
              "      <td>OFF-PEAK</td>\n",
              "      <td>Real Time</td>\n",
              "      <td>Load Zone CPS</td>\n",
              "      <td>22.87</td>\n",
              "      <td>0</td>\n",
              "      <td>45</td>\n",
              "    </tr>\n",
              "    <tr>\n",
              "      <th>3</th>\n",
              "      <td>2018-01-01</td>\n",
              "      <td>OFF-PEAK</td>\n",
              "      <td>Real Time</td>\n",
              "      <td>Load Zone CPS</td>\n",
              "      <td>22.70</td>\n",
              "      <td>0</td>\n",
              "      <td>0</td>\n",
              "    </tr>\n",
              "    <tr>\n",
              "      <th>4</th>\n",
              "      <td>2018-01-01</td>\n",
              "      <td>OFF-PEAK</td>\n",
              "      <td>Real Time</td>\n",
              "      <td>Load Zone CPS</td>\n",
              "      <td>22.07</td>\n",
              "      <td>1</td>\n",
              "      <td>15</td>\n",
              "    </tr>\n",
              "  </tbody>\n",
              "</table>\n",
              "</div>\n",
              "      <button class=\"colab-df-convert\" onclick=\"convertToInteractive('df-bc2616a2-ddae-4c32-aba5-a6e711c835b3')\"\n",
              "              title=\"Convert this dataframe to an interactive table.\"\n",
              "              style=\"display:none;\">\n",
              "        \n",
              "  <svg xmlns=\"http://www.w3.org/2000/svg\" height=\"24px\"viewBox=\"0 0 24 24\"\n",
              "       width=\"24px\">\n",
              "    <path d=\"M0 0h24v24H0V0z\" fill=\"none\"/>\n",
              "    <path d=\"M18.56 5.44l.94 2.06.94-2.06 2.06-.94-2.06-.94-.94-2.06-.94 2.06-2.06.94zm-11 1L8.5 8.5l.94-2.06 2.06-.94-2.06-.94L8.5 2.5l-.94 2.06-2.06.94zm10 10l.94 2.06.94-2.06 2.06-.94-2.06-.94-.94-2.06-.94 2.06-2.06.94z\"/><path d=\"M17.41 7.96l-1.37-1.37c-.4-.4-.92-.59-1.43-.59-.52 0-1.04.2-1.43.59L10.3 9.45l-7.72 7.72c-.78.78-.78 2.05 0 2.83L4 21.41c.39.39.9.59 1.41.59.51 0 1.02-.2 1.41-.59l7.78-7.78 2.81-2.81c.8-.78.8-2.07 0-2.86zM5.41 20L4 18.59l7.72-7.72 1.47 1.35L5.41 20z\"/>\n",
              "  </svg>\n",
              "      </button>\n",
              "      \n",
              "  <style>\n",
              "    .colab-df-container {\n",
              "      display:flex;\n",
              "      flex-wrap:wrap;\n",
              "      gap: 12px;\n",
              "    }\n",
              "\n",
              "    .colab-df-convert {\n",
              "      background-color: #E8F0FE;\n",
              "      border: none;\n",
              "      border-radius: 50%;\n",
              "      cursor: pointer;\n",
              "      display: none;\n",
              "      fill: #1967D2;\n",
              "      height: 32px;\n",
              "      padding: 0 0 0 0;\n",
              "      width: 32px;\n",
              "    }\n",
              "\n",
              "    .colab-df-convert:hover {\n",
              "      background-color: #E2EBFA;\n",
              "      box-shadow: 0px 1px 2px rgba(60, 64, 67, 0.3), 0px 1px 3px 1px rgba(60, 64, 67, 0.15);\n",
              "      fill: #174EA6;\n",
              "    }\n",
              "\n",
              "    [theme=dark] .colab-df-convert {\n",
              "      background-color: #3B4455;\n",
              "      fill: #D2E3FC;\n",
              "    }\n",
              "\n",
              "    [theme=dark] .colab-df-convert:hover {\n",
              "      background-color: #434B5C;\n",
              "      box-shadow: 0px 1px 3px 1px rgba(0, 0, 0, 0.15);\n",
              "      filter: drop-shadow(0px 1px 2px rgba(0, 0, 0, 0.3));\n",
              "      fill: #FFFFFF;\n",
              "    }\n",
              "  </style>\n",
              "\n",
              "      <script>\n",
              "        const buttonEl =\n",
              "          document.querySelector('#df-bc2616a2-ddae-4c32-aba5-a6e711c835b3 button.colab-df-convert');\n",
              "        buttonEl.style.display =\n",
              "          google.colab.kernel.accessAllowed ? 'block' : 'none';\n",
              "\n",
              "        async function convertToInteractive(key) {\n",
              "          const element = document.querySelector('#df-bc2616a2-ddae-4c32-aba5-a6e711c835b3');\n",
              "          const dataTable =\n",
              "            await google.colab.kernel.invokeFunction('convertToInteractive',\n",
              "                                                     [key], {});\n",
              "          if (!dataTable) return;\n",
              "\n",
              "          const docLinkHtml = 'Like what you see? Visit the ' +\n",
              "            '<a target=\"_blank\" href=https://colab.research.google.com/notebooks/data_table.ipynb>data table notebook</a>'\n",
              "            + ' to learn more about interactive tables.';\n",
              "          element.innerHTML = '';\n",
              "          dataTable['output_type'] = 'display_data';\n",
              "          await google.colab.output.renderOutput(dataTable, element);\n",
              "          const docLink = document.createElement('div');\n",
              "          docLink.innerHTML = docLinkHtml;\n",
              "          element.appendChild(docLink);\n",
              "        }\n",
              "      </script>\n",
              "    </div>\n",
              "  </div>\n",
              "  "
            ]
          },
          "metadata": {},
          "execution_count": 85
        }
      ]
    },
    {
      "cell_type": "code",
      "metadata": {
        "colab": {
          "base_uri": "https://localhost:8080/",
          "height": 206
        },
        "id": "4REx3VrDEUVf",
        "outputId": "8e3269cd-f3a8-4a4d-f469-41706c54b0cc"
      },
      "source": [
        "df_price.head()"
      ],
      "execution_count": null,
      "outputs": [
        {
          "output_type": "execute_result",
          "data": {
            "text/plain": [
              "  OPERATION_DATE   TOUTYPE     MARKET           ZONE  PRICE  HOUR  INTERVAL\n",
              "0     2018-01-01  OFF-PEAK  Real Time  Load Zone CPS  24.10     0        15\n",
              "1     2018-01-01  OFF-PEAK  Real Time  Load Zone CPS  23.76     0        30\n",
              "2     2018-01-01  OFF-PEAK  Real Time  Load Zone CPS  22.87     0        45\n",
              "3     2018-01-01  OFF-PEAK  Real Time  Load Zone CPS  22.70     0         0\n",
              "4     2018-01-01  OFF-PEAK  Real Time  Load Zone CPS  22.07     1        15"
            ],
            "text/html": [
              "\n",
              "  <div id=\"df-ae9f0296-d10e-4bfc-9e1c-d1bddbeb4d71\">\n",
              "    <div class=\"colab-df-container\">\n",
              "      <div>\n",
              "<style scoped>\n",
              "    .dataframe tbody tr th:only-of-type {\n",
              "        vertical-align: middle;\n",
              "    }\n",
              "\n",
              "    .dataframe tbody tr th {\n",
              "        vertical-align: top;\n",
              "    }\n",
              "\n",
              "    .dataframe thead th {\n",
              "        text-align: right;\n",
              "    }\n",
              "</style>\n",
              "<table border=\"1\" class=\"dataframe\">\n",
              "  <thead>\n",
              "    <tr style=\"text-align: right;\">\n",
              "      <th></th>\n",
              "      <th>OPERATION_DATE</th>\n",
              "      <th>TOUTYPE</th>\n",
              "      <th>MARKET</th>\n",
              "      <th>ZONE</th>\n",
              "      <th>PRICE</th>\n",
              "      <th>HOUR</th>\n",
              "      <th>INTERVAL</th>\n",
              "    </tr>\n",
              "  </thead>\n",
              "  <tbody>\n",
              "    <tr>\n",
              "      <th>0</th>\n",
              "      <td>2018-01-01</td>\n",
              "      <td>OFF-PEAK</td>\n",
              "      <td>Real Time</td>\n",
              "      <td>Load Zone CPS</td>\n",
              "      <td>24.10</td>\n",
              "      <td>0</td>\n",
              "      <td>15</td>\n",
              "    </tr>\n",
              "    <tr>\n",
              "      <th>1</th>\n",
              "      <td>2018-01-01</td>\n",
              "      <td>OFF-PEAK</td>\n",
              "      <td>Real Time</td>\n",
              "      <td>Load Zone CPS</td>\n",
              "      <td>23.76</td>\n",
              "      <td>0</td>\n",
              "      <td>30</td>\n",
              "    </tr>\n",
              "    <tr>\n",
              "      <th>2</th>\n",
              "      <td>2018-01-01</td>\n",
              "      <td>OFF-PEAK</td>\n",
              "      <td>Real Time</td>\n",
              "      <td>Load Zone CPS</td>\n",
              "      <td>22.87</td>\n",
              "      <td>0</td>\n",
              "      <td>45</td>\n",
              "    </tr>\n",
              "    <tr>\n",
              "      <th>3</th>\n",
              "      <td>2018-01-01</td>\n",
              "      <td>OFF-PEAK</td>\n",
              "      <td>Real Time</td>\n",
              "      <td>Load Zone CPS</td>\n",
              "      <td>22.70</td>\n",
              "      <td>0</td>\n",
              "      <td>0</td>\n",
              "    </tr>\n",
              "    <tr>\n",
              "      <th>4</th>\n",
              "      <td>2018-01-01</td>\n",
              "      <td>OFF-PEAK</td>\n",
              "      <td>Real Time</td>\n",
              "      <td>Load Zone CPS</td>\n",
              "      <td>22.07</td>\n",
              "      <td>1</td>\n",
              "      <td>15</td>\n",
              "    </tr>\n",
              "  </tbody>\n",
              "</table>\n",
              "</div>\n",
              "      <button class=\"colab-df-convert\" onclick=\"convertToInteractive('df-ae9f0296-d10e-4bfc-9e1c-d1bddbeb4d71')\"\n",
              "              title=\"Convert this dataframe to an interactive table.\"\n",
              "              style=\"display:none;\">\n",
              "        \n",
              "  <svg xmlns=\"http://www.w3.org/2000/svg\" height=\"24px\"viewBox=\"0 0 24 24\"\n",
              "       width=\"24px\">\n",
              "    <path d=\"M0 0h24v24H0V0z\" fill=\"none\"/>\n",
              "    <path d=\"M18.56 5.44l.94 2.06.94-2.06 2.06-.94-2.06-.94-.94-2.06-.94 2.06-2.06.94zm-11 1L8.5 8.5l.94-2.06 2.06-.94-2.06-.94L8.5 2.5l-.94 2.06-2.06.94zm10 10l.94 2.06.94-2.06 2.06-.94-2.06-.94-.94-2.06-.94 2.06-2.06.94z\"/><path d=\"M17.41 7.96l-1.37-1.37c-.4-.4-.92-.59-1.43-.59-.52 0-1.04.2-1.43.59L10.3 9.45l-7.72 7.72c-.78.78-.78 2.05 0 2.83L4 21.41c.39.39.9.59 1.41.59.51 0 1.02-.2 1.41-.59l7.78-7.78 2.81-2.81c.8-.78.8-2.07 0-2.86zM5.41 20L4 18.59l7.72-7.72 1.47 1.35L5.41 20z\"/>\n",
              "  </svg>\n",
              "      </button>\n",
              "      \n",
              "  <style>\n",
              "    .colab-df-container {\n",
              "      display:flex;\n",
              "      flex-wrap:wrap;\n",
              "      gap: 12px;\n",
              "    }\n",
              "\n",
              "    .colab-df-convert {\n",
              "      background-color: #E8F0FE;\n",
              "      border: none;\n",
              "      border-radius: 50%;\n",
              "      cursor: pointer;\n",
              "      display: none;\n",
              "      fill: #1967D2;\n",
              "      height: 32px;\n",
              "      padding: 0 0 0 0;\n",
              "      width: 32px;\n",
              "    }\n",
              "\n",
              "    .colab-df-convert:hover {\n",
              "      background-color: #E2EBFA;\n",
              "      box-shadow: 0px 1px 2px rgba(60, 64, 67, 0.3), 0px 1px 3px 1px rgba(60, 64, 67, 0.15);\n",
              "      fill: #174EA6;\n",
              "    }\n",
              "\n",
              "    [theme=dark] .colab-df-convert {\n",
              "      background-color: #3B4455;\n",
              "      fill: #D2E3FC;\n",
              "    }\n",
              "\n",
              "    [theme=dark] .colab-df-convert:hover {\n",
              "      background-color: #434B5C;\n",
              "      box-shadow: 0px 1px 3px 1px rgba(0, 0, 0, 0.15);\n",
              "      filter: drop-shadow(0px 1px 2px rgba(0, 0, 0, 0.3));\n",
              "      fill: #FFFFFF;\n",
              "    }\n",
              "  </style>\n",
              "\n",
              "      <script>\n",
              "        const buttonEl =\n",
              "          document.querySelector('#df-ae9f0296-d10e-4bfc-9e1c-d1bddbeb4d71 button.colab-df-convert');\n",
              "        buttonEl.style.display =\n",
              "          google.colab.kernel.accessAllowed ? 'block' : 'none';\n",
              "\n",
              "        async function convertToInteractive(key) {\n",
              "          const element = document.querySelector('#df-ae9f0296-d10e-4bfc-9e1c-d1bddbeb4d71');\n",
              "          const dataTable =\n",
              "            await google.colab.kernel.invokeFunction('convertToInteractive',\n",
              "                                                     [key], {});\n",
              "          if (!dataTable) return;\n",
              "\n",
              "          const docLinkHtml = 'Like what you see? Visit the ' +\n",
              "            '<a target=\"_blank\" href=https://colab.research.google.com/notebooks/data_table.ipynb>data table notebook</a>'\n",
              "            + ' to learn more about interactive tables.';\n",
              "          element.innerHTML = '';\n",
              "          dataTable['output_type'] = 'display_data';\n",
              "          await google.colab.output.renderOutput(dataTable, element);\n",
              "          const docLink = document.createElement('div');\n",
              "          docLink.innerHTML = docLinkHtml;\n",
              "          element.appendChild(docLink);\n",
              "        }\n",
              "      </script>\n",
              "    </div>\n",
              "  </div>\n",
              "  "
            ]
          },
          "metadata": {},
          "execution_count": 86
        }
      ]
    },
    {
      "cell_type": "code",
      "metadata": {
        "colab": {
          "base_uri": "https://localhost:8080/"
        },
        "id": "Flne1QewFQpZ",
        "outputId": "3907635f-382e-4602-b20e-8ca13e41810b"
      },
      "source": [
        "df_price.info()"
      ],
      "execution_count": null,
      "outputs": [
        {
          "output_type": "stream",
          "name": "stdout",
          "text": [
            "<class 'pandas.core.frame.DataFrame'>\n",
            "RangeIndex: 35040 entries, 0 to 35039\n",
            "Data columns (total 7 columns):\n",
            " #   Column          Non-Null Count  Dtype   \n",
            "---  ------          --------------  -----   \n",
            " 0   OPERATION_DATE  35040 non-null  object  \n",
            " 1   TOUTYPE         35040 non-null  category\n",
            " 2   MARKET          35040 non-null  category\n",
            " 3   ZONE            35040 non-null  category\n",
            " 4   PRICE           35040 non-null  float64 \n",
            " 5   HOUR            35040 non-null  int64   \n",
            " 6   INTERVAL        35040 non-null  int64   \n",
            "dtypes: category(3), float64(1), int64(2), object(1)\n",
            "memory usage: 1.2+ MB\n"
          ]
        }
      ]
    },
    {
      "cell_type": "markdown",
      "metadata": {
        "id": "PHUHujL3PSdq"
      },
      "source": [
        "\n",
        "Cast `OPERATION_DATE` to a `datetime` type with `pandas.to_datetime()`."
      ]
    },
    {
      "cell_type": "code",
      "metadata": {
        "id": "cVDj-8HiGHU_"
      },
      "source": [
        "df_price['OPERATION_DATE'] = pd.to_datetime(df_price['OPERATION_DATE'])"
      ],
      "execution_count": null,
      "outputs": []
    },
    {
      "cell_type": "code",
      "metadata": {
        "colab": {
          "base_uri": "https://localhost:8080/",
          "height": 206
        },
        "id": "Ih_0Ts4gFWA3",
        "outputId": "a7661a25-8031-434e-eafb-bc3730012056"
      },
      "source": [
        "df_price['DATE'] = df_price['OPERATION_DATE'] + pd.to_timedelta(df_price['HOUR'], unit='h') + pd.to_timedelta(df_price['INTERVAL'], unit='m')\n",
        "\n",
        "df_price = df_price.drop(['OPERATION_DATE', 'HOUR', 'INTERVAL'], axis=1)\n",
        "df_price.head()"
      ],
      "execution_count": null,
      "outputs": [
        {
          "output_type": "execute_result",
          "data": {
            "text/plain": [
              "    TOUTYPE     MARKET           ZONE  PRICE                DATE\n",
              "0  OFF-PEAK  Real Time  Load Zone CPS  24.10 2018-01-01 00:15:00\n",
              "1  OFF-PEAK  Real Time  Load Zone CPS  23.76 2018-01-01 00:30:00\n",
              "2  OFF-PEAK  Real Time  Load Zone CPS  22.87 2018-01-01 00:45:00\n",
              "3  OFF-PEAK  Real Time  Load Zone CPS  22.70 2018-01-01 00:00:00\n",
              "4  OFF-PEAK  Real Time  Load Zone CPS  22.07 2018-01-01 01:15:00"
            ],
            "text/html": [
              "\n",
              "  <div id=\"df-2c04bb8b-a654-4f80-a500-3be86738357e\">\n",
              "    <div class=\"colab-df-container\">\n",
              "      <div>\n",
              "<style scoped>\n",
              "    .dataframe tbody tr th:only-of-type {\n",
              "        vertical-align: middle;\n",
              "    }\n",
              "\n",
              "    .dataframe tbody tr th {\n",
              "        vertical-align: top;\n",
              "    }\n",
              "\n",
              "    .dataframe thead th {\n",
              "        text-align: right;\n",
              "    }\n",
              "</style>\n",
              "<table border=\"1\" class=\"dataframe\">\n",
              "  <thead>\n",
              "    <tr style=\"text-align: right;\">\n",
              "      <th></th>\n",
              "      <th>TOUTYPE</th>\n",
              "      <th>MARKET</th>\n",
              "      <th>ZONE</th>\n",
              "      <th>PRICE</th>\n",
              "      <th>DATE</th>\n",
              "    </tr>\n",
              "  </thead>\n",
              "  <tbody>\n",
              "    <tr>\n",
              "      <th>0</th>\n",
              "      <td>OFF-PEAK</td>\n",
              "      <td>Real Time</td>\n",
              "      <td>Load Zone CPS</td>\n",
              "      <td>24.10</td>\n",
              "      <td>2018-01-01 00:15:00</td>\n",
              "    </tr>\n",
              "    <tr>\n",
              "      <th>1</th>\n",
              "      <td>OFF-PEAK</td>\n",
              "      <td>Real Time</td>\n",
              "      <td>Load Zone CPS</td>\n",
              "      <td>23.76</td>\n",
              "      <td>2018-01-01 00:30:00</td>\n",
              "    </tr>\n",
              "    <tr>\n",
              "      <th>2</th>\n",
              "      <td>OFF-PEAK</td>\n",
              "      <td>Real Time</td>\n",
              "      <td>Load Zone CPS</td>\n",
              "      <td>22.87</td>\n",
              "      <td>2018-01-01 00:45:00</td>\n",
              "    </tr>\n",
              "    <tr>\n",
              "      <th>3</th>\n",
              "      <td>OFF-PEAK</td>\n",
              "      <td>Real Time</td>\n",
              "      <td>Load Zone CPS</td>\n",
              "      <td>22.70</td>\n",
              "      <td>2018-01-01 00:00:00</td>\n",
              "    </tr>\n",
              "    <tr>\n",
              "      <th>4</th>\n",
              "      <td>OFF-PEAK</td>\n",
              "      <td>Real Time</td>\n",
              "      <td>Load Zone CPS</td>\n",
              "      <td>22.07</td>\n",
              "      <td>2018-01-01 01:15:00</td>\n",
              "    </tr>\n",
              "  </tbody>\n",
              "</table>\n",
              "</div>\n",
              "      <button class=\"colab-df-convert\" onclick=\"convertToInteractive('df-2c04bb8b-a654-4f80-a500-3be86738357e')\"\n",
              "              title=\"Convert this dataframe to an interactive table.\"\n",
              "              style=\"display:none;\">\n",
              "        \n",
              "  <svg xmlns=\"http://www.w3.org/2000/svg\" height=\"24px\"viewBox=\"0 0 24 24\"\n",
              "       width=\"24px\">\n",
              "    <path d=\"M0 0h24v24H0V0z\" fill=\"none\"/>\n",
              "    <path d=\"M18.56 5.44l.94 2.06.94-2.06 2.06-.94-2.06-.94-.94-2.06-.94 2.06-2.06.94zm-11 1L8.5 8.5l.94-2.06 2.06-.94-2.06-.94L8.5 2.5l-.94 2.06-2.06.94zm10 10l.94 2.06.94-2.06 2.06-.94-2.06-.94-.94-2.06-.94 2.06-2.06.94z\"/><path d=\"M17.41 7.96l-1.37-1.37c-.4-.4-.92-.59-1.43-.59-.52 0-1.04.2-1.43.59L10.3 9.45l-7.72 7.72c-.78.78-.78 2.05 0 2.83L4 21.41c.39.39.9.59 1.41.59.51 0 1.02-.2 1.41-.59l7.78-7.78 2.81-2.81c.8-.78.8-2.07 0-2.86zM5.41 20L4 18.59l7.72-7.72 1.47 1.35L5.41 20z\"/>\n",
              "  </svg>\n",
              "      </button>\n",
              "      \n",
              "  <style>\n",
              "    .colab-df-container {\n",
              "      display:flex;\n",
              "      flex-wrap:wrap;\n",
              "      gap: 12px;\n",
              "    }\n",
              "\n",
              "    .colab-df-convert {\n",
              "      background-color: #E8F0FE;\n",
              "      border: none;\n",
              "      border-radius: 50%;\n",
              "      cursor: pointer;\n",
              "      display: none;\n",
              "      fill: #1967D2;\n",
              "      height: 32px;\n",
              "      padding: 0 0 0 0;\n",
              "      width: 32px;\n",
              "    }\n",
              "\n",
              "    .colab-df-convert:hover {\n",
              "      background-color: #E2EBFA;\n",
              "      box-shadow: 0px 1px 2px rgba(60, 64, 67, 0.3), 0px 1px 3px 1px rgba(60, 64, 67, 0.15);\n",
              "      fill: #174EA6;\n",
              "    }\n",
              "\n",
              "    [theme=dark] .colab-df-convert {\n",
              "      background-color: #3B4455;\n",
              "      fill: #D2E3FC;\n",
              "    }\n",
              "\n",
              "    [theme=dark] .colab-df-convert:hover {\n",
              "      background-color: #434B5C;\n",
              "      box-shadow: 0px 1px 3px 1px rgba(0, 0, 0, 0.15);\n",
              "      filter: drop-shadow(0px 1px 2px rgba(0, 0, 0, 0.3));\n",
              "      fill: #FFFFFF;\n",
              "    }\n",
              "  </style>\n",
              "\n",
              "      <script>\n",
              "        const buttonEl =\n",
              "          document.querySelector('#df-2c04bb8b-a654-4f80-a500-3be86738357e button.colab-df-convert');\n",
              "        buttonEl.style.display =\n",
              "          google.colab.kernel.accessAllowed ? 'block' : 'none';\n",
              "\n",
              "        async function convertToInteractive(key) {\n",
              "          const element = document.querySelector('#df-2c04bb8b-a654-4f80-a500-3be86738357e');\n",
              "          const dataTable =\n",
              "            await google.colab.kernel.invokeFunction('convertToInteractive',\n",
              "                                                     [key], {});\n",
              "          if (!dataTable) return;\n",
              "\n",
              "          const docLinkHtml = 'Like what you see? Visit the ' +\n",
              "            '<a target=\"_blank\" href=https://colab.research.google.com/notebooks/data_table.ipynb>data table notebook</a>'\n",
              "            + ' to learn more about interactive tables.';\n",
              "          element.innerHTML = '';\n",
              "          dataTable['output_type'] = 'display_data';\n",
              "          await google.colab.output.renderOutput(dataTable, element);\n",
              "          const docLink = document.createElement('div');\n",
              "          docLink.innerHTML = docLinkHtml;\n",
              "          element.appendChild(docLink);\n",
              "        }\n",
              "      </script>\n",
              "    </div>\n",
              "  </div>\n",
              "  "
            ]
          },
          "metadata": {},
          "execution_count": 89
        }
      ]
    },
    {
      "cell_type": "markdown",
      "metadata": {
        "id": "nEQInyfVVDrJ"
      },
      "source": [
        "Now that we have the Date field in the desired format, let's set it as the index."
      ]
    },
    {
      "cell_type": "code",
      "metadata": {
        "colab": {
          "base_uri": "https://localhost:8080/",
          "height": 237
        },
        "id": "0hJziBU9GBVy",
        "outputId": "8bd61f6c-fc20-46d7-eae2-bc56484a012a"
      },
      "source": [
        "df_price.set_index('DATE', inplace=True)\n",
        "df_price.head()"
      ],
      "execution_count": null,
      "outputs": [
        {
          "output_type": "execute_result",
          "data": {
            "text/plain": [
              "                      TOUTYPE     MARKET           ZONE  PRICE\n",
              "DATE                                                          \n",
              "2018-01-01 00:15:00  OFF-PEAK  Real Time  Load Zone CPS  24.10\n",
              "2018-01-01 00:30:00  OFF-PEAK  Real Time  Load Zone CPS  23.76\n",
              "2018-01-01 00:45:00  OFF-PEAK  Real Time  Load Zone CPS  22.87\n",
              "2018-01-01 00:00:00  OFF-PEAK  Real Time  Load Zone CPS  22.70\n",
              "2018-01-01 01:15:00  OFF-PEAK  Real Time  Load Zone CPS  22.07"
            ],
            "text/html": [
              "\n",
              "  <div id=\"df-dbe8ba3c-40ff-4a9a-8538-ba48a8f125a0\">\n",
              "    <div class=\"colab-df-container\">\n",
              "      <div>\n",
              "<style scoped>\n",
              "    .dataframe tbody tr th:only-of-type {\n",
              "        vertical-align: middle;\n",
              "    }\n",
              "\n",
              "    .dataframe tbody tr th {\n",
              "        vertical-align: top;\n",
              "    }\n",
              "\n",
              "    .dataframe thead th {\n",
              "        text-align: right;\n",
              "    }\n",
              "</style>\n",
              "<table border=\"1\" class=\"dataframe\">\n",
              "  <thead>\n",
              "    <tr style=\"text-align: right;\">\n",
              "      <th></th>\n",
              "      <th>TOUTYPE</th>\n",
              "      <th>MARKET</th>\n",
              "      <th>ZONE</th>\n",
              "      <th>PRICE</th>\n",
              "    </tr>\n",
              "    <tr>\n",
              "      <th>DATE</th>\n",
              "      <th></th>\n",
              "      <th></th>\n",
              "      <th></th>\n",
              "      <th></th>\n",
              "    </tr>\n",
              "  </thead>\n",
              "  <tbody>\n",
              "    <tr>\n",
              "      <th>2018-01-01 00:15:00</th>\n",
              "      <td>OFF-PEAK</td>\n",
              "      <td>Real Time</td>\n",
              "      <td>Load Zone CPS</td>\n",
              "      <td>24.10</td>\n",
              "    </tr>\n",
              "    <tr>\n",
              "      <th>2018-01-01 00:30:00</th>\n",
              "      <td>OFF-PEAK</td>\n",
              "      <td>Real Time</td>\n",
              "      <td>Load Zone CPS</td>\n",
              "      <td>23.76</td>\n",
              "    </tr>\n",
              "    <tr>\n",
              "      <th>2018-01-01 00:45:00</th>\n",
              "      <td>OFF-PEAK</td>\n",
              "      <td>Real Time</td>\n",
              "      <td>Load Zone CPS</td>\n",
              "      <td>22.87</td>\n",
              "    </tr>\n",
              "    <tr>\n",
              "      <th>2018-01-01 00:00:00</th>\n",
              "      <td>OFF-PEAK</td>\n",
              "      <td>Real Time</td>\n",
              "      <td>Load Zone CPS</td>\n",
              "      <td>22.70</td>\n",
              "    </tr>\n",
              "    <tr>\n",
              "      <th>2018-01-01 01:15:00</th>\n",
              "      <td>OFF-PEAK</td>\n",
              "      <td>Real Time</td>\n",
              "      <td>Load Zone CPS</td>\n",
              "      <td>22.07</td>\n",
              "    </tr>\n",
              "  </tbody>\n",
              "</table>\n",
              "</div>\n",
              "      <button class=\"colab-df-convert\" onclick=\"convertToInteractive('df-dbe8ba3c-40ff-4a9a-8538-ba48a8f125a0')\"\n",
              "              title=\"Convert this dataframe to an interactive table.\"\n",
              "              style=\"display:none;\">\n",
              "        \n",
              "  <svg xmlns=\"http://www.w3.org/2000/svg\" height=\"24px\"viewBox=\"0 0 24 24\"\n",
              "       width=\"24px\">\n",
              "    <path d=\"M0 0h24v24H0V0z\" fill=\"none\"/>\n",
              "    <path d=\"M18.56 5.44l.94 2.06.94-2.06 2.06-.94-2.06-.94-.94-2.06-.94 2.06-2.06.94zm-11 1L8.5 8.5l.94-2.06 2.06-.94-2.06-.94L8.5 2.5l-.94 2.06-2.06.94zm10 10l.94 2.06.94-2.06 2.06-.94-2.06-.94-.94-2.06-.94 2.06-2.06.94z\"/><path d=\"M17.41 7.96l-1.37-1.37c-.4-.4-.92-.59-1.43-.59-.52 0-1.04.2-1.43.59L10.3 9.45l-7.72 7.72c-.78.78-.78 2.05 0 2.83L4 21.41c.39.39.9.59 1.41.59.51 0 1.02-.2 1.41-.59l7.78-7.78 2.81-2.81c.8-.78.8-2.07 0-2.86zM5.41 20L4 18.59l7.72-7.72 1.47 1.35L5.41 20z\"/>\n",
              "  </svg>\n",
              "      </button>\n",
              "      \n",
              "  <style>\n",
              "    .colab-df-container {\n",
              "      display:flex;\n",
              "      flex-wrap:wrap;\n",
              "      gap: 12px;\n",
              "    }\n",
              "\n",
              "    .colab-df-convert {\n",
              "      background-color: #E8F0FE;\n",
              "      border: none;\n",
              "      border-radius: 50%;\n",
              "      cursor: pointer;\n",
              "      display: none;\n",
              "      fill: #1967D2;\n",
              "      height: 32px;\n",
              "      padding: 0 0 0 0;\n",
              "      width: 32px;\n",
              "    }\n",
              "\n",
              "    .colab-df-convert:hover {\n",
              "      background-color: #E2EBFA;\n",
              "      box-shadow: 0px 1px 2px rgba(60, 64, 67, 0.3), 0px 1px 3px 1px rgba(60, 64, 67, 0.15);\n",
              "      fill: #174EA6;\n",
              "    }\n",
              "\n",
              "    [theme=dark] .colab-df-convert {\n",
              "      background-color: #3B4455;\n",
              "      fill: #D2E3FC;\n",
              "    }\n",
              "\n",
              "    [theme=dark] .colab-df-convert:hover {\n",
              "      background-color: #434B5C;\n",
              "      box-shadow: 0px 1px 3px 1px rgba(0, 0, 0, 0.15);\n",
              "      filter: drop-shadow(0px 1px 2px rgba(0, 0, 0, 0.3));\n",
              "      fill: #FFFFFF;\n",
              "    }\n",
              "  </style>\n",
              "\n",
              "      <script>\n",
              "        const buttonEl =\n",
              "          document.querySelector('#df-dbe8ba3c-40ff-4a9a-8538-ba48a8f125a0 button.colab-df-convert');\n",
              "        buttonEl.style.display =\n",
              "          google.colab.kernel.accessAllowed ? 'block' : 'none';\n",
              "\n",
              "        async function convertToInteractive(key) {\n",
              "          const element = document.querySelector('#df-dbe8ba3c-40ff-4a9a-8538-ba48a8f125a0');\n",
              "          const dataTable =\n",
              "            await google.colab.kernel.invokeFunction('convertToInteractive',\n",
              "                                                     [key], {});\n",
              "          if (!dataTable) return;\n",
              "\n",
              "          const docLinkHtml = 'Like what you see? Visit the ' +\n",
              "            '<a target=\"_blank\" href=https://colab.research.google.com/notebooks/data_table.ipynb>data table notebook</a>'\n",
              "            + ' to learn more about interactive tables.';\n",
              "          element.innerHTML = '';\n",
              "          dataTable['output_type'] = 'display_data';\n",
              "          await google.colab.output.renderOutput(dataTable, element);\n",
              "          const docLink = document.createElement('div');\n",
              "          docLink.innerHTML = docLinkHtml;\n",
              "          element.appendChild(docLink);\n",
              "        }\n",
              "      </script>\n",
              "    </div>\n",
              "  </div>\n",
              "  "
            ]
          },
          "metadata": {},
          "execution_count": 90
        }
      ]
    },
    {
      "cell_type": "code",
      "metadata": {
        "colab": {
          "base_uri": "https://localhost:8080/",
          "height": 206
        },
        "id": "PmjRuLb3HEM1",
        "outputId": "6fc69c63-ca63-49ea-f386-da2848e879bf"
      },
      "source": [
        "df.head()"
      ],
      "execution_count": null,
      "outputs": [
        {
          "output_type": "execute_result",
          "data": {
            "text/plain": [
              "   meter                 time    kwh\n",
              "0      1  2018-01-01 00:15:00  0.404\n",
              "1      1  2018-01-01 00:30:00  0.343\n",
              "2      1  2018-01-01 00:45:00  0.259\n",
              "3      1  2018-01-01 01:00:00  0.193\n",
              "4      1  2018-01-01 01:15:00  0.183"
            ],
            "text/html": [
              "\n",
              "  <div id=\"df-08ed99aa-11b4-4720-b791-948414ac80fc\">\n",
              "    <div class=\"colab-df-container\">\n",
              "      <div>\n",
              "<style scoped>\n",
              "    .dataframe tbody tr th:only-of-type {\n",
              "        vertical-align: middle;\n",
              "    }\n",
              "\n",
              "    .dataframe tbody tr th {\n",
              "        vertical-align: top;\n",
              "    }\n",
              "\n",
              "    .dataframe thead th {\n",
              "        text-align: right;\n",
              "    }\n",
              "</style>\n",
              "<table border=\"1\" class=\"dataframe\">\n",
              "  <thead>\n",
              "    <tr style=\"text-align: right;\">\n",
              "      <th></th>\n",
              "      <th>meter</th>\n",
              "      <th>time</th>\n",
              "      <th>kwh</th>\n",
              "    </tr>\n",
              "  </thead>\n",
              "  <tbody>\n",
              "    <tr>\n",
              "      <th>0</th>\n",
              "      <td>1</td>\n",
              "      <td>2018-01-01 00:15:00</td>\n",
              "      <td>0.404</td>\n",
              "    </tr>\n",
              "    <tr>\n",
              "      <th>1</th>\n",
              "      <td>1</td>\n",
              "      <td>2018-01-01 00:30:00</td>\n",
              "      <td>0.343</td>\n",
              "    </tr>\n",
              "    <tr>\n",
              "      <th>2</th>\n",
              "      <td>1</td>\n",
              "      <td>2018-01-01 00:45:00</td>\n",
              "      <td>0.259</td>\n",
              "    </tr>\n",
              "    <tr>\n",
              "      <th>3</th>\n",
              "      <td>1</td>\n",
              "      <td>2018-01-01 01:00:00</td>\n",
              "      <td>0.193</td>\n",
              "    </tr>\n",
              "    <tr>\n",
              "      <th>4</th>\n",
              "      <td>1</td>\n",
              "      <td>2018-01-01 01:15:00</td>\n",
              "      <td>0.183</td>\n",
              "    </tr>\n",
              "  </tbody>\n",
              "</table>\n",
              "</div>\n",
              "      <button class=\"colab-df-convert\" onclick=\"convertToInteractive('df-08ed99aa-11b4-4720-b791-948414ac80fc')\"\n",
              "              title=\"Convert this dataframe to an interactive table.\"\n",
              "              style=\"display:none;\">\n",
              "        \n",
              "  <svg xmlns=\"http://www.w3.org/2000/svg\" height=\"24px\"viewBox=\"0 0 24 24\"\n",
              "       width=\"24px\">\n",
              "    <path d=\"M0 0h24v24H0V0z\" fill=\"none\"/>\n",
              "    <path d=\"M18.56 5.44l.94 2.06.94-2.06 2.06-.94-2.06-.94-.94-2.06-.94 2.06-2.06.94zm-11 1L8.5 8.5l.94-2.06 2.06-.94-2.06-.94L8.5 2.5l-.94 2.06-2.06.94zm10 10l.94 2.06.94-2.06 2.06-.94-2.06-.94-.94-2.06-.94 2.06-2.06.94z\"/><path d=\"M17.41 7.96l-1.37-1.37c-.4-.4-.92-.59-1.43-.59-.52 0-1.04.2-1.43.59L10.3 9.45l-7.72 7.72c-.78.78-.78 2.05 0 2.83L4 21.41c.39.39.9.59 1.41.59.51 0 1.02-.2 1.41-.59l7.78-7.78 2.81-2.81c.8-.78.8-2.07 0-2.86zM5.41 20L4 18.59l7.72-7.72 1.47 1.35L5.41 20z\"/>\n",
              "  </svg>\n",
              "      </button>\n",
              "      \n",
              "  <style>\n",
              "    .colab-df-container {\n",
              "      display:flex;\n",
              "      flex-wrap:wrap;\n",
              "      gap: 12px;\n",
              "    }\n",
              "\n",
              "    .colab-df-convert {\n",
              "      background-color: #E8F0FE;\n",
              "      border: none;\n",
              "      border-radius: 50%;\n",
              "      cursor: pointer;\n",
              "      display: none;\n",
              "      fill: #1967D2;\n",
              "      height: 32px;\n",
              "      padding: 0 0 0 0;\n",
              "      width: 32px;\n",
              "    }\n",
              "\n",
              "    .colab-df-convert:hover {\n",
              "      background-color: #E2EBFA;\n",
              "      box-shadow: 0px 1px 2px rgba(60, 64, 67, 0.3), 0px 1px 3px 1px rgba(60, 64, 67, 0.15);\n",
              "      fill: #174EA6;\n",
              "    }\n",
              "\n",
              "    [theme=dark] .colab-df-convert {\n",
              "      background-color: #3B4455;\n",
              "      fill: #D2E3FC;\n",
              "    }\n",
              "\n",
              "    [theme=dark] .colab-df-convert:hover {\n",
              "      background-color: #434B5C;\n",
              "      box-shadow: 0px 1px 3px 1px rgba(0, 0, 0, 0.15);\n",
              "      filter: drop-shadow(0px 1px 2px rgba(0, 0, 0, 0.3));\n",
              "      fill: #FFFFFF;\n",
              "    }\n",
              "  </style>\n",
              "\n",
              "      <script>\n",
              "        const buttonEl =\n",
              "          document.querySelector('#df-08ed99aa-11b4-4720-b791-948414ac80fc button.colab-df-convert');\n",
              "        buttonEl.style.display =\n",
              "          google.colab.kernel.accessAllowed ? 'block' : 'none';\n",
              "\n",
              "        async function convertToInteractive(key) {\n",
              "          const element = document.querySelector('#df-08ed99aa-11b4-4720-b791-948414ac80fc');\n",
              "          const dataTable =\n",
              "            await google.colab.kernel.invokeFunction('convertToInteractive',\n",
              "                                                     [key], {});\n",
              "          if (!dataTable) return;\n",
              "\n",
              "          const docLinkHtml = 'Like what you see? Visit the ' +\n",
              "            '<a target=\"_blank\" href=https://colab.research.google.com/notebooks/data_table.ipynb>data table notebook</a>'\n",
              "            + ' to learn more about interactive tables.';\n",
              "          element.innerHTML = '';\n",
              "          dataTable['output_type'] = 'display_data';\n",
              "          await google.colab.output.renderOutput(dataTable, element);\n",
              "          const docLink = document.createElement('div');\n",
              "          docLink.innerHTML = docLinkHtml;\n",
              "          element.appendChild(docLink);\n",
              "        }\n",
              "      </script>\n",
              "    </div>\n",
              "  </div>\n",
              "  "
            ]
          },
          "metadata": {},
          "execution_count": 91
        }
      ]
    },
    {
      "cell_type": "markdown",
      "metadata": {
        "id": "pe1SLyTdVOei"
      },
      "source": [
        "Set the `time` column as the index."
      ]
    },
    {
      "cell_type": "code",
      "source": [
        "df.dtypes"
      ],
      "metadata": {
        "colab": {
          "base_uri": "https://localhost:8080/"
        },
        "id": "z2zEphvR_C-d",
        "outputId": "94fd8f53-e086-432a-848c-e24fdb92dcdd"
      },
      "execution_count": null,
      "outputs": [
        {
          "output_type": "execute_result",
          "data": {
            "text/plain": [
              "meter      int64\n",
              "time      object\n",
              "kwh      float64\n",
              "dtype: object"
            ]
          },
          "metadata": {},
          "execution_count": 184
        }
      ]
    },
    {
      "cell_type": "code",
      "metadata": {
        "id": "YK9N5X7eHTgC",
        "colab": {
          "base_uri": "https://localhost:8080/",
          "height": 237
        },
        "outputId": "d69fe9aa-e364-4bf9-928b-a6e7193f6efb"
      },
      "source": [
        "df['time'] = pd.to_datetime(df['time'])\n",
        "df.set_index('time', inplace=True)\n",
        "df.head()"
      ],
      "execution_count": null,
      "outputs": [
        {
          "output_type": "execute_result",
          "data": {
            "text/plain": [
              "                     meter    kwh\n",
              "time                             \n",
              "2018-01-01 00:15:00      1  0.404\n",
              "2018-01-01 00:30:00      1  0.343\n",
              "2018-01-01 00:45:00      1  0.259\n",
              "2018-01-01 01:00:00      1  0.193\n",
              "2018-01-01 01:15:00      1  0.183"
            ],
            "text/html": [
              "\n",
              "  <div id=\"df-3767c763-e65d-4719-be88-fdadce6d9051\">\n",
              "    <div class=\"colab-df-container\">\n",
              "      <div>\n",
              "<style scoped>\n",
              "    .dataframe tbody tr th:only-of-type {\n",
              "        vertical-align: middle;\n",
              "    }\n",
              "\n",
              "    .dataframe tbody tr th {\n",
              "        vertical-align: top;\n",
              "    }\n",
              "\n",
              "    .dataframe thead th {\n",
              "        text-align: right;\n",
              "    }\n",
              "</style>\n",
              "<table border=\"1\" class=\"dataframe\">\n",
              "  <thead>\n",
              "    <tr style=\"text-align: right;\">\n",
              "      <th></th>\n",
              "      <th>meter</th>\n",
              "      <th>kwh</th>\n",
              "    </tr>\n",
              "    <tr>\n",
              "      <th>time</th>\n",
              "      <th></th>\n",
              "      <th></th>\n",
              "    </tr>\n",
              "  </thead>\n",
              "  <tbody>\n",
              "    <tr>\n",
              "      <th>2018-01-01 00:15:00</th>\n",
              "      <td>1</td>\n",
              "      <td>0.404</td>\n",
              "    </tr>\n",
              "    <tr>\n",
              "      <th>2018-01-01 00:30:00</th>\n",
              "      <td>1</td>\n",
              "      <td>0.343</td>\n",
              "    </tr>\n",
              "    <tr>\n",
              "      <th>2018-01-01 00:45:00</th>\n",
              "      <td>1</td>\n",
              "      <td>0.259</td>\n",
              "    </tr>\n",
              "    <tr>\n",
              "      <th>2018-01-01 01:00:00</th>\n",
              "      <td>1</td>\n",
              "      <td>0.193</td>\n",
              "    </tr>\n",
              "    <tr>\n",
              "      <th>2018-01-01 01:15:00</th>\n",
              "      <td>1</td>\n",
              "      <td>0.183</td>\n",
              "    </tr>\n",
              "  </tbody>\n",
              "</table>\n",
              "</div>\n",
              "      <button class=\"colab-df-convert\" onclick=\"convertToInteractive('df-3767c763-e65d-4719-be88-fdadce6d9051')\"\n",
              "              title=\"Convert this dataframe to an interactive table.\"\n",
              "              style=\"display:none;\">\n",
              "        \n",
              "  <svg xmlns=\"http://www.w3.org/2000/svg\" height=\"24px\"viewBox=\"0 0 24 24\"\n",
              "       width=\"24px\">\n",
              "    <path d=\"M0 0h24v24H0V0z\" fill=\"none\"/>\n",
              "    <path d=\"M18.56 5.44l.94 2.06.94-2.06 2.06-.94-2.06-.94-.94-2.06-.94 2.06-2.06.94zm-11 1L8.5 8.5l.94-2.06 2.06-.94-2.06-.94L8.5 2.5l-.94 2.06-2.06.94zm10 10l.94 2.06.94-2.06 2.06-.94-2.06-.94-.94-2.06-.94 2.06-2.06.94z\"/><path d=\"M17.41 7.96l-1.37-1.37c-.4-.4-.92-.59-1.43-.59-.52 0-1.04.2-1.43.59L10.3 9.45l-7.72 7.72c-.78.78-.78 2.05 0 2.83L4 21.41c.39.39.9.59 1.41.59.51 0 1.02-.2 1.41-.59l7.78-7.78 2.81-2.81c.8-.78.8-2.07 0-2.86zM5.41 20L4 18.59l7.72-7.72 1.47 1.35L5.41 20z\"/>\n",
              "  </svg>\n",
              "      </button>\n",
              "      \n",
              "  <style>\n",
              "    .colab-df-container {\n",
              "      display:flex;\n",
              "      flex-wrap:wrap;\n",
              "      gap: 12px;\n",
              "    }\n",
              "\n",
              "    .colab-df-convert {\n",
              "      background-color: #E8F0FE;\n",
              "      border: none;\n",
              "      border-radius: 50%;\n",
              "      cursor: pointer;\n",
              "      display: none;\n",
              "      fill: #1967D2;\n",
              "      height: 32px;\n",
              "      padding: 0 0 0 0;\n",
              "      width: 32px;\n",
              "    }\n",
              "\n",
              "    .colab-df-convert:hover {\n",
              "      background-color: #E2EBFA;\n",
              "      box-shadow: 0px 1px 2px rgba(60, 64, 67, 0.3), 0px 1px 3px 1px rgba(60, 64, 67, 0.15);\n",
              "      fill: #174EA6;\n",
              "    }\n",
              "\n",
              "    [theme=dark] .colab-df-convert {\n",
              "      background-color: #3B4455;\n",
              "      fill: #D2E3FC;\n",
              "    }\n",
              "\n",
              "    [theme=dark] .colab-df-convert:hover {\n",
              "      background-color: #434B5C;\n",
              "      box-shadow: 0px 1px 3px 1px rgba(0, 0, 0, 0.15);\n",
              "      filter: drop-shadow(0px 1px 2px rgba(0, 0, 0, 0.3));\n",
              "      fill: #FFFFFF;\n",
              "    }\n",
              "  </style>\n",
              "\n",
              "      <script>\n",
              "        const buttonEl =\n",
              "          document.querySelector('#df-3767c763-e65d-4719-be88-fdadce6d9051 button.colab-df-convert');\n",
              "        buttonEl.style.display =\n",
              "          google.colab.kernel.accessAllowed ? 'block' : 'none';\n",
              "\n",
              "        async function convertToInteractive(key) {\n",
              "          const element = document.querySelector('#df-3767c763-e65d-4719-be88-fdadce6d9051');\n",
              "          const dataTable =\n",
              "            await google.colab.kernel.invokeFunction('convertToInteractive',\n",
              "                                                     [key], {});\n",
              "          if (!dataTable) return;\n",
              "\n",
              "          const docLinkHtml = 'Like what you see? Visit the ' +\n",
              "            '<a target=\"_blank\" href=https://colab.research.google.com/notebooks/data_table.ipynb>data table notebook</a>'\n",
              "            + ' to learn more about interactive tables.';\n",
              "          element.innerHTML = '';\n",
              "          dataTable['output_type'] = 'display_data';\n",
              "          await google.colab.output.renderOutput(dataTable, element);\n",
              "          const docLink = document.createElement('div');\n",
              "          docLink.innerHTML = docLinkHtml;\n",
              "          element.appendChild(docLink);\n",
              "        }\n",
              "      </script>\n",
              "    </div>\n",
              "  </div>\n",
              "  "
            ]
          },
          "metadata": {},
          "execution_count": 92
        }
      ]
    },
    {
      "cell_type": "markdown",
      "metadata": {
        "id": "y6Zire6iVTu6"
      },
      "source": [
        "Use the `pandas.merge()` function to join these datasets."
      ]
    },
    {
      "cell_type": "code",
      "source": [
        "pd.merge(df, df_price, how='inner', left_index=True, right_index=True)"
      ],
      "metadata": {
        "colab": {
          "base_uri": "https://localhost:8080/",
          "height": 424
        },
        "id": "2MdFwujhjSPN",
        "outputId": "ab577f26-dd55-4357-fd40-5e2bec32fa7a"
      },
      "execution_count": null,
      "outputs": [
        {
          "output_type": "execute_result",
          "data": {
            "text/plain": [
              "                     meter    kwh   TOUTYPE     MARKET           ZONE  PRICE\n",
              "2018-01-01 00:15:00      1  0.404  OFF-PEAK  Real Time  Load Zone CPS  24.10\n",
              "2018-01-01 00:15:00      2  0.557  OFF-PEAK  Real Time  Load Zone CPS  24.10\n",
              "2018-01-01 00:15:00      3  0.109  OFF-PEAK  Real Time  Load Zone CPS  24.10\n",
              "2018-01-01 00:15:00      4  1.149  OFF-PEAK  Real Time  Load Zone CPS  24.10\n",
              "2018-01-01 00:15:00      5  0.233  OFF-PEAK  Real Time  Load Zone CPS  24.10\n",
              "...                    ...    ...       ...        ...            ...    ...\n",
              "2018-12-31 23:45:00     28  0.442  OFF-PEAK  Real Time  Load Zone CPS  22.84\n",
              "2018-12-31 23:45:00     29  0.395  OFF-PEAK  Real Time  Load Zone CPS  22.84\n",
              "2018-12-31 23:45:00     30  0.819  OFF-PEAK  Real Time  Load Zone CPS  22.84\n",
              "2018-12-31 23:45:00     31  0.280  OFF-PEAK  Real Time  Load Zone CPS  22.84\n",
              "2018-12-31 23:45:00     32  0.000  OFF-PEAK  Real Time  Load Zone CPS  22.84\n",
              "\n",
              "[1121248 rows x 6 columns]"
            ],
            "text/html": [
              "\n",
              "  <div id=\"df-d8751162-7c2c-4ae6-bacf-b1649d7b44b4\">\n",
              "    <div class=\"colab-df-container\">\n",
              "      <div>\n",
              "<style scoped>\n",
              "    .dataframe tbody tr th:only-of-type {\n",
              "        vertical-align: middle;\n",
              "    }\n",
              "\n",
              "    .dataframe tbody tr th {\n",
              "        vertical-align: top;\n",
              "    }\n",
              "\n",
              "    .dataframe thead th {\n",
              "        text-align: right;\n",
              "    }\n",
              "</style>\n",
              "<table border=\"1\" class=\"dataframe\">\n",
              "  <thead>\n",
              "    <tr style=\"text-align: right;\">\n",
              "      <th></th>\n",
              "      <th>meter</th>\n",
              "      <th>kwh</th>\n",
              "      <th>TOUTYPE</th>\n",
              "      <th>MARKET</th>\n",
              "      <th>ZONE</th>\n",
              "      <th>PRICE</th>\n",
              "    </tr>\n",
              "  </thead>\n",
              "  <tbody>\n",
              "    <tr>\n",
              "      <th>2018-01-01 00:15:00</th>\n",
              "      <td>1</td>\n",
              "      <td>0.404</td>\n",
              "      <td>OFF-PEAK</td>\n",
              "      <td>Real Time</td>\n",
              "      <td>Load Zone CPS</td>\n",
              "      <td>24.10</td>\n",
              "    </tr>\n",
              "    <tr>\n",
              "      <th>2018-01-01 00:15:00</th>\n",
              "      <td>2</td>\n",
              "      <td>0.557</td>\n",
              "      <td>OFF-PEAK</td>\n",
              "      <td>Real Time</td>\n",
              "      <td>Load Zone CPS</td>\n",
              "      <td>24.10</td>\n",
              "    </tr>\n",
              "    <tr>\n",
              "      <th>2018-01-01 00:15:00</th>\n",
              "      <td>3</td>\n",
              "      <td>0.109</td>\n",
              "      <td>OFF-PEAK</td>\n",
              "      <td>Real Time</td>\n",
              "      <td>Load Zone CPS</td>\n",
              "      <td>24.10</td>\n",
              "    </tr>\n",
              "    <tr>\n",
              "      <th>2018-01-01 00:15:00</th>\n",
              "      <td>4</td>\n",
              "      <td>1.149</td>\n",
              "      <td>OFF-PEAK</td>\n",
              "      <td>Real Time</td>\n",
              "      <td>Load Zone CPS</td>\n",
              "      <td>24.10</td>\n",
              "    </tr>\n",
              "    <tr>\n",
              "      <th>2018-01-01 00:15:00</th>\n",
              "      <td>5</td>\n",
              "      <td>0.233</td>\n",
              "      <td>OFF-PEAK</td>\n",
              "      <td>Real Time</td>\n",
              "      <td>Load Zone CPS</td>\n",
              "      <td>24.10</td>\n",
              "    </tr>\n",
              "    <tr>\n",
              "      <th>...</th>\n",
              "      <td>...</td>\n",
              "      <td>...</td>\n",
              "      <td>...</td>\n",
              "      <td>...</td>\n",
              "      <td>...</td>\n",
              "      <td>...</td>\n",
              "    </tr>\n",
              "    <tr>\n",
              "      <th>2018-12-31 23:45:00</th>\n",
              "      <td>28</td>\n",
              "      <td>0.442</td>\n",
              "      <td>OFF-PEAK</td>\n",
              "      <td>Real Time</td>\n",
              "      <td>Load Zone CPS</td>\n",
              "      <td>22.84</td>\n",
              "    </tr>\n",
              "    <tr>\n",
              "      <th>2018-12-31 23:45:00</th>\n",
              "      <td>29</td>\n",
              "      <td>0.395</td>\n",
              "      <td>OFF-PEAK</td>\n",
              "      <td>Real Time</td>\n",
              "      <td>Load Zone CPS</td>\n",
              "      <td>22.84</td>\n",
              "    </tr>\n",
              "    <tr>\n",
              "      <th>2018-12-31 23:45:00</th>\n",
              "      <td>30</td>\n",
              "      <td>0.819</td>\n",
              "      <td>OFF-PEAK</td>\n",
              "      <td>Real Time</td>\n",
              "      <td>Load Zone CPS</td>\n",
              "      <td>22.84</td>\n",
              "    </tr>\n",
              "    <tr>\n",
              "      <th>2018-12-31 23:45:00</th>\n",
              "      <td>31</td>\n",
              "      <td>0.280</td>\n",
              "      <td>OFF-PEAK</td>\n",
              "      <td>Real Time</td>\n",
              "      <td>Load Zone CPS</td>\n",
              "      <td>22.84</td>\n",
              "    </tr>\n",
              "    <tr>\n",
              "      <th>2018-12-31 23:45:00</th>\n",
              "      <td>32</td>\n",
              "      <td>0.000</td>\n",
              "      <td>OFF-PEAK</td>\n",
              "      <td>Real Time</td>\n",
              "      <td>Load Zone CPS</td>\n",
              "      <td>22.84</td>\n",
              "    </tr>\n",
              "  </tbody>\n",
              "</table>\n",
              "<p>1121248 rows × 6 columns</p>\n",
              "</div>\n",
              "      <button class=\"colab-df-convert\" onclick=\"convertToInteractive('df-d8751162-7c2c-4ae6-bacf-b1649d7b44b4')\"\n",
              "              title=\"Convert this dataframe to an interactive table.\"\n",
              "              style=\"display:none;\">\n",
              "        \n",
              "  <svg xmlns=\"http://www.w3.org/2000/svg\" height=\"24px\"viewBox=\"0 0 24 24\"\n",
              "       width=\"24px\">\n",
              "    <path d=\"M0 0h24v24H0V0z\" fill=\"none\"/>\n",
              "    <path d=\"M18.56 5.44l.94 2.06.94-2.06 2.06-.94-2.06-.94-.94-2.06-.94 2.06-2.06.94zm-11 1L8.5 8.5l.94-2.06 2.06-.94-2.06-.94L8.5 2.5l-.94 2.06-2.06.94zm10 10l.94 2.06.94-2.06 2.06-.94-2.06-.94-.94-2.06-.94 2.06-2.06.94z\"/><path d=\"M17.41 7.96l-1.37-1.37c-.4-.4-.92-.59-1.43-.59-.52 0-1.04.2-1.43.59L10.3 9.45l-7.72 7.72c-.78.78-.78 2.05 0 2.83L4 21.41c.39.39.9.59 1.41.59.51 0 1.02-.2 1.41-.59l7.78-7.78 2.81-2.81c.8-.78.8-2.07 0-2.86zM5.41 20L4 18.59l7.72-7.72 1.47 1.35L5.41 20z\"/>\n",
              "  </svg>\n",
              "      </button>\n",
              "      \n",
              "  <style>\n",
              "    .colab-df-container {\n",
              "      display:flex;\n",
              "      flex-wrap:wrap;\n",
              "      gap: 12px;\n",
              "    }\n",
              "\n",
              "    .colab-df-convert {\n",
              "      background-color: #E8F0FE;\n",
              "      border: none;\n",
              "      border-radius: 50%;\n",
              "      cursor: pointer;\n",
              "      display: none;\n",
              "      fill: #1967D2;\n",
              "      height: 32px;\n",
              "      padding: 0 0 0 0;\n",
              "      width: 32px;\n",
              "    }\n",
              "\n",
              "    .colab-df-convert:hover {\n",
              "      background-color: #E2EBFA;\n",
              "      box-shadow: 0px 1px 2px rgba(60, 64, 67, 0.3), 0px 1px 3px 1px rgba(60, 64, 67, 0.15);\n",
              "      fill: #174EA6;\n",
              "    }\n",
              "\n",
              "    [theme=dark] .colab-df-convert {\n",
              "      background-color: #3B4455;\n",
              "      fill: #D2E3FC;\n",
              "    }\n",
              "\n",
              "    [theme=dark] .colab-df-convert:hover {\n",
              "      background-color: #434B5C;\n",
              "      box-shadow: 0px 1px 3px 1px rgba(0, 0, 0, 0.15);\n",
              "      filter: drop-shadow(0px 1px 2px rgba(0, 0, 0, 0.3));\n",
              "      fill: #FFFFFF;\n",
              "    }\n",
              "  </style>\n",
              "\n",
              "      <script>\n",
              "        const buttonEl =\n",
              "          document.querySelector('#df-d8751162-7c2c-4ae6-bacf-b1649d7b44b4 button.colab-df-convert');\n",
              "        buttonEl.style.display =\n",
              "          google.colab.kernel.accessAllowed ? 'block' : 'none';\n",
              "\n",
              "        async function convertToInteractive(key) {\n",
              "          const element = document.querySelector('#df-d8751162-7c2c-4ae6-bacf-b1649d7b44b4');\n",
              "          const dataTable =\n",
              "            await google.colab.kernel.invokeFunction('convertToInteractive',\n",
              "                                                     [key], {});\n",
              "          if (!dataTable) return;\n",
              "\n",
              "          const docLinkHtml = 'Like what you see? Visit the ' +\n",
              "            '<a target=\"_blank\" href=https://colab.research.google.com/notebooks/data_table.ipynb>data table notebook</a>'\n",
              "            + ' to learn more about interactive tables.';\n",
              "          element.innerHTML = '';\n",
              "          dataTable['output_type'] = 'display_data';\n",
              "          await google.colab.output.renderOutput(dataTable, element);\n",
              "          const docLink = document.createElement('div');\n",
              "          docLink.innerHTML = docLinkHtml;\n",
              "          element.appendChild(docLink);\n",
              "        }\n",
              "      </script>\n",
              "    </div>\n",
              "  </div>\n",
              "  "
            ]
          },
          "metadata": {},
          "execution_count": 93
        }
      ]
    },
    {
      "cell_type": "code",
      "metadata": {
        "id": "neO7v_A0H3DK"
      },
      "source": [
        "df = pd.merge(df, df_price, how='inner', left_index=True, right_index=True)"
      ],
      "execution_count": null,
      "outputs": []
    },
    {
      "cell_type": "code",
      "metadata": {
        "colab": {
          "base_uri": "https://localhost:8080/",
          "height": 206
        },
        "id": "ny8E_hKfIOXl",
        "outputId": "9be92d27-81c1-4337-e52c-43495d7431cf"
      },
      "source": [
        "df.tail()"
      ],
      "execution_count": null,
      "outputs": [
        {
          "output_type": "execute_result",
          "data": {
            "text/plain": [
              "                     meter    kwh   TOUTYPE     MARKET           ZONE  PRICE\n",
              "2018-12-31 23:45:00     28  0.442  OFF-PEAK  Real Time  Load Zone CPS  22.84\n",
              "2018-12-31 23:45:00     29  0.395  OFF-PEAK  Real Time  Load Zone CPS  22.84\n",
              "2018-12-31 23:45:00     30  0.819  OFF-PEAK  Real Time  Load Zone CPS  22.84\n",
              "2018-12-31 23:45:00     31  0.280  OFF-PEAK  Real Time  Load Zone CPS  22.84\n",
              "2018-12-31 23:45:00     32  0.000  OFF-PEAK  Real Time  Load Zone CPS  22.84"
            ],
            "text/html": [
              "\n",
              "  <div id=\"df-7a9e882b-97eb-432b-8e3a-0ac430c897e5\">\n",
              "    <div class=\"colab-df-container\">\n",
              "      <div>\n",
              "<style scoped>\n",
              "    .dataframe tbody tr th:only-of-type {\n",
              "        vertical-align: middle;\n",
              "    }\n",
              "\n",
              "    .dataframe tbody tr th {\n",
              "        vertical-align: top;\n",
              "    }\n",
              "\n",
              "    .dataframe thead th {\n",
              "        text-align: right;\n",
              "    }\n",
              "</style>\n",
              "<table border=\"1\" class=\"dataframe\">\n",
              "  <thead>\n",
              "    <tr style=\"text-align: right;\">\n",
              "      <th></th>\n",
              "      <th>meter</th>\n",
              "      <th>kwh</th>\n",
              "      <th>TOUTYPE</th>\n",
              "      <th>MARKET</th>\n",
              "      <th>ZONE</th>\n",
              "      <th>PRICE</th>\n",
              "    </tr>\n",
              "  </thead>\n",
              "  <tbody>\n",
              "    <tr>\n",
              "      <th>2018-12-31 23:45:00</th>\n",
              "      <td>28</td>\n",
              "      <td>0.442</td>\n",
              "      <td>OFF-PEAK</td>\n",
              "      <td>Real Time</td>\n",
              "      <td>Load Zone CPS</td>\n",
              "      <td>22.84</td>\n",
              "    </tr>\n",
              "    <tr>\n",
              "      <th>2018-12-31 23:45:00</th>\n",
              "      <td>29</td>\n",
              "      <td>0.395</td>\n",
              "      <td>OFF-PEAK</td>\n",
              "      <td>Real Time</td>\n",
              "      <td>Load Zone CPS</td>\n",
              "      <td>22.84</td>\n",
              "    </tr>\n",
              "    <tr>\n",
              "      <th>2018-12-31 23:45:00</th>\n",
              "      <td>30</td>\n",
              "      <td>0.819</td>\n",
              "      <td>OFF-PEAK</td>\n",
              "      <td>Real Time</td>\n",
              "      <td>Load Zone CPS</td>\n",
              "      <td>22.84</td>\n",
              "    </tr>\n",
              "    <tr>\n",
              "      <th>2018-12-31 23:45:00</th>\n",
              "      <td>31</td>\n",
              "      <td>0.280</td>\n",
              "      <td>OFF-PEAK</td>\n",
              "      <td>Real Time</td>\n",
              "      <td>Load Zone CPS</td>\n",
              "      <td>22.84</td>\n",
              "    </tr>\n",
              "    <tr>\n",
              "      <th>2018-12-31 23:45:00</th>\n",
              "      <td>32</td>\n",
              "      <td>0.000</td>\n",
              "      <td>OFF-PEAK</td>\n",
              "      <td>Real Time</td>\n",
              "      <td>Load Zone CPS</td>\n",
              "      <td>22.84</td>\n",
              "    </tr>\n",
              "  </tbody>\n",
              "</table>\n",
              "</div>\n",
              "      <button class=\"colab-df-convert\" onclick=\"convertToInteractive('df-7a9e882b-97eb-432b-8e3a-0ac430c897e5')\"\n",
              "              title=\"Convert this dataframe to an interactive table.\"\n",
              "              style=\"display:none;\">\n",
              "        \n",
              "  <svg xmlns=\"http://www.w3.org/2000/svg\" height=\"24px\"viewBox=\"0 0 24 24\"\n",
              "       width=\"24px\">\n",
              "    <path d=\"M0 0h24v24H0V0z\" fill=\"none\"/>\n",
              "    <path d=\"M18.56 5.44l.94 2.06.94-2.06 2.06-.94-2.06-.94-.94-2.06-.94 2.06-2.06.94zm-11 1L8.5 8.5l.94-2.06 2.06-.94-2.06-.94L8.5 2.5l-.94 2.06-2.06.94zm10 10l.94 2.06.94-2.06 2.06-.94-2.06-.94-.94-2.06-.94 2.06-2.06.94z\"/><path d=\"M17.41 7.96l-1.37-1.37c-.4-.4-.92-.59-1.43-.59-.52 0-1.04.2-1.43.59L10.3 9.45l-7.72 7.72c-.78.78-.78 2.05 0 2.83L4 21.41c.39.39.9.59 1.41.59.51 0 1.02-.2 1.41-.59l7.78-7.78 2.81-2.81c.8-.78.8-2.07 0-2.86zM5.41 20L4 18.59l7.72-7.72 1.47 1.35L5.41 20z\"/>\n",
              "  </svg>\n",
              "      </button>\n",
              "      \n",
              "  <style>\n",
              "    .colab-df-container {\n",
              "      display:flex;\n",
              "      flex-wrap:wrap;\n",
              "      gap: 12px;\n",
              "    }\n",
              "\n",
              "    .colab-df-convert {\n",
              "      background-color: #E8F0FE;\n",
              "      border: none;\n",
              "      border-radius: 50%;\n",
              "      cursor: pointer;\n",
              "      display: none;\n",
              "      fill: #1967D2;\n",
              "      height: 32px;\n",
              "      padding: 0 0 0 0;\n",
              "      width: 32px;\n",
              "    }\n",
              "\n",
              "    .colab-df-convert:hover {\n",
              "      background-color: #E2EBFA;\n",
              "      box-shadow: 0px 1px 2px rgba(60, 64, 67, 0.3), 0px 1px 3px 1px rgba(60, 64, 67, 0.15);\n",
              "      fill: #174EA6;\n",
              "    }\n",
              "\n",
              "    [theme=dark] .colab-df-convert {\n",
              "      background-color: #3B4455;\n",
              "      fill: #D2E3FC;\n",
              "    }\n",
              "\n",
              "    [theme=dark] .colab-df-convert:hover {\n",
              "      background-color: #434B5C;\n",
              "      box-shadow: 0px 1px 3px 1px rgba(0, 0, 0, 0.15);\n",
              "      filter: drop-shadow(0px 1px 2px rgba(0, 0, 0, 0.3));\n",
              "      fill: #FFFFFF;\n",
              "    }\n",
              "  </style>\n",
              "\n",
              "      <script>\n",
              "        const buttonEl =\n",
              "          document.querySelector('#df-7a9e882b-97eb-432b-8e3a-0ac430c897e5 button.colab-df-convert');\n",
              "        buttonEl.style.display =\n",
              "          google.colab.kernel.accessAllowed ? 'block' : 'none';\n",
              "\n",
              "        async function convertToInteractive(key) {\n",
              "          const element = document.querySelector('#df-7a9e882b-97eb-432b-8e3a-0ac430c897e5');\n",
              "          const dataTable =\n",
              "            await google.colab.kernel.invokeFunction('convertToInteractive',\n",
              "                                                     [key], {});\n",
              "          if (!dataTable) return;\n",
              "\n",
              "          const docLinkHtml = 'Like what you see? Visit the ' +\n",
              "            '<a target=\"_blank\" href=https://colab.research.google.com/notebooks/data_table.ipynb>data table notebook</a>'\n",
              "            + ' to learn more about interactive tables.';\n",
              "          element.innerHTML = '';\n",
              "          dataTable['output_type'] = 'display_data';\n",
              "          await google.colab.output.renderOutput(dataTable, element);\n",
              "          const docLink = document.createElement('div');\n",
              "          docLink.innerHTML = docLinkHtml;\n",
              "          element.appendChild(docLink);\n",
              "        }\n",
              "      </script>\n",
              "    </div>\n",
              "  </div>\n",
              "  "
            ]
          },
          "metadata": {},
          "execution_count": 95
        }
      ]
    },
    {
      "cell_type": "code",
      "metadata": {
        "colab": {
          "base_uri": "https://localhost:8080/"
        },
        "id": "kgfmlSi8Km0O",
        "outputId": "03981d9e-a56b-466b-bed6-187982aef653"
      },
      "source": [
        "df.shape"
      ],
      "execution_count": null,
      "outputs": [
        {
          "output_type": "execute_result",
          "data": {
            "text/plain": [
              "(1121248, 6)"
            ]
          },
          "metadata": {},
          "execution_count": 96
        }
      ]
    },
    {
      "cell_type": "markdown",
      "metadata": {
        "id": "G0h2ORMwWVd9"
      },
      "source": [
        "Let's continue with EDA by exploring individual columns."
      ]
    },
    {
      "cell_type": "code",
      "source": [
        "plt.rcParams[\"figure.figsize\"] = (12.8,8)"
      ],
      "metadata": {
        "id": "ojbvIhZnhh4Q"
      },
      "execution_count": null,
      "outputs": []
    },
    {
      "cell_type": "code",
      "metadata": {
        "colab": {
          "base_uri": "https://localhost:8080/",
          "height": 477
        },
        "id": "jEtJdXqRKuDA",
        "outputId": "84cc79bf-db81-4de2-cd9e-97b17db08fe7"
      },
      "source": [
        "# plt.figure(figsize=(12,8))\n",
        "df['kwh'].plot()"
      ],
      "execution_count": null,
      "outputs": [
        {
          "output_type": "execute_result",
          "data": {
            "text/plain": [
              "<matplotlib.axes._subplots.AxesSubplot at 0x7ff697af2e90>"
            ]
          },
          "metadata": {},
          "execution_count": 98
        },
        {
          "output_type": "display_data",
          "data": {
            "text/plain": [
              "<Figure size 864x576 with 1 Axes>"
            ],
            "image/png": "[encoded data removed]"
          },
          "metadata": {
            "needs_background": "light"
          }
        }
      ]
    },
    {
      "cell_type": "markdown",
      "metadata": {
        "id": "YzRO3UM4XCAa"
      },
      "source": [
        "#### Distribution"
      ]
    },
    {
      "cell_type": "code",
      "metadata": {
        "colab": {
          "base_uri": "https://localhost:8080/",
          "height": 508
        },
        "id": "IFTfGAcLWp_g",
        "outputId": "65e78d8d-3b97-4413-989c-b8ff193817ed"
      },
      "source": [
        "plt.figure(figsize=(12,8))\n",
        "ax = df['kwh'].plot(kind='hist', bins=80)\n",
        "# price['kwh'].plot(kind='density')\n",
        "\n",
        "plt.title(\"Distribution of Usage (kwh)\", size=25, loc='left')\n",
        "plt.grid(False)\n",
        "ax.spines['top'].set_visible(False)\n",
        "ax.spines['right'].set_visible(False)"
      ],
      "execution_count": null,
      "outputs": [
        {
          "output_type": "display_data",
          "data": {
            "text/plain": [
              "<Figure size 864x576 with 1 Axes>"
            ],
            "image/png": "[encoded data removed]"
          },
          "metadata": {
            "needs_background": "light"
          }
        }
      ]
    },
    {
      "cell_type": "code",
      "metadata": {
        "colab": {
          "base_uri": "https://localhost:8080/",
          "height": 508
        },
        "id": "s8RZ8Xq3XJ1P",
        "outputId": "2c2cfa44-0c50-4168-c368-43e9ed46792d"
      },
      "source": [
        "plt.figure(figsize=(12,8))\n",
        "df['kwh'].plot(kind='box')\n",
        "\n",
        "plt.title(\"Distribution of Usage (kwh)\", size=25, loc='left')\n",
        "plt.grid(False)\n",
        "ax.spines['top'].set_visible(False)\n",
        "ax.spines['right'].set_visible(False)"
      ],
      "execution_count": null,
      "outputs": [
        {
          "output_type": "display_data",
          "data": {
            "text/plain": [
              "<Figure size 864x576 with 1 Axes>"
            ],
            "image/png": "[encoded data removed]"
          },
          "metadata": {
            "needs_background": "light"
          }
        }
      ]
    },
    {
      "cell_type": "markdown",
      "metadata": {
        "id": "6ggbvsRCYdpJ"
      },
      "source": [
        "Let's dig further into the most extreme values at the top and bottom of the distribution."
      ]
    },
    {
      "cell_type": "code",
      "metadata": {
        "colab": {
          "base_uri": "https://localhost:8080/",
          "height": 269
        },
        "id": "8MwoNF2KYTSE",
        "outputId": "14f9f172-bb01-42d2-ea9b-33fdeaee19c0"
      },
      "source": [
        "df[df['kwh']>3]"
      ],
      "execution_count": null,
      "outputs": [
        {
          "output_type": "execute_result",
          "data": {
            "text/plain": [
              "                     meter    kwh TOUTYPE     MARKET           ZONE  PRICE\n",
              "2018-04-22 21:30:00     25  3.004  PEAKWE  Real Time  Load Zone CPS  20.95\n",
              "2018-06-20 14:30:00      2  3.005  PEAKWD  Real Time  Load Zone CPS  41.88\n",
              "2018-07-05 15:30:00      2  3.135  PEAKWD  Real Time  Load Zone CPS  73.79\n",
              "2018-07-08 19:00:00      2  3.120  PEAKWE  Real Time  Load Zone CPS  29.76\n",
              "2018-07-25 17:00:00      9  3.175  PEAKWD  Real Time  Load Zone CPS  32.09\n",
              "2018-07-25 17:15:00      9  3.518  PEAKWD  Real Time  Load Zone CPS  32.72\n",
              "2018-08-01 19:00:00      9  3.107  PEAKWD  Real Time  Load Zone CPS  28.65"
            ],
            "text/html": [
              "\n",
              "  <div id=\"df-92018ce1-4f8d-4d89-86f7-0253b1694a85\">\n",
              "    <div class=\"colab-df-container\">\n",
              "      <div>\n",
              "<style scoped>\n",
              "    .dataframe tbody tr th:only-of-type {\n",
              "        vertical-align: middle;\n",
              "    }\n",
              "\n",
              "    .dataframe tbody tr th {\n",
              "        vertical-align: top;\n",
              "    }\n",
              "\n",
              "    .dataframe thead th {\n",
              "        text-align: right;\n",
              "    }\n",
              "</style>\n",
              "<table border=\"1\" class=\"dataframe\">\n",
              "  <thead>\n",
              "    <tr style=\"text-align: right;\">\n",
              "      <th></th>\n",
              "      <th>meter</th>\n",
              "      <th>kwh</th>\n",
              "      <th>TOUTYPE</th>\n",
              "      <th>MARKET</th>\n",
              "      <th>ZONE</th>\n",
              "      <th>PRICE</th>\n",
              "    </tr>\n",
              "  </thead>\n",
              "  <tbody>\n",
              "    <tr>\n",
              "      <th>2018-04-22 21:30:00</th>\n",
              "      <td>25</td>\n",
              "      <td>3.004</td>\n",
              "      <td>PEAKWE</td>\n",
              "      <td>Real Time</td>\n",
              "      <td>Load Zone CPS</td>\n",
              "      <td>20.95</td>\n",
              "    </tr>\n",
              "    <tr>\n",
              "      <th>2018-06-20 14:30:00</th>\n",
              "      <td>2</td>\n",
              "      <td>3.005</td>\n",
              "      <td>PEAKWD</td>\n",
              "      <td>Real Time</td>\n",
              "      <td>Load Zone CPS</td>\n",
              "      <td>41.88</td>\n",
              "    </tr>\n",
              "    <tr>\n",
              "      <th>2018-07-05 15:30:00</th>\n",
              "      <td>2</td>\n",
              "      <td>3.135</td>\n",
              "      <td>PEAKWD</td>\n",
              "      <td>Real Time</td>\n",
              "      <td>Load Zone CPS</td>\n",
              "      <td>73.79</td>\n",
              "    </tr>\n",
              "    <tr>\n",
              "      <th>2018-07-08 19:00:00</th>\n",
              "      <td>2</td>\n",
              "      <td>3.120</td>\n",
              "      <td>PEAKWE</td>\n",
              "      <td>Real Time</td>\n",
              "      <td>Load Zone CPS</td>\n",
              "      <td>29.76</td>\n",
              "    </tr>\n",
              "    <tr>\n",
              "      <th>2018-07-25 17:00:00</th>\n",
              "      <td>9</td>\n",
              "      <td>3.175</td>\n",
              "      <td>PEAKWD</td>\n",
              "      <td>Real Time</td>\n",
              "      <td>Load Zone CPS</td>\n",
              "      <td>32.09</td>\n",
              "    </tr>\n",
              "    <tr>\n",
              "      <th>2018-07-25 17:15:00</th>\n",
              "      <td>9</td>\n",
              "      <td>3.518</td>\n",
              "      <td>PEAKWD</td>\n",
              "      <td>Real Time</td>\n",
              "      <td>Load Zone CPS</td>\n",
              "      <td>32.72</td>\n",
              "    </tr>\n",
              "    <tr>\n",
              "      <th>2018-08-01 19:00:00</th>\n",
              "      <td>9</td>\n",
              "      <td>3.107</td>\n",
              "      <td>PEAKWD</td>\n",
              "      <td>Real Time</td>\n",
              "      <td>Load Zone CPS</td>\n",
              "      <td>28.65</td>\n",
              "    </tr>\n",
              "  </tbody>\n",
              "</table>\n",
              "</div>\n",
              "      <button class=\"colab-df-convert\" onclick=\"convertToInteractive('df-92018ce1-4f8d-4d89-86f7-0253b1694a85')\"\n",
              "              title=\"Convert this dataframe to an interactive table.\"\n",
              "              style=\"display:none;\">\n",
              "        \n",
              "  <svg xmlns=\"http://www.w3.org/2000/svg\" height=\"24px\"viewBox=\"0 0 24 24\"\n",
              "       width=\"24px\">\n",
              "    <path d=\"M0 0h24v24H0V0z\" fill=\"none\"/>\n",
              "    <path d=\"M18.56 5.44l.94 2.06.94-2.06 2.06-.94-2.06-.94-.94-2.06-.94 2.06-2.06.94zm-11 1L8.5 8.5l.94-2.06 2.06-.94-2.06-.94L8.5 2.5l-.94 2.06-2.06.94zm10 10l.94 2.06.94-2.06 2.06-.94-2.06-.94-.94-2.06-.94 2.06-2.06.94z\"/><path d=\"M17.41 7.96l-1.37-1.37c-.4-.4-.92-.59-1.43-.59-.52 0-1.04.2-1.43.59L10.3 9.45l-7.72 7.72c-.78.78-.78 2.05 0 2.83L4 21.41c.39.39.9.59 1.41.59.51 0 1.02-.2 1.41-.59l7.78-7.78 2.81-2.81c.8-.78.8-2.07 0-2.86zM5.41 20L4 18.59l7.72-7.72 1.47 1.35L5.41 20z\"/>\n",
              "  </svg>\n",
              "      </button>\n",
              "      \n",
              "  <style>\n",
              "    .colab-df-container {\n",
              "      display:flex;\n",
              "      flex-wrap:wrap;\n",
              "      gap: 12px;\n",
              "    }\n",
              "\n",
              "    .colab-df-convert {\n",
              "      background-color: #E8F0FE;\n",
              "      border: none;\n",
              "      border-radius: 50%;\n",
              "      cursor: pointer;\n",
              "      display: none;\n",
              "      fill: #1967D2;\n",
              "      height: 32px;\n",
              "      padding: 0 0 0 0;\n",
              "      width: 32px;\n",
              "    }\n",
              "\n",
              "    .colab-df-convert:hover {\n",
              "      background-color: #E2EBFA;\n",
              "      box-shadow: 0px 1px 2px rgba(60, 64, 67, 0.3), 0px 1px 3px 1px rgba(60, 64, 67, 0.15);\n",
              "      fill: #174EA6;\n",
              "    }\n",
              "\n",
              "    [theme=dark] .colab-df-convert {\n",
              "      background-color: #3B4455;\n",
              "      fill: #D2E3FC;\n",
              "    }\n",
              "\n",
              "    [theme=dark] .colab-df-convert:hover {\n",
              "      background-color: #434B5C;\n",
              "      box-shadow: 0px 1px 3px 1px rgba(0, 0, 0, 0.15);\n",
              "      filter: drop-shadow(0px 1px 2px rgba(0, 0, 0, 0.3));\n",
              "      fill: #FFFFFF;\n",
              "    }\n",
              "  </style>\n",
              "\n",
              "      <script>\n",
              "        const buttonEl =\n",
              "          document.querySelector('#df-92018ce1-4f8d-4d89-86f7-0253b1694a85 button.colab-df-convert');\n",
              "        buttonEl.style.display =\n",
              "          google.colab.kernel.accessAllowed ? 'block' : 'none';\n",
              "\n",
              "        async function convertToInteractive(key) {\n",
              "          const element = document.querySelector('#df-92018ce1-4f8d-4d89-86f7-0253b1694a85');\n",
              "          const dataTable =\n",
              "            await google.colab.kernel.invokeFunction('convertToInteractive',\n",
              "                                                     [key], {});\n",
              "          if (!dataTable) return;\n",
              "\n",
              "          const docLinkHtml = 'Like what you see? Visit the ' +\n",
              "            '<a target=\"_blank\" href=https://colab.research.google.com/notebooks/data_table.ipynb>data table notebook</a>'\n",
              "            + ' to learn more about interactive tables.';\n",
              "          element.innerHTML = '';\n",
              "          dataTable['output_type'] = 'display_data';\n",
              "          await google.colab.output.renderOutput(dataTable, element);\n",
              "          const docLink = document.createElement('div');\n",
              "          docLink.innerHTML = docLinkHtml;\n",
              "          element.appendChild(docLink);\n",
              "        }\n",
              "      </script>\n",
              "    </div>\n",
              "  </div>\n",
              "  "
            ]
          },
          "metadata": {},
          "execution_count": 101
        }
      ]
    },
    {
      "cell_type": "markdown",
      "metadata": {
        "id": "V5Fo-bKJZGdG"
      },
      "source": [
        "It might be fun to plot the net amount for individual meters."
      ]
    },
    {
      "cell_type": "code",
      "metadata": {
        "colab": {
          "base_uri": "https://localhost:8080/",
          "height": 477
        },
        "id": "HbLeCX6aYomJ",
        "outputId": "e8253f9d-3080-4564-91b2-5f006bc3539c"
      },
      "source": [
        "df[df['meter'] == 2].kwh.plot()"
      ],
      "execution_count": null,
      "outputs": [
        {
          "output_type": "execute_result",
          "data": {
            "text/plain": [
              "<matplotlib.axes._subplots.AxesSubplot at 0x7ff68e7e9890>"
            ]
          },
          "metadata": {},
          "execution_count": 102
        },
        {
          "output_type": "display_data",
          "data": {
            "text/plain": [
              "<Figure size 864x576 with 1 Axes>"
            ],
            "image/png": "[encoded data removed]"
          },
          "metadata": {
            "needs_background": "light"
          }
        }
      ]
    },
    {
      "cell_type": "code",
      "metadata": {
        "colab": {
          "base_uri": "https://localhost:8080/",
          "height": 424
        },
        "id": "U1H83XKJbBMt",
        "outputId": "7448a847-87ed-4dde-e822-02ccc8561a72"
      },
      "source": [
        "df_m2 = df[df['meter'] == 2]\n",
        "df_m2"
      ],
      "execution_count": null,
      "outputs": [
        {
          "output_type": "execute_result",
          "data": {
            "text/plain": [
              "                     meter    kwh   TOUTYPE     MARKET           ZONE  PRICE\n",
              "2018-01-01 00:15:00      2  0.557  OFF-PEAK  Real Time  Load Zone CPS  24.10\n",
              "2018-01-01 00:30:00      2  0.548  OFF-PEAK  Real Time  Load Zone CPS  23.76\n",
              "2018-01-01 00:45:00      2  0.406  OFF-PEAK  Real Time  Load Zone CPS  22.87\n",
              "2018-01-01 01:00:00      2  0.679  OFF-PEAK  Real Time  Load Zone CPS  21.00\n",
              "2018-01-01 01:15:00      2  0.377  OFF-PEAK  Real Time  Load Zone CPS  22.07\n",
              "...                    ...    ...       ...        ...            ...    ...\n",
              "2018-12-31 22:45:00      2  0.617  OFF-PEAK  Real Time  Load Zone CPS  24.07\n",
              "2018-12-31 23:00:00      2  0.440  OFF-PEAK  Real Time  Load Zone CPS  22.68\n",
              "2018-12-31 23:15:00      2  0.546  OFF-PEAK  Real Time  Load Zone CPS  22.95\n",
              "2018-12-31 23:30:00      2  0.570  OFF-PEAK  Real Time  Load Zone CPS  22.81\n",
              "2018-12-31 23:45:00      2  0.710  OFF-PEAK  Real Time  Load Zone CPS  22.84\n",
              "\n",
              "[35039 rows x 6 columns]"
            ],
            "text/html": [
              "\n",
              "  <div id=\"df-60700eef-d95c-4cef-98b7-6c5aa0b6bbce\">\n",
              "    <div class=\"colab-df-container\">\n",
              "      <div>\n",
              "<style scoped>\n",
              "    .dataframe tbody tr th:only-of-type {\n",
              "        vertical-align: middle;\n",
              "    }\n",
              "\n",
              "    .dataframe tbody tr th {\n",
              "        vertical-align: top;\n",
              "    }\n",
              "\n",
              "    .dataframe thead th {\n",
              "        text-align: right;\n",
              "    }\n",
              "</style>\n",
              "<table border=\"1\" class=\"dataframe\">\n",
              "  <thead>\n",
              "    <tr style=\"text-align: right;\">\n",
              "      <th></th>\n",
              "      <th>meter</th>\n",
              "      <th>kwh</th>\n",
              "      <th>TOUTYPE</th>\n",
              "      <th>MARKET</th>\n",
              "      <th>ZONE</th>\n",
              "      <th>PRICE</th>\n",
              "    </tr>\n",
              "  </thead>\n",
              "  <tbody>\n",
              "    <tr>\n",
              "      <th>2018-01-01 00:15:00</th>\n",
              "      <td>2</td>\n",
              "      <td>0.557</td>\n",
              "      <td>OFF-PEAK</td>\n",
              "      <td>Real Time</td>\n",
              "      <td>Load Zone CPS</td>\n",
              "      <td>24.10</td>\n",
              "    </tr>\n",
              "    <tr>\n",
              "      <th>2018-01-01 00:30:00</th>\n",
              "      <td>2</td>\n",
              "      <td>0.548</td>\n",
              "      <td>OFF-PEAK</td>\n",
              "      <td>Real Time</td>\n",
              "      <td>Load Zone CPS</td>\n",
              "      <td>23.76</td>\n",
              "    </tr>\n",
              "    <tr>\n",
              "      <th>2018-01-01 00:45:00</th>\n",
              "      <td>2</td>\n",
              "      <td>0.406</td>\n",
              "      <td>OFF-PEAK</td>\n",
              "      <td>Real Time</td>\n",
              "      <td>Load Zone CPS</td>\n",
              "      <td>22.87</td>\n",
              "    </tr>\n",
              "    <tr>\n",
              "      <th>2018-01-01 01:00:00</th>\n",
              "      <td>2</td>\n",
              "      <td>0.679</td>\n",
              "      <td>OFF-PEAK</td>\n",
              "      <td>Real Time</td>\n",
              "      <td>Load Zone CPS</td>\n",
              "      <td>21.00</td>\n",
              "    </tr>\n",
              "    <tr>\n",
              "      <th>2018-01-01 01:15:00</th>\n",
              "      <td>2</td>\n",
              "      <td>0.377</td>\n",
              "      <td>OFF-PEAK</td>\n",
              "      <td>Real Time</td>\n",
              "      <td>Load Zone CPS</td>\n",
              "      <td>22.07</td>\n",
              "    </tr>\n",
              "    <tr>\n",
              "      <th>...</th>\n",
              "      <td>...</td>\n",
              "      <td>...</td>\n",
              "      <td>...</td>\n",
              "      <td>...</td>\n",
              "      <td>...</td>\n",
              "      <td>...</td>\n",
              "    </tr>\n",
              "    <tr>\n",
              "      <th>2018-12-31 22:45:00</th>\n",
              "      <td>2</td>\n",
              "      <td>0.617</td>\n",
              "      <td>OFF-PEAK</td>\n",
              "      <td>Real Time</td>\n",
              "      <td>Load Zone CPS</td>\n",
              "      <td>24.07</td>\n",
              "    </tr>\n",
              "    <tr>\n",
              "      <th>2018-12-31 23:00:00</th>\n",
              "      <td>2</td>\n",
              "      <td>0.440</td>\n",
              "      <td>OFF-PEAK</td>\n",
              "      <td>Real Time</td>\n",
              "      <td>Load Zone CPS</td>\n",
              "      <td>22.68</td>\n",
              "    </tr>\n",
              "    <tr>\n",
              "      <th>2018-12-31 23:15:00</th>\n",
              "      <td>2</td>\n",
              "      <td>0.546</td>\n",
              "      <td>OFF-PEAK</td>\n",
              "      <td>Real Time</td>\n",
              "      <td>Load Zone CPS</td>\n",
              "      <td>22.95</td>\n",
              "    </tr>\n",
              "    <tr>\n",
              "      <th>2018-12-31 23:30:00</th>\n",
              "      <td>2</td>\n",
              "      <td>0.570</td>\n",
              "      <td>OFF-PEAK</td>\n",
              "      <td>Real Time</td>\n",
              "      <td>Load Zone CPS</td>\n",
              "      <td>22.81</td>\n",
              "    </tr>\n",
              "    <tr>\n",
              "      <th>2018-12-31 23:45:00</th>\n",
              "      <td>2</td>\n",
              "      <td>0.710</td>\n",
              "      <td>OFF-PEAK</td>\n",
              "      <td>Real Time</td>\n",
              "      <td>Load Zone CPS</td>\n",
              "      <td>22.84</td>\n",
              "    </tr>\n",
              "  </tbody>\n",
              "</table>\n",
              "<p>35039 rows × 6 columns</p>\n",
              "</div>\n",
              "      <button class=\"colab-df-convert\" onclick=\"convertToInteractive('df-60700eef-d95c-4cef-98b7-6c5aa0b6bbce')\"\n",
              "              title=\"Convert this dataframe to an interactive table.\"\n",
              "              style=\"display:none;\">\n",
              "        \n",
              "  <svg xmlns=\"http://www.w3.org/2000/svg\" height=\"24px\"viewBox=\"0 0 24 24\"\n",
              "       width=\"24px\">\n",
              "    <path d=\"M0 0h24v24H0V0z\" fill=\"none\"/>\n",
              "    <path d=\"M18.56 5.44l.94 2.06.94-2.06 2.06-.94-2.06-.94-.94-2.06-.94 2.06-2.06.94zm-11 1L8.5 8.5l.94-2.06 2.06-.94-2.06-.94L8.5 2.5l-.94 2.06-2.06.94zm10 10l.94 2.06.94-2.06 2.06-.94-2.06-.94-.94-2.06-.94 2.06-2.06.94z\"/><path d=\"M17.41 7.96l-1.37-1.37c-.4-.4-.92-.59-1.43-.59-.52 0-1.04.2-1.43.59L10.3 9.45l-7.72 7.72c-.78.78-.78 2.05 0 2.83L4 21.41c.39.39.9.59 1.41.59.51 0 1.02-.2 1.41-.59l7.78-7.78 2.81-2.81c.8-.78.8-2.07 0-2.86zM5.41 20L4 18.59l7.72-7.72 1.47 1.35L5.41 20z\"/>\n",
              "  </svg>\n",
              "      </button>\n",
              "      \n",
              "  <style>\n",
              "    .colab-df-container {\n",
              "      display:flex;\n",
              "      flex-wrap:wrap;\n",
              "      gap: 12px;\n",
              "    }\n",
              "\n",
              "    .colab-df-convert {\n",
              "      background-color: #E8F0FE;\n",
              "      border: none;\n",
              "      border-radius: 50%;\n",
              "      cursor: pointer;\n",
              "      display: none;\n",
              "      fill: #1967D2;\n",
              "      height: 32px;\n",
              "      padding: 0 0 0 0;\n",
              "      width: 32px;\n",
              "    }\n",
              "\n",
              "    .colab-df-convert:hover {\n",
              "      background-color: #E2EBFA;\n",
              "      box-shadow: 0px 1px 2px rgba(60, 64, 67, 0.3), 0px 1px 3px 1px rgba(60, 64, 67, 0.15);\n",
              "      fill: #174EA6;\n",
              "    }\n",
              "\n",
              "    [theme=dark] .colab-df-convert {\n",
              "      background-color: #3B4455;\n",
              "      fill: #D2E3FC;\n",
              "    }\n",
              "\n",
              "    [theme=dark] .colab-df-convert:hover {\n",
              "      background-color: #434B5C;\n",
              "      box-shadow: 0px 1px 3px 1px rgba(0, 0, 0, 0.15);\n",
              "      filter: drop-shadow(0px 1px 2px rgba(0, 0, 0, 0.3));\n",
              "      fill: #FFFFFF;\n",
              "    }\n",
              "  </style>\n",
              "\n",
              "      <script>\n",
              "        const buttonEl =\n",
              "          document.querySelector('#df-60700eef-d95c-4cef-98b7-6c5aa0b6bbce button.colab-df-convert');\n",
              "        buttonEl.style.display =\n",
              "          google.colab.kernel.accessAllowed ? 'block' : 'none';\n",
              "\n",
              "        async function convertToInteractive(key) {\n",
              "          const element = document.querySelector('#df-60700eef-d95c-4cef-98b7-6c5aa0b6bbce');\n",
              "          const dataTable =\n",
              "            await google.colab.kernel.invokeFunction('convertToInteractive',\n",
              "                                                     [key], {});\n",
              "          if (!dataTable) return;\n",
              "\n",
              "          const docLinkHtml = 'Like what you see? Visit the ' +\n",
              "            '<a target=\"_blank\" href=https://colab.research.google.com/notebooks/data_table.ipynb>data table notebook</a>'\n",
              "            + ' to learn more about interactive tables.';\n",
              "          element.innerHTML = '';\n",
              "          dataTable['output_type'] = 'display_data';\n",
              "          await google.colab.output.renderOutput(dataTable, element);\n",
              "          const docLink = document.createElement('div');\n",
              "          docLink.innerHTML = docLinkHtml;\n",
              "          element.appendChild(docLink);\n",
              "        }\n",
              "      </script>\n",
              "    </div>\n",
              "  </div>\n",
              "  "
            ]
          },
          "metadata": {},
          "execution_count": 103
        }
      ]
    },
    {
      "cell_type": "code",
      "metadata": {
        "colab": {
          "base_uri": "https://localhost:8080/",
          "height": 512
        },
        "id": "eU4p1NOuZcxw",
        "outputId": "5a5819c4-6e40-446e-fc80-f281ce659deb"
      },
      "source": [
        "df_m2.resample('D').mean().kwh.plot()"
      ],
      "execution_count": null,
      "outputs": [
        {
          "output_type": "execute_result",
          "data": {
            "text/plain": [
              "<matplotlib.axes._subplots.AxesSubplot at 0x7ff68e7ed410>"
            ]
          },
          "metadata": {},
          "execution_count": 104
        },
        {
          "output_type": "display_data",
          "data": {
            "text/plain": [
              "<Figure size 864x576 with 1 Axes>"
            ],
            "image/png": "[encoded data removed]"
          },
          "metadata": {
            "needs_background": "light"
          }
        }
      ]
    },
    {
      "cell_type": "markdown",
      "metadata": {
        "id": "VINQZO4Rbg30"
      },
      "source": [
        "Let's view those whose delivered energy was less than 0."
      ]
    },
    {
      "cell_type": "code",
      "metadata": {
        "id": "-FstXZ67a4mt",
        "colab": {
          "base_uri": "https://localhost:8080/",
          "height": 1000
        },
        "outputId": "aad99fe4-6e97-4a7c-8ede-3deb1cf5faaa"
      },
      "source": [
        "df[df['kwh']<0]"
      ],
      "execution_count": null,
      "outputs": [
        {
          "output_type": "execute_result",
          "data": {
            "text/plain": [
              "                     meter    kwh   TOUTYPE     MARKET           ZONE  PRICE\n",
              "2018-02-27 07:30:00      5 -0.008    PEAKWD  Real Time  Load Zone CPS  19.02\n",
              "2018-02-27 08:30:00      5 -0.064    PEAKWD  Real Time  Load Zone CPS  19.85\n",
              "2018-02-27 08:45:00      5 -0.049    PEAKWD  Real Time  Load Zone CPS  20.15\n",
              "2018-02-27 09:00:00      5 -0.036    PEAKWD  Real Time  Load Zone CPS  17.53\n",
              "2018-02-27 09:15:00      5 -0.019    PEAKWD  Real Time  Load Zone CPS  21.08\n",
              "2018-02-27 09:45:00      5 -0.066    PEAKWD  Real Time  Load Zone CPS  13.99\n",
              "2018-02-27 10:00:00      5 -0.052    PEAKWD  Real Time  Load Zone CPS  24.77\n",
              "2018-02-27 10:15:00      5 -0.142    PEAKWD  Real Time  Load Zone CPS  18.46\n",
              "2018-06-12 05:45:00      5 -1.163  OFF-PEAK  Real Time  Load Zone CPS  20.17\n",
              "2018-06-12 06:00:00      5 -1.662    PEAKWD  Real Time  Load Zone CPS  19.98\n",
              "2018-06-12 06:15:00      5 -1.046    PEAKWD  Real Time  Load Zone CPS  20.61\n",
              "2018-06-12 06:30:00      5 -1.103    PEAKWD  Real Time  Load Zone CPS  20.73\n",
              "2018-06-12 06:45:00      5 -0.811    PEAKWD  Real Time  Load Zone CPS  20.06\n",
              "2018-10-31 22:00:00     32 -0.007  OFF-PEAK  Real Time  Load Zone CPS  19.42\n",
              "2018-11-01 00:15:00     32 -0.008  OFF-PEAK  Real Time  Load Zone CPS  18.05\n",
              "2018-11-01 00:30:00     32 -0.003  OFF-PEAK  Real Time  Load Zone CPS  19.13\n",
              "2018-11-17 00:45:00      5 -0.217  OFF-PEAK  Real Time  Load Zone CPS  10.23\n",
              "2018-11-17 01:00:00      5 -0.228  OFF-PEAK  Real Time  Load Zone CPS   8.82\n",
              "2018-11-17 01:15:00      5 -0.189  OFF-PEAK  Real Time  Load Zone CPS  10.56\n",
              "2018-11-17 01:30:00      5 -0.234  OFF-PEAK  Real Time  Load Zone CPS   6.81\n",
              "2018-11-17 01:45:00      5 -0.136  OFF-PEAK  Real Time  Load Zone CPS   7.78\n",
              "2018-11-17 02:00:00      5 -0.117  OFF-PEAK  Real Time  Load Zone CPS   8.39\n",
              "2018-11-17 02:15:00      5 -0.184  OFF-PEAK  Real Time  Load Zone CPS   6.89\n",
              "2018-11-17 02:30:00      5 -0.204  OFF-PEAK  Real Time  Load Zone CPS   8.58\n",
              "2018-11-17 02:45:00      5 -0.242  OFF-PEAK  Real Time  Load Zone CPS   6.29\n",
              "2018-11-17 03:00:00      5 -0.137  OFF-PEAK  Real Time  Load Zone CPS   9.56\n",
              "2018-11-17 03:15:00      5 -1.037  OFF-PEAK  Real Time  Load Zone CPS   7.21\n",
              "2018-11-17 03:30:00      5 -0.237  OFF-PEAK  Real Time  Load Zone CPS   6.91\n",
              "2018-11-17 03:45:00      5 -0.197  OFF-PEAK  Real Time  Load Zone CPS   6.67\n",
              "2018-11-17 04:00:00      5 -0.070  OFF-PEAK  Real Time  Load Zone CPS  10.88\n",
              "2018-11-17 04:15:00      5 -0.222  OFF-PEAK  Real Time  Load Zone CPS   8.18"
            ],
            "text/html": [
              "\n",
              "  <div id=\"df-68d5caf1-1751-4f4c-b833-4bd8e9338ec5\">\n",
              "    <div class=\"colab-df-container\">\n",
              "      <div>\n",
              "<style scoped>\n",
              "    .dataframe tbody tr th:only-of-type {\n",
              "        vertical-align: middle;\n",
              "    }\n",
              "\n",
              "    .dataframe tbody tr th {\n",
              "        vertical-align: top;\n",
              "    }\n",
              "\n",
              "    .dataframe thead th {\n",
              "        text-align: right;\n",
              "    }\n",
              "</style>\n",
              "<table border=\"1\" class=\"dataframe\">\n",
              "  <thead>\n",
              "    <tr style=\"text-align: right;\">\n",
              "      <th></th>\n",
              "      <th>meter</th>\n",
              "      <th>kwh</th>\n",
              "      <th>TOUTYPE</th>\n",
              "      <th>MARKET</th>\n",
              "      <th>ZONE</th>\n",
              "      <th>PRICE</th>\n",
              "    </tr>\n",
              "  </thead>\n",
              "  <tbody>\n",
              "    <tr>\n",
              "      <th>2018-02-27 07:30:00</th>\n",
              "      <td>5</td>\n",
              "      <td>-0.008</td>\n",
              "      <td>PEAKWD</td>\n",
              "      <td>Real Time</td>\n",
              "      <td>Load Zone CPS</td>\n",
              "      <td>19.02</td>\n",
              "    </tr>\n",
              "    <tr>\n",
              "      <th>2018-02-27 08:30:00</th>\n",
              "      <td>5</td>\n",
              "      <td>-0.064</td>\n",
              "      <td>PEAKWD</td>\n",
              "      <td>Real Time</td>\n",
              "      <td>Load Zone CPS</td>\n",
              "      <td>19.85</td>\n",
              "    </tr>\n",
              "    <tr>\n",
              "      <th>2018-02-27 08:45:00</th>\n",
              "      <td>5</td>\n",
              "      <td>-0.049</td>\n",
              "      <td>PEAKWD</td>\n",
              "      <td>Real Time</td>\n",
              "      <td>Load Zone CPS</td>\n",
              "      <td>20.15</td>\n",
              "    </tr>\n",
              "    <tr>\n",
              "      <th>2018-02-27 09:00:00</th>\n",
              "      <td>5</td>\n",
              "      <td>-0.036</td>\n",
              "      <td>PEAKWD</td>\n",
              "      <td>Real Time</td>\n",
              "      <td>Load Zone CPS</td>\n",
              "      <td>17.53</td>\n",
              "    </tr>\n",
              "    <tr>\n",
              "      <th>2018-02-27 09:15:00</th>\n",
              "      <td>5</td>\n",
              "      <td>-0.019</td>\n",
              "      <td>PEAKWD</td>\n",
              "      <td>Real Time</td>\n",
              "      <td>Load Zone CPS</td>\n",
              "      <td>21.08</td>\n",
              "    </tr>\n",
              "    <tr>\n",
              "      <th>2018-02-27 09:45:00</th>\n",
              "      <td>5</td>\n",
              "      <td>-0.066</td>\n",
              "      <td>PEAKWD</td>\n",
              "      <td>Real Time</td>\n",
              "      <td>Load Zone CPS</td>\n",
              "      <td>13.99</td>\n",
              "    </tr>\n",
              "    <tr>\n",
              "      <th>2018-02-27 10:00:00</th>\n",
              "      <td>5</td>\n",
              "      <td>-0.052</td>\n",
              "      <td>PEAKWD</td>\n",
              "      <td>Real Time</td>\n",
              "      <td>Load Zone CPS</td>\n",
              "      <td>24.77</td>\n",
              "    </tr>\n",
              "    <tr>\n",
              "      <th>2018-02-27 10:15:00</th>\n",
              "      <td>5</td>\n",
              "      <td>-0.142</td>\n",
              "      <td>PEAKWD</td>\n",
              "      <td>Real Time</td>\n",
              "      <td>Load Zone CPS</td>\n",
              "      <td>18.46</td>\n",
              "    </tr>\n",
              "    <tr>\n",
              "      <th>2018-06-12 05:45:00</th>\n",
              "      <td>5</td>\n",
              "      <td>-1.163</td>\n",
              "      <td>OFF-PEAK</td>\n",
              "      <td>Real Time</td>\n",
              "      <td>Load Zone CPS</td>\n",
              "      <td>20.17</td>\n",
              "    </tr>\n",
              "    <tr>\n",
              "      <th>2018-06-12 06:00:00</th>\n",
              "      <td>5</td>\n",
              "      <td>-1.662</td>\n",
              "      <td>PEAKWD</td>\n",
              "      <td>Real Time</td>\n",
              "      <td>Load Zone CPS</td>\n",
              "      <td>19.98</td>\n",
              "    </tr>\n",
              "    <tr>\n",
              "      <th>2018-06-12 06:15:00</th>\n",
              "      <td>5</td>\n",
              "      <td>-1.046</td>\n",
              "      <td>PEAKWD</td>\n",
              "      <td>Real Time</td>\n",
              "      <td>Load Zone CPS</td>\n",
              "      <td>20.61</td>\n",
              "    </tr>\n",
              "    <tr>\n",
              "      <th>2018-06-12 06:30:00</th>\n",
              "      <td>5</td>\n",
              "      <td>-1.103</td>\n",
              "      <td>PEAKWD</td>\n",
              "      <td>Real Time</td>\n",
              "      <td>Load Zone CPS</td>\n",
              "      <td>20.73</td>\n",
              "    </tr>\n",
              "    <tr>\n",
              "      <th>2018-06-12 06:45:00</th>\n",
              "      <td>5</td>\n",
              "      <td>-0.811</td>\n",
              "      <td>PEAKWD</td>\n",
              "      <td>Real Time</td>\n",
              "      <td>Load Zone CPS</td>\n",
              "      <td>20.06</td>\n",
              "    </tr>\n",
              "    <tr>\n",
              "      <th>2018-10-31 22:00:00</th>\n",
              "      <td>32</td>\n",
              "      <td>-0.007</td>\n",
              "      <td>OFF-PEAK</td>\n",
              "      <td>Real Time</td>\n",
              "      <td>Load Zone CPS</td>\n",
              "      <td>19.42</td>\n",
              "    </tr>\n",
              "    <tr>\n",
              "      <th>2018-11-01 00:15:00</th>\n",
              "      <td>32</td>\n",
              "      <td>-0.008</td>\n",
              "      <td>OFF-PEAK</td>\n",
              "      <td>Real Time</td>\n",
              "      <td>Load Zone CPS</td>\n",
              "      <td>18.05</td>\n",
              "    </tr>\n",
              "    <tr>\n",
              "      <th>2018-11-01 00:30:00</th>\n",
              "      <td>32</td>\n",
              "      <td>-0.003</td>\n",
              "      <td>OFF-PEAK</td>\n",
              "      <td>Real Time</td>\n",
              "      <td>Load Zone CPS</td>\n",
              "      <td>19.13</td>\n",
              "    </tr>\n",
              "    <tr>\n",
              "      <th>2018-11-17 00:45:00</th>\n",
              "      <td>5</td>\n",
              "      <td>-0.217</td>\n",
              "      <td>OFF-PEAK</td>\n",
              "      <td>Real Time</td>\n",
              "      <td>Load Zone CPS</td>\n",
              "      <td>10.23</td>\n",
              "    </tr>\n",
              "    <tr>\n",
              "      <th>2018-11-17 01:00:00</th>\n",
              "      <td>5</td>\n",
              "      <td>-0.228</td>\n",
              "      <td>OFF-PEAK</td>\n",
              "      <td>Real Time</td>\n",
              "      <td>Load Zone CPS</td>\n",
              "      <td>8.82</td>\n",
              "    </tr>\n",
              "    <tr>\n",
              "      <th>2018-11-17 01:15:00</th>\n",
              "      <td>5</td>\n",
              "      <td>-0.189</td>\n",
              "      <td>OFF-PEAK</td>\n",
              "      <td>Real Time</td>\n",
              "      <td>Load Zone CPS</td>\n",
              "      <td>10.56</td>\n",
              "    </tr>\n",
              "    <tr>\n",
              "      <th>2018-11-17 01:30:00</th>\n",
              "      <td>5</td>\n",
              "      <td>-0.234</td>\n",
              "      <td>OFF-PEAK</td>\n",
              "      <td>Real Time</td>\n",
              "      <td>Load Zone CPS</td>\n",
              "      <td>6.81</td>\n",
              "    </tr>\n",
              "    <tr>\n",
              "      <th>2018-11-17 01:45:00</th>\n",
              "      <td>5</td>\n",
              "      <td>-0.136</td>\n",
              "      <td>OFF-PEAK</td>\n",
              "      <td>Real Time</td>\n",
              "      <td>Load Zone CPS</td>\n",
              "      <td>7.78</td>\n",
              "    </tr>\n",
              "    <tr>\n",
              "      <th>2018-11-17 02:00:00</th>\n",
              "      <td>5</td>\n",
              "      <td>-0.117</td>\n",
              "      <td>OFF-PEAK</td>\n",
              "      <td>Real Time</td>\n",
              "      <td>Load Zone CPS</td>\n",
              "      <td>8.39</td>\n",
              "    </tr>\n",
              "    <tr>\n",
              "      <th>2018-11-17 02:15:00</th>\n",
              "      <td>5</td>\n",
              "      <td>-0.184</td>\n",
              "      <td>OFF-PEAK</td>\n",
              "      <td>Real Time</td>\n",
              "      <td>Load Zone CPS</td>\n",
              "      <td>6.89</td>\n",
              "    </tr>\n",
              "    <tr>\n",
              "      <th>2018-11-17 02:30:00</th>\n",
              "      <td>5</td>\n",
              "      <td>-0.204</td>\n",
              "      <td>OFF-PEAK</td>\n",
              "      <td>Real Time</td>\n",
              "      <td>Load Zone CPS</td>\n",
              "      <td>8.58</td>\n",
              "    </tr>\n",
              "    <tr>\n",
              "      <th>2018-11-17 02:45:00</th>\n",
              "      <td>5</td>\n",
              "      <td>-0.242</td>\n",
              "      <td>OFF-PEAK</td>\n",
              "      <td>Real Time</td>\n",
              "      <td>Load Zone CPS</td>\n",
              "      <td>6.29</td>\n",
              "    </tr>\n",
              "    <tr>\n",
              "      <th>2018-11-17 03:00:00</th>\n",
              "      <td>5</td>\n",
              "      <td>-0.137</td>\n",
              "      <td>OFF-PEAK</td>\n",
              "      <td>Real Time</td>\n",
              "      <td>Load Zone CPS</td>\n",
              "      <td>9.56</td>\n",
              "    </tr>\n",
              "    <tr>\n",
              "      <th>2018-11-17 03:15:00</th>\n",
              "      <td>5</td>\n",
              "      <td>-1.037</td>\n",
              "      <td>OFF-PEAK</td>\n",
              "      <td>Real Time</td>\n",
              "      <td>Load Zone CPS</td>\n",
              "      <td>7.21</td>\n",
              "    </tr>\n",
              "    <tr>\n",
              "      <th>2018-11-17 03:30:00</th>\n",
              "      <td>5</td>\n",
              "      <td>-0.237</td>\n",
              "      <td>OFF-PEAK</td>\n",
              "      <td>Real Time</td>\n",
              "      <td>Load Zone CPS</td>\n",
              "      <td>6.91</td>\n",
              "    </tr>\n",
              "    <tr>\n",
              "      <th>2018-11-17 03:45:00</th>\n",
              "      <td>5</td>\n",
              "      <td>-0.197</td>\n",
              "      <td>OFF-PEAK</td>\n",
              "      <td>Real Time</td>\n",
              "      <td>Load Zone CPS</td>\n",
              "      <td>6.67</td>\n",
              "    </tr>\n",
              "    <tr>\n",
              "      <th>2018-11-17 04:00:00</th>\n",
              "      <td>5</td>\n",
              "      <td>-0.070</td>\n",
              "      <td>OFF-PEAK</td>\n",
              "      <td>Real Time</td>\n",
              "      <td>Load Zone CPS</td>\n",
              "      <td>10.88</td>\n",
              "    </tr>\n",
              "    <tr>\n",
              "      <th>2018-11-17 04:15:00</th>\n",
              "      <td>5</td>\n",
              "      <td>-0.222</td>\n",
              "      <td>OFF-PEAK</td>\n",
              "      <td>Real Time</td>\n",
              "      <td>Load Zone CPS</td>\n",
              "      <td>8.18</td>\n",
              "    </tr>\n",
              "  </tbody>\n",
              "</table>\n",
              "</div>\n",
              "      <button class=\"colab-df-convert\" onclick=\"convertToInteractive('df-68d5caf1-1751-4f4c-b833-4bd8e9338ec5')\"\n",
              "              title=\"Convert this dataframe to an interactive table.\"\n",
              "              style=\"display:none;\">\n",
              "        \n",
              "  <svg xmlns=\"http://www.w3.org/2000/svg\" height=\"24px\"viewBox=\"0 0 24 24\"\n",
              "       width=\"24px\">\n",
              "    <path d=\"M0 0h24v24H0V0z\" fill=\"none\"/>\n",
              "    <path d=\"M18.56 5.44l.94 2.06.94-2.06 2.06-.94-2.06-.94-.94-2.06-.94 2.06-2.06.94zm-11 1L8.5 8.5l.94-2.06 2.06-.94-2.06-.94L8.5 2.5l-.94 2.06-2.06.94zm10 10l.94 2.06.94-2.06 2.06-.94-2.06-.94-.94-2.06-.94 2.06-2.06.94z\"/><path d=\"M17.41 7.96l-1.37-1.37c-.4-.4-.92-.59-1.43-.59-.52 0-1.04.2-1.43.59L10.3 9.45l-7.72 7.72c-.78.78-.78 2.05 0 2.83L4 21.41c.39.39.9.59 1.41.59.51 0 1.02-.2 1.41-.59l7.78-7.78 2.81-2.81c.8-.78.8-2.07 0-2.86zM5.41 20L4 18.59l7.72-7.72 1.47 1.35L5.41 20z\"/>\n",
              "  </svg>\n",
              "      </button>\n",
              "      \n",
              "  <style>\n",
              "    .colab-df-container {\n",
              "      display:flex;\n",
              "      flex-wrap:wrap;\n",
              "      gap: 12px;\n",
              "    }\n",
              "\n",
              "    .colab-df-convert {\n",
              "      background-color: #E8F0FE;\n",
              "      border: none;\n",
              "      border-radius: 50%;\n",
              "      cursor: pointer;\n",
              "      display: none;\n",
              "      fill: #1967D2;\n",
              "      height: 32px;\n",
              "      padding: 0 0 0 0;\n",
              "      width: 32px;\n",
              "    }\n",
              "\n",
              "    .colab-df-convert:hover {\n",
              "      background-color: #E2EBFA;\n",
              "      box-shadow: 0px 1px 2px rgba(60, 64, 67, 0.3), 0px 1px 3px 1px rgba(60, 64, 67, 0.15);\n",
              "      fill: #174EA6;\n",
              "    }\n",
              "\n",
              "    [theme=dark] .colab-df-convert {\n",
              "      background-color: #3B4455;\n",
              "      fill: #D2E3FC;\n",
              "    }\n",
              "\n",
              "    [theme=dark] .colab-df-convert:hover {\n",
              "      background-color: #434B5C;\n",
              "      box-shadow: 0px 1px 3px 1px rgba(0, 0, 0, 0.15);\n",
              "      filter: drop-shadow(0px 1px 2px rgba(0, 0, 0, 0.3));\n",
              "      fill: #FFFFFF;\n",
              "    }\n",
              "  </style>\n",
              "\n",
              "      <script>\n",
              "        const buttonEl =\n",
              "          document.querySelector('#df-68d5caf1-1751-4f4c-b833-4bd8e9338ec5 button.colab-df-convert');\n",
              "        buttonEl.style.display =\n",
              "          google.colab.kernel.accessAllowed ? 'block' : 'none';\n",
              "\n",
              "        async function convertToInteractive(key) {\n",
              "          const element = document.querySelector('#df-68d5caf1-1751-4f4c-b833-4bd8e9338ec5');\n",
              "          const dataTable =\n",
              "            await google.colab.kernel.invokeFunction('convertToInteractive',\n",
              "                                                     [key], {});\n",
              "          if (!dataTable) return;\n",
              "\n",
              "          const docLinkHtml = 'Like what you see? Visit the ' +\n",
              "            '<a target=\"_blank\" href=https://colab.research.google.com/notebooks/data_table.ipynb>data table notebook</a>'\n",
              "            + ' to learn more about interactive tables.';\n",
              "          element.innerHTML = '';\n",
              "          dataTable['output_type'] = 'display_data';\n",
              "          await google.colab.output.renderOutput(dataTable, element);\n",
              "          const docLink = document.createElement('div');\n",
              "          docLink.innerHTML = docLinkHtml;\n",
              "          element.appendChild(docLink);\n",
              "        }\n",
              "      </script>\n",
              "    </div>\n",
              "  </div>\n",
              "  "
            ]
          },
          "metadata": {},
          "execution_count": 105
        }
      ]
    },
    {
      "cell_type": "markdown",
      "metadata": {
        "id": "RIQhS3rRcKmu"
      },
      "source": [
        "Let's look at `TOUTYPE`."
      ]
    },
    {
      "cell_type": "code",
      "metadata": {
        "id": "6xw3FRuScSsq",
        "colab": {
          "base_uri": "https://localhost:8080/"
        },
        "outputId": "c65c45b0-9d75-4674-960e-b2202748dd1d"
      },
      "source": [
        "df_price['TOUTYPE'].value_counts()"
      ],
      "execution_count": null,
      "outputs": [
        {
          "output_type": "execute_result",
          "data": {
            "text/plain": [
              "PEAKWD      16320\n",
              "OFF-PEAK    11680\n",
              "PEAKWE       7040\n",
              "Name: TOUTYPE, dtype: int64"
            ]
          },
          "metadata": {},
          "execution_count": 106
        }
      ]
    },
    {
      "cell_type": "code",
      "metadata": {
        "id": "yxTDOy9lcU8g",
        "colab": {
          "base_uri": "https://localhost:8080/",
          "height": 539
        },
        "outputId": "b21594b8-5c6c-4d0a-e625-5204477f903b"
      },
      "source": [
        "plt.figure(figsize=(12,8))\n",
        "df_price['TOUTYPE'].value_counts().plot(kind='bar')"
      ],
      "execution_count": null,
      "outputs": [
        {
          "output_type": "execute_result",
          "data": {
            "text/plain": [
              "<matplotlib.axes._subplots.AxesSubplot at 0x7ff68e1ca210>"
            ]
          },
          "metadata": {},
          "execution_count": 107
        },
        {
          "output_type": "display_data",
          "data": {
            "text/plain": [
              "<Figure size 864x576 with 1 Axes>"
            ],
            "image/png": "[encoded data removed]"
          },
          "metadata": {
            "needs_background": "light"
          }
        }
      ]
    },
    {
      "cell_type": "markdown",
      "metadata": {
        "id": "eO3aDeXXcj0S"
      },
      "source": [
        "**Question**: What is the average price per type?"
      ]
    },
    {
      "cell_type": "code",
      "metadata": {
        "id": "oS9XshnXcfel",
        "colab": {
          "base_uri": "https://localhost:8080/",
          "height": 553
        },
        "outputId": "81d2643f-69ea-4896-b965-b4ac0434e752"
      },
      "source": [
        "plt.figure(figsize=(12,8))\n",
        "df_price.groupby('TOUTYPE')['PRICE'].mean().plot(kind='bar')"
      ],
      "execution_count": null,
      "outputs": [
        {
          "output_type": "execute_result",
          "data": {
            "text/plain": [
              "<matplotlib.axes._subplots.AxesSubplot at 0x7ff68c939cd0>"
            ]
          },
          "metadata": {},
          "execution_count": 108
        },
        {
          "output_type": "display_data",
          "data": {
            "text/plain": [
              "<Figure size 864x576 with 1 Axes>"
            ],
            "image/png": "[encoded data removed]"
          },
          "metadata": {
            "needs_background": "light"
          }
        }
      ]
    },
    {
      "cell_type": "markdown",
      "metadata": {
        "id": "3Cg4Af5uc-Ee"
      },
      "source": [
        "Correlation is an interesting metric to explore."
      ]
    },
    {
      "cell_type": "code",
      "metadata": {
        "id": "lTw9o6hRcyIW",
        "colab": {
          "base_uri": "https://localhost:8080/",
          "height": 112
        },
        "outputId": "72cc5e09-7614-4a60-d785-3b0c9b02ffcd"
      },
      "source": [
        "df[['kwh', 'PRICE']].corr()"
      ],
      "execution_count": null,
      "outputs": [
        {
          "output_type": "execute_result",
          "data": {
            "text/plain": [
              "           kwh    PRICE\n",
              "kwh    1.00000  0.05372\n",
              "PRICE  0.05372  1.00000"
            ],
            "text/html": [
              "\n",
              "  <div id=\"df-7c66562a-363f-4c36-a98b-5504c0c8bcd0\">\n",
              "    <div class=\"colab-df-container\">\n",
              "      <div>\n",
              "<style scoped>\n",
              "    .dataframe tbody tr th:only-of-type {\n",
              "        vertical-align: middle;\n",
              "    }\n",
              "\n",
              "    .dataframe tbody tr th {\n",
              "        vertical-align: top;\n",
              "    }\n",
              "\n",
              "    .dataframe thead th {\n",
              "        text-align: right;\n",
              "    }\n",
              "</style>\n",
              "<table border=\"1\" class=\"dataframe\">\n",
              "  <thead>\n",
              "    <tr style=\"text-align: right;\">\n",
              "      <th></th>\n",
              "      <th>kwh</th>\n",
              "      <th>PRICE</th>\n",
              "    </tr>\n",
              "  </thead>\n",
              "  <tbody>\n",
              "    <tr>\n",
              "      <th>kwh</th>\n",
              "      <td>1.00000</td>\n",
              "      <td>0.05372</td>\n",
              "    </tr>\n",
              "    <tr>\n",
              "      <th>PRICE</th>\n",
              "      <td>0.05372</td>\n",
              "      <td>1.00000</td>\n",
              "    </tr>\n",
              "  </tbody>\n",
              "</table>\n",
              "</div>\n",
              "      <button class=\"colab-df-convert\" onclick=\"convertToInteractive('df-7c66562a-363f-4c36-a98b-5504c0c8bcd0')\"\n",
              "              title=\"Convert this dataframe to an interactive table.\"\n",
              "              style=\"display:none;\">\n",
              "        \n",
              "  <svg xmlns=\"http://www.w3.org/2000/svg\" height=\"24px\"viewBox=\"0 0 24 24\"\n",
              "       width=\"24px\">\n",
              "    <path d=\"M0 0h24v24H0V0z\" fill=\"none\"/>\n",
              "    <path d=\"M18.56 5.44l.94 2.06.94-2.06 2.06-.94-2.06-.94-.94-2.06-.94 2.06-2.06.94zm-11 1L8.5 8.5l.94-2.06 2.06-.94-2.06-.94L8.5 2.5l-.94 2.06-2.06.94zm10 10l.94 2.06.94-2.06 2.06-.94-2.06-.94-.94-2.06-.94 2.06-2.06.94z\"/><path d=\"M17.41 7.96l-1.37-1.37c-.4-.4-.92-.59-1.43-.59-.52 0-1.04.2-1.43.59L10.3 9.45l-7.72 7.72c-.78.78-.78 2.05 0 2.83L4 21.41c.39.39.9.59 1.41.59.51 0 1.02-.2 1.41-.59l7.78-7.78 2.81-2.81c.8-.78.8-2.07 0-2.86zM5.41 20L4 18.59l7.72-7.72 1.47 1.35L5.41 20z\"/>\n",
              "  </svg>\n",
              "      </button>\n",
              "      \n",
              "  <style>\n",
              "    .colab-df-container {\n",
              "      display:flex;\n",
              "      flex-wrap:wrap;\n",
              "      gap: 12px;\n",
              "    }\n",
              "\n",
              "    .colab-df-convert {\n",
              "      background-color: #E8F0FE;\n",
              "      border: none;\n",
              "      border-radius: 50%;\n",
              "      cursor: pointer;\n",
              "      display: none;\n",
              "      fill: #1967D2;\n",
              "      height: 32px;\n",
              "      padding: 0 0 0 0;\n",
              "      width: 32px;\n",
              "    }\n",
              "\n",
              "    .colab-df-convert:hover {\n",
              "      background-color: #E2EBFA;\n",
              "      box-shadow: 0px 1px 2px rgba(60, 64, 67, 0.3), 0px 1px 3px 1px rgba(60, 64, 67, 0.15);\n",
              "      fill: #174EA6;\n",
              "    }\n",
              "\n",
              "    [theme=dark] .colab-df-convert {\n",
              "      background-color: #3B4455;\n",
              "      fill: #D2E3FC;\n",
              "    }\n",
              "\n",
              "    [theme=dark] .colab-df-convert:hover {\n",
              "      background-color: #434B5C;\n",
              "      box-shadow: 0px 1px 3px 1px rgba(0, 0, 0, 0.15);\n",
              "      filter: drop-shadow(0px 1px 2px rgba(0, 0, 0, 0.3));\n",
              "      fill: #FFFFFF;\n",
              "    }\n",
              "  </style>\n",
              "\n",
              "      <script>\n",
              "        const buttonEl =\n",
              "          document.querySelector('#df-7c66562a-363f-4c36-a98b-5504c0c8bcd0 button.colab-df-convert');\n",
              "        buttonEl.style.display =\n",
              "          google.colab.kernel.accessAllowed ? 'block' : 'none';\n",
              "\n",
              "        async function convertToInteractive(key) {\n",
              "          const element = document.querySelector('#df-7c66562a-363f-4c36-a98b-5504c0c8bcd0');\n",
              "          const dataTable =\n",
              "            await google.colab.kernel.invokeFunction('convertToInteractive',\n",
              "                                                     [key], {});\n",
              "          if (!dataTable) return;\n",
              "\n",
              "          const docLinkHtml = 'Like what you see? Visit the ' +\n",
              "            '<a target=\"_blank\" href=https://colab.research.google.com/notebooks/data_table.ipynb>data table notebook</a>'\n",
              "            + ' to learn more about interactive tables.';\n",
              "          element.innerHTML = '';\n",
              "          dataTable['output_type'] = 'display_data';\n",
              "          await google.colab.output.renderOutput(dataTable, element);\n",
              "          const docLink = document.createElement('div');\n",
              "          docLink.innerHTML = docLinkHtml;\n",
              "          element.appendChild(docLink);\n",
              "        }\n",
              "      </script>\n",
              "    </div>\n",
              "  </div>\n",
              "  "
            ]
          },
          "metadata": {},
          "execution_count": 109
        }
      ]
    },
    {
      "cell_type": "code",
      "metadata": {
        "id": "5cnztVuQdDiZ",
        "colab": {
          "base_uri": "https://localhost:8080/",
          "height": 487
        },
        "outputId": "e4d464c7-bf8d-496c-d11e-64fd313910f8"
      },
      "source": [
        "sns.heatmap(data=df[['kwh', 'PRICE']].corr(), annot=True, cmap='YlGnBu')\n",
        "plt.show()"
      ],
      "execution_count": null,
      "outputs": [
        {
          "output_type": "display_data",
          "data": {
            "text/plain": [
              "<Figure size 864x576 with 2 Axes>"
            ],
            "image/png": "[encoded data removed]"
          },
          "metadata": {
            "needs_background": "light"
          }
        }
      ]
    },
    {
      "cell_type": "code",
      "metadata": {
        "id": "_StjmH6xeZ6V",
        "colab": {
          "base_uri": "https://localhost:8080/",
          "height": 513
        },
        "outputId": "2f715d1c-c1ca-4f2d-8db6-bc38ee7cd677"
      },
      "source": [
        "# sns.set_theme(context='poster') # The base context is “notebook”, and the other contexts are “paper”, “talk”, and “poster”\n",
        "sns.set_theme(style=\"whitegrid\")\n",
        "plt.figure(figsize=(12,8))\n",
        "ax = df_price.groupby('TOUTYPE')['PRICE'].mean().plot(kind='bar')\n",
        "\n",
        "plt.title(\"Price by\", loc='left', size=18)\n",
        "plt.ylabel('Price (USD)', size=14)\n",
        "plt.xlabel('Type', size=14)\n",
        "\n",
        "ax.yaxis.set_label_coords(-0.05, 0.85)\n",
        "ax.xaxis.set_label_coords(0.02, -0.03)\n",
        "\n",
        "plt.xticks(rotation = 0)\n",
        "\n",
        "# plt.grid(False)\n",
        "# ax.spines['top'].set_visible(False)\n",
        "# ax.spines['right'].set_visible(False)\n",
        "\n",
        "plt.show()\n",
        "# plt.savefig('myfig.png')# to save the image"
      ],
      "execution_count": null,
      "outputs": [
        {
          "output_type": "display_data",
          "data": {
            "text/plain": [
              "<Figure size 864x576 with 1 Axes>"
            ],
            "image/png": "[encoded data removed]"
          },
          "metadata": {}
        }
      ]
    },
    {
      "cell_type": "markdown",
      "metadata": {
        "id": "qa4qfvuFoX9W"
      },
      "source": [
        "We might want to save this file locally."
      ]
    },
    {
      "cell_type": "code",
      "metadata": {
        "id": "iq_VuLdrlHeq"
      },
      "source": [
        "# from google.colab import files\n",
        "# files.download('myfig.png') "
      ],
      "execution_count": null,
      "outputs": []
    },
    {
      "cell_type": "markdown",
      "source": [
        "--------\n",
        "Average use by hour for individual meters."
      ],
      "metadata": {
        "id": "RSOS58YXqCph"
      }
    },
    {
      "cell_type": "code",
      "metadata": {
        "id": "or6OLEdyo8gT",
        "colab": {
          "base_uri": "https://localhost:8080/",
          "height": 206
        },
        "outputId": "27a62556-b4c3-475d-bfa3-41e35608041d"
      },
      "source": [
        "df.head()"
      ],
      "execution_count": null,
      "outputs": [
        {
          "output_type": "execute_result",
          "data": {
            "text/plain": [
              "                     meter    kwh   TOUTYPE     MARKET           ZONE  PRICE\n",
              "2018-01-01 00:15:00      1  0.404  OFF-PEAK  Real Time  Load Zone CPS   24.1\n",
              "2018-01-01 00:15:00      2  0.557  OFF-PEAK  Real Time  Load Zone CPS   24.1\n",
              "2018-01-01 00:15:00      3  0.109  OFF-PEAK  Real Time  Load Zone CPS   24.1\n",
              "2018-01-01 00:15:00      4  1.149  OFF-PEAK  Real Time  Load Zone CPS   24.1\n",
              "2018-01-01 00:15:00      5  0.233  OFF-PEAK  Real Time  Load Zone CPS   24.1"
            ],
            "text/html": [
              "\n",
              "  <div id=\"df-d112f393-21a7-4f25-bcc1-75bec724a142\">\n",
              "    <div class=\"colab-df-container\">\n",
              "      <div>\n",
              "<style scoped>\n",
              "    .dataframe tbody tr th:only-of-type {\n",
              "        vertical-align: middle;\n",
              "    }\n",
              "\n",
              "    .dataframe tbody tr th {\n",
              "        vertical-align: top;\n",
              "    }\n",
              "\n",
              "    .dataframe thead th {\n",
              "        text-align: right;\n",
              "    }\n",
              "</style>\n",
              "<table border=\"1\" class=\"dataframe\">\n",
              "  <thead>\n",
              "    <tr style=\"text-align: right;\">\n",
              "      <th></th>\n",
              "      <th>meter</th>\n",
              "      <th>kwh</th>\n",
              "      <th>TOUTYPE</th>\n",
              "      <th>MARKET</th>\n",
              "      <th>ZONE</th>\n",
              "      <th>PRICE</th>\n",
              "    </tr>\n",
              "  </thead>\n",
              "  <tbody>\n",
              "    <tr>\n",
              "      <th>2018-01-01 00:15:00</th>\n",
              "      <td>1</td>\n",
              "      <td>0.404</td>\n",
              "      <td>OFF-PEAK</td>\n",
              "      <td>Real Time</td>\n",
              "      <td>Load Zone CPS</td>\n",
              "      <td>24.1</td>\n",
              "    </tr>\n",
              "    <tr>\n",
              "      <th>2018-01-01 00:15:00</th>\n",
              "      <td>2</td>\n",
              "      <td>0.557</td>\n",
              "      <td>OFF-PEAK</td>\n",
              "      <td>Real Time</td>\n",
              "      <td>Load Zone CPS</td>\n",
              "      <td>24.1</td>\n",
              "    </tr>\n",
              "    <tr>\n",
              "      <th>2018-01-01 00:15:00</th>\n",
              "      <td>3</td>\n",
              "      <td>0.109</td>\n",
              "      <td>OFF-PEAK</td>\n",
              "      <td>Real Time</td>\n",
              "      <td>Load Zone CPS</td>\n",
              "      <td>24.1</td>\n",
              "    </tr>\n",
              "    <tr>\n",
              "      <th>2018-01-01 00:15:00</th>\n",
              "      <td>4</td>\n",
              "      <td>1.149</td>\n",
              "      <td>OFF-PEAK</td>\n",
              "      <td>Real Time</td>\n",
              "      <td>Load Zone CPS</td>\n",
              "      <td>24.1</td>\n",
              "    </tr>\n",
              "    <tr>\n",
              "      <th>2018-01-01 00:15:00</th>\n",
              "      <td>5</td>\n",
              "      <td>0.233</td>\n",
              "      <td>OFF-PEAK</td>\n",
              "      <td>Real Time</td>\n",
              "      <td>Load Zone CPS</td>\n",
              "      <td>24.1</td>\n",
              "    </tr>\n",
              "  </tbody>\n",
              "</table>\n",
              "</div>\n",
              "      <button class=\"colab-df-convert\" onclick=\"convertToInteractive('df-d112f393-21a7-4f25-bcc1-75bec724a142')\"\n",
              "              title=\"Convert this dataframe to an interactive table.\"\n",
              "              style=\"display:none;\">\n",
              "        \n",
              "  <svg xmlns=\"http://www.w3.org/2000/svg\" height=\"24px\"viewBox=\"0 0 24 24\"\n",
              "       width=\"24px\">\n",
              "    <path d=\"M0 0h24v24H0V0z\" fill=\"none\"/>\n",
              "    <path d=\"M18.56 5.44l.94 2.06.94-2.06 2.06-.94-2.06-.94-.94-2.06-.94 2.06-2.06.94zm-11 1L8.5 8.5l.94-2.06 2.06-.94-2.06-.94L8.5 2.5l-.94 2.06-2.06.94zm10 10l.94 2.06.94-2.06 2.06-.94-2.06-.94-.94-2.06-.94 2.06-2.06.94z\"/><path d=\"M17.41 7.96l-1.37-1.37c-.4-.4-.92-.59-1.43-.59-.52 0-1.04.2-1.43.59L10.3 9.45l-7.72 7.72c-.78.78-.78 2.05 0 2.83L4 21.41c.39.39.9.59 1.41.59.51 0 1.02-.2 1.41-.59l7.78-7.78 2.81-2.81c.8-.78.8-2.07 0-2.86zM5.41 20L4 18.59l7.72-7.72 1.47 1.35L5.41 20z\"/>\n",
              "  </svg>\n",
              "      </button>\n",
              "      \n",
              "  <style>\n",
              "    .colab-df-container {\n",
              "      display:flex;\n",
              "      flex-wrap:wrap;\n",
              "      gap: 12px;\n",
              "    }\n",
              "\n",
              "    .colab-df-convert {\n",
              "      background-color: #E8F0FE;\n",
              "      border: none;\n",
              "      border-radius: 50%;\n",
              "      cursor: pointer;\n",
              "      display: none;\n",
              "      fill: #1967D2;\n",
              "      height: 32px;\n",
              "      padding: 0 0 0 0;\n",
              "      width: 32px;\n",
              "    }\n",
              "\n",
              "    .colab-df-convert:hover {\n",
              "      background-color: #E2EBFA;\n",
              "      box-shadow: 0px 1px 2px rgba(60, 64, 67, 0.3), 0px 1px 3px 1px rgba(60, 64, 67, 0.15);\n",
              "      fill: #174EA6;\n",
              "    }\n",
              "\n",
              "    [theme=dark] .colab-df-convert {\n",
              "      background-color: #3B4455;\n",
              "      fill: #D2E3FC;\n",
              "    }\n",
              "\n",
              "    [theme=dark] .colab-df-convert:hover {\n",
              "      background-color: #434B5C;\n",
              "      box-shadow: 0px 1px 3px 1px rgba(0, 0, 0, 0.15);\n",
              "      filter: drop-shadow(0px 1px 2px rgba(0, 0, 0, 0.3));\n",
              "      fill: #FFFFFF;\n",
              "    }\n",
              "  </style>\n",
              "\n",
              "      <script>\n",
              "        const buttonEl =\n",
              "          document.querySelector('#df-d112f393-21a7-4f25-bcc1-75bec724a142 button.colab-df-convert');\n",
              "        buttonEl.style.display =\n",
              "          google.colab.kernel.accessAllowed ? 'block' : 'none';\n",
              "\n",
              "        async function convertToInteractive(key) {\n",
              "          const element = document.querySelector('#df-d112f393-21a7-4f25-bcc1-75bec724a142');\n",
              "          const dataTable =\n",
              "            await google.colab.kernel.invokeFunction('convertToInteractive',\n",
              "                                                     [key], {});\n",
              "          if (!dataTable) return;\n",
              "\n",
              "          const docLinkHtml = 'Like what you see? Visit the ' +\n",
              "            '<a target=\"_blank\" href=https://colab.research.google.com/notebooks/data_table.ipynb>data table notebook</a>'\n",
              "            + ' to learn more about interactive tables.';\n",
              "          element.innerHTML = '';\n",
              "          dataTable['output_type'] = 'display_data';\n",
              "          await google.colab.output.renderOutput(dataTable, element);\n",
              "          const docLink = document.createElement('div');\n",
              "          docLink.innerHTML = docLinkHtml;\n",
              "          element.appendChild(docLink);\n",
              "        }\n",
              "      </script>\n",
              "    </div>\n",
              "  </div>\n",
              "  "
            ]
          },
          "metadata": {},
          "execution_count": 113
        }
      ]
    },
    {
      "cell_type": "code",
      "source": [
        "df['HOUR'] = df.index.hour\n",
        "df.head()"
      ],
      "metadata": {
        "colab": {
          "base_uri": "https://localhost:8080/",
          "height": 206
        },
        "id": "JX-oAJUmqFYB",
        "outputId": "c7ea946d-0a4f-4c28-aee2-80f848625c02"
      },
      "execution_count": null,
      "outputs": [
        {
          "output_type": "execute_result",
          "data": {
            "text/plain": [
              "                     meter    kwh   TOUTYPE     MARKET           ZONE  PRICE  \\\n",
              "2018-01-01 00:15:00      1  0.404  OFF-PEAK  Real Time  Load Zone CPS   24.1   \n",
              "2018-01-01 00:15:00      2  0.557  OFF-PEAK  Real Time  Load Zone CPS   24.1   \n",
              "2018-01-01 00:15:00      3  0.109  OFF-PEAK  Real Time  Load Zone CPS   24.1   \n",
              "2018-01-01 00:15:00      4  1.149  OFF-PEAK  Real Time  Load Zone CPS   24.1   \n",
              "2018-01-01 00:15:00      5  0.233  OFF-PEAK  Real Time  Load Zone CPS   24.1   \n",
              "\n",
              "                     HOUR  \n",
              "2018-01-01 00:15:00     0  \n",
              "2018-01-01 00:15:00     0  \n",
              "2018-01-01 00:15:00     0  \n",
              "2018-01-01 00:15:00     0  \n",
              "2018-01-01 00:15:00     0  "
            ],
            "text/html": [
              "\n",
              "  <div id=\"df-991d0d14-6828-4d45-bcb3-10c155c98895\">\n",
              "    <div class=\"colab-df-container\">\n",
              "      <div>\n",
              "<style scoped>\n",
              "    .dataframe tbody tr th:only-of-type {\n",
              "        vertical-align: middle;\n",
              "    }\n",
              "\n",
              "    .dataframe tbody tr th {\n",
              "        vertical-align: top;\n",
              "    }\n",
              "\n",
              "    .dataframe thead th {\n",
              "        text-align: right;\n",
              "    }\n",
              "</style>\n",
              "<table border=\"1\" class=\"dataframe\">\n",
              "  <thead>\n",
              "    <tr style=\"text-align: right;\">\n",
              "      <th></th>\n",
              "      <th>meter</th>\n",
              "      <th>kwh</th>\n",
              "      <th>TOUTYPE</th>\n",
              "      <th>MARKET</th>\n",
              "      <th>ZONE</th>\n",
              "      <th>PRICE</th>\n",
              "      <th>HOUR</th>\n",
              "    </tr>\n",
              "  </thead>\n",
              "  <tbody>\n",
              "    <tr>\n",
              "      <th>2018-01-01 00:15:00</th>\n",
              "      <td>1</td>\n",
              "      <td>0.404</td>\n",
              "      <td>OFF-PEAK</td>\n",
              "      <td>Real Time</td>\n",
              "      <td>Load Zone CPS</td>\n",
              "      <td>24.1</td>\n",
              "      <td>0</td>\n",
              "    </tr>\n",
              "    <tr>\n",
              "      <th>2018-01-01 00:15:00</th>\n",
              "      <td>2</td>\n",
              "      <td>0.557</td>\n",
              "      <td>OFF-PEAK</td>\n",
              "      <td>Real Time</td>\n",
              "      <td>Load Zone CPS</td>\n",
              "      <td>24.1</td>\n",
              "      <td>0</td>\n",
              "    </tr>\n",
              "    <tr>\n",
              "      <th>2018-01-01 00:15:00</th>\n",
              "      <td>3</td>\n",
              "      <td>0.109</td>\n",
              "      <td>OFF-PEAK</td>\n",
              "      <td>Real Time</td>\n",
              "      <td>Load Zone CPS</td>\n",
              "      <td>24.1</td>\n",
              "      <td>0</td>\n",
              "    </tr>\n",
              "    <tr>\n",
              "      <th>2018-01-01 00:15:00</th>\n",
              "      <td>4</td>\n",
              "      <td>1.149</td>\n",
              "      <td>OFF-PEAK</td>\n",
              "      <td>Real Time</td>\n",
              "      <td>Load Zone CPS</td>\n",
              "      <td>24.1</td>\n",
              "      <td>0</td>\n",
              "    </tr>\n",
              "    <tr>\n",
              "      <th>2018-01-01 00:15:00</th>\n",
              "      <td>5</td>\n",
              "      <td>0.233</td>\n",
              "      <td>OFF-PEAK</td>\n",
              "      <td>Real Time</td>\n",
              "      <td>Load Zone CPS</td>\n",
              "      <td>24.1</td>\n",
              "      <td>0</td>\n",
              "    </tr>\n",
              "  </tbody>\n",
              "</table>\n",
              "</div>\n",
              "      <button class=\"colab-df-convert\" onclick=\"convertToInteractive('df-991d0d14-6828-4d45-bcb3-10c155c98895')\"\n",
              "              title=\"Convert this dataframe to an interactive table.\"\n",
              "              style=\"display:none;\">\n",
              "        \n",
              "  <svg xmlns=\"http://www.w3.org/2000/svg\" height=\"24px\"viewBox=\"0 0 24 24\"\n",
              "       width=\"24px\">\n",
              "    <path d=\"M0 0h24v24H0V0z\" fill=\"none\"/>\n",
              "    <path d=\"M18.56 5.44l.94 2.06.94-2.06 2.06-.94-2.06-.94-.94-2.06-.94 2.06-2.06.94zm-11 1L8.5 8.5l.94-2.06 2.06-.94-2.06-.94L8.5 2.5l-.94 2.06-2.06.94zm10 10l.94 2.06.94-2.06 2.06-.94-2.06-.94-.94-2.06-.94 2.06-2.06.94z\"/><path d=\"M17.41 7.96l-1.37-1.37c-.4-.4-.92-.59-1.43-.59-.52 0-1.04.2-1.43.59L10.3 9.45l-7.72 7.72c-.78.78-.78 2.05 0 2.83L4 21.41c.39.39.9.59 1.41.59.51 0 1.02-.2 1.41-.59l7.78-7.78 2.81-2.81c.8-.78.8-2.07 0-2.86zM5.41 20L4 18.59l7.72-7.72 1.47 1.35L5.41 20z\"/>\n",
              "  </svg>\n",
              "      </button>\n",
              "      \n",
              "  <style>\n",
              "    .colab-df-container {\n",
              "      display:flex;\n",
              "      flex-wrap:wrap;\n",
              "      gap: 12px;\n",
              "    }\n",
              "\n",
              "    .colab-df-convert {\n",
              "      background-color: #E8F0FE;\n",
              "      border: none;\n",
              "      border-radius: 50%;\n",
              "      cursor: pointer;\n",
              "      display: none;\n",
              "      fill: #1967D2;\n",
              "      height: 32px;\n",
              "      padding: 0 0 0 0;\n",
              "      width: 32px;\n",
              "    }\n",
              "\n",
              "    .colab-df-convert:hover {\n",
              "      background-color: #E2EBFA;\n",
              "      box-shadow: 0px 1px 2px rgba(60, 64, 67, 0.3), 0px 1px 3px 1px rgba(60, 64, 67, 0.15);\n",
              "      fill: #174EA6;\n",
              "    }\n",
              "\n",
              "    [theme=dark] .colab-df-convert {\n",
              "      background-color: #3B4455;\n",
              "      fill: #D2E3FC;\n",
              "    }\n",
              "\n",
              "    [theme=dark] .colab-df-convert:hover {\n",
              "      background-color: #434B5C;\n",
              "      box-shadow: 0px 1px 3px 1px rgba(0, 0, 0, 0.15);\n",
              "      filter: drop-shadow(0px 1px 2px rgba(0, 0, 0, 0.3));\n",
              "      fill: #FFFFFF;\n",
              "    }\n",
              "  </style>\n",
              "\n",
              "      <script>\n",
              "        const buttonEl =\n",
              "          document.querySelector('#df-991d0d14-6828-4d45-bcb3-10c155c98895 button.colab-df-convert');\n",
              "        buttonEl.style.display =\n",
              "          google.colab.kernel.accessAllowed ? 'block' : 'none';\n",
              "\n",
              "        async function convertToInteractive(key) {\n",
              "          const element = document.querySelector('#df-991d0d14-6828-4d45-bcb3-10c155c98895');\n",
              "          const dataTable =\n",
              "            await google.colab.kernel.invokeFunction('convertToInteractive',\n",
              "                                                     [key], {});\n",
              "          if (!dataTable) return;\n",
              "\n",
              "          const docLinkHtml = 'Like what you see? Visit the ' +\n",
              "            '<a target=\"_blank\" href=https://colab.research.google.com/notebooks/data_table.ipynb>data table notebook</a>'\n",
              "            + ' to learn more about interactive tables.';\n",
              "          element.innerHTML = '';\n",
              "          dataTable['output_type'] = 'display_data';\n",
              "          await google.colab.output.renderOutput(dataTable, element);\n",
              "          const docLink = document.createElement('div');\n",
              "          docLink.innerHTML = docLinkHtml;\n",
              "          element.appendChild(docLink);\n",
              "        }\n",
              "      </script>\n",
              "    </div>\n",
              "  </div>\n",
              "  "
            ]
          },
          "metadata": {},
          "execution_count": 114
        }
      ]
    },
    {
      "cell_type": "code",
      "source": [
        "tmp = df.groupby(['meter','HOUR'])['kwh'].mean()\n",
        "tmp"
      ],
      "metadata": {
        "colab": {
          "base_uri": "https://localhost:8080/"
        },
        "id": "oOc4U4yRqjqD",
        "outputId": "e6fcf120-8126-4b5f-a2f0-2aceaf0d1153"
      },
      "execution_count": null,
      "outputs": [
        {
          "output_type": "execute_result",
          "data": {
            "text/plain": [
              "meter  HOUR\n",
              "1      0       0.387528\n",
              "       1       0.345839\n",
              "       2       0.315912\n",
              "       3       0.297105\n",
              "       4       0.306540\n",
              "                 ...   \n",
              "32     19      0.004318\n",
              "       20      0.000000\n",
              "       21      0.000000\n",
              "       22     -0.000005\n",
              "       23      0.000000\n",
              "Name: kwh, Length: 768, dtype: float64"
            ]
          },
          "metadata": {},
          "execution_count": 115
        }
      ]
    },
    {
      "cell_type": "code",
      "source": [
        "tmp = tmp.reset_index()\n",
        "tmp"
      ],
      "metadata": {
        "colab": {
          "base_uri": "https://localhost:8080/",
          "height": 424
        },
        "id": "7D-1mCu1r-hI",
        "outputId": "4f793358-d304-4c67-f03f-c26fb85e5e6e"
      },
      "execution_count": null,
      "outputs": [
        {
          "output_type": "execute_result",
          "data": {
            "text/plain": [
              "     meter  HOUR       kwh\n",
              "0        1     0  0.387528\n",
              "1        1     1  0.345839\n",
              "2        1     2  0.315912\n",
              "3        1     3  0.297105\n",
              "4        1     4  0.306540\n",
              "..     ...   ...       ...\n",
              "763     32    19  0.004318\n",
              "764     32    20  0.000000\n",
              "765     32    21  0.000000\n",
              "766     32    22 -0.000005\n",
              "767     32    23  0.000000\n",
              "\n",
              "[768 rows x 3 columns]"
            ],
            "text/html": [
              "\n",
              "  <div id=\"df-ed1ce2b0-9e5f-4e4d-b8bf-6ca2981de7ea\">\n",
              "    <div class=\"colab-df-container\">\n",
              "      <div>\n",
              "<style scoped>\n",
              "    .dataframe tbody tr th:only-of-type {\n",
              "        vertical-align: middle;\n",
              "    }\n",
              "\n",
              "    .dataframe tbody tr th {\n",
              "        vertical-align: top;\n",
              "    }\n",
              "\n",
              "    .dataframe thead th {\n",
              "        text-align: right;\n",
              "    }\n",
              "</style>\n",
              "<table border=\"1\" class=\"dataframe\">\n",
              "  <thead>\n",
              "    <tr style=\"text-align: right;\">\n",
              "      <th></th>\n",
              "      <th>meter</th>\n",
              "      <th>HOUR</th>\n",
              "      <th>kwh</th>\n",
              "    </tr>\n",
              "  </thead>\n",
              "  <tbody>\n",
              "    <tr>\n",
              "      <th>0</th>\n",
              "      <td>1</td>\n",
              "      <td>0</td>\n",
              "      <td>0.387528</td>\n",
              "    </tr>\n",
              "    <tr>\n",
              "      <th>1</th>\n",
              "      <td>1</td>\n",
              "      <td>1</td>\n",
              "      <td>0.345839</td>\n",
              "    </tr>\n",
              "    <tr>\n",
              "      <th>2</th>\n",
              "      <td>1</td>\n",
              "      <td>2</td>\n",
              "      <td>0.315912</td>\n",
              "    </tr>\n",
              "    <tr>\n",
              "      <th>3</th>\n",
              "      <td>1</td>\n",
              "      <td>3</td>\n",
              "      <td>0.297105</td>\n",
              "    </tr>\n",
              "    <tr>\n",
              "      <th>4</th>\n",
              "      <td>1</td>\n",
              "      <td>4</td>\n",
              "      <td>0.306540</td>\n",
              "    </tr>\n",
              "    <tr>\n",
              "      <th>...</th>\n",
              "      <td>...</td>\n",
              "      <td>...</td>\n",
              "      <td>...</td>\n",
              "    </tr>\n",
              "    <tr>\n",
              "      <th>763</th>\n",
              "      <td>32</td>\n",
              "      <td>19</td>\n",
              "      <td>0.004318</td>\n",
              "    </tr>\n",
              "    <tr>\n",
              "      <th>764</th>\n",
              "      <td>32</td>\n",
              "      <td>20</td>\n",
              "      <td>0.000000</td>\n",
              "    </tr>\n",
              "    <tr>\n",
              "      <th>765</th>\n",
              "      <td>32</td>\n",
              "      <td>21</td>\n",
              "      <td>0.000000</td>\n",
              "    </tr>\n",
              "    <tr>\n",
              "      <th>766</th>\n",
              "      <td>32</td>\n",
              "      <td>22</td>\n",
              "      <td>-0.000005</td>\n",
              "    </tr>\n",
              "    <tr>\n",
              "      <th>767</th>\n",
              "      <td>32</td>\n",
              "      <td>23</td>\n",
              "      <td>0.000000</td>\n",
              "    </tr>\n",
              "  </tbody>\n",
              "</table>\n",
              "<p>768 rows × 3 columns</p>\n",
              "</div>\n",
              "      <button class=\"colab-df-convert\" onclick=\"convertToInteractive('df-ed1ce2b0-9e5f-4e4d-b8bf-6ca2981de7ea')\"\n",
              "              title=\"Convert this dataframe to an interactive table.\"\n",
              "              style=\"display:none;\">\n",
              "        \n",
              "  <svg xmlns=\"http://www.w3.org/2000/svg\" height=\"24px\"viewBox=\"0 0 24 24\"\n",
              "       width=\"24px\">\n",
              "    <path d=\"M0 0h24v24H0V0z\" fill=\"none\"/>\n",
              "    <path d=\"M18.56 5.44l.94 2.06.94-2.06 2.06-.94-2.06-.94-.94-2.06-.94 2.06-2.06.94zm-11 1L8.5 8.5l.94-2.06 2.06-.94-2.06-.94L8.5 2.5l-.94 2.06-2.06.94zm10 10l.94 2.06.94-2.06 2.06-.94-2.06-.94-.94-2.06-.94 2.06-2.06.94z\"/><path d=\"M17.41 7.96l-1.37-1.37c-.4-.4-.92-.59-1.43-.59-.52 0-1.04.2-1.43.59L10.3 9.45l-7.72 7.72c-.78.78-.78 2.05 0 2.83L4 21.41c.39.39.9.59 1.41.59.51 0 1.02-.2 1.41-.59l7.78-7.78 2.81-2.81c.8-.78.8-2.07 0-2.86zM5.41 20L4 18.59l7.72-7.72 1.47 1.35L5.41 20z\"/>\n",
              "  </svg>\n",
              "      </button>\n",
              "      \n",
              "  <style>\n",
              "    .colab-df-container {\n",
              "      display:flex;\n",
              "      flex-wrap:wrap;\n",
              "      gap: 12px;\n",
              "    }\n",
              "\n",
              "    .colab-df-convert {\n",
              "      background-color: #E8F0FE;\n",
              "      border: none;\n",
              "      border-radius: 50%;\n",
              "      cursor: pointer;\n",
              "      display: none;\n",
              "      fill: #1967D2;\n",
              "      height: 32px;\n",
              "      padding: 0 0 0 0;\n",
              "      width: 32px;\n",
              "    }\n",
              "\n",
              "    .colab-df-convert:hover {\n",
              "      background-color: #E2EBFA;\n",
              "      box-shadow: 0px 1px 2px rgba(60, 64, 67, 0.3), 0px 1px 3px 1px rgba(60, 64, 67, 0.15);\n",
              "      fill: #174EA6;\n",
              "    }\n",
              "\n",
              "    [theme=dark] .colab-df-convert {\n",
              "      background-color: #3B4455;\n",
              "      fill: #D2E3FC;\n",
              "    }\n",
              "\n",
              "    [theme=dark] .colab-df-convert:hover {\n",
              "      background-color: #434B5C;\n",
              "      box-shadow: 0px 1px 3px 1px rgba(0, 0, 0, 0.15);\n",
              "      filter: drop-shadow(0px 1px 2px rgba(0, 0, 0, 0.3));\n",
              "      fill: #FFFFFF;\n",
              "    }\n",
              "  </style>\n",
              "\n",
              "      <script>\n",
              "        const buttonEl =\n",
              "          document.querySelector('#df-ed1ce2b0-9e5f-4e4d-b8bf-6ca2981de7ea button.colab-df-convert');\n",
              "        buttonEl.style.display =\n",
              "          google.colab.kernel.accessAllowed ? 'block' : 'none';\n",
              "\n",
              "        async function convertToInteractive(key) {\n",
              "          const element = document.querySelector('#df-ed1ce2b0-9e5f-4e4d-b8bf-6ca2981de7ea');\n",
              "          const dataTable =\n",
              "            await google.colab.kernel.invokeFunction('convertToInteractive',\n",
              "                                                     [key], {});\n",
              "          if (!dataTable) return;\n",
              "\n",
              "          const docLinkHtml = 'Like what you see? Visit the ' +\n",
              "            '<a target=\"_blank\" href=https://colab.research.google.com/notebooks/data_table.ipynb>data table notebook</a>'\n",
              "            + ' to learn more about interactive tables.';\n",
              "          element.innerHTML = '';\n",
              "          dataTable['output_type'] = 'display_data';\n",
              "          await google.colab.output.renderOutput(dataTable, element);\n",
              "          const docLink = document.createElement('div');\n",
              "          docLink.innerHTML = docLinkHtml;\n",
              "          element.appendChild(docLink);\n",
              "        }\n",
              "      </script>\n",
              "    </div>\n",
              "  </div>\n",
              "  "
            ]
          },
          "metadata": {},
          "execution_count": 116
        }
      ]
    },
    {
      "cell_type": "code",
      "source": [
        "sns.lineplot(data=tmp, x=\"HOUR\", y=\"kwh\")"
      ],
      "metadata": {
        "colab": {
          "base_uri": "https://localhost:8080/",
          "height": 520
        },
        "id": "qUmr3NPdsXwG",
        "outputId": "b8fdc13f-c20b-4502-e487-361dbe069f51"
      },
      "execution_count": null,
      "outputs": [
        {
          "output_type": "execute_result",
          "data": {
            "text/plain": [
              "<matplotlib.axes._subplots.AxesSubplot at 0x7ff689fcd550>"
            ]
          },
          "metadata": {},
          "execution_count": 117
        },
        {
          "output_type": "display_data",
          "data": {
            "text/plain": [
              "<Figure size 864x576 with 1 Axes>"
            ],
            "image/png": "[encoded data removed]"
          },
          "metadata": {}
        }
      ]
    },
    {
      "cell_type": "code",
      "source": [
        "sns.lineplot(data=tmp, x=\"HOUR\", y=\"kwh\", hue=\"meter\")"
      ],
      "metadata": {
        "colab": {
          "base_uri": "https://localhost:8080/",
          "height": 520
        },
        "id": "84vhieVHqJDW",
        "outputId": "797aef5a-270c-46ac-ea06-7c2571918beb"
      },
      "execution_count": null,
      "outputs": [
        {
          "output_type": "execute_result",
          "data": {
            "text/plain": [
              "<matplotlib.axes._subplots.AxesSubplot at 0x7ff689f427d0>"
            ]
          },
          "metadata": {},
          "execution_count": 118
        },
        {
          "output_type": "display_data",
          "data": {
            "text/plain": [
              "<Figure size 864x576 with 1 Axes>"
            ],
            "image/png": "[encoded data removed]"
          },
          "metadata": {}
        }
      ]
    },
    {
      "cell_type": "code",
      "source": [
        "tmp[tmp['meter']==32]"
      ],
      "metadata": {
        "colab": {
          "base_uri": "https://localhost:8080/",
          "height": 802
        },
        "id": "qT89AHjErFwH",
        "outputId": "61543f18-a0a9-4376-b147-281398c18df4"
      },
      "execution_count": null,
      "outputs": [
        {
          "output_type": "execute_result",
          "data": {
            "text/plain": [
              "     meter  HOUR       kwh\n",
              "744     32     0 -0.000008\n",
              "745     32     1  0.000000\n",
              "746     32     2  0.000000\n",
              "747     32     3  0.000000\n",
              "748     32     4  0.000000\n",
              "749     32     5  0.000125\n",
              "750     32     6  0.018918\n",
              "751     32     7  0.109923\n",
              "752     32     8  0.324606\n",
              "753     32     9  0.603847\n",
              "754     32    10  0.822836\n",
              "755     32    11  0.950172\n",
              "756     32    12  0.997810\n",
              "757     32    13  0.964912\n",
              "758     32    14  0.866883\n",
              "759     32    15  0.693929\n",
              "760     32    16  0.442841\n",
              "761     32    17  0.189340\n",
              "762     32    18  0.046087\n",
              "763     32    19  0.004318\n",
              "764     32    20  0.000000\n",
              "765     32    21  0.000000\n",
              "766     32    22 -0.000005\n",
              "767     32    23  0.000000"
            ],
            "text/html": [
              "\n",
              "  <div id=\"df-acd0226e-3a3d-4105-87ae-9ae0ce4f9e93\">\n",
              "    <div class=\"colab-df-container\">\n",
              "      <div>\n",
              "<style scoped>\n",
              "    .dataframe tbody tr th:only-of-type {\n",
              "        vertical-align: middle;\n",
              "    }\n",
              "\n",
              "    .dataframe tbody tr th {\n",
              "        vertical-align: top;\n",
              "    }\n",
              "\n",
              "    .dataframe thead th {\n",
              "        text-align: right;\n",
              "    }\n",
              "</style>\n",
              "<table border=\"1\" class=\"dataframe\">\n",
              "  <thead>\n",
              "    <tr style=\"text-align: right;\">\n",
              "      <th></th>\n",
              "      <th>meter</th>\n",
              "      <th>HOUR</th>\n",
              "      <th>kwh</th>\n",
              "    </tr>\n",
              "  </thead>\n",
              "  <tbody>\n",
              "    <tr>\n",
              "      <th>744</th>\n",
              "      <td>32</td>\n",
              "      <td>0</td>\n",
              "      <td>-0.000008</td>\n",
              "    </tr>\n",
              "    <tr>\n",
              "      <th>745</th>\n",
              "      <td>32</td>\n",
              "      <td>1</td>\n",
              "      <td>0.000000</td>\n",
              "    </tr>\n",
              "    <tr>\n",
              "      <th>746</th>\n",
              "      <td>32</td>\n",
              "      <td>2</td>\n",
              "      <td>0.000000</td>\n",
              "    </tr>\n",
              "    <tr>\n",
              "      <th>747</th>\n",
              "      <td>32</td>\n",
              "      <td>3</td>\n",
              "      <td>0.000000</td>\n",
              "    </tr>\n",
              "    <tr>\n",
              "      <th>748</th>\n",
              "      <td>32</td>\n",
              "      <td>4</td>\n",
              "      <td>0.000000</td>\n",
              "    </tr>\n",
              "    <tr>\n",
              "      <th>749</th>\n",
              "      <td>32</td>\n",
              "      <td>5</td>\n",
              "      <td>0.000125</td>\n",
              "    </tr>\n",
              "    <tr>\n",
              "      <th>750</th>\n",
              "      <td>32</td>\n",
              "      <td>6</td>\n",
              "      <td>0.018918</td>\n",
              "    </tr>\n",
              "    <tr>\n",
              "      <th>751</th>\n",
              "      <td>32</td>\n",
              "      <td>7</td>\n",
              "      <td>0.109923</td>\n",
              "    </tr>\n",
              "    <tr>\n",
              "      <th>752</th>\n",
              "      <td>32</td>\n",
              "      <td>8</td>\n",
              "      <td>0.324606</td>\n",
              "    </tr>\n",
              "    <tr>\n",
              "      <th>753</th>\n",
              "      <td>32</td>\n",
              "      <td>9</td>\n",
              "      <td>0.603847</td>\n",
              "    </tr>\n",
              "    <tr>\n",
              "      <th>754</th>\n",
              "      <td>32</td>\n",
              "      <td>10</td>\n",
              "      <td>0.822836</td>\n",
              "    </tr>\n",
              "    <tr>\n",
              "      <th>755</th>\n",
              "      <td>32</td>\n",
              "      <td>11</td>\n",
              "      <td>0.950172</td>\n",
              "    </tr>\n",
              "    <tr>\n",
              "      <th>756</th>\n",
              "      <td>32</td>\n",
              "      <td>12</td>\n",
              "      <td>0.997810</td>\n",
              "    </tr>\n",
              "    <tr>\n",
              "      <th>757</th>\n",
              "      <td>32</td>\n",
              "      <td>13</td>\n",
              "      <td>0.964912</td>\n",
              "    </tr>\n",
              "    <tr>\n",
              "      <th>758</th>\n",
              "      <td>32</td>\n",
              "      <td>14</td>\n",
              "      <td>0.866883</td>\n",
              "    </tr>\n",
              "    <tr>\n",
              "      <th>759</th>\n",
              "      <td>32</td>\n",
              "      <td>15</td>\n",
              "      <td>0.693929</td>\n",
              "    </tr>\n",
              "    <tr>\n",
              "      <th>760</th>\n",
              "      <td>32</td>\n",
              "      <td>16</td>\n",
              "      <td>0.442841</td>\n",
              "    </tr>\n",
              "    <tr>\n",
              "      <th>761</th>\n",
              "      <td>32</td>\n",
              "      <td>17</td>\n",
              "      <td>0.189340</td>\n",
              "    </tr>\n",
              "    <tr>\n",
              "      <th>762</th>\n",
              "      <td>32</td>\n",
              "      <td>18</td>\n",
              "      <td>0.046087</td>\n",
              "    </tr>\n",
              "    <tr>\n",
              "      <th>763</th>\n",
              "      <td>32</td>\n",
              "      <td>19</td>\n",
              "      <td>0.004318</td>\n",
              "    </tr>\n",
              "    <tr>\n",
              "      <th>764</th>\n",
              "      <td>32</td>\n",
              "      <td>20</td>\n",
              "      <td>0.000000</td>\n",
              "    </tr>\n",
              "    <tr>\n",
              "      <th>765</th>\n",
              "      <td>32</td>\n",
              "      <td>21</td>\n",
              "      <td>0.000000</td>\n",
              "    </tr>\n",
              "    <tr>\n",
              "      <th>766</th>\n",
              "      <td>32</td>\n",
              "      <td>22</td>\n",
              "      <td>-0.000005</td>\n",
              "    </tr>\n",
              "    <tr>\n",
              "      <th>767</th>\n",
              "      <td>32</td>\n",
              "      <td>23</td>\n",
              "      <td>0.000000</td>\n",
              "    </tr>\n",
              "  </tbody>\n",
              "</table>\n",
              "</div>\n",
              "      <button class=\"colab-df-convert\" onclick=\"convertToInteractive('df-acd0226e-3a3d-4105-87ae-9ae0ce4f9e93')\"\n",
              "              title=\"Convert this dataframe to an interactive table.\"\n",
              "              style=\"display:none;\">\n",
              "        \n",
              "  <svg xmlns=\"http://www.w3.org/2000/svg\" height=\"24px\"viewBox=\"0 0 24 24\"\n",
              "       width=\"24px\">\n",
              "    <path d=\"M0 0h24v24H0V0z\" fill=\"none\"/>\n",
              "    <path d=\"M18.56 5.44l.94 2.06.94-2.06 2.06-.94-2.06-.94-.94-2.06-.94 2.06-2.06.94zm-11 1L8.5 8.5l.94-2.06 2.06-.94-2.06-.94L8.5 2.5l-.94 2.06-2.06.94zm10 10l.94 2.06.94-2.06 2.06-.94-2.06-.94-.94-2.06-.94 2.06-2.06.94z\"/><path d=\"M17.41 7.96l-1.37-1.37c-.4-.4-.92-.59-1.43-.59-.52 0-1.04.2-1.43.59L10.3 9.45l-7.72 7.72c-.78.78-.78 2.05 0 2.83L4 21.41c.39.39.9.59 1.41.59.51 0 1.02-.2 1.41-.59l7.78-7.78 2.81-2.81c.8-.78.8-2.07 0-2.86zM5.41 20L4 18.59l7.72-7.72 1.47 1.35L5.41 20z\"/>\n",
              "  </svg>\n",
              "      </button>\n",
              "      \n",
              "  <style>\n",
              "    .colab-df-container {\n",
              "      display:flex;\n",
              "      flex-wrap:wrap;\n",
              "      gap: 12px;\n",
              "    }\n",
              "\n",
              "    .colab-df-convert {\n",
              "      background-color: #E8F0FE;\n",
              "      border: none;\n",
              "      border-radius: 50%;\n",
              "      cursor: pointer;\n",
              "      display: none;\n",
              "      fill: #1967D2;\n",
              "      height: 32px;\n",
              "      padding: 0 0 0 0;\n",
              "      width: 32px;\n",
              "    }\n",
              "\n",
              "    .colab-df-convert:hover {\n",
              "      background-color: #E2EBFA;\n",
              "      box-shadow: 0px 1px 2px rgba(60, 64, 67, 0.3), 0px 1px 3px 1px rgba(60, 64, 67, 0.15);\n",
              "      fill: #174EA6;\n",
              "    }\n",
              "\n",
              "    [theme=dark] .colab-df-convert {\n",
              "      background-color: #3B4455;\n",
              "      fill: #D2E3FC;\n",
              "    }\n",
              "\n",
              "    [theme=dark] .colab-df-convert:hover {\n",
              "      background-color: #434B5C;\n",
              "      box-shadow: 0px 1px 3px 1px rgba(0, 0, 0, 0.15);\n",
              "      filter: drop-shadow(0px 1px 2px rgba(0, 0, 0, 0.3));\n",
              "      fill: #FFFFFF;\n",
              "    }\n",
              "  </style>\n",
              "\n",
              "      <script>\n",
              "        const buttonEl =\n",
              "          document.querySelector('#df-acd0226e-3a3d-4105-87ae-9ae0ce4f9e93 button.colab-df-convert');\n",
              "        buttonEl.style.display =\n",
              "          google.colab.kernel.accessAllowed ? 'block' : 'none';\n",
              "\n",
              "        async function convertToInteractive(key) {\n",
              "          const element = document.querySelector('#df-acd0226e-3a3d-4105-87ae-9ae0ce4f9e93');\n",
              "          const dataTable =\n",
              "            await google.colab.kernel.invokeFunction('convertToInteractive',\n",
              "                                                     [key], {});\n",
              "          if (!dataTable) return;\n",
              "\n",
              "          const docLinkHtml = 'Like what you see? Visit the ' +\n",
              "            '<a target=\"_blank\" href=https://colab.research.google.com/notebooks/data_table.ipynb>data table notebook</a>'\n",
              "            + ' to learn more about interactive tables.';\n",
              "          element.innerHTML = '';\n",
              "          dataTable['output_type'] = 'display_data';\n",
              "          await google.colab.output.renderOutput(dataTable, element);\n",
              "          const docLink = document.createElement('div');\n",
              "          docLink.innerHTML = docLinkHtml;\n",
              "          element.appendChild(docLink);\n",
              "        }\n",
              "      </script>\n",
              "    </div>\n",
              "  </div>\n",
              "  "
            ]
          },
          "metadata": {},
          "execution_count": 119
        }
      ]
    },
    {
      "cell_type": "code",
      "source": [],
      "metadata": {
        "id": "IJAFULfxtJxI"
      },
      "execution_count": null,
      "outputs": []
    }
  ]
}