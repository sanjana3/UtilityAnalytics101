{
  "nbformat": 4,
  "nbformat_minor": 0,
  "metadata": {
    "colab": {
      "provenance": []
    },
    "kernelspec": {
      "name": "python3",
      "display_name": "Python 3"
    },
    "language_info": {
      "name": "python"
    }
  },
  "cells": [
    {
      "cell_type": "markdown",
      "metadata": {
        "id": "view-in-github"
      },
      "source": [
        "<a href=\"https://colab.research.google.com/github/blcrow/ua101/blob/main/UtilityAnalytics.ipynb\" target=\"_parent\"><img src=\"https://colab.research.google.com/assets/colab-badge.svg\" alt=\"Open In Colab\"/></a>"
      ]
    },
    {
      "cell_type": "code",
      "source": [],
      "metadata": {
        "id": "7Rb4dajsLePt"
      },
      "execution_count": null,
      "outputs": []
    },
    {
      "cell_type": "code",
      "source": [],
      "metadata": {
        "id": "OYzuwc1x8m8C"
      },
      "execution_count": null,
      "outputs": []
    },
    {
      "cell_type": "markdown",
      "source": [],
      "metadata": {
        "id": "1JERrkee8nqD"
      }
    },
    {
      "cell_type": "code",
      "source": [],
      "metadata": {
        "id": "n94Brlz-8oVl"
      },
      "execution_count": null,
      "outputs": []
    },
    {
      "cell_type": "markdown",
      "metadata": {
        "id": "yVTeCmRwi3Jv"
      },
      "source": [
        "# Jupyter Notebook\n",
        " **What**: Browser-based tool for interactive computing that allows the user to capture the whole computation process - developing, documenting, and executing code, as well as communicating the results.\n",
        "\n",
        "#### Syntax and Features\n",
        "1. There are two primary cell types -- Code and Markdown.\n",
        "2. Enter your command in the input cell, then press __shift + enter__ to execute the command.\n",
        "3. Note the locations of the menu bar and the tool bar.\n",
        "    - Save and Checkpoint\n",
        "    - References in `Help`\n",
        "4. Magic commands\n",
        "    - Line magics\n",
        "    - Cell magics"
      ]
    },
    {
      "cell_type": "code",
      "source": [
        "print(\"python!!!\")"
      ],
      "metadata": {
        "colab": {
          "base_uri": "https://localhost:8080/"
        },
        "id": "nhwauzRb8Qir",
        "outputId": "9e274972-6d51-448b-c11e-22d7ceb83cd7"
      },
      "execution_count": null,
      "outputs": [
        {
          "output_type": "stream",
          "name": "stdout",
          "text": [
            "python!!!\n"
          ]
        }
      ]
    },
    {
      "cell_type": "markdown",
      "metadata": {
        "id": "NPVRmgu_jkVn"
      },
      "source": [
        "## Headers and Formatting"
      ]
    },
    {
      "cell_type": "markdown",
      "source": [
        "\n",
        "### H3\n",
        "#### H4\n",
        "\n",
        "**Bold**\n",
        "\n",
        "_Italics_\n",
        "\n",
        "~Strikethough~\n",
        "\n",
        "> Indent\n",
        "\n",
        "`Code`\n",
        "\n",
        "Lists\n",
        "* Item 1\n",
        "* Item 2\n",
        "\n",
        "Ordered Lists\n",
        "1. Item 1\n",
        "2. Item 2"
      ],
      "metadata": {
        "id": "BgPT1oc2hzw_"
      }
    },
    {
      "cell_type": "markdown",
      "metadata": {
        "id": "CndWtAcFl0eN"
      },
      "source": [
        "Use LaTeX for formulas\n",
        "\n",
        "\\begin{equation}\n",
        " \\Pr(A | B)=\\frac{\\Pr(B|A)\\Pr(A)}{\\Pr(B)}\n",
        "\\end{equation}"
      ]
    },
    {
      "cell_type": "code",
      "metadata": {
        "colab": {
          "base_uri": "https://localhost:8080/",
          "height": 372
        },
        "id": "TyPBCeHmlKsd",
        "outputId": "665ae292-505b-4040-8158-ba9079106c5e"
      },
      "source": [
        "# Import external media with an iframe\n",
        "from IPython.display import IFrame\n",
        "\n",
        "IFrame('https://www.ou.edu/coe/dsai', width=650, height=350)"
      ],
      "execution_count": null,
      "outputs": [
        {
          "output_type": "execute_result",
          "data": {
            "text/plain": [
              "<IPython.lib.display.IFrame at 0x7fb360d0b400>"
            ],
            "text/html": [
              "\n",
              "        <iframe\n",
              "            width=\"650\"\n",
              "            height=\"350\"\n",
              "            src=\"https://www.ou.edu/coe/dsai\"\n",
              "            frameborder=\"0\"\n",
              "            allowfullscreen\n",
              "        ></iframe>\n",
              "        "
            ]
          },
          "metadata": {},
          "execution_count": 3
        }
      ]
    },
    {
      "cell_type": "markdown",
      "source": [
        "## Python Notes\n",
        "\n",
        "Python is one of the more popular languages both generally and for data analysis purposes. With support from libraries like pandas, NumPy, Matplotlib, and others, it is a strong alternative to R, Matlab, SAS, and other widely used tools. \n",
        "\n",
        "This notebook is not intended to provide an exhaustive introduction to programming in Python. Rather, it is meant to give a brief overview of language features often used in data analysis tasks.\n",
        "***"
      ],
      "metadata": {
        "id": "H_c0f8NbxzeQ"
      }
    },
    {
      "cell_type": "markdown",
      "source": [
        "### Comments\n",
        "are human readable text that the Python interpreter will not read. To create a comment, lead off the line with the `#` sign. \n",
        "\n",
        "Comments that span multiple lines are surrounded with triple quotes."
      ],
      "metadata": {
        "id": "RKQ4Usopx_Ti"
      }
    },
    {
      "cell_type": "code",
      "source": [
        "# This is a comment\n",
        "# this is introduction\n",
        "\n",
        "\"\"\"\n",
        "This is a \n",
        "multi-line comment.\n",
        "\"\"\""
      ],
      "metadata": {
        "colab": {
          "base_uri": "https://localhost:8080/",
          "height": 36
        },
        "id": "v2f2IoW9yDs4",
        "outputId": "123b9608-a194-484c-b4b9-7805b7a92dcc"
      },
      "execution_count": null,
      "outputs": [
        {
          "output_type": "execute_result",
          "data": {
            "text/plain": [
              "'\\nThis is a \\nmulti-line comment.\\n'"
            ],
            "application/vnd.google.colaboratory.intrinsic+json": {
              "type": "string"
            }
          },
          "metadata": {},
          "execution_count": 4
        }
      ]
    },
    {
      "cell_type": "markdown",
      "source": [
        "### Working in Python"
      ],
      "metadata": {
        "id": "kXdRgsZND5sz"
      }
    },
    {
      "cell_type": "code",
      "source": [
        "x = 6 * 7 + 12\n",
        "print(x)"
      ],
      "metadata": {
        "colab": {
          "base_uri": "https://localhost:8080/"
        },
        "id": "H2fEX2JuD8iE",
        "outputId": "b171d756-ad9e-4c2a-9ea9-f27b354d5be3"
      },
      "execution_count": null,
      "outputs": [
        {
          "output_type": "stream",
          "name": "stdout",
          "text": [
            "54\n"
          ]
        }
      ]
    },
    {
      "cell_type": "markdown",
      "source": [
        "#### Variables and Assignments"
      ],
      "metadata": {
        "id": "7zlZsxMYECgK"
      }
    },
    {
      "cell_type": "code",
      "source": [
        "age = 34\n",
        "first_name = \"Sanjana\"\n",
        "last_name = \"Mudduluru\""
      ],
      "metadata": {
        "id": "sNnQcxmZEBhg"
      },
      "execution_count": null,
      "outputs": []
    },
    {
      "cell_type": "code",
      "source": [
        "print(first_name ,'is', age , 'years old.')"
      ],
      "metadata": {
        "colab": {
          "base_uri": "https://localhost:8080/"
        },
        "id": "JPTb1L8YEITd",
        "outputId": "c7e914c3-cccd-4e85-b9f5-450219dd9b32"
      },
      "execution_count": null,
      "outputs": [
        {
          "output_type": "stream",
          "name": "stdout",
          "text": [
            "Sanjana is 34 years old.\n"
          ]
        }
      ]
    },
    {
      "cell_type": "markdown",
      "source": [
        "The last assignment is the one that matters."
      ],
      "metadata": {
        "id": "J0JG5pNjEOyl"
      }
    },
    {
      "cell_type": "code",
      "source": [
        "first_name = \"Sally\"\n",
        "print(first_name)"
      ],
      "metadata": {
        "id": "Ic2A8z0bEOJl",
        "colab": {
          "base_uri": "https://localhost:8080/"
        },
        "outputId": "2fcfa3c4-87ac-4f3f-be1f-d3fd221d2369"
      },
      "execution_count": null,
      "outputs": [
        {
          "output_type": "stream",
          "name": "stdout",
          "text": [
            "Sally\n"
          ]
        }
      ]
    },
    {
      "cell_type": "code",
      "source": [
        "age = age + 3\n",
        "print('Age in three years:', age)"
      ],
      "metadata": {
        "colab": {
          "base_uri": "https://localhost:8080/"
        },
        "id": "LFxEGt-SETu3",
        "outputId": "38f26c1d-4ac7-4349-e3f5-faa9d2097fd7"
      },
      "execution_count": null,
      "outputs": [
        {
          "output_type": "stream",
          "name": "stdout",
          "text": [
            "Age in three years: 40\n"
          ]
        }
      ]
    },
    {
      "cell_type": "markdown",
      "source": [
        "Python is a 0-indexed language...it starts counting at 0."
      ],
      "metadata": {
        "id": "j7elJnj7EXVE"
      }
    },
    {
      "cell_type": "code",
      "source": [
        "atom_name = 'helium'"
      ],
      "metadata": {
        "id": "JaduI4G4EWlz"
      },
      "execution_count": null,
      "outputs": []
    },
    {
      "cell_type": "code",
      "source": [
        "print(atom_name[0])"
      ],
      "metadata": {
        "colab": {
          "base_uri": "https://localhost:8080/"
        },
        "id": "wogJssemEgfJ",
        "outputId": "4e4d0be2-1c8c-4baa-af0f-fefcf558194a"
      },
      "execution_count": null,
      "outputs": [
        {
          "output_type": "stream",
          "name": "stdout",
          "text": [
            "h\n"
          ]
        }
      ]
    },
    {
      "cell_type": "code",
      "source": [
        "print(atom_name[4])"
      ],
      "metadata": {
        "colab": {
          "base_uri": "https://localhost:8080/"
        },
        "id": "TDhiVImREjy2",
        "outputId": "eeef35e0-38c1-4803-9b92-d49cdc0ab4b6"
      },
      "execution_count": null,
      "outputs": [
        {
          "output_type": "stream",
          "name": "stdout",
          "text": [
            "u\n"
          ]
        }
      ]
    },
    {
      "cell_type": "code",
      "source": [
        "print(atom_name[5])"
      ],
      "metadata": {
        "colab": {
          "base_uri": "https://localhost:8080/"
        },
        "id": "kquP7uTGEkuw",
        "outputId": "9f08378b-fc59-4a68-8ef9-94772a15e9a0"
      },
      "execution_count": null,
      "outputs": [
        {
          "output_type": "stream",
          "name": "stdout",
          "text": [
            "m\n"
          ]
        }
      ]
    },
    {
      "cell_type": "markdown",
      "source": [
        "Reverse indexing starts from -1"
      ],
      "metadata": {
        "id": "cFN4cSRWASGR"
      }
    },
    {
      "cell_type": "code",
      "source": [
        "print(atom_name[-2])"
      ],
      "metadata": {
        "id": "RK7yRSLOEpo8",
        "colab": {
          "base_uri": "https://localhost:8080/"
        },
        "outputId": "fea10a0f-83c1-4614-cd29-90806b92e510"
      },
      "execution_count": null,
      "outputs": [
        {
          "output_type": "stream",
          "name": "stdout",
          "text": [
            "u\n"
          ]
        }
      ]
    },
    {
      "cell_type": "code",
      "source": [
        "print(atom_name[0:3])"
      ],
      "metadata": {
        "id": "g3MPYNssEqTG",
        "colab": {
          "base_uri": "https://localhost:8080/"
        },
        "outputId": "c9ae5b04-d64a-4ae2-805f-4be4ae044560"
      },
      "execution_count": null,
      "outputs": [
        {
          "output_type": "stream",
          "name": "stdout",
          "text": [
            "hel\n"
          ]
        }
      ]
    },
    {
      "cell_type": "code",
      "source": [
        "atom_name = 'helium'\n",
        "start = 0\n",
        "stop = 5\n",
        "step = 2\n",
        "atom_name[start:stop:step]"
      ],
      "metadata": {
        "colab": {
          "base_uri": "https://localhost:8080/",
          "height": 36
        },
        "id": "Py66egJ1ApZf",
        "outputId": "cb7025e6-9aab-4d4d-a77b-40dc9187d356"
      },
      "execution_count": null,
      "outputs": [
        {
          "output_type": "execute_result",
          "data": {
            "text/plain": [
              "'hlu'"
            ],
            "application/vnd.google.colaboratory.intrinsic+json": {
              "type": "string"
            }
          },
          "metadata": {},
          "execution_count": 21
        }
      ]
    },
    {
      "cell_type": "markdown",
      "source": [
        "### Lists\n",
        "- Ordered collection of _elements_ (values or variables), each identified by an index.\n",
        "- Can be written as comma-separated values between square brackets `[...]`\n",
        "- Mutable\n",
        "- Usually the items in a list are of the same type\n",
        "- Use square brackets `[]` to access elements"
      ],
      "metadata": {
        "id": "F0lZwo2KyONW"
      }
    },
    {
      "cell_type": "code",
      "source": [
        "alist = []   #empty list or\n",
        "alist = list()\n",
        "\n",
        "colors = ['red', 'blue', 'green']"
      ],
      "metadata": {
        "id": "WuOkrK56yROJ"
      },
      "execution_count": null,
      "outputs": []
    },
    {
      "cell_type": "markdown",
      "source": [
        "![image.png](data:image/png;base64,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)"
      ],
      "metadata": {
        "id": "1FC4ydVMySW9"
      }
    },
    {
      "cell_type": "code",
      "source": [
        "print(colors)"
      ],
      "metadata": {
        "colab": {
          "base_uri": "https://localhost:8080/"
        },
        "id": "zYA2qpFIyZOw",
        "outputId": "67fd1584-3031-46b0-f775-22ac767313e7"
      },
      "execution_count": null,
      "outputs": [
        {
          "output_type": "stream",
          "name": "stdout",
          "text": [
            "['red', 'blue', 'green']\n"
          ]
        }
      ]
    },
    {
      "cell_type": "code",
      "source": [
        "print(colors[0])\n",
        "print(colors[-1]) "
      ],
      "metadata": {
        "colab": {
          "base_uri": "https://localhost:8080/"
        },
        "id": "iHNwKXpVyglA",
        "outputId": "6e93863e-0e9b-4833-b70c-553ba2946fa8"
      },
      "execution_count": null,
      "outputs": [
        {
          "output_type": "stream",
          "name": "stdout",
          "text": [
            "red\n",
            "green\n"
          ]
        }
      ]
    },
    {
      "cell_type": "markdown",
      "source": [
        "Use **slice** syntax to access part of a list -> `list[start:end:step]`"
      ],
      "metadata": {
        "id": "q_KX-qC7ykFa"
      }
    },
    {
      "cell_type": "code",
      "source": [
        "alist = [10,20,30,40,50,60,70,80,90,100]\n",
        "\n",
        "alist[1:9:2]"
      ],
      "metadata": {
        "colab": {
          "base_uri": "https://localhost:8080/"
        },
        "id": "4QdDYwSfynBS",
        "outputId": "fdafc2f3-70f2-4cd5-dff5-d54d69b2458d"
      },
      "execution_count": null,
      "outputs": [
        {
          "output_type": "execute_result",
          "data": {
            "text/plain": [
              "[20, 40, 60, 80]"
            ]
          },
          "metadata": {},
          "execution_count": 38
        }
      ]
    },
    {
      "cell_type": "markdown",
      "source": [
        "Negative indexing"
      ],
      "metadata": {
        "id": "4klCn7seyroy"
      }
    },
    {
      "cell_type": "code",
      "source": [
        "alist[-1:-10:-2]"
      ],
      "metadata": {
        "colab": {
          "base_uri": "https://localhost:8080/"
        },
        "id": "PzhrXsNRyqWN",
        "outputId": "977cd2db-00a3-4cd1-b55c-bb36237704e1"
      },
      "execution_count": null,
      "outputs": [
        {
          "output_type": "execute_result",
          "data": {
            "text/plain": [
              "[100, 80, 60, 40, 20]"
            ]
          },
          "metadata": {},
          "execution_count": 39
        }
      ]
    },
    {
      "cell_type": "markdown",
      "source": [
        "Count the number of elements in the list."
      ],
      "metadata": {
        "id": "C8S04_0uy46f"
      }
    },
    {
      "cell_type": "code",
      "source": [
        "print(len(alist))\n",
        "alist.append(110)\n",
        "\n",
        "blist = [120,130]\n",
        "alist.extend(blist)\n",
        "\n",
        "alist"
      ],
      "metadata": {
        "colab": {
          "base_uri": "https://localhost:8080/"
        },
        "id": "ELKG8_VCy63T",
        "outputId": "41f3de5a-498d-4782-93eb-4a17fd269afc"
      },
      "execution_count": null,
      "outputs": [
        {
          "output_type": "stream",
          "name": "stdout",
          "text": [
            "11\n"
          ]
        },
        {
          "output_type": "execute_result",
          "data": {
            "text/plain": [
              "[10, 20, 30, 40, 50, 60, 70, 80, 90, 100, 110, 110, 120, 130]"
            ]
          },
          "metadata": {},
          "execution_count": 41
        }
      ]
    },
    {
      "cell_type": "markdown",
      "source": [
        "### Dictionaries\n",
        "- Unordered collections of objects\n",
        "- Composed of keys and values\n",
        "- Created with curly brackets `{...}`"
      ],
      "metadata": {
        "id": "zvHyXDSJy-SS"
      }
    },
    {
      "cell_type": "code",
      "source": [
        "example_dict = {'name':'Jaime', 'age':30, 'occupation':'speech pathologist'}\n",
        "adict = {1:'sally', 2:'Jamie', 3:'Raj'}\n",
        "\n",
        "print(example_dict)\n",
        "adict"
      ],
      "metadata": {
        "colab": {
          "base_uri": "https://localhost:8080/"
        },
        "id": "4pg3TcQHzMzG",
        "outputId": "351df6cd-df72-441c-bd5b-b7b453b00cb5"
      },
      "execution_count": null,
      "outputs": [
        {
          "output_type": "stream",
          "name": "stdout",
          "text": [
            "{'name': 'Jaime', 'age': 30, 'occupation': 'speech pathologist'}\n"
          ]
        },
        {
          "output_type": "execute_result",
          "data": {
            "text/plain": [
              "{1: 'sally', 2: 'Jamie', 3: 'Raj'}"
            ]
          },
          "metadata": {},
          "execution_count": 44
        }
      ]
    },
    {
      "cell_type": "markdown",
      "source": [
        "Look up values by key with `[...]` syntax or `.get()` method."
      ],
      "metadata": {
        "id": "fVHkr8P-zpF4"
      }
    },
    {
      "cell_type": "code",
      "source": [
        "example_dict['age']\n",
        "example_dict['id'] = 342   # Adds new item to dictionary\n",
        "example_dict\n",
        "# example_dict.get('age')"
      ],
      "metadata": {
        "colab": {
          "base_uri": "https://localhost:8080/"
        },
        "id": "XWb4BupizsaL",
        "outputId": "5abb1b00-aef2-4f0a-cd17-d2d173d823d4"
      },
      "execution_count": null,
      "outputs": [
        {
          "output_type": "execute_result",
          "data": {
            "text/plain": [
              "{'name': 'Jaime', 'age': 30, 'occupation': 'speech pathologist', 'id': 342}"
            ]
          },
          "metadata": {},
          "execution_count": 47
        }
      ]
    },
    {
      "cell_type": "code",
      "source": [
        "example_dict.keys()"
      ],
      "metadata": {
        "colab": {
          "base_uri": "https://localhost:8080/"
        },
        "id": "GsVE_q8e0gP_",
        "outputId": "b1e7a32f-515d-43d5-ac94-aa428a0f8fff"
      },
      "execution_count": null,
      "outputs": [
        {
          "output_type": "execute_result",
          "data": {
            "text/plain": [
              "dict_keys(['name', 'age', 'occupation'])"
            ]
          },
          "metadata": {},
          "execution_count": 136
        }
      ]
    },
    {
      "cell_type": "markdown",
      "source": [
        "### Function and object method calls\n",
        "Functions are called using parenthesis and passing zero or more arguments. Optionally, you can assign the returned value to a variable. \n",
        "\n",
        "`result = f(x, y, z)`\n",
        "\n",
        "`g()`"
      ],
      "metadata": {
        "id": "ZWw1iLFHzzAW"
      }
    },
    {
      "cell_type": "code",
      "source": [
        "len(example_dict)"
      ],
      "metadata": {
        "colab": {
          "base_uri": "https://localhost:8080/"
        },
        "id": "JUX9eFBM0jop",
        "outputId": "ca934a48-e06d-4513-c5d8-185793d03958"
      },
      "execution_count": null,
      "outputs": [
        {
          "output_type": "execute_result",
          "data": {
            "text/plain": [
              "4"
            ]
          },
          "metadata": {},
          "execution_count": 48
        }
      ]
    },
    {
      "cell_type": "code",
      "source": [
        "print(\"this is a function\")"
      ],
      "metadata": {
        "colab": {
          "base_uri": "https://localhost:8080/"
        },
        "id": "ljuC6asU0rpM",
        "outputId": "bc673c1f-ec86-4bf9-f637-682a21a88513"
      },
      "execution_count": null,
      "outputs": [
        {
          "output_type": "stream",
          "name": "stdout",
          "text": [
            "this is a function\n"
          ]
        }
      ]
    },
    {
      "cell_type": "code",
      "source": [
        "help(help)"
      ],
      "metadata": {
        "id": "wafksltR0uJp",
        "colab": {
          "base_uri": "https://localhost:8080/"
        },
        "outputId": "2cacb8fb-082b-4e39-f07d-4e5796588aa8"
      },
      "execution_count": null,
      "outputs": [
        {
          "output_type": "stream",
          "name": "stdout",
          "text": [
            "Help on _Helper in module _sitebuiltins object:\n",
            "\n",
            "class _Helper(builtins.object)\n",
            " |  Define the builtin 'help'.\n",
            " |  \n",
            " |  This is a wrapper around pydoc.help that provides a helpful message\n",
            " |  when 'help' is typed at the Python interactive prompt.\n",
            " |  \n",
            " |  Calling help() at the Python prompt starts an interactive help session.\n",
            " |  Calling help(thing) prints help for the python object 'thing'.\n",
            " |  \n",
            " |  Methods defined here:\n",
            " |  \n",
            " |  __call__(self, *args, **kwds)\n",
            " |      Call self as a function.\n",
            " |  \n",
            " |  __repr__(self)\n",
            " |      Return repr(self).\n",
            " |  \n",
            " |  ----------------------------------------------------------------------\n",
            " |  Data descriptors defined here:\n",
            " |  \n",
            " |  __dict__\n",
            " |      dictionary for instance variables (if defined)\n",
            " |  \n",
            " |  __weakref__\n",
            " |      list of weak references to the object (if defined)\n",
            "\n"
          ]
        }
      ]
    },
    {
      "cell_type": "markdown",
      "source": [
        "Functions can take _positional_ and _keyword_ arguments.\n",
        "\n",
        "`f(a, b, c, d=5, e='foo')`"
      ],
      "metadata": {
        "id": "pcUdu9uH0B4g"
      }
    },
    {
      "cell_type": "markdown",
      "source": [
        "Many Python objects have attached functions, or _methods_ to access internal contents. Call them with _dot syntax_.\n",
        "\n",
        "`obj.myMethod(x, y)`"
      ],
      "metadata": {
        "id": "oKAVjlFX0JLq"
      }
    },
    {
      "cell_type": "code",
      "source": [
        "# Write a fucntion to add two integers\n",
        "def addIntegers(a , b):\n",
        "  sum = a + b \n",
        "  # return sum or\n",
        "  print(sum)\n",
        "\n",
        "addIntegers(57, 98)"
      ],
      "metadata": {
        "colab": {
          "base_uri": "https://localhost:8080/"
        },
        "id": "4rAchsaqFUkU",
        "outputId": "1ce06f9e-d3cf-4961-bc4e-78514cf51308"
      },
      "execution_count": null,
      "outputs": [
        {
          "output_type": "stream",
          "name": "stdout",
          "text": [
            "155\n"
          ]
        }
      ]
    },
    {
      "cell_type": "markdown",
      "source": [
        "### Modules\n",
        "\n",
        "A **module** is a _.py_ file containing a set of functions that can be imported and included in your application. There are several ways to use modules:\n",
        "* Import the entire module: _`import module`_\n",
        "* Import only specific functions with **`from`**: _**`from`** `module import function1, function2, ...`_\n",
        "* Rename a module by using the **`as`** keyword: _`import module` **`as`** `alias`_"
      ],
      "metadata": {
        "id": "JaUPNNdW0bOb"
      }
    },
    {
      "cell_type": "code",
      "source": [
        "# Import the entire module\n",
        "import statistics"
      ],
      "metadata": {
        "id": "0RGlplm117dn"
      },
      "execution_count": null,
      "outputs": []
    },
    {
      "cell_type": "code",
      "source": [
        "help(statistics)"
      ],
      "metadata": {
        "colab": {
          "base_uri": "https://localhost:8080/"
        },
        "id": "yX1naCAH2ea4",
        "outputId": "d5691667-0d02-496c-da93-af1177cc1964"
      },
      "execution_count": null,
      "outputs": [
        {
          "output_type": "stream",
          "name": "stdout",
          "text": [
            "Help on module statistics:\n",
            "\n",
            "NAME\n",
            "    statistics - Basic statistics module.\n",
            "\n",
            "MODULE REFERENCE\n",
            "    https://docs.python.org/3.8/library/statistics\n",
            "    \n",
            "    The following documentation is automatically generated from the Python\n",
            "    source files.  It may be incomplete, incorrect or include features that\n",
            "    are considered implementation detail and may vary between Python\n",
            "    implementations.  When in doubt, consult the module reference at the\n",
            "    location listed above.\n",
            "\n",
            "DESCRIPTION\n",
            "    This module provides functions for calculating statistics of data, including\n",
            "    averages, variance, and standard deviation.\n",
            "    \n",
            "    Calculating averages\n",
            "    --------------------\n",
            "    \n",
            "    ==================  ==================================================\n",
            "    Function            Description\n",
            "    ==================  ==================================================\n",
            "    mean                Arithmetic mean (average) of data.\n",
            "    fmean               Fast, floating point arithmetic mean.\n",
            "    geometric_mean      Geometric mean of data.\n",
            "    harmonic_mean       Harmonic mean of data.\n",
            "    median              Median (middle value) of data.\n",
            "    median_low          Low median of data.\n",
            "    median_high         High median of data.\n",
            "    median_grouped      Median, or 50th percentile, of grouped data.\n",
            "    mode                Mode (most common value) of data.\n",
            "    multimode           List of modes (most common values of data).\n",
            "    quantiles           Divide data into intervals with equal probability.\n",
            "    ==================  ==================================================\n",
            "    \n",
            "    Calculate the arithmetic mean (\"the average\") of data:\n",
            "    \n",
            "    >>> mean([-1.0, 2.5, 3.25, 5.75])\n",
            "    2.625\n",
            "    \n",
            "    \n",
            "    Calculate the standard median of discrete data:\n",
            "    \n",
            "    >>> median([2, 3, 4, 5])\n",
            "    3.5\n",
            "    \n",
            "    \n",
            "    Calculate the median, or 50th percentile, of data grouped into class intervals\n",
            "    centred on the data values provided. E.g. if your data points are rounded to\n",
            "    the nearest whole number:\n",
            "    \n",
            "    >>> median_grouped([2, 2, 3, 3, 3, 4])  #doctest: +ELLIPSIS\n",
            "    2.8333333333...\n",
            "    \n",
            "    This should be interpreted in this way: you have two data points in the class\n",
            "    interval 1.5-2.5, three data points in the class interval 2.5-3.5, and one in\n",
            "    the class interval 3.5-4.5. The median of these data points is 2.8333...\n",
            "    \n",
            "    \n",
            "    Calculating variability or spread\n",
            "    ---------------------------------\n",
            "    \n",
            "    ==================  =============================================\n",
            "    Function            Description\n",
            "    ==================  =============================================\n",
            "    pvariance           Population variance of data.\n",
            "    variance            Sample variance of data.\n",
            "    pstdev              Population standard deviation of data.\n",
            "    stdev               Sample standard deviation of data.\n",
            "    ==================  =============================================\n",
            "    \n",
            "    Calculate the standard deviation of sample data:\n",
            "    \n",
            "    >>> stdev([2.5, 3.25, 5.5, 11.25, 11.75])  #doctest: +ELLIPSIS\n",
            "    4.38961843444...\n",
            "    \n",
            "    If you have previously calculated the mean, you can pass it as the optional\n",
            "    second argument to the four \"spread\" functions to avoid recalculating it:\n",
            "    \n",
            "    >>> data = [1, 2, 2, 4, 4, 4, 5, 6]\n",
            "    >>> mu = mean(data)\n",
            "    >>> pvariance(data, mu)\n",
            "    2.5\n",
            "    \n",
            "    \n",
            "    Exceptions\n",
            "    ----------\n",
            "    \n",
            "    A single exception is defined: StatisticsError is a subclass of ValueError.\n",
            "\n",
            "CLASSES\n",
            "    builtins.ValueError(builtins.Exception)\n",
            "        StatisticsError\n",
            "    builtins.object\n",
            "        NormalDist\n",
            "    \n",
            "    class NormalDist(builtins.object)\n",
            "     |  NormalDist(mu=0.0, sigma=1.0)\n",
            "     |  \n",
            "     |  Normal distribution of a random variable\n",
            "     |  \n",
            "     |  Methods defined here:\n",
            "     |  \n",
            "     |  __add__(x1, x2)\n",
            "     |      Add a constant or another NormalDist instance.\n",
            "     |      \n",
            "     |      If *other* is a constant, translate mu by the constant,\n",
            "     |      leaving sigma unchanged.\n",
            "     |      \n",
            "     |      If *other* is a NormalDist, add both the means and the variances.\n",
            "     |      Mathematically, this works only if the two distributions are\n",
            "     |      independent or if they are jointly normally distributed.\n",
            "     |  \n",
            "     |  __eq__(x1, x2)\n",
            "     |      Two NormalDist objects are equal if their mu and sigma are both equal.\n",
            "     |  \n",
            "     |  __hash__(self)\n",
            "     |      NormalDist objects hash equal if their mu and sigma are both equal.\n",
            "     |  \n",
            "     |  __init__(self, mu=0.0, sigma=1.0)\n",
            "     |      NormalDist where mu is the mean and sigma is the standard deviation.\n",
            "     |  \n",
            "     |  __mul__(x1, x2)\n",
            "     |      Multiply both mu and sigma by a constant.\n",
            "     |      \n",
            "     |      Used for rescaling, perhaps to change measurement units.\n",
            "     |      Sigma is scaled with the absolute value of the constant.\n",
            "     |  \n",
            "     |  __neg__(x1)\n",
            "     |      Negates mu while keeping sigma the same.\n",
            "     |  \n",
            "     |  __pos__(x1)\n",
            "     |      Return a copy of the instance.\n",
            "     |  \n",
            "     |  __radd__ = __add__(x1, x2)\n",
            "     |  \n",
            "     |  __repr__(self)\n",
            "     |      Return repr(self).\n",
            "     |  \n",
            "     |  __rmul__ = __mul__(x1, x2)\n",
            "     |  \n",
            "     |  __rsub__(x1, x2)\n",
            "     |      Subtract a NormalDist from a constant or another NormalDist.\n",
            "     |  \n",
            "     |  __sub__(x1, x2)\n",
            "     |      Subtract a constant or another NormalDist instance.\n",
            "     |      \n",
            "     |      If *other* is a constant, translate by the constant mu,\n",
            "     |      leaving sigma unchanged.\n",
            "     |      \n",
            "     |      If *other* is a NormalDist, subtract the means and add the variances.\n",
            "     |      Mathematically, this works only if the two distributions are\n",
            "     |      independent or if they are jointly normally distributed.\n",
            "     |  \n",
            "     |  __truediv__(x1, x2)\n",
            "     |      Divide both mu and sigma by a constant.\n",
            "     |      \n",
            "     |      Used for rescaling, perhaps to change measurement units.\n",
            "     |      Sigma is scaled with the absolute value of the constant.\n",
            "     |  \n",
            "     |  cdf(self, x)\n",
            "     |      Cumulative distribution function.  P(X <= x)\n",
            "     |  \n",
            "     |  inv_cdf(self, p)\n",
            "     |      Inverse cumulative distribution function.  x : P(X <= x) = p\n",
            "     |      \n",
            "     |      Finds the value of the random variable such that the probability of\n",
            "     |      the variable being less than or equal to that value equals the given\n",
            "     |      probability.\n",
            "     |      \n",
            "     |      This function is also called the percent point function or quantile\n",
            "     |      function.\n",
            "     |  \n",
            "     |  overlap(self, other)\n",
            "     |      Compute the overlapping coefficient (OVL) between two normal distributions.\n",
            "     |      \n",
            "     |      Measures the agreement between two normal probability distributions.\n",
            "     |      Returns a value between 0.0 and 1.0 giving the overlapping area in\n",
            "     |      the two underlying probability density functions.\n",
            "     |      \n",
            "     |          >>> N1 = NormalDist(2.4, 1.6)\n",
            "     |          >>> N2 = NormalDist(3.2, 2.0)\n",
            "     |          >>> N1.overlap(N2)\n",
            "     |          0.8035050657330205\n",
            "     |  \n",
            "     |  pdf(self, x)\n",
            "     |      Probability density function.  P(x <= X < x+dx) / dx\n",
            "     |  \n",
            "     |  quantiles(self, n=4)\n",
            "     |      Divide into *n* continuous intervals with equal probability.\n",
            "     |      \n",
            "     |      Returns a list of (n - 1) cut points separating the intervals.\n",
            "     |      \n",
            "     |      Set *n* to 4 for quartiles (the default).  Set *n* to 10 for deciles.\n",
            "     |      Set *n* to 100 for percentiles which gives the 99 cuts points that\n",
            "     |      separate the normal distribution in to 100 equal sized groups.\n",
            "     |  \n",
            "     |  samples(self, n, *, seed=None)\n",
            "     |      Generate *n* samples for a given mean and standard deviation.\n",
            "     |  \n",
            "     |  ----------------------------------------------------------------------\n",
            "     |  Class methods defined here:\n",
            "     |  \n",
            "     |  from_samples(data) from builtins.type\n",
            "     |      Make a normal distribution instance from sample data.\n",
            "     |  \n",
            "     |  ----------------------------------------------------------------------\n",
            "     |  Readonly properties defined here:\n",
            "     |  \n",
            "     |  mean\n",
            "     |      Arithmetic mean of the normal distribution.\n",
            "     |  \n",
            "     |  median\n",
            "     |      Return the median of the normal distribution\n",
            "     |  \n",
            "     |  mode\n",
            "     |      Return the mode of the normal distribution\n",
            "     |      \n",
            "     |      The mode is the value x where which the probability density\n",
            "     |      function (pdf) takes its maximum value.\n",
            "     |  \n",
            "     |  stdev\n",
            "     |      Standard deviation of the normal distribution.\n",
            "     |  \n",
            "     |  variance\n",
            "     |      Square of the standard deviation.\n",
            "    \n",
            "    class StatisticsError(builtins.ValueError)\n",
            "     |  Inappropriate argument value (of correct type).\n",
            "     |  \n",
            "     |  Method resolution order:\n",
            "     |      StatisticsError\n",
            "     |      builtins.ValueError\n",
            "     |      builtins.Exception\n",
            "     |      builtins.BaseException\n",
            "     |      builtins.object\n",
            "     |  \n",
            "     |  Data descriptors defined here:\n",
            "     |  \n",
            "     |  __weakref__\n",
            "     |      list of weak references to the object (if defined)\n",
            "     |  \n",
            "     |  ----------------------------------------------------------------------\n",
            "     |  Methods inherited from builtins.ValueError:\n",
            "     |  \n",
            "     |  __init__(self, /, *args, **kwargs)\n",
            "     |      Initialize self.  See help(type(self)) for accurate signature.\n",
            "     |  \n",
            "     |  ----------------------------------------------------------------------\n",
            "     |  Static methods inherited from builtins.ValueError:\n",
            "     |  \n",
            "     |  __new__(*args, **kwargs) from builtins.type\n",
            "     |      Create and return a new object.  See help(type) for accurate signature.\n",
            "     |  \n",
            "     |  ----------------------------------------------------------------------\n",
            "     |  Methods inherited from builtins.BaseException:\n",
            "     |  \n",
            "     |  __delattr__(self, name, /)\n",
            "     |      Implement delattr(self, name).\n",
            "     |  \n",
            "     |  __getattribute__(self, name, /)\n",
            "     |      Return getattr(self, name).\n",
            "     |  \n",
            "     |  __reduce__(...)\n",
            "     |      Helper for pickle.\n",
            "     |  \n",
            "     |  __repr__(self, /)\n",
            "     |      Return repr(self).\n",
            "     |  \n",
            "     |  __setattr__(self, name, value, /)\n",
            "     |      Implement setattr(self, name, value).\n",
            "     |  \n",
            "     |  __setstate__(...)\n",
            "     |  \n",
            "     |  __str__(self, /)\n",
            "     |      Return str(self).\n",
            "     |  \n",
            "     |  with_traceback(...)\n",
            "     |      Exception.with_traceback(tb) --\n",
            "     |      set self.__traceback__ to tb and return self.\n",
            "     |  \n",
            "     |  ----------------------------------------------------------------------\n",
            "     |  Data descriptors inherited from builtins.BaseException:\n",
            "     |  \n",
            "     |  __cause__\n",
            "     |      exception cause\n",
            "     |  \n",
            "     |  __context__\n",
            "     |      exception context\n",
            "     |  \n",
            "     |  __dict__\n",
            "     |  \n",
            "     |  __suppress_context__\n",
            "     |  \n",
            "     |  __traceback__\n",
            "     |  \n",
            "     |  args\n",
            "\n",
            "FUNCTIONS\n",
            "    fmean(data)\n",
            "        Convert data to floats and compute the arithmetic mean.\n",
            "        \n",
            "        This runs faster than the mean() function and it always returns a float.\n",
            "        If the input dataset is empty, it raises a StatisticsError.\n",
            "        \n",
            "        >>> fmean([3.5, 4.0, 5.25])\n",
            "        4.25\n",
            "    \n",
            "    geometric_mean(data)\n",
            "        Convert data to floats and compute the geometric mean.\n",
            "        \n",
            "        Raises a StatisticsError if the input dataset is empty,\n",
            "        if it contains a zero, or if it contains a negative value.\n",
            "        \n",
            "        No special efforts are made to achieve exact results.\n",
            "        (However, this may change in the future.)\n",
            "        \n",
            "        >>> round(geometric_mean([54, 24, 36]), 9)\n",
            "        36.0\n",
            "    \n",
            "    harmonic_mean(data)\n",
            "        Return the harmonic mean of data.\n",
            "        \n",
            "        The harmonic mean, sometimes called the subcontrary mean, is the\n",
            "        reciprocal of the arithmetic mean of the reciprocals of the data,\n",
            "        and is often appropriate when averaging quantities which are rates\n",
            "        or ratios, for example speeds. Example:\n",
            "        \n",
            "        Suppose an investor purchases an equal value of shares in each of\n",
            "        three companies, with P/E (price/earning) ratios of 2.5, 3 and 10.\n",
            "        What is the average P/E ratio for the investor's portfolio?\n",
            "        \n",
            "        >>> harmonic_mean([2.5, 3, 10])  # For an equal investment portfolio.\n",
            "        3.6\n",
            "        \n",
            "        Using the arithmetic mean would give an average of about 5.167, which\n",
            "        is too high.\n",
            "        \n",
            "        If ``data`` is empty, or any element is less than zero,\n",
            "        ``harmonic_mean`` will raise ``StatisticsError``.\n",
            "    \n",
            "    mean(data)\n",
            "        Return the sample arithmetic mean of data.\n",
            "        \n",
            "        >>> mean([1, 2, 3, 4, 4])\n",
            "        2.8\n",
            "        \n",
            "        >>> from fractions import Fraction as F\n",
            "        >>> mean([F(3, 7), F(1, 21), F(5, 3), F(1, 3)])\n",
            "        Fraction(13, 21)\n",
            "        \n",
            "        >>> from decimal import Decimal as D\n",
            "        >>> mean([D(\"0.5\"), D(\"0.75\"), D(\"0.625\"), D(\"0.375\")])\n",
            "        Decimal('0.5625')\n",
            "        \n",
            "        If ``data`` is empty, StatisticsError will be raised.\n",
            "    \n",
            "    median(data)\n",
            "        Return the median (middle value) of numeric data.\n",
            "        \n",
            "        When the number of data points is odd, return the middle data point.\n",
            "        When the number of data points is even, the median is interpolated by\n",
            "        taking the average of the two middle values:\n",
            "        \n",
            "        >>> median([1, 3, 5])\n",
            "        3\n",
            "        >>> median([1, 3, 5, 7])\n",
            "        4.0\n",
            "    \n",
            "    median_grouped(data, interval=1)\n",
            "        Return the 50th percentile (median) of grouped continuous data.\n",
            "        \n",
            "        >>> median_grouped([1, 2, 2, 3, 4, 4, 4, 4, 4, 5])\n",
            "        3.7\n",
            "        >>> median_grouped([52, 52, 53, 54])\n",
            "        52.5\n",
            "        \n",
            "        This calculates the median as the 50th percentile, and should be\n",
            "        used when your data is continuous and grouped. In the above example,\n",
            "        the values 1, 2, 3, etc. actually represent the midpoint of classes\n",
            "        0.5-1.5, 1.5-2.5, 2.5-3.5, etc. The middle value falls somewhere in\n",
            "        class 3.5-4.5, and interpolation is used to estimate it.\n",
            "        \n",
            "        Optional argument ``interval`` represents the class interval, and\n",
            "        defaults to 1. Changing the class interval naturally will change the\n",
            "        interpolated 50th percentile value:\n",
            "        \n",
            "        >>> median_grouped([1, 3, 3, 5, 7], interval=1)\n",
            "        3.25\n",
            "        >>> median_grouped([1, 3, 3, 5, 7], interval=2)\n",
            "        3.5\n",
            "        \n",
            "        This function does not check whether the data points are at least\n",
            "        ``interval`` apart.\n",
            "    \n",
            "    median_high(data)\n",
            "        Return the high median of data.\n",
            "        \n",
            "        When the number of data points is odd, the middle value is returned.\n",
            "        When it is even, the larger of the two middle values is returned.\n",
            "        \n",
            "        >>> median_high([1, 3, 5])\n",
            "        3\n",
            "        >>> median_high([1, 3, 5, 7])\n",
            "        5\n",
            "    \n",
            "    median_low(data)\n",
            "        Return the low median of numeric data.\n",
            "        \n",
            "        When the number of data points is odd, the middle value is returned.\n",
            "        When it is even, the smaller of the two middle values is returned.\n",
            "        \n",
            "        >>> median_low([1, 3, 5])\n",
            "        3\n",
            "        >>> median_low([1, 3, 5, 7])\n",
            "        3\n",
            "    \n",
            "    mode(data)\n",
            "        Return the most common data point from discrete or nominal data.\n",
            "        \n",
            "        ``mode`` assumes discrete data, and returns a single value. This is the\n",
            "        standard treatment of the mode as commonly taught in schools:\n",
            "        \n",
            "            >>> mode([1, 1, 2, 3, 3, 3, 3, 4])\n",
            "            3\n",
            "        \n",
            "        This also works with nominal (non-numeric) data:\n",
            "        \n",
            "            >>> mode([\"red\", \"blue\", \"blue\", \"red\", \"green\", \"red\", \"red\"])\n",
            "            'red'\n",
            "        \n",
            "        If there are multiple modes with same frequency, return the first one\n",
            "        encountered:\n",
            "        \n",
            "            >>> mode(['red', 'red', 'green', 'blue', 'blue'])\n",
            "            'red'\n",
            "        \n",
            "        If *data* is empty, ``mode``, raises StatisticsError.\n",
            "    \n",
            "    multimode(data)\n",
            "        Return a list of the most frequently occurring values.\n",
            "        \n",
            "        Will return more than one result if there are multiple modes\n",
            "        or an empty list if *data* is empty.\n",
            "        \n",
            "        >>> multimode('aabbbbbbbbcc')\n",
            "        ['b']\n",
            "        >>> multimode('aabbbbccddddeeffffgg')\n",
            "        ['b', 'd', 'f']\n",
            "        >>> multimode('')\n",
            "        []\n",
            "    \n",
            "    pstdev(data, mu=None)\n",
            "        Return the square root of the population variance.\n",
            "        \n",
            "        See ``pvariance`` for arguments and other details.\n",
            "        \n",
            "        >>> pstdev([1.5, 2.5, 2.5, 2.75, 3.25, 4.75])\n",
            "        0.986893273527251\n",
            "    \n",
            "    pvariance(data, mu=None)\n",
            "        Return the population variance of ``data``.\n",
            "        \n",
            "        data should be a sequence or iterable of Real-valued numbers, with at least one\n",
            "        value. The optional argument mu, if given, should be the mean of\n",
            "        the data. If it is missing or None, the mean is automatically calculated.\n",
            "        \n",
            "        Use this function to calculate the variance from the entire population.\n",
            "        To estimate the variance from a sample, the ``variance`` function is\n",
            "        usually a better choice.\n",
            "        \n",
            "        Examples:\n",
            "        \n",
            "        >>> data = [0.0, 0.25, 0.25, 1.25, 1.5, 1.75, 2.75, 3.25]\n",
            "        >>> pvariance(data)\n",
            "        1.25\n",
            "        \n",
            "        If you have already calculated the mean of the data, you can pass it as\n",
            "        the optional second argument to avoid recalculating it:\n",
            "        \n",
            "        >>> mu = mean(data)\n",
            "        >>> pvariance(data, mu)\n",
            "        1.25\n",
            "        \n",
            "        Decimals and Fractions are supported:\n",
            "        \n",
            "        >>> from decimal import Decimal as D\n",
            "        >>> pvariance([D(\"27.5\"), D(\"30.25\"), D(\"30.25\"), D(\"34.5\"), D(\"41.75\")])\n",
            "        Decimal('24.815')\n",
            "        \n",
            "        >>> from fractions import Fraction as F\n",
            "        >>> pvariance([F(1, 4), F(5, 4), F(1, 2)])\n",
            "        Fraction(13, 72)\n",
            "    \n",
            "    quantiles(data, *, n=4, method='exclusive')\n",
            "        Divide *data* into *n* continuous intervals with equal probability.\n",
            "        \n",
            "        Returns a list of (n - 1) cut points separating the intervals.\n",
            "        \n",
            "        Set *n* to 4 for quartiles (the default).  Set *n* to 10 for deciles.\n",
            "        Set *n* to 100 for percentiles which gives the 99 cuts points that\n",
            "        separate *data* in to 100 equal sized groups.\n",
            "        \n",
            "        The *data* can be any iterable containing sample.\n",
            "        The cut points are linearly interpolated between data points.\n",
            "        \n",
            "        If *method* is set to *inclusive*, *data* is treated as population\n",
            "        data.  The minimum value is treated as the 0th percentile and the\n",
            "        maximum value is treated as the 100th percentile.\n",
            "    \n",
            "    stdev(data, xbar=None)\n",
            "        Return the square root of the sample variance.\n",
            "        \n",
            "        See ``variance`` for arguments and other details.\n",
            "        \n",
            "        >>> stdev([1.5, 2.5, 2.5, 2.75, 3.25, 4.75])\n",
            "        1.0810874155219827\n",
            "    \n",
            "    variance(data, xbar=None)\n",
            "        Return the sample variance of data.\n",
            "        \n",
            "        data should be an iterable of Real-valued numbers, with at least two\n",
            "        values. The optional argument xbar, if given, should be the mean of\n",
            "        the data. If it is missing or None, the mean is automatically calculated.\n",
            "        \n",
            "        Use this function when your data is a sample from a population. To\n",
            "        calculate the variance from the entire population, see ``pvariance``.\n",
            "        \n",
            "        Examples:\n",
            "        \n",
            "        >>> data = [2.75, 1.75, 1.25, 0.25, 0.5, 1.25, 3.5]\n",
            "        >>> variance(data)\n",
            "        1.3720238095238095\n",
            "        \n",
            "        If you have already calculated the mean of your data, you can pass it as\n",
            "        the optional second argument ``xbar`` to avoid recalculating it:\n",
            "        \n",
            "        >>> m = mean(data)\n",
            "        >>> variance(data, m)\n",
            "        1.3720238095238095\n",
            "        \n",
            "        This function does not check that ``xbar`` is actually the mean of\n",
            "        ``data``. Giving arbitrary values for ``xbar`` may lead to invalid or\n",
            "        impossible results.\n",
            "        \n",
            "        Decimals and Fractions are supported:\n",
            "        \n",
            "        >>> from decimal import Decimal as D\n",
            "        >>> variance([D(\"27.5\"), D(\"30.25\"), D(\"30.25\"), D(\"34.5\"), D(\"41.75\")])\n",
            "        Decimal('31.01875')\n",
            "        \n",
            "        >>> from fractions import Fraction as F\n",
            "        >>> variance([F(1, 6), F(1, 2), F(5, 3)])\n",
            "        Fraction(67, 108)\n",
            "\n",
            "DATA\n",
            "    __all__ = ['NormalDist', 'StatisticsError', 'fmean', 'geometric_mean',...\n",
            "\n",
            "FILE\n",
            "    /usr/lib/python3.8/statistics.py\n",
            "\n",
            "\n"
          ]
        }
      ]
    },
    {
      "cell_type": "code",
      "source": [
        "# import statistics as stats\n",
        "from statistics import mean"
      ],
      "metadata": {
        "id": "QheRb-VkHWky"
      },
      "execution_count": null,
      "outputs": []
    },
    {
      "cell_type": "code",
      "source": [
        "alist = [3,5,6,2,7,9]\n",
        "mean(alist)"
      ],
      "metadata": {
        "colab": {
          "base_uri": "https://localhost:8080/"
        },
        "id": "-ORiLmYXHIEs",
        "outputId": "637c3338-f922-4c81-d906-3e0f5973c1c4"
      },
      "execution_count": null,
      "outputs": [
        {
          "output_type": "execute_result",
          "data": {
            "text/plain": [
              "5.333333333333333"
            ]
          },
          "metadata": {},
          "execution_count": 62
        }
      ]
    },
    {
      "cell_type": "markdown",
      "source": [
        "Import specific functions from a module as:\n",
        "\n",
        "`from <module> import <function>`"
      ],
      "metadata": {
        "id": "7Ojvz3Bv2nWL"
      }
    },
    {
      "cell_type": "code",
      "source": [
        "# Import specific functions\n",
        "from math import ceil, floor, sqrt\n",
        "\n",
        "print(ceil(2.1), floor(4.78), sqrt(25))\n",
        "# sqrt(4)\n",
        "\n",
        "# import a submodule from a package: \n",
        "from pandas import Series"
      ],
      "metadata": {
        "colab": {
          "base_uri": "https://localhost:8080/"
        },
        "id": "pIBLwfSv2-L3",
        "outputId": "c0b863b4-ad2e-4156-9fcb-f2e2935babd0"
      },
      "execution_count": null,
      "outputs": [
        {
          "output_type": "stream",
          "name": "stdout",
          "text": [
            "3 4 5.0\n"
          ]
        }
      ]
    },
    {
      "cell_type": "markdown",
      "source": [
        "Rename a module with an alias:\n",
        "\n",
        "`import <module> as <alias>`"
      ],
      "metadata": {
        "id": "xz5DfH9Z36-I"
      }
    },
    {
      "cell_type": "code",
      "source": [
        "import pandas as pd"
      ],
      "metadata": {
        "id": "l-lKm9k54ICT"
      },
      "execution_count": null,
      "outputs": []
    },
    {
      "cell_type": "markdown",
      "source": [
        "\n",
        "\n",
        "---\n",
        "\n",
        "\n",
        "\n",
        "---\n",
        "\n"
      ],
      "metadata": {
        "id": "K1Bb-ANj15xy"
      }
    },
    {
      "cell_type": "markdown",
      "source": [
        "# AMI and Wholesale Price Data"
      ],
      "metadata": {
        "id": "oGrdZptv3EA5"
      }
    },
    {
      "cell_type": "markdown",
      "metadata": {
        "id": "u4Cu09hiKCjv"
      },
      "source": [
        "#### Load required libraries"
      ]
    },
    {
      "cell_type": "code",
      "metadata": {
        "id": "qLG3Al_lzp3k"
      },
      "source": [
        "#Data manipulation \n",
        "import pandas as pd  \n",
        "import numpy as np \n",
        "\n",
        "#Data visualization\n",
        "import matplotlib.pyplot as plt\n",
        "import seaborn as sns"
      ],
      "execution_count": null,
      "outputs": []
    },
    {
      "cell_type": "markdown",
      "metadata": {
        "id": "NsTZEavDJydX"
      },
      "source": [
        "#### Load the data\n",
        "Since the data is stored in csv format, we can use the `pandas.read_csv` function to load the data as a `pandas` DataFrame object. The `head()` function prints the first five rows of the DataFrame."
      ]
    },
    {
      "cell_type": "code",
      "source": [
        "from google.colab import drive\n",
        "drive.mount('/content/drive')"
      ],
      "metadata": {
        "colab": {
          "base_uri": "https://localhost:8080/"
        },
        "id": "69KcCqQpJTth",
        "outputId": "f951aae0-5ebe-4c30-9cf5-727868e199a7"
      },
      "execution_count": null,
      "outputs": [
        {
          "output_type": "stream",
          "name": "stdout",
          "text": [
            "Drive already mounted at /content/drive; to attempt to forcibly remount, call drive.mount(\"/content/drive\", force_remount=True).\n"
          ]
        }
      ]
    },
    {
      "cell_type": "code",
      "metadata": {
        "id": "MGmMtG6_0We0"
      },
      "source": [
        "df1 = pd.read_csv('/content/drive/MyDrive/UtilityAnalytics101_Dec22/Day3/srpMeterData1.txt')\n",
        "df2 = pd.read_csv('/content/drive/MyDrive/UtilityAnalytics101_Dec22/Day3/srpMeterData2.txt', header=None) #Doesnt load the header\n",
        "df_price = pd.read_csv('/content/drive/MyDrive/UtilityAnalytics101_Dec22/Day3/price.txt')"
      ],
      "execution_count": 123,
      "outputs": []
    },
    {
      "cell_type": "markdown",
      "metadata": {
        "id": "DnSkxNU3KOvz"
      },
      "source": [
        "Get an overview of the DataFrames with the `shape` attribute and the `head()` function."
      ]
    },
    {
      "cell_type": "code",
      "metadata": {
        "colab": {
          "base_uri": "https://localhost:8080/"
        },
        "id": "fba0jn47KQRI",
        "outputId": "f676f2af-7a69-47c1-eba8-97061d705588"
      },
      "source": [
        "print(\"df1 shape: \", df1.shape)\n",
        "print(\"df2 shape: \", df2.shape)\n",
        "print(\"df_price shape: \", df_price.shape)"
      ],
      "execution_count": 124,
      "outputs": [
        {
          "output_type": "stream",
          "name": "stdout",
          "text": [
            "df1 shape:  (560665, 3)\n",
            "df2 shape:  (560690, 3)\n",
            "df_price shape:  (35040, 8)\n"
          ]
        }
      ]
    },
    {
      "cell_type": "code",
      "metadata": {
        "colab": {
          "base_uri": "https://localhost:8080/",
          "height": 143
        },
        "id": "KxbBtJH02yKV",
        "outputId": "5ece00eb-a730-47de-ef21-467419949a38"
      },
      "source": [
        "df1.head(3)"
      ],
      "execution_count": 74,
      "outputs": [
        {
          "output_type": "execute_result",
          "data": {
            "text/plain": [
              "   meter                 time    kwh\n",
              "0      1  2018-01-01 00:15:00  0.404\n",
              "1      1  2018-01-01 00:30:00  0.343\n",
              "2      1  2018-01-01 00:45:00  0.259"
            ],
            "text/html": [
              "\n",
              "  <div id=\"df-1eef872c-7aed-4645-a664-550198eba7c9\">\n",
              "    <div class=\"colab-df-container\">\n",
              "      <div>\n",
              "<style scoped>\n",
              "    .dataframe tbody tr th:only-of-type {\n",
              "        vertical-align: middle;\n",
              "    }\n",
              "\n",
              "    .dataframe tbody tr th {\n",
              "        vertical-align: top;\n",
              "    }\n",
              "\n",
              "    .dataframe thead th {\n",
              "        text-align: right;\n",
              "    }\n",
              "</style>\n",
              "<table border=\"1\" class=\"dataframe\">\n",
              "  <thead>\n",
              "    <tr style=\"text-align: right;\">\n",
              "      <th></th>\n",
              "      <th>meter</th>\n",
              "      <th>time</th>\n",
              "      <th>kwh</th>\n",
              "    </tr>\n",
              "  </thead>\n",
              "  <tbody>\n",
              "    <tr>\n",
              "      <th>0</th>\n",
              "      <td>1</td>\n",
              "      <td>2018-01-01 00:15:00</td>\n",
              "      <td>0.404</td>\n",
              "    </tr>\n",
              "    <tr>\n",
              "      <th>1</th>\n",
              "      <td>1</td>\n",
              "      <td>2018-01-01 00:30:00</td>\n",
              "      <td>0.343</td>\n",
              "    </tr>\n",
              "    <tr>\n",
              "      <th>2</th>\n",
              "      <td>1</td>\n",
              "      <td>2018-01-01 00:45:00</td>\n",
              "      <td>0.259</td>\n",
              "    </tr>\n",
              "  </tbody>\n",
              "</table>\n",
              "</div>\n",
              "      <button class=\"colab-df-convert\" onclick=\"convertToInteractive('df-1eef872c-7aed-4645-a664-550198eba7c9')\"\n",
              "              title=\"Convert this dataframe to an interactive table.\"\n",
              "              style=\"display:none;\">\n",
              "        \n",
              "  <svg xmlns=\"http://www.w3.org/2000/svg\" height=\"24px\"viewBox=\"0 0 24 24\"\n",
              "       width=\"24px\">\n",
              "    <path d=\"M0 0h24v24H0V0z\" fill=\"none\"/>\n",
              "    <path d=\"M18.56 5.44l.94 2.06.94-2.06 2.06-.94-2.06-.94-.94-2.06-.94 2.06-2.06.94zm-11 1L8.5 8.5l.94-2.06 2.06-.94-2.06-.94L8.5 2.5l-.94 2.06-2.06.94zm10 10l.94 2.06.94-2.06 2.06-.94-2.06-.94-.94-2.06-.94 2.06-2.06.94z\"/><path d=\"M17.41 7.96l-1.37-1.37c-.4-.4-.92-.59-1.43-.59-.52 0-1.04.2-1.43.59L10.3 9.45l-7.72 7.72c-.78.78-.78 2.05 0 2.83L4 21.41c.39.39.9.59 1.41.59.51 0 1.02-.2 1.41-.59l7.78-7.78 2.81-2.81c.8-.78.8-2.07 0-2.86zM5.41 20L4 18.59l7.72-7.72 1.47 1.35L5.41 20z\"/>\n",
              "  </svg>\n",
              "      </button>\n",
              "      \n",
              "  <style>\n",
              "    .colab-df-container {\n",
              "      display:flex;\n",
              "      flex-wrap:wrap;\n",
              "      gap: 12px;\n",
              "    }\n",
              "\n",
              "    .colab-df-convert {\n",
              "      background-color: #E8F0FE;\n",
              "      border: none;\n",
              "      border-radius: 50%;\n",
              "      cursor: pointer;\n",
              "      display: none;\n",
              "      fill: #1967D2;\n",
              "      height: 32px;\n",
              "      padding: 0 0 0 0;\n",
              "      width: 32px;\n",
              "    }\n",
              "\n",
              "    .colab-df-convert:hover {\n",
              "      background-color: #E2EBFA;\n",
              "      box-shadow: 0px 1px 2px rgba(60, 64, 67, 0.3), 0px 1px 3px 1px rgba(60, 64, 67, 0.15);\n",
              "      fill: #174EA6;\n",
              "    }\n",
              "\n",
              "    [theme=dark] .colab-df-convert {\n",
              "      background-color: #3B4455;\n",
              "      fill: #D2E3FC;\n",
              "    }\n",
              "\n",
              "    [theme=dark] .colab-df-convert:hover {\n",
              "      background-color: #434B5C;\n",
              "      box-shadow: 0px 1px 3px 1px rgba(0, 0, 0, 0.15);\n",
              "      filter: drop-shadow(0px 1px 2px rgba(0, 0, 0, 0.3));\n",
              "      fill: #FFFFFF;\n",
              "    }\n",
              "  </style>\n",
              "\n",
              "      <script>\n",
              "        const buttonEl =\n",
              "          document.querySelector('#df-1eef872c-7aed-4645-a664-550198eba7c9 button.colab-df-convert');\n",
              "        buttonEl.style.display =\n",
              "          google.colab.kernel.accessAllowed ? 'block' : 'none';\n",
              "\n",
              "        async function convertToInteractive(key) {\n",
              "          const element = document.querySelector('#df-1eef872c-7aed-4645-a664-550198eba7c9');\n",
              "          const dataTable =\n",
              "            await google.colab.kernel.invokeFunction('convertToInteractive',\n",
              "                                                     [key], {});\n",
              "          if (!dataTable) return;\n",
              "\n",
              "          const docLinkHtml = 'Like what you see? Visit the ' +\n",
              "            '<a target=\"_blank\" href=https://colab.research.google.com/notebooks/data_table.ipynb>data table notebook</a>'\n",
              "            + ' to learn more about interactive tables.';\n",
              "          element.innerHTML = '';\n",
              "          dataTable['output_type'] = 'display_data';\n",
              "          await google.colab.output.renderOutput(dataTable, element);\n",
              "          const docLink = document.createElement('div');\n",
              "          docLink.innerHTML = docLinkHtml;\n",
              "          element.appendChild(docLink);\n",
              "        }\n",
              "      </script>\n",
              "    </div>\n",
              "  </div>\n",
              "  "
            ]
          },
          "metadata": {},
          "execution_count": 74
        }
      ]
    },
    {
      "cell_type": "code",
      "source": [
        "df1.info()"
      ],
      "metadata": {
        "colab": {
          "base_uri": "https://localhost:8080/"
        },
        "id": "dP_hgenjWMdD",
        "outputId": "1896da54-f92c-4eff-d4de-c9d46079170e"
      },
      "execution_count": 99,
      "outputs": [
        {
          "output_type": "stream",
          "name": "stdout",
          "text": [
            "<class 'pandas.core.frame.DataFrame'>\n",
            "RangeIndex: 560665 entries, 0 to 560664\n",
            "Data columns (total 3 columns):\n",
            " #   Column  Non-Null Count   Dtype  \n",
            "---  ------  --------------   -----  \n",
            " 0   meter   560665 non-null  int64  \n",
            " 1   time    560665 non-null  object \n",
            " 2   kwh     560665 non-null  float64\n",
            "dtypes: float64(1), int64(1), object(1)\n",
            "memory usage: 12.8+ MB\n"
          ]
        }
      ]
    },
    {
      "cell_type": "code",
      "source": [
        "df1.describe()"
      ],
      "metadata": {
        "colab": {
          "base_uri": "https://localhost:8080/",
          "height": 300
        },
        "id": "WEoqY-6tWCoi",
        "outputId": "0faf6488-7056-4c2c-a57f-38db334bdf24"
      },
      "execution_count": 98,
      "outputs": [
        {
          "output_type": "execute_result",
          "data": {
            "text/plain": [
              "               meter            kwh\n",
              "count  560665.000000  560665.000000\n",
              "mean        8.500067       0.426952\n",
              "std         4.609684       0.353167\n",
              "min         1.000000      -1.662000\n",
              "25%         5.000000       0.165000\n",
              "50%         9.000000       0.330000\n",
              "75%        12.000000       0.581000\n",
              "max        16.000000       3.518000"
            ],
            "text/html": [
              "\n",
              "  <div id=\"df-1f4dc6d3-3329-4a2d-aed5-39040c8af6c7\">\n",
              "    <div class=\"colab-df-container\">\n",
              "      <div>\n",
              "<style scoped>\n",
              "    .dataframe tbody tr th:only-of-type {\n",
              "        vertical-align: middle;\n",
              "    }\n",
              "\n",
              "    .dataframe tbody tr th {\n",
              "        vertical-align: top;\n",
              "    }\n",
              "\n",
              "    .dataframe thead th {\n",
              "        text-align: right;\n",
              "    }\n",
              "</style>\n",
              "<table border=\"1\" class=\"dataframe\">\n",
              "  <thead>\n",
              "    <tr style=\"text-align: right;\">\n",
              "      <th></th>\n",
              "      <th>meter</th>\n",
              "      <th>kwh</th>\n",
              "    </tr>\n",
              "  </thead>\n",
              "  <tbody>\n",
              "    <tr>\n",
              "      <th>count</th>\n",
              "      <td>560665.000000</td>\n",
              "      <td>560665.000000</td>\n",
              "    </tr>\n",
              "    <tr>\n",
              "      <th>mean</th>\n",
              "      <td>8.500067</td>\n",
              "      <td>0.426952</td>\n",
              "    </tr>\n",
              "    <tr>\n",
              "      <th>std</th>\n",
              "      <td>4.609684</td>\n",
              "      <td>0.353167</td>\n",
              "    </tr>\n",
              "    <tr>\n",
              "      <th>min</th>\n",
              "      <td>1.000000</td>\n",
              "      <td>-1.662000</td>\n",
              "    </tr>\n",
              "    <tr>\n",
              "      <th>25%</th>\n",
              "      <td>5.000000</td>\n",
              "      <td>0.165000</td>\n",
              "    </tr>\n",
              "    <tr>\n",
              "      <th>50%</th>\n",
              "      <td>9.000000</td>\n",
              "      <td>0.330000</td>\n",
              "    </tr>\n",
              "    <tr>\n",
              "      <th>75%</th>\n",
              "      <td>12.000000</td>\n",
              "      <td>0.581000</td>\n",
              "    </tr>\n",
              "    <tr>\n",
              "      <th>max</th>\n",
              "      <td>16.000000</td>\n",
              "      <td>3.518000</td>\n",
              "    </tr>\n",
              "  </tbody>\n",
              "</table>\n",
              "</div>\n",
              "      <button class=\"colab-df-convert\" onclick=\"convertToInteractive('df-1f4dc6d3-3329-4a2d-aed5-39040c8af6c7')\"\n",
              "              title=\"Convert this dataframe to an interactive table.\"\n",
              "              style=\"display:none;\">\n",
              "        \n",
              "  <svg xmlns=\"http://www.w3.org/2000/svg\" height=\"24px\"viewBox=\"0 0 24 24\"\n",
              "       width=\"24px\">\n",
              "    <path d=\"M0 0h24v24H0V0z\" fill=\"none\"/>\n",
              "    <path d=\"M18.56 5.44l.94 2.06.94-2.06 2.06-.94-2.06-.94-.94-2.06-.94 2.06-2.06.94zm-11 1L8.5 8.5l.94-2.06 2.06-.94-2.06-.94L8.5 2.5l-.94 2.06-2.06.94zm10 10l.94 2.06.94-2.06 2.06-.94-2.06-.94-.94-2.06-.94 2.06-2.06.94z\"/><path d=\"M17.41 7.96l-1.37-1.37c-.4-.4-.92-.59-1.43-.59-.52 0-1.04.2-1.43.59L10.3 9.45l-7.72 7.72c-.78.78-.78 2.05 0 2.83L4 21.41c.39.39.9.59 1.41.59.51 0 1.02-.2 1.41-.59l7.78-7.78 2.81-2.81c.8-.78.8-2.07 0-2.86zM5.41 20L4 18.59l7.72-7.72 1.47 1.35L5.41 20z\"/>\n",
              "  </svg>\n",
              "      </button>\n",
              "      \n",
              "  <style>\n",
              "    .colab-df-container {\n",
              "      display:flex;\n",
              "      flex-wrap:wrap;\n",
              "      gap: 12px;\n",
              "    }\n",
              "\n",
              "    .colab-df-convert {\n",
              "      background-color: #E8F0FE;\n",
              "      border: none;\n",
              "      border-radius: 50%;\n",
              "      cursor: pointer;\n",
              "      display: none;\n",
              "      fill: #1967D2;\n",
              "      height: 32px;\n",
              "      padding: 0 0 0 0;\n",
              "      width: 32px;\n",
              "    }\n",
              "\n",
              "    .colab-df-convert:hover {\n",
              "      background-color: #E2EBFA;\n",
              "      box-shadow: 0px 1px 2px rgba(60, 64, 67, 0.3), 0px 1px 3px 1px rgba(60, 64, 67, 0.15);\n",
              "      fill: #174EA6;\n",
              "    }\n",
              "\n",
              "    [theme=dark] .colab-df-convert {\n",
              "      background-color: #3B4455;\n",
              "      fill: #D2E3FC;\n",
              "    }\n",
              "\n",
              "    [theme=dark] .colab-df-convert:hover {\n",
              "      background-color: #434B5C;\n",
              "      box-shadow: 0px 1px 3px 1px rgba(0, 0, 0, 0.15);\n",
              "      filter: drop-shadow(0px 1px 2px rgba(0, 0, 0, 0.3));\n",
              "      fill: #FFFFFF;\n",
              "    }\n",
              "  </style>\n",
              "\n",
              "      <script>\n",
              "        const buttonEl =\n",
              "          document.querySelector('#df-1f4dc6d3-3329-4a2d-aed5-39040c8af6c7 button.colab-df-convert');\n",
              "        buttonEl.style.display =\n",
              "          google.colab.kernel.accessAllowed ? 'block' : 'none';\n",
              "\n",
              "        async function convertToInteractive(key) {\n",
              "          const element = document.querySelector('#df-1f4dc6d3-3329-4a2d-aed5-39040c8af6c7');\n",
              "          const dataTable =\n",
              "            await google.colab.kernel.invokeFunction('convertToInteractive',\n",
              "                                                     [key], {});\n",
              "          if (!dataTable) return;\n",
              "\n",
              "          const docLinkHtml = 'Like what you see? Visit the ' +\n",
              "            '<a target=\"_blank\" href=https://colab.research.google.com/notebooks/data_table.ipynb>data table notebook</a>'\n",
              "            + ' to learn more about interactive tables.';\n",
              "          element.innerHTML = '';\n",
              "          dataTable['output_type'] = 'display_data';\n",
              "          await google.colab.output.renderOutput(dataTable, element);\n",
              "          const docLink = document.createElement('div');\n",
              "          docLink.innerHTML = docLinkHtml;\n",
              "          element.appendChild(docLink);\n",
              "        }\n",
              "      </script>\n",
              "    </div>\n",
              "  </div>\n",
              "  "
            ]
          },
          "metadata": {},
          "execution_count": 98
        }
      ]
    },
    {
      "cell_type": "code",
      "metadata": {
        "colab": {
          "base_uri": "https://localhost:8080/",
          "height": 206
        },
        "id": "h2T-GJS43Ypk",
        "outputId": "479a50d7-eaec-4ff2-ed98-2cf962372ce1"
      },
      "source": [
        "df2.head()"
      ],
      "execution_count": 73,
      "outputs": [
        {
          "output_type": "execute_result",
          "data": {
            "text/plain": [
              "    0                    1      2\n",
              "0  17  2018-01-01 00:15:00  0.364\n",
              "1  17  2018-01-01 00:30:00  0.532\n",
              "2  17  2018-01-01 00:45:00  0.446\n",
              "3  17  2018-01-01 01:00:00  0.410\n",
              "4  17  2018-01-01 01:15:00  0.429"
            ],
            "text/html": [
              "\n",
              "  <div id=\"df-82c44551-d0f1-4d41-a263-c0f99aa5dad6\">\n",
              "    <div class=\"colab-df-container\">\n",
              "      <div>\n",
              "<style scoped>\n",
              "    .dataframe tbody tr th:only-of-type {\n",
              "        vertical-align: middle;\n",
              "    }\n",
              "\n",
              "    .dataframe tbody tr th {\n",
              "        vertical-align: top;\n",
              "    }\n",
              "\n",
              "    .dataframe thead th {\n",
              "        text-align: right;\n",
              "    }\n",
              "</style>\n",
              "<table border=\"1\" class=\"dataframe\">\n",
              "  <thead>\n",
              "    <tr style=\"text-align: right;\">\n",
              "      <th></th>\n",
              "      <th>0</th>\n",
              "      <th>1</th>\n",
              "      <th>2</th>\n",
              "    </tr>\n",
              "  </thead>\n",
              "  <tbody>\n",
              "    <tr>\n",
              "      <th>0</th>\n",
              "      <td>17</td>\n",
              "      <td>2018-01-01 00:15:00</td>\n",
              "      <td>0.364</td>\n",
              "    </tr>\n",
              "    <tr>\n",
              "      <th>1</th>\n",
              "      <td>17</td>\n",
              "      <td>2018-01-01 00:30:00</td>\n",
              "      <td>0.532</td>\n",
              "    </tr>\n",
              "    <tr>\n",
              "      <th>2</th>\n",
              "      <td>17</td>\n",
              "      <td>2018-01-01 00:45:00</td>\n",
              "      <td>0.446</td>\n",
              "    </tr>\n",
              "    <tr>\n",
              "      <th>3</th>\n",
              "      <td>17</td>\n",
              "      <td>2018-01-01 01:00:00</td>\n",
              "      <td>0.410</td>\n",
              "    </tr>\n",
              "    <tr>\n",
              "      <th>4</th>\n",
              "      <td>17</td>\n",
              "      <td>2018-01-01 01:15:00</td>\n",
              "      <td>0.429</td>\n",
              "    </tr>\n",
              "  </tbody>\n",
              "</table>\n",
              "</div>\n",
              "      <button class=\"colab-df-convert\" onclick=\"convertToInteractive('df-82c44551-d0f1-4d41-a263-c0f99aa5dad6')\"\n",
              "              title=\"Convert this dataframe to an interactive table.\"\n",
              "              style=\"display:none;\">\n",
              "        \n",
              "  <svg xmlns=\"http://www.w3.org/2000/svg\" height=\"24px\"viewBox=\"0 0 24 24\"\n",
              "       width=\"24px\">\n",
              "    <path d=\"M0 0h24v24H0V0z\" fill=\"none\"/>\n",
              "    <path d=\"M18.56 5.44l.94 2.06.94-2.06 2.06-.94-2.06-.94-.94-2.06-.94 2.06-2.06.94zm-11 1L8.5 8.5l.94-2.06 2.06-.94-2.06-.94L8.5 2.5l-.94 2.06-2.06.94zm10 10l.94 2.06.94-2.06 2.06-.94-2.06-.94-.94-2.06-.94 2.06-2.06.94z\"/><path d=\"M17.41 7.96l-1.37-1.37c-.4-.4-.92-.59-1.43-.59-.52 0-1.04.2-1.43.59L10.3 9.45l-7.72 7.72c-.78.78-.78 2.05 0 2.83L4 21.41c.39.39.9.59 1.41.59.51 0 1.02-.2 1.41-.59l7.78-7.78 2.81-2.81c.8-.78.8-2.07 0-2.86zM5.41 20L4 18.59l7.72-7.72 1.47 1.35L5.41 20z\"/>\n",
              "  </svg>\n",
              "      </button>\n",
              "      \n",
              "  <style>\n",
              "    .colab-df-container {\n",
              "      display:flex;\n",
              "      flex-wrap:wrap;\n",
              "      gap: 12px;\n",
              "    }\n",
              "\n",
              "    .colab-df-convert {\n",
              "      background-color: #E8F0FE;\n",
              "      border: none;\n",
              "      border-radius: 50%;\n",
              "      cursor: pointer;\n",
              "      display: none;\n",
              "      fill: #1967D2;\n",
              "      height: 32px;\n",
              "      padding: 0 0 0 0;\n",
              "      width: 32px;\n",
              "    }\n",
              "\n",
              "    .colab-df-convert:hover {\n",
              "      background-color: #E2EBFA;\n",
              "      box-shadow: 0px 1px 2px rgba(60, 64, 67, 0.3), 0px 1px 3px 1px rgba(60, 64, 67, 0.15);\n",
              "      fill: #174EA6;\n",
              "    }\n",
              "\n",
              "    [theme=dark] .colab-df-convert {\n",
              "      background-color: #3B4455;\n",
              "      fill: #D2E3FC;\n",
              "    }\n",
              "\n",
              "    [theme=dark] .colab-df-convert:hover {\n",
              "      background-color: #434B5C;\n",
              "      box-shadow: 0px 1px 3px 1px rgba(0, 0, 0, 0.15);\n",
              "      filter: drop-shadow(0px 1px 2px rgba(0, 0, 0, 0.3));\n",
              "      fill: #FFFFFF;\n",
              "    }\n",
              "  </style>\n",
              "\n",
              "      <script>\n",
              "        const buttonEl =\n",
              "          document.querySelector('#df-82c44551-d0f1-4d41-a263-c0f99aa5dad6 button.colab-df-convert');\n",
              "        buttonEl.style.display =\n",
              "          google.colab.kernel.accessAllowed ? 'block' : 'none';\n",
              "\n",
              "        async function convertToInteractive(key) {\n",
              "          const element = document.querySelector('#df-82c44551-d0f1-4d41-a263-c0f99aa5dad6');\n",
              "          const dataTable =\n",
              "            await google.colab.kernel.invokeFunction('convertToInteractive',\n",
              "                                                     [key], {});\n",
              "          if (!dataTable) return;\n",
              "\n",
              "          const docLinkHtml = 'Like what you see? Visit the ' +\n",
              "            '<a target=\"_blank\" href=https://colab.research.google.com/notebooks/data_table.ipynb>data table notebook</a>'\n",
              "            + ' to learn more about interactive tables.';\n",
              "          element.innerHTML = '';\n",
              "          dataTable['output_type'] = 'display_data';\n",
              "          await google.colab.output.renderOutput(dataTable, element);\n",
              "          const docLink = document.createElement('div');\n",
              "          docLink.innerHTML = docLinkHtml;\n",
              "          element.appendChild(docLink);\n",
              "        }\n",
              "      </script>\n",
              "    </div>\n",
              "  </div>\n",
              "  "
            ]
          },
          "metadata": {},
          "execution_count": 73
        }
      ]
    },
    {
      "cell_type": "code",
      "metadata": {
        "colab": {
          "base_uri": "https://localhost:8080/",
          "height": 206
        },
        "id": "kyKue6jmK2vG",
        "outputId": "e8c2322d-3d8b-416f-e657-d2f3e672fd5a"
      },
      "source": [
        "df_price.head()"
      ],
      "execution_count": 75,
      "outputs": [
        {
          "output_type": "execute_result",
          "data": {
            "text/plain": [
              "   Unnamed: 0 OPERATION_DATE HOUR_ENDING INTERVAL_ENDING   TOUTYPE     MARKET  \\\n",
              "0           0     2018-01-01         100              15  OFF-PEAK  Real Time   \n",
              "1           1     2018-01-01         100              30  OFF-PEAK  Real Time   \n",
              "2           2     2018-01-01         100              45  OFF-PEAK  Real Time   \n",
              "3           3     2018-01-01         100             100  OFF-PEAK  Real Time   \n",
              "4           4     2018-01-01         200             115  OFF-PEAK  Real Time   \n",
              "\n",
              "            ZONE  PRICE  \n",
              "0  Load Zone CPS  24.10  \n",
              "1  Load Zone CPS  23.76  \n",
              "2  Load Zone CPS  22.87  \n",
              "3  Load Zone CPS  22.70  \n",
              "4  Load Zone CPS  22.07  "
            ],
            "text/html": [
              "\n",
              "  <div id=\"df-3de050d9-3518-49b8-b21c-50404e0ce18a\">\n",
              "    <div class=\"colab-df-container\">\n",
              "      <div>\n",
              "<style scoped>\n",
              "    .dataframe tbody tr th:only-of-type {\n",
              "        vertical-align: middle;\n",
              "    }\n",
              "\n",
              "    .dataframe tbody tr th {\n",
              "        vertical-align: top;\n",
              "    }\n",
              "\n",
              "    .dataframe thead th {\n",
              "        text-align: right;\n",
              "    }\n",
              "</style>\n",
              "<table border=\"1\" class=\"dataframe\">\n",
              "  <thead>\n",
              "    <tr style=\"text-align: right;\">\n",
              "      <th></th>\n",
              "      <th>Unnamed: 0</th>\n",
              "      <th>OPERATION_DATE</th>\n",
              "      <th>HOUR_ENDING</th>\n",
              "      <th>INTERVAL_ENDING</th>\n",
              "      <th>TOUTYPE</th>\n",
              "      <th>MARKET</th>\n",
              "      <th>ZONE</th>\n",
              "      <th>PRICE</th>\n",
              "    </tr>\n",
              "  </thead>\n",
              "  <tbody>\n",
              "    <tr>\n",
              "      <th>0</th>\n",
              "      <td>0</td>\n",
              "      <td>2018-01-01</td>\n",
              "      <td>100</td>\n",
              "      <td>15</td>\n",
              "      <td>OFF-PEAK</td>\n",
              "      <td>Real Time</td>\n",
              "      <td>Load Zone CPS</td>\n",
              "      <td>24.10</td>\n",
              "    </tr>\n",
              "    <tr>\n",
              "      <th>1</th>\n",
              "      <td>1</td>\n",
              "      <td>2018-01-01</td>\n",
              "      <td>100</td>\n",
              "      <td>30</td>\n",
              "      <td>OFF-PEAK</td>\n",
              "      <td>Real Time</td>\n",
              "      <td>Load Zone CPS</td>\n",
              "      <td>23.76</td>\n",
              "    </tr>\n",
              "    <tr>\n",
              "      <th>2</th>\n",
              "      <td>2</td>\n",
              "      <td>2018-01-01</td>\n",
              "      <td>100</td>\n",
              "      <td>45</td>\n",
              "      <td>OFF-PEAK</td>\n",
              "      <td>Real Time</td>\n",
              "      <td>Load Zone CPS</td>\n",
              "      <td>22.87</td>\n",
              "    </tr>\n",
              "    <tr>\n",
              "      <th>3</th>\n",
              "      <td>3</td>\n",
              "      <td>2018-01-01</td>\n",
              "      <td>100</td>\n",
              "      <td>100</td>\n",
              "      <td>OFF-PEAK</td>\n",
              "      <td>Real Time</td>\n",
              "      <td>Load Zone CPS</td>\n",
              "      <td>22.70</td>\n",
              "    </tr>\n",
              "    <tr>\n",
              "      <th>4</th>\n",
              "      <td>4</td>\n",
              "      <td>2018-01-01</td>\n",
              "      <td>200</td>\n",
              "      <td>115</td>\n",
              "      <td>OFF-PEAK</td>\n",
              "      <td>Real Time</td>\n",
              "      <td>Load Zone CPS</td>\n",
              "      <td>22.07</td>\n",
              "    </tr>\n",
              "  </tbody>\n",
              "</table>\n",
              "</div>\n",
              "      <button class=\"colab-df-convert\" onclick=\"convertToInteractive('df-3de050d9-3518-49b8-b21c-50404e0ce18a')\"\n",
              "              title=\"Convert this dataframe to an interactive table.\"\n",
              "              style=\"display:none;\">\n",
              "        \n",
              "  <svg xmlns=\"http://www.w3.org/2000/svg\" height=\"24px\"viewBox=\"0 0 24 24\"\n",
              "       width=\"24px\">\n",
              "    <path d=\"M0 0h24v24H0V0z\" fill=\"none\"/>\n",
              "    <path d=\"M18.56 5.44l.94 2.06.94-2.06 2.06-.94-2.06-.94-.94-2.06-.94 2.06-2.06.94zm-11 1L8.5 8.5l.94-2.06 2.06-.94-2.06-.94L8.5 2.5l-.94 2.06-2.06.94zm10 10l.94 2.06.94-2.06 2.06-.94-2.06-.94-.94-2.06-.94 2.06-2.06.94z\"/><path d=\"M17.41 7.96l-1.37-1.37c-.4-.4-.92-.59-1.43-.59-.52 0-1.04.2-1.43.59L10.3 9.45l-7.72 7.72c-.78.78-.78 2.05 0 2.83L4 21.41c.39.39.9.59 1.41.59.51 0 1.02-.2 1.41-.59l7.78-7.78 2.81-2.81c.8-.78.8-2.07 0-2.86zM5.41 20L4 18.59l7.72-7.72 1.47 1.35L5.41 20z\"/>\n",
              "  </svg>\n",
              "      </button>\n",
              "      \n",
              "  <style>\n",
              "    .colab-df-container {\n",
              "      display:flex;\n",
              "      flex-wrap:wrap;\n",
              "      gap: 12px;\n",
              "    }\n",
              "\n",
              "    .colab-df-convert {\n",
              "      background-color: #E8F0FE;\n",
              "      border: none;\n",
              "      border-radius: 50%;\n",
              "      cursor: pointer;\n",
              "      display: none;\n",
              "      fill: #1967D2;\n",
              "      height: 32px;\n",
              "      padding: 0 0 0 0;\n",
              "      width: 32px;\n",
              "    }\n",
              "\n",
              "    .colab-df-convert:hover {\n",
              "      background-color: #E2EBFA;\n",
              "      box-shadow: 0px 1px 2px rgba(60, 64, 67, 0.3), 0px 1px 3px 1px rgba(60, 64, 67, 0.15);\n",
              "      fill: #174EA6;\n",
              "    }\n",
              "\n",
              "    [theme=dark] .colab-df-convert {\n",
              "      background-color: #3B4455;\n",
              "      fill: #D2E3FC;\n",
              "    }\n",
              "\n",
              "    [theme=dark] .colab-df-convert:hover {\n",
              "      background-color: #434B5C;\n",
              "      box-shadow: 0px 1px 3px 1px rgba(0, 0, 0, 0.15);\n",
              "      filter: drop-shadow(0px 1px 2px rgba(0, 0, 0, 0.3));\n",
              "      fill: #FFFFFF;\n",
              "    }\n",
              "  </style>\n",
              "\n",
              "      <script>\n",
              "        const buttonEl =\n",
              "          document.querySelector('#df-3de050d9-3518-49b8-b21c-50404e0ce18a button.colab-df-convert');\n",
              "        buttonEl.style.display =\n",
              "          google.colab.kernel.accessAllowed ? 'block' : 'none';\n",
              "\n",
              "        async function convertToInteractive(key) {\n",
              "          const element = document.querySelector('#df-3de050d9-3518-49b8-b21c-50404e0ce18a');\n",
              "          const dataTable =\n",
              "            await google.colab.kernel.invokeFunction('convertToInteractive',\n",
              "                                                     [key], {});\n",
              "          if (!dataTable) return;\n",
              "\n",
              "          const docLinkHtml = 'Like what you see? Visit the ' +\n",
              "            '<a target=\"_blank\" href=https://colab.research.google.com/notebooks/data_table.ipynb>data table notebook</a>'\n",
              "            + ' to learn more about interactive tables.';\n",
              "          element.innerHTML = '';\n",
              "          dataTable['output_type'] = 'display_data';\n",
              "          await google.colab.output.renderOutput(dataTable, element);\n",
              "          const docLink = document.createElement('div');\n",
              "          docLink.innerHTML = docLinkHtml;\n",
              "          element.appendChild(docLink);\n",
              "        }\n",
              "      </script>\n",
              "    </div>\n",
              "  </div>\n",
              "  "
            ]
          },
          "metadata": {},
          "execution_count": 75
        }
      ]
    },
    {
      "cell_type": "markdown",
      "metadata": {
        "id": "cIUloVhqM_wC"
      },
      "source": [
        "#### Useful operations: indexing and slicing\n",
        "\n",
        "View a single attribute (column) with bracket notation (`[]`) or with dot notation (`.`).\n",
        "\n",
        "If using dot notation, beware of non-standard column names and attributes/methods."
      ]
    },
    {
      "cell_type": "code",
      "metadata": {
        "colab": {
          "base_uri": "https://localhost:8080/"
        },
        "id": "SBhBP2l8NHt4",
        "outputId": "18e5f2d0-f4f2-4393-f9f7-b2492b3166d5"
      },
      "source": [
        "df_price['PRICE']\n",
        "\n",
        "#df_price.PRICE"
      ],
      "execution_count": 125,
      "outputs": [
        {
          "output_type": "execute_result",
          "data": {
            "text/plain": [
              "0        24.10\n",
              "1        23.76\n",
              "2        22.87\n",
              "3        22.70\n",
              "4        22.07\n",
              "         ...  \n",
              "35035    23.66\n",
              "35036    22.95\n",
              "35037    22.81\n",
              "35038    22.84\n",
              "35039    22.68\n",
              "Name: PRICE, Length: 35040, dtype: float64"
            ]
          },
          "metadata": {},
          "execution_count": 125
        }
      ]
    },
    {
      "cell_type": "markdown",
      "metadata": {
        "id": "fH8YoIEdNTxK"
      },
      "source": [
        "And return data at multiple indexes by slicing\n",
        "\n",
        "See a subset of rows using the slice operator (`:`)."
      ]
    },
    {
      "cell_type": "code",
      "metadata": {
        "colab": {
          "base_uri": "https://localhost:8080/",
          "height": 112
        },
        "id": "5F_f_rlqNWPK",
        "outputId": "42e090f8-a7f1-4eb7-edd7-e9bbcab8c2ec"
      },
      "source": [
        "df_price[2:10]"
      ],
      "execution_count": 91,
      "outputs": [
        {
          "output_type": "execute_result",
          "data": {
            "text/plain": [
              "   Unnamed: 0 OPERATION_DATE HOUR_ENDING INTERVAL_ENDING   TOUTYPE     MARKET  \\\n",
              "4           4     2018-01-01         200             115  OFF-PEAK  Real Time   \n",
              "5           5     2018-01-01         200             130  OFF-PEAK  Real Time   \n",
              "\n",
              "            ZONE  PRICE  \n",
              "4  Load Zone CPS  22.07  \n",
              "5  Load Zone CPS  21.87  "
            ],
            "text/html": [
              "\n",
              "  <div id=\"df-16e0ffef-25ba-4748-9eba-9562e2fed416\">\n",
              "    <div class=\"colab-df-container\">\n",
              "      <div>\n",
              "<style scoped>\n",
              "    .dataframe tbody tr th:only-of-type {\n",
              "        vertical-align: middle;\n",
              "    }\n",
              "\n",
              "    .dataframe tbody tr th {\n",
              "        vertical-align: top;\n",
              "    }\n",
              "\n",
              "    .dataframe thead th {\n",
              "        text-align: right;\n",
              "    }\n",
              "</style>\n",
              "<table border=\"1\" class=\"dataframe\">\n",
              "  <thead>\n",
              "    <tr style=\"text-align: right;\">\n",
              "      <th></th>\n",
              "      <th>Unnamed: 0</th>\n",
              "      <th>OPERATION_DATE</th>\n",
              "      <th>HOUR_ENDING</th>\n",
              "      <th>INTERVAL_ENDING</th>\n",
              "      <th>TOUTYPE</th>\n",
              "      <th>MARKET</th>\n",
              "      <th>ZONE</th>\n",
              "      <th>PRICE</th>\n",
              "    </tr>\n",
              "  </thead>\n",
              "  <tbody>\n",
              "    <tr>\n",
              "      <th>4</th>\n",
              "      <td>4</td>\n",
              "      <td>2018-01-01</td>\n",
              "      <td>200</td>\n",
              "      <td>115</td>\n",
              "      <td>OFF-PEAK</td>\n",
              "      <td>Real Time</td>\n",
              "      <td>Load Zone CPS</td>\n",
              "      <td>22.07</td>\n",
              "    </tr>\n",
              "    <tr>\n",
              "      <th>5</th>\n",
              "      <td>5</td>\n",
              "      <td>2018-01-01</td>\n",
              "      <td>200</td>\n",
              "      <td>130</td>\n",
              "      <td>OFF-PEAK</td>\n",
              "      <td>Real Time</td>\n",
              "      <td>Load Zone CPS</td>\n",
              "      <td>21.87</td>\n",
              "    </tr>\n",
              "  </tbody>\n",
              "</table>\n",
              "</div>\n",
              "      <button class=\"colab-df-convert\" onclick=\"convertToInteractive('df-16e0ffef-25ba-4748-9eba-9562e2fed416')\"\n",
              "              title=\"Convert this dataframe to an interactive table.\"\n",
              "              style=\"display:none;\">\n",
              "        \n",
              "  <svg xmlns=\"http://www.w3.org/2000/svg\" height=\"24px\"viewBox=\"0 0 24 24\"\n",
              "       width=\"24px\">\n",
              "    <path d=\"M0 0h24v24H0V0z\" fill=\"none\"/>\n",
              "    <path d=\"M18.56 5.44l.94 2.06.94-2.06 2.06-.94-2.06-.94-.94-2.06-.94 2.06-2.06.94zm-11 1L8.5 8.5l.94-2.06 2.06-.94-2.06-.94L8.5 2.5l-.94 2.06-2.06.94zm10 10l.94 2.06.94-2.06 2.06-.94-2.06-.94-.94-2.06-.94 2.06-2.06.94z\"/><path d=\"M17.41 7.96l-1.37-1.37c-.4-.4-.92-.59-1.43-.59-.52 0-1.04.2-1.43.59L10.3 9.45l-7.72 7.72c-.78.78-.78 2.05 0 2.83L4 21.41c.39.39.9.59 1.41.59.51 0 1.02-.2 1.41-.59l7.78-7.78 2.81-2.81c.8-.78.8-2.07 0-2.86zM5.41 20L4 18.59l7.72-7.72 1.47 1.35L5.41 20z\"/>\n",
              "  </svg>\n",
              "      </button>\n",
              "      \n",
              "  <style>\n",
              "    .colab-df-container {\n",
              "      display:flex;\n",
              "      flex-wrap:wrap;\n",
              "      gap: 12px;\n",
              "    }\n",
              "\n",
              "    .colab-df-convert {\n",
              "      background-color: #E8F0FE;\n",
              "      border: none;\n",
              "      border-radius: 50%;\n",
              "      cursor: pointer;\n",
              "      display: none;\n",
              "      fill: #1967D2;\n",
              "      height: 32px;\n",
              "      padding: 0 0 0 0;\n",
              "      width: 32px;\n",
              "    }\n",
              "\n",
              "    .colab-df-convert:hover {\n",
              "      background-color: #E2EBFA;\n",
              "      box-shadow: 0px 1px 2px rgba(60, 64, 67, 0.3), 0px 1px 3px 1px rgba(60, 64, 67, 0.15);\n",
              "      fill: #174EA6;\n",
              "    }\n",
              "\n",
              "    [theme=dark] .colab-df-convert {\n",
              "      background-color: #3B4455;\n",
              "      fill: #D2E3FC;\n",
              "    }\n",
              "\n",
              "    [theme=dark] .colab-df-convert:hover {\n",
              "      background-color: #434B5C;\n",
              "      box-shadow: 0px 1px 3px 1px rgba(0, 0, 0, 0.15);\n",
              "      filter: drop-shadow(0px 1px 2px rgba(0, 0, 0, 0.3));\n",
              "      fill: #FFFFFF;\n",
              "    }\n",
              "  </style>\n",
              "\n",
              "      <script>\n",
              "        const buttonEl =\n",
              "          document.querySelector('#df-16e0ffef-25ba-4748-9eba-9562e2fed416 button.colab-df-convert');\n",
              "        buttonEl.style.display =\n",
              "          google.colab.kernel.accessAllowed ? 'block' : 'none';\n",
              "\n",
              "        async function convertToInteractive(key) {\n",
              "          const element = document.querySelector('#df-16e0ffef-25ba-4748-9eba-9562e2fed416');\n",
              "          const dataTable =\n",
              "            await google.colab.kernel.invokeFunction('convertToInteractive',\n",
              "                                                     [key], {});\n",
              "          if (!dataTable) return;\n",
              "\n",
              "          const docLinkHtml = 'Like what you see? Visit the ' +\n",
              "            '<a target=\"_blank\" href=https://colab.research.google.com/notebooks/data_table.ipynb>data table notebook</a>'\n",
              "            + ' to learn more about interactive tables.';\n",
              "          element.innerHTML = '';\n",
              "          dataTable['output_type'] = 'display_data';\n",
              "          await google.colab.output.renderOutput(dataTable, element);\n",
              "          const docLink = document.createElement('div');\n",
              "          docLink.innerHTML = docLinkHtml;\n",
              "          element.appendChild(docLink);\n",
              "        }\n",
              "      </script>\n",
              "    </div>\n",
              "  </div>\n",
              "  "
            ]
          },
          "metadata": {},
          "execution_count": 91
        }
      ]
    },
    {
      "cell_type": "markdown",
      "metadata": {
        "id": "GqlDnNvnNcZU"
      },
      "source": [
        "Using `loc` and `iloc`.\n"
      ]
    },
    {
      "cell_type": "code",
      "source": [
        "# df_price.loc['MARKET','PRICE']"
      ],
      "metadata": {
        "id": "YwyVBPjOT3ZU"
      },
      "execution_count": 94,
      "outputs": []
    },
    {
      "cell_type": "code",
      "metadata": {
        "colab": {
          "base_uri": "https://localhost:8080/",
          "height": 206
        },
        "id": "k7GSP43SNdxz",
        "outputId": "f197a2ea-3c84-406c-f4b0-c5863e68d772"
      },
      "source": [
        "df_price.iloc[0:5,2:4]"
      ],
      "execution_count": 96,
      "outputs": [
        {
          "output_type": "execute_result",
          "data": {
            "text/plain": [
              "  HOUR_ENDING INTERVAL_ENDING\n",
              "0         100              15\n",
              "1         100              30\n",
              "2         100              45\n",
              "3         100             100\n",
              "4         200             115"
            ],
            "text/html": [
              "\n",
              "  <div id=\"df-573189fb-4625-4f77-9a8d-a72cdf7d9597\">\n",
              "    <div class=\"colab-df-container\">\n",
              "      <div>\n",
              "<style scoped>\n",
              "    .dataframe tbody tr th:only-of-type {\n",
              "        vertical-align: middle;\n",
              "    }\n",
              "\n",
              "    .dataframe tbody tr th {\n",
              "        vertical-align: top;\n",
              "    }\n",
              "\n",
              "    .dataframe thead th {\n",
              "        text-align: right;\n",
              "    }\n",
              "</style>\n",
              "<table border=\"1\" class=\"dataframe\">\n",
              "  <thead>\n",
              "    <tr style=\"text-align: right;\">\n",
              "      <th></th>\n",
              "      <th>HOUR_ENDING</th>\n",
              "      <th>INTERVAL_ENDING</th>\n",
              "    </tr>\n",
              "  </thead>\n",
              "  <tbody>\n",
              "    <tr>\n",
              "      <th>0</th>\n",
              "      <td>100</td>\n",
              "      <td>15</td>\n",
              "    </tr>\n",
              "    <tr>\n",
              "      <th>1</th>\n",
              "      <td>100</td>\n",
              "      <td>30</td>\n",
              "    </tr>\n",
              "    <tr>\n",
              "      <th>2</th>\n",
              "      <td>100</td>\n",
              "      <td>45</td>\n",
              "    </tr>\n",
              "    <tr>\n",
              "      <th>3</th>\n",
              "      <td>100</td>\n",
              "      <td>100</td>\n",
              "    </tr>\n",
              "    <tr>\n",
              "      <th>4</th>\n",
              "      <td>200</td>\n",
              "      <td>115</td>\n",
              "    </tr>\n",
              "  </tbody>\n",
              "</table>\n",
              "</div>\n",
              "      <button class=\"colab-df-convert\" onclick=\"convertToInteractive('df-573189fb-4625-4f77-9a8d-a72cdf7d9597')\"\n",
              "              title=\"Convert this dataframe to an interactive table.\"\n",
              "              style=\"display:none;\">\n",
              "        \n",
              "  <svg xmlns=\"http://www.w3.org/2000/svg\" height=\"24px\"viewBox=\"0 0 24 24\"\n",
              "       width=\"24px\">\n",
              "    <path d=\"M0 0h24v24H0V0z\" fill=\"none\"/>\n",
              "    <path d=\"M18.56 5.44l.94 2.06.94-2.06 2.06-.94-2.06-.94-.94-2.06-.94 2.06-2.06.94zm-11 1L8.5 8.5l.94-2.06 2.06-.94-2.06-.94L8.5 2.5l-.94 2.06-2.06.94zm10 10l.94 2.06.94-2.06 2.06-.94-2.06-.94-.94-2.06-.94 2.06-2.06.94z\"/><path d=\"M17.41 7.96l-1.37-1.37c-.4-.4-.92-.59-1.43-.59-.52 0-1.04.2-1.43.59L10.3 9.45l-7.72 7.72c-.78.78-.78 2.05 0 2.83L4 21.41c.39.39.9.59 1.41.59.51 0 1.02-.2 1.41-.59l7.78-7.78 2.81-2.81c.8-.78.8-2.07 0-2.86zM5.41 20L4 18.59l7.72-7.72 1.47 1.35L5.41 20z\"/>\n",
              "  </svg>\n",
              "      </button>\n",
              "      \n",
              "  <style>\n",
              "    .colab-df-container {\n",
              "      display:flex;\n",
              "      flex-wrap:wrap;\n",
              "      gap: 12px;\n",
              "    }\n",
              "\n",
              "    .colab-df-convert {\n",
              "      background-color: #E8F0FE;\n",
              "      border: none;\n",
              "      border-radius: 50%;\n",
              "      cursor: pointer;\n",
              "      display: none;\n",
              "      fill: #1967D2;\n",
              "      height: 32px;\n",
              "      padding: 0 0 0 0;\n",
              "      width: 32px;\n",
              "    }\n",
              "\n",
              "    .colab-df-convert:hover {\n",
              "      background-color: #E2EBFA;\n",
              "      box-shadow: 0px 1px 2px rgba(60, 64, 67, 0.3), 0px 1px 3px 1px rgba(60, 64, 67, 0.15);\n",
              "      fill: #174EA6;\n",
              "    }\n",
              "\n",
              "    [theme=dark] .colab-df-convert {\n",
              "      background-color: #3B4455;\n",
              "      fill: #D2E3FC;\n",
              "    }\n",
              "\n",
              "    [theme=dark] .colab-df-convert:hover {\n",
              "      background-color: #434B5C;\n",
              "      box-shadow: 0px 1px 3px 1px rgba(0, 0, 0, 0.15);\n",
              "      filter: drop-shadow(0px 1px 2px rgba(0, 0, 0, 0.3));\n",
              "      fill: #FFFFFF;\n",
              "    }\n",
              "  </style>\n",
              "\n",
              "      <script>\n",
              "        const buttonEl =\n",
              "          document.querySelector('#df-573189fb-4625-4f77-9a8d-a72cdf7d9597 button.colab-df-convert');\n",
              "        buttonEl.style.display =\n",
              "          google.colab.kernel.accessAllowed ? 'block' : 'none';\n",
              "\n",
              "        async function convertToInteractive(key) {\n",
              "          const element = document.querySelector('#df-573189fb-4625-4f77-9a8d-a72cdf7d9597');\n",
              "          const dataTable =\n",
              "            await google.colab.kernel.invokeFunction('convertToInteractive',\n",
              "                                                     [key], {});\n",
              "          if (!dataTable) return;\n",
              "\n",
              "          const docLinkHtml = 'Like what you see? Visit the ' +\n",
              "            '<a target=\"_blank\" href=https://colab.research.google.com/notebooks/data_table.ipynb>data table notebook</a>'\n",
              "            + ' to learn more about interactive tables.';\n",
              "          element.innerHTML = '';\n",
              "          dataTable['output_type'] = 'display_data';\n",
              "          await google.colab.output.renderOutput(dataTable, element);\n",
              "          const docLink = document.createElement('div');\n",
              "          docLink.innerHTML = docLinkHtml;\n",
              "          element.appendChild(docLink);\n",
              "        }\n",
              "      </script>\n",
              "    </div>\n",
              "  </div>\n",
              "  "
            ]
          },
          "metadata": {},
          "execution_count": 96
        }
      ]
    },
    {
      "cell_type": "markdown",
      "metadata": {
        "id": "jlxStdUWNkrY"
      },
      "source": [
        "#### Filtering\n",
        "Suppose we only want data that was captured _after_ Nov-2018.\n",
        "\n",
        "We can create a Boolean filter by using a Boolean array as the index to the DataFrame."
      ]
    },
    {
      "cell_type": "code",
      "metadata": {
        "colab": {
          "base_uri": "https://localhost:8080/"
        },
        "id": "gwoZ0wbrNncN",
        "outputId": "f50095e9-9a89-4fc6-dd9d-1d3fca8c5c99"
      },
      "source": [
        "df_price['OPERATION_DATE'] > '2018-11-30'"
      ],
      "execution_count": 126,
      "outputs": [
        {
          "output_type": "execute_result",
          "data": {
            "text/plain": [
              "0        False\n",
              "1        False\n",
              "2        False\n",
              "3        False\n",
              "4        False\n",
              "         ...  \n",
              "35035     True\n",
              "35036     True\n",
              "35037     True\n",
              "35038     True\n",
              "35039     True\n",
              "Name: OPERATION_DATE, Length: 35040, dtype: bool"
            ]
          },
          "metadata": {},
          "execution_count": 126
        }
      ]
    },
    {
      "cell_type": "code",
      "metadata": {
        "colab": {
          "base_uri": "https://localhost:8080/",
          "height": 424
        },
        "id": "2kA39S9kN-Mk",
        "outputId": "dc1e9a9e-b9d5-4eab-e7d1-90bc31c8043c"
      },
      "source": [
        "df_price[df_price['OPERATION_DATE'] > '2018-11-30']"
      ],
      "execution_count": 127,
      "outputs": [
        {
          "output_type": "execute_result",
          "data": {
            "text/plain": [
              "       Unnamed: 0 OPERATION_DATE HOUR_ENDING INTERVAL_ENDING   TOUTYPE  \\\n",
              "32064       32064     2018-12-01         100              15  OFF-PEAK   \n",
              "32065       32065     2018-12-01         100              30  OFF-PEAK   \n",
              "32066       32066     2018-12-01         100              45  OFF-PEAK   \n",
              "32067       32067     2018-12-01         100             100  OFF-PEAK   \n",
              "32068       32068     2018-12-01         200             115  OFF-PEAK   \n",
              "...           ...            ...         ...             ...       ...   \n",
              "35035       35035     2018-12-31        2300            2300  OFF-PEAK   \n",
              "35036       35036     2018-12-31        2400            2315  OFF-PEAK   \n",
              "35037       35037     2018-12-31        2400            2330  OFF-PEAK   \n",
              "35038       35038     2018-12-31        2400            2345  OFF-PEAK   \n",
              "35039       35039     2018-12-31        2400            2400  OFF-PEAK   \n",
              "\n",
              "          MARKET           ZONE  PRICE  \n",
              "32064  Real Time  Load Zone CPS  18.69  \n",
              "32065  Real Time  Load Zone CPS  18.69  \n",
              "32066  Real Time  Load Zone CPS  18.67  \n",
              "32067  Real Time  Load Zone CPS  18.47  \n",
              "32068  Real Time  Load Zone CPS  18.40  \n",
              "...          ...            ...    ...  \n",
              "35035  Real Time  Load Zone CPS  23.66  \n",
              "35036  Real Time  Load Zone CPS  22.95  \n",
              "35037  Real Time  Load Zone CPS  22.81  \n",
              "35038  Real Time  Load Zone CPS  22.84  \n",
              "35039  Real Time  Load Zone CPS  22.68  \n",
              "\n",
              "[2976 rows x 8 columns]"
            ],
            "text/html": [
              "\n",
              "  <div id=\"df-6c476f69-f1cb-46c5-9dbe-394ef13d0957\">\n",
              "    <div class=\"colab-df-container\">\n",
              "      <div>\n",
              "<style scoped>\n",
              "    .dataframe tbody tr th:only-of-type {\n",
              "        vertical-align: middle;\n",
              "    }\n",
              "\n",
              "    .dataframe tbody tr th {\n",
              "        vertical-align: top;\n",
              "    }\n",
              "\n",
              "    .dataframe thead th {\n",
              "        text-align: right;\n",
              "    }\n",
              "</style>\n",
              "<table border=\"1\" class=\"dataframe\">\n",
              "  <thead>\n",
              "    <tr style=\"text-align: right;\">\n",
              "      <th></th>\n",
              "      <th>Unnamed: 0</th>\n",
              "      <th>OPERATION_DATE</th>\n",
              "      <th>HOUR_ENDING</th>\n",
              "      <th>INTERVAL_ENDING</th>\n",
              "      <th>TOUTYPE</th>\n",
              "      <th>MARKET</th>\n",
              "      <th>ZONE</th>\n",
              "      <th>PRICE</th>\n",
              "    </tr>\n",
              "  </thead>\n",
              "  <tbody>\n",
              "    <tr>\n",
              "      <th>32064</th>\n",
              "      <td>32064</td>\n",
              "      <td>2018-12-01</td>\n",
              "      <td>100</td>\n",
              "      <td>15</td>\n",
              "      <td>OFF-PEAK</td>\n",
              "      <td>Real Time</td>\n",
              "      <td>Load Zone CPS</td>\n",
              "      <td>18.69</td>\n",
              "    </tr>\n",
              "    <tr>\n",
              "      <th>32065</th>\n",
              "      <td>32065</td>\n",
              "      <td>2018-12-01</td>\n",
              "      <td>100</td>\n",
              "      <td>30</td>\n",
              "      <td>OFF-PEAK</td>\n",
              "      <td>Real Time</td>\n",
              "      <td>Load Zone CPS</td>\n",
              "      <td>18.69</td>\n",
              "    </tr>\n",
              "    <tr>\n",
              "      <th>32066</th>\n",
              "      <td>32066</td>\n",
              "      <td>2018-12-01</td>\n",
              "      <td>100</td>\n",
              "      <td>45</td>\n",
              "      <td>OFF-PEAK</td>\n",
              "      <td>Real Time</td>\n",
              "      <td>Load Zone CPS</td>\n",
              "      <td>18.67</td>\n",
              "    </tr>\n",
              "    <tr>\n",
              "      <th>32067</th>\n",
              "      <td>32067</td>\n",
              "      <td>2018-12-01</td>\n",
              "      <td>100</td>\n",
              "      <td>100</td>\n",
              "      <td>OFF-PEAK</td>\n",
              "      <td>Real Time</td>\n",
              "      <td>Load Zone CPS</td>\n",
              "      <td>18.47</td>\n",
              "    </tr>\n",
              "    <tr>\n",
              "      <th>32068</th>\n",
              "      <td>32068</td>\n",
              "      <td>2018-12-01</td>\n",
              "      <td>200</td>\n",
              "      <td>115</td>\n",
              "      <td>OFF-PEAK</td>\n",
              "      <td>Real Time</td>\n",
              "      <td>Load Zone CPS</td>\n",
              "      <td>18.40</td>\n",
              "    </tr>\n",
              "    <tr>\n",
              "      <th>...</th>\n",
              "      <td>...</td>\n",
              "      <td>...</td>\n",
              "      <td>...</td>\n",
              "      <td>...</td>\n",
              "      <td>...</td>\n",
              "      <td>...</td>\n",
              "      <td>...</td>\n",
              "      <td>...</td>\n",
              "    </tr>\n",
              "    <tr>\n",
              "      <th>35035</th>\n",
              "      <td>35035</td>\n",
              "      <td>2018-12-31</td>\n",
              "      <td>2300</td>\n",
              "      <td>2300</td>\n",
              "      <td>OFF-PEAK</td>\n",
              "      <td>Real Time</td>\n",
              "      <td>Load Zone CPS</td>\n",
              "      <td>23.66</td>\n",
              "    </tr>\n",
              "    <tr>\n",
              "      <th>35036</th>\n",
              "      <td>35036</td>\n",
              "      <td>2018-12-31</td>\n",
              "      <td>2400</td>\n",
              "      <td>2315</td>\n",
              "      <td>OFF-PEAK</td>\n",
              "      <td>Real Time</td>\n",
              "      <td>Load Zone CPS</td>\n",
              "      <td>22.95</td>\n",
              "    </tr>\n",
              "    <tr>\n",
              "      <th>35037</th>\n",
              "      <td>35037</td>\n",
              "      <td>2018-12-31</td>\n",
              "      <td>2400</td>\n",
              "      <td>2330</td>\n",
              "      <td>OFF-PEAK</td>\n",
              "      <td>Real Time</td>\n",
              "      <td>Load Zone CPS</td>\n",
              "      <td>22.81</td>\n",
              "    </tr>\n",
              "    <tr>\n",
              "      <th>35038</th>\n",
              "      <td>35038</td>\n",
              "      <td>2018-12-31</td>\n",
              "      <td>2400</td>\n",
              "      <td>2345</td>\n",
              "      <td>OFF-PEAK</td>\n",
              "      <td>Real Time</td>\n",
              "      <td>Load Zone CPS</td>\n",
              "      <td>22.84</td>\n",
              "    </tr>\n",
              "    <tr>\n",
              "      <th>35039</th>\n",
              "      <td>35039</td>\n",
              "      <td>2018-12-31</td>\n",
              "      <td>2400</td>\n",
              "      <td>2400</td>\n",
              "      <td>OFF-PEAK</td>\n",
              "      <td>Real Time</td>\n",
              "      <td>Load Zone CPS</td>\n",
              "      <td>22.68</td>\n",
              "    </tr>\n",
              "  </tbody>\n",
              "</table>\n",
              "<p>2976 rows × 8 columns</p>\n",
              "</div>\n",
              "      <button class=\"colab-df-convert\" onclick=\"convertToInteractive('df-6c476f69-f1cb-46c5-9dbe-394ef13d0957')\"\n",
              "              title=\"Convert this dataframe to an interactive table.\"\n",
              "              style=\"display:none;\">\n",
              "        \n",
              "  <svg xmlns=\"http://www.w3.org/2000/svg\" height=\"24px\"viewBox=\"0 0 24 24\"\n",
              "       width=\"24px\">\n",
              "    <path d=\"M0 0h24v24H0V0z\" fill=\"none\"/>\n",
              "    <path d=\"M18.56 5.44l.94 2.06.94-2.06 2.06-.94-2.06-.94-.94-2.06-.94 2.06-2.06.94zm-11 1L8.5 8.5l.94-2.06 2.06-.94-2.06-.94L8.5 2.5l-.94 2.06-2.06.94zm10 10l.94 2.06.94-2.06 2.06-.94-2.06-.94-.94-2.06-.94 2.06-2.06.94z\"/><path d=\"M17.41 7.96l-1.37-1.37c-.4-.4-.92-.59-1.43-.59-.52 0-1.04.2-1.43.59L10.3 9.45l-7.72 7.72c-.78.78-.78 2.05 0 2.83L4 21.41c.39.39.9.59 1.41.59.51 0 1.02-.2 1.41-.59l7.78-7.78 2.81-2.81c.8-.78.8-2.07 0-2.86zM5.41 20L4 18.59l7.72-7.72 1.47 1.35L5.41 20z\"/>\n",
              "  </svg>\n",
              "      </button>\n",
              "      \n",
              "  <style>\n",
              "    .colab-df-container {\n",
              "      display:flex;\n",
              "      flex-wrap:wrap;\n",
              "      gap: 12px;\n",
              "    }\n",
              "\n",
              "    .colab-df-convert {\n",
              "      background-color: #E8F0FE;\n",
              "      border: none;\n",
              "      border-radius: 50%;\n",
              "      cursor: pointer;\n",
              "      display: none;\n",
              "      fill: #1967D2;\n",
              "      height: 32px;\n",
              "      padding: 0 0 0 0;\n",
              "      width: 32px;\n",
              "    }\n",
              "\n",
              "    .colab-df-convert:hover {\n",
              "      background-color: #E2EBFA;\n",
              "      box-shadow: 0px 1px 2px rgba(60, 64, 67, 0.3), 0px 1px 3px 1px rgba(60, 64, 67, 0.15);\n",
              "      fill: #174EA6;\n",
              "    }\n",
              "\n",
              "    [theme=dark] .colab-df-convert {\n",
              "      background-color: #3B4455;\n",
              "      fill: #D2E3FC;\n",
              "    }\n",
              "\n",
              "    [theme=dark] .colab-df-convert:hover {\n",
              "      background-color: #434B5C;\n",
              "      box-shadow: 0px 1px 3px 1px rgba(0, 0, 0, 0.15);\n",
              "      filter: drop-shadow(0px 1px 2px rgba(0, 0, 0, 0.3));\n",
              "      fill: #FFFFFF;\n",
              "    }\n",
              "  </style>\n",
              "\n",
              "      <script>\n",
              "        const buttonEl =\n",
              "          document.querySelector('#df-6c476f69-f1cb-46c5-9dbe-394ef13d0957 button.colab-df-convert');\n",
              "        buttonEl.style.display =\n",
              "          google.colab.kernel.accessAllowed ? 'block' : 'none';\n",
              "\n",
              "        async function convertToInteractive(key) {\n",
              "          const element = document.querySelector('#df-6c476f69-f1cb-46c5-9dbe-394ef13d0957');\n",
              "          const dataTable =\n",
              "            await google.colab.kernel.invokeFunction('convertToInteractive',\n",
              "                                                     [key], {});\n",
              "          if (!dataTable) return;\n",
              "\n",
              "          const docLinkHtml = 'Like what you see? Visit the ' +\n",
              "            '<a target=\"_blank\" href=https://colab.research.google.com/notebooks/data_table.ipynb>data table notebook</a>'\n",
              "            + ' to learn more about interactive tables.';\n",
              "          element.innerHTML = '';\n",
              "          dataTable['output_type'] = 'display_data';\n",
              "          await google.colab.output.renderOutput(dataTable, element);\n",
              "          const docLink = document.createElement('div');\n",
              "          docLink.innerHTML = docLinkHtml;\n",
              "          element.appendChild(docLink);\n",
              "        }\n",
              "      </script>\n",
              "    </div>\n",
              "  </div>\n",
              "  "
            ]
          },
          "metadata": {},
          "execution_count": 127
        }
      ]
    },
    {
      "cell_type": "markdown",
      "metadata": {
        "id": "8ScjPpynOpmw"
      },
      "source": [
        "View the feature type with the `dtype` attribute."
      ]
    },
    {
      "cell_type": "code",
      "metadata": {
        "colab": {
          "base_uri": "https://localhost:8080/"
        },
        "id": "TyMTCaF4OsSd",
        "outputId": "6f3976e3-c353-437a-8929-7290889a0962"
      },
      "source": [
        "df_price.OPERATION_DATE.dtype"
      ],
      "execution_count": 111,
      "outputs": [
        {
          "output_type": "execute_result",
          "data": {
            "text/plain": [
              "dtype('O')"
            ]
          },
          "metadata": {},
          "execution_count": 111
        }
      ]
    },
    {
      "cell_type": "markdown",
      "metadata": {
        "id": "hkto-inIOwqL"
      },
      "source": [
        "See general information about the DataFrame with `info()`.\n",
        "\n"
      ]
    },
    {
      "cell_type": "code",
      "metadata": {
        "colab": {
          "base_uri": "https://localhost:8080/"
        },
        "id": "QK0zjQk0Ow4P",
        "outputId": "6cc08c3a-1480-4235-b8d6-0be52841879f"
      },
      "source": [
        "df_price.info()"
      ],
      "execution_count": 112,
      "outputs": [
        {
          "output_type": "stream",
          "name": "stdout",
          "text": [
            "<class 'pandas.core.frame.DataFrame'>\n",
            "RangeIndex: 35040 entries, 0 to 35039\n",
            "Data columns (total 8 columns):\n",
            " #   Column           Non-Null Count  Dtype  \n",
            "---  ------           --------------  -----  \n",
            " 0   Unnamed: 0       35040 non-null  int64  \n",
            " 1   OPERATION_DATE   35040 non-null  object \n",
            " 2   HOUR_ENDING      35040 non-null  object \n",
            " 3   INTERVAL_ENDING  35040 non-null  object \n",
            " 4   TOUTYPE          35040 non-null  object \n",
            " 5   MARKET           35040 non-null  object \n",
            " 6   ZONE             35040 non-null  object \n",
            " 7   PRICE            35040 non-null  float64\n",
            "dtypes: float64(1), int64(1), object(6)\n",
            "memory usage: 2.1+ MB\n"
          ]
        }
      ]
    },
    {
      "cell_type": "code",
      "source": [
        "df2.head(2)"
      ],
      "metadata": {
        "colab": {
          "base_uri": "https://localhost:8080/",
          "height": 112
        },
        "id": "24HR0X6XX_aW",
        "outputId": "d086bc73-d2b6-4192-97b7-28ffd5dbd097"
      },
      "execution_count": 102,
      "outputs": [
        {
          "output_type": "execute_result",
          "data": {
            "text/plain": [
              "    0                    1      2\n",
              "0  17  2018-01-01 00:15:00  0.364\n",
              "1  17  2018-01-01 00:30:00  0.532"
            ],
            "text/html": [
              "\n",
              "  <div id=\"df-885f4886-c983-45f3-94d0-d9d12afc7c68\">\n",
              "    <div class=\"colab-df-container\">\n",
              "      <div>\n",
              "<style scoped>\n",
              "    .dataframe tbody tr th:only-of-type {\n",
              "        vertical-align: middle;\n",
              "    }\n",
              "\n",
              "    .dataframe tbody tr th {\n",
              "        vertical-align: top;\n",
              "    }\n",
              "\n",
              "    .dataframe thead th {\n",
              "        text-align: right;\n",
              "    }\n",
              "</style>\n",
              "<table border=\"1\" class=\"dataframe\">\n",
              "  <thead>\n",
              "    <tr style=\"text-align: right;\">\n",
              "      <th></th>\n",
              "      <th>0</th>\n",
              "      <th>1</th>\n",
              "      <th>2</th>\n",
              "    </tr>\n",
              "  </thead>\n",
              "  <tbody>\n",
              "    <tr>\n",
              "      <th>0</th>\n",
              "      <td>17</td>\n",
              "      <td>2018-01-01 00:15:00</td>\n",
              "      <td>0.364</td>\n",
              "    </tr>\n",
              "    <tr>\n",
              "      <th>1</th>\n",
              "      <td>17</td>\n",
              "      <td>2018-01-01 00:30:00</td>\n",
              "      <td>0.532</td>\n",
              "    </tr>\n",
              "  </tbody>\n",
              "</table>\n",
              "</div>\n",
              "      <button class=\"colab-df-convert\" onclick=\"convertToInteractive('df-885f4886-c983-45f3-94d0-d9d12afc7c68')\"\n",
              "              title=\"Convert this dataframe to an interactive table.\"\n",
              "              style=\"display:none;\">\n",
              "        \n",
              "  <svg xmlns=\"http://www.w3.org/2000/svg\" height=\"24px\"viewBox=\"0 0 24 24\"\n",
              "       width=\"24px\">\n",
              "    <path d=\"M0 0h24v24H0V0z\" fill=\"none\"/>\n",
              "    <path d=\"M18.56 5.44l.94 2.06.94-2.06 2.06-.94-2.06-.94-.94-2.06-.94 2.06-2.06.94zm-11 1L8.5 8.5l.94-2.06 2.06-.94-2.06-.94L8.5 2.5l-.94 2.06-2.06.94zm10 10l.94 2.06.94-2.06 2.06-.94-2.06-.94-.94-2.06-.94 2.06-2.06.94z\"/><path d=\"M17.41 7.96l-1.37-1.37c-.4-.4-.92-.59-1.43-.59-.52 0-1.04.2-1.43.59L10.3 9.45l-7.72 7.72c-.78.78-.78 2.05 0 2.83L4 21.41c.39.39.9.59 1.41.59.51 0 1.02-.2 1.41-.59l7.78-7.78 2.81-2.81c.8-.78.8-2.07 0-2.86zM5.41 20L4 18.59l7.72-7.72 1.47 1.35L5.41 20z\"/>\n",
              "  </svg>\n",
              "      </button>\n",
              "      \n",
              "  <style>\n",
              "    .colab-df-container {\n",
              "      display:flex;\n",
              "      flex-wrap:wrap;\n",
              "      gap: 12px;\n",
              "    }\n",
              "\n",
              "    .colab-df-convert {\n",
              "      background-color: #E8F0FE;\n",
              "      border: none;\n",
              "      border-radius: 50%;\n",
              "      cursor: pointer;\n",
              "      display: none;\n",
              "      fill: #1967D2;\n",
              "      height: 32px;\n",
              "      padding: 0 0 0 0;\n",
              "      width: 32px;\n",
              "    }\n",
              "\n",
              "    .colab-df-convert:hover {\n",
              "      background-color: #E2EBFA;\n",
              "      box-shadow: 0px 1px 2px rgba(60, 64, 67, 0.3), 0px 1px 3px 1px rgba(60, 64, 67, 0.15);\n",
              "      fill: #174EA6;\n",
              "    }\n",
              "\n",
              "    [theme=dark] .colab-df-convert {\n",
              "      background-color: #3B4455;\n",
              "      fill: #D2E3FC;\n",
              "    }\n",
              "\n",
              "    [theme=dark] .colab-df-convert:hover {\n",
              "      background-color: #434B5C;\n",
              "      box-shadow: 0px 1px 3px 1px rgba(0, 0, 0, 0.15);\n",
              "      filter: drop-shadow(0px 1px 2px rgba(0, 0, 0, 0.3));\n",
              "      fill: #FFFFFF;\n",
              "    }\n",
              "  </style>\n",
              "\n",
              "      <script>\n",
              "        const buttonEl =\n",
              "          document.querySelector('#df-885f4886-c983-45f3-94d0-d9d12afc7c68 button.colab-df-convert');\n",
              "        buttonEl.style.display =\n",
              "          google.colab.kernel.accessAllowed ? 'block' : 'none';\n",
              "\n",
              "        async function convertToInteractive(key) {\n",
              "          const element = document.querySelector('#df-885f4886-c983-45f3-94d0-d9d12afc7c68');\n",
              "          const dataTable =\n",
              "            await google.colab.kernel.invokeFunction('convertToInteractive',\n",
              "                                                     [key], {});\n",
              "          if (!dataTable) return;\n",
              "\n",
              "          const docLinkHtml = 'Like what you see? Visit the ' +\n",
              "            '<a target=\"_blank\" href=https://colab.research.google.com/notebooks/data_table.ipynb>data table notebook</a>'\n",
              "            + ' to learn more about interactive tables.';\n",
              "          element.innerHTML = '';\n",
              "          dataTable['output_type'] = 'display_data';\n",
              "          await google.colab.output.renderOutput(dataTable, element);\n",
              "          const docLink = document.createElement('div');\n",
              "          docLink.innerHTML = docLinkHtml;\n",
              "          element.appendChild(docLink);\n",
              "        }\n",
              "      </script>\n",
              "    </div>\n",
              "  </div>\n",
              "  "
            ]
          },
          "metadata": {},
          "execution_count": 102
        }
      ]
    },
    {
      "cell_type": "markdown",
      "metadata": {
        "id": "TaBLJh49LhmL"
      },
      "source": [
        "Clean up issues with headers and columns. "
      ]
    },
    {
      "cell_type": "code",
      "metadata": {
        "colab": {
          "base_uri": "https://localhost:8080/",
          "height": 206
        },
        "id": "roymw58dm8ww",
        "outputId": "2f3130a0-c5d2-4840-e436-3d0b65c86dea"
      },
      "source": [
        "df2.columns = ['meter', 'time', 'kwh']\n",
        "df2.tail()"
      ],
      "execution_count": 104,
      "outputs": [
        {
          "output_type": "execute_result",
          "data": {
            "text/plain": [
              "        meter                 time  kwh\n",
              "560685     32  2018-12-31 23:00:00  0.0\n",
              "560686     32  2018-12-31 23:15:00  0.0\n",
              "560687     32  2018-12-31 23:30:00  0.0\n",
              "560688     32  2018-12-31 23:45:00  0.0\n",
              "560689     32  2019-01-01 00:00:00  0.0"
            ],
            "text/html": [
              "\n",
              "  <div id=\"df-4d35c5a4-c879-4482-a651-7a5b970799ff\">\n",
              "    <div class=\"colab-df-container\">\n",
              "      <div>\n",
              "<style scoped>\n",
              "    .dataframe tbody tr th:only-of-type {\n",
              "        vertical-align: middle;\n",
              "    }\n",
              "\n",
              "    .dataframe tbody tr th {\n",
              "        vertical-align: top;\n",
              "    }\n",
              "\n",
              "    .dataframe thead th {\n",
              "        text-align: right;\n",
              "    }\n",
              "</style>\n",
              "<table border=\"1\" class=\"dataframe\">\n",
              "  <thead>\n",
              "    <tr style=\"text-align: right;\">\n",
              "      <th></th>\n",
              "      <th>meter</th>\n",
              "      <th>time</th>\n",
              "      <th>kwh</th>\n",
              "    </tr>\n",
              "  </thead>\n",
              "  <tbody>\n",
              "    <tr>\n",
              "      <th>560685</th>\n",
              "      <td>32</td>\n",
              "      <td>2018-12-31 23:00:00</td>\n",
              "      <td>0.0</td>\n",
              "    </tr>\n",
              "    <tr>\n",
              "      <th>560686</th>\n",
              "      <td>32</td>\n",
              "      <td>2018-12-31 23:15:00</td>\n",
              "      <td>0.0</td>\n",
              "    </tr>\n",
              "    <tr>\n",
              "      <th>560687</th>\n",
              "      <td>32</td>\n",
              "      <td>2018-12-31 23:30:00</td>\n",
              "      <td>0.0</td>\n",
              "    </tr>\n",
              "    <tr>\n",
              "      <th>560688</th>\n",
              "      <td>32</td>\n",
              "      <td>2018-12-31 23:45:00</td>\n",
              "      <td>0.0</td>\n",
              "    </tr>\n",
              "    <tr>\n",
              "      <th>560689</th>\n",
              "      <td>32</td>\n",
              "      <td>2019-01-01 00:00:00</td>\n",
              "      <td>0.0</td>\n",
              "    </tr>\n",
              "  </tbody>\n",
              "</table>\n",
              "</div>\n",
              "      <button class=\"colab-df-convert\" onclick=\"convertToInteractive('df-4d35c5a4-c879-4482-a651-7a5b970799ff')\"\n",
              "              title=\"Convert this dataframe to an interactive table.\"\n",
              "              style=\"display:none;\">\n",
              "        \n",
              "  <svg xmlns=\"http://www.w3.org/2000/svg\" height=\"24px\"viewBox=\"0 0 24 24\"\n",
              "       width=\"24px\">\n",
              "    <path d=\"M0 0h24v24H0V0z\" fill=\"none\"/>\n",
              "    <path d=\"M18.56 5.44l.94 2.06.94-2.06 2.06-.94-2.06-.94-.94-2.06-.94 2.06-2.06.94zm-11 1L8.5 8.5l.94-2.06 2.06-.94-2.06-.94L8.5 2.5l-.94 2.06-2.06.94zm10 10l.94 2.06.94-2.06 2.06-.94-2.06-.94-.94-2.06-.94 2.06-2.06.94z\"/><path d=\"M17.41 7.96l-1.37-1.37c-.4-.4-.92-.59-1.43-.59-.52 0-1.04.2-1.43.59L10.3 9.45l-7.72 7.72c-.78.78-.78 2.05 0 2.83L4 21.41c.39.39.9.59 1.41.59.51 0 1.02-.2 1.41-.59l7.78-7.78 2.81-2.81c.8-.78.8-2.07 0-2.86zM5.41 20L4 18.59l7.72-7.72 1.47 1.35L5.41 20z\"/>\n",
              "  </svg>\n",
              "      </button>\n",
              "      \n",
              "  <style>\n",
              "    .colab-df-container {\n",
              "      display:flex;\n",
              "      flex-wrap:wrap;\n",
              "      gap: 12px;\n",
              "    }\n",
              "\n",
              "    .colab-df-convert {\n",
              "      background-color: #E8F0FE;\n",
              "      border: none;\n",
              "      border-radius: 50%;\n",
              "      cursor: pointer;\n",
              "      display: none;\n",
              "      fill: #1967D2;\n",
              "      height: 32px;\n",
              "      padding: 0 0 0 0;\n",
              "      width: 32px;\n",
              "    }\n",
              "\n",
              "    .colab-df-convert:hover {\n",
              "      background-color: #E2EBFA;\n",
              "      box-shadow: 0px 1px 2px rgba(60, 64, 67, 0.3), 0px 1px 3px 1px rgba(60, 64, 67, 0.15);\n",
              "      fill: #174EA6;\n",
              "    }\n",
              "\n",
              "    [theme=dark] .colab-df-convert {\n",
              "      background-color: #3B4455;\n",
              "      fill: #D2E3FC;\n",
              "    }\n",
              "\n",
              "    [theme=dark] .colab-df-convert:hover {\n",
              "      background-color: #434B5C;\n",
              "      box-shadow: 0px 1px 3px 1px rgba(0, 0, 0, 0.15);\n",
              "      filter: drop-shadow(0px 1px 2px rgba(0, 0, 0, 0.3));\n",
              "      fill: #FFFFFF;\n",
              "    }\n",
              "  </style>\n",
              "\n",
              "      <script>\n",
              "        const buttonEl =\n",
              "          document.querySelector('#df-4d35c5a4-c879-4482-a651-7a5b970799ff button.colab-df-convert');\n",
              "        buttonEl.style.display =\n",
              "          google.colab.kernel.accessAllowed ? 'block' : 'none';\n",
              "\n",
              "        async function convertToInteractive(key) {\n",
              "          const element = document.querySelector('#df-4d35c5a4-c879-4482-a651-7a5b970799ff');\n",
              "          const dataTable =\n",
              "            await google.colab.kernel.invokeFunction('convertToInteractive',\n",
              "                                                     [key], {});\n",
              "          if (!dataTable) return;\n",
              "\n",
              "          const docLinkHtml = 'Like what you see? Visit the ' +\n",
              "            '<a target=\"_blank\" href=https://colab.research.google.com/notebooks/data_table.ipynb>data table notebook</a>'\n",
              "            + ' to learn more about interactive tables.';\n",
              "          element.innerHTML = '';\n",
              "          dataTable['output_type'] = 'display_data';\n",
              "          await google.colab.output.renderOutput(dataTable, element);\n",
              "          const docLink = document.createElement('div');\n",
              "          docLink.innerHTML = docLinkHtml;\n",
              "          element.appendChild(docLink);\n",
              "        }\n",
              "      </script>\n",
              "    </div>\n",
              "  </div>\n",
              "  "
            ]
          },
          "metadata": {},
          "execution_count": 104
        }
      ]
    },
    {
      "cell_type": "code",
      "source": [
        "df_price.head()"
      ],
      "metadata": {
        "colab": {
          "base_uri": "https://localhost:8080/",
          "height": 206
        },
        "id": "ru5hAjc_YUCY",
        "outputId": "25a909d5-fb0e-4a4f-bc3d-6a285ee1d69e"
      },
      "execution_count": 105,
      "outputs": [
        {
          "output_type": "execute_result",
          "data": {
            "text/plain": [
              "   Unnamed: 0 OPERATION_DATE HOUR_ENDING INTERVAL_ENDING   TOUTYPE     MARKET  \\\n",
              "0           0     2018-01-01         100              15  OFF-PEAK  Real Time   \n",
              "1           1     2018-01-01         100              30  OFF-PEAK  Real Time   \n",
              "2           2     2018-01-01         100              45  OFF-PEAK  Real Time   \n",
              "3           3     2018-01-01         100             100  OFF-PEAK  Real Time   \n",
              "4           4     2018-01-01         200             115  OFF-PEAK  Real Time   \n",
              "\n",
              "            ZONE  PRICE  \n",
              "0  Load Zone CPS  24.10  \n",
              "1  Load Zone CPS  23.76  \n",
              "2  Load Zone CPS  22.87  \n",
              "3  Load Zone CPS  22.70  \n",
              "4  Load Zone CPS  22.07  "
            ],
            "text/html": [
              "\n",
              "  <div id=\"df-a5492f90-16b6-4a5f-ad42-d79306185ea7\">\n",
              "    <div class=\"colab-df-container\">\n",
              "      <div>\n",
              "<style scoped>\n",
              "    .dataframe tbody tr th:only-of-type {\n",
              "        vertical-align: middle;\n",
              "    }\n",
              "\n",
              "    .dataframe tbody tr th {\n",
              "        vertical-align: top;\n",
              "    }\n",
              "\n",
              "    .dataframe thead th {\n",
              "        text-align: right;\n",
              "    }\n",
              "</style>\n",
              "<table border=\"1\" class=\"dataframe\">\n",
              "  <thead>\n",
              "    <tr style=\"text-align: right;\">\n",
              "      <th></th>\n",
              "      <th>Unnamed: 0</th>\n",
              "      <th>OPERATION_DATE</th>\n",
              "      <th>HOUR_ENDING</th>\n",
              "      <th>INTERVAL_ENDING</th>\n",
              "      <th>TOUTYPE</th>\n",
              "      <th>MARKET</th>\n",
              "      <th>ZONE</th>\n",
              "      <th>PRICE</th>\n",
              "    </tr>\n",
              "  </thead>\n",
              "  <tbody>\n",
              "    <tr>\n",
              "      <th>0</th>\n",
              "      <td>0</td>\n",
              "      <td>2018-01-01</td>\n",
              "      <td>100</td>\n",
              "      <td>15</td>\n",
              "      <td>OFF-PEAK</td>\n",
              "      <td>Real Time</td>\n",
              "      <td>Load Zone CPS</td>\n",
              "      <td>24.10</td>\n",
              "    </tr>\n",
              "    <tr>\n",
              "      <th>1</th>\n",
              "      <td>1</td>\n",
              "      <td>2018-01-01</td>\n",
              "      <td>100</td>\n",
              "      <td>30</td>\n",
              "      <td>OFF-PEAK</td>\n",
              "      <td>Real Time</td>\n",
              "      <td>Load Zone CPS</td>\n",
              "      <td>23.76</td>\n",
              "    </tr>\n",
              "    <tr>\n",
              "      <th>2</th>\n",
              "      <td>2</td>\n",
              "      <td>2018-01-01</td>\n",
              "      <td>100</td>\n",
              "      <td>45</td>\n",
              "      <td>OFF-PEAK</td>\n",
              "      <td>Real Time</td>\n",
              "      <td>Load Zone CPS</td>\n",
              "      <td>22.87</td>\n",
              "    </tr>\n",
              "    <tr>\n",
              "      <th>3</th>\n",
              "      <td>3</td>\n",
              "      <td>2018-01-01</td>\n",
              "      <td>100</td>\n",
              "      <td>100</td>\n",
              "      <td>OFF-PEAK</td>\n",
              "      <td>Real Time</td>\n",
              "      <td>Load Zone CPS</td>\n",
              "      <td>22.70</td>\n",
              "    </tr>\n",
              "    <tr>\n",
              "      <th>4</th>\n",
              "      <td>4</td>\n",
              "      <td>2018-01-01</td>\n",
              "      <td>200</td>\n",
              "      <td>115</td>\n",
              "      <td>OFF-PEAK</td>\n",
              "      <td>Real Time</td>\n",
              "      <td>Load Zone CPS</td>\n",
              "      <td>22.07</td>\n",
              "    </tr>\n",
              "  </tbody>\n",
              "</table>\n",
              "</div>\n",
              "      <button class=\"colab-df-convert\" onclick=\"convertToInteractive('df-a5492f90-16b6-4a5f-ad42-d79306185ea7')\"\n",
              "              title=\"Convert this dataframe to an interactive table.\"\n",
              "              style=\"display:none;\">\n",
              "        \n",
              "  <svg xmlns=\"http://www.w3.org/2000/svg\" height=\"24px\"viewBox=\"0 0 24 24\"\n",
              "       width=\"24px\">\n",
              "    <path d=\"M0 0h24v24H0V0z\" fill=\"none\"/>\n",
              "    <path d=\"M18.56 5.44l.94 2.06.94-2.06 2.06-.94-2.06-.94-.94-2.06-.94 2.06-2.06.94zm-11 1L8.5 8.5l.94-2.06 2.06-.94-2.06-.94L8.5 2.5l-.94 2.06-2.06.94zm10 10l.94 2.06.94-2.06 2.06-.94-2.06-.94-.94-2.06-.94 2.06-2.06.94z\"/><path d=\"M17.41 7.96l-1.37-1.37c-.4-.4-.92-.59-1.43-.59-.52 0-1.04.2-1.43.59L10.3 9.45l-7.72 7.72c-.78.78-.78 2.05 0 2.83L4 21.41c.39.39.9.59 1.41.59.51 0 1.02-.2 1.41-.59l7.78-7.78 2.81-2.81c.8-.78.8-2.07 0-2.86zM5.41 20L4 18.59l7.72-7.72 1.47 1.35L5.41 20z\"/>\n",
              "  </svg>\n",
              "      </button>\n",
              "      \n",
              "  <style>\n",
              "    .colab-df-container {\n",
              "      display:flex;\n",
              "      flex-wrap:wrap;\n",
              "      gap: 12px;\n",
              "    }\n",
              "\n",
              "    .colab-df-convert {\n",
              "      background-color: #E8F0FE;\n",
              "      border: none;\n",
              "      border-radius: 50%;\n",
              "      cursor: pointer;\n",
              "      display: none;\n",
              "      fill: #1967D2;\n",
              "      height: 32px;\n",
              "      padding: 0 0 0 0;\n",
              "      width: 32px;\n",
              "    }\n",
              "\n",
              "    .colab-df-convert:hover {\n",
              "      background-color: #E2EBFA;\n",
              "      box-shadow: 0px 1px 2px rgba(60, 64, 67, 0.3), 0px 1px 3px 1px rgba(60, 64, 67, 0.15);\n",
              "      fill: #174EA6;\n",
              "    }\n",
              "\n",
              "    [theme=dark] .colab-df-convert {\n",
              "      background-color: #3B4455;\n",
              "      fill: #D2E3FC;\n",
              "    }\n",
              "\n",
              "    [theme=dark] .colab-df-convert:hover {\n",
              "      background-color: #434B5C;\n",
              "      box-shadow: 0px 1px 3px 1px rgba(0, 0, 0, 0.15);\n",
              "      filter: drop-shadow(0px 1px 2px rgba(0, 0, 0, 0.3));\n",
              "      fill: #FFFFFF;\n",
              "    }\n",
              "  </style>\n",
              "\n",
              "      <script>\n",
              "        const buttonEl =\n",
              "          document.querySelector('#df-a5492f90-16b6-4a5f-ad42-d79306185ea7 button.colab-df-convert');\n",
              "        buttonEl.style.display =\n",
              "          google.colab.kernel.accessAllowed ? 'block' : 'none';\n",
              "\n",
              "        async function convertToInteractive(key) {\n",
              "          const element = document.querySelector('#df-a5492f90-16b6-4a5f-ad42-d79306185ea7');\n",
              "          const dataTable =\n",
              "            await google.colab.kernel.invokeFunction('convertToInteractive',\n",
              "                                                     [key], {});\n",
              "          if (!dataTable) return;\n",
              "\n",
              "          const docLinkHtml = 'Like what you see? Visit the ' +\n",
              "            '<a target=\"_blank\" href=https://colab.research.google.com/notebooks/data_table.ipynb>data table notebook</a>'\n",
              "            + ' to learn more about interactive tables.';\n",
              "          element.innerHTML = '';\n",
              "          dataTable['output_type'] = 'display_data';\n",
              "          await google.colab.output.renderOutput(dataTable, element);\n",
              "          const docLink = document.createElement('div');\n",
              "          docLink.innerHTML = docLinkHtml;\n",
              "          element.appendChild(docLink);\n",
              "        }\n",
              "      </script>\n",
              "    </div>\n",
              "  </div>\n",
              "  "
            ]
          },
          "metadata": {},
          "execution_count": 105
        }
      ]
    },
    {
      "cell_type": "code",
      "metadata": {
        "colab": {
          "base_uri": "https://localhost:8080/",
          "height": 206
        },
        "id": "e0WPDgmVvbki",
        "outputId": "adcb7b3e-abe2-440b-fbdb-215891e80dbb"
      },
      "source": [
        "df_price.drop(df_price.columns[0], axis=1, inplace=True) \n",
        "# axis = 1 refers to the column names\n",
        "# inplace = True perform the operstion in the same location/memory\n",
        "df_price.head()"
      ],
      "execution_count": 128,
      "outputs": [
        {
          "output_type": "execute_result",
          "data": {
            "text/plain": [
              "  OPERATION_DATE HOUR_ENDING INTERVAL_ENDING   TOUTYPE     MARKET  \\\n",
              "0     2018-01-01         100              15  OFF-PEAK  Real Time   \n",
              "1     2018-01-01         100              30  OFF-PEAK  Real Time   \n",
              "2     2018-01-01         100              45  OFF-PEAK  Real Time   \n",
              "3     2018-01-01         100             100  OFF-PEAK  Real Time   \n",
              "4     2018-01-01         200             115  OFF-PEAK  Real Time   \n",
              "\n",
              "            ZONE  PRICE  \n",
              "0  Load Zone CPS  24.10  \n",
              "1  Load Zone CPS  23.76  \n",
              "2  Load Zone CPS  22.87  \n",
              "3  Load Zone CPS  22.70  \n",
              "4  Load Zone CPS  22.07  "
            ],
            "text/html": [
              "\n",
              "  <div id=\"df-2b5b0c13-4954-4792-8d6a-8df4fdb8acb6\">\n",
              "    <div class=\"colab-df-container\">\n",
              "      <div>\n",
              "<style scoped>\n",
              "    .dataframe tbody tr th:only-of-type {\n",
              "        vertical-align: middle;\n",
              "    }\n",
              "\n",
              "    .dataframe tbody tr th {\n",
              "        vertical-align: top;\n",
              "    }\n",
              "\n",
              "    .dataframe thead th {\n",
              "        text-align: right;\n",
              "    }\n",
              "</style>\n",
              "<table border=\"1\" class=\"dataframe\">\n",
              "  <thead>\n",
              "    <tr style=\"text-align: right;\">\n",
              "      <th></th>\n",
              "      <th>OPERATION_DATE</th>\n",
              "      <th>HOUR_ENDING</th>\n",
              "      <th>INTERVAL_ENDING</th>\n",
              "      <th>TOUTYPE</th>\n",
              "      <th>MARKET</th>\n",
              "      <th>ZONE</th>\n",
              "      <th>PRICE</th>\n",
              "    </tr>\n",
              "  </thead>\n",
              "  <tbody>\n",
              "    <tr>\n",
              "      <th>0</th>\n",
              "      <td>2018-01-01</td>\n",
              "      <td>100</td>\n",
              "      <td>15</td>\n",
              "      <td>OFF-PEAK</td>\n",
              "      <td>Real Time</td>\n",
              "      <td>Load Zone CPS</td>\n",
              "      <td>24.10</td>\n",
              "    </tr>\n",
              "    <tr>\n",
              "      <th>1</th>\n",
              "      <td>2018-01-01</td>\n",
              "      <td>100</td>\n",
              "      <td>30</td>\n",
              "      <td>OFF-PEAK</td>\n",
              "      <td>Real Time</td>\n",
              "      <td>Load Zone CPS</td>\n",
              "      <td>23.76</td>\n",
              "    </tr>\n",
              "    <tr>\n",
              "      <th>2</th>\n",
              "      <td>2018-01-01</td>\n",
              "      <td>100</td>\n",
              "      <td>45</td>\n",
              "      <td>OFF-PEAK</td>\n",
              "      <td>Real Time</td>\n",
              "      <td>Load Zone CPS</td>\n",
              "      <td>22.87</td>\n",
              "    </tr>\n",
              "    <tr>\n",
              "      <th>3</th>\n",
              "      <td>2018-01-01</td>\n",
              "      <td>100</td>\n",
              "      <td>100</td>\n",
              "      <td>OFF-PEAK</td>\n",
              "      <td>Real Time</td>\n",
              "      <td>Load Zone CPS</td>\n",
              "      <td>22.70</td>\n",
              "    </tr>\n",
              "    <tr>\n",
              "      <th>4</th>\n",
              "      <td>2018-01-01</td>\n",
              "      <td>200</td>\n",
              "      <td>115</td>\n",
              "      <td>OFF-PEAK</td>\n",
              "      <td>Real Time</td>\n",
              "      <td>Load Zone CPS</td>\n",
              "      <td>22.07</td>\n",
              "    </tr>\n",
              "  </tbody>\n",
              "</table>\n",
              "</div>\n",
              "      <button class=\"colab-df-convert\" onclick=\"convertToInteractive('df-2b5b0c13-4954-4792-8d6a-8df4fdb8acb6')\"\n",
              "              title=\"Convert this dataframe to an interactive table.\"\n",
              "              style=\"display:none;\">\n",
              "        \n",
              "  <svg xmlns=\"http://www.w3.org/2000/svg\" height=\"24px\"viewBox=\"0 0 24 24\"\n",
              "       width=\"24px\">\n",
              "    <path d=\"M0 0h24v24H0V0z\" fill=\"none\"/>\n",
              "    <path d=\"M18.56 5.44l.94 2.06.94-2.06 2.06-.94-2.06-.94-.94-2.06-.94 2.06-2.06.94zm-11 1L8.5 8.5l.94-2.06 2.06-.94-2.06-.94L8.5 2.5l-.94 2.06-2.06.94zm10 10l.94 2.06.94-2.06 2.06-.94-2.06-.94-.94-2.06-.94 2.06-2.06.94z\"/><path d=\"M17.41 7.96l-1.37-1.37c-.4-.4-.92-.59-1.43-.59-.52 0-1.04.2-1.43.59L10.3 9.45l-7.72 7.72c-.78.78-.78 2.05 0 2.83L4 21.41c.39.39.9.59 1.41.59.51 0 1.02-.2 1.41-.59l7.78-7.78 2.81-2.81c.8-.78.8-2.07 0-2.86zM5.41 20L4 18.59l7.72-7.72 1.47 1.35L5.41 20z\"/>\n",
              "  </svg>\n",
              "      </button>\n",
              "      \n",
              "  <style>\n",
              "    .colab-df-container {\n",
              "      display:flex;\n",
              "      flex-wrap:wrap;\n",
              "      gap: 12px;\n",
              "    }\n",
              "\n",
              "    .colab-df-convert {\n",
              "      background-color: #E8F0FE;\n",
              "      border: none;\n",
              "      border-radius: 50%;\n",
              "      cursor: pointer;\n",
              "      display: none;\n",
              "      fill: #1967D2;\n",
              "      height: 32px;\n",
              "      padding: 0 0 0 0;\n",
              "      width: 32px;\n",
              "    }\n",
              "\n",
              "    .colab-df-convert:hover {\n",
              "      background-color: #E2EBFA;\n",
              "      box-shadow: 0px 1px 2px rgba(60, 64, 67, 0.3), 0px 1px 3px 1px rgba(60, 64, 67, 0.15);\n",
              "      fill: #174EA6;\n",
              "    }\n",
              "\n",
              "    [theme=dark] .colab-df-convert {\n",
              "      background-color: #3B4455;\n",
              "      fill: #D2E3FC;\n",
              "    }\n",
              "\n",
              "    [theme=dark] .colab-df-convert:hover {\n",
              "      background-color: #434B5C;\n",
              "      box-shadow: 0px 1px 3px 1px rgba(0, 0, 0, 0.15);\n",
              "      filter: drop-shadow(0px 1px 2px rgba(0, 0, 0, 0.3));\n",
              "      fill: #FFFFFF;\n",
              "    }\n",
              "  </style>\n",
              "\n",
              "      <script>\n",
              "        const buttonEl =\n",
              "          document.querySelector('#df-2b5b0c13-4954-4792-8d6a-8df4fdb8acb6 button.colab-df-convert');\n",
              "        buttonEl.style.display =\n",
              "          google.colab.kernel.accessAllowed ? 'block' : 'none';\n",
              "\n",
              "        async function convertToInteractive(key) {\n",
              "          const element = document.querySelector('#df-2b5b0c13-4954-4792-8d6a-8df4fdb8acb6');\n",
              "          const dataTable =\n",
              "            await google.colab.kernel.invokeFunction('convertToInteractive',\n",
              "                                                     [key], {});\n",
              "          if (!dataTable) return;\n",
              "\n",
              "          const docLinkHtml = 'Like what you see? Visit the ' +\n",
              "            '<a target=\"_blank\" href=https://colab.research.google.com/notebooks/data_table.ipynb>data table notebook</a>'\n",
              "            + ' to learn more about interactive tables.';\n",
              "          element.innerHTML = '';\n",
              "          dataTable['output_type'] = 'display_data';\n",
              "          await google.colab.output.renderOutput(dataTable, element);\n",
              "          const docLink = document.createElement('div');\n",
              "          docLink.innerHTML = docLinkHtml;\n",
              "          element.appendChild(docLink);\n",
              "        }\n",
              "      </script>\n",
              "    </div>\n",
              "  </div>\n",
              "  "
            ]
          },
          "metadata": {},
          "execution_count": 128
        }
      ]
    },
    {
      "cell_type": "markdown",
      "metadata": {
        "id": "2QWWM9OSL4Ld"
      },
      "source": [
        "#### Merge these DataFrames to facilitate EDA. "
      ]
    },
    {
      "cell_type": "code",
      "source": [
        "df1.info()"
      ],
      "metadata": {
        "colab": {
          "base_uri": "https://localhost:8080/"
        },
        "id": "r3N6UC6CaAo_",
        "outputId": "493404b4-127e-45a1-e4f6-f86b324d285d"
      },
      "execution_count": 129,
      "outputs": [
        {
          "output_type": "stream",
          "name": "stdout",
          "text": [
            "<class 'pandas.core.frame.DataFrame'>\n",
            "RangeIndex: 560665 entries, 0 to 560664\n",
            "Data columns (total 3 columns):\n",
            " #   Column  Non-Null Count   Dtype  \n",
            "---  ------  --------------   -----  \n",
            " 0   meter   560665 non-null  int64  \n",
            " 1   time    560665 non-null  object \n",
            " 2   kwh     560665 non-null  float64\n",
            "dtypes: float64(1), int64(1), object(1)\n",
            "memory usage: 12.8+ MB\n"
          ]
        }
      ]
    },
    {
      "cell_type": "code",
      "source": [
        "df2.head(2)"
      ],
      "metadata": {
        "colab": {
          "base_uri": "https://localhost:8080/",
          "height": 112
        },
        "id": "OJl3YrC5aCwM",
        "outputId": "b9bf5a33-fa5a-476e-bac5-57a661eca163"
      },
      "execution_count": 131,
      "outputs": [
        {
          "output_type": "execute_result",
          "data": {
            "text/plain": [
              "    0                    1      2\n",
              "0  17  2018-01-01 00:15:00  0.364\n",
              "1  17  2018-01-01 00:30:00  0.532"
            ],
            "text/html": [
              "\n",
              "  <div id=\"df-968d99af-c3d4-4ad2-9119-ffcfcd00e22e\">\n",
              "    <div class=\"colab-df-container\">\n",
              "      <div>\n",
              "<style scoped>\n",
              "    .dataframe tbody tr th:only-of-type {\n",
              "        vertical-align: middle;\n",
              "    }\n",
              "\n",
              "    .dataframe tbody tr th {\n",
              "        vertical-align: top;\n",
              "    }\n",
              "\n",
              "    .dataframe thead th {\n",
              "        text-align: right;\n",
              "    }\n",
              "</style>\n",
              "<table border=\"1\" class=\"dataframe\">\n",
              "  <thead>\n",
              "    <tr style=\"text-align: right;\">\n",
              "      <th></th>\n",
              "      <th>0</th>\n",
              "      <th>1</th>\n",
              "      <th>2</th>\n",
              "    </tr>\n",
              "  </thead>\n",
              "  <tbody>\n",
              "    <tr>\n",
              "      <th>0</th>\n",
              "      <td>17</td>\n",
              "      <td>2018-01-01 00:15:00</td>\n",
              "      <td>0.364</td>\n",
              "    </tr>\n",
              "    <tr>\n",
              "      <th>1</th>\n",
              "      <td>17</td>\n",
              "      <td>2018-01-01 00:30:00</td>\n",
              "      <td>0.532</td>\n",
              "    </tr>\n",
              "  </tbody>\n",
              "</table>\n",
              "</div>\n",
              "      <button class=\"colab-df-convert\" onclick=\"convertToInteractive('df-968d99af-c3d4-4ad2-9119-ffcfcd00e22e')\"\n",
              "              title=\"Convert this dataframe to an interactive table.\"\n",
              "              style=\"display:none;\">\n",
              "        \n",
              "  <svg xmlns=\"http://www.w3.org/2000/svg\" height=\"24px\"viewBox=\"0 0 24 24\"\n",
              "       width=\"24px\">\n",
              "    <path d=\"M0 0h24v24H0V0z\" fill=\"none\"/>\n",
              "    <path d=\"M18.56 5.44l.94 2.06.94-2.06 2.06-.94-2.06-.94-.94-2.06-.94 2.06-2.06.94zm-11 1L8.5 8.5l.94-2.06 2.06-.94-2.06-.94L8.5 2.5l-.94 2.06-2.06.94zm10 10l.94 2.06.94-2.06 2.06-.94-2.06-.94-.94-2.06-.94 2.06-2.06.94z\"/><path d=\"M17.41 7.96l-1.37-1.37c-.4-.4-.92-.59-1.43-.59-.52 0-1.04.2-1.43.59L10.3 9.45l-7.72 7.72c-.78.78-.78 2.05 0 2.83L4 21.41c.39.39.9.59 1.41.59.51 0 1.02-.2 1.41-.59l7.78-7.78 2.81-2.81c.8-.78.8-2.07 0-2.86zM5.41 20L4 18.59l7.72-7.72 1.47 1.35L5.41 20z\"/>\n",
              "  </svg>\n",
              "      </button>\n",
              "      \n",
              "  <style>\n",
              "    .colab-df-container {\n",
              "      display:flex;\n",
              "      flex-wrap:wrap;\n",
              "      gap: 12px;\n",
              "    }\n",
              "\n",
              "    .colab-df-convert {\n",
              "      background-color: #E8F0FE;\n",
              "      border: none;\n",
              "      border-radius: 50%;\n",
              "      cursor: pointer;\n",
              "      display: none;\n",
              "      fill: #1967D2;\n",
              "      height: 32px;\n",
              "      padding: 0 0 0 0;\n",
              "      width: 32px;\n",
              "    }\n",
              "\n",
              "    .colab-df-convert:hover {\n",
              "      background-color: #E2EBFA;\n",
              "      box-shadow: 0px 1px 2px rgba(60, 64, 67, 0.3), 0px 1px 3px 1px rgba(60, 64, 67, 0.15);\n",
              "      fill: #174EA6;\n",
              "    }\n",
              "\n",
              "    [theme=dark] .colab-df-convert {\n",
              "      background-color: #3B4455;\n",
              "      fill: #D2E3FC;\n",
              "    }\n",
              "\n",
              "    [theme=dark] .colab-df-convert:hover {\n",
              "      background-color: #434B5C;\n",
              "      box-shadow: 0px 1px 3px 1px rgba(0, 0, 0, 0.15);\n",
              "      filter: drop-shadow(0px 1px 2px rgba(0, 0, 0, 0.3));\n",
              "      fill: #FFFFFF;\n",
              "    }\n",
              "  </style>\n",
              "\n",
              "      <script>\n",
              "        const buttonEl =\n",
              "          document.querySelector('#df-968d99af-c3d4-4ad2-9119-ffcfcd00e22e button.colab-df-convert');\n",
              "        buttonEl.style.display =\n",
              "          google.colab.kernel.accessAllowed ? 'block' : 'none';\n",
              "\n",
              "        async function convertToInteractive(key) {\n",
              "          const element = document.querySelector('#df-968d99af-c3d4-4ad2-9119-ffcfcd00e22e');\n",
              "          const dataTable =\n",
              "            await google.colab.kernel.invokeFunction('convertToInteractive',\n",
              "                                                     [key], {});\n",
              "          if (!dataTable) return;\n",
              "\n",
              "          const docLinkHtml = 'Like what you see? Visit the ' +\n",
              "            '<a target=\"_blank\" href=https://colab.research.google.com/notebooks/data_table.ipynb>data table notebook</a>'\n",
              "            + ' to learn more about interactive tables.';\n",
              "          element.innerHTML = '';\n",
              "          dataTable['output_type'] = 'display_data';\n",
              "          await google.colab.output.renderOutput(dataTable, element);\n",
              "          const docLink = document.createElement('div');\n",
              "          docLink.innerHTML = docLinkHtml;\n",
              "          element.appendChild(docLink);\n",
              "        }\n",
              "      </script>\n",
              "    </div>\n",
              "  </div>\n",
              "  "
            ]
          },
          "metadata": {},
          "execution_count": 131
        }
      ]
    },
    {
      "cell_type": "code",
      "metadata": {
        "colab": {
          "base_uri": "https://localhost:8080/"
        },
        "id": "ykNIWQnXMVkp",
        "outputId": "9fd54a8e-d544-4a0f-ae2b-38cbed3c9c2f"
      },
      "source": [
        "dfn = pd.concat([df1, df2])\n",
        "dfn.info()"
      ],
      "execution_count": 133,
      "outputs": [
        {
          "output_type": "stream",
          "name": "stdout",
          "text": [
            "<class 'pandas.core.frame.DataFrame'>\n",
            "Int64Index: 1121355 entries, 0 to 560689\n",
            "Data columns (total 6 columns):\n",
            " #   Column  Non-Null Count   Dtype  \n",
            "---  ------  --------------   -----  \n",
            " 0   0       560690 non-null  float64\n",
            " 1   1       560690 non-null  object \n",
            " 2   2       560690 non-null  float64\n",
            " 3   kwh     560665 non-null  float64\n",
            " 4   meter   560665 non-null  float64\n",
            " 5   time    560665 non-null  object \n",
            "dtypes: float64(4), object(2)\n",
            "memory usage: 59.9+ MB\n"
          ]
        }
      ]
    },
    {
      "cell_type": "markdown",
      "metadata": {
        "id": "FnSWEohLPwIE"
      },
      "source": [
        "We will merge these DataFrames on Date/Time. Before we can do that, we need to work to reformat the date/time columns in `df_price`. First, recall the EDA process generally...\n",
        "\n",
        "\n",
        "\n",
        "### Exploratory Data Analysis\n",
        "**Purpose**: EDA is an important part of any data analysis in that it allows further data understanding.\n",
        " - Do the data meet your expectations?\n",
        " - Data cleaning\n",
        " \n",
        "**Process**: \n",
        "1. Generate questions about the data\n",
        "2. Search for answers by visualizing and transforming the data\n",
        "3. Through your findings, continue to refine your questions and generate new ones\n",
        "\n",
        "**Look for**:\n",
        " - Variation within variables\n",
        " - Covariation between variables\n",
        " \n",
        "#### Quesions\n",
        "What kind of features do we have?\n",
        " - Scale, type, domain...\n",
        "\n",
        "How is the data quality\n",
        " - Relevant, trustworthy?\n",
        " - Missing values, outliers, cardinality?\n",
        " \n",
        "Use the `info()` function to see some basic information about the object."
      ]
    },
    {
      "cell_type": "code",
      "metadata": {
        "colab": {
          "base_uri": "https://localhost:8080/"
        },
        "id": "ZK9_euOEQJ-I",
        "outputId": "12d6c0e0-08ff-4460-c2a0-148cfc974da1"
      },
      "source": [
        "df_price.info()"
      ],
      "execution_count": 134,
      "outputs": [
        {
          "output_type": "stream",
          "name": "stdout",
          "text": [
            "<class 'pandas.core.frame.DataFrame'>\n",
            "RangeIndex: 35040 entries, 0 to 35039\n",
            "Data columns (total 7 columns):\n",
            " #   Column           Non-Null Count  Dtype  \n",
            "---  ------           --------------  -----  \n",
            " 0   OPERATION_DATE   35040 non-null  object \n",
            " 1   HOUR_ENDING      35040 non-null  object \n",
            " 2   INTERVAL_ENDING  35040 non-null  object \n",
            " 3   TOUTYPE          35040 non-null  object \n",
            " 4   MARKET           35040 non-null  object \n",
            " 5   ZONE             35040 non-null  object \n",
            " 6   PRICE            35040 non-null  float64\n",
            "dtypes: float64(1), object(6)\n",
            "memory usage: 1.9+ MB\n"
          ]
        }
      ]
    },
    {
      "cell_type": "markdown",
      "metadata": {
        "id": "H8ORYGZuQRm5"
      },
      "source": [
        "Summary statistics summarize large amounts of data by describing key characteristics such as the average, distribution, and potential correlation. They can provide an idea of the distribution and the spread of values. This may help with decisions like whether or not to scale the data later on in the data preparation phase. \n",
        "\n",
        "Create a data quality report using descriptive statistics, cardinality, and percent of each feature missing.\n",
        " - Use `pandas.describe()` to view several descriptive statistics.\n",
        " - View the data cardinality with `pandas.nunique()`.\n",
        " - Use `pandas.isna()` to see missing values by feature. "
      ]
    },
    {
      "cell_type": "code",
      "metadata": {
        "colab": {
          "base_uri": "https://localhost:8080/",
          "height": 300
        },
        "id": "CGLnvvisQX5N",
        "outputId": "b66d03e4-8c42-4da1-8aab-5eaad3f3ba9d"
      },
      "source": [
        "df_price.describe()"
      ],
      "execution_count": 135,
      "outputs": [
        {
          "output_type": "execute_result",
          "data": {
            "text/plain": [
              "              PRICE\n",
              "count  35040.000000\n",
              "mean      26.258769\n",
              "std       54.756189\n",
              "min      -26.160000\n",
              "25%       18.440000\n",
              "50%       20.435000\n",
              "75%       24.300000\n",
              "max     2672.960000"
            ],
            "text/html": [
              "\n",
              "  <div id=\"df-db9d4f55-b6d7-4042-98f3-546f04e32cdc\">\n",
              "    <div class=\"colab-df-container\">\n",
              "      <div>\n",
              "<style scoped>\n",
              "    .dataframe tbody tr th:only-of-type {\n",
              "        vertical-align: middle;\n",
              "    }\n",
              "\n",
              "    .dataframe tbody tr th {\n",
              "        vertical-align: top;\n",
              "    }\n",
              "\n",
              "    .dataframe thead th {\n",
              "        text-align: right;\n",
              "    }\n",
              "</style>\n",
              "<table border=\"1\" class=\"dataframe\">\n",
              "  <thead>\n",
              "    <tr style=\"text-align: right;\">\n",
              "      <th></th>\n",
              "      <th>PRICE</th>\n",
              "    </tr>\n",
              "  </thead>\n",
              "  <tbody>\n",
              "    <tr>\n",
              "      <th>count</th>\n",
              "      <td>35040.000000</td>\n",
              "    </tr>\n",
              "    <tr>\n",
              "      <th>mean</th>\n",
              "      <td>26.258769</td>\n",
              "    </tr>\n",
              "    <tr>\n",
              "      <th>std</th>\n",
              "      <td>54.756189</td>\n",
              "    </tr>\n",
              "    <tr>\n",
              "      <th>min</th>\n",
              "      <td>-26.160000</td>\n",
              "    </tr>\n",
              "    <tr>\n",
              "      <th>25%</th>\n",
              "      <td>18.440000</td>\n",
              "    </tr>\n",
              "    <tr>\n",
              "      <th>50%</th>\n",
              "      <td>20.435000</td>\n",
              "    </tr>\n",
              "    <tr>\n",
              "      <th>75%</th>\n",
              "      <td>24.300000</td>\n",
              "    </tr>\n",
              "    <tr>\n",
              "      <th>max</th>\n",
              "      <td>2672.960000</td>\n",
              "    </tr>\n",
              "  </tbody>\n",
              "</table>\n",
              "</div>\n",
              "      <button class=\"colab-df-convert\" onclick=\"convertToInteractive('df-db9d4f55-b6d7-4042-98f3-546f04e32cdc')\"\n",
              "              title=\"Convert this dataframe to an interactive table.\"\n",
              "              style=\"display:none;\">\n",
              "        \n",
              "  <svg xmlns=\"http://www.w3.org/2000/svg\" height=\"24px\"viewBox=\"0 0 24 24\"\n",
              "       width=\"24px\">\n",
              "    <path d=\"M0 0h24v24H0V0z\" fill=\"none\"/>\n",
              "    <path d=\"M18.56 5.44l.94 2.06.94-2.06 2.06-.94-2.06-.94-.94-2.06-.94 2.06-2.06.94zm-11 1L8.5 8.5l.94-2.06 2.06-.94-2.06-.94L8.5 2.5l-.94 2.06-2.06.94zm10 10l.94 2.06.94-2.06 2.06-.94-2.06-.94-.94-2.06-.94 2.06-2.06.94z\"/><path d=\"M17.41 7.96l-1.37-1.37c-.4-.4-.92-.59-1.43-.59-.52 0-1.04.2-1.43.59L10.3 9.45l-7.72 7.72c-.78.78-.78 2.05 0 2.83L4 21.41c.39.39.9.59 1.41.59.51 0 1.02-.2 1.41-.59l7.78-7.78 2.81-2.81c.8-.78.8-2.07 0-2.86zM5.41 20L4 18.59l7.72-7.72 1.47 1.35L5.41 20z\"/>\n",
              "  </svg>\n",
              "      </button>\n",
              "      \n",
              "  <style>\n",
              "    .colab-df-container {\n",
              "      display:flex;\n",
              "      flex-wrap:wrap;\n",
              "      gap: 12px;\n",
              "    }\n",
              "\n",
              "    .colab-df-convert {\n",
              "      background-color: #E8F0FE;\n",
              "      border: none;\n",
              "      border-radius: 50%;\n",
              "      cursor: pointer;\n",
              "      display: none;\n",
              "      fill: #1967D2;\n",
              "      height: 32px;\n",
              "      padding: 0 0 0 0;\n",
              "      width: 32px;\n",
              "    }\n",
              "\n",
              "    .colab-df-convert:hover {\n",
              "      background-color: #E2EBFA;\n",
              "      box-shadow: 0px 1px 2px rgba(60, 64, 67, 0.3), 0px 1px 3px 1px rgba(60, 64, 67, 0.15);\n",
              "      fill: #174EA6;\n",
              "    }\n",
              "\n",
              "    [theme=dark] .colab-df-convert {\n",
              "      background-color: #3B4455;\n",
              "      fill: #D2E3FC;\n",
              "    }\n",
              "\n",
              "    [theme=dark] .colab-df-convert:hover {\n",
              "      background-color: #434B5C;\n",
              "      box-shadow: 0px 1px 3px 1px rgba(0, 0, 0, 0.15);\n",
              "      filter: drop-shadow(0px 1px 2px rgba(0, 0, 0, 0.3));\n",
              "      fill: #FFFFFF;\n",
              "    }\n",
              "  </style>\n",
              "\n",
              "      <script>\n",
              "        const buttonEl =\n",
              "          document.querySelector('#df-db9d4f55-b6d7-4042-98f3-546f04e32cdc button.colab-df-convert');\n",
              "        buttonEl.style.display =\n",
              "          google.colab.kernel.accessAllowed ? 'block' : 'none';\n",
              "\n",
              "        async function convertToInteractive(key) {\n",
              "          const element = document.querySelector('#df-db9d4f55-b6d7-4042-98f3-546f04e32cdc');\n",
              "          const dataTable =\n",
              "            await google.colab.kernel.invokeFunction('convertToInteractive',\n",
              "                                                     [key], {});\n",
              "          if (!dataTable) return;\n",
              "\n",
              "          const docLinkHtml = 'Like what you see? Visit the ' +\n",
              "            '<a target=\"_blank\" href=https://colab.research.google.com/notebooks/data_table.ipynb>data table notebook</a>'\n",
              "            + ' to learn more about interactive tables.';\n",
              "          element.innerHTML = '';\n",
              "          dataTable['output_type'] = 'display_data';\n",
              "          await google.colab.output.renderOutput(dataTable, element);\n",
              "          const docLink = document.createElement('div');\n",
              "          docLink.innerHTML = docLinkHtml;\n",
              "          element.appendChild(docLink);\n",
              "        }\n",
              "      </script>\n",
              "    </div>\n",
              "  </div>\n",
              "  "
            ]
          },
          "metadata": {},
          "execution_count": 135
        }
      ]
    },
    {
      "cell_type": "code",
      "source": [
        "df_price.head()"
      ],
      "metadata": {
        "colab": {
          "base_uri": "https://localhost:8080/",
          "height": 206
        },
        "id": "17mupxlTbNRn",
        "outputId": "e0c145c0-4dfa-4b76-ff59-f543eaaee0eb"
      },
      "execution_count": 136,
      "outputs": [
        {
          "output_type": "execute_result",
          "data": {
            "text/plain": [
              "  OPERATION_DATE HOUR_ENDING INTERVAL_ENDING   TOUTYPE     MARKET  \\\n",
              "0     2018-01-01         100              15  OFF-PEAK  Real Time   \n",
              "1     2018-01-01         100              30  OFF-PEAK  Real Time   \n",
              "2     2018-01-01         100              45  OFF-PEAK  Real Time   \n",
              "3     2018-01-01         100             100  OFF-PEAK  Real Time   \n",
              "4     2018-01-01         200             115  OFF-PEAK  Real Time   \n",
              "\n",
              "            ZONE  PRICE  \n",
              "0  Load Zone CPS  24.10  \n",
              "1  Load Zone CPS  23.76  \n",
              "2  Load Zone CPS  22.87  \n",
              "3  Load Zone CPS  22.70  \n",
              "4  Load Zone CPS  22.07  "
            ],
            "text/html": [
              "\n",
              "  <div id=\"df-6c1b2045-1abc-43c5-9e80-a377961969ed\">\n",
              "    <div class=\"colab-df-container\">\n",
              "      <div>\n",
              "<style scoped>\n",
              "    .dataframe tbody tr th:only-of-type {\n",
              "        vertical-align: middle;\n",
              "    }\n",
              "\n",
              "    .dataframe tbody tr th {\n",
              "        vertical-align: top;\n",
              "    }\n",
              "\n",
              "    .dataframe thead th {\n",
              "        text-align: right;\n",
              "    }\n",
              "</style>\n",
              "<table border=\"1\" class=\"dataframe\">\n",
              "  <thead>\n",
              "    <tr style=\"text-align: right;\">\n",
              "      <th></th>\n",
              "      <th>OPERATION_DATE</th>\n",
              "      <th>HOUR_ENDING</th>\n",
              "      <th>INTERVAL_ENDING</th>\n",
              "      <th>TOUTYPE</th>\n",
              "      <th>MARKET</th>\n",
              "      <th>ZONE</th>\n",
              "      <th>PRICE</th>\n",
              "    </tr>\n",
              "  </thead>\n",
              "  <tbody>\n",
              "    <tr>\n",
              "      <th>0</th>\n",
              "      <td>2018-01-01</td>\n",
              "      <td>100</td>\n",
              "      <td>15</td>\n",
              "      <td>OFF-PEAK</td>\n",
              "      <td>Real Time</td>\n",
              "      <td>Load Zone CPS</td>\n",
              "      <td>24.10</td>\n",
              "    </tr>\n",
              "    <tr>\n",
              "      <th>1</th>\n",
              "      <td>2018-01-01</td>\n",
              "      <td>100</td>\n",
              "      <td>30</td>\n",
              "      <td>OFF-PEAK</td>\n",
              "      <td>Real Time</td>\n",
              "      <td>Load Zone CPS</td>\n",
              "      <td>23.76</td>\n",
              "    </tr>\n",
              "    <tr>\n",
              "      <th>2</th>\n",
              "      <td>2018-01-01</td>\n",
              "      <td>100</td>\n",
              "      <td>45</td>\n",
              "      <td>OFF-PEAK</td>\n",
              "      <td>Real Time</td>\n",
              "      <td>Load Zone CPS</td>\n",
              "      <td>22.87</td>\n",
              "    </tr>\n",
              "    <tr>\n",
              "      <th>3</th>\n",
              "      <td>2018-01-01</td>\n",
              "      <td>100</td>\n",
              "      <td>100</td>\n",
              "      <td>OFF-PEAK</td>\n",
              "      <td>Real Time</td>\n",
              "      <td>Load Zone CPS</td>\n",
              "      <td>22.70</td>\n",
              "    </tr>\n",
              "    <tr>\n",
              "      <th>4</th>\n",
              "      <td>2018-01-01</td>\n",
              "      <td>200</td>\n",
              "      <td>115</td>\n",
              "      <td>OFF-PEAK</td>\n",
              "      <td>Real Time</td>\n",
              "      <td>Load Zone CPS</td>\n",
              "      <td>22.07</td>\n",
              "    </tr>\n",
              "  </tbody>\n",
              "</table>\n",
              "</div>\n",
              "      <button class=\"colab-df-convert\" onclick=\"convertToInteractive('df-6c1b2045-1abc-43c5-9e80-a377961969ed')\"\n",
              "              title=\"Convert this dataframe to an interactive table.\"\n",
              "              style=\"display:none;\">\n",
              "        \n",
              "  <svg xmlns=\"http://www.w3.org/2000/svg\" height=\"24px\"viewBox=\"0 0 24 24\"\n",
              "       width=\"24px\">\n",
              "    <path d=\"M0 0h24v24H0V0z\" fill=\"none\"/>\n",
              "    <path d=\"M18.56 5.44l.94 2.06.94-2.06 2.06-.94-2.06-.94-.94-2.06-.94 2.06-2.06.94zm-11 1L8.5 8.5l.94-2.06 2.06-.94-2.06-.94L8.5 2.5l-.94 2.06-2.06.94zm10 10l.94 2.06.94-2.06 2.06-.94-2.06-.94-.94-2.06-.94 2.06-2.06.94z\"/><path d=\"M17.41 7.96l-1.37-1.37c-.4-.4-.92-.59-1.43-.59-.52 0-1.04.2-1.43.59L10.3 9.45l-7.72 7.72c-.78.78-.78 2.05 0 2.83L4 21.41c.39.39.9.59 1.41.59.51 0 1.02-.2 1.41-.59l7.78-7.78 2.81-2.81c.8-.78.8-2.07 0-2.86zM5.41 20L4 18.59l7.72-7.72 1.47 1.35L5.41 20z\"/>\n",
              "  </svg>\n",
              "      </button>\n",
              "      \n",
              "  <style>\n",
              "    .colab-df-container {\n",
              "      display:flex;\n",
              "      flex-wrap:wrap;\n",
              "      gap: 12px;\n",
              "    }\n",
              "\n",
              "    .colab-df-convert {\n",
              "      background-color: #E8F0FE;\n",
              "      border: none;\n",
              "      border-radius: 50%;\n",
              "      cursor: pointer;\n",
              "      display: none;\n",
              "      fill: #1967D2;\n",
              "      height: 32px;\n",
              "      padding: 0 0 0 0;\n",
              "      width: 32px;\n",
              "    }\n",
              "\n",
              "    .colab-df-convert:hover {\n",
              "      background-color: #E2EBFA;\n",
              "      box-shadow: 0px 1px 2px rgba(60, 64, 67, 0.3), 0px 1px 3px 1px rgba(60, 64, 67, 0.15);\n",
              "      fill: #174EA6;\n",
              "    }\n",
              "\n",
              "    [theme=dark] .colab-df-convert {\n",
              "      background-color: #3B4455;\n",
              "      fill: #D2E3FC;\n",
              "    }\n",
              "\n",
              "    [theme=dark] .colab-df-convert:hover {\n",
              "      background-color: #434B5C;\n",
              "      box-shadow: 0px 1px 3px 1px rgba(0, 0, 0, 0.15);\n",
              "      filter: drop-shadow(0px 1px 2px rgba(0, 0, 0, 0.3));\n",
              "      fill: #FFFFFF;\n",
              "    }\n",
              "  </style>\n",
              "\n",
              "      <script>\n",
              "        const buttonEl =\n",
              "          document.querySelector('#df-6c1b2045-1abc-43c5-9e80-a377961969ed button.colab-df-convert');\n",
              "        buttonEl.style.display =\n",
              "          google.colab.kernel.accessAllowed ? 'block' : 'none';\n",
              "\n",
              "        async function convertToInteractive(key) {\n",
              "          const element = document.querySelector('#df-6c1b2045-1abc-43c5-9e80-a377961969ed');\n",
              "          const dataTable =\n",
              "            await google.colab.kernel.invokeFunction('convertToInteractive',\n",
              "                                                     [key], {});\n",
              "          if (!dataTable) return;\n",
              "\n",
              "          const docLinkHtml = 'Like what you see? Visit the ' +\n",
              "            '<a target=\"_blank\" href=https://colab.research.google.com/notebooks/data_table.ipynb>data table notebook</a>'\n",
              "            + ' to learn more about interactive tables.';\n",
              "          element.innerHTML = '';\n",
              "          dataTable['output_type'] = 'display_data';\n",
              "          await google.colab.output.renderOutput(dataTable, element);\n",
              "          const docLink = document.createElement('div');\n",
              "          docLink.innerHTML = docLinkHtml;\n",
              "          element.appendChild(docLink);\n",
              "        }\n",
              "      </script>\n",
              "    </div>\n",
              "  </div>\n",
              "  "
            ]
          },
          "metadata": {},
          "execution_count": 136
        }
      ]
    },
    {
      "cell_type": "markdown",
      "metadata": {
        "id": "Sj6N3JKRQjPj"
      },
      "source": [
        "Cast categorical data as type `category` and use `describe()`."
      ]
    },
    {
      "cell_type": "code",
      "metadata": {
        "colab": {
          "base_uri": "https://localhost:8080/",
          "height": 175
        },
        "id": "pxOa9nMHQszZ",
        "outputId": "a5aa3b61-b618-4202-92c9-1f43531f6793"
      },
      "source": [
        "df_price[['TOUTYPE', 'MARKET', 'ZONE']] = df_price[['TOUTYPE', 'MARKET', 'ZONE']].astype('category') #converting the object datatypt to a category\n",
        "df_price[['TOUTYPE', 'MARKET', 'ZONE']].describe()"
      ],
      "execution_count": 137,
      "outputs": [
        {
          "output_type": "execute_result",
          "data": {
            "text/plain": [
              "       TOUTYPE     MARKET           ZONE\n",
              "count    35040      35040          35040\n",
              "unique       3          1              1\n",
              "top     PEAKWD  Real Time  Load Zone CPS\n",
              "freq     16320      35040          35040"
            ],
            "text/html": [
              "\n",
              "  <div id=\"df-552ab3ae-6521-454a-b520-606b24c0f6a1\">\n",
              "    <div class=\"colab-df-container\">\n",
              "      <div>\n",
              "<style scoped>\n",
              "    .dataframe tbody tr th:only-of-type {\n",
              "        vertical-align: middle;\n",
              "    }\n",
              "\n",
              "    .dataframe tbody tr th {\n",
              "        vertical-align: top;\n",
              "    }\n",
              "\n",
              "    .dataframe thead th {\n",
              "        text-align: right;\n",
              "    }\n",
              "</style>\n",
              "<table border=\"1\" class=\"dataframe\">\n",
              "  <thead>\n",
              "    <tr style=\"text-align: right;\">\n",
              "      <th></th>\n",
              "      <th>TOUTYPE</th>\n",
              "      <th>MARKET</th>\n",
              "      <th>ZONE</th>\n",
              "    </tr>\n",
              "  </thead>\n",
              "  <tbody>\n",
              "    <tr>\n",
              "      <th>count</th>\n",
              "      <td>35040</td>\n",
              "      <td>35040</td>\n",
              "      <td>35040</td>\n",
              "    </tr>\n",
              "    <tr>\n",
              "      <th>unique</th>\n",
              "      <td>3</td>\n",
              "      <td>1</td>\n",
              "      <td>1</td>\n",
              "    </tr>\n",
              "    <tr>\n",
              "      <th>top</th>\n",
              "      <td>PEAKWD</td>\n",
              "      <td>Real Time</td>\n",
              "      <td>Load Zone CPS</td>\n",
              "    </tr>\n",
              "    <tr>\n",
              "      <th>freq</th>\n",
              "      <td>16320</td>\n",
              "      <td>35040</td>\n",
              "      <td>35040</td>\n",
              "    </tr>\n",
              "  </tbody>\n",
              "</table>\n",
              "</div>\n",
              "      <button class=\"colab-df-convert\" onclick=\"convertToInteractive('df-552ab3ae-6521-454a-b520-606b24c0f6a1')\"\n",
              "              title=\"Convert this dataframe to an interactive table.\"\n",
              "              style=\"display:none;\">\n",
              "        \n",
              "  <svg xmlns=\"http://www.w3.org/2000/svg\" height=\"24px\"viewBox=\"0 0 24 24\"\n",
              "       width=\"24px\">\n",
              "    <path d=\"M0 0h24v24H0V0z\" fill=\"none\"/>\n",
              "    <path d=\"M18.56 5.44l.94 2.06.94-2.06 2.06-.94-2.06-.94-.94-2.06-.94 2.06-2.06.94zm-11 1L8.5 8.5l.94-2.06 2.06-.94-2.06-.94L8.5 2.5l-.94 2.06-2.06.94zm10 10l.94 2.06.94-2.06 2.06-.94-2.06-.94-.94-2.06-.94 2.06-2.06.94z\"/><path d=\"M17.41 7.96l-1.37-1.37c-.4-.4-.92-.59-1.43-.59-.52 0-1.04.2-1.43.59L10.3 9.45l-7.72 7.72c-.78.78-.78 2.05 0 2.83L4 21.41c.39.39.9.59 1.41.59.51 0 1.02-.2 1.41-.59l7.78-7.78 2.81-2.81c.8-.78.8-2.07 0-2.86zM5.41 20L4 18.59l7.72-7.72 1.47 1.35L5.41 20z\"/>\n",
              "  </svg>\n",
              "      </button>\n",
              "      \n",
              "  <style>\n",
              "    .colab-df-container {\n",
              "      display:flex;\n",
              "      flex-wrap:wrap;\n",
              "      gap: 12px;\n",
              "    }\n",
              "\n",
              "    .colab-df-convert {\n",
              "      background-color: #E8F0FE;\n",
              "      border: none;\n",
              "      border-radius: 50%;\n",
              "      cursor: pointer;\n",
              "      display: none;\n",
              "      fill: #1967D2;\n",
              "      height: 32px;\n",
              "      padding: 0 0 0 0;\n",
              "      width: 32px;\n",
              "    }\n",
              "\n",
              "    .colab-df-convert:hover {\n",
              "      background-color: #E2EBFA;\n",
              "      box-shadow: 0px 1px 2px rgba(60, 64, 67, 0.3), 0px 1px 3px 1px rgba(60, 64, 67, 0.15);\n",
              "      fill: #174EA6;\n",
              "    }\n",
              "\n",
              "    [theme=dark] .colab-df-convert {\n",
              "      background-color: #3B4455;\n",
              "      fill: #D2E3FC;\n",
              "    }\n",
              "\n",
              "    [theme=dark] .colab-df-convert:hover {\n",
              "      background-color: #434B5C;\n",
              "      box-shadow: 0px 1px 3px 1px rgba(0, 0, 0, 0.15);\n",
              "      filter: drop-shadow(0px 1px 2px rgba(0, 0, 0, 0.3));\n",
              "      fill: #FFFFFF;\n",
              "    }\n",
              "  </style>\n",
              "\n",
              "      <script>\n",
              "        const buttonEl =\n",
              "          document.querySelector('#df-552ab3ae-6521-454a-b520-606b24c0f6a1 button.colab-df-convert');\n",
              "        buttonEl.style.display =\n",
              "          google.colab.kernel.accessAllowed ? 'block' : 'none';\n",
              "\n",
              "        async function convertToInteractive(key) {\n",
              "          const element = document.querySelector('#df-552ab3ae-6521-454a-b520-606b24c0f6a1');\n",
              "          const dataTable =\n",
              "            await google.colab.kernel.invokeFunction('convertToInteractive',\n",
              "                                                     [key], {});\n",
              "          if (!dataTable) return;\n",
              "\n",
              "          const docLinkHtml = 'Like what you see? Visit the ' +\n",
              "            '<a target=\"_blank\" href=https://colab.research.google.com/notebooks/data_table.ipynb>data table notebook</a>'\n",
              "            + ' to learn more about interactive tables.';\n",
              "          element.innerHTML = '';\n",
              "          dataTable['output_type'] = 'display_data';\n",
              "          await google.colab.output.renderOutput(dataTable, element);\n",
              "          const docLink = document.createElement('div');\n",
              "          docLink.innerHTML = docLinkHtml;\n",
              "          element.appendChild(docLink);\n",
              "        }\n",
              "      </script>\n",
              "    </div>\n",
              "  </div>\n",
              "  "
            ]
          },
          "metadata": {},
          "execution_count": 137
        }
      ]
    },
    {
      "cell_type": "code",
      "metadata": {
        "colab": {
          "base_uri": "https://localhost:8080/"
        },
        "id": "RfU4lpi9Q5mn",
        "outputId": "8a2d9ec8-0a51-43b7-bac2-e18143f8f0f1"
      },
      "source": [
        "df_price.nunique() #number of unique values in each column"
      ],
      "execution_count": 138,
      "outputs": [
        {
          "output_type": "execute_result",
          "data": {
            "text/plain": [
              "OPERATION_DATE      365\n",
              "HOUR_ENDING          25\n",
              "INTERVAL_ENDING     100\n",
              "TOUTYPE               3\n",
              "MARKET                1\n",
              "ZONE                  1\n",
              "PRICE              4814\n",
              "dtype: int64"
            ]
          },
          "metadata": {},
          "execution_count": 138
        }
      ]
    },
    {
      "cell_type": "code",
      "metadata": {
        "colab": {
          "base_uri": "https://localhost:8080/"
        },
        "id": "CmKfQ4dqQ9Oi",
        "outputId": "956efcac-5a22-4d69-d218-3fe40376784d"
      },
      "source": [
        "df_price.isna().sum() # gives number of null values in each column"
      ],
      "execution_count": 140,
      "outputs": [
        {
          "output_type": "execute_result",
          "data": {
            "text/plain": [
              "OPERATION_DATE     0\n",
              "HOUR_ENDING        0\n",
              "INTERVAL_ENDING    0\n",
              "TOUTYPE            0\n",
              "MARKET             0\n",
              "ZONE               0\n",
              "PRICE              0\n",
              "dtype: int64"
            ]
          },
          "metadata": {},
          "execution_count": 140
        }
      ]
    },
    {
      "cell_type": "code",
      "metadata": {
        "colab": {
          "base_uri": "https://localhost:8080/",
          "height": 143
        },
        "id": "0X-ttl3MRGKI",
        "outputId": "27253d09-d5a5-4806-cb32-3b4f1c32429f"
      },
      "source": [
        "# Added 2 more columns to understand the categorical columns\n",
        "# cardinality nd missing count\n",
        "qual = df_price[['TOUTYPE', 'MARKET', 'ZONE']].describe().T #create a new dataframe to store data properties\n",
        "\n",
        "qual['card'] = df_price[['TOUTYPE', 'MARKET', 'ZONE']].nunique()\n",
        "qual['missing'] = df_price[['TOUTYPE', 'MARKET', 'ZONE']].isna().sum()\n",
        "qual"
      ],
      "execution_count": null,
      "outputs": [
        {
          "output_type": "execute_result",
          "data": {
            "text/plain": [
              "         count unique            top   freq  card  missing\n",
              "TOUTYPE  35040      3         PEAKWD  16320     3        0\n",
              "MARKET   35040      1      Real Time  35040     1        0\n",
              "ZONE     35040      1  Load Zone CPS  35040     1        0"
            ],
            "text/html": [
              "\n",
              "  <div id=\"df-21d578f4-ec87-4779-aa64-2abd184fc4a6\">\n",
              "    <div class=\"colab-df-container\">\n",
              "      <div>\n",
              "<style scoped>\n",
              "    .dataframe tbody tr th:only-of-type {\n",
              "        vertical-align: middle;\n",
              "    }\n",
              "\n",
              "    .dataframe tbody tr th {\n",
              "        vertical-align: top;\n",
              "    }\n",
              "\n",
              "    .dataframe thead th {\n",
              "        text-align: right;\n",
              "    }\n",
              "</style>\n",
              "<table border=\"1\" class=\"dataframe\">\n",
              "  <thead>\n",
              "    <tr style=\"text-align: right;\">\n",
              "      <th></th>\n",
              "      <th>count</th>\n",
              "      <th>unique</th>\n",
              "      <th>top</th>\n",
              "      <th>freq</th>\n",
              "      <th>card</th>\n",
              "      <th>missing</th>\n",
              "    </tr>\n",
              "  </thead>\n",
              "  <tbody>\n",
              "    <tr>\n",
              "      <th>TOUTYPE</th>\n",
              "      <td>35040</td>\n",
              "      <td>3</td>\n",
              "      <td>PEAKWD</td>\n",
              "      <td>16320</td>\n",
              "      <td>3</td>\n",
              "      <td>0</td>\n",
              "    </tr>\n",
              "    <tr>\n",
              "      <th>MARKET</th>\n",
              "      <td>35040</td>\n",
              "      <td>1</td>\n",
              "      <td>Real Time</td>\n",
              "      <td>35040</td>\n",
              "      <td>1</td>\n",
              "      <td>0</td>\n",
              "    </tr>\n",
              "    <tr>\n",
              "      <th>ZONE</th>\n",
              "      <td>35040</td>\n",
              "      <td>1</td>\n",
              "      <td>Load Zone CPS</td>\n",
              "      <td>35040</td>\n",
              "      <td>1</td>\n",
              "      <td>0</td>\n",
              "    </tr>\n",
              "  </tbody>\n",
              "</table>\n",
              "</div>\n",
              "      <button class=\"colab-df-convert\" onclick=\"convertToInteractive('df-21d578f4-ec87-4779-aa64-2abd184fc4a6')\"\n",
              "              title=\"Convert this dataframe to an interactive table.\"\n",
              "              style=\"display:none;\">\n",
              "        \n",
              "  <svg xmlns=\"http://www.w3.org/2000/svg\" height=\"24px\"viewBox=\"0 0 24 24\"\n",
              "       width=\"24px\">\n",
              "    <path d=\"M0 0h24v24H0V0z\" fill=\"none\"/>\n",
              "    <path d=\"M18.56 5.44l.94 2.06.94-2.06 2.06-.94-2.06-.94-.94-2.06-.94 2.06-2.06.94zm-11 1L8.5 8.5l.94-2.06 2.06-.94-2.06-.94L8.5 2.5l-.94 2.06-2.06.94zm10 10l.94 2.06.94-2.06 2.06-.94-2.06-.94-.94-2.06-.94 2.06-2.06.94z\"/><path d=\"M17.41 7.96l-1.37-1.37c-.4-.4-.92-.59-1.43-.59-.52 0-1.04.2-1.43.59L10.3 9.45l-7.72 7.72c-.78.78-.78 2.05 0 2.83L4 21.41c.39.39.9.59 1.41.59.51 0 1.02-.2 1.41-.59l7.78-7.78 2.81-2.81c.8-.78.8-2.07 0-2.86zM5.41 20L4 18.59l7.72-7.72 1.47 1.35L5.41 20z\"/>\n",
              "  </svg>\n",
              "      </button>\n",
              "      \n",
              "  <style>\n",
              "    .colab-df-container {\n",
              "      display:flex;\n",
              "      flex-wrap:wrap;\n",
              "      gap: 12px;\n",
              "    }\n",
              "\n",
              "    .colab-df-convert {\n",
              "      background-color: #E8F0FE;\n",
              "      border: none;\n",
              "      border-radius: 50%;\n",
              "      cursor: pointer;\n",
              "      display: none;\n",
              "      fill: #1967D2;\n",
              "      height: 32px;\n",
              "      padding: 0 0 0 0;\n",
              "      width: 32px;\n",
              "    }\n",
              "\n",
              "    .colab-df-convert:hover {\n",
              "      background-color: #E2EBFA;\n",
              "      box-shadow: 0px 1px 2px rgba(60, 64, 67, 0.3), 0px 1px 3px 1px rgba(60, 64, 67, 0.15);\n",
              "      fill: #174EA6;\n",
              "    }\n",
              "\n",
              "    [theme=dark] .colab-df-convert {\n",
              "      background-color: #3B4455;\n",
              "      fill: #D2E3FC;\n",
              "    }\n",
              "\n",
              "    [theme=dark] .colab-df-convert:hover {\n",
              "      background-color: #434B5C;\n",
              "      box-shadow: 0px 1px 3px 1px rgba(0, 0, 0, 0.15);\n",
              "      filter: drop-shadow(0px 1px 2px rgba(0, 0, 0, 0.3));\n",
              "      fill: #FFFFFF;\n",
              "    }\n",
              "  </style>\n",
              "\n",
              "      <script>\n",
              "        const buttonEl =\n",
              "          document.querySelector('#df-21d578f4-ec87-4779-aa64-2abd184fc4a6 button.colab-df-convert');\n",
              "        buttonEl.style.display =\n",
              "          google.colab.kernel.accessAllowed ? 'block' : 'none';\n",
              "\n",
              "        async function convertToInteractive(key) {\n",
              "          const element = document.querySelector('#df-21d578f4-ec87-4779-aa64-2abd184fc4a6');\n",
              "          const dataTable =\n",
              "            await google.colab.kernel.invokeFunction('convertToInteractive',\n",
              "                                                     [key], {});\n",
              "          if (!dataTable) return;\n",
              "\n",
              "          const docLinkHtml = 'Like what you see? Visit the ' +\n",
              "            '<a target=\"_blank\" href=https://colab.research.google.com/notebooks/data_table.ipynb>data table notebook</a>'\n",
              "            + ' to learn more about interactive tables.';\n",
              "          element.innerHTML = '';\n",
              "          dataTable['output_type'] = 'display_data';\n",
              "          await google.colab.output.renderOutput(dataTable, element);\n",
              "          const docLink = document.createElement('div');\n",
              "          docLink.innerHTML = docLinkHtml;\n",
              "          element.appendChild(docLink);\n",
              "        }\n",
              "      </script>\n",
              "    </div>\n",
              "  </div>\n",
              "  "
            ]
          },
          "metadata": {},
          "execution_count": 22
        }
      ]
    },
    {
      "cell_type": "code",
      "source": [
        "df_price.HOUR_ENDING.unique().shape"
      ],
      "metadata": {
        "colab": {
          "base_uri": "https://localhost:8080/"
        },
        "id": "LgiZWq0cthAc",
        "outputId": "8882adc9-276d-40a8-eb8b-e08877f9c8f7"
      },
      "execution_count": 141,
      "outputs": [
        {
          "output_type": "execute_result",
          "data": {
            "text/plain": [
              "(25,)"
            ]
          },
          "metadata": {},
          "execution_count": 141
        }
      ]
    },
    {
      "cell_type": "markdown",
      "metadata": {
        "id": "3NTO46s-RbG9"
      },
      "source": [
        "**Question**: why are there 25 unique values in `HOUR_ENDING`?"
      ]
    },
    {
      "cell_type": "code",
      "metadata": {
        "colab": {
          "base_uri": "https://localhost:8080/"
        },
        "id": "4WC8YfTNRd8t",
        "outputId": "76a90b1e-ac4d-4f75-c859-9a0c544fbab7"
      },
      "source": [
        "df_price.HOUR_ENDING.unique()"
      ],
      "execution_count": 142,
      "outputs": [
        {
          "output_type": "execute_result",
          "data": {
            "text/plain": [
              "array(['100', '200', '300', '400', '500', '600', '700', '800', '900',\n",
              "       '1000', '1100', '1200', '1300', '1400', '1500', '1600', '1700',\n",
              "       '1800', '1900', '2000', '2100', '2200', '2300', '2400', '0200D'],\n",
              "      dtype=object)"
            ]
          },
          "metadata": {},
          "execution_count": 142
        }
      ]
    },
    {
      "cell_type": "code",
      "metadata": {
        "colab": {
          "base_uri": "https://localhost:8080/"
        },
        "id": "5g2B_4n3RjfO",
        "outputId": "456103e4-cee8-42ab-abe7-547fcc797476"
      },
      "source": [
        "df_price['HOUR_ENDING'].value_counts() #count of individual groups in a column"
      ],
      "execution_count": null,
      "outputs": [
        {
          "output_type": "execute_result",
          "data": {
            "text/plain": [
              "100      1460\n",
              "1400     1460\n",
              "2400     1460\n",
              "2300     1460\n",
              "2200     1460\n",
              "2100     1460\n",
              "2000     1460\n",
              "1900     1460\n",
              "1800     1460\n",
              "1700     1460\n",
              "1600     1460\n",
              "1500     1460\n",
              "1300     1460\n",
              "1200     1460\n",
              "1100     1460\n",
              "1000     1460\n",
              "900      1460\n",
              "800      1460\n",
              "700      1460\n",
              "600      1460\n",
              "500      1460\n",
              "400      1460\n",
              "300      1460\n",
              "200      1456\n",
              "0200D       4\n",
              "Name: HOUR_ENDING, dtype: int64"
            ]
          },
          "metadata": {},
          "execution_count": 24
        }
      ]
    },
    {
      "cell_type": "markdown",
      "metadata": {
        "id": "QgpL_c1BRp0I"
      },
      "source": [
        "Change the value '0200D' to 200 to make our data consistent."
      ]
    },
    {
      "cell_type": "code",
      "metadata": {
        "colab": {
          "base_uri": "https://localhost:8080/"
        },
        "id": "GgyyICiZRr-n",
        "outputId": "4a1ac806-7fe7-46ba-8639-76bd0886ff78"
      },
      "source": [
        "df_price['HOUR_ENDING'] = df_price['HOUR_ENDING'].replace({'0200D':'200'}) #dictionary with key-old entry and value-new entry\n",
        "df_price['HOUR_ENDING'].value_counts()"
      ],
      "execution_count": 153,
      "outputs": [
        {
          "output_type": "execute_result",
          "data": {
            "text/plain": [
              "100     1460\n",
              "200     1460\n",
              "2300    1460\n",
              "2200    1460\n",
              "2100    1460\n",
              "2000    1460\n",
              "1900    1460\n",
              "1800    1460\n",
              "1700    1460\n",
              "1600    1460\n",
              "1500    1460\n",
              "1400    1460\n",
              "1300    1460\n",
              "1200    1460\n",
              "1100    1460\n",
              "1000    1460\n",
              "900     1460\n",
              "800     1460\n",
              "700     1460\n",
              "600     1460\n",
              "500     1460\n",
              "400     1460\n",
              "300     1460\n",
              "2400    1460\n",
              "Name: HOUR_ENDING, dtype: int64"
            ]
          },
          "metadata": {},
          "execution_count": 153
        }
      ]
    },
    {
      "cell_type": "markdown",
      "metadata": {
        "id": "WGHUQSKESI6U"
      },
      "source": [
        "The meter data includes the timestamp starting at hour `0`. Let's adjust our price dataset so the timestamp is consistent with that of the meter data."
      ]
    },
    {
      "cell_type": "code",
      "metadata": {
        "colab": {
          "base_uri": "https://localhost:8080/",
          "height": 206
        },
        "id": "b1WoPAWFSKRU",
        "outputId": "6a2f02be-949d-496e-dcbd-14bab9684f12"
      },
      "source": [
        "df = df[['kwh','meter','time']]\n",
        "df.head()"
      ],
      "execution_count": 154,
      "outputs": [
        {
          "output_type": "execute_result",
          "data": {
            "text/plain": [
              "     kwh  meter                 time\n",
              "0  0.404    1.0  2018-01-01 00:15:00\n",
              "1  0.343    1.0  2018-01-01 00:30:00\n",
              "2  0.259    1.0  2018-01-01 00:45:00\n",
              "3  0.193    1.0  2018-01-01 01:00:00\n",
              "4  0.183    1.0  2018-01-01 01:15:00"
            ],
            "text/html": [
              "\n",
              "  <div id=\"df-d5ef0531-38cc-42bc-8c19-40908e56d82c\">\n",
              "    <div class=\"colab-df-container\">\n",
              "      <div>\n",
              "<style scoped>\n",
              "    .dataframe tbody tr th:only-of-type {\n",
              "        vertical-align: middle;\n",
              "    }\n",
              "\n",
              "    .dataframe tbody tr th {\n",
              "        vertical-align: top;\n",
              "    }\n",
              "\n",
              "    .dataframe thead th {\n",
              "        text-align: right;\n",
              "    }\n",
              "</style>\n",
              "<table border=\"1\" class=\"dataframe\">\n",
              "  <thead>\n",
              "    <tr style=\"text-align: right;\">\n",
              "      <th></th>\n",
              "      <th>kwh</th>\n",
              "      <th>meter</th>\n",
              "      <th>time</th>\n",
              "    </tr>\n",
              "  </thead>\n",
              "  <tbody>\n",
              "    <tr>\n",
              "      <th>0</th>\n",
              "      <td>0.404</td>\n",
              "      <td>1.0</td>\n",
              "      <td>2018-01-01 00:15:00</td>\n",
              "    </tr>\n",
              "    <tr>\n",
              "      <th>1</th>\n",
              "      <td>0.343</td>\n",
              "      <td>1.0</td>\n",
              "      <td>2018-01-01 00:30:00</td>\n",
              "    </tr>\n",
              "    <tr>\n",
              "      <th>2</th>\n",
              "      <td>0.259</td>\n",
              "      <td>1.0</td>\n",
              "      <td>2018-01-01 00:45:00</td>\n",
              "    </tr>\n",
              "    <tr>\n",
              "      <th>3</th>\n",
              "      <td>0.193</td>\n",
              "      <td>1.0</td>\n",
              "      <td>2018-01-01 01:00:00</td>\n",
              "    </tr>\n",
              "    <tr>\n",
              "      <th>4</th>\n",
              "      <td>0.183</td>\n",
              "      <td>1.0</td>\n",
              "      <td>2018-01-01 01:15:00</td>\n",
              "    </tr>\n",
              "  </tbody>\n",
              "</table>\n",
              "</div>\n",
              "      <button class=\"colab-df-convert\" onclick=\"convertToInteractive('df-d5ef0531-38cc-42bc-8c19-40908e56d82c')\"\n",
              "              title=\"Convert this dataframe to an interactive table.\"\n",
              "              style=\"display:none;\">\n",
              "        \n",
              "  <svg xmlns=\"http://www.w3.org/2000/svg\" height=\"24px\"viewBox=\"0 0 24 24\"\n",
              "       width=\"24px\">\n",
              "    <path d=\"M0 0h24v24H0V0z\" fill=\"none\"/>\n",
              "    <path d=\"M18.56 5.44l.94 2.06.94-2.06 2.06-.94-2.06-.94-.94-2.06-.94 2.06-2.06.94zm-11 1L8.5 8.5l.94-2.06 2.06-.94-2.06-.94L8.5 2.5l-.94 2.06-2.06.94zm10 10l.94 2.06.94-2.06 2.06-.94-2.06-.94-.94-2.06-.94 2.06-2.06.94z\"/><path d=\"M17.41 7.96l-1.37-1.37c-.4-.4-.92-.59-1.43-.59-.52 0-1.04.2-1.43.59L10.3 9.45l-7.72 7.72c-.78.78-.78 2.05 0 2.83L4 21.41c.39.39.9.59 1.41.59.51 0 1.02-.2 1.41-.59l7.78-7.78 2.81-2.81c.8-.78.8-2.07 0-2.86zM5.41 20L4 18.59l7.72-7.72 1.47 1.35L5.41 20z\"/>\n",
              "  </svg>\n",
              "      </button>\n",
              "      \n",
              "  <style>\n",
              "    .colab-df-container {\n",
              "      display:flex;\n",
              "      flex-wrap:wrap;\n",
              "      gap: 12px;\n",
              "    }\n",
              "\n",
              "    .colab-df-convert {\n",
              "      background-color: #E8F0FE;\n",
              "      border: none;\n",
              "      border-radius: 50%;\n",
              "      cursor: pointer;\n",
              "      display: none;\n",
              "      fill: #1967D2;\n",
              "      height: 32px;\n",
              "      padding: 0 0 0 0;\n",
              "      width: 32px;\n",
              "    }\n",
              "\n",
              "    .colab-df-convert:hover {\n",
              "      background-color: #E2EBFA;\n",
              "      box-shadow: 0px 1px 2px rgba(60, 64, 67, 0.3), 0px 1px 3px 1px rgba(60, 64, 67, 0.15);\n",
              "      fill: #174EA6;\n",
              "    }\n",
              "\n",
              "    [theme=dark] .colab-df-convert {\n",
              "      background-color: #3B4455;\n",
              "      fill: #D2E3FC;\n",
              "    }\n",
              "\n",
              "    [theme=dark] .colab-df-convert:hover {\n",
              "      background-color: #434B5C;\n",
              "      box-shadow: 0px 1px 3px 1px rgba(0, 0, 0, 0.15);\n",
              "      filter: drop-shadow(0px 1px 2px rgba(0, 0, 0, 0.3));\n",
              "      fill: #FFFFFF;\n",
              "    }\n",
              "  </style>\n",
              "\n",
              "      <script>\n",
              "        const buttonEl =\n",
              "          document.querySelector('#df-d5ef0531-38cc-42bc-8c19-40908e56d82c button.colab-df-convert');\n",
              "        buttonEl.style.display =\n",
              "          google.colab.kernel.accessAllowed ? 'block' : 'none';\n",
              "\n",
              "        async function convertToInteractive(key) {\n",
              "          const element = document.querySelector('#df-d5ef0531-38cc-42bc-8c19-40908e56d82c');\n",
              "          const dataTable =\n",
              "            await google.colab.kernel.invokeFunction('convertToInteractive',\n",
              "                                                     [key], {});\n",
              "          if (!dataTable) return;\n",
              "\n",
              "          const docLinkHtml = 'Like what you see? Visit the ' +\n",
              "            '<a target=\"_blank\" href=https://colab.research.google.com/notebooks/data_table.ipynb>data table notebook</a>'\n",
              "            + ' to learn more about interactive tables.';\n",
              "          element.innerHTML = '';\n",
              "          dataTable['output_type'] = 'display_data';\n",
              "          await google.colab.output.renderOutput(dataTable, element);\n",
              "          const docLink = document.createElement('div');\n",
              "          docLink.innerHTML = docLinkHtml;\n",
              "          element.appendChild(docLink);\n",
              "        }\n",
              "      </script>\n",
              "    </div>\n",
              "  </div>\n",
              "  "
            ]
          },
          "metadata": {},
          "execution_count": 154
        }
      ]
    },
    {
      "cell_type": "code",
      "source": [
        "df_price.head()"
      ],
      "metadata": {
        "colab": {
          "base_uri": "https://localhost:8080/",
          "height": 206
        },
        "id": "OWRz-KAw7mrQ",
        "outputId": "824397f1-24b8-4524-f545-cbfcce836a45"
      },
      "execution_count": 155,
      "outputs": [
        {
          "output_type": "execute_result",
          "data": {
            "text/plain": [
              "  OPERATION_DATE HOUR_ENDING INTERVAL_ENDING   TOUTYPE     MARKET  \\\n",
              "0     2018-01-01         100              15  OFF-PEAK  Real Time   \n",
              "1     2018-01-01         100              30  OFF-PEAK  Real Time   \n",
              "2     2018-01-01         100              45  OFF-PEAK  Real Time   \n",
              "3     2018-01-01         100             100  OFF-PEAK  Real Time   \n",
              "4     2018-01-01         200             115  OFF-PEAK  Real Time   \n",
              "\n",
              "            ZONE  PRICE  \n",
              "0  Load Zone CPS  24.10  \n",
              "1  Load Zone CPS  23.76  \n",
              "2  Load Zone CPS  22.87  \n",
              "3  Load Zone CPS  22.70  \n",
              "4  Load Zone CPS  22.07  "
            ],
            "text/html": [
              "\n",
              "  <div id=\"df-e77e2e6e-63c4-4a03-bdcd-904404ab0dbc\">\n",
              "    <div class=\"colab-df-container\">\n",
              "      <div>\n",
              "<style scoped>\n",
              "    .dataframe tbody tr th:only-of-type {\n",
              "        vertical-align: middle;\n",
              "    }\n",
              "\n",
              "    .dataframe tbody tr th {\n",
              "        vertical-align: top;\n",
              "    }\n",
              "\n",
              "    .dataframe thead th {\n",
              "        text-align: right;\n",
              "    }\n",
              "</style>\n",
              "<table border=\"1\" class=\"dataframe\">\n",
              "  <thead>\n",
              "    <tr style=\"text-align: right;\">\n",
              "      <th></th>\n",
              "      <th>OPERATION_DATE</th>\n",
              "      <th>HOUR_ENDING</th>\n",
              "      <th>INTERVAL_ENDING</th>\n",
              "      <th>TOUTYPE</th>\n",
              "      <th>MARKET</th>\n",
              "      <th>ZONE</th>\n",
              "      <th>PRICE</th>\n",
              "    </tr>\n",
              "  </thead>\n",
              "  <tbody>\n",
              "    <tr>\n",
              "      <th>0</th>\n",
              "      <td>2018-01-01</td>\n",
              "      <td>100</td>\n",
              "      <td>15</td>\n",
              "      <td>OFF-PEAK</td>\n",
              "      <td>Real Time</td>\n",
              "      <td>Load Zone CPS</td>\n",
              "      <td>24.10</td>\n",
              "    </tr>\n",
              "    <tr>\n",
              "      <th>1</th>\n",
              "      <td>2018-01-01</td>\n",
              "      <td>100</td>\n",
              "      <td>30</td>\n",
              "      <td>OFF-PEAK</td>\n",
              "      <td>Real Time</td>\n",
              "      <td>Load Zone CPS</td>\n",
              "      <td>23.76</td>\n",
              "    </tr>\n",
              "    <tr>\n",
              "      <th>2</th>\n",
              "      <td>2018-01-01</td>\n",
              "      <td>100</td>\n",
              "      <td>45</td>\n",
              "      <td>OFF-PEAK</td>\n",
              "      <td>Real Time</td>\n",
              "      <td>Load Zone CPS</td>\n",
              "      <td>22.87</td>\n",
              "    </tr>\n",
              "    <tr>\n",
              "      <th>3</th>\n",
              "      <td>2018-01-01</td>\n",
              "      <td>100</td>\n",
              "      <td>100</td>\n",
              "      <td>OFF-PEAK</td>\n",
              "      <td>Real Time</td>\n",
              "      <td>Load Zone CPS</td>\n",
              "      <td>22.70</td>\n",
              "    </tr>\n",
              "    <tr>\n",
              "      <th>4</th>\n",
              "      <td>2018-01-01</td>\n",
              "      <td>200</td>\n",
              "      <td>115</td>\n",
              "      <td>OFF-PEAK</td>\n",
              "      <td>Real Time</td>\n",
              "      <td>Load Zone CPS</td>\n",
              "      <td>22.07</td>\n",
              "    </tr>\n",
              "  </tbody>\n",
              "</table>\n",
              "</div>\n",
              "      <button class=\"colab-df-convert\" onclick=\"convertToInteractive('df-e77e2e6e-63c4-4a03-bdcd-904404ab0dbc')\"\n",
              "              title=\"Convert this dataframe to an interactive table.\"\n",
              "              style=\"display:none;\">\n",
              "        \n",
              "  <svg xmlns=\"http://www.w3.org/2000/svg\" height=\"24px\"viewBox=\"0 0 24 24\"\n",
              "       width=\"24px\">\n",
              "    <path d=\"M0 0h24v24H0V0z\" fill=\"none\"/>\n",
              "    <path d=\"M18.56 5.44l.94 2.06.94-2.06 2.06-.94-2.06-.94-.94-2.06-.94 2.06-2.06.94zm-11 1L8.5 8.5l.94-2.06 2.06-.94-2.06-.94L8.5 2.5l-.94 2.06-2.06.94zm10 10l.94 2.06.94-2.06 2.06-.94-2.06-.94-.94-2.06-.94 2.06-2.06.94z\"/><path d=\"M17.41 7.96l-1.37-1.37c-.4-.4-.92-.59-1.43-.59-.52 0-1.04.2-1.43.59L10.3 9.45l-7.72 7.72c-.78.78-.78 2.05 0 2.83L4 21.41c.39.39.9.59 1.41.59.51 0 1.02-.2 1.41-.59l7.78-7.78 2.81-2.81c.8-.78.8-2.07 0-2.86zM5.41 20L4 18.59l7.72-7.72 1.47 1.35L5.41 20z\"/>\n",
              "  </svg>\n",
              "      </button>\n",
              "      \n",
              "  <style>\n",
              "    .colab-df-container {\n",
              "      display:flex;\n",
              "      flex-wrap:wrap;\n",
              "      gap: 12px;\n",
              "    }\n",
              "\n",
              "    .colab-df-convert {\n",
              "      background-color: #E8F0FE;\n",
              "      border: none;\n",
              "      border-radius: 50%;\n",
              "      cursor: pointer;\n",
              "      display: none;\n",
              "      fill: #1967D2;\n",
              "      height: 32px;\n",
              "      padding: 0 0 0 0;\n",
              "      width: 32px;\n",
              "    }\n",
              "\n",
              "    .colab-df-convert:hover {\n",
              "      background-color: #E2EBFA;\n",
              "      box-shadow: 0px 1px 2px rgba(60, 64, 67, 0.3), 0px 1px 3px 1px rgba(60, 64, 67, 0.15);\n",
              "      fill: #174EA6;\n",
              "    }\n",
              "\n",
              "    [theme=dark] .colab-df-convert {\n",
              "      background-color: #3B4455;\n",
              "      fill: #D2E3FC;\n",
              "    }\n",
              "\n",
              "    [theme=dark] .colab-df-convert:hover {\n",
              "      background-color: #434B5C;\n",
              "      box-shadow: 0px 1px 3px 1px rgba(0, 0, 0, 0.15);\n",
              "      filter: drop-shadow(0px 1px 2px rgba(0, 0, 0, 0.3));\n",
              "      fill: #FFFFFF;\n",
              "    }\n",
              "  </style>\n",
              "\n",
              "      <script>\n",
              "        const buttonEl =\n",
              "          document.querySelector('#df-e77e2e6e-63c4-4a03-bdcd-904404ab0dbc button.colab-df-convert');\n",
              "        buttonEl.style.display =\n",
              "          google.colab.kernel.accessAllowed ? 'block' : 'none';\n",
              "\n",
              "        async function convertToInteractive(key) {\n",
              "          const element = document.querySelector('#df-e77e2e6e-63c4-4a03-bdcd-904404ab0dbc');\n",
              "          const dataTable =\n",
              "            await google.colab.kernel.invokeFunction('convertToInteractive',\n",
              "                                                     [key], {});\n",
              "          if (!dataTable) return;\n",
              "\n",
              "          const docLinkHtml = 'Like what you see? Visit the ' +\n",
              "            '<a target=\"_blank\" href=https://colab.research.google.com/notebooks/data_table.ipynb>data table notebook</a>'\n",
              "            + ' to learn more about interactive tables.';\n",
              "          element.innerHTML = '';\n",
              "          dataTable['output_type'] = 'display_data';\n",
              "          await google.colab.output.renderOutput(dataTable, element);\n",
              "          const docLink = document.createElement('div');\n",
              "          docLink.innerHTML = docLinkHtml;\n",
              "          element.appendChild(docLink);\n",
              "        }\n",
              "      </script>\n",
              "    </div>\n",
              "  </div>\n",
              "  "
            ]
          },
          "metadata": {},
          "execution_count": 155
        }
      ]
    },
    {
      "cell_type": "code",
      "metadata": {
        "colab": {
          "base_uri": "https://localhost:8080/",
          "height": 206
        },
        "id": "0YSnOYNcScjD",
        "outputId": "b770a1d4-6c25-4f7a-f284-86e59f2fae22"
      },
      "source": [
        "df_price['HOUR'] = ((df_price['HOUR_ENDING'].astype('int') - 100)/100) #Converting hour ending to integer HOUR value\n",
        "df_price.head()"
      ],
      "execution_count": 156,
      "outputs": [
        {
          "output_type": "execute_result",
          "data": {
            "text/plain": [
              "  OPERATION_DATE HOUR_ENDING INTERVAL_ENDING   TOUTYPE     MARKET  \\\n",
              "0     2018-01-01         100              15  OFF-PEAK  Real Time   \n",
              "1     2018-01-01         100              30  OFF-PEAK  Real Time   \n",
              "2     2018-01-01         100              45  OFF-PEAK  Real Time   \n",
              "3     2018-01-01         100             100  OFF-PEAK  Real Time   \n",
              "4     2018-01-01         200             115  OFF-PEAK  Real Time   \n",
              "\n",
              "            ZONE  PRICE  HOUR  \n",
              "0  Load Zone CPS  24.10   0.0  \n",
              "1  Load Zone CPS  23.76   0.0  \n",
              "2  Load Zone CPS  22.87   0.0  \n",
              "3  Load Zone CPS  22.70   0.0  \n",
              "4  Load Zone CPS  22.07   1.0  "
            ],
            "text/html": [
              "\n",
              "  <div id=\"df-566796ae-f7fa-4e8e-857f-755c4d01fc33\">\n",
              "    <div class=\"colab-df-container\">\n",
              "      <div>\n",
              "<style scoped>\n",
              "    .dataframe tbody tr th:only-of-type {\n",
              "        vertical-align: middle;\n",
              "    }\n",
              "\n",
              "    .dataframe tbody tr th {\n",
              "        vertical-align: top;\n",
              "    }\n",
              "\n",
              "    .dataframe thead th {\n",
              "        text-align: right;\n",
              "    }\n",
              "</style>\n",
              "<table border=\"1\" class=\"dataframe\">\n",
              "  <thead>\n",
              "    <tr style=\"text-align: right;\">\n",
              "      <th></th>\n",
              "      <th>OPERATION_DATE</th>\n",
              "      <th>HOUR_ENDING</th>\n",
              "      <th>INTERVAL_ENDING</th>\n",
              "      <th>TOUTYPE</th>\n",
              "      <th>MARKET</th>\n",
              "      <th>ZONE</th>\n",
              "      <th>PRICE</th>\n",
              "      <th>HOUR</th>\n",
              "    </tr>\n",
              "  </thead>\n",
              "  <tbody>\n",
              "    <tr>\n",
              "      <th>0</th>\n",
              "      <td>2018-01-01</td>\n",
              "      <td>100</td>\n",
              "      <td>15</td>\n",
              "      <td>OFF-PEAK</td>\n",
              "      <td>Real Time</td>\n",
              "      <td>Load Zone CPS</td>\n",
              "      <td>24.10</td>\n",
              "      <td>0.0</td>\n",
              "    </tr>\n",
              "    <tr>\n",
              "      <th>1</th>\n",
              "      <td>2018-01-01</td>\n",
              "      <td>100</td>\n",
              "      <td>30</td>\n",
              "      <td>OFF-PEAK</td>\n",
              "      <td>Real Time</td>\n",
              "      <td>Load Zone CPS</td>\n",
              "      <td>23.76</td>\n",
              "      <td>0.0</td>\n",
              "    </tr>\n",
              "    <tr>\n",
              "      <th>2</th>\n",
              "      <td>2018-01-01</td>\n",
              "      <td>100</td>\n",
              "      <td>45</td>\n",
              "      <td>OFF-PEAK</td>\n",
              "      <td>Real Time</td>\n",
              "      <td>Load Zone CPS</td>\n",
              "      <td>22.87</td>\n",
              "      <td>0.0</td>\n",
              "    </tr>\n",
              "    <tr>\n",
              "      <th>3</th>\n",
              "      <td>2018-01-01</td>\n",
              "      <td>100</td>\n",
              "      <td>100</td>\n",
              "      <td>OFF-PEAK</td>\n",
              "      <td>Real Time</td>\n",
              "      <td>Load Zone CPS</td>\n",
              "      <td>22.70</td>\n",
              "      <td>0.0</td>\n",
              "    </tr>\n",
              "    <tr>\n",
              "      <th>4</th>\n",
              "      <td>2018-01-01</td>\n",
              "      <td>200</td>\n",
              "      <td>115</td>\n",
              "      <td>OFF-PEAK</td>\n",
              "      <td>Real Time</td>\n",
              "      <td>Load Zone CPS</td>\n",
              "      <td>22.07</td>\n",
              "      <td>1.0</td>\n",
              "    </tr>\n",
              "  </tbody>\n",
              "</table>\n",
              "</div>\n",
              "      <button class=\"colab-df-convert\" onclick=\"convertToInteractive('df-566796ae-f7fa-4e8e-857f-755c4d01fc33')\"\n",
              "              title=\"Convert this dataframe to an interactive table.\"\n",
              "              style=\"display:none;\">\n",
              "        \n",
              "  <svg xmlns=\"http://www.w3.org/2000/svg\" height=\"24px\"viewBox=\"0 0 24 24\"\n",
              "       width=\"24px\">\n",
              "    <path d=\"M0 0h24v24H0V0z\" fill=\"none\"/>\n",
              "    <path d=\"M18.56 5.44l.94 2.06.94-2.06 2.06-.94-2.06-.94-.94-2.06-.94 2.06-2.06.94zm-11 1L8.5 8.5l.94-2.06 2.06-.94-2.06-.94L8.5 2.5l-.94 2.06-2.06.94zm10 10l.94 2.06.94-2.06 2.06-.94-2.06-.94-.94-2.06-.94 2.06-2.06.94z\"/><path d=\"M17.41 7.96l-1.37-1.37c-.4-.4-.92-.59-1.43-.59-.52 0-1.04.2-1.43.59L10.3 9.45l-7.72 7.72c-.78.78-.78 2.05 0 2.83L4 21.41c.39.39.9.59 1.41.59.51 0 1.02-.2 1.41-.59l7.78-7.78 2.81-2.81c.8-.78.8-2.07 0-2.86zM5.41 20L4 18.59l7.72-7.72 1.47 1.35L5.41 20z\"/>\n",
              "  </svg>\n",
              "      </button>\n",
              "      \n",
              "  <style>\n",
              "    .colab-df-container {\n",
              "      display:flex;\n",
              "      flex-wrap:wrap;\n",
              "      gap: 12px;\n",
              "    }\n",
              "\n",
              "    .colab-df-convert {\n",
              "      background-color: #E8F0FE;\n",
              "      border: none;\n",
              "      border-radius: 50%;\n",
              "      cursor: pointer;\n",
              "      display: none;\n",
              "      fill: #1967D2;\n",
              "      height: 32px;\n",
              "      padding: 0 0 0 0;\n",
              "      width: 32px;\n",
              "    }\n",
              "\n",
              "    .colab-df-convert:hover {\n",
              "      background-color: #E2EBFA;\n",
              "      box-shadow: 0px 1px 2px rgba(60, 64, 67, 0.3), 0px 1px 3px 1px rgba(60, 64, 67, 0.15);\n",
              "      fill: #174EA6;\n",
              "    }\n",
              "\n",
              "    [theme=dark] .colab-df-convert {\n",
              "      background-color: #3B4455;\n",
              "      fill: #D2E3FC;\n",
              "    }\n",
              "\n",
              "    [theme=dark] .colab-df-convert:hover {\n",
              "      background-color: #434B5C;\n",
              "      box-shadow: 0px 1px 3px 1px rgba(0, 0, 0, 0.15);\n",
              "      filter: drop-shadow(0px 1px 2px rgba(0, 0, 0, 0.3));\n",
              "      fill: #FFFFFF;\n",
              "    }\n",
              "  </style>\n",
              "\n",
              "      <script>\n",
              "        const buttonEl =\n",
              "          document.querySelector('#df-566796ae-f7fa-4e8e-857f-755c4d01fc33 button.colab-df-convert');\n",
              "        buttonEl.style.display =\n",
              "          google.colab.kernel.accessAllowed ? 'block' : 'none';\n",
              "\n",
              "        async function convertToInteractive(key) {\n",
              "          const element = document.querySelector('#df-566796ae-f7fa-4e8e-857f-755c4d01fc33');\n",
              "          const dataTable =\n",
              "            await google.colab.kernel.invokeFunction('convertToInteractive',\n",
              "                                                     [key], {});\n",
              "          if (!dataTable) return;\n",
              "\n",
              "          const docLinkHtml = 'Like what you see? Visit the ' +\n",
              "            '<a target=\"_blank\" href=https://colab.research.google.com/notebooks/data_table.ipynb>data table notebook</a>'\n",
              "            + ' to learn more about interactive tables.';\n",
              "          element.innerHTML = '';\n",
              "          dataTable['output_type'] = 'display_data';\n",
              "          await google.colab.output.renderOutput(dataTable, element);\n",
              "          const docLink = document.createElement('div');\n",
              "          docLink.innerHTML = docLinkHtml;\n",
              "          element.appendChild(docLink);\n",
              "        }\n",
              "      </script>\n",
              "    </div>\n",
              "  </div>\n",
              "  "
            ]
          },
          "metadata": {},
          "execution_count": 156
        }
      ]
    },
    {
      "cell_type": "markdown",
      "metadata": {
        "id": "pRP2SJeSSyLo"
      },
      "source": [
        "We can drop `HOUR_ENDING` now if desired."
      ]
    },
    {
      "cell_type": "code",
      "metadata": {
        "id": "8y2jg3r2S3X5"
      },
      "source": [
        "df_price.drop('HOUR_ENDING', axis=1, inplace=True)"
      ],
      "execution_count": 157,
      "outputs": []
    },
    {
      "cell_type": "code",
      "source": [
        "df_price.head()"
      ],
      "metadata": {
        "colab": {
          "base_uri": "https://localhost:8080/",
          "height": 206
        },
        "id": "bvKHr_3ngafZ",
        "outputId": "fa8d727d-24a6-463d-dbd9-79fac922ebec"
      },
      "execution_count": 158,
      "outputs": [
        {
          "output_type": "execute_result",
          "data": {
            "text/plain": [
              "  OPERATION_DATE INTERVAL_ENDING   TOUTYPE     MARKET           ZONE  PRICE  \\\n",
              "0     2018-01-01              15  OFF-PEAK  Real Time  Load Zone CPS  24.10   \n",
              "1     2018-01-01              30  OFF-PEAK  Real Time  Load Zone CPS  23.76   \n",
              "2     2018-01-01              45  OFF-PEAK  Real Time  Load Zone CPS  22.87   \n",
              "3     2018-01-01             100  OFF-PEAK  Real Time  Load Zone CPS  22.70   \n",
              "4     2018-01-01             115  OFF-PEAK  Real Time  Load Zone CPS  22.07   \n",
              "\n",
              "   HOUR  \n",
              "0   0.0  \n",
              "1   0.0  \n",
              "2   0.0  \n",
              "3   0.0  \n",
              "4   1.0  "
            ],
            "text/html": [
              "\n",
              "  <div id=\"df-6d739a7b-ce77-4385-91e2-1f2e80374313\">\n",
              "    <div class=\"colab-df-container\">\n",
              "      <div>\n",
              "<style scoped>\n",
              "    .dataframe tbody tr th:only-of-type {\n",
              "        vertical-align: middle;\n",
              "    }\n",
              "\n",
              "    .dataframe tbody tr th {\n",
              "        vertical-align: top;\n",
              "    }\n",
              "\n",
              "    .dataframe thead th {\n",
              "        text-align: right;\n",
              "    }\n",
              "</style>\n",
              "<table border=\"1\" class=\"dataframe\">\n",
              "  <thead>\n",
              "    <tr style=\"text-align: right;\">\n",
              "      <th></th>\n",
              "      <th>OPERATION_DATE</th>\n",
              "      <th>INTERVAL_ENDING</th>\n",
              "      <th>TOUTYPE</th>\n",
              "      <th>MARKET</th>\n",
              "      <th>ZONE</th>\n",
              "      <th>PRICE</th>\n",
              "      <th>HOUR</th>\n",
              "    </tr>\n",
              "  </thead>\n",
              "  <tbody>\n",
              "    <tr>\n",
              "      <th>0</th>\n",
              "      <td>2018-01-01</td>\n",
              "      <td>15</td>\n",
              "      <td>OFF-PEAK</td>\n",
              "      <td>Real Time</td>\n",
              "      <td>Load Zone CPS</td>\n",
              "      <td>24.10</td>\n",
              "      <td>0.0</td>\n",
              "    </tr>\n",
              "    <tr>\n",
              "      <th>1</th>\n",
              "      <td>2018-01-01</td>\n",
              "      <td>30</td>\n",
              "      <td>OFF-PEAK</td>\n",
              "      <td>Real Time</td>\n",
              "      <td>Load Zone CPS</td>\n",
              "      <td>23.76</td>\n",
              "      <td>0.0</td>\n",
              "    </tr>\n",
              "    <tr>\n",
              "      <th>2</th>\n",
              "      <td>2018-01-01</td>\n",
              "      <td>45</td>\n",
              "      <td>OFF-PEAK</td>\n",
              "      <td>Real Time</td>\n",
              "      <td>Load Zone CPS</td>\n",
              "      <td>22.87</td>\n",
              "      <td>0.0</td>\n",
              "    </tr>\n",
              "    <tr>\n",
              "      <th>3</th>\n",
              "      <td>2018-01-01</td>\n",
              "      <td>100</td>\n",
              "      <td>OFF-PEAK</td>\n",
              "      <td>Real Time</td>\n",
              "      <td>Load Zone CPS</td>\n",
              "      <td>22.70</td>\n",
              "      <td>0.0</td>\n",
              "    </tr>\n",
              "    <tr>\n",
              "      <th>4</th>\n",
              "      <td>2018-01-01</td>\n",
              "      <td>115</td>\n",
              "      <td>OFF-PEAK</td>\n",
              "      <td>Real Time</td>\n",
              "      <td>Load Zone CPS</td>\n",
              "      <td>22.07</td>\n",
              "      <td>1.0</td>\n",
              "    </tr>\n",
              "  </tbody>\n",
              "</table>\n",
              "</div>\n",
              "      <button class=\"colab-df-convert\" onclick=\"convertToInteractive('df-6d739a7b-ce77-4385-91e2-1f2e80374313')\"\n",
              "              title=\"Convert this dataframe to an interactive table.\"\n",
              "              style=\"display:none;\">\n",
              "        \n",
              "  <svg xmlns=\"http://www.w3.org/2000/svg\" height=\"24px\"viewBox=\"0 0 24 24\"\n",
              "       width=\"24px\">\n",
              "    <path d=\"M0 0h24v24H0V0z\" fill=\"none\"/>\n",
              "    <path d=\"M18.56 5.44l.94 2.06.94-2.06 2.06-.94-2.06-.94-.94-2.06-.94 2.06-2.06.94zm-11 1L8.5 8.5l.94-2.06 2.06-.94-2.06-.94L8.5 2.5l-.94 2.06-2.06.94zm10 10l.94 2.06.94-2.06 2.06-.94-2.06-.94-.94-2.06-.94 2.06-2.06.94z\"/><path d=\"M17.41 7.96l-1.37-1.37c-.4-.4-.92-.59-1.43-.59-.52 0-1.04.2-1.43.59L10.3 9.45l-7.72 7.72c-.78.78-.78 2.05 0 2.83L4 21.41c.39.39.9.59 1.41.59.51 0 1.02-.2 1.41-.59l7.78-7.78 2.81-2.81c.8-.78.8-2.07 0-2.86zM5.41 20L4 18.59l7.72-7.72 1.47 1.35L5.41 20z\"/>\n",
              "  </svg>\n",
              "      </button>\n",
              "      \n",
              "  <style>\n",
              "    .colab-df-container {\n",
              "      display:flex;\n",
              "      flex-wrap:wrap;\n",
              "      gap: 12px;\n",
              "    }\n",
              "\n",
              "    .colab-df-convert {\n",
              "      background-color: #E8F0FE;\n",
              "      border: none;\n",
              "      border-radius: 50%;\n",
              "      cursor: pointer;\n",
              "      display: none;\n",
              "      fill: #1967D2;\n",
              "      height: 32px;\n",
              "      padding: 0 0 0 0;\n",
              "      width: 32px;\n",
              "    }\n",
              "\n",
              "    .colab-df-convert:hover {\n",
              "      background-color: #E2EBFA;\n",
              "      box-shadow: 0px 1px 2px rgba(60, 64, 67, 0.3), 0px 1px 3px 1px rgba(60, 64, 67, 0.15);\n",
              "      fill: #174EA6;\n",
              "    }\n",
              "\n",
              "    [theme=dark] .colab-df-convert {\n",
              "      background-color: #3B4455;\n",
              "      fill: #D2E3FC;\n",
              "    }\n",
              "\n",
              "    [theme=dark] .colab-df-convert:hover {\n",
              "      background-color: #434B5C;\n",
              "      box-shadow: 0px 1px 3px 1px rgba(0, 0, 0, 0.15);\n",
              "      filter: drop-shadow(0px 1px 2px rgba(0, 0, 0, 0.3));\n",
              "      fill: #FFFFFF;\n",
              "    }\n",
              "  </style>\n",
              "\n",
              "      <script>\n",
              "        const buttonEl =\n",
              "          document.querySelector('#df-6d739a7b-ce77-4385-91e2-1f2e80374313 button.colab-df-convert');\n",
              "        buttonEl.style.display =\n",
              "          google.colab.kernel.accessAllowed ? 'block' : 'none';\n",
              "\n",
              "        async function convertToInteractive(key) {\n",
              "          const element = document.querySelector('#df-6d739a7b-ce77-4385-91e2-1f2e80374313');\n",
              "          const dataTable =\n",
              "            await google.colab.kernel.invokeFunction('convertToInteractive',\n",
              "                                                     [key], {});\n",
              "          if (!dataTable) return;\n",
              "\n",
              "          const docLinkHtml = 'Like what you see? Visit the ' +\n",
              "            '<a target=\"_blank\" href=https://colab.research.google.com/notebooks/data_table.ipynb>data table notebook</a>'\n",
              "            + ' to learn more about interactive tables.';\n",
              "          element.innerHTML = '';\n",
              "          dataTable['output_type'] = 'display_data';\n",
              "          await google.colab.output.renderOutput(dataTable, element);\n",
              "          const docLink = document.createElement('div');\n",
              "          docLink.innerHTML = docLinkHtml;\n",
              "          element.appendChild(docLink);\n",
              "        }\n",
              "      </script>\n",
              "    </div>\n",
              "  </div>\n",
              "  "
            ]
          },
          "metadata": {},
          "execution_count": 158
        }
      ]
    },
    {
      "cell_type": "markdown",
      "metadata": {
        "id": "Z4vrmxheS9th"
      },
      "source": [
        "**Question**: why does `INTERVAL_ENDING` have 100 values?"
      ]
    },
    {
      "cell_type": "code",
      "metadata": {
        "colab": {
          "base_uri": "https://localhost:8080/"
        },
        "id": "9X4h6ekeTUzt",
        "outputId": "73cda13f-fb88-4350-c521-71416bac7825"
      },
      "source": [
        "df_price['INTERVAL_ENDING'].unique()"
      ],
      "execution_count": null,
      "outputs": [
        {
          "output_type": "execute_result",
          "data": {
            "text/plain": [
              "array(['15', '30', '45', '100', '115', '130', '145', '200', '215', '230',\n",
              "       '245', '300', '315', '330', '345', '400', '415', '430', '445',\n",
              "       '500', '515', '530', '545', '600', '615', '630', '645', '700',\n",
              "       '715', '730', '745', '800', '815', '830', '845', '900', '915',\n",
              "       '930', '945', '1000', '1015', '1030', '1045', '1100', '1115',\n",
              "       '1130', '1145', '1200', '1215', '1230', '1245', '1300', '1315',\n",
              "       '1330', '1345', '1400', '1415', '1430', '1445', '1500', '1515',\n",
              "       '1530', '1545', '1600', '1615', '1630', '1645', '1700', '1715',\n",
              "       '1730', '1745', '1800', '1815', '1830', '1845', '1900', '1915',\n",
              "       '1930', '1945', '2000', '2015', '2030', '2045', '2100', '2115',\n",
              "       '2130', '2145', '2200', '2215', '2230', '2245', '2300', '2315',\n",
              "       '2330', '2345', '2400', '0115D', '0130D', '0145D', '0200D'],\n",
              "      dtype=object)"
            ]
          },
          "metadata": {},
          "execution_count": 32
        }
      ]
    },
    {
      "cell_type": "code",
      "source": [
        "df_price['INTERVAL_ENDING'].value_counts()"
      ],
      "metadata": {
        "colab": {
          "base_uri": "https://localhost:8080/"
        },
        "id": "UewuOqFfgs8g",
        "outputId": "38ebfdb6-5e87-4ffc-a4bf-51fb2b981380"
      },
      "execution_count": 159,
      "outputs": [
        {
          "output_type": "execute_result",
          "data": {
            "text/plain": [
              "15       365\n",
              "1230     365\n",
              "1800     365\n",
              "1745     365\n",
              "1730     365\n",
              "        ... \n",
              "245      364\n",
              "0115D      1\n",
              "0130D      1\n",
              "0145D      1\n",
              "0200D      1\n",
              "Name: INTERVAL_ENDING, Length: 100, dtype: int64"
            ]
          },
          "metadata": {},
          "execution_count": 159
        }
      ]
    },
    {
      "cell_type": "markdown",
      "metadata": {
        "id": "oFOq6eaITatW"
      },
      "source": [
        "\n",
        "`INTERVAL_ENDING` has values that are similar to those in `HOUR_ENDING`..."
      ]
    },
    {
      "cell_type": "code",
      "metadata": {
        "id": "jmWhaf2xTimL"
      },
      "source": [
        "# Replace the values\n",
        "df_price['INTERVAL_ENDING'] = df_price['INTERVAL_ENDING'].replace({'0200D':'200', \n",
        "                                  '0115D':'215',\n",
        "                                  '0130D':'230',\n",
        "                                  '0145D':'245'})"
      ],
      "execution_count": 160,
      "outputs": []
    },
    {
      "cell_type": "code",
      "source": [
        "df_price.head(6)"
      ],
      "metadata": {
        "colab": {
          "base_uri": "https://localhost:8080/",
          "height": 237
        },
        "id": "cJ9I8cacufYq",
        "outputId": "86edf727-a95d-40d7-85b9-d47c43e2270c"
      },
      "execution_count": 161,
      "outputs": [
        {
          "output_type": "execute_result",
          "data": {
            "text/plain": [
              "  OPERATION_DATE INTERVAL_ENDING   TOUTYPE     MARKET           ZONE  PRICE  \\\n",
              "0     2018-01-01              15  OFF-PEAK  Real Time  Load Zone CPS  24.10   \n",
              "1     2018-01-01              30  OFF-PEAK  Real Time  Load Zone CPS  23.76   \n",
              "2     2018-01-01              45  OFF-PEAK  Real Time  Load Zone CPS  22.87   \n",
              "3     2018-01-01             100  OFF-PEAK  Real Time  Load Zone CPS  22.70   \n",
              "4     2018-01-01             115  OFF-PEAK  Real Time  Load Zone CPS  22.07   \n",
              "5     2018-01-01             130  OFF-PEAK  Real Time  Load Zone CPS  21.87   \n",
              "\n",
              "   HOUR  \n",
              "0   0.0  \n",
              "1   0.0  \n",
              "2   0.0  \n",
              "3   0.0  \n",
              "4   1.0  \n",
              "5   1.0  "
            ],
            "text/html": [
              "\n",
              "  <div id=\"df-fd1c7236-0354-407e-9b60-d789e7a05faa\">\n",
              "    <div class=\"colab-df-container\">\n",
              "      <div>\n",
              "<style scoped>\n",
              "    .dataframe tbody tr th:only-of-type {\n",
              "        vertical-align: middle;\n",
              "    }\n",
              "\n",
              "    .dataframe tbody tr th {\n",
              "        vertical-align: top;\n",
              "    }\n",
              "\n",
              "    .dataframe thead th {\n",
              "        text-align: right;\n",
              "    }\n",
              "</style>\n",
              "<table border=\"1\" class=\"dataframe\">\n",
              "  <thead>\n",
              "    <tr style=\"text-align: right;\">\n",
              "      <th></th>\n",
              "      <th>OPERATION_DATE</th>\n",
              "      <th>INTERVAL_ENDING</th>\n",
              "      <th>TOUTYPE</th>\n",
              "      <th>MARKET</th>\n",
              "      <th>ZONE</th>\n",
              "      <th>PRICE</th>\n",
              "      <th>HOUR</th>\n",
              "    </tr>\n",
              "  </thead>\n",
              "  <tbody>\n",
              "    <tr>\n",
              "      <th>0</th>\n",
              "      <td>2018-01-01</td>\n",
              "      <td>15</td>\n",
              "      <td>OFF-PEAK</td>\n",
              "      <td>Real Time</td>\n",
              "      <td>Load Zone CPS</td>\n",
              "      <td>24.10</td>\n",
              "      <td>0.0</td>\n",
              "    </tr>\n",
              "    <tr>\n",
              "      <th>1</th>\n",
              "      <td>2018-01-01</td>\n",
              "      <td>30</td>\n",
              "      <td>OFF-PEAK</td>\n",
              "      <td>Real Time</td>\n",
              "      <td>Load Zone CPS</td>\n",
              "      <td>23.76</td>\n",
              "      <td>0.0</td>\n",
              "    </tr>\n",
              "    <tr>\n",
              "      <th>2</th>\n",
              "      <td>2018-01-01</td>\n",
              "      <td>45</td>\n",
              "      <td>OFF-PEAK</td>\n",
              "      <td>Real Time</td>\n",
              "      <td>Load Zone CPS</td>\n",
              "      <td>22.87</td>\n",
              "      <td>0.0</td>\n",
              "    </tr>\n",
              "    <tr>\n",
              "      <th>3</th>\n",
              "      <td>2018-01-01</td>\n",
              "      <td>100</td>\n",
              "      <td>OFF-PEAK</td>\n",
              "      <td>Real Time</td>\n",
              "      <td>Load Zone CPS</td>\n",
              "      <td>22.70</td>\n",
              "      <td>0.0</td>\n",
              "    </tr>\n",
              "    <tr>\n",
              "      <th>4</th>\n",
              "      <td>2018-01-01</td>\n",
              "      <td>115</td>\n",
              "      <td>OFF-PEAK</td>\n",
              "      <td>Real Time</td>\n",
              "      <td>Load Zone CPS</td>\n",
              "      <td>22.07</td>\n",
              "      <td>1.0</td>\n",
              "    </tr>\n",
              "    <tr>\n",
              "      <th>5</th>\n",
              "      <td>2018-01-01</td>\n",
              "      <td>130</td>\n",
              "      <td>OFF-PEAK</td>\n",
              "      <td>Real Time</td>\n",
              "      <td>Load Zone CPS</td>\n",
              "      <td>21.87</td>\n",
              "      <td>1.0</td>\n",
              "    </tr>\n",
              "  </tbody>\n",
              "</table>\n",
              "</div>\n",
              "      <button class=\"colab-df-convert\" onclick=\"convertToInteractive('df-fd1c7236-0354-407e-9b60-d789e7a05faa')\"\n",
              "              title=\"Convert this dataframe to an interactive table.\"\n",
              "              style=\"display:none;\">\n",
              "        \n",
              "  <svg xmlns=\"http://www.w3.org/2000/svg\" height=\"24px\"viewBox=\"0 0 24 24\"\n",
              "       width=\"24px\">\n",
              "    <path d=\"M0 0h24v24H0V0z\" fill=\"none\"/>\n",
              "    <path d=\"M18.56 5.44l.94 2.06.94-2.06 2.06-.94-2.06-.94-.94-2.06-.94 2.06-2.06.94zm-11 1L8.5 8.5l.94-2.06 2.06-.94-2.06-.94L8.5 2.5l-.94 2.06-2.06.94zm10 10l.94 2.06.94-2.06 2.06-.94-2.06-.94-.94-2.06-.94 2.06-2.06.94z\"/><path d=\"M17.41 7.96l-1.37-1.37c-.4-.4-.92-.59-1.43-.59-.52 0-1.04.2-1.43.59L10.3 9.45l-7.72 7.72c-.78.78-.78 2.05 0 2.83L4 21.41c.39.39.9.59 1.41.59.51 0 1.02-.2 1.41-.59l7.78-7.78 2.81-2.81c.8-.78.8-2.07 0-2.86zM5.41 20L4 18.59l7.72-7.72 1.47 1.35L5.41 20z\"/>\n",
              "  </svg>\n",
              "      </button>\n",
              "      \n",
              "  <style>\n",
              "    .colab-df-container {\n",
              "      display:flex;\n",
              "      flex-wrap:wrap;\n",
              "      gap: 12px;\n",
              "    }\n",
              "\n",
              "    .colab-df-convert {\n",
              "      background-color: #E8F0FE;\n",
              "      border: none;\n",
              "      border-radius: 50%;\n",
              "      cursor: pointer;\n",
              "      display: none;\n",
              "      fill: #1967D2;\n",
              "      height: 32px;\n",
              "      padding: 0 0 0 0;\n",
              "      width: 32px;\n",
              "    }\n",
              "\n",
              "    .colab-df-convert:hover {\n",
              "      background-color: #E2EBFA;\n",
              "      box-shadow: 0px 1px 2px rgba(60, 64, 67, 0.3), 0px 1px 3px 1px rgba(60, 64, 67, 0.15);\n",
              "      fill: #174EA6;\n",
              "    }\n",
              "\n",
              "    [theme=dark] .colab-df-convert {\n",
              "      background-color: #3B4455;\n",
              "      fill: #D2E3FC;\n",
              "    }\n",
              "\n",
              "    [theme=dark] .colab-df-convert:hover {\n",
              "      background-color: #434B5C;\n",
              "      box-shadow: 0px 1px 3px 1px rgba(0, 0, 0, 0.15);\n",
              "      filter: drop-shadow(0px 1px 2px rgba(0, 0, 0, 0.3));\n",
              "      fill: #FFFFFF;\n",
              "    }\n",
              "  </style>\n",
              "\n",
              "      <script>\n",
              "        const buttonEl =\n",
              "          document.querySelector('#df-fd1c7236-0354-407e-9b60-d789e7a05faa button.colab-df-convert');\n",
              "        buttonEl.style.display =\n",
              "          google.colab.kernel.accessAllowed ? 'block' : 'none';\n",
              "\n",
              "        async function convertToInteractive(key) {\n",
              "          const element = document.querySelector('#df-fd1c7236-0354-407e-9b60-d789e7a05faa');\n",
              "          const dataTable =\n",
              "            await google.colab.kernel.invokeFunction('convertToInteractive',\n",
              "                                                     [key], {});\n",
              "          if (!dataTable) return;\n",
              "\n",
              "          const docLinkHtml = 'Like what you see? Visit the ' +\n",
              "            '<a target=\"_blank\" href=https://colab.research.google.com/notebooks/data_table.ipynb>data table notebook</a>'\n",
              "            + ' to learn more about interactive tables.';\n",
              "          element.innerHTML = '';\n",
              "          dataTable['output_type'] = 'display_data';\n",
              "          await google.colab.output.renderOutput(dataTable, element);\n",
              "          const docLink = document.createElement('div');\n",
              "          docLink.innerHTML = docLinkHtml;\n",
              "          element.appendChild(docLink);\n",
              "        }\n",
              "      </script>\n",
              "    </div>\n",
              "  </div>\n",
              "  "
            ]
          },
          "metadata": {},
          "execution_count": 161
        }
      ]
    },
    {
      "cell_type": "code",
      "metadata": {
        "id": "Ih-EkjSUwMn2",
        "colab": {
          "base_uri": "https://localhost:8080/",
          "height": 363
        },
        "outputId": "18c48a62-e56f-45d4-9a7b-8fb655890795"
      },
      "source": [
        "# We only need the last two characters for our timestamp...get them with str.strip()\n",
        "df_price['INTERVAL'] = df_price['INTERVAL_ENDING'].str.strip().str[-2:]\n",
        "df_price.head(10)"
      ],
      "execution_count": 163,
      "outputs": [
        {
          "output_type": "execute_result",
          "data": {
            "text/plain": [
              "  OPERATION_DATE INTERVAL_ENDING   TOUTYPE     MARKET           ZONE  PRICE  \\\n",
              "0     2018-01-01              15  OFF-PEAK  Real Time  Load Zone CPS  24.10   \n",
              "1     2018-01-01              30  OFF-PEAK  Real Time  Load Zone CPS  23.76   \n",
              "2     2018-01-01              45  OFF-PEAK  Real Time  Load Zone CPS  22.87   \n",
              "3     2018-01-01             100  OFF-PEAK  Real Time  Load Zone CPS  22.70   \n",
              "4     2018-01-01             115  OFF-PEAK  Real Time  Load Zone CPS  22.07   \n",
              "5     2018-01-01             130  OFF-PEAK  Real Time  Load Zone CPS  21.87   \n",
              "6     2018-01-01             145  OFF-PEAK  Real Time  Load Zone CPS  20.92   \n",
              "7     2018-01-01             200  OFF-PEAK  Real Time  Load Zone CPS  21.00   \n",
              "8     2018-01-01             215  OFF-PEAK  Real Time  Load Zone CPS  21.11   \n",
              "9     2018-01-01             230  OFF-PEAK  Real Time  Load Zone CPS  20.94   \n",
              "\n",
              "   HOUR INTERVAL  \n",
              "0   0.0       15  \n",
              "1   0.0       30  \n",
              "2   0.0       45  \n",
              "3   0.0       00  \n",
              "4   1.0       15  \n",
              "5   1.0       30  \n",
              "6   1.0       45  \n",
              "7   1.0       00  \n",
              "8   2.0       15  \n",
              "9   2.0       30  "
            ],
            "text/html": [
              "\n",
              "  <div id=\"df-17a28cf0-fcbe-4985-9553-583aeb2382f4\">\n",
              "    <div class=\"colab-df-container\">\n",
              "      <div>\n",
              "<style scoped>\n",
              "    .dataframe tbody tr th:only-of-type {\n",
              "        vertical-align: middle;\n",
              "    }\n",
              "\n",
              "    .dataframe tbody tr th {\n",
              "        vertical-align: top;\n",
              "    }\n",
              "\n",
              "    .dataframe thead th {\n",
              "        text-align: right;\n",
              "    }\n",
              "</style>\n",
              "<table border=\"1\" class=\"dataframe\">\n",
              "  <thead>\n",
              "    <tr style=\"text-align: right;\">\n",
              "      <th></th>\n",
              "      <th>OPERATION_DATE</th>\n",
              "      <th>INTERVAL_ENDING</th>\n",
              "      <th>TOUTYPE</th>\n",
              "      <th>MARKET</th>\n",
              "      <th>ZONE</th>\n",
              "      <th>PRICE</th>\n",
              "      <th>HOUR</th>\n",
              "      <th>INTERVAL</th>\n",
              "    </tr>\n",
              "  </thead>\n",
              "  <tbody>\n",
              "    <tr>\n",
              "      <th>0</th>\n",
              "      <td>2018-01-01</td>\n",
              "      <td>15</td>\n",
              "      <td>OFF-PEAK</td>\n",
              "      <td>Real Time</td>\n",
              "      <td>Load Zone CPS</td>\n",
              "      <td>24.10</td>\n",
              "      <td>0.0</td>\n",
              "      <td>15</td>\n",
              "    </tr>\n",
              "    <tr>\n",
              "      <th>1</th>\n",
              "      <td>2018-01-01</td>\n",
              "      <td>30</td>\n",
              "      <td>OFF-PEAK</td>\n",
              "      <td>Real Time</td>\n",
              "      <td>Load Zone CPS</td>\n",
              "      <td>23.76</td>\n",
              "      <td>0.0</td>\n",
              "      <td>30</td>\n",
              "    </tr>\n",
              "    <tr>\n",
              "      <th>2</th>\n",
              "      <td>2018-01-01</td>\n",
              "      <td>45</td>\n",
              "      <td>OFF-PEAK</td>\n",
              "      <td>Real Time</td>\n",
              "      <td>Load Zone CPS</td>\n",
              "      <td>22.87</td>\n",
              "      <td>0.0</td>\n",
              "      <td>45</td>\n",
              "    </tr>\n",
              "    <tr>\n",
              "      <th>3</th>\n",
              "      <td>2018-01-01</td>\n",
              "      <td>100</td>\n",
              "      <td>OFF-PEAK</td>\n",
              "      <td>Real Time</td>\n",
              "      <td>Load Zone CPS</td>\n",
              "      <td>22.70</td>\n",
              "      <td>0.0</td>\n",
              "      <td>00</td>\n",
              "    </tr>\n",
              "    <tr>\n",
              "      <th>4</th>\n",
              "      <td>2018-01-01</td>\n",
              "      <td>115</td>\n",
              "      <td>OFF-PEAK</td>\n",
              "      <td>Real Time</td>\n",
              "      <td>Load Zone CPS</td>\n",
              "      <td>22.07</td>\n",
              "      <td>1.0</td>\n",
              "      <td>15</td>\n",
              "    </tr>\n",
              "    <tr>\n",
              "      <th>5</th>\n",
              "      <td>2018-01-01</td>\n",
              "      <td>130</td>\n",
              "      <td>OFF-PEAK</td>\n",
              "      <td>Real Time</td>\n",
              "      <td>Load Zone CPS</td>\n",
              "      <td>21.87</td>\n",
              "      <td>1.0</td>\n",
              "      <td>30</td>\n",
              "    </tr>\n",
              "    <tr>\n",
              "      <th>6</th>\n",
              "      <td>2018-01-01</td>\n",
              "      <td>145</td>\n",
              "      <td>OFF-PEAK</td>\n",
              "      <td>Real Time</td>\n",
              "      <td>Load Zone CPS</td>\n",
              "      <td>20.92</td>\n",
              "      <td>1.0</td>\n",
              "      <td>45</td>\n",
              "    </tr>\n",
              "    <tr>\n",
              "      <th>7</th>\n",
              "      <td>2018-01-01</td>\n",
              "      <td>200</td>\n",
              "      <td>OFF-PEAK</td>\n",
              "      <td>Real Time</td>\n",
              "      <td>Load Zone CPS</td>\n",
              "      <td>21.00</td>\n",
              "      <td>1.0</td>\n",
              "      <td>00</td>\n",
              "    </tr>\n",
              "    <tr>\n",
              "      <th>8</th>\n",
              "      <td>2018-01-01</td>\n",
              "      <td>215</td>\n",
              "      <td>OFF-PEAK</td>\n",
              "      <td>Real Time</td>\n",
              "      <td>Load Zone CPS</td>\n",
              "      <td>21.11</td>\n",
              "      <td>2.0</td>\n",
              "      <td>15</td>\n",
              "    </tr>\n",
              "    <tr>\n",
              "      <th>9</th>\n",
              "      <td>2018-01-01</td>\n",
              "      <td>230</td>\n",
              "      <td>OFF-PEAK</td>\n",
              "      <td>Real Time</td>\n",
              "      <td>Load Zone CPS</td>\n",
              "      <td>20.94</td>\n",
              "      <td>2.0</td>\n",
              "      <td>30</td>\n",
              "    </tr>\n",
              "  </tbody>\n",
              "</table>\n",
              "</div>\n",
              "      <button class=\"colab-df-convert\" onclick=\"convertToInteractive('df-17a28cf0-fcbe-4985-9553-583aeb2382f4')\"\n",
              "              title=\"Convert this dataframe to an interactive table.\"\n",
              "              style=\"display:none;\">\n",
              "        \n",
              "  <svg xmlns=\"http://www.w3.org/2000/svg\" height=\"24px\"viewBox=\"0 0 24 24\"\n",
              "       width=\"24px\">\n",
              "    <path d=\"M0 0h24v24H0V0z\" fill=\"none\"/>\n",
              "    <path d=\"M18.56 5.44l.94 2.06.94-2.06 2.06-.94-2.06-.94-.94-2.06-.94 2.06-2.06.94zm-11 1L8.5 8.5l.94-2.06 2.06-.94-2.06-.94L8.5 2.5l-.94 2.06-2.06.94zm10 10l.94 2.06.94-2.06 2.06-.94-2.06-.94-.94-2.06-.94 2.06-2.06.94z\"/><path d=\"M17.41 7.96l-1.37-1.37c-.4-.4-.92-.59-1.43-.59-.52 0-1.04.2-1.43.59L10.3 9.45l-7.72 7.72c-.78.78-.78 2.05 0 2.83L4 21.41c.39.39.9.59 1.41.59.51 0 1.02-.2 1.41-.59l7.78-7.78 2.81-2.81c.8-.78.8-2.07 0-2.86zM5.41 20L4 18.59l7.72-7.72 1.47 1.35L5.41 20z\"/>\n",
              "  </svg>\n",
              "      </button>\n",
              "      \n",
              "  <style>\n",
              "    .colab-df-container {\n",
              "      display:flex;\n",
              "      flex-wrap:wrap;\n",
              "      gap: 12px;\n",
              "    }\n",
              "\n",
              "    .colab-df-convert {\n",
              "      background-color: #E8F0FE;\n",
              "      border: none;\n",
              "      border-radius: 50%;\n",
              "      cursor: pointer;\n",
              "      display: none;\n",
              "      fill: #1967D2;\n",
              "      height: 32px;\n",
              "      padding: 0 0 0 0;\n",
              "      width: 32px;\n",
              "    }\n",
              "\n",
              "    .colab-df-convert:hover {\n",
              "      background-color: #E2EBFA;\n",
              "      box-shadow: 0px 1px 2px rgba(60, 64, 67, 0.3), 0px 1px 3px 1px rgba(60, 64, 67, 0.15);\n",
              "      fill: #174EA6;\n",
              "    }\n",
              "\n",
              "    [theme=dark] .colab-df-convert {\n",
              "      background-color: #3B4455;\n",
              "      fill: #D2E3FC;\n",
              "    }\n",
              "\n",
              "    [theme=dark] .colab-df-convert:hover {\n",
              "      background-color: #434B5C;\n",
              "      box-shadow: 0px 1px 3px 1px rgba(0, 0, 0, 0.15);\n",
              "      filter: drop-shadow(0px 1px 2px rgba(0, 0, 0, 0.3));\n",
              "      fill: #FFFFFF;\n",
              "    }\n",
              "  </style>\n",
              "\n",
              "      <script>\n",
              "        const buttonEl =\n",
              "          document.querySelector('#df-17a28cf0-fcbe-4985-9553-583aeb2382f4 button.colab-df-convert');\n",
              "        buttonEl.style.display =\n",
              "          google.colab.kernel.accessAllowed ? 'block' : 'none';\n",
              "\n",
              "        async function convertToInteractive(key) {\n",
              "          const element = document.querySelector('#df-17a28cf0-fcbe-4985-9553-583aeb2382f4');\n",
              "          const dataTable =\n",
              "            await google.colab.kernel.invokeFunction('convertToInteractive',\n",
              "                                                     [key], {});\n",
              "          if (!dataTable) return;\n",
              "\n",
              "          const docLinkHtml = 'Like what you see? Visit the ' +\n",
              "            '<a target=\"_blank\" href=https://colab.research.google.com/notebooks/data_table.ipynb>data table notebook</a>'\n",
              "            + ' to learn more about interactive tables.';\n",
              "          element.innerHTML = '';\n",
              "          dataTable['output_type'] = 'display_data';\n",
              "          await google.colab.output.renderOutput(dataTable, element);\n",
              "          const docLink = document.createElement('div');\n",
              "          docLink.innerHTML = docLinkHtml;\n",
              "          element.appendChild(docLink);\n",
              "        }\n",
              "      </script>\n",
              "    </div>\n",
              "  </div>\n",
              "  "
            ]
          },
          "metadata": {},
          "execution_count": 163
        }
      ]
    },
    {
      "cell_type": "code",
      "metadata": {
        "id": "cKlMo-qaT0eY"
      },
      "source": [
        "# Cast INTERVAL to type INT and drop INTERVAL_ENDING if desired\n",
        "df_price['INTERVAL'] = df_price['INTERVAL'].astype('int')\n",
        "df_price.drop('INTERVAL_ENDING', axis=1, inplace=True)"
      ],
      "execution_count": 164,
      "outputs": []
    },
    {
      "cell_type": "code",
      "source": [
        "df_price.head(6)"
      ],
      "metadata": {
        "colab": {
          "base_uri": "https://localhost:8080/",
          "height": 237
        },
        "id": "17sEvSsFuqDY",
        "outputId": "a0b1499c-b26e-4363-d189-3ff70242fb63"
      },
      "execution_count": 165,
      "outputs": [
        {
          "output_type": "execute_result",
          "data": {
            "text/plain": [
              "  OPERATION_DATE   TOUTYPE     MARKET           ZONE  PRICE  HOUR  INTERVAL\n",
              "0     2018-01-01  OFF-PEAK  Real Time  Load Zone CPS  24.10   0.0        15\n",
              "1     2018-01-01  OFF-PEAK  Real Time  Load Zone CPS  23.76   0.0        30\n",
              "2     2018-01-01  OFF-PEAK  Real Time  Load Zone CPS  22.87   0.0        45\n",
              "3     2018-01-01  OFF-PEAK  Real Time  Load Zone CPS  22.70   0.0         0\n",
              "4     2018-01-01  OFF-PEAK  Real Time  Load Zone CPS  22.07   1.0        15\n",
              "5     2018-01-01  OFF-PEAK  Real Time  Load Zone CPS  21.87   1.0        30"
            ],
            "text/html": [
              "\n",
              "  <div id=\"df-b38f6ce6-4792-4f94-8b9e-bf32d2043e80\">\n",
              "    <div class=\"colab-df-container\">\n",
              "      <div>\n",
              "<style scoped>\n",
              "    .dataframe tbody tr th:only-of-type {\n",
              "        vertical-align: middle;\n",
              "    }\n",
              "\n",
              "    .dataframe tbody tr th {\n",
              "        vertical-align: top;\n",
              "    }\n",
              "\n",
              "    .dataframe thead th {\n",
              "        text-align: right;\n",
              "    }\n",
              "</style>\n",
              "<table border=\"1\" class=\"dataframe\">\n",
              "  <thead>\n",
              "    <tr style=\"text-align: right;\">\n",
              "      <th></th>\n",
              "      <th>OPERATION_DATE</th>\n",
              "      <th>TOUTYPE</th>\n",
              "      <th>MARKET</th>\n",
              "      <th>ZONE</th>\n",
              "      <th>PRICE</th>\n",
              "      <th>HOUR</th>\n",
              "      <th>INTERVAL</th>\n",
              "    </tr>\n",
              "  </thead>\n",
              "  <tbody>\n",
              "    <tr>\n",
              "      <th>0</th>\n",
              "      <td>2018-01-01</td>\n",
              "      <td>OFF-PEAK</td>\n",
              "      <td>Real Time</td>\n",
              "      <td>Load Zone CPS</td>\n",
              "      <td>24.10</td>\n",
              "      <td>0.0</td>\n",
              "      <td>15</td>\n",
              "    </tr>\n",
              "    <tr>\n",
              "      <th>1</th>\n",
              "      <td>2018-01-01</td>\n",
              "      <td>OFF-PEAK</td>\n",
              "      <td>Real Time</td>\n",
              "      <td>Load Zone CPS</td>\n",
              "      <td>23.76</td>\n",
              "      <td>0.0</td>\n",
              "      <td>30</td>\n",
              "    </tr>\n",
              "    <tr>\n",
              "      <th>2</th>\n",
              "      <td>2018-01-01</td>\n",
              "      <td>OFF-PEAK</td>\n",
              "      <td>Real Time</td>\n",
              "      <td>Load Zone CPS</td>\n",
              "      <td>22.87</td>\n",
              "      <td>0.0</td>\n",
              "      <td>45</td>\n",
              "    </tr>\n",
              "    <tr>\n",
              "      <th>3</th>\n",
              "      <td>2018-01-01</td>\n",
              "      <td>OFF-PEAK</td>\n",
              "      <td>Real Time</td>\n",
              "      <td>Load Zone CPS</td>\n",
              "      <td>22.70</td>\n",
              "      <td>0.0</td>\n",
              "      <td>0</td>\n",
              "    </tr>\n",
              "    <tr>\n",
              "      <th>4</th>\n",
              "      <td>2018-01-01</td>\n",
              "      <td>OFF-PEAK</td>\n",
              "      <td>Real Time</td>\n",
              "      <td>Load Zone CPS</td>\n",
              "      <td>22.07</td>\n",
              "      <td>1.0</td>\n",
              "      <td>15</td>\n",
              "    </tr>\n",
              "    <tr>\n",
              "      <th>5</th>\n",
              "      <td>2018-01-01</td>\n",
              "      <td>OFF-PEAK</td>\n",
              "      <td>Real Time</td>\n",
              "      <td>Load Zone CPS</td>\n",
              "      <td>21.87</td>\n",
              "      <td>1.0</td>\n",
              "      <td>30</td>\n",
              "    </tr>\n",
              "  </tbody>\n",
              "</table>\n",
              "</div>\n",
              "      <button class=\"colab-df-convert\" onclick=\"convertToInteractive('df-b38f6ce6-4792-4f94-8b9e-bf32d2043e80')\"\n",
              "              title=\"Convert this dataframe to an interactive table.\"\n",
              "              style=\"display:none;\">\n",
              "        \n",
              "  <svg xmlns=\"http://www.w3.org/2000/svg\" height=\"24px\"viewBox=\"0 0 24 24\"\n",
              "       width=\"24px\">\n",
              "    <path d=\"M0 0h24v24H0V0z\" fill=\"none\"/>\n",
              "    <path d=\"M18.56 5.44l.94 2.06.94-2.06 2.06-.94-2.06-.94-.94-2.06-.94 2.06-2.06.94zm-11 1L8.5 8.5l.94-2.06 2.06-.94-2.06-.94L8.5 2.5l-.94 2.06-2.06.94zm10 10l.94 2.06.94-2.06 2.06-.94-2.06-.94-.94-2.06-.94 2.06-2.06.94z\"/><path d=\"M17.41 7.96l-1.37-1.37c-.4-.4-.92-.59-1.43-.59-.52 0-1.04.2-1.43.59L10.3 9.45l-7.72 7.72c-.78.78-.78 2.05 0 2.83L4 21.41c.39.39.9.59 1.41.59.51 0 1.02-.2 1.41-.59l7.78-7.78 2.81-2.81c.8-.78.8-2.07 0-2.86zM5.41 20L4 18.59l7.72-7.72 1.47 1.35L5.41 20z\"/>\n",
              "  </svg>\n",
              "      </button>\n",
              "      \n",
              "  <style>\n",
              "    .colab-df-container {\n",
              "      display:flex;\n",
              "      flex-wrap:wrap;\n",
              "      gap: 12px;\n",
              "    }\n",
              "\n",
              "    .colab-df-convert {\n",
              "      background-color: #E8F0FE;\n",
              "      border: none;\n",
              "      border-radius: 50%;\n",
              "      cursor: pointer;\n",
              "      display: none;\n",
              "      fill: #1967D2;\n",
              "      height: 32px;\n",
              "      padding: 0 0 0 0;\n",
              "      width: 32px;\n",
              "    }\n",
              "\n",
              "    .colab-df-convert:hover {\n",
              "      background-color: #E2EBFA;\n",
              "      box-shadow: 0px 1px 2px rgba(60, 64, 67, 0.3), 0px 1px 3px 1px rgba(60, 64, 67, 0.15);\n",
              "      fill: #174EA6;\n",
              "    }\n",
              "\n",
              "    [theme=dark] .colab-df-convert {\n",
              "      background-color: #3B4455;\n",
              "      fill: #D2E3FC;\n",
              "    }\n",
              "\n",
              "    [theme=dark] .colab-df-convert:hover {\n",
              "      background-color: #434B5C;\n",
              "      box-shadow: 0px 1px 3px 1px rgba(0, 0, 0, 0.15);\n",
              "      filter: drop-shadow(0px 1px 2px rgba(0, 0, 0, 0.3));\n",
              "      fill: #FFFFFF;\n",
              "    }\n",
              "  </style>\n",
              "\n",
              "      <script>\n",
              "        const buttonEl =\n",
              "          document.querySelector('#df-b38f6ce6-4792-4f94-8b9e-bf32d2043e80 button.colab-df-convert');\n",
              "        buttonEl.style.display =\n",
              "          google.colab.kernel.accessAllowed ? 'block' : 'none';\n",
              "\n",
              "        async function convertToInteractive(key) {\n",
              "          const element = document.querySelector('#df-b38f6ce6-4792-4f94-8b9e-bf32d2043e80');\n",
              "          const dataTable =\n",
              "            await google.colab.kernel.invokeFunction('convertToInteractive',\n",
              "                                                     [key], {});\n",
              "          if (!dataTable) return;\n",
              "\n",
              "          const docLinkHtml = 'Like what you see? Visit the ' +\n",
              "            '<a target=\"_blank\" href=https://colab.research.google.com/notebooks/data_table.ipynb>data table notebook</a>'\n",
              "            + ' to learn more about interactive tables.';\n",
              "          element.innerHTML = '';\n",
              "          dataTable['output_type'] = 'display_data';\n",
              "          await google.colab.output.renderOutput(dataTable, element);\n",
              "          const docLink = document.createElement('div');\n",
              "          docLink.innerHTML = docLinkHtml;\n",
              "          element.appendChild(docLink);\n",
              "        }\n",
              "      </script>\n",
              "    </div>\n",
              "  </div>\n",
              "  "
            ]
          },
          "metadata": {},
          "execution_count": 165
        }
      ]
    },
    {
      "cell_type": "code",
      "metadata": {
        "colab": {
          "base_uri": "https://localhost:8080/"
        },
        "id": "sF4_3K61UH2C",
        "outputId": "1cd4ce09-98b2-4294-dac9-db3b2fb92196"
      },
      "source": [
        "df_price.HOUR.dtype"
      ],
      "execution_count": null,
      "outputs": [
        {
          "output_type": "execute_result",
          "data": {
            "text/plain": [
              "dtype('float64')"
            ]
          },
          "metadata": {},
          "execution_count": 37
        }
      ]
    },
    {
      "cell_type": "markdown",
      "metadata": {
        "id": "58RgjLSaUZho"
      },
      "source": [
        "Cast `HOUR` to type `INT`."
      ]
    },
    {
      "cell_type": "code",
      "metadata": {
        "id": "BwFcbeJdUeLJ"
      },
      "source": [
        "df_price['HOUR'] = df_price['HOUR'].astype('int')"
      ],
      "execution_count": null,
      "outputs": []
    },
    {
      "cell_type": "code",
      "metadata": {
        "colab": {
          "base_uri": "https://localhost:8080/",
          "height": 206
        },
        "id": "pf5WT47WUgME",
        "outputId": "ae1745f3-02d2-48f9-a08e-deba0660fff2"
      },
      "source": [
        "df_price.head()"
      ],
      "execution_count": null,
      "outputs": [
        {
          "output_type": "execute_result",
          "data": {
            "text/plain": [
              "  OPERATION_DATE   TOUTYPE     MARKET           ZONE  PRICE  HOUR  INTERVAL\n",
              "0     2018-01-01  OFF-PEAK  Real Time  Load Zone CPS  24.10     0        15\n",
              "1     2018-01-01  OFF-PEAK  Real Time  Load Zone CPS  23.76     0        30\n",
              "2     2018-01-01  OFF-PEAK  Real Time  Load Zone CPS  22.87     0        45\n",
              "3     2018-01-01  OFF-PEAK  Real Time  Load Zone CPS  22.70     0         0\n",
              "4     2018-01-01  OFF-PEAK  Real Time  Load Zone CPS  22.07     1        15"
            ],
            "text/html": [
              "\n",
              "  <div id=\"df-0ed11cec-3af7-4f21-becf-16a95a517807\">\n",
              "    <div class=\"colab-df-container\">\n",
              "      <div>\n",
              "<style scoped>\n",
              "    .dataframe tbody tr th:only-of-type {\n",
              "        vertical-align: middle;\n",
              "    }\n",
              "\n",
              "    .dataframe tbody tr th {\n",
              "        vertical-align: top;\n",
              "    }\n",
              "\n",
              "    .dataframe thead th {\n",
              "        text-align: right;\n",
              "    }\n",
              "</style>\n",
              "<table border=\"1\" class=\"dataframe\">\n",
              "  <thead>\n",
              "    <tr style=\"text-align: right;\">\n",
              "      <th></th>\n",
              "      <th>OPERATION_DATE</th>\n",
              "      <th>TOUTYPE</th>\n",
              "      <th>MARKET</th>\n",
              "      <th>ZONE</th>\n",
              "      <th>PRICE</th>\n",
              "      <th>HOUR</th>\n",
              "      <th>INTERVAL</th>\n",
              "    </tr>\n",
              "  </thead>\n",
              "  <tbody>\n",
              "    <tr>\n",
              "      <th>0</th>\n",
              "      <td>2018-01-01</td>\n",
              "      <td>OFF-PEAK</td>\n",
              "      <td>Real Time</td>\n",
              "      <td>Load Zone CPS</td>\n",
              "      <td>24.10</td>\n",
              "      <td>0</td>\n",
              "      <td>15</td>\n",
              "    </tr>\n",
              "    <tr>\n",
              "      <th>1</th>\n",
              "      <td>2018-01-01</td>\n",
              "      <td>OFF-PEAK</td>\n",
              "      <td>Real Time</td>\n",
              "      <td>Load Zone CPS</td>\n",
              "      <td>23.76</td>\n",
              "      <td>0</td>\n",
              "      <td>30</td>\n",
              "    </tr>\n",
              "    <tr>\n",
              "      <th>2</th>\n",
              "      <td>2018-01-01</td>\n",
              "      <td>OFF-PEAK</td>\n",
              "      <td>Real Time</td>\n",
              "      <td>Load Zone CPS</td>\n",
              "      <td>22.87</td>\n",
              "      <td>0</td>\n",
              "      <td>45</td>\n",
              "    </tr>\n",
              "    <tr>\n",
              "      <th>3</th>\n",
              "      <td>2018-01-01</td>\n",
              "      <td>OFF-PEAK</td>\n",
              "      <td>Real Time</td>\n",
              "      <td>Load Zone CPS</td>\n",
              "      <td>22.70</td>\n",
              "      <td>0</td>\n",
              "      <td>0</td>\n",
              "    </tr>\n",
              "    <tr>\n",
              "      <th>4</th>\n",
              "      <td>2018-01-01</td>\n",
              "      <td>OFF-PEAK</td>\n",
              "      <td>Real Time</td>\n",
              "      <td>Load Zone CPS</td>\n",
              "      <td>22.07</td>\n",
              "      <td>1</td>\n",
              "      <td>15</td>\n",
              "    </tr>\n",
              "  </tbody>\n",
              "</table>\n",
              "</div>\n",
              "      <button class=\"colab-df-convert\" onclick=\"convertToInteractive('df-0ed11cec-3af7-4f21-becf-16a95a517807')\"\n",
              "              title=\"Convert this dataframe to an interactive table.\"\n",
              "              style=\"display:none;\">\n",
              "        \n",
              "  <svg xmlns=\"http://www.w3.org/2000/svg\" height=\"24px\"viewBox=\"0 0 24 24\"\n",
              "       width=\"24px\">\n",
              "    <path d=\"M0 0h24v24H0V0z\" fill=\"none\"/>\n",
              "    <path d=\"M18.56 5.44l.94 2.06.94-2.06 2.06-.94-2.06-.94-.94-2.06-.94 2.06-2.06.94zm-11 1L8.5 8.5l.94-2.06 2.06-.94-2.06-.94L8.5 2.5l-.94 2.06-2.06.94zm10 10l.94 2.06.94-2.06 2.06-.94-2.06-.94-.94-2.06-.94 2.06-2.06.94z\"/><path d=\"M17.41 7.96l-1.37-1.37c-.4-.4-.92-.59-1.43-.59-.52 0-1.04.2-1.43.59L10.3 9.45l-7.72 7.72c-.78.78-.78 2.05 0 2.83L4 21.41c.39.39.9.59 1.41.59.51 0 1.02-.2 1.41-.59l7.78-7.78 2.81-2.81c.8-.78.8-2.07 0-2.86zM5.41 20L4 18.59l7.72-7.72 1.47 1.35L5.41 20z\"/>\n",
              "  </svg>\n",
              "      </button>\n",
              "      \n",
              "  <style>\n",
              "    .colab-df-container {\n",
              "      display:flex;\n",
              "      flex-wrap:wrap;\n",
              "      gap: 12px;\n",
              "    }\n",
              "\n",
              "    .colab-df-convert {\n",
              "      background-color: #E8F0FE;\n",
              "      border: none;\n",
              "      border-radius: 50%;\n",
              "      cursor: pointer;\n",
              "      display: none;\n",
              "      fill: #1967D2;\n",
              "      height: 32px;\n",
              "      padding: 0 0 0 0;\n",
              "      width: 32px;\n",
              "    }\n",
              "\n",
              "    .colab-df-convert:hover {\n",
              "      background-color: #E2EBFA;\n",
              "      box-shadow: 0px 1px 2px rgba(60, 64, 67, 0.3), 0px 1px 3px 1px rgba(60, 64, 67, 0.15);\n",
              "      fill: #174EA6;\n",
              "    }\n",
              "\n",
              "    [theme=dark] .colab-df-convert {\n",
              "      background-color: #3B4455;\n",
              "      fill: #D2E3FC;\n",
              "    }\n",
              "\n",
              "    [theme=dark] .colab-df-convert:hover {\n",
              "      background-color: #434B5C;\n",
              "      box-shadow: 0px 1px 3px 1px rgba(0, 0, 0, 0.15);\n",
              "      filter: drop-shadow(0px 1px 2px rgba(0, 0, 0, 0.3));\n",
              "      fill: #FFFFFF;\n",
              "    }\n",
              "  </style>\n",
              "\n",
              "      <script>\n",
              "        const buttonEl =\n",
              "          document.querySelector('#df-0ed11cec-3af7-4f21-becf-16a95a517807 button.colab-df-convert');\n",
              "        buttonEl.style.display =\n",
              "          google.colab.kernel.accessAllowed ? 'block' : 'none';\n",
              "\n",
              "        async function convertToInteractive(key) {\n",
              "          const element = document.querySelector('#df-0ed11cec-3af7-4f21-becf-16a95a517807');\n",
              "          const dataTable =\n",
              "            await google.colab.kernel.invokeFunction('convertToInteractive',\n",
              "                                                     [key], {});\n",
              "          if (!dataTable) return;\n",
              "\n",
              "          const docLinkHtml = 'Like what you see? Visit the ' +\n",
              "            '<a target=\"_blank\" href=https://colab.research.google.com/notebooks/data_table.ipynb>data table notebook</a>'\n",
              "            + ' to learn more about interactive tables.';\n",
              "          element.innerHTML = '';\n",
              "          dataTable['output_type'] = 'display_data';\n",
              "          await google.colab.output.renderOutput(dataTable, element);\n",
              "          const docLink = document.createElement('div');\n",
              "          docLink.innerHTML = docLinkHtml;\n",
              "          element.appendChild(docLink);\n",
              "        }\n",
              "      </script>\n",
              "    </div>\n",
              "  </div>\n",
              "  "
            ]
          },
          "metadata": {},
          "execution_count": 42
        }
      ]
    },
    {
      "cell_type": "code",
      "metadata": {
        "id": "4REx3VrDEUVf"
      },
      "source": [
        "df_price.head()"
      ],
      "execution_count": null,
      "outputs": []
    },
    {
      "cell_type": "code",
      "metadata": {
        "id": "Flne1QewFQpZ",
        "colab": {
          "base_uri": "https://localhost:8080/"
        },
        "outputId": "aa5e9b80-1984-45b9-8fcf-bc3ba3cbc976"
      },
      "source": [
        "df_price.info()"
      ],
      "execution_count": 166,
      "outputs": [
        {
          "output_type": "stream",
          "name": "stdout",
          "text": [
            "<class 'pandas.core.frame.DataFrame'>\n",
            "RangeIndex: 35040 entries, 0 to 35039\n",
            "Data columns (total 7 columns):\n",
            " #   Column          Non-Null Count  Dtype   \n",
            "---  ------          --------------  -----   \n",
            " 0   OPERATION_DATE  35040 non-null  object  \n",
            " 1   TOUTYPE         35040 non-null  category\n",
            " 2   MARKET          35040 non-null  category\n",
            " 3   ZONE            35040 non-null  category\n",
            " 4   PRICE           35040 non-null  float64 \n",
            " 5   HOUR            35040 non-null  float64 \n",
            " 6   INTERVAL        35040 non-null  int64   \n",
            "dtypes: category(3), float64(2), int64(1), object(1)\n",
            "memory usage: 1.2+ MB\n"
          ]
        }
      ]
    },
    {
      "cell_type": "markdown",
      "metadata": {
        "id": "PHUHujL3PSdq"
      },
      "source": [
        "\n",
        "Cast `OPERATION_DATE` to a `datetime` type with `pandas.to_datetime()`."
      ]
    },
    {
      "cell_type": "code",
      "metadata": {
        "id": "cVDj-8HiGHU_"
      },
      "source": [
        "df_price['OPERATION_DATE'] = pd.to_datetime(df_price['OPERATION_DATE']) #Convert the object type to datetime data type"
      ],
      "execution_count": 167,
      "outputs": []
    },
    {
      "cell_type": "code",
      "metadata": {
        "colab": {
          "base_uri": "https://localhost:8080/",
          "height": 206
        },
        "id": "Ih_0Ts4gFWA3",
        "outputId": "651902b7-d0cf-41ab-b335-523f7ba38155"
      },
      "source": [
        "# Append the hour the minute values to the date --> new column DATE --- Date +  Hour + Minutes\n",
        "df_price['DATE'] = df_price['OPERATION_DATE'] + pd.to_timedelta(df_price['HOUR'], unit='h') + pd.to_timedelta(df_price['INTERVAL'], unit='m')\n",
        "\n",
        "df_price.head()"
      ],
      "execution_count": 168,
      "outputs": [
        {
          "output_type": "execute_result",
          "data": {
            "text/plain": [
              "  OPERATION_DATE   TOUTYPE     MARKET           ZONE  PRICE  HOUR  INTERVAL  \\\n",
              "0     2018-01-01  OFF-PEAK  Real Time  Load Zone CPS  24.10   0.0        15   \n",
              "1     2018-01-01  OFF-PEAK  Real Time  Load Zone CPS  23.76   0.0        30   \n",
              "2     2018-01-01  OFF-PEAK  Real Time  Load Zone CPS  22.87   0.0        45   \n",
              "3     2018-01-01  OFF-PEAK  Real Time  Load Zone CPS  22.70   0.0         0   \n",
              "4     2018-01-01  OFF-PEAK  Real Time  Load Zone CPS  22.07   1.0        15   \n",
              "\n",
              "                 DATE  \n",
              "0 2018-01-01 00:15:00  \n",
              "1 2018-01-01 00:30:00  \n",
              "2 2018-01-01 00:45:00  \n",
              "3 2018-01-01 00:00:00  \n",
              "4 2018-01-01 01:15:00  "
            ],
            "text/html": [
              "\n",
              "  <div id=\"df-c9bc0cf2-06ac-49e0-9a6d-6915f1db5b6c\">\n",
              "    <div class=\"colab-df-container\">\n",
              "      <div>\n",
              "<style scoped>\n",
              "    .dataframe tbody tr th:only-of-type {\n",
              "        vertical-align: middle;\n",
              "    }\n",
              "\n",
              "    .dataframe tbody tr th {\n",
              "        vertical-align: top;\n",
              "    }\n",
              "\n",
              "    .dataframe thead th {\n",
              "        text-align: right;\n",
              "    }\n",
              "</style>\n",
              "<table border=\"1\" class=\"dataframe\">\n",
              "  <thead>\n",
              "    <tr style=\"text-align: right;\">\n",
              "      <th></th>\n",
              "      <th>OPERATION_DATE</th>\n",
              "      <th>TOUTYPE</th>\n",
              "      <th>MARKET</th>\n",
              "      <th>ZONE</th>\n",
              "      <th>PRICE</th>\n",
              "      <th>HOUR</th>\n",
              "      <th>INTERVAL</th>\n",
              "      <th>DATE</th>\n",
              "    </tr>\n",
              "  </thead>\n",
              "  <tbody>\n",
              "    <tr>\n",
              "      <th>0</th>\n",
              "      <td>2018-01-01</td>\n",
              "      <td>OFF-PEAK</td>\n",
              "      <td>Real Time</td>\n",
              "      <td>Load Zone CPS</td>\n",
              "      <td>24.10</td>\n",
              "      <td>0.0</td>\n",
              "      <td>15</td>\n",
              "      <td>2018-01-01 00:15:00</td>\n",
              "    </tr>\n",
              "    <tr>\n",
              "      <th>1</th>\n",
              "      <td>2018-01-01</td>\n",
              "      <td>OFF-PEAK</td>\n",
              "      <td>Real Time</td>\n",
              "      <td>Load Zone CPS</td>\n",
              "      <td>23.76</td>\n",
              "      <td>0.0</td>\n",
              "      <td>30</td>\n",
              "      <td>2018-01-01 00:30:00</td>\n",
              "    </tr>\n",
              "    <tr>\n",
              "      <th>2</th>\n",
              "      <td>2018-01-01</td>\n",
              "      <td>OFF-PEAK</td>\n",
              "      <td>Real Time</td>\n",
              "      <td>Load Zone CPS</td>\n",
              "      <td>22.87</td>\n",
              "      <td>0.0</td>\n",
              "      <td>45</td>\n",
              "      <td>2018-01-01 00:45:00</td>\n",
              "    </tr>\n",
              "    <tr>\n",
              "      <th>3</th>\n",
              "      <td>2018-01-01</td>\n",
              "      <td>OFF-PEAK</td>\n",
              "      <td>Real Time</td>\n",
              "      <td>Load Zone CPS</td>\n",
              "      <td>22.70</td>\n",
              "      <td>0.0</td>\n",
              "      <td>0</td>\n",
              "      <td>2018-01-01 00:00:00</td>\n",
              "    </tr>\n",
              "    <tr>\n",
              "      <th>4</th>\n",
              "      <td>2018-01-01</td>\n",
              "      <td>OFF-PEAK</td>\n",
              "      <td>Real Time</td>\n",
              "      <td>Load Zone CPS</td>\n",
              "      <td>22.07</td>\n",
              "      <td>1.0</td>\n",
              "      <td>15</td>\n",
              "      <td>2018-01-01 01:15:00</td>\n",
              "    </tr>\n",
              "  </tbody>\n",
              "</table>\n",
              "</div>\n",
              "      <button class=\"colab-df-convert\" onclick=\"convertToInteractive('df-c9bc0cf2-06ac-49e0-9a6d-6915f1db5b6c')\"\n",
              "              title=\"Convert this dataframe to an interactive table.\"\n",
              "              style=\"display:none;\">\n",
              "        \n",
              "  <svg xmlns=\"http://www.w3.org/2000/svg\" height=\"24px\"viewBox=\"0 0 24 24\"\n",
              "       width=\"24px\">\n",
              "    <path d=\"M0 0h24v24H0V0z\" fill=\"none\"/>\n",
              "    <path d=\"M18.56 5.44l.94 2.06.94-2.06 2.06-.94-2.06-.94-.94-2.06-.94 2.06-2.06.94zm-11 1L8.5 8.5l.94-2.06 2.06-.94-2.06-.94L8.5 2.5l-.94 2.06-2.06.94zm10 10l.94 2.06.94-2.06 2.06-.94-2.06-.94-.94-2.06-.94 2.06-2.06.94z\"/><path d=\"M17.41 7.96l-1.37-1.37c-.4-.4-.92-.59-1.43-.59-.52 0-1.04.2-1.43.59L10.3 9.45l-7.72 7.72c-.78.78-.78 2.05 0 2.83L4 21.41c.39.39.9.59 1.41.59.51 0 1.02-.2 1.41-.59l7.78-7.78 2.81-2.81c.8-.78.8-2.07 0-2.86zM5.41 20L4 18.59l7.72-7.72 1.47 1.35L5.41 20z\"/>\n",
              "  </svg>\n",
              "      </button>\n",
              "      \n",
              "  <style>\n",
              "    .colab-df-container {\n",
              "      display:flex;\n",
              "      flex-wrap:wrap;\n",
              "      gap: 12px;\n",
              "    }\n",
              "\n",
              "    .colab-df-convert {\n",
              "      background-color: #E8F0FE;\n",
              "      border: none;\n",
              "      border-radius: 50%;\n",
              "      cursor: pointer;\n",
              "      display: none;\n",
              "      fill: #1967D2;\n",
              "      height: 32px;\n",
              "      padding: 0 0 0 0;\n",
              "      width: 32px;\n",
              "    }\n",
              "\n",
              "    .colab-df-convert:hover {\n",
              "      background-color: #E2EBFA;\n",
              "      box-shadow: 0px 1px 2px rgba(60, 64, 67, 0.3), 0px 1px 3px 1px rgba(60, 64, 67, 0.15);\n",
              "      fill: #174EA6;\n",
              "    }\n",
              "\n",
              "    [theme=dark] .colab-df-convert {\n",
              "      background-color: #3B4455;\n",
              "      fill: #D2E3FC;\n",
              "    }\n",
              "\n",
              "    [theme=dark] .colab-df-convert:hover {\n",
              "      background-color: #434B5C;\n",
              "      box-shadow: 0px 1px 3px 1px rgba(0, 0, 0, 0.15);\n",
              "      filter: drop-shadow(0px 1px 2px rgba(0, 0, 0, 0.3));\n",
              "      fill: #FFFFFF;\n",
              "    }\n",
              "  </style>\n",
              "\n",
              "      <script>\n",
              "        const buttonEl =\n",
              "          document.querySelector('#df-c9bc0cf2-06ac-49e0-9a6d-6915f1db5b6c button.colab-df-convert');\n",
              "        buttonEl.style.display =\n",
              "          google.colab.kernel.accessAllowed ? 'block' : 'none';\n",
              "\n",
              "        async function convertToInteractive(key) {\n",
              "          const element = document.querySelector('#df-c9bc0cf2-06ac-49e0-9a6d-6915f1db5b6c');\n",
              "          const dataTable =\n",
              "            await google.colab.kernel.invokeFunction('convertToInteractive',\n",
              "                                                     [key], {});\n",
              "          if (!dataTable) return;\n",
              "\n",
              "          const docLinkHtml = 'Like what you see? Visit the ' +\n",
              "            '<a target=\"_blank\" href=https://colab.research.google.com/notebooks/data_table.ipynb>data table notebook</a>'\n",
              "            + ' to learn more about interactive tables.';\n",
              "          element.innerHTML = '';\n",
              "          dataTable['output_type'] = 'display_data';\n",
              "          await google.colab.output.renderOutput(dataTable, element);\n",
              "          const docLink = document.createElement('div');\n",
              "          docLink.innerHTML = docLinkHtml;\n",
              "          element.appendChild(docLink);\n",
              "        }\n",
              "      </script>\n",
              "    </div>\n",
              "  </div>\n",
              "  "
            ]
          },
          "metadata": {},
          "execution_count": 168
        }
      ]
    },
    {
      "cell_type": "code",
      "source": [
        "df_price = df_price.drop(['OPERATION_DATE', 'HOUR', 'INTERVAL'], axis=1)\n",
        "df_price.head()"
      ],
      "metadata": {
        "colab": {
          "base_uri": "https://localhost:8080/",
          "height": 206
        },
        "id": "nibATI7cl4gz",
        "outputId": "1a2d86f4-a2fa-4ce6-f41c-96dcc4870882"
      },
      "execution_count": 169,
      "outputs": [
        {
          "output_type": "execute_result",
          "data": {
            "text/plain": [
              "    TOUTYPE     MARKET           ZONE  PRICE                DATE\n",
              "0  OFF-PEAK  Real Time  Load Zone CPS  24.10 2018-01-01 00:15:00\n",
              "1  OFF-PEAK  Real Time  Load Zone CPS  23.76 2018-01-01 00:30:00\n",
              "2  OFF-PEAK  Real Time  Load Zone CPS  22.87 2018-01-01 00:45:00\n",
              "3  OFF-PEAK  Real Time  Load Zone CPS  22.70 2018-01-01 00:00:00\n",
              "4  OFF-PEAK  Real Time  Load Zone CPS  22.07 2018-01-01 01:15:00"
            ],
            "text/html": [
              "\n",
              "  <div id=\"df-4feb434e-9992-47ec-b157-02505d600e3e\">\n",
              "    <div class=\"colab-df-container\">\n",
              "      <div>\n",
              "<style scoped>\n",
              "    .dataframe tbody tr th:only-of-type {\n",
              "        vertical-align: middle;\n",
              "    }\n",
              "\n",
              "    .dataframe tbody tr th {\n",
              "        vertical-align: top;\n",
              "    }\n",
              "\n",
              "    .dataframe thead th {\n",
              "        text-align: right;\n",
              "    }\n",
              "</style>\n",
              "<table border=\"1\" class=\"dataframe\">\n",
              "  <thead>\n",
              "    <tr style=\"text-align: right;\">\n",
              "      <th></th>\n",
              "      <th>TOUTYPE</th>\n",
              "      <th>MARKET</th>\n",
              "      <th>ZONE</th>\n",
              "      <th>PRICE</th>\n",
              "      <th>DATE</th>\n",
              "    </tr>\n",
              "  </thead>\n",
              "  <tbody>\n",
              "    <tr>\n",
              "      <th>0</th>\n",
              "      <td>OFF-PEAK</td>\n",
              "      <td>Real Time</td>\n",
              "      <td>Load Zone CPS</td>\n",
              "      <td>24.10</td>\n",
              "      <td>2018-01-01 00:15:00</td>\n",
              "    </tr>\n",
              "    <tr>\n",
              "      <th>1</th>\n",
              "      <td>OFF-PEAK</td>\n",
              "      <td>Real Time</td>\n",
              "      <td>Load Zone CPS</td>\n",
              "      <td>23.76</td>\n",
              "      <td>2018-01-01 00:30:00</td>\n",
              "    </tr>\n",
              "    <tr>\n",
              "      <th>2</th>\n",
              "      <td>OFF-PEAK</td>\n",
              "      <td>Real Time</td>\n",
              "      <td>Load Zone CPS</td>\n",
              "      <td>22.87</td>\n",
              "      <td>2018-01-01 00:45:00</td>\n",
              "    </tr>\n",
              "    <tr>\n",
              "      <th>3</th>\n",
              "      <td>OFF-PEAK</td>\n",
              "      <td>Real Time</td>\n",
              "      <td>Load Zone CPS</td>\n",
              "      <td>22.70</td>\n",
              "      <td>2018-01-01 00:00:00</td>\n",
              "    </tr>\n",
              "    <tr>\n",
              "      <th>4</th>\n",
              "      <td>OFF-PEAK</td>\n",
              "      <td>Real Time</td>\n",
              "      <td>Load Zone CPS</td>\n",
              "      <td>22.07</td>\n",
              "      <td>2018-01-01 01:15:00</td>\n",
              "    </tr>\n",
              "  </tbody>\n",
              "</table>\n",
              "</div>\n",
              "      <button class=\"colab-df-convert\" onclick=\"convertToInteractive('df-4feb434e-9992-47ec-b157-02505d600e3e')\"\n",
              "              title=\"Convert this dataframe to an interactive table.\"\n",
              "              style=\"display:none;\">\n",
              "        \n",
              "  <svg xmlns=\"http://www.w3.org/2000/svg\" height=\"24px\"viewBox=\"0 0 24 24\"\n",
              "       width=\"24px\">\n",
              "    <path d=\"M0 0h24v24H0V0z\" fill=\"none\"/>\n",
              "    <path d=\"M18.56 5.44l.94 2.06.94-2.06 2.06-.94-2.06-.94-.94-2.06-.94 2.06-2.06.94zm-11 1L8.5 8.5l.94-2.06 2.06-.94-2.06-.94L8.5 2.5l-.94 2.06-2.06.94zm10 10l.94 2.06.94-2.06 2.06-.94-2.06-.94-.94-2.06-.94 2.06-2.06.94z\"/><path d=\"M17.41 7.96l-1.37-1.37c-.4-.4-.92-.59-1.43-.59-.52 0-1.04.2-1.43.59L10.3 9.45l-7.72 7.72c-.78.78-.78 2.05 0 2.83L4 21.41c.39.39.9.59 1.41.59.51 0 1.02-.2 1.41-.59l7.78-7.78 2.81-2.81c.8-.78.8-2.07 0-2.86zM5.41 20L4 18.59l7.72-7.72 1.47 1.35L5.41 20z\"/>\n",
              "  </svg>\n",
              "      </button>\n",
              "      \n",
              "  <style>\n",
              "    .colab-df-container {\n",
              "      display:flex;\n",
              "      flex-wrap:wrap;\n",
              "      gap: 12px;\n",
              "    }\n",
              "\n",
              "    .colab-df-convert {\n",
              "      background-color: #E8F0FE;\n",
              "      border: none;\n",
              "      border-radius: 50%;\n",
              "      cursor: pointer;\n",
              "      display: none;\n",
              "      fill: #1967D2;\n",
              "      height: 32px;\n",
              "      padding: 0 0 0 0;\n",
              "      width: 32px;\n",
              "    }\n",
              "\n",
              "    .colab-df-convert:hover {\n",
              "      background-color: #E2EBFA;\n",
              "      box-shadow: 0px 1px 2px rgba(60, 64, 67, 0.3), 0px 1px 3px 1px rgba(60, 64, 67, 0.15);\n",
              "      fill: #174EA6;\n",
              "    }\n",
              "\n",
              "    [theme=dark] .colab-df-convert {\n",
              "      background-color: #3B4455;\n",
              "      fill: #D2E3FC;\n",
              "    }\n",
              "\n",
              "    [theme=dark] .colab-df-convert:hover {\n",
              "      background-color: #434B5C;\n",
              "      box-shadow: 0px 1px 3px 1px rgba(0, 0, 0, 0.15);\n",
              "      filter: drop-shadow(0px 1px 2px rgba(0, 0, 0, 0.3));\n",
              "      fill: #FFFFFF;\n",
              "    }\n",
              "  </style>\n",
              "\n",
              "      <script>\n",
              "        const buttonEl =\n",
              "          document.querySelector('#df-4feb434e-9992-47ec-b157-02505d600e3e button.colab-df-convert');\n",
              "        buttonEl.style.display =\n",
              "          google.colab.kernel.accessAllowed ? 'block' : 'none';\n",
              "\n",
              "        async function convertToInteractive(key) {\n",
              "          const element = document.querySelector('#df-4feb434e-9992-47ec-b157-02505d600e3e');\n",
              "          const dataTable =\n",
              "            await google.colab.kernel.invokeFunction('convertToInteractive',\n",
              "                                                     [key], {});\n",
              "          if (!dataTable) return;\n",
              "\n",
              "          const docLinkHtml = 'Like what you see? Visit the ' +\n",
              "            '<a target=\"_blank\" href=https://colab.research.google.com/notebooks/data_table.ipynb>data table notebook</a>'\n",
              "            + ' to learn more about interactive tables.';\n",
              "          element.innerHTML = '';\n",
              "          dataTable['output_type'] = 'display_data';\n",
              "          await google.colab.output.renderOutput(dataTable, element);\n",
              "          const docLink = document.createElement('div');\n",
              "          docLink.innerHTML = docLinkHtml;\n",
              "          element.appendChild(docLink);\n",
              "        }\n",
              "      </script>\n",
              "    </div>\n",
              "  </div>\n",
              "  "
            ]
          },
          "metadata": {},
          "execution_count": 169
        }
      ]
    },
    {
      "cell_type": "markdown",
      "metadata": {
        "id": "nEQInyfVVDrJ"
      },
      "source": [
        "Now that we have the Date field in the desired format, let's set it as the index."
      ]
    },
    {
      "cell_type": "code",
      "metadata": {
        "colab": {
          "base_uri": "https://localhost:8080/",
          "height": 237
        },
        "id": "0hJziBU9GBVy",
        "outputId": "d84e93aa-779d-40be-beb2-eb0f439dd305"
      },
      "source": [
        "df_price.set_index('DATE', inplace=True) #set the DATE as index column for merging/joining\n",
        "df_price.head()"
      ],
      "execution_count": null,
      "outputs": [
        {
          "output_type": "execute_result",
          "data": {
            "text/plain": [
              "                      TOUTYPE     MARKET           ZONE  PRICE\n",
              "DATE                                                          \n",
              "2018-01-01 00:15:00  OFF-PEAK  Real Time  Load Zone CPS  24.10\n",
              "2018-01-01 00:30:00  OFF-PEAK  Real Time  Load Zone CPS  23.76\n",
              "2018-01-01 00:45:00  OFF-PEAK  Real Time  Load Zone CPS  22.87\n",
              "2018-01-01 00:00:00  OFF-PEAK  Real Time  Load Zone CPS  22.70\n",
              "2018-01-01 01:15:00  OFF-PEAK  Real Time  Load Zone CPS  22.07"
            ],
            "text/html": [
              "\n",
              "  <div id=\"df-086d0c4e-8941-4440-b95b-5ff6927d9919\">\n",
              "    <div class=\"colab-df-container\">\n",
              "      <div>\n",
              "<style scoped>\n",
              "    .dataframe tbody tr th:only-of-type {\n",
              "        vertical-align: middle;\n",
              "    }\n",
              "\n",
              "    .dataframe tbody tr th {\n",
              "        vertical-align: top;\n",
              "    }\n",
              "\n",
              "    .dataframe thead th {\n",
              "        text-align: right;\n",
              "    }\n",
              "</style>\n",
              "<table border=\"1\" class=\"dataframe\">\n",
              "  <thead>\n",
              "    <tr style=\"text-align: right;\">\n",
              "      <th></th>\n",
              "      <th>TOUTYPE</th>\n",
              "      <th>MARKET</th>\n",
              "      <th>ZONE</th>\n",
              "      <th>PRICE</th>\n",
              "    </tr>\n",
              "    <tr>\n",
              "      <th>DATE</th>\n",
              "      <th></th>\n",
              "      <th></th>\n",
              "      <th></th>\n",
              "      <th></th>\n",
              "    </tr>\n",
              "  </thead>\n",
              "  <tbody>\n",
              "    <tr>\n",
              "      <th>2018-01-01 00:15:00</th>\n",
              "      <td>OFF-PEAK</td>\n",
              "      <td>Real Time</td>\n",
              "      <td>Load Zone CPS</td>\n",
              "      <td>24.10</td>\n",
              "    </tr>\n",
              "    <tr>\n",
              "      <th>2018-01-01 00:30:00</th>\n",
              "      <td>OFF-PEAK</td>\n",
              "      <td>Real Time</td>\n",
              "      <td>Load Zone CPS</td>\n",
              "      <td>23.76</td>\n",
              "    </tr>\n",
              "    <tr>\n",
              "      <th>2018-01-01 00:45:00</th>\n",
              "      <td>OFF-PEAK</td>\n",
              "      <td>Real Time</td>\n",
              "      <td>Load Zone CPS</td>\n",
              "      <td>22.87</td>\n",
              "    </tr>\n",
              "    <tr>\n",
              "      <th>2018-01-01 00:00:00</th>\n",
              "      <td>OFF-PEAK</td>\n",
              "      <td>Real Time</td>\n",
              "      <td>Load Zone CPS</td>\n",
              "      <td>22.70</td>\n",
              "    </tr>\n",
              "    <tr>\n",
              "      <th>2018-01-01 01:15:00</th>\n",
              "      <td>OFF-PEAK</td>\n",
              "      <td>Real Time</td>\n",
              "      <td>Load Zone CPS</td>\n",
              "      <td>22.07</td>\n",
              "    </tr>\n",
              "  </tbody>\n",
              "</table>\n",
              "</div>\n",
              "      <button class=\"colab-df-convert\" onclick=\"convertToInteractive('df-086d0c4e-8941-4440-b95b-5ff6927d9919')\"\n",
              "              title=\"Convert this dataframe to an interactive table.\"\n",
              "              style=\"display:none;\">\n",
              "        \n",
              "  <svg xmlns=\"http://www.w3.org/2000/svg\" height=\"24px\"viewBox=\"0 0 24 24\"\n",
              "       width=\"24px\">\n",
              "    <path d=\"M0 0h24v24H0V0z\" fill=\"none\"/>\n",
              "    <path d=\"M18.56 5.44l.94 2.06.94-2.06 2.06-.94-2.06-.94-.94-2.06-.94 2.06-2.06.94zm-11 1L8.5 8.5l.94-2.06 2.06-.94-2.06-.94L8.5 2.5l-.94 2.06-2.06.94zm10 10l.94 2.06.94-2.06 2.06-.94-2.06-.94-.94-2.06-.94 2.06-2.06.94z\"/><path d=\"M17.41 7.96l-1.37-1.37c-.4-.4-.92-.59-1.43-.59-.52 0-1.04.2-1.43.59L10.3 9.45l-7.72 7.72c-.78.78-.78 2.05 0 2.83L4 21.41c.39.39.9.59 1.41.59.51 0 1.02-.2 1.41-.59l7.78-7.78 2.81-2.81c.8-.78.8-2.07 0-2.86zM5.41 20L4 18.59l7.72-7.72 1.47 1.35L5.41 20z\"/>\n",
              "  </svg>\n",
              "      </button>\n",
              "      \n",
              "  <style>\n",
              "    .colab-df-container {\n",
              "      display:flex;\n",
              "      flex-wrap:wrap;\n",
              "      gap: 12px;\n",
              "    }\n",
              "\n",
              "    .colab-df-convert {\n",
              "      background-color: #E8F0FE;\n",
              "      border: none;\n",
              "      border-radius: 50%;\n",
              "      cursor: pointer;\n",
              "      display: none;\n",
              "      fill: #1967D2;\n",
              "      height: 32px;\n",
              "      padding: 0 0 0 0;\n",
              "      width: 32px;\n",
              "    }\n",
              "\n",
              "    .colab-df-convert:hover {\n",
              "      background-color: #E2EBFA;\n",
              "      box-shadow: 0px 1px 2px rgba(60, 64, 67, 0.3), 0px 1px 3px 1px rgba(60, 64, 67, 0.15);\n",
              "      fill: #174EA6;\n",
              "    }\n",
              "\n",
              "    [theme=dark] .colab-df-convert {\n",
              "      background-color: #3B4455;\n",
              "      fill: #D2E3FC;\n",
              "    }\n",
              "\n",
              "    [theme=dark] .colab-df-convert:hover {\n",
              "      background-color: #434B5C;\n",
              "      box-shadow: 0px 1px 3px 1px rgba(0, 0, 0, 0.15);\n",
              "      filter: drop-shadow(0px 1px 2px rgba(0, 0, 0, 0.3));\n",
              "      fill: #FFFFFF;\n",
              "    }\n",
              "  </style>\n",
              "\n",
              "      <script>\n",
              "        const buttonEl =\n",
              "          document.querySelector('#df-086d0c4e-8941-4440-b95b-5ff6927d9919 button.colab-df-convert');\n",
              "        buttonEl.style.display =\n",
              "          google.colab.kernel.accessAllowed ? 'block' : 'none';\n",
              "\n",
              "        async function convertToInteractive(key) {\n",
              "          const element = document.querySelector('#df-086d0c4e-8941-4440-b95b-5ff6927d9919');\n",
              "          const dataTable =\n",
              "            await google.colab.kernel.invokeFunction('convertToInteractive',\n",
              "                                                     [key], {});\n",
              "          if (!dataTable) return;\n",
              "\n",
              "          const docLinkHtml = 'Like what you see? Visit the ' +\n",
              "            '<a target=\"_blank\" href=https://colab.research.google.com/notebooks/data_table.ipynb>data table notebook</a>'\n",
              "            + ' to learn more about interactive tables.';\n",
              "          element.innerHTML = '';\n",
              "          dataTable['output_type'] = 'display_data';\n",
              "          await google.colab.output.renderOutput(dataTable, element);\n",
              "          const docLink = document.createElement('div');\n",
              "          docLink.innerHTML = docLinkHtml;\n",
              "          element.appendChild(docLink);\n",
              "        }\n",
              "      </script>\n",
              "    </div>\n",
              "  </div>\n",
              "  "
            ]
          },
          "metadata": {},
          "execution_count": 45
        }
      ]
    },
    {
      "cell_type": "code",
      "metadata": {
        "colab": {
          "base_uri": "https://localhost:8080/",
          "height": 206
        },
        "id": "PmjRuLb3HEM1",
        "outputId": "c97fe6d8-95b4-4c1f-e398-d937e1fd7f5a"
      },
      "source": [
        "df.head()"
      ],
      "execution_count": 170,
      "outputs": [
        {
          "output_type": "execute_result",
          "data": {
            "text/plain": [
              "     kwh  meter                 time\n",
              "0  0.404    1.0  2018-01-01 00:15:00\n",
              "1  0.343    1.0  2018-01-01 00:30:00\n",
              "2  0.259    1.0  2018-01-01 00:45:00\n",
              "3  0.193    1.0  2018-01-01 01:00:00\n",
              "4  0.183    1.0  2018-01-01 01:15:00"
            ],
            "text/html": [
              "\n",
              "  <div id=\"df-63eb8e29-272b-4ae8-898d-eaf95f9d8091\">\n",
              "    <div class=\"colab-df-container\">\n",
              "      <div>\n",
              "<style scoped>\n",
              "    .dataframe tbody tr th:only-of-type {\n",
              "        vertical-align: middle;\n",
              "    }\n",
              "\n",
              "    .dataframe tbody tr th {\n",
              "        vertical-align: top;\n",
              "    }\n",
              "\n",
              "    .dataframe thead th {\n",
              "        text-align: right;\n",
              "    }\n",
              "</style>\n",
              "<table border=\"1\" class=\"dataframe\">\n",
              "  <thead>\n",
              "    <tr style=\"text-align: right;\">\n",
              "      <th></th>\n",
              "      <th>kwh</th>\n",
              "      <th>meter</th>\n",
              "      <th>time</th>\n",
              "    </tr>\n",
              "  </thead>\n",
              "  <tbody>\n",
              "    <tr>\n",
              "      <th>0</th>\n",
              "      <td>0.404</td>\n",
              "      <td>1.0</td>\n",
              "      <td>2018-01-01 00:15:00</td>\n",
              "    </tr>\n",
              "    <tr>\n",
              "      <th>1</th>\n",
              "      <td>0.343</td>\n",
              "      <td>1.0</td>\n",
              "      <td>2018-01-01 00:30:00</td>\n",
              "    </tr>\n",
              "    <tr>\n",
              "      <th>2</th>\n",
              "      <td>0.259</td>\n",
              "      <td>1.0</td>\n",
              "      <td>2018-01-01 00:45:00</td>\n",
              "    </tr>\n",
              "    <tr>\n",
              "      <th>3</th>\n",
              "      <td>0.193</td>\n",
              "      <td>1.0</td>\n",
              "      <td>2018-01-01 01:00:00</td>\n",
              "    </tr>\n",
              "    <tr>\n",
              "      <th>4</th>\n",
              "      <td>0.183</td>\n",
              "      <td>1.0</td>\n",
              "      <td>2018-01-01 01:15:00</td>\n",
              "    </tr>\n",
              "  </tbody>\n",
              "</table>\n",
              "</div>\n",
              "      <button class=\"colab-df-convert\" onclick=\"convertToInteractive('df-63eb8e29-272b-4ae8-898d-eaf95f9d8091')\"\n",
              "              title=\"Convert this dataframe to an interactive table.\"\n",
              "              style=\"display:none;\">\n",
              "        \n",
              "  <svg xmlns=\"http://www.w3.org/2000/svg\" height=\"24px\"viewBox=\"0 0 24 24\"\n",
              "       width=\"24px\">\n",
              "    <path d=\"M0 0h24v24H0V0z\" fill=\"none\"/>\n",
              "    <path d=\"M18.56 5.44l.94 2.06.94-2.06 2.06-.94-2.06-.94-.94-2.06-.94 2.06-2.06.94zm-11 1L8.5 8.5l.94-2.06 2.06-.94-2.06-.94L8.5 2.5l-.94 2.06-2.06.94zm10 10l.94 2.06.94-2.06 2.06-.94-2.06-.94-.94-2.06-.94 2.06-2.06.94z\"/><path d=\"M17.41 7.96l-1.37-1.37c-.4-.4-.92-.59-1.43-.59-.52 0-1.04.2-1.43.59L10.3 9.45l-7.72 7.72c-.78.78-.78 2.05 0 2.83L4 21.41c.39.39.9.59 1.41.59.51 0 1.02-.2 1.41-.59l7.78-7.78 2.81-2.81c.8-.78.8-2.07 0-2.86zM5.41 20L4 18.59l7.72-7.72 1.47 1.35L5.41 20z\"/>\n",
              "  </svg>\n",
              "      </button>\n",
              "      \n",
              "  <style>\n",
              "    .colab-df-container {\n",
              "      display:flex;\n",
              "      flex-wrap:wrap;\n",
              "      gap: 12px;\n",
              "    }\n",
              "\n",
              "    .colab-df-convert {\n",
              "      background-color: #E8F0FE;\n",
              "      border: none;\n",
              "      border-radius: 50%;\n",
              "      cursor: pointer;\n",
              "      display: none;\n",
              "      fill: #1967D2;\n",
              "      height: 32px;\n",
              "      padding: 0 0 0 0;\n",
              "      width: 32px;\n",
              "    }\n",
              "\n",
              "    .colab-df-convert:hover {\n",
              "      background-color: #E2EBFA;\n",
              "      box-shadow: 0px 1px 2px rgba(60, 64, 67, 0.3), 0px 1px 3px 1px rgba(60, 64, 67, 0.15);\n",
              "      fill: #174EA6;\n",
              "    }\n",
              "\n",
              "    [theme=dark] .colab-df-convert {\n",
              "      background-color: #3B4455;\n",
              "      fill: #D2E3FC;\n",
              "    }\n",
              "\n",
              "    [theme=dark] .colab-df-convert:hover {\n",
              "      background-color: #434B5C;\n",
              "      box-shadow: 0px 1px 3px 1px rgba(0, 0, 0, 0.15);\n",
              "      filter: drop-shadow(0px 1px 2px rgba(0, 0, 0, 0.3));\n",
              "      fill: #FFFFFF;\n",
              "    }\n",
              "  </style>\n",
              "\n",
              "      <script>\n",
              "        const buttonEl =\n",
              "          document.querySelector('#df-63eb8e29-272b-4ae8-898d-eaf95f9d8091 button.colab-df-convert');\n",
              "        buttonEl.style.display =\n",
              "          google.colab.kernel.accessAllowed ? 'block' : 'none';\n",
              "\n",
              "        async function convertToInteractive(key) {\n",
              "          const element = document.querySelector('#df-63eb8e29-272b-4ae8-898d-eaf95f9d8091');\n",
              "          const dataTable =\n",
              "            await google.colab.kernel.invokeFunction('convertToInteractive',\n",
              "                                                     [key], {});\n",
              "          if (!dataTable) return;\n",
              "\n",
              "          const docLinkHtml = 'Like what you see? Visit the ' +\n",
              "            '<a target=\"_blank\" href=https://colab.research.google.com/notebooks/data_table.ipynb>data table notebook</a>'\n",
              "            + ' to learn more about interactive tables.';\n",
              "          element.innerHTML = '';\n",
              "          dataTable['output_type'] = 'display_data';\n",
              "          await google.colab.output.renderOutput(dataTable, element);\n",
              "          const docLink = document.createElement('div');\n",
              "          docLink.innerHTML = docLinkHtml;\n",
              "          element.appendChild(docLink);\n",
              "        }\n",
              "      </script>\n",
              "    </div>\n",
              "  </div>\n",
              "  "
            ]
          },
          "metadata": {},
          "execution_count": 170
        }
      ]
    },
    {
      "cell_type": "markdown",
      "metadata": {
        "id": "pe1SLyTdVOei"
      },
      "source": [
        "Set the `time` column as the index."
      ]
    },
    {
      "cell_type": "code",
      "source": [
        "df.dtypes"
      ],
      "metadata": {
        "id": "z2zEphvR_C-d",
        "colab": {
          "base_uri": "https://localhost:8080/"
        },
        "outputId": "828d6d14-b2b9-421b-e87e-5b57fb251569"
      },
      "execution_count": 171,
      "outputs": [
        {
          "output_type": "execute_result",
          "data": {
            "text/plain": [
              "kwh      float64\n",
              "meter    float64\n",
              "time      object\n",
              "dtype: object"
            ]
          },
          "metadata": {},
          "execution_count": 171
        }
      ]
    },
    {
      "cell_type": "code",
      "metadata": {
        "id": "YK9N5X7eHTgC",
        "colab": {
          "base_uri": "https://localhost:8080/",
          "height": 237
        },
        "outputId": "0c81cfeb-206f-4fed-bf1e-07121da2065c"
      },
      "source": [
        "df['time'] = pd.to_datetime(df['time']) #convert the time object data type to the datetime datatype\n",
        "df.set_index('time', inplace=True) #set the time as index column for merging/joining\n",
        "df.head()"
      ],
      "execution_count": null,
      "outputs": [
        {
          "output_type": "execute_result",
          "data": {
            "text/plain": [
              "                     meter    kwh\n",
              "time                             \n",
              "2018-01-01 00:15:00      1  0.404\n",
              "2018-01-01 00:30:00      1  0.343\n",
              "2018-01-01 00:45:00      1  0.259\n",
              "2018-01-01 01:00:00      1  0.193\n",
              "2018-01-01 01:15:00      1  0.183"
            ],
            "text/html": [
              "\n",
              "  <div id=\"df-6b601db1-d703-430c-950a-49c2ca1710eb\">\n",
              "    <div class=\"colab-df-container\">\n",
              "      <div>\n",
              "<style scoped>\n",
              "    .dataframe tbody tr th:only-of-type {\n",
              "        vertical-align: middle;\n",
              "    }\n",
              "\n",
              "    .dataframe tbody tr th {\n",
              "        vertical-align: top;\n",
              "    }\n",
              "\n",
              "    .dataframe thead th {\n",
              "        text-align: right;\n",
              "    }\n",
              "</style>\n",
              "<table border=\"1\" class=\"dataframe\">\n",
              "  <thead>\n",
              "    <tr style=\"text-align: right;\">\n",
              "      <th></th>\n",
              "      <th>meter</th>\n",
              "      <th>kwh</th>\n",
              "    </tr>\n",
              "    <tr>\n",
              "      <th>time</th>\n",
              "      <th></th>\n",
              "      <th></th>\n",
              "    </tr>\n",
              "  </thead>\n",
              "  <tbody>\n",
              "    <tr>\n",
              "      <th>2018-01-01 00:15:00</th>\n",
              "      <td>1</td>\n",
              "      <td>0.404</td>\n",
              "    </tr>\n",
              "    <tr>\n",
              "      <th>2018-01-01 00:30:00</th>\n",
              "      <td>1</td>\n",
              "      <td>0.343</td>\n",
              "    </tr>\n",
              "    <tr>\n",
              "      <th>2018-01-01 00:45:00</th>\n",
              "      <td>1</td>\n",
              "      <td>0.259</td>\n",
              "    </tr>\n",
              "    <tr>\n",
              "      <th>2018-01-01 01:00:00</th>\n",
              "      <td>1</td>\n",
              "      <td>0.193</td>\n",
              "    </tr>\n",
              "    <tr>\n",
              "      <th>2018-01-01 01:15:00</th>\n",
              "      <td>1</td>\n",
              "      <td>0.183</td>\n",
              "    </tr>\n",
              "  </tbody>\n",
              "</table>\n",
              "</div>\n",
              "      <button class=\"colab-df-convert\" onclick=\"convertToInteractive('df-6b601db1-d703-430c-950a-49c2ca1710eb')\"\n",
              "              title=\"Convert this dataframe to an interactive table.\"\n",
              "              style=\"display:none;\">\n",
              "        \n",
              "  <svg xmlns=\"http://www.w3.org/2000/svg\" height=\"24px\"viewBox=\"0 0 24 24\"\n",
              "       width=\"24px\">\n",
              "    <path d=\"M0 0h24v24H0V0z\" fill=\"none\"/>\n",
              "    <path d=\"M18.56 5.44l.94 2.06.94-2.06 2.06-.94-2.06-.94-.94-2.06-.94 2.06-2.06.94zm-11 1L8.5 8.5l.94-2.06 2.06-.94-2.06-.94L8.5 2.5l-.94 2.06-2.06.94zm10 10l.94 2.06.94-2.06 2.06-.94-2.06-.94-.94-2.06-.94 2.06-2.06.94z\"/><path d=\"M17.41 7.96l-1.37-1.37c-.4-.4-.92-.59-1.43-.59-.52 0-1.04.2-1.43.59L10.3 9.45l-7.72 7.72c-.78.78-.78 2.05 0 2.83L4 21.41c.39.39.9.59 1.41.59.51 0 1.02-.2 1.41-.59l7.78-7.78 2.81-2.81c.8-.78.8-2.07 0-2.86zM5.41 20L4 18.59l7.72-7.72 1.47 1.35L5.41 20z\"/>\n",
              "  </svg>\n",
              "      </button>\n",
              "      \n",
              "  <style>\n",
              "    .colab-df-container {\n",
              "      display:flex;\n",
              "      flex-wrap:wrap;\n",
              "      gap: 12px;\n",
              "    }\n",
              "\n",
              "    .colab-df-convert {\n",
              "      background-color: #E8F0FE;\n",
              "      border: none;\n",
              "      border-radius: 50%;\n",
              "      cursor: pointer;\n",
              "      display: none;\n",
              "      fill: #1967D2;\n",
              "      height: 32px;\n",
              "      padding: 0 0 0 0;\n",
              "      width: 32px;\n",
              "    }\n",
              "\n",
              "    .colab-df-convert:hover {\n",
              "      background-color: #E2EBFA;\n",
              "      box-shadow: 0px 1px 2px rgba(60, 64, 67, 0.3), 0px 1px 3px 1px rgba(60, 64, 67, 0.15);\n",
              "      fill: #174EA6;\n",
              "    }\n",
              "\n",
              "    [theme=dark] .colab-df-convert {\n",
              "      background-color: #3B4455;\n",
              "      fill: #D2E3FC;\n",
              "    }\n",
              "\n",
              "    [theme=dark] .colab-df-convert:hover {\n",
              "      background-color: #434B5C;\n",
              "      box-shadow: 0px 1px 3px 1px rgba(0, 0, 0, 0.15);\n",
              "      filter: drop-shadow(0px 1px 2px rgba(0, 0, 0, 0.3));\n",
              "      fill: #FFFFFF;\n",
              "    }\n",
              "  </style>\n",
              "\n",
              "      <script>\n",
              "        const buttonEl =\n",
              "          document.querySelector('#df-6b601db1-d703-430c-950a-49c2ca1710eb button.colab-df-convert');\n",
              "        buttonEl.style.display =\n",
              "          google.colab.kernel.accessAllowed ? 'block' : 'none';\n",
              "\n",
              "        async function convertToInteractive(key) {\n",
              "          const element = document.querySelector('#df-6b601db1-d703-430c-950a-49c2ca1710eb');\n",
              "          const dataTable =\n",
              "            await google.colab.kernel.invokeFunction('convertToInteractive',\n",
              "                                                     [key], {});\n",
              "          if (!dataTable) return;\n",
              "\n",
              "          const docLinkHtml = 'Like what you see? Visit the ' +\n",
              "            '<a target=\"_blank\" href=https://colab.research.google.com/notebooks/data_table.ipynb>data table notebook</a>'\n",
              "            + ' to learn more about interactive tables.';\n",
              "          element.innerHTML = '';\n",
              "          dataTable['output_type'] = 'display_data';\n",
              "          await google.colab.output.renderOutput(dataTable, element);\n",
              "          const docLink = document.createElement('div');\n",
              "          docLink.innerHTML = docLinkHtml;\n",
              "          element.appendChild(docLink);\n",
              "        }\n",
              "      </script>\n",
              "    </div>\n",
              "  </div>\n",
              "  "
            ]
          },
          "metadata": {},
          "execution_count": 46
        }
      ]
    },
    {
      "cell_type": "markdown",
      "metadata": {
        "id": "y6Zire6iVTu6"
      },
      "source": [
        "Use the `pandas.merge()` function to join these datasets."
      ]
    },
    {
      "cell_type": "code",
      "source": [
        "pd.merge(df, df_price, how='inner', left_index=True, right_index=True)"
      ],
      "metadata": {
        "colab": {
          "base_uri": "https://localhost:8080/",
          "height": 641
        },
        "id": "2MdFwujhjSPN",
        "outputId": "5e808507-c14d-4725-9466-78c71ce98283"
      },
      "execution_count": 174,
      "outputs": [
        {
          "output_type": "execute_result",
          "data": {
            "text/plain": [
              "         kwh  meter                 time TOUTYPE_x   MARKET_x         ZONE_x  \\\n",
              "0      0.404    1.0  2018-01-01 00:15:00  OFF-PEAK  Real Time  Load Zone CPS   \n",
              "0        NaN    NaN                  NaN  OFF-PEAK  Real Time  Load Zone CPS   \n",
              "1      0.343    1.0  2018-01-01 00:30:00  OFF-PEAK  Real Time  Load Zone CPS   \n",
              "1        NaN    NaN                  NaN  OFF-PEAK  Real Time  Load Zone CPS   \n",
              "2      0.259    1.0  2018-01-01 00:45:00  OFF-PEAK  Real Time  Load Zone CPS   \n",
              "...      ...    ...                  ...       ...        ...            ...   \n",
              "35037    NaN    NaN                  NaN  OFF-PEAK  Real Time  Load Zone CPS   \n",
              "35038  0.335    1.0  2018-12-31 23:45:00  OFF-PEAK  Real Time  Load Zone CPS   \n",
              "35038    NaN    NaN                  NaN  OFF-PEAK  Real Time  Load Zone CPS   \n",
              "35039  0.294    1.0  2019-01-01 00:00:00  OFF-PEAK  Real Time  Load Zone CPS   \n",
              "35039    NaN    NaN                  NaN  OFF-PEAK  Real Time  Load Zone CPS   \n",
              "\n",
              "       PRICE_x              DATE_x TOUTYPE_y   MARKET_y         ZONE_y  \\\n",
              "0        24.10 2018-01-01 00:15:00  OFF-PEAK  Real Time  Load Zone CPS   \n",
              "0        24.10 2018-01-01 00:15:00  OFF-PEAK  Real Time  Load Zone CPS   \n",
              "1        23.76 2018-01-01 00:30:00  OFF-PEAK  Real Time  Load Zone CPS   \n",
              "1        23.76 2018-01-01 00:30:00  OFF-PEAK  Real Time  Load Zone CPS   \n",
              "2        22.87 2018-01-01 00:45:00  OFF-PEAK  Real Time  Load Zone CPS   \n",
              "...        ...                 ...       ...        ...            ...   \n",
              "35037    22.81 2018-12-31 23:30:00  OFF-PEAK  Real Time  Load Zone CPS   \n",
              "35038    22.84 2018-12-31 23:45:00  OFF-PEAK  Real Time  Load Zone CPS   \n",
              "35038    22.84 2018-12-31 23:45:00  OFF-PEAK  Real Time  Load Zone CPS   \n",
              "35039    22.68 2018-12-31 23:00:00  OFF-PEAK  Real Time  Load Zone CPS   \n",
              "35039    22.68 2018-12-31 23:00:00  OFF-PEAK  Real Time  Load Zone CPS   \n",
              "\n",
              "       PRICE_y              DATE_y  \n",
              "0        24.10 2018-01-01 00:15:00  \n",
              "0        24.10 2018-01-01 00:15:00  \n",
              "1        23.76 2018-01-01 00:30:00  \n",
              "1        23.76 2018-01-01 00:30:00  \n",
              "2        22.87 2018-01-01 00:45:00  \n",
              "...        ...                 ...  \n",
              "35037    22.81 2018-12-31 23:30:00  \n",
              "35038    22.84 2018-12-31 23:45:00  \n",
              "35038    22.84 2018-12-31 23:45:00  \n",
              "35039    22.68 2018-12-31 23:00:00  \n",
              "35039    22.68 2018-12-31 23:00:00  \n",
              "\n",
              "[70080 rows x 13 columns]"
            ],
            "text/html": [
              "\n",
              "  <div id=\"df-08eb79bb-0523-47dd-9af6-723aaad426b2\">\n",
              "    <div class=\"colab-df-container\">\n",
              "      <div>\n",
              "<style scoped>\n",
              "    .dataframe tbody tr th:only-of-type {\n",
              "        vertical-align: middle;\n",
              "    }\n",
              "\n",
              "    .dataframe tbody tr th {\n",
              "        vertical-align: top;\n",
              "    }\n",
              "\n",
              "    .dataframe thead th {\n",
              "        text-align: right;\n",
              "    }\n",
              "</style>\n",
              "<table border=\"1\" class=\"dataframe\">\n",
              "  <thead>\n",
              "    <tr style=\"text-align: right;\">\n",
              "      <th></th>\n",
              "      <th>kwh</th>\n",
              "      <th>meter</th>\n",
              "      <th>time</th>\n",
              "      <th>TOUTYPE_x</th>\n",
              "      <th>MARKET_x</th>\n",
              "      <th>ZONE_x</th>\n",
              "      <th>PRICE_x</th>\n",
              "      <th>DATE_x</th>\n",
              "      <th>TOUTYPE_y</th>\n",
              "      <th>MARKET_y</th>\n",
              "      <th>ZONE_y</th>\n",
              "      <th>PRICE_y</th>\n",
              "      <th>DATE_y</th>\n",
              "    </tr>\n",
              "  </thead>\n",
              "  <tbody>\n",
              "    <tr>\n",
              "      <th>0</th>\n",
              "      <td>0.404</td>\n",
              "      <td>1.0</td>\n",
              "      <td>2018-01-01 00:15:00</td>\n",
              "      <td>OFF-PEAK</td>\n",
              "      <td>Real Time</td>\n",
              "      <td>Load Zone CPS</td>\n",
              "      <td>24.10</td>\n",
              "      <td>2018-01-01 00:15:00</td>\n",
              "      <td>OFF-PEAK</td>\n",
              "      <td>Real Time</td>\n",
              "      <td>Load Zone CPS</td>\n",
              "      <td>24.10</td>\n",
              "      <td>2018-01-01 00:15:00</td>\n",
              "    </tr>\n",
              "    <tr>\n",
              "      <th>0</th>\n",
              "      <td>NaN</td>\n",
              "      <td>NaN</td>\n",
              "      <td>NaN</td>\n",
              "      <td>OFF-PEAK</td>\n",
              "      <td>Real Time</td>\n",
              "      <td>Load Zone CPS</td>\n",
              "      <td>24.10</td>\n",
              "      <td>2018-01-01 00:15:00</td>\n",
              "      <td>OFF-PEAK</td>\n",
              "      <td>Real Time</td>\n",
              "      <td>Load Zone CPS</td>\n",
              "      <td>24.10</td>\n",
              "      <td>2018-01-01 00:15:00</td>\n",
              "    </tr>\n",
              "    <tr>\n",
              "      <th>1</th>\n",
              "      <td>0.343</td>\n",
              "      <td>1.0</td>\n",
              "      <td>2018-01-01 00:30:00</td>\n",
              "      <td>OFF-PEAK</td>\n",
              "      <td>Real Time</td>\n",
              "      <td>Load Zone CPS</td>\n",
              "      <td>23.76</td>\n",
              "      <td>2018-01-01 00:30:00</td>\n",
              "      <td>OFF-PEAK</td>\n",
              "      <td>Real Time</td>\n",
              "      <td>Load Zone CPS</td>\n",
              "      <td>23.76</td>\n",
              "      <td>2018-01-01 00:30:00</td>\n",
              "    </tr>\n",
              "    <tr>\n",
              "      <th>1</th>\n",
              "      <td>NaN</td>\n",
              "      <td>NaN</td>\n",
              "      <td>NaN</td>\n",
              "      <td>OFF-PEAK</td>\n",
              "      <td>Real Time</td>\n",
              "      <td>Load Zone CPS</td>\n",
              "      <td>23.76</td>\n",
              "      <td>2018-01-01 00:30:00</td>\n",
              "      <td>OFF-PEAK</td>\n",
              "      <td>Real Time</td>\n",
              "      <td>Load Zone CPS</td>\n",
              "      <td>23.76</td>\n",
              "      <td>2018-01-01 00:30:00</td>\n",
              "    </tr>\n",
              "    <tr>\n",
              "      <th>2</th>\n",
              "      <td>0.259</td>\n",
              "      <td>1.0</td>\n",
              "      <td>2018-01-01 00:45:00</td>\n",
              "      <td>OFF-PEAK</td>\n",
              "      <td>Real Time</td>\n",
              "      <td>Load Zone CPS</td>\n",
              "      <td>22.87</td>\n",
              "      <td>2018-01-01 00:45:00</td>\n",
              "      <td>OFF-PEAK</td>\n",
              "      <td>Real Time</td>\n",
              "      <td>Load Zone CPS</td>\n",
              "      <td>22.87</td>\n",
              "      <td>2018-01-01 00:45:00</td>\n",
              "    </tr>\n",
              "    <tr>\n",
              "      <th>...</th>\n",
              "      <td>...</td>\n",
              "      <td>...</td>\n",
              "      <td>...</td>\n",
              "      <td>...</td>\n",
              "      <td>...</td>\n",
              "      <td>...</td>\n",
              "      <td>...</td>\n",
              "      <td>...</td>\n",
              "      <td>...</td>\n",
              "      <td>...</td>\n",
              "      <td>...</td>\n",
              "      <td>...</td>\n",
              "      <td>...</td>\n",
              "    </tr>\n",
              "    <tr>\n",
              "      <th>35037</th>\n",
              "      <td>NaN</td>\n",
              "      <td>NaN</td>\n",
              "      <td>NaN</td>\n",
              "      <td>OFF-PEAK</td>\n",
              "      <td>Real Time</td>\n",
              "      <td>Load Zone CPS</td>\n",
              "      <td>22.81</td>\n",
              "      <td>2018-12-31 23:30:00</td>\n",
              "      <td>OFF-PEAK</td>\n",
              "      <td>Real Time</td>\n",
              "      <td>Load Zone CPS</td>\n",
              "      <td>22.81</td>\n",
              "      <td>2018-12-31 23:30:00</td>\n",
              "    </tr>\n",
              "    <tr>\n",
              "      <th>35038</th>\n",
              "      <td>0.335</td>\n",
              "      <td>1.0</td>\n",
              "      <td>2018-12-31 23:45:00</td>\n",
              "      <td>OFF-PEAK</td>\n",
              "      <td>Real Time</td>\n",
              "      <td>Load Zone CPS</td>\n",
              "      <td>22.84</td>\n",
              "      <td>2018-12-31 23:45:00</td>\n",
              "      <td>OFF-PEAK</td>\n",
              "      <td>Real Time</td>\n",
              "      <td>Load Zone CPS</td>\n",
              "      <td>22.84</td>\n",
              "      <td>2018-12-31 23:45:00</td>\n",
              "    </tr>\n",
              "    <tr>\n",
              "      <th>35038</th>\n",
              "      <td>NaN</td>\n",
              "      <td>NaN</td>\n",
              "      <td>NaN</td>\n",
              "      <td>OFF-PEAK</td>\n",
              "      <td>Real Time</td>\n",
              "      <td>Load Zone CPS</td>\n",
              "      <td>22.84</td>\n",
              "      <td>2018-12-31 23:45:00</td>\n",
              "      <td>OFF-PEAK</td>\n",
              "      <td>Real Time</td>\n",
              "      <td>Load Zone CPS</td>\n",
              "      <td>22.84</td>\n",
              "      <td>2018-12-31 23:45:00</td>\n",
              "    </tr>\n",
              "    <tr>\n",
              "      <th>35039</th>\n",
              "      <td>0.294</td>\n",
              "      <td>1.0</td>\n",
              "      <td>2019-01-01 00:00:00</td>\n",
              "      <td>OFF-PEAK</td>\n",
              "      <td>Real Time</td>\n",
              "      <td>Load Zone CPS</td>\n",
              "      <td>22.68</td>\n",
              "      <td>2018-12-31 23:00:00</td>\n",
              "      <td>OFF-PEAK</td>\n",
              "      <td>Real Time</td>\n",
              "      <td>Load Zone CPS</td>\n",
              "      <td>22.68</td>\n",
              "      <td>2018-12-31 23:00:00</td>\n",
              "    </tr>\n",
              "    <tr>\n",
              "      <th>35039</th>\n",
              "      <td>NaN</td>\n",
              "      <td>NaN</td>\n",
              "      <td>NaN</td>\n",
              "      <td>OFF-PEAK</td>\n",
              "      <td>Real Time</td>\n",
              "      <td>Load Zone CPS</td>\n",
              "      <td>22.68</td>\n",
              "      <td>2018-12-31 23:00:00</td>\n",
              "      <td>OFF-PEAK</td>\n",
              "      <td>Real Time</td>\n",
              "      <td>Load Zone CPS</td>\n",
              "      <td>22.68</td>\n",
              "      <td>2018-12-31 23:00:00</td>\n",
              "    </tr>\n",
              "  </tbody>\n",
              "</table>\n",
              "<p>70080 rows × 13 columns</p>\n",
              "</div>\n",
              "      <button class=\"colab-df-convert\" onclick=\"convertToInteractive('df-08eb79bb-0523-47dd-9af6-723aaad426b2')\"\n",
              "              title=\"Convert this dataframe to an interactive table.\"\n",
              "              style=\"display:none;\">\n",
              "        \n",
              "  <svg xmlns=\"http://www.w3.org/2000/svg\" height=\"24px\"viewBox=\"0 0 24 24\"\n",
              "       width=\"24px\">\n",
              "    <path d=\"M0 0h24v24H0V0z\" fill=\"none\"/>\n",
              "    <path d=\"M18.56 5.44l.94 2.06.94-2.06 2.06-.94-2.06-.94-.94-2.06-.94 2.06-2.06.94zm-11 1L8.5 8.5l.94-2.06 2.06-.94-2.06-.94L8.5 2.5l-.94 2.06-2.06.94zm10 10l.94 2.06.94-2.06 2.06-.94-2.06-.94-.94-2.06-.94 2.06-2.06.94z\"/><path d=\"M17.41 7.96l-1.37-1.37c-.4-.4-.92-.59-1.43-.59-.52 0-1.04.2-1.43.59L10.3 9.45l-7.72 7.72c-.78.78-.78 2.05 0 2.83L4 21.41c.39.39.9.59 1.41.59.51 0 1.02-.2 1.41-.59l7.78-7.78 2.81-2.81c.8-.78.8-2.07 0-2.86zM5.41 20L4 18.59l7.72-7.72 1.47 1.35L5.41 20z\"/>\n",
              "  </svg>\n",
              "      </button>\n",
              "      \n",
              "  <style>\n",
              "    .colab-df-container {\n",
              "      display:flex;\n",
              "      flex-wrap:wrap;\n",
              "      gap: 12px;\n",
              "    }\n",
              "\n",
              "    .colab-df-convert {\n",
              "      background-color: #E8F0FE;\n",
              "      border: none;\n",
              "      border-radius: 50%;\n",
              "      cursor: pointer;\n",
              "      display: none;\n",
              "      fill: #1967D2;\n",
              "      height: 32px;\n",
              "      padding: 0 0 0 0;\n",
              "      width: 32px;\n",
              "    }\n",
              "\n",
              "    .colab-df-convert:hover {\n",
              "      background-color: #E2EBFA;\n",
              "      box-shadow: 0px 1px 2px rgba(60, 64, 67, 0.3), 0px 1px 3px 1px rgba(60, 64, 67, 0.15);\n",
              "      fill: #174EA6;\n",
              "    }\n",
              "\n",
              "    [theme=dark] .colab-df-convert {\n",
              "      background-color: #3B4455;\n",
              "      fill: #D2E3FC;\n",
              "    }\n",
              "\n",
              "    [theme=dark] .colab-df-convert:hover {\n",
              "      background-color: #434B5C;\n",
              "      box-shadow: 0px 1px 3px 1px rgba(0, 0, 0, 0.15);\n",
              "      filter: drop-shadow(0px 1px 2px rgba(0, 0, 0, 0.3));\n",
              "      fill: #FFFFFF;\n",
              "    }\n",
              "  </style>\n",
              "\n",
              "      <script>\n",
              "        const buttonEl =\n",
              "          document.querySelector('#df-08eb79bb-0523-47dd-9af6-723aaad426b2 button.colab-df-convert');\n",
              "        buttonEl.style.display =\n",
              "          google.colab.kernel.accessAllowed ? 'block' : 'none';\n",
              "\n",
              "        async function convertToInteractive(key) {\n",
              "          const element = document.querySelector('#df-08eb79bb-0523-47dd-9af6-723aaad426b2');\n",
              "          const dataTable =\n",
              "            await google.colab.kernel.invokeFunction('convertToInteractive',\n",
              "                                                     [key], {});\n",
              "          if (!dataTable) return;\n",
              "\n",
              "          const docLinkHtml = 'Like what you see? Visit the ' +\n",
              "            '<a target=\"_blank\" href=https://colab.research.google.com/notebooks/data_table.ipynb>data table notebook</a>'\n",
              "            + ' to learn more about interactive tables.';\n",
              "          element.innerHTML = '';\n",
              "          dataTable['output_type'] = 'display_data';\n",
              "          await google.colab.output.renderOutput(dataTable, element);\n",
              "          const docLink = document.createElement('div');\n",
              "          docLink.innerHTML = docLinkHtml;\n",
              "          element.appendChild(docLink);\n",
              "        }\n",
              "      </script>\n",
              "    </div>\n",
              "  </div>\n",
              "  "
            ]
          },
          "metadata": {},
          "execution_count": 174
        }
      ]
    },
    {
      "cell_type": "code",
      "metadata": {
        "id": "neO7v_A0H3DK"
      },
      "source": [
        "df = pd.merge(df, df_price, how='inner', left_index=True, right_index=True)"
      ],
      "execution_count": 172,
      "outputs": []
    },
    {
      "cell_type": "code",
      "metadata": {
        "colab": {
          "base_uri": "https://localhost:8080/",
          "height": 206
        },
        "id": "ny8E_hKfIOXl",
        "outputId": "b13af34f-3e34-45aa-ef52-c401a05d6f26"
      },
      "source": [
        "df.tail()"
      ],
      "execution_count": 173,
      "outputs": [
        {
          "output_type": "execute_result",
          "data": {
            "text/plain": [
              "         kwh  meter                 time   TOUTYPE     MARKET           ZONE  \\\n",
              "35037    NaN    NaN                  NaN  OFF-PEAK  Real Time  Load Zone CPS   \n",
              "35038  0.335    1.0  2018-12-31 23:45:00  OFF-PEAK  Real Time  Load Zone CPS   \n",
              "35038    NaN    NaN                  NaN  OFF-PEAK  Real Time  Load Zone CPS   \n",
              "35039  0.294    1.0  2019-01-01 00:00:00  OFF-PEAK  Real Time  Load Zone CPS   \n",
              "35039    NaN    NaN                  NaN  OFF-PEAK  Real Time  Load Zone CPS   \n",
              "\n",
              "       PRICE                DATE  \n",
              "35037  22.81 2018-12-31 23:30:00  \n",
              "35038  22.84 2018-12-31 23:45:00  \n",
              "35038  22.84 2018-12-31 23:45:00  \n",
              "35039  22.68 2018-12-31 23:00:00  \n",
              "35039  22.68 2018-12-31 23:00:00  "
            ],
            "text/html": [
              "\n",
              "  <div id=\"df-43425710-56ea-46ff-bde9-621fc991f366\">\n",
              "    <div class=\"colab-df-container\">\n",
              "      <div>\n",
              "<style scoped>\n",
              "    .dataframe tbody tr th:only-of-type {\n",
              "        vertical-align: middle;\n",
              "    }\n",
              "\n",
              "    .dataframe tbody tr th {\n",
              "        vertical-align: top;\n",
              "    }\n",
              "\n",
              "    .dataframe thead th {\n",
              "        text-align: right;\n",
              "    }\n",
              "</style>\n",
              "<table border=\"1\" class=\"dataframe\">\n",
              "  <thead>\n",
              "    <tr style=\"text-align: right;\">\n",
              "      <th></th>\n",
              "      <th>kwh</th>\n",
              "      <th>meter</th>\n",
              "      <th>time</th>\n",
              "      <th>TOUTYPE</th>\n",
              "      <th>MARKET</th>\n",
              "      <th>ZONE</th>\n",
              "      <th>PRICE</th>\n",
              "      <th>DATE</th>\n",
              "    </tr>\n",
              "  </thead>\n",
              "  <tbody>\n",
              "    <tr>\n",
              "      <th>35037</th>\n",
              "      <td>NaN</td>\n",
              "      <td>NaN</td>\n",
              "      <td>NaN</td>\n",
              "      <td>OFF-PEAK</td>\n",
              "      <td>Real Time</td>\n",
              "      <td>Load Zone CPS</td>\n",
              "      <td>22.81</td>\n",
              "      <td>2018-12-31 23:30:00</td>\n",
              "    </tr>\n",
              "    <tr>\n",
              "      <th>35038</th>\n",
              "      <td>0.335</td>\n",
              "      <td>1.0</td>\n",
              "      <td>2018-12-31 23:45:00</td>\n",
              "      <td>OFF-PEAK</td>\n",
              "      <td>Real Time</td>\n",
              "      <td>Load Zone CPS</td>\n",
              "      <td>22.84</td>\n",
              "      <td>2018-12-31 23:45:00</td>\n",
              "    </tr>\n",
              "    <tr>\n",
              "      <th>35038</th>\n",
              "      <td>NaN</td>\n",
              "      <td>NaN</td>\n",
              "      <td>NaN</td>\n",
              "      <td>OFF-PEAK</td>\n",
              "      <td>Real Time</td>\n",
              "      <td>Load Zone CPS</td>\n",
              "      <td>22.84</td>\n",
              "      <td>2018-12-31 23:45:00</td>\n",
              "    </tr>\n",
              "    <tr>\n",
              "      <th>35039</th>\n",
              "      <td>0.294</td>\n",
              "      <td>1.0</td>\n",
              "      <td>2019-01-01 00:00:00</td>\n",
              "      <td>OFF-PEAK</td>\n",
              "      <td>Real Time</td>\n",
              "      <td>Load Zone CPS</td>\n",
              "      <td>22.68</td>\n",
              "      <td>2018-12-31 23:00:00</td>\n",
              "    </tr>\n",
              "    <tr>\n",
              "      <th>35039</th>\n",
              "      <td>NaN</td>\n",
              "      <td>NaN</td>\n",
              "      <td>NaN</td>\n",
              "      <td>OFF-PEAK</td>\n",
              "      <td>Real Time</td>\n",
              "      <td>Load Zone CPS</td>\n",
              "      <td>22.68</td>\n",
              "      <td>2018-12-31 23:00:00</td>\n",
              "    </tr>\n",
              "  </tbody>\n",
              "</table>\n",
              "</div>\n",
              "      <button class=\"colab-df-convert\" onclick=\"convertToInteractive('df-43425710-56ea-46ff-bde9-621fc991f366')\"\n",
              "              title=\"Convert this dataframe to an interactive table.\"\n",
              "              style=\"display:none;\">\n",
              "        \n",
              "  <svg xmlns=\"http://www.w3.org/2000/svg\" height=\"24px\"viewBox=\"0 0 24 24\"\n",
              "       width=\"24px\">\n",
              "    <path d=\"M0 0h24v24H0V0z\" fill=\"none\"/>\n",
              "    <path d=\"M18.56 5.44l.94 2.06.94-2.06 2.06-.94-2.06-.94-.94-2.06-.94 2.06-2.06.94zm-11 1L8.5 8.5l.94-2.06 2.06-.94-2.06-.94L8.5 2.5l-.94 2.06-2.06.94zm10 10l.94 2.06.94-2.06 2.06-.94-2.06-.94-.94-2.06-.94 2.06-2.06.94z\"/><path d=\"M17.41 7.96l-1.37-1.37c-.4-.4-.92-.59-1.43-.59-.52 0-1.04.2-1.43.59L10.3 9.45l-7.72 7.72c-.78.78-.78 2.05 0 2.83L4 21.41c.39.39.9.59 1.41.59.51 0 1.02-.2 1.41-.59l7.78-7.78 2.81-2.81c.8-.78.8-2.07 0-2.86zM5.41 20L4 18.59l7.72-7.72 1.47 1.35L5.41 20z\"/>\n",
              "  </svg>\n",
              "      </button>\n",
              "      \n",
              "  <style>\n",
              "    .colab-df-container {\n",
              "      display:flex;\n",
              "      flex-wrap:wrap;\n",
              "      gap: 12px;\n",
              "    }\n",
              "\n",
              "    .colab-df-convert {\n",
              "      background-color: #E8F0FE;\n",
              "      border: none;\n",
              "      border-radius: 50%;\n",
              "      cursor: pointer;\n",
              "      display: none;\n",
              "      fill: #1967D2;\n",
              "      height: 32px;\n",
              "      padding: 0 0 0 0;\n",
              "      width: 32px;\n",
              "    }\n",
              "\n",
              "    .colab-df-convert:hover {\n",
              "      background-color: #E2EBFA;\n",
              "      box-shadow: 0px 1px 2px rgba(60, 64, 67, 0.3), 0px 1px 3px 1px rgba(60, 64, 67, 0.15);\n",
              "      fill: #174EA6;\n",
              "    }\n",
              "\n",
              "    [theme=dark] .colab-df-convert {\n",
              "      background-color: #3B4455;\n",
              "      fill: #D2E3FC;\n",
              "    }\n",
              "\n",
              "    [theme=dark] .colab-df-convert:hover {\n",
              "      background-color: #434B5C;\n",
              "      box-shadow: 0px 1px 3px 1px rgba(0, 0, 0, 0.15);\n",
              "      filter: drop-shadow(0px 1px 2px rgba(0, 0, 0, 0.3));\n",
              "      fill: #FFFFFF;\n",
              "    }\n",
              "  </style>\n",
              "\n",
              "      <script>\n",
              "        const buttonEl =\n",
              "          document.querySelector('#df-43425710-56ea-46ff-bde9-621fc991f366 button.colab-df-convert');\n",
              "        buttonEl.style.display =\n",
              "          google.colab.kernel.accessAllowed ? 'block' : 'none';\n",
              "\n",
              "        async function convertToInteractive(key) {\n",
              "          const element = document.querySelector('#df-43425710-56ea-46ff-bde9-621fc991f366');\n",
              "          const dataTable =\n",
              "            await google.colab.kernel.invokeFunction('convertToInteractive',\n",
              "                                                     [key], {});\n",
              "          if (!dataTable) return;\n",
              "\n",
              "          const docLinkHtml = 'Like what you see? Visit the ' +\n",
              "            '<a target=\"_blank\" href=https://colab.research.google.com/notebooks/data_table.ipynb>data table notebook</a>'\n",
              "            + ' to learn more about interactive tables.';\n",
              "          element.innerHTML = '';\n",
              "          dataTable['output_type'] = 'display_data';\n",
              "          await google.colab.output.renderOutput(dataTable, element);\n",
              "          const docLink = document.createElement('div');\n",
              "          docLink.innerHTML = docLinkHtml;\n",
              "          element.appendChild(docLink);\n",
              "        }\n",
              "      </script>\n",
              "    </div>\n",
              "  </div>\n",
              "  "
            ]
          },
          "metadata": {},
          "execution_count": 173
        }
      ]
    },
    {
      "cell_type": "code",
      "metadata": {
        "colab": {
          "base_uri": "https://localhost:8080/"
        },
        "id": "kgfmlSi8Km0O",
        "outputId": "2573db78-b6ff-4496-f1e7-917072406e69"
      },
      "source": [
        "df.shape"
      ],
      "execution_count": null,
      "outputs": [
        {
          "output_type": "execute_result",
          "data": {
            "text/plain": [
              "(1121248, 6)"
            ]
          },
          "metadata": {},
          "execution_count": 52
        }
      ]
    },
    {
      "cell_type": "markdown",
      "metadata": {
        "id": "G0h2ORMwWVd9"
      },
      "source": [
        "Let's continue with EDA by exploring individual columns."
      ]
    },
    {
      "cell_type": "code",
      "source": [
        "plt.rcParams[\"figure.figsize\"] = (12.8,8)"
      ],
      "metadata": {
        "id": "ojbvIhZnhh4Q"
      },
      "execution_count": 176,
      "outputs": []
    },
    {
      "cell_type": "code",
      "metadata": {
        "colab": {
          "base_uri": "https://localhost:8080/",
          "height": 500
        },
        "id": "jEtJdXqRKuDA",
        "outputId": "7a8a3679-3dd1-4c46-f51c-64870d2b456b"
      },
      "source": [
        "# plt.figure(figsize=(12,8))\n",
        "df['kwh'].plot()"
      ],
      "execution_count": 177,
      "outputs": [
        {
          "output_type": "execute_result",
          "data": {
            "text/plain": [
              "<matplotlib.axes._subplots.AxesSubplot at 0x7fb34c5c5400>"
            ]
          },
          "metadata": {},
          "execution_count": 177
        },
        {
          "output_type": "display_data",
          "data": {
            "text/plain": [
              "<Figure size 921.6x576 with 1 Axes>"
            ],
            "image/png": "[encoded data removed]"
          },
          "metadata": {
            "needs_background": "light"
          }
        }
      ]
    },
    {
      "cell_type": "markdown",
      "metadata": {
        "id": "YzRO3UM4XCAa"
      },
      "source": [
        "#### Distribution"
      ]
    },
    {
      "cell_type": "code",
      "metadata": {
        "colab": {
          "base_uri": "https://localhost:8080/",
          "height": 508
        },
        "id": "IFTfGAcLWp_g",
        "outputId": "2428a6ca-5084-48ab-d972-1ca1faece952"
      },
      "source": [
        "plt.figure(figsize=(12,8))\n",
        "ax = df['kwh'].plot(kind='hist', bins=80)\n",
        "# price['kwh'].plot(kind='density')\n",
        "\n",
        "plt.title(\"Distribution of Usage (kwh)\", size=25, loc='left')\n",
        "plt.grid(False)\n",
        "ax.spines['top'].set_visible(False)\n",
        "ax.spines['right'].set_visible(False)"
      ],
      "execution_count": null,
      "outputs": [
        {
          "output_type": "display_data",
          "data": {
            "text/plain": [
              "<Figure size 864x576 with 1 Axes>"
            ],
            "image/png": "[encoded data removed]"
          },
          "metadata": {
            "needs_background": "light"
          }
        }
      ]
    },
    {
      "cell_type": "code",
      "metadata": {
        "colab": {
          "base_uri": "https://localhost:8080/",
          "height": 508
        },
        "id": "s8RZ8Xq3XJ1P",
        "outputId": "b4dc46bb-44ac-4b09-eacb-b13a94c0fbb1"
      },
      "source": [
        "plt.figure(figsize=(12,8))\n",
        "df['kwh'].plot(kind='box')\n",
        "\n",
        "plt.title(\"Distribution of Usage (kwh)\", size=25, loc='left')\n",
        "plt.grid(False)\n",
        "ax.spines['top'].set_visible(False)\n",
        "ax.spines['right'].set_visible(False)"
      ],
      "execution_count": null,
      "outputs": [
        {
          "output_type": "display_data",
          "data": {
            "text/plain": [
              "<Figure size 864x576 with 1 Axes>"
            ],
            "image/png": "[encoded data removed]"
          },
          "metadata": {
            "needs_background": "light"
          }
        }
      ]
    },
    {
      "cell_type": "markdown",
      "metadata": {
        "id": "6ggbvsRCYdpJ"
      },
      "source": [
        "Let's dig further into the most extreme values at the top and bottom of the distribution."
      ]
    },
    {
      "cell_type": "code",
      "metadata": {
        "colab": {
          "base_uri": "https://localhost:8080/",
          "height": 269
        },
        "id": "8MwoNF2KYTSE",
        "outputId": "d58b6482-18c6-4858-de34-ce66046febf4"
      },
      "source": [
        "df[df['kwh']>3]"
      ],
      "execution_count": null,
      "outputs": [
        {
          "output_type": "execute_result",
          "data": {
            "text/plain": [
              "                     meter    kwh TOUTYPE     MARKET           ZONE  PRICE\n",
              "2018-04-22 21:30:00     25  3.004  PEAKWE  Real Time  Load Zone CPS  20.95\n",
              "2018-06-20 14:30:00      2  3.005  PEAKWD  Real Time  Load Zone CPS  41.88\n",
              "2018-07-05 15:30:00      2  3.135  PEAKWD  Real Time  Load Zone CPS  73.79\n",
              "2018-07-08 19:00:00      2  3.120  PEAKWE  Real Time  Load Zone CPS  29.76\n",
              "2018-07-25 17:00:00      9  3.175  PEAKWD  Real Time  Load Zone CPS  32.09\n",
              "2018-07-25 17:15:00      9  3.518  PEAKWD  Real Time  Load Zone CPS  32.72\n",
              "2018-08-01 19:00:00      9  3.107  PEAKWD  Real Time  Load Zone CPS  28.65"
            ],
            "text/html": [
              "\n",
              "  <div id=\"df-b73d1349-72d0-4979-81eb-4ec3062067ed\">\n",
              "    <div class=\"colab-df-container\">\n",
              "      <div>\n",
              "<style scoped>\n",
              "    .dataframe tbody tr th:only-of-type {\n",
              "        vertical-align: middle;\n",
              "    }\n",
              "\n",
              "    .dataframe tbody tr th {\n",
              "        vertical-align: top;\n",
              "    }\n",
              "\n",
              "    .dataframe thead th {\n",
              "        text-align: right;\n",
              "    }\n",
              "</style>\n",
              "<table border=\"1\" class=\"dataframe\">\n",
              "  <thead>\n",
              "    <tr style=\"text-align: right;\">\n",
              "      <th></th>\n",
              "      <th>meter</th>\n",
              "      <th>kwh</th>\n",
              "      <th>TOUTYPE</th>\n",
              "      <th>MARKET</th>\n",
              "      <th>ZONE</th>\n",
              "      <th>PRICE</th>\n",
              "    </tr>\n",
              "  </thead>\n",
              "  <tbody>\n",
              "    <tr>\n",
              "      <th>2018-04-22 21:30:00</th>\n",
              "      <td>25</td>\n",
              "      <td>3.004</td>\n",
              "      <td>PEAKWE</td>\n",
              "      <td>Real Time</td>\n",
              "      <td>Load Zone CPS</td>\n",
              "      <td>20.95</td>\n",
              "    </tr>\n",
              "    <tr>\n",
              "      <th>2018-06-20 14:30:00</th>\n",
              "      <td>2</td>\n",
              "      <td>3.005</td>\n",
              "      <td>PEAKWD</td>\n",
              "      <td>Real Time</td>\n",
              "      <td>Load Zone CPS</td>\n",
              "      <td>41.88</td>\n",
              "    </tr>\n",
              "    <tr>\n",
              "      <th>2018-07-05 15:30:00</th>\n",
              "      <td>2</td>\n",
              "      <td>3.135</td>\n",
              "      <td>PEAKWD</td>\n",
              "      <td>Real Time</td>\n",
              "      <td>Load Zone CPS</td>\n",
              "      <td>73.79</td>\n",
              "    </tr>\n",
              "    <tr>\n",
              "      <th>2018-07-08 19:00:00</th>\n",
              "      <td>2</td>\n",
              "      <td>3.120</td>\n",
              "      <td>PEAKWE</td>\n",
              "      <td>Real Time</td>\n",
              "      <td>Load Zone CPS</td>\n",
              "      <td>29.76</td>\n",
              "    </tr>\n",
              "    <tr>\n",
              "      <th>2018-07-25 17:00:00</th>\n",
              "      <td>9</td>\n",
              "      <td>3.175</td>\n",
              "      <td>PEAKWD</td>\n",
              "      <td>Real Time</td>\n",
              "      <td>Load Zone CPS</td>\n",
              "      <td>32.09</td>\n",
              "    </tr>\n",
              "    <tr>\n",
              "      <th>2018-07-25 17:15:00</th>\n",
              "      <td>9</td>\n",
              "      <td>3.518</td>\n",
              "      <td>PEAKWD</td>\n",
              "      <td>Real Time</td>\n",
              "      <td>Load Zone CPS</td>\n",
              "      <td>32.72</td>\n",
              "    </tr>\n",
              "    <tr>\n",
              "      <th>2018-08-01 19:00:00</th>\n",
              "      <td>9</td>\n",
              "      <td>3.107</td>\n",
              "      <td>PEAKWD</td>\n",
              "      <td>Real Time</td>\n",
              "      <td>Load Zone CPS</td>\n",
              "      <td>28.65</td>\n",
              "    </tr>\n",
              "  </tbody>\n",
              "</table>\n",
              "</div>\n",
              "      <button class=\"colab-df-convert\" onclick=\"convertToInteractive('df-b73d1349-72d0-4979-81eb-4ec3062067ed')\"\n",
              "              title=\"Convert this dataframe to an interactive table.\"\n",
              "              style=\"display:none;\">\n",
              "        \n",
              "  <svg xmlns=\"http://www.w3.org/2000/svg\" height=\"24px\"viewBox=\"0 0 24 24\"\n",
              "       width=\"24px\">\n",
              "    <path d=\"M0 0h24v24H0V0z\" fill=\"none\"/>\n",
              "    <path d=\"M18.56 5.44l.94 2.06.94-2.06 2.06-.94-2.06-.94-.94-2.06-.94 2.06-2.06.94zm-11 1L8.5 8.5l.94-2.06 2.06-.94-2.06-.94L8.5 2.5l-.94 2.06-2.06.94zm10 10l.94 2.06.94-2.06 2.06-.94-2.06-.94-.94-2.06-.94 2.06-2.06.94z\"/><path d=\"M17.41 7.96l-1.37-1.37c-.4-.4-.92-.59-1.43-.59-.52 0-1.04.2-1.43.59L10.3 9.45l-7.72 7.72c-.78.78-.78 2.05 0 2.83L4 21.41c.39.39.9.59 1.41.59.51 0 1.02-.2 1.41-.59l7.78-7.78 2.81-2.81c.8-.78.8-2.07 0-2.86zM5.41 20L4 18.59l7.72-7.72 1.47 1.35L5.41 20z\"/>\n",
              "  </svg>\n",
              "      </button>\n",
              "      \n",
              "  <style>\n",
              "    .colab-df-container {\n",
              "      display:flex;\n",
              "      flex-wrap:wrap;\n",
              "      gap: 12px;\n",
              "    }\n",
              "\n",
              "    .colab-df-convert {\n",
              "      background-color: #E8F0FE;\n",
              "      border: none;\n",
              "      border-radius: 50%;\n",
              "      cursor: pointer;\n",
              "      display: none;\n",
              "      fill: #1967D2;\n",
              "      height: 32px;\n",
              "      padding: 0 0 0 0;\n",
              "      width: 32px;\n",
              "    }\n",
              "\n",
              "    .colab-df-convert:hover {\n",
              "      background-color: #E2EBFA;\n",
              "      box-shadow: 0px 1px 2px rgba(60, 64, 67, 0.3), 0px 1px 3px 1px rgba(60, 64, 67, 0.15);\n",
              "      fill: #174EA6;\n",
              "    }\n",
              "\n",
              "    [theme=dark] .colab-df-convert {\n",
              "      background-color: #3B4455;\n",
              "      fill: #D2E3FC;\n",
              "    }\n",
              "\n",
              "    [theme=dark] .colab-df-convert:hover {\n",
              "      background-color: #434B5C;\n",
              "      box-shadow: 0px 1px 3px 1px rgba(0, 0, 0, 0.15);\n",
              "      filter: drop-shadow(0px 1px 2px rgba(0, 0, 0, 0.3));\n",
              "      fill: #FFFFFF;\n",
              "    }\n",
              "  </style>\n",
              "\n",
              "      <script>\n",
              "        const buttonEl =\n",
              "          document.querySelector('#df-b73d1349-72d0-4979-81eb-4ec3062067ed button.colab-df-convert');\n",
              "        buttonEl.style.display =\n",
              "          google.colab.kernel.accessAllowed ? 'block' : 'none';\n",
              "\n",
              "        async function convertToInteractive(key) {\n",
              "          const element = document.querySelector('#df-b73d1349-72d0-4979-81eb-4ec3062067ed');\n",
              "          const dataTable =\n",
              "            await google.colab.kernel.invokeFunction('convertToInteractive',\n",
              "                                                     [key], {});\n",
              "          if (!dataTable) return;\n",
              "\n",
              "          const docLinkHtml = 'Like what you see? Visit the ' +\n",
              "            '<a target=\"_blank\" href=https://colab.research.google.com/notebooks/data_table.ipynb>data table notebook</a>'\n",
              "            + ' to learn more about interactive tables.';\n",
              "          element.innerHTML = '';\n",
              "          dataTable['output_type'] = 'display_data';\n",
              "          await google.colab.output.renderOutput(dataTable, element);\n",
              "          const docLink = document.createElement('div');\n",
              "          docLink.innerHTML = docLinkHtml;\n",
              "          element.appendChild(docLink);\n",
              "        }\n",
              "      </script>\n",
              "    </div>\n",
              "  </div>\n",
              "  "
            ]
          },
          "metadata": {},
          "execution_count": 57
        }
      ]
    },
    {
      "cell_type": "markdown",
      "metadata": {
        "id": "V5Fo-bKJZGdG"
      },
      "source": [
        "It might be fun to plot the net amount for individual meters."
      ]
    },
    {
      "cell_type": "code",
      "metadata": {
        "colab": {
          "base_uri": "https://localhost:8080/",
          "height": 476
        },
        "id": "HbLeCX6aYomJ",
        "outputId": "cb04288a-2ca7-4069-c888-fe07d8e6674c"
      },
      "source": [
        "df[df['meter'] == 2].kwh.plot()"
      ],
      "execution_count": null,
      "outputs": [
        {
          "output_type": "execute_result",
          "data": {
            "text/plain": [
              "<matplotlib.axes._subplots.AxesSubplot at 0x7fd41cd343a0>"
            ]
          },
          "metadata": {},
          "execution_count": 58
        },
        {
          "output_type": "display_data",
          "data": {
            "text/plain": [
              "<Figure size 921.6x576 with 1 Axes>"
            ],
            "image/png": "[encoded data removed]"
          },
          "metadata": {
            "needs_background": "light"
          }
        }
      ]
    },
    {
      "cell_type": "code",
      "metadata": {
        "colab": {
          "base_uri": "https://localhost:8080/",
          "height": 424
        },
        "id": "U1H83XKJbBMt",
        "outputId": "dfc4701b-ddf1-42d5-fdec-44e146c2b62f"
      },
      "source": [
        "df_m2 = df[df['meter'] == 2]\n",
        "df_m2"
      ],
      "execution_count": null,
      "outputs": [
        {
          "output_type": "execute_result",
          "data": {
            "text/plain": [
              "                     meter    kwh   TOUTYPE     MARKET           ZONE  PRICE\n",
              "2018-01-01 00:15:00      2  0.557  OFF-PEAK  Real Time  Load Zone CPS  24.10\n",
              "2018-01-01 00:30:00      2  0.548  OFF-PEAK  Real Time  Load Zone CPS  23.76\n",
              "2018-01-01 00:45:00      2  0.406  OFF-PEAK  Real Time  Load Zone CPS  22.87\n",
              "2018-01-01 01:00:00      2  0.679  OFF-PEAK  Real Time  Load Zone CPS  21.00\n",
              "2018-01-01 01:15:00      2  0.377  OFF-PEAK  Real Time  Load Zone CPS  22.07\n",
              "...                    ...    ...       ...        ...            ...    ...\n",
              "2018-12-31 22:45:00      2  0.617  OFF-PEAK  Real Time  Load Zone CPS  24.07\n",
              "2018-12-31 23:00:00      2  0.440  OFF-PEAK  Real Time  Load Zone CPS  22.68\n",
              "2018-12-31 23:15:00      2  0.546  OFF-PEAK  Real Time  Load Zone CPS  22.95\n",
              "2018-12-31 23:30:00      2  0.570  OFF-PEAK  Real Time  Load Zone CPS  22.81\n",
              "2018-12-31 23:45:00      2  0.710  OFF-PEAK  Real Time  Load Zone CPS  22.84\n",
              "\n",
              "[35039 rows x 6 columns]"
            ],
            "text/html": [
              "\n",
              "  <div id=\"df-75899cac-4061-4b52-9050-a1c6bf7f4236\">\n",
              "    <div class=\"colab-df-container\">\n",
              "      <div>\n",
              "<style scoped>\n",
              "    .dataframe tbody tr th:only-of-type {\n",
              "        vertical-align: middle;\n",
              "    }\n",
              "\n",
              "    .dataframe tbody tr th {\n",
              "        vertical-align: top;\n",
              "    }\n",
              "\n",
              "    .dataframe thead th {\n",
              "        text-align: right;\n",
              "    }\n",
              "</style>\n",
              "<table border=\"1\" class=\"dataframe\">\n",
              "  <thead>\n",
              "    <tr style=\"text-align: right;\">\n",
              "      <th></th>\n",
              "      <th>meter</th>\n",
              "      <th>kwh</th>\n",
              "      <th>TOUTYPE</th>\n",
              "      <th>MARKET</th>\n",
              "      <th>ZONE</th>\n",
              "      <th>PRICE</th>\n",
              "    </tr>\n",
              "  </thead>\n",
              "  <tbody>\n",
              "    <tr>\n",
              "      <th>2018-01-01 00:15:00</th>\n",
              "      <td>2</td>\n",
              "      <td>0.557</td>\n",
              "      <td>OFF-PEAK</td>\n",
              "      <td>Real Time</td>\n",
              "      <td>Load Zone CPS</td>\n",
              "      <td>24.10</td>\n",
              "    </tr>\n",
              "    <tr>\n",
              "      <th>2018-01-01 00:30:00</th>\n",
              "      <td>2</td>\n",
              "      <td>0.548</td>\n",
              "      <td>OFF-PEAK</td>\n",
              "      <td>Real Time</td>\n",
              "      <td>Load Zone CPS</td>\n",
              "      <td>23.76</td>\n",
              "    </tr>\n",
              "    <tr>\n",
              "      <th>2018-01-01 00:45:00</th>\n",
              "      <td>2</td>\n",
              "      <td>0.406</td>\n",
              "      <td>OFF-PEAK</td>\n",
              "      <td>Real Time</td>\n",
              "      <td>Load Zone CPS</td>\n",
              "      <td>22.87</td>\n",
              "    </tr>\n",
              "    <tr>\n",
              "      <th>2018-01-01 01:00:00</th>\n",
              "      <td>2</td>\n",
              "      <td>0.679</td>\n",
              "      <td>OFF-PEAK</td>\n",
              "      <td>Real Time</td>\n",
              "      <td>Load Zone CPS</td>\n",
              "      <td>21.00</td>\n",
              "    </tr>\n",
              "    <tr>\n",
              "      <th>2018-01-01 01:15:00</th>\n",
              "      <td>2</td>\n",
              "      <td>0.377</td>\n",
              "      <td>OFF-PEAK</td>\n",
              "      <td>Real Time</td>\n",
              "      <td>Load Zone CPS</td>\n",
              "      <td>22.07</td>\n",
              "    </tr>\n",
              "    <tr>\n",
              "      <th>...</th>\n",
              "      <td>...</td>\n",
              "      <td>...</td>\n",
              "      <td>...</td>\n",
              "      <td>...</td>\n",
              "      <td>...</td>\n",
              "      <td>...</td>\n",
              "    </tr>\n",
              "    <tr>\n",
              "      <th>2018-12-31 22:45:00</th>\n",
              "      <td>2</td>\n",
              "      <td>0.617</td>\n",
              "      <td>OFF-PEAK</td>\n",
              "      <td>Real Time</td>\n",
              "      <td>Load Zone CPS</td>\n",
              "      <td>24.07</td>\n",
              "    </tr>\n",
              "    <tr>\n",
              "      <th>2018-12-31 23:00:00</th>\n",
              "      <td>2</td>\n",
              "      <td>0.440</td>\n",
              "      <td>OFF-PEAK</td>\n",
              "      <td>Real Time</td>\n",
              "      <td>Load Zone CPS</td>\n",
              "      <td>22.68</td>\n",
              "    </tr>\n",
              "    <tr>\n",
              "      <th>2018-12-31 23:15:00</th>\n",
              "      <td>2</td>\n",
              "      <td>0.546</td>\n",
              "      <td>OFF-PEAK</td>\n",
              "      <td>Real Time</td>\n",
              "      <td>Load Zone CPS</td>\n",
              "      <td>22.95</td>\n",
              "    </tr>\n",
              "    <tr>\n",
              "      <th>2018-12-31 23:30:00</th>\n",
              "      <td>2</td>\n",
              "      <td>0.570</td>\n",
              "      <td>OFF-PEAK</td>\n",
              "      <td>Real Time</td>\n",
              "      <td>Load Zone CPS</td>\n",
              "      <td>22.81</td>\n",
              "    </tr>\n",
              "    <tr>\n",
              "      <th>2018-12-31 23:45:00</th>\n",
              "      <td>2</td>\n",
              "      <td>0.710</td>\n",
              "      <td>OFF-PEAK</td>\n",
              "      <td>Real Time</td>\n",
              "      <td>Load Zone CPS</td>\n",
              "      <td>22.84</td>\n",
              "    </tr>\n",
              "  </tbody>\n",
              "</table>\n",
              "<p>35039 rows × 6 columns</p>\n",
              "</div>\n",
              "      <button class=\"colab-df-convert\" onclick=\"convertToInteractive('df-75899cac-4061-4b52-9050-a1c6bf7f4236')\"\n",
              "              title=\"Convert this dataframe to an interactive table.\"\n",
              "              style=\"display:none;\">\n",
              "        \n",
              "  <svg xmlns=\"http://www.w3.org/2000/svg\" height=\"24px\"viewBox=\"0 0 24 24\"\n",
              "       width=\"24px\">\n",
              "    <path d=\"M0 0h24v24H0V0z\" fill=\"none\"/>\n",
              "    <path d=\"M18.56 5.44l.94 2.06.94-2.06 2.06-.94-2.06-.94-.94-2.06-.94 2.06-2.06.94zm-11 1L8.5 8.5l.94-2.06 2.06-.94-2.06-.94L8.5 2.5l-.94 2.06-2.06.94zm10 10l.94 2.06.94-2.06 2.06-.94-2.06-.94-.94-2.06-.94 2.06-2.06.94z\"/><path d=\"M17.41 7.96l-1.37-1.37c-.4-.4-.92-.59-1.43-.59-.52 0-1.04.2-1.43.59L10.3 9.45l-7.72 7.72c-.78.78-.78 2.05 0 2.83L4 21.41c.39.39.9.59 1.41.59.51 0 1.02-.2 1.41-.59l7.78-7.78 2.81-2.81c.8-.78.8-2.07 0-2.86zM5.41 20L4 18.59l7.72-7.72 1.47 1.35L5.41 20z\"/>\n",
              "  </svg>\n",
              "      </button>\n",
              "      \n",
              "  <style>\n",
              "    .colab-df-container {\n",
              "      display:flex;\n",
              "      flex-wrap:wrap;\n",
              "      gap: 12px;\n",
              "    }\n",
              "\n",
              "    .colab-df-convert {\n",
              "      background-color: #E8F0FE;\n",
              "      border: none;\n",
              "      border-radius: 50%;\n",
              "      cursor: pointer;\n",
              "      display: none;\n",
              "      fill: #1967D2;\n",
              "      height: 32px;\n",
              "      padding: 0 0 0 0;\n",
              "      width: 32px;\n",
              "    }\n",
              "\n",
              "    .colab-df-convert:hover {\n",
              "      background-color: #E2EBFA;\n",
              "      box-shadow: 0px 1px 2px rgba(60, 64, 67, 0.3), 0px 1px 3px 1px rgba(60, 64, 67, 0.15);\n",
              "      fill: #174EA6;\n",
              "    }\n",
              "\n",
              "    [theme=dark] .colab-df-convert {\n",
              "      background-color: #3B4455;\n",
              "      fill: #D2E3FC;\n",
              "    }\n",
              "\n",
              "    [theme=dark] .colab-df-convert:hover {\n",
              "      background-color: #434B5C;\n",
              "      box-shadow: 0px 1px 3px 1px rgba(0, 0, 0, 0.15);\n",
              "      filter: drop-shadow(0px 1px 2px rgba(0, 0, 0, 0.3));\n",
              "      fill: #FFFFFF;\n",
              "    }\n",
              "  </style>\n",
              "\n",
              "      <script>\n",
              "        const buttonEl =\n",
              "          document.querySelector('#df-75899cac-4061-4b52-9050-a1c6bf7f4236 button.colab-df-convert');\n",
              "        buttonEl.style.display =\n",
              "          google.colab.kernel.accessAllowed ? 'block' : 'none';\n",
              "\n",
              "        async function convertToInteractive(key) {\n",
              "          const element = document.querySelector('#df-75899cac-4061-4b52-9050-a1c6bf7f4236');\n",
              "          const dataTable =\n",
              "            await google.colab.kernel.invokeFunction('convertToInteractive',\n",
              "                                                     [key], {});\n",
              "          if (!dataTable) return;\n",
              "\n",
              "          const docLinkHtml = 'Like what you see? Visit the ' +\n",
              "            '<a target=\"_blank\" href=https://colab.research.google.com/notebooks/data_table.ipynb>data table notebook</a>'\n",
              "            + ' to learn more about interactive tables.';\n",
              "          element.innerHTML = '';\n",
              "          dataTable['output_type'] = 'display_data';\n",
              "          await google.colab.output.renderOutput(dataTable, element);\n",
              "          const docLink = document.createElement('div');\n",
              "          docLink.innerHTML = docLinkHtml;\n",
              "          element.appendChild(docLink);\n",
              "        }\n",
              "      </script>\n",
              "    </div>\n",
              "  </div>\n",
              "  "
            ]
          },
          "metadata": {},
          "execution_count": 59
        }
      ]
    },
    {
      "cell_type": "code",
      "metadata": {
        "colab": {
          "base_uri": "https://localhost:8080/",
          "height": 511
        },
        "id": "eU4p1NOuZcxw",
        "outputId": "0f293c58-d65f-4513-eb93-21641097d94b"
      },
      "source": [
        "df_m2.resample('D').mean().kwh.plot()"
      ],
      "execution_count": null,
      "outputs": [
        {
          "output_type": "execute_result",
          "data": {
            "text/plain": [
              "<matplotlib.axes._subplots.AxesSubplot at 0x7fd41af5f520>"
            ]
          },
          "metadata": {},
          "execution_count": 62
        },
        {
          "output_type": "display_data",
          "data": {
            "text/plain": [
              "<Figure size 921.6x576 with 1 Axes>"
            ],
            "image/png": "[encoded data removed]"
          },
          "metadata": {
            "needs_background": "light"
          }
        }
      ]
    },
    {
      "cell_type": "markdown",
      "metadata": {
        "id": "VINQZO4Rbg30"
      },
      "source": [
        "Let's view those whose delivered energy was less than 0."
      ]
    },
    {
      "cell_type": "code",
      "metadata": {
        "id": "-FstXZ67a4mt"
      },
      "source": [
        "df[df['kwh']<0]"
      ],
      "execution_count": null,
      "outputs": []
    },
    {
      "cell_type": "markdown",
      "metadata": {
        "id": "RIQhS3rRcKmu"
      },
      "source": [
        "Let's look at `TOUTYPE`."
      ]
    },
    {
      "cell_type": "code",
      "metadata": {
        "id": "6xw3FRuScSsq"
      },
      "source": [
        "df_price['TOUTYPE'].value_counts()"
      ],
      "execution_count": null,
      "outputs": []
    },
    {
      "cell_type": "code",
      "metadata": {
        "id": "yxTDOy9lcU8g"
      },
      "source": [
        "plt.figure(figsize=(12,8))\n",
        "df_price['TOUTYPE'].value_counts().plot(kind='bar')"
      ],
      "execution_count": null,
      "outputs": []
    },
    {
      "cell_type": "markdown",
      "metadata": {
        "id": "eO3aDeXXcj0S"
      },
      "source": [
        "**Question**: What is the average price per type?"
      ]
    },
    {
      "cell_type": "code",
      "metadata": {
        "id": "oS9XshnXcfel"
      },
      "source": [
        "plt.figure(figsize=(12,8))\n",
        "df_price.groupby('TOUTYPE')['PRICE'].mean().plot(kind='bar')"
      ],
      "execution_count": null,
      "outputs": []
    },
    {
      "cell_type": "markdown",
      "metadata": {
        "id": "3Cg4Af5uc-Ee"
      },
      "source": [
        "Correlation is an interesting metric to explore."
      ]
    },
    {
      "cell_type": "code",
      "metadata": {
        "id": "lTw9o6hRcyIW",
        "colab": {
          "base_uri": "https://localhost:8080/",
          "height": 112
        },
        "outputId": "ae97bdf7-b179-4f2f-beaa-65585aab6593"
      },
      "source": [
        "df[['kwh', 'PRICE']].corr()"
      ],
      "execution_count": null,
      "outputs": [
        {
          "output_type": "execute_result",
          "data": {
            "text/plain": [
              "           kwh    PRICE\n",
              "kwh    1.00000  0.05372\n",
              "PRICE  0.05372  1.00000"
            ],
            "text/html": [
              "\n",
              "  <div id=\"df-bc02928f-2d0c-48a4-81f5-97535e5e6930\">\n",
              "    <div class=\"colab-df-container\">\n",
              "      <div>\n",
              "<style scoped>\n",
              "    .dataframe tbody tr th:only-of-type {\n",
              "        vertical-align: middle;\n",
              "    }\n",
              "\n",
              "    .dataframe tbody tr th {\n",
              "        vertical-align: top;\n",
              "    }\n",
              "\n",
              "    .dataframe thead th {\n",
              "        text-align: right;\n",
              "    }\n",
              "</style>\n",
              "<table border=\"1\" class=\"dataframe\">\n",
              "  <thead>\n",
              "    <tr style=\"text-align: right;\">\n",
              "      <th></th>\n",
              "      <th>kwh</th>\n",
              "      <th>PRICE</th>\n",
              "    </tr>\n",
              "  </thead>\n",
              "  <tbody>\n",
              "    <tr>\n",
              "      <th>kwh</th>\n",
              "      <td>1.00000</td>\n",
              "      <td>0.05372</td>\n",
              "    </tr>\n",
              "    <tr>\n",
              "      <th>PRICE</th>\n",
              "      <td>0.05372</td>\n",
              "      <td>1.00000</td>\n",
              "    </tr>\n",
              "  </tbody>\n",
              "</table>\n",
              "</div>\n",
              "      <button class=\"colab-df-convert\" onclick=\"convertToInteractive('df-bc02928f-2d0c-48a4-81f5-97535e5e6930')\"\n",
              "              title=\"Convert this dataframe to an interactive table.\"\n",
              "              style=\"display:none;\">\n",
              "        \n",
              "  <svg xmlns=\"http://www.w3.org/2000/svg\" height=\"24px\"viewBox=\"0 0 24 24\"\n",
              "       width=\"24px\">\n",
              "    <path d=\"M0 0h24v24H0V0z\" fill=\"none\"/>\n",
              "    <path d=\"M18.56 5.44l.94 2.06.94-2.06 2.06-.94-2.06-.94-.94-2.06-.94 2.06-2.06.94zm-11 1L8.5 8.5l.94-2.06 2.06-.94-2.06-.94L8.5 2.5l-.94 2.06-2.06.94zm10 10l.94 2.06.94-2.06 2.06-.94-2.06-.94-.94-2.06-.94 2.06-2.06.94z\"/><path d=\"M17.41 7.96l-1.37-1.37c-.4-.4-.92-.59-1.43-.59-.52 0-1.04.2-1.43.59L10.3 9.45l-7.72 7.72c-.78.78-.78 2.05 0 2.83L4 21.41c.39.39.9.59 1.41.59.51 0 1.02-.2 1.41-.59l7.78-7.78 2.81-2.81c.8-.78.8-2.07 0-2.86zM5.41 20L4 18.59l7.72-7.72 1.47 1.35L5.41 20z\"/>\n",
              "  </svg>\n",
              "      </button>\n",
              "      \n",
              "  <style>\n",
              "    .colab-df-container {\n",
              "      display:flex;\n",
              "      flex-wrap:wrap;\n",
              "      gap: 12px;\n",
              "    }\n",
              "\n",
              "    .colab-df-convert {\n",
              "      background-color: #E8F0FE;\n",
              "      border: none;\n",
              "      border-radius: 50%;\n",
              "      cursor: pointer;\n",
              "      display: none;\n",
              "      fill: #1967D2;\n",
              "      height: 32px;\n",
              "      padding: 0 0 0 0;\n",
              "      width: 32px;\n",
              "    }\n",
              "\n",
              "    .colab-df-convert:hover {\n",
              "      background-color: #E2EBFA;\n",
              "      box-shadow: 0px 1px 2px rgba(60, 64, 67, 0.3), 0px 1px 3px 1px rgba(60, 64, 67, 0.15);\n",
              "      fill: #174EA6;\n",
              "    }\n",
              "\n",
              "    [theme=dark] .colab-df-convert {\n",
              "      background-color: #3B4455;\n",
              "      fill: #D2E3FC;\n",
              "    }\n",
              "\n",
              "    [theme=dark] .colab-df-convert:hover {\n",
              "      background-color: #434B5C;\n",
              "      box-shadow: 0px 1px 3px 1px rgba(0, 0, 0, 0.15);\n",
              "      filter: drop-shadow(0px 1px 2px rgba(0, 0, 0, 0.3));\n",
              "      fill: #FFFFFF;\n",
              "    }\n",
              "  </style>\n",
              "\n",
              "      <script>\n",
              "        const buttonEl =\n",
              "          document.querySelector('#df-bc02928f-2d0c-48a4-81f5-97535e5e6930 button.colab-df-convert');\n",
              "        buttonEl.style.display =\n",
              "          google.colab.kernel.accessAllowed ? 'block' : 'none';\n",
              "\n",
              "        async function convertToInteractive(key) {\n",
              "          const element = document.querySelector('#df-bc02928f-2d0c-48a4-81f5-97535e5e6930');\n",
              "          const dataTable =\n",
              "            await google.colab.kernel.invokeFunction('convertToInteractive',\n",
              "                                                     [key], {});\n",
              "          if (!dataTable) return;\n",
              "\n",
              "          const docLinkHtml = 'Like what you see? Visit the ' +\n",
              "            '<a target=\"_blank\" href=https://colab.research.google.com/notebooks/data_table.ipynb>data table notebook</a>'\n",
              "            + ' to learn more about interactive tables.';\n",
              "          element.innerHTML = '';\n",
              "          dataTable['output_type'] = 'display_data';\n",
              "          await google.colab.output.renderOutput(dataTable, element);\n",
              "          const docLink = document.createElement('div');\n",
              "          docLink.innerHTML = docLinkHtml;\n",
              "          element.appendChild(docLink);\n",
              "        }\n",
              "      </script>\n",
              "    </div>\n",
              "  </div>\n",
              "  "
            ]
          },
          "metadata": {},
          "execution_count": 63
        }
      ]
    },
    {
      "cell_type": "code",
      "metadata": {
        "id": "5cnztVuQdDiZ",
        "colab": {
          "base_uri": "https://localhost:8080/",
          "height": 487
        },
        "outputId": "03d4bc64-c7c6-4a84-88d6-0a047e4be100"
      },
      "source": [
        "sns.heatmap(data=df[['kwh', 'PRICE']].corr(), annot=True, cmap='YlGnBu')\n",
        "plt.show()"
      ],
      "execution_count": null,
      "outputs": [
        {
          "output_type": "display_data",
          "data": {
            "text/plain": [
              "<Figure size 921.6x576 with 2 Axes>"
            ],
            "image/png": "[encoded data removed]"
          },
          "metadata": {
            "needs_background": "light"
          }
        }
      ]
    },
    {
      "cell_type": "code",
      "metadata": {
        "id": "_StjmH6xeZ6V",
        "colab": {
          "base_uri": "https://localhost:8080/",
          "height": 513
        },
        "outputId": "fe6a01ca-cfb7-4324-f814-f63515c69ddf"
      },
      "source": [
        "# sns.set_theme(context='poster') # The base context is “notebook”, and the other contexts are “paper”, “talk”, and “poster”\n",
        "sns.set_theme(style=\"whitegrid\")\n",
        "plt.figure(figsize=(12,8))\n",
        "ax = df_price.groupby('TOUTYPE')['PRICE'].mean().plot(kind='bar')\n",
        "\n",
        "plt.title(\"Price by\", loc='left', size=18)\n",
        "plt.ylabel('Price (USD)', size=14)\n",
        "plt.xlabel('Type', size=14)\n",
        "\n",
        "ax.yaxis.set_label_coords(-0.05, 0.85)\n",
        "ax.xaxis.set_label_coords(0.02, -0.03)\n",
        "\n",
        "plt.xticks(rotation = 0)\n",
        "\n",
        "# plt.grid(False)\n",
        "# ax.spines['top'].set_visible(False)\n",
        "# ax.spines['right'].set_visible(False)\n",
        "\n",
        "plt.show()\n",
        "# plt.savefig('myfig.png')# to save the image"
      ],
      "execution_count": null,
      "outputs": [
        {
          "output_type": "display_data",
          "data": {
            "text/plain": [
              "<Figure size 864x576 with 1 Axes>"
            ],
            "image/png": "[encoded data removed]"
          },
          "metadata": {}
        }
      ]
    },
    {
      "cell_type": "markdown",
      "metadata": {
        "id": "qa4qfvuFoX9W"
      },
      "source": [
        "We might want to save this file locally."
      ]
    },
    {
      "cell_type": "code",
      "metadata": {
        "id": "iq_VuLdrlHeq",
        "colab": {
          "base_uri": "https://localhost:8080/",
          "height": 143
        },
        "outputId": "5c3119c5-60d6-4715-a7e4-38007d123446"
      },
      "source": [
        "df.corr()"
      ],
      "execution_count": null,
      "outputs": [
        {
          "output_type": "execute_result",
          "data": {
            "text/plain": [
              "              meter       kwh         PRICE\n",
              "meter  1.000000e+00 -0.050746  1.680799e-15\n",
              "kwh   -5.074565e-02  1.000000  5.371961e-02\n",
              "PRICE  1.680799e-15  0.053720  1.000000e+00"
            ],
            "text/html": [
              "\n",
              "  <div id=\"df-693ca231-9827-44a1-a025-4583eb605745\">\n",
              "    <div class=\"colab-df-container\">\n",
              "      <div>\n",
              "<style scoped>\n",
              "    .dataframe tbody tr th:only-of-type {\n",
              "        vertical-align: middle;\n",
              "    }\n",
              "\n",
              "    .dataframe tbody tr th {\n",
              "        vertical-align: top;\n",
              "    }\n",
              "\n",
              "    .dataframe thead th {\n",
              "        text-align: right;\n",
              "    }\n",
              "</style>\n",
              "<table border=\"1\" class=\"dataframe\">\n",
              "  <thead>\n",
              "    <tr style=\"text-align: right;\">\n",
              "      <th></th>\n",
              "      <th>meter</th>\n",
              "      <th>kwh</th>\n",
              "      <th>PRICE</th>\n",
              "    </tr>\n",
              "  </thead>\n",
              "  <tbody>\n",
              "    <tr>\n",
              "      <th>meter</th>\n",
              "      <td>1.000000e+00</td>\n",
              "      <td>-0.050746</td>\n",
              "      <td>1.680799e-15</td>\n",
              "    </tr>\n",
              "    <tr>\n",
              "      <th>kwh</th>\n",
              "      <td>-5.074565e-02</td>\n",
              "      <td>1.000000</td>\n",
              "      <td>5.371961e-02</td>\n",
              "    </tr>\n",
              "    <tr>\n",
              "      <th>PRICE</th>\n",
              "      <td>1.680799e-15</td>\n",
              "      <td>0.053720</td>\n",
              "      <td>1.000000e+00</td>\n",
              "    </tr>\n",
              "  </tbody>\n",
              "</table>\n",
              "</div>\n",
              "      <button class=\"colab-df-convert\" onclick=\"convertToInteractive('df-693ca231-9827-44a1-a025-4583eb605745')\"\n",
              "              title=\"Convert this dataframe to an interactive table.\"\n",
              "              style=\"display:none;\">\n",
              "        \n",
              "  <svg xmlns=\"http://www.w3.org/2000/svg\" height=\"24px\"viewBox=\"0 0 24 24\"\n",
              "       width=\"24px\">\n",
              "    <path d=\"M0 0h24v24H0V0z\" fill=\"none\"/>\n",
              "    <path d=\"M18.56 5.44l.94 2.06.94-2.06 2.06-.94-2.06-.94-.94-2.06-.94 2.06-2.06.94zm-11 1L8.5 8.5l.94-2.06 2.06-.94-2.06-.94L8.5 2.5l-.94 2.06-2.06.94zm10 10l.94 2.06.94-2.06 2.06-.94-2.06-.94-.94-2.06-.94 2.06-2.06.94z\"/><path d=\"M17.41 7.96l-1.37-1.37c-.4-.4-.92-.59-1.43-.59-.52 0-1.04.2-1.43.59L10.3 9.45l-7.72 7.72c-.78.78-.78 2.05 0 2.83L4 21.41c.39.39.9.59 1.41.59.51 0 1.02-.2 1.41-.59l7.78-7.78 2.81-2.81c.8-.78.8-2.07 0-2.86zM5.41 20L4 18.59l7.72-7.72 1.47 1.35L5.41 20z\"/>\n",
              "  </svg>\n",
              "      </button>\n",
              "      \n",
              "  <style>\n",
              "    .colab-df-container {\n",
              "      display:flex;\n",
              "      flex-wrap:wrap;\n",
              "      gap: 12px;\n",
              "    }\n",
              "\n",
              "    .colab-df-convert {\n",
              "      background-color: #E8F0FE;\n",
              "      border: none;\n",
              "      border-radius: 50%;\n",
              "      cursor: pointer;\n",
              "      display: none;\n",
              "      fill: #1967D2;\n",
              "      height: 32px;\n",
              "      padding: 0 0 0 0;\n",
              "      width: 32px;\n",
              "    }\n",
              "\n",
              "    .colab-df-convert:hover {\n",
              "      background-color: #E2EBFA;\n",
              "      box-shadow: 0px 1px 2px rgba(60, 64, 67, 0.3), 0px 1px 3px 1px rgba(60, 64, 67, 0.15);\n",
              "      fill: #174EA6;\n",
              "    }\n",
              "\n",
              "    [theme=dark] .colab-df-convert {\n",
              "      background-color: #3B4455;\n",
              "      fill: #D2E3FC;\n",
              "    }\n",
              "\n",
              "    [theme=dark] .colab-df-convert:hover {\n",
              "      background-color: #434B5C;\n",
              "      box-shadow: 0px 1px 3px 1px rgba(0, 0, 0, 0.15);\n",
              "      filter: drop-shadow(0px 1px 2px rgba(0, 0, 0, 0.3));\n",
              "      fill: #FFFFFF;\n",
              "    }\n",
              "  </style>\n",
              "\n",
              "      <script>\n",
              "        const buttonEl =\n",
              "          document.querySelector('#df-693ca231-9827-44a1-a025-4583eb605745 button.colab-df-convert');\n",
              "        buttonEl.style.display =\n",
              "          google.colab.kernel.accessAllowed ? 'block' : 'none';\n",
              "\n",
              "        async function convertToInteractive(key) {\n",
              "          const element = document.querySelector('#df-693ca231-9827-44a1-a025-4583eb605745');\n",
              "          const dataTable =\n",
              "            await google.colab.kernel.invokeFunction('convertToInteractive',\n",
              "                                                     [key], {});\n",
              "          if (!dataTable) return;\n",
              "\n",
              "          const docLinkHtml = 'Like what you see? Visit the ' +\n",
              "            '<a target=\"_blank\" href=https://colab.research.google.com/notebooks/data_table.ipynb>data table notebook</a>'\n",
              "            + ' to learn more about interactive tables.';\n",
              "          element.innerHTML = '';\n",
              "          dataTable['output_type'] = 'display_data';\n",
              "          await google.colab.output.renderOutput(dataTable, element);\n",
              "          const docLink = document.createElement('div');\n",
              "          docLink.innerHTML = docLinkHtml;\n",
              "          element.appendChild(docLink);\n",
              "        }\n",
              "      </script>\n",
              "    </div>\n",
              "  </div>\n",
              "  "
            ]
          },
          "metadata": {},
          "execution_count": 66
        }
      ]
    },
    {
      "cell_type": "code",
      "source": [
        "sns.heatmap(data=df.corr(), annot=True, cmap='YlGnBu')\n",
        "plt.show()"
      ],
      "metadata": {
        "id": "a6wccNP3xv5k",
        "outputId": "da0fad27-c4ab-4aa0-d450-087e0c13b29b",
        "colab": {
          "base_uri": "https://localhost:8080/",
          "height": 489
        }
      },
      "execution_count": null,
      "outputs": [
        {
          "output_type": "display_data",
          "data": {
            "text/plain": [
              "<Figure size 921.6x576 with 2 Axes>"
            ],
            "image/png": "[encoded data removed]"
          },
          "metadata": {}
        }
      ]
    },
    {
      "cell_type": "markdown",
      "source": [
        "--------\n",
        "Average use by hour for individual meters."
      ],
      "metadata": {
        "id": "RSOS58YXqCph"
      }
    },
    {
      "cell_type": "code",
      "metadata": {
        "id": "or6OLEdyo8gT"
      },
      "source": [
        "df.head()"
      ],
      "execution_count": null,
      "outputs": []
    },
    {
      "cell_type": "code",
      "source": [
        "df['HOUR'] = df.index.hour\n",
        "df.head()"
      ],
      "metadata": {
        "id": "JX-oAJUmqFYB"
      },
      "execution_count": null,
      "outputs": []
    },
    {
      "cell_type": "code",
      "source": [
        "tmp = df.groupby(['meter','HOUR'])['kwh'].mean()\n",
        "tmp"
      ],
      "metadata": {
        "id": "oOc4U4yRqjqD"
      },
      "execution_count": null,
      "outputs": []
    },
    {
      "cell_type": "code",
      "source": [
        "tmp = tmp.reset_index()\n",
        "tmp"
      ],
      "metadata": {
        "id": "7D-1mCu1r-hI"
      },
      "execution_count": null,
      "outputs": []
    },
    {
      "cell_type": "code",
      "source": [
        "sns.lineplot(data=tmp, x=\"HOUR\", y=\"kwh\")"
      ],
      "metadata": {
        "id": "qUmr3NPdsXwG"
      },
      "execution_count": null,
      "outputs": []
    },
    {
      "cell_type": "code",
      "source": [
        "sns.lineplot(data=tmp, x=\"HOUR\", y=\"kwh\", hue=\"meter\")"
      ],
      "metadata": {
        "id": "84vhieVHqJDW"
      },
      "execution_count": null,
      "outputs": []
    },
    {
      "cell_type": "code",
      "source": [
        "tmp[tmp['meter']==32]"
      ],
      "metadata": {
        "id": "qT89AHjErFwH"
      },
      "execution_count": null,
      "outputs": []
    },
    {
      "cell_type": "code",
      "source": [],
      "metadata": {
        "id": "IJAFULfxtJxI"
      },
      "execution_count": null,
      "outputs": []
    }
  ]
}